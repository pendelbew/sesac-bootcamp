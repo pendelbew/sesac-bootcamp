{
 "cells": [
  {
   "cell_type": "code",
   "execution_count": 1,
   "id": "50f8bc3c-cd88-4a8c-8d6f-58a7d49e7df1",
   "metadata": {},
   "outputs": [],
   "source": [
    "import pandas as pd"
   ]
  },
  {
   "cell_type": "code",
   "execution_count": 2,
   "id": "90e383f2-2257-41b4-90fd-6831307f9ee3",
   "metadata": {},
   "outputs": [],
   "source": [
    "data = pd.read_csv('DGA_예선_학습데이터.csv')"
   ]
  },
  {
   "cell_type": "code",
   "execution_count": 3,
   "id": "29e5cce9-67d8-4638-88d4-74e211d11efc",
   "metadata": {},
   "outputs": [
    {
     "data": {
      "text/html": [
       "<div>\n",
       "<style scoped>\n",
       "    .dataframe tbody tr th:only-of-type {\n",
       "        vertical-align: middle;\n",
       "    }\n",
       "\n",
       "    .dataframe tbody tr th {\n",
       "        vertical-align: top;\n",
       "    }\n",
       "\n",
       "    .dataframe thead th {\n",
       "        text-align: right;\n",
       "    }\n",
       "</style>\n",
       "<table border=\"1\" class=\"dataframe\">\n",
       "  <thead>\n",
       "    <tr style=\"text-align: right;\">\n",
       "      <th></th>\n",
       "      <th>domain</th>\n",
       "      <th>dga</th>\n",
       "      <th>class</th>\n",
       "    </tr>\n",
       "  </thead>\n",
       "  <tbody>\n",
       "    <tr>\n",
       "      <th>0</th>\n",
       "      <td>vsviqe.com</td>\n",
       "      <td>yes</td>\n",
       "      <td>19</td>\n",
       "    </tr>\n",
       "    <tr>\n",
       "      <th>1</th>\n",
       "      <td>170qknj1onn4c37qf1w71rzei1h.org</td>\n",
       "      <td>yes</td>\n",
       "      <td>6</td>\n",
       "    </tr>\n",
       "    <tr>\n",
       "      <th>2</th>\n",
       "      <td>smartidpro.in</td>\n",
       "      <td>no</td>\n",
       "      <td>0</td>\n",
       "    </tr>\n",
       "    <tr>\n",
       "      <th>3</th>\n",
       "      <td>9mtrkmet8rjnpya4.ru</td>\n",
       "      <td>yes</td>\n",
       "      <td>2</td>\n",
       "    </tr>\n",
       "    <tr>\n",
       "      <th>4</th>\n",
       "      <td>ypyxhi.com</td>\n",
       "      <td>yes</td>\n",
       "      <td>19</td>\n",
       "    </tr>\n",
       "    <tr>\n",
       "      <th>...</th>\n",
       "      <td>...</td>\n",
       "      <td>...</td>\n",
       "      <td>...</td>\n",
       "    </tr>\n",
       "    <tr>\n",
       "      <th>1599995</th>\n",
       "      <td>10zpd8p1ktb8bg1al07c3rfkuqw.net</td>\n",
       "      <td>yes</td>\n",
       "      <td>6</td>\n",
       "    </tr>\n",
       "    <tr>\n",
       "      <th>1599996</th>\n",
       "      <td>acheemprego.com</td>\n",
       "      <td>no</td>\n",
       "      <td>0</td>\n",
       "    </tr>\n",
       "    <tr>\n",
       "      <th>1599997</th>\n",
       "      <td>dtvvqs.com</td>\n",
       "      <td>yes</td>\n",
       "      <td>19</td>\n",
       "    </tr>\n",
       "    <tr>\n",
       "      <th>1599998</th>\n",
       "      <td>qurtpwncfwhjke.pw</td>\n",
       "      <td>yes</td>\n",
       "      <td>7</td>\n",
       "    </tr>\n",
       "    <tr>\n",
       "      <th>1599999</th>\n",
       "      <td>p148e12d7c430db3c04635de27e343c625.ws</td>\n",
       "      <td>yes</td>\n",
       "      <td>5</td>\n",
       "    </tr>\n",
       "  </tbody>\n",
       "</table>\n",
       "<p>1600000 rows × 3 columns</p>\n",
       "</div>"
      ],
      "text/plain": [
       "                                        domain  dga  class\n",
       "0                                   vsviqe.com  yes     19\n",
       "1              170qknj1onn4c37qf1w71rzei1h.org  yes      6\n",
       "2                                smartidpro.in   no      0\n",
       "3                          9mtrkmet8rjnpya4.ru  yes      2\n",
       "4                                   ypyxhi.com  yes     19\n",
       "...                                        ...  ...    ...\n",
       "1599995        10zpd8p1ktb8bg1al07c3rfkuqw.net  yes      6\n",
       "1599996                        acheemprego.com   no      0\n",
       "1599997                             dtvvqs.com  yes     19\n",
       "1599998                      qurtpwncfwhjke.pw  yes      7\n",
       "1599999  p148e12d7c430db3c04635de27e343c625.ws  yes      5\n",
       "\n",
       "[1600000 rows x 3 columns]"
      ]
     },
     "execution_count": 3,
     "metadata": {},
     "output_type": "execute_result"
    }
   ],
   "source": [
    "data"
   ]
  },
  {
   "cell_type": "markdown",
   "id": "c7bc8ef4-e963-44cc-b33c-940ca6e02159",
   "metadata": {},
   "source": [
    "yes: 악성 도메인 no: 정상 도메인\n",
    "1. 도메인의 길이\n",
    "2. 도메인의 첫 글자에 숫자가 포함되거나, 숫자와 영어가 불규칙적으로 번갈아 쓰여 있는 것\n",
    "3. class 마다의 유형"
   ]
  },
  {
   "cell_type": "code",
   "execution_count": 5,
   "id": "9e21a29a-13e2-45b6-a764-aafa696d8250",
   "metadata": {},
   "outputs": [
    {
     "data": {
      "text/plain": [
       "array([19,  6,  0,  2, 10, 11,  3, 16,  8, 13,  5, 18,  9,  7,  4, 17, 14,\n",
       "        1, 15, 12], dtype=int64)"
      ]
     },
     "execution_count": 5,
     "metadata": {},
     "output_type": "execute_result"
    }
   ],
   "source": [
    "data['class'].unique()"
   ]
  },
  {
   "cell_type": "code",
   "execution_count": 9,
   "id": "2aa508b8-75f3-4542-a791-bea01d79ab73",
   "metadata": {},
   "outputs": [],
   "source": [
    "data['a1'] = data['domain'].str.split('.', expand = True)[0]"
   ]
  },
  {
   "cell_type": "code",
   "execution_count": 10,
   "id": "71f132ae-cb94-4264-9f38-7dbc972cdf0f",
   "metadata": {},
   "outputs": [],
   "source": [
    "data['a2'] = data['domain'].str.split('.', expand = True)[1]"
   ]
  },
  {
   "cell_type": "code",
   "execution_count": 31,
   "id": "c5100703-5738-43cd-98e4-d7b67b30cf64",
   "metadata": {},
   "outputs": [
    {
     "data": {
      "text/html": [
       "<div>\n",
       "<style scoped>\n",
       "    .dataframe tbody tr th:only-of-type {\n",
       "        vertical-align: middle;\n",
       "    }\n",
       "\n",
       "    .dataframe tbody tr th {\n",
       "        vertical-align: top;\n",
       "    }\n",
       "\n",
       "    .dataframe thead th {\n",
       "        text-align: right;\n",
       "    }\n",
       "</style>\n",
       "<table border=\"1\" class=\"dataframe\">\n",
       "  <thead>\n",
       "    <tr style=\"text-align: right;\">\n",
       "      <th></th>\n",
       "      <th>domain</th>\n",
       "      <th>dga</th>\n",
       "      <th>class</th>\n",
       "      <th>a1</th>\n",
       "      <th>a2</th>\n",
       "    </tr>\n",
       "  </thead>\n",
       "  <tbody>\n",
       "    <tr>\n",
       "      <th>0</th>\n",
       "      <td>vsviqe.com</td>\n",
       "      <td>yes</td>\n",
       "      <td>19</td>\n",
       "      <td>vsviqe</td>\n",
       "      <td>com</td>\n",
       "    </tr>\n",
       "    <tr>\n",
       "      <th>1</th>\n",
       "      <td>170qknj1onn4c37qf1w71rzei1h.org</td>\n",
       "      <td>yes</td>\n",
       "      <td>6</td>\n",
       "      <td>170qknj1onn4c37qf1w71rzei1h</td>\n",
       "      <td>org</td>\n",
       "    </tr>\n",
       "    <tr>\n",
       "      <th>2</th>\n",
       "      <td>smartidpro.in</td>\n",
       "      <td>no</td>\n",
       "      <td>0</td>\n",
       "      <td>smartidpro</td>\n",
       "      <td>in</td>\n",
       "    </tr>\n",
       "    <tr>\n",
       "      <th>3</th>\n",
       "      <td>9mtrkmet8rjnpya4.ru</td>\n",
       "      <td>yes</td>\n",
       "      <td>2</td>\n",
       "      <td>9mtrkmet8rjnpya4</td>\n",
       "      <td>ru</td>\n",
       "    </tr>\n",
       "    <tr>\n",
       "      <th>4</th>\n",
       "      <td>ypyxhi.com</td>\n",
       "      <td>yes</td>\n",
       "      <td>19</td>\n",
       "      <td>ypyxhi</td>\n",
       "      <td>com</td>\n",
       "    </tr>\n",
       "    <tr>\n",
       "      <th>...</th>\n",
       "      <td>...</td>\n",
       "      <td>...</td>\n",
       "      <td>...</td>\n",
       "      <td>...</td>\n",
       "      <td>...</td>\n",
       "    </tr>\n",
       "    <tr>\n",
       "      <th>1599995</th>\n",
       "      <td>10zpd8p1ktb8bg1al07c3rfkuqw.net</td>\n",
       "      <td>yes</td>\n",
       "      <td>6</td>\n",
       "      <td>10zpd8p1ktb8bg1al07c3rfkuqw</td>\n",
       "      <td>net</td>\n",
       "    </tr>\n",
       "    <tr>\n",
       "      <th>1599996</th>\n",
       "      <td>acheemprego.com</td>\n",
       "      <td>no</td>\n",
       "      <td>0</td>\n",
       "      <td>acheemprego</td>\n",
       "      <td>com</td>\n",
       "    </tr>\n",
       "    <tr>\n",
       "      <th>1599997</th>\n",
       "      <td>dtvvqs.com</td>\n",
       "      <td>yes</td>\n",
       "      <td>19</td>\n",
       "      <td>dtvvqs</td>\n",
       "      <td>com</td>\n",
       "    </tr>\n",
       "    <tr>\n",
       "      <th>1599998</th>\n",
       "      <td>qurtpwncfwhjke.pw</td>\n",
       "      <td>yes</td>\n",
       "      <td>7</td>\n",
       "      <td>qurtpwncfwhjke</td>\n",
       "      <td>pw</td>\n",
       "    </tr>\n",
       "    <tr>\n",
       "      <th>1599999</th>\n",
       "      <td>p148e12d7c430db3c04635de27e343c625.ws</td>\n",
       "      <td>yes</td>\n",
       "      <td>5</td>\n",
       "      <td>p148e12d7c430db3c04635de27e343c625</td>\n",
       "      <td>ws</td>\n",
       "    </tr>\n",
       "  </tbody>\n",
       "</table>\n",
       "<p>1600000 rows × 5 columns</p>\n",
       "</div>"
      ],
      "text/plain": [
       "                                        domain  dga  class  \\\n",
       "0                                   vsviqe.com  yes     19   \n",
       "1              170qknj1onn4c37qf1w71rzei1h.org  yes      6   \n",
       "2                                smartidpro.in   no      0   \n",
       "3                          9mtrkmet8rjnpya4.ru  yes      2   \n",
       "4                                   ypyxhi.com  yes     19   \n",
       "...                                        ...  ...    ...   \n",
       "1599995        10zpd8p1ktb8bg1al07c3rfkuqw.net  yes      6   \n",
       "1599996                        acheemprego.com   no      0   \n",
       "1599997                             dtvvqs.com  yes     19   \n",
       "1599998                      qurtpwncfwhjke.pw  yes      7   \n",
       "1599999  p148e12d7c430db3c04635de27e343c625.ws  yes      5   \n",
       "\n",
       "                                         a1   a2  \n",
       "0                                    vsviqe  com  \n",
       "1               170qknj1onn4c37qf1w71rzei1h  org  \n",
       "2                                smartidpro   in  \n",
       "3                          9mtrkmet8rjnpya4   ru  \n",
       "4                                    ypyxhi  com  \n",
       "...                                     ...  ...  \n",
       "1599995         10zpd8p1ktb8bg1al07c3rfkuqw  net  \n",
       "1599996                         acheemprego  com  \n",
       "1599997                              dtvvqs  com  \n",
       "1599998                      qurtpwncfwhjke   pw  \n",
       "1599999  p148e12d7c430db3c04635de27e343c625   ws  \n",
       "\n",
       "[1600000 rows x 5 columns]"
      ]
     },
     "execution_count": 31,
     "metadata": {},
     "output_type": "execute_result"
    }
   ],
   "source": [
    "data"
   ]
  },
  {
   "cell_type": "code",
   "execution_count": 13,
   "id": "81dc9bac-5a71-4ef8-9dad-d3dcbacf1724",
   "metadata": {},
   "outputs": [
    {
     "data": {
      "text/plain": [
       "dga  a2 \n",
       "no   com    307280\n",
       "     org     33172\n",
       "     net     24328\n",
       "     ru      22209\n",
       "     co      20920\n",
       "             ...  \n",
       "yes  yt        116\n",
       "     pm        113\n",
       "     fr        112\n",
       "     tf        111\n",
       "     uk        100\n",
       "Name: a2, Length: 1521, dtype: int64"
      ]
     },
     "execution_count": 13,
     "metadata": {},
     "output_type": "execute_result"
    }
   ],
   "source": [
    "data.groupby('dga')['a2'].value_counts()"
   ]
  },
  {
   "cell_type": "markdown",
   "id": "617c618f-cef7-445d-b0c0-93dd02930244",
   "metadata": {},
   "source": [
    "a1의 len값의 평균을 구할 수 있나? (평균보다 긴 애들을 뽑아서 yes일 확률을 확인하기)"
   ]
  },
  {
   "cell_type": "code",
   "execution_count": 15,
   "id": "6cd9b06d-4eda-4307-b2dd-ae0593ca6ef8",
   "metadata": {},
   "outputs": [
    {
     "name": "stdout",
     "output_type": "stream",
     "text": [
      "Collecting tld\n",
      "  Downloading tld-0.12.6-py39-none-any.whl (412 kB)\n",
      "Installing collected packages: tld\n",
      "Successfully installed tld-0.12.6\n",
      "Note: you may need to restart the kernel to use updated packages.\n"
     ]
    }
   ],
   "source": [
    "pip install tld"
   ]
  },
  {
   "cell_type": "code",
   "execution_count": 16,
   "id": "6ecf833c-04cd-47b0-a45b-d63dce8677b4",
   "metadata": {},
   "outputs": [],
   "source": [
    "from tld import get_tld"
   ]
  },
  {
   "cell_type": "code",
   "execution_count": 25,
   "id": "9339f98b-56da-4e5c-a366-bc2e725510b6",
   "metadata": {},
   "outputs": [],
   "source": [
    "url = 'http://' + 'abc.co.kr'\n",
    "url1 = 'http://' + 'naver.com'"
   ]
  },
  {
   "cell_type": "code",
   "execution_count": 26,
   "id": "85b7197b-900b-4916-9479-cfa488ee90ad",
   "metadata": {},
   "outputs": [],
   "source": [
    "top = get_tld(url1)"
   ]
  },
  {
   "cell_type": "code",
   "execution_count": 27,
   "id": "1a9dbebe-1a73-4ada-8ceb-d0cad630a226",
   "metadata": {},
   "outputs": [
    {
     "data": {
      "text/plain": [
       "'com'"
      ]
     },
     "execution_count": 27,
     "metadata": {},
     "output_type": "execute_result"
    }
   ],
   "source": [
    "top"
   ]
  },
  {
   "cell_type": "code",
   "execution_count": 32,
   "id": "414ddb33-a119-4d79-bafb-59b997dcc58f",
   "metadata": {
    "tags": []
   },
   "outputs": [
    {
     "ename": "TldDomainNotFound",
     "evalue": "Domain intranet.telefonica didn't match any existing TLD name!",
     "output_type": "error",
     "traceback": [
      "\u001b[1;31m---------------------------------------------------------------------------\u001b[0m",
      "\u001b[1;31mTldDomainNotFound\u001b[0m                         Traceback (most recent call last)",
      "Input \u001b[1;32mIn [32]\u001b[0m, in \u001b[0;36m<cell line: 2>\u001b[1;34m()\u001b[0m\n\u001b[0;32m      2\u001b[0m \u001b[38;5;28;01mfor\u001b[39;00m i \u001b[38;5;129;01min\u001b[39;00m data[\u001b[38;5;124m'\u001b[39m\u001b[38;5;124mdomain\u001b[39m\u001b[38;5;124m'\u001b[39m]:\n\u001b[0;32m      3\u001b[0m     url \u001b[38;5;241m=\u001b[39m \u001b[38;5;124m'\u001b[39m\u001b[38;5;124mhttp://\u001b[39m\u001b[38;5;124m'\u001b[39m \u001b[38;5;241m+\u001b[39m i\n\u001b[1;32m----> 4\u001b[0m     top \u001b[38;5;241m=\u001b[39m \u001b[43mget_tld\u001b[49m\u001b[43m(\u001b[49m\u001b[43murl\u001b[49m\u001b[43m)\u001b[49m\n\u001b[0;32m      5\u001b[0m     \u001b[38;5;28;01mtry\u001b[39;00m:\n\u001b[0;32m      6\u001b[0m         data_list\u001b[38;5;241m.\u001b[39mappend(top)\n",
      "File \u001b[1;32m~\\anaconda3\\lib\\site-packages\\tld\\utils.py:504\u001b[0m, in \u001b[0;36mget_tld\u001b[1;34m(url, fail_silently, as_object, fix_protocol, search_public, search_private, parser_class)\u001b[0m\n\u001b[0;32m    497\u001b[0m \u001b[38;5;28;01mif\u001b[39;00m \u001b[38;5;129;01mnot\u001b[39;00m parser_class:\n\u001b[0;32m    498\u001b[0m     parser_class \u001b[38;5;241m=\u001b[39m (\n\u001b[0;32m    499\u001b[0m         MozillaTLDSourceParser\n\u001b[0;32m    500\u001b[0m         \u001b[38;5;28;01mif\u001b[39;00m search_private\n\u001b[0;32m    501\u001b[0m         \u001b[38;5;28;01melse\u001b[39;00m MozillaPublicOnlyTLDSourceParser\n\u001b[0;32m    502\u001b[0m     )\n\u001b[1;32m--> 504\u001b[0m domain_parts, non_zero_i, parsed_url \u001b[38;5;241m=\u001b[39m \u001b[43mprocess_url\u001b[49m\u001b[43m(\u001b[49m\n\u001b[0;32m    505\u001b[0m \u001b[43m    \u001b[49m\u001b[43murl\u001b[49m\u001b[38;5;241;43m=\u001b[39;49m\u001b[43murl\u001b[49m\u001b[43m,\u001b[49m\n\u001b[0;32m    506\u001b[0m \u001b[43m    \u001b[49m\u001b[43mfail_silently\u001b[49m\u001b[38;5;241;43m=\u001b[39;49m\u001b[43mfail_silently\u001b[49m\u001b[43m,\u001b[49m\n\u001b[0;32m    507\u001b[0m \u001b[43m    \u001b[49m\u001b[43mfix_protocol\u001b[49m\u001b[38;5;241;43m=\u001b[39;49m\u001b[43mfix_protocol\u001b[49m\u001b[43m,\u001b[49m\n\u001b[0;32m    508\u001b[0m \u001b[43m    \u001b[49m\u001b[43msearch_public\u001b[49m\u001b[38;5;241;43m=\u001b[39;49m\u001b[43msearch_public\u001b[49m\u001b[43m,\u001b[49m\n\u001b[0;32m    509\u001b[0m \u001b[43m    \u001b[49m\u001b[43msearch_private\u001b[49m\u001b[38;5;241;43m=\u001b[39;49m\u001b[43msearch_private\u001b[49m\u001b[43m,\u001b[49m\n\u001b[0;32m    510\u001b[0m \u001b[43m    \u001b[49m\u001b[43mparser_class\u001b[49m\u001b[38;5;241;43m=\u001b[39;49m\u001b[43mparser_class\u001b[49m\u001b[43m,\u001b[49m\n\u001b[0;32m    511\u001b[0m \u001b[43m\u001b[49m\u001b[43m)\u001b[49m\n\u001b[0;32m    513\u001b[0m \u001b[38;5;28;01mif\u001b[39;00m domain_parts \u001b[38;5;129;01mis\u001b[39;00m \u001b[38;5;28;01mNone\u001b[39;00m:\n\u001b[0;32m    514\u001b[0m     \u001b[38;5;28;01mreturn\u001b[39;00m \u001b[38;5;28;01mNone\u001b[39;00m\n",
      "File \u001b[1;32m~\\anaconda3\\lib\\site-packages\\tld\\utils.py:381\u001b[0m, in \u001b[0;36mprocess_url\u001b[1;34m(url, fail_silently, fix_protocol, search_public, search_private, parser_class)\u001b[0m\n\u001b[0;32m    379\u001b[0m         \u001b[38;5;28;01mreturn\u001b[39;00m \u001b[38;5;28;01mNone\u001b[39;00m, \u001b[38;5;28;01mNone\u001b[39;00m, parsed_url\n\u001b[0;32m    380\u001b[0m     \u001b[38;5;28;01melse\u001b[39;00m:\n\u001b[1;32m--> 381\u001b[0m         \u001b[38;5;28;01mraise\u001b[39;00m TldDomainNotFound(domain_name\u001b[38;5;241m=\u001b[39mdomain_name)\n\u001b[0;32m    383\u001b[0m \u001b[38;5;28;01mif\u001b[39;00m len_domain_parts \u001b[38;5;241m==\u001b[39m tld_length:\n\u001b[0;32m    384\u001b[0m     non_zero_i \u001b[38;5;241m=\u001b[39m \u001b[38;5;241m-\u001b[39m\u001b[38;5;241m1\u001b[39m  \u001b[38;5;66;03m# hostname = tld\u001b[39;00m\n",
      "\u001b[1;31mTldDomainNotFound\u001b[0m: Domain intranet.telefonica didn't match any existing TLD name!"
     ]
    }
   ],
   "source": [
    "data_list = []\n",
    "for i in data['domain']:\n",
    "    url = 'http://' + i\n",
    "    top = get_tld(url)\n"
   ]
  },
  {
   "cell_type": "code",
   "execution_count": 33,
   "id": "589262b5-0819-40d9-b5dd-3ed92b3b6209",
   "metadata": {},
   "outputs": [],
   "source": [
    "import seaborn as sns"
   ]
  },
  {
   "cell_type": "code",
   "execution_count": 36,
   "id": "d74c307e-3750-4889-8039-29e1c53177c4",
   "metadata": {},
   "outputs": [
    {
     "data": {
      "text/plain": [
       "<AxesSubplot:xlabel='class', ylabel='count'>"
      ]
     },
     "execution_count": 36,
     "metadata": {},
     "output_type": "execute_result"
    },
    {
     "data": {
      "image/png": "[encoded data removed]",
      "text/plain": [
       "<Figure size 432x288 with 1 Axes>"
      ]
     },
     "metadata": {
      "needs_background": "light"
     },
     "output_type": "display_data"
    }
   ],
   "source": [
    "sns.countplot(x='class', data =data)"
   ]
  },
  {
   "cell_type": "code",
   "execution_count": null,
   "id": "112f9d7e-204f-434e-938d-920cb25d78a8",
   "metadata": {},
   "outputs": [],
   "source": [
    "for i in range(0,20):\n",
    "    global()['dga_{}'.format(i)] = dga[dga['class'] == i]"
   ]
  }
 ],
 "metadata": {
  "kernelspec": {
   "display_name": "Python 3 (ipykernel)",
   "language": "python",
   "name": "python3"
  },
  "language_info": {
   "codemirror_mode": {
    "name": "ipython",
    "version": 3
   },
   "file_extension": ".py",
   "mimetype": "text/x-python",
   "name": "python",
   "nbconvert_exporter": "python",
   "pygments_lexer": "ipython3",
   "version": "3.9.12"
  }
 },
 "nbformat": 4,
 "nbformat_minor": 5
}
