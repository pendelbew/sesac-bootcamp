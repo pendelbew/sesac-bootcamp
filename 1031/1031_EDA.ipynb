{
 "cells": [
  {
   "cell_type": "code",
   "execution_count": 2,
   "id": "fe02fad0-3588-4e20-a193-acb0b947aace",
   "metadata": {},
   "outputs": [],
   "source": [
    "import pandas as pds"
   ]
  },
  {
   "cell_type": "code",
   "execution_count": 6,
   "id": "648ec005-6b70-4af0-bac9-82a278a1e124",
   "metadata": {},
   "outputs": [],
   "source": [
    "sales = pds.read_csv('sales.csv')"
   ]
  },
  {
   "cell_type": "code",
   "execution_count": 8,
   "id": "0b06bcc1-bff9-4bf3-87db-a3bf252dde35",
   "metadata": {},
   "outputs": [
    {
     "name": "stdout",
     "output_type": "stream",
     "text": [
      "<class 'pandas.core.frame.DataFrame'>\n",
      "RangeIndex: 2935849 entries, 0 to 2935848\n",
      "Data columns (total 5 columns):\n",
      " #   Column        Dtype  \n",
      "---  ------        -----  \n",
      " 0   date          object \n",
      " 1   shop_id       int64  \n",
      " 2   item_id       int64  \n",
      " 3   item_price    float64\n",
      " 4   item_cnt_day  float64\n",
      "dtypes: float64(2), int64(2), object(1)\n",
      "memory usage: 112.0+ MB\n"
     ]
    }
   ],
   "source": [
    "sales.info()"
   ]
  },
  {
   "cell_type": "code",
   "execution_count": 9,
   "id": "4a103ba4-6c9e-4d52-9e32-3e9688aa657c",
   "metadata": {},
   "outputs": [
    {
     "data": {
      "text/plain": [
       "date            0\n",
       "shop_id         0\n",
       "item_id         0\n",
       "item_price      0\n",
       "item_cnt_day    0\n",
       "dtype: int64"
      ]
     },
     "execution_count": 9,
     "metadata": {},
     "output_type": "execute_result"
    }
   ],
   "source": [
    "sales.isnull().sum()"
   ]
  },
  {
   "cell_type": "code",
   "execution_count": 21,
   "id": "938f7967-0186-4ee7-a8c7-dce3da796795",
   "metadata": {},
   "outputs": [
    {
     "data": {
      "text/plain": [
       "0    02.01.2013\n",
       "Name: date, dtype: object"
      ]
     },
     "execution_count": 21,
     "metadata": {},
     "output_type": "execute_result"
    }
   ],
   "source": [
    "sales['date'].head(1)"
   ]
  },
  {
   "cell_type": "code",
   "execution_count": 19,
   "id": "e6e0b490-a83d-48d4-95b6-2c2da889175a",
   "metadata": {},
   "outputs": [
    {
     "data": {
      "text/plain": [
       "2935848    03.10.2015\n",
       "Name: date, dtype: object"
      ]
     },
     "execution_count": 19,
     "metadata": {},
     "output_type": "execute_result"
    }
   ],
   "source": [
    "sales['date'].tail(1)"
   ]
  },
  {
   "cell_type": "code",
   "execution_count": 40,
   "id": "c3539039-e7af-45fb-a0af-35322899a0d1",
   "metadata": {},
   "outputs": [
    {
     "data": {
      "text/plain": [
       "array(['02.01.2013', '03.01.2013', '05.01.2013', ..., '28.10.2015',\n",
       "       '25.10.2015', '13.10.2015'], dtype=object)"
      ]
     },
     "execution_count": 40,
     "metadata": {},
     "output_type": "execute_result"
    }
   ],
   "source": [
    "sales['date'].unique() # 섞여있다 "
   ]
  },
  {
   "cell_type": "code",
   "execution_count": 42,
   "id": "74db956f-d39a-4e02-ba5d-4148d1f5e252",
   "metadata": {
    "collapsed": true,
    "jupyter": {
     "outputs_hidden": true
    },
    "tags": []
   },
   "outputs": [
    {
     "data": {
      "text/html": [
       "<div>\n",
       "<style scoped>\n",
       "    .dataframe tbody tr th:only-of-type {\n",
       "        vertical-align: middle;\n",
       "    }\n",
       "\n",
       "    .dataframe tbody tr th {\n",
       "        vertical-align: top;\n",
       "    }\n",
       "\n",
       "    .dataframe thead th {\n",
       "        text-align: right;\n",
       "    }\n",
       "</style>\n",
       "<table border=\"1\" class=\"dataframe\">\n",
       "  <thead>\n",
       "    <tr style=\"text-align: right;\">\n",
       "      <th></th>\n",
       "      <th>date</th>\n",
       "      <th>shop_id</th>\n",
       "      <th>item_id</th>\n",
       "      <th>item_price</th>\n",
       "      <th>item_cnt_day</th>\n",
       "      <th>date2</th>\n",
       "    </tr>\n",
       "  </thead>\n",
       "  <tbody>\n",
       "    <tr>\n",
       "      <th>16164</th>\n",
       "      <td>01.01.2013</td>\n",
       "      <td>28</td>\n",
       "      <td>11613</td>\n",
       "      <td>1499.0</td>\n",
       "      <td>1.0</td>\n",
       "      <td>2013-01-01</td>\n",
       "    </tr>\n",
       "    <tr>\n",
       "      <th>101474</th>\n",
       "      <td>01.01.2013</td>\n",
       "      <td>51</td>\n",
       "      <td>10283</td>\n",
       "      <td>667.0</td>\n",
       "      <td>1.0</td>\n",
       "      <td>2013-01-01</td>\n",
       "    </tr>\n",
       "    <tr>\n",
       "      <th>10197</th>\n",
       "      <td>01.01.2013</td>\n",
       "      <td>19</td>\n",
       "      <td>2828</td>\n",
       "      <td>499.0</td>\n",
       "      <td>1.0</td>\n",
       "      <td>2013-01-01</td>\n",
       "    </tr>\n",
       "    <tr>\n",
       "      <th>101457</th>\n",
       "      <td>01.01.2013</td>\n",
       "      <td>51</td>\n",
       "      <td>10390</td>\n",
       "      <td>150.0</td>\n",
       "      <td>1.0</td>\n",
       "      <td>2013-01-01</td>\n",
       "    </tr>\n",
       "    <tr>\n",
       "      <th>101455</th>\n",
       "      <td>01.01.2013</td>\n",
       "      <td>51</td>\n",
       "      <td>10591</td>\n",
       "      <td>110.0</td>\n",
       "      <td>1.0</td>\n",
       "      <td>2013-01-01</td>\n",
       "    </tr>\n",
       "    <tr>\n",
       "      <th>...</th>\n",
       "      <td>...</td>\n",
       "      <td>...</td>\n",
       "      <td>...</td>\n",
       "      <td>...</td>\n",
       "      <td>...</td>\n",
       "      <td>...</td>\n",
       "    </tr>\n",
       "    <tr>\n",
       "      <th>2263531</th>\n",
       "      <td>31.12.2014</td>\n",
       "      <td>10</td>\n",
       "      <td>15784</td>\n",
       "      <td>195.0</td>\n",
       "      <td>1.0</td>\n",
       "      <td>2014-12-31</td>\n",
       "    </tr>\n",
       "    <tr>\n",
       "      <th>2238358</th>\n",
       "      <td>31.12.2014</td>\n",
       "      <td>31</td>\n",
       "      <td>18624</td>\n",
       "      <td>499.0</td>\n",
       "      <td>1.0</td>\n",
       "      <td>2014-12-31</td>\n",
       "    </tr>\n",
       "    <tr>\n",
       "      <th>2238360</th>\n",
       "      <td>31.12.2014</td>\n",
       "      <td>31</td>\n",
       "      <td>18622</td>\n",
       "      <td>169.0</td>\n",
       "      <td>1.0</td>\n",
       "      <td>2014-12-31</td>\n",
       "    </tr>\n",
       "    <tr>\n",
       "      <th>2210313</th>\n",
       "      <td>31.12.2014</td>\n",
       "      <td>59</td>\n",
       "      <td>9412</td>\n",
       "      <td>299.0</td>\n",
       "      <td>1.0</td>\n",
       "      <td>2014-12-31</td>\n",
       "    </tr>\n",
       "    <tr>\n",
       "      <th>2239634</th>\n",
       "      <td>31.12.2014</td>\n",
       "      <td>34</td>\n",
       "      <td>15336</td>\n",
       "      <td>529.0</td>\n",
       "      <td>1.0</td>\n",
       "      <td>2014-12-31</td>\n",
       "    </tr>\n",
       "  </tbody>\n",
       "</table>\n",
       "<p>2935849 rows × 6 columns</p>\n",
       "</div>"
      ],
      "text/plain": [
       "               date  shop_id  item_id  item_price  item_cnt_day      date2\n",
       "16164    01.01.2013       28    11613      1499.0           1.0 2013-01-01\n",
       "101474   01.01.2013       51    10283       667.0           1.0 2013-01-01\n",
       "10197    01.01.2013       19     2828       499.0           1.0 2013-01-01\n",
       "101457   01.01.2013       51    10390       150.0           1.0 2013-01-01\n",
       "101455   01.01.2013       51    10591       110.0           1.0 2013-01-01\n",
       "...             ...      ...      ...         ...           ...        ...\n",
       "2263531  31.12.2014       10    15784       195.0           1.0 2014-12-31\n",
       "2238358  31.12.2014       31    18624       499.0           1.0 2014-12-31\n",
       "2238360  31.12.2014       31    18622       169.0           1.0 2014-12-31\n",
       "2210313  31.12.2014       59     9412       299.0           1.0 2014-12-31\n",
       "2239634  31.12.2014       34    15336       529.0           1.0 2014-12-31\n",
       "\n",
       "[2935849 rows x 6 columns]"
      ]
     },
     "execution_count": 42,
     "metadata": {},
     "output_type": "execute_result"
    }
   ],
   "source": [
    "sales.sort_values('date')"
   ]
  },
  {
   "cell_type": "code",
   "execution_count": 11,
   "id": "63f38922-a609-4be8-9b16-370dbd42e0a6",
   "metadata": {
    "collapsed": true,
    "jupyter": {
     "outputs_hidden": true
    },
    "tags": []
   },
   "outputs": [
    {
     "data": {
      "text/plain": [
       "31    235636\n",
       "25    186104\n",
       "54    143480\n",
       "28    142234\n",
       "57    117428\n",
       "42    109253\n",
       "27    105366\n",
       "6      82663\n",
       "58     71441\n",
       "56     69573\n",
       "46     66321\n",
       "50     65173\n",
       "19     63911\n",
       "15     59511\n",
       "35     58445\n",
       "21     58133\n",
       "7      58076\n",
       "47     56695\n",
       "26     53910\n",
       "18     53227\n",
       "24     53032\n",
       "53     52921\n",
       "16     52734\n",
       "30     50860\n",
       "29     49225\n",
       "38     46013\n",
       "22     45434\n",
       "51     44433\n",
       "52     43502\n",
       "59     42108\n",
       "41     41967\n",
       "37     39638\n",
       "44     39530\n",
       "43     39282\n",
       "4      38242\n",
       "5      38179\n",
       "14     36979\n",
       "45     35891\n",
       "55     34769\n",
       "12     34694\n",
       "2      25991\n",
       "3      25532\n",
       "17     22950\n",
       "48     21612\n",
       "10     21397\n",
       "13     17824\n",
       "49     15849\n",
       "39     13440\n",
       "0       9857\n",
       "32      7947\n",
       "23      6963\n",
       "34      5752\n",
       "1       5678\n",
       "33      5027\n",
       "40      4257\n",
       "9       3751\n",
       "8       3412\n",
       "20      1792\n",
       "11       499\n",
       "36       306\n",
       "Name: shop_id, dtype: int64"
      ]
     },
     "execution_count": 11,
     "metadata": {},
     "output_type": "execute_result"
    }
   ],
   "source": [
    "sales['shop_id'].value_counts()"
   ]
  },
  {
   "cell_type": "code",
   "execution_count": 44,
   "id": "afd18605-ae07-498d-9a8a-c36db2c74e76",
   "metadata": {},
   "outputs": [
    {
     "data": {
      "text/plain": [
       "60"
      ]
     },
     "execution_count": 44,
     "metadata": {},
     "output_type": "execute_result"
    }
   ],
   "source": [
    "len(sales['shop_id'].unique())"
   ]
  },
  {
   "cell_type": "code",
   "execution_count": 12,
   "id": "2be4ad20-53ba-4128-958d-2af3cae489b7",
   "metadata": {
    "collapsed": true,
    "jupyter": {
     "outputs_hidden": true
    },
    "tags": []
   },
   "outputs": [
    {
     "data": {
      "text/plain": [
       "20949    31340\n",
       "5822      9408\n",
       "17717     9067\n",
       "2808      7479\n",
       "4181      6853\n",
       "         ...  \n",
       "579          1\n",
       "19388        1\n",
       "19326        1\n",
       "6992         1\n",
       "7640         1\n",
       "Name: item_id, Length: 21807, dtype: int64"
      ]
     },
     "execution_count": 12,
     "metadata": {},
     "output_type": "execute_result"
    }
   ],
   "source": [
    "sales['item_id'].value_counts()"
   ]
  },
  {
   "cell_type": "code",
   "execution_count": 45,
   "id": "f2aa760b-0e77-47b7-a30d-4bf6b0b5d77e",
   "metadata": {},
   "outputs": [
    {
     "data": {
      "text/plain": [
       "21807"
      ]
     },
     "execution_count": 45,
     "metadata": {},
     "output_type": "execute_result"
    }
   ],
   "source": [
    "len(sales['item_id'].unique())"
   ]
  },
  {
   "cell_type": "code",
   "execution_count": 46,
   "id": "48ee58fe-621d-4685-a4f9-3750be81c760",
   "metadata": {},
   "outputs": [
    {
     "data": {
      "text/plain": [
       "890.8532326979881"
      ]
     },
     "execution_count": 46,
     "metadata": {},
     "output_type": "execute_result"
    }
   ],
   "source": [
    "sales['item_price'].mean()"
   ]
  },
  {
   "cell_type": "code",
   "execution_count": 47,
   "id": "71626a00-0de5-41aa-bd6c-c897fd64a03c",
   "metadata": {},
   "outputs": [
    {
     "data": {
      "text/plain": [
       "399.0"
      ]
     },
     "execution_count": 47,
     "metadata": {},
     "output_type": "execute_result"
    }
   ],
   "source": [
    "sales['item_price'].median()"
   ]
  },
  {
   "cell_type": "code",
   "execution_count": 16,
   "id": "e2516473-f23f-450b-852b-d6118c709d23",
   "metadata": {},
   "outputs": [
    {
     "data": {
      "text/plain": [
       "307980.0"
      ]
     },
     "execution_count": 16,
     "metadata": {},
     "output_type": "execute_result"
    }
   ],
   "source": [
    "sales['item_price'].max()"
   ]
  },
  {
   "cell_type": "code",
   "execution_count": 17,
   "id": "ebb56065-259d-4f18-9205-fb9b6d46790c",
   "metadata": {},
   "outputs": [
    {
     "data": {
      "text/plain": [
       "-1.0"
      ]
     },
     "execution_count": 17,
     "metadata": {},
     "output_type": "execute_result"
    }
   ],
   "source": [
    "sales['item_price'].min()"
   ]
  },
  {
   "cell_type": "code",
   "execution_count": 22,
   "id": "79c838d9-9b82-4899-947d-d29867c9b33e",
   "metadata": {
    "tags": []
   },
   "outputs": [
    {
     "data": {
      "text/html": [
       "<div>\n",
       "<style scoped>\n",
       "    .dataframe tbody tr th:only-of-type {\n",
       "        vertical-align: middle;\n",
       "    }\n",
       "\n",
       "    .dataframe tbody tr th {\n",
       "        vertical-align: top;\n",
       "    }\n",
       "\n",
       "    .dataframe thead th {\n",
       "        text-align: right;\n",
       "    }\n",
       "</style>\n",
       "<table border=\"1\" class=\"dataframe\">\n",
       "  <thead>\n",
       "    <tr style=\"text-align: right;\">\n",
       "      <th></th>\n",
       "      <th>date</th>\n",
       "      <th>shop_id</th>\n",
       "      <th>item_id</th>\n",
       "      <th>item_price</th>\n",
       "      <th>item_cnt_day</th>\n",
       "    </tr>\n",
       "  </thead>\n",
       "  <tbody>\n",
       "    <tr>\n",
       "      <th>484683</th>\n",
       "      <td>15.05.2013</td>\n",
       "      <td>32</td>\n",
       "      <td>2973</td>\n",
       "      <td>-1.0</td>\n",
       "      <td>1.0</td>\n",
       "    </tr>\n",
       "  </tbody>\n",
       "</table>\n",
       "</div>"
      ],
      "text/plain": [
       "              date  shop_id  item_id  item_price  item_cnt_day\n",
       "484683  15.05.2013       32     2973        -1.0           1.0"
      ]
     },
     "execution_count": 22,
     "metadata": {},
     "output_type": "execute_result"
    }
   ],
   "source": [
    "sales[sales['item_price'] == -1.0]"
   ]
  },
  {
   "cell_type": "code",
   "execution_count": 49,
   "id": "30b0d6d9-aefb-4f3d-8c4f-ffcb2235d8e6",
   "metadata": {},
   "outputs": [
    {
     "data": {
      "text/html": [
       "<div>\n",
       "<style scoped>\n",
       "    .dataframe tbody tr th:only-of-type {\n",
       "        vertical-align: middle;\n",
       "    }\n",
       "\n",
       "    .dataframe tbody tr th {\n",
       "        vertical-align: top;\n",
       "    }\n",
       "\n",
       "    .dataframe thead th {\n",
       "        text-align: right;\n",
       "    }\n",
       "</style>\n",
       "<table border=\"1\" class=\"dataframe\">\n",
       "  <thead>\n",
       "    <tr style=\"text-align: right;\">\n",
       "      <th></th>\n",
       "      <th>date</th>\n",
       "      <th>shop_id</th>\n",
       "      <th>item_id</th>\n",
       "      <th>item_price</th>\n",
       "      <th>item_cnt_day</th>\n",
       "      <th>date2</th>\n",
       "    </tr>\n",
       "  </thead>\n",
       "  <tbody>\n",
       "    <tr>\n",
       "      <th>1163158</th>\n",
       "      <td>13.12.2013</td>\n",
       "      <td>12</td>\n",
       "      <td>6066</td>\n",
       "      <td>307980.0</td>\n",
       "      <td>1.0</td>\n",
       "      <td>2013-12-13</td>\n",
       "    </tr>\n",
       "  </tbody>\n",
       "</table>\n",
       "</div>"
      ],
      "text/plain": [
       "               date  shop_id  item_id  item_price  item_cnt_day      date2\n",
       "1163158  13.12.2013       12     6066    307980.0           1.0 2013-12-13"
      ]
     },
     "execution_count": 49,
     "metadata": {},
     "output_type": "execute_result"
    }
   ],
   "source": [
    "sales[sales['item_price'] == sales['item_price'].max()]"
   ]
  },
  {
   "cell_type": "code",
   "execution_count": 52,
   "id": "48d4f534-e869-4f2e-8d77-4a96f9498a55",
   "metadata": {
    "collapsed": true,
    "jupyter": {
     "outputs_hidden": true
    },
    "tags": []
   },
   "outputs": [
    {
     "data": {
      "text/html": [
       "<div>\n",
       "<style scoped>\n",
       "    .dataframe tbody tr th:only-of-type {\n",
       "        vertical-align: middle;\n",
       "    }\n",
       "\n",
       "    .dataframe tbody tr th {\n",
       "        vertical-align: top;\n",
       "    }\n",
       "\n",
       "    .dataframe thead th {\n",
       "        text-align: right;\n",
       "    }\n",
       "</style>\n",
       "<table border=\"1\" class=\"dataframe\">\n",
       "  <thead>\n",
       "    <tr style=\"text-align: right;\">\n",
       "      <th></th>\n",
       "      <th>date</th>\n",
       "      <th>shop_id</th>\n",
       "      <th>item_id</th>\n",
       "      <th>item_price</th>\n",
       "      <th>item_cnt_day</th>\n",
       "      <th>date2</th>\n",
       "    </tr>\n",
       "  </thead>\n",
       "  <tbody>\n",
       "    <tr>\n",
       "      <th>352</th>\n",
       "      <td>15.01.2013</td>\n",
       "      <td>25</td>\n",
       "      <td>2973</td>\n",
       "      <td>2499.00</td>\n",
       "      <td>13.0</td>\n",
       "      <td>2013-01-15</td>\n",
       "    </tr>\n",
       "    <tr>\n",
       "      <th>353</th>\n",
       "      <td>16.01.2013</td>\n",
       "      <td>25</td>\n",
       "      <td>2973</td>\n",
       "      <td>2499.00</td>\n",
       "      <td>5.0</td>\n",
       "      <td>2013-01-16</td>\n",
       "    </tr>\n",
       "    <tr>\n",
       "      <th>354</th>\n",
       "      <td>17.01.2013</td>\n",
       "      <td>25</td>\n",
       "      <td>2973</td>\n",
       "      <td>2499.00</td>\n",
       "      <td>3.0</td>\n",
       "      <td>2013-01-17</td>\n",
       "    </tr>\n",
       "    <tr>\n",
       "      <th>355</th>\n",
       "      <td>18.01.2013</td>\n",
       "      <td>25</td>\n",
       "      <td>2973</td>\n",
       "      <td>2499.00</td>\n",
       "      <td>2.0</td>\n",
       "      <td>2013-01-18</td>\n",
       "    </tr>\n",
       "    <tr>\n",
       "      <th>356</th>\n",
       "      <td>19.01.2013</td>\n",
       "      <td>25</td>\n",
       "      <td>2973</td>\n",
       "      <td>2499.00</td>\n",
       "      <td>3.0</td>\n",
       "      <td>2013-01-19</td>\n",
       "    </tr>\n",
       "    <tr>\n",
       "      <th>...</th>\n",
       "      <td>...</td>\n",
       "      <td>...</td>\n",
       "      <td>...</td>\n",
       "      <td>...</td>\n",
       "      <td>...</td>\n",
       "      <td>...</td>\n",
       "    </tr>\n",
       "    <tr>\n",
       "      <th>1765321</th>\n",
       "      <td>22.06.2014</td>\n",
       "      <td>57</td>\n",
       "      <td>2973</td>\n",
       "      <td>1249.50</td>\n",
       "      <td>1.0</td>\n",
       "      <td>2014-06-22</td>\n",
       "    </tr>\n",
       "    <tr>\n",
       "      <th>1782298</th>\n",
       "      <td>09.06.2014</td>\n",
       "      <td>47</td>\n",
       "      <td>2973</td>\n",
       "      <td>1249.00</td>\n",
       "      <td>1.0</td>\n",
       "      <td>2014-09-06</td>\n",
       "    </tr>\n",
       "    <tr>\n",
       "      <th>1851765</th>\n",
       "      <td>04.07.2014</td>\n",
       "      <td>26</td>\n",
       "      <td>2973</td>\n",
       "      <td>1249.50</td>\n",
       "      <td>1.0</td>\n",
       "      <td>2014-04-07</td>\n",
       "    </tr>\n",
       "    <tr>\n",
       "      <th>1923837</th>\n",
       "      <td>06.08.2014</td>\n",
       "      <td>6</td>\n",
       "      <td>2973</td>\n",
       "      <td>1249.50</td>\n",
       "      <td>1.0</td>\n",
       "      <td>2014-06-08</td>\n",
       "    </tr>\n",
       "    <tr>\n",
       "      <th>2131937</th>\n",
       "      <td>20.11.2014</td>\n",
       "      <td>51</td>\n",
       "      <td>2973</td>\n",
       "      <td>1832.37</td>\n",
       "      <td>1.0</td>\n",
       "      <td>2014-11-20</td>\n",
       "    </tr>\n",
       "  </tbody>\n",
       "</table>\n",
       "<p>780 rows × 6 columns</p>\n",
       "</div>"
      ],
      "text/plain": [
       "               date  shop_id  item_id  item_price  item_cnt_day      date2\n",
       "352      15.01.2013       25     2973     2499.00          13.0 2013-01-15\n",
       "353      16.01.2013       25     2973     2499.00           5.0 2013-01-16\n",
       "354      17.01.2013       25     2973     2499.00           3.0 2013-01-17\n",
       "355      18.01.2013       25     2973     2499.00           2.0 2013-01-18\n",
       "356      19.01.2013       25     2973     2499.00           3.0 2013-01-19\n",
       "...             ...      ...      ...         ...           ...        ...\n",
       "1765321  22.06.2014       57     2973     1249.50           1.0 2014-06-22\n",
       "1782298  09.06.2014       47     2973     1249.00           1.0 2014-09-06\n",
       "1851765  04.07.2014       26     2973     1249.50           1.0 2014-04-07\n",
       "1923837  06.08.2014        6     2973     1249.50           1.0 2014-06-08\n",
       "2131937  20.11.2014       51     2973     1832.37           1.0 2014-11-20\n",
       "\n",
       "[780 rows x 6 columns]"
      ]
     },
     "execution_count": 52,
     "metadata": {},
     "output_type": "execute_result"
    }
   ],
   "source": [
    "sales[sales['item_id'] == 2973]"
   ]
  },
  {
   "cell_type": "code",
   "execution_count": 51,
   "id": "51652d7f-b8c0-45a4-bdb6-2f3232358093",
   "metadata": {},
   "outputs": [
    {
     "data": {
      "text/html": [
       "<div>\n",
       "<style scoped>\n",
       "    .dataframe tbody tr th:only-of-type {\n",
       "        vertical-align: middle;\n",
       "    }\n",
       "\n",
       "    .dataframe tbody tr th {\n",
       "        vertical-align: top;\n",
       "    }\n",
       "\n",
       "    .dataframe thead th {\n",
       "        text-align: right;\n",
       "    }\n",
       "</style>\n",
       "<table border=\"1\" class=\"dataframe\">\n",
       "  <thead>\n",
       "    <tr style=\"text-align: right;\">\n",
       "      <th></th>\n",
       "      <th>date</th>\n",
       "      <th>shop_id</th>\n",
       "      <th>item_id</th>\n",
       "      <th>item_price</th>\n",
       "      <th>item_cnt_day</th>\n",
       "      <th>date2</th>\n",
       "    </tr>\n",
       "  </thead>\n",
       "  <tbody>\n",
       "    <tr>\n",
       "      <th>1163158</th>\n",
       "      <td>13.12.2013</td>\n",
       "      <td>12</td>\n",
       "      <td>6066</td>\n",
       "      <td>307980.0</td>\n",
       "      <td>1.0</td>\n",
       "      <td>2013-12-13</td>\n",
       "    </tr>\n",
       "  </tbody>\n",
       "</table>\n",
       "</div>"
      ],
      "text/plain": [
       "               date  shop_id  item_id  item_price  item_cnt_day      date2\n",
       "1163158  13.12.2013       12     6066    307980.0           1.0 2013-12-13"
      ]
     },
     "execution_count": 51,
     "metadata": {},
     "output_type": "execute_result"
    }
   ],
   "source": [
    "sales[sales['item_id'] == 6066]"
   ]
  },
  {
   "cell_type": "code",
   "execution_count": 35,
   "id": "f8f0460a-9dc0-45b3-b267-6507349e5ecb",
   "metadata": {
    "collapsed": true,
    "jupyter": {
     "outputs_hidden": true
    },
    "tags": []
   },
   "outputs": [
    {
     "data": {
      "text/plain": [
       "item_id  item_price  \n",
       "2973      2499.000000    444\n",
       "          1249.500000    124\n",
       "          1249.000000     96\n",
       "          1901.000000     28\n",
       "          1250.000000     12\n",
       "          2498.500000     12\n",
       "          1562.030000     10\n",
       "          1275.010000      9\n",
       "          2498.750000      6\n",
       "          1275.270000      3\n",
       "          1329.290000      3\n",
       "          1487.610000      3\n",
       "          1837.850000      3\n",
       "          1999.000000      3\n",
       "          1453.000000      2\n",
       "          2498.900000      2\n",
       "         -1.000000         1\n",
       "          1049.000000      1\n",
       "          1248.700000      1\n",
       "          1248.900000      1\n",
       "          1249.100000      1\n",
       "          1297.580000      1\n",
       "          1388.400000      1\n",
       "          1454.120000      1\n",
       "          1523.910000      1\n",
       "          1832.370000      1\n",
       "          1998.400000      1\n",
       "          2248.800000      1\n",
       "          2249.000000      1\n",
       "          2373.950000      1\n",
       "          2427.571429      1\n",
       "          2498.400000      1\n",
       "          2498.700000      1\n",
       "          2498.833333      1\n",
       "          2498.875000      1\n",
       "          2498.916667      1\n",
       "Name: item_price, dtype: int64"
      ]
     },
     "execution_count": 35,
     "metadata": {},
     "output_type": "execute_result"
    }
   ],
   "source": [
    "item_id.groupby('item_id')['item_price'].value_counts()"
   ]
  },
  {
   "cell_type": "code",
   "execution_count": 14,
   "id": "346fa04a-fd38-42f2-b84b-98efeedee8b3",
   "metadata": {
    "collapsed": true,
    "jupyter": {
     "outputs_hidden": true
    },
    "tags": []
   },
   "outputs": [
    {
     "data": {
      "text/plain": [
       "item_id  item_price\n",
       "0        58.0          1\n",
       "1        4490.0        6\n",
       "2        58.0          2\n",
       "3        58.0          1\n",
       "         100.0         1\n",
       "                      ..\n",
       "22167    284.0         1\n",
       "         287.0         1\n",
       "22168    799.0         5\n",
       "         798.5         1\n",
       "22169    4349.0        1\n",
       "Name: item_price, Length: 120216, dtype: int64"
      ]
     },
     "execution_count": 14,
     "metadata": {},
     "output_type": "execute_result"
    }
   ],
   "source": [
    "sales.groupby('item_id')['item_price'].value_counts()"
   ]
  },
  {
   "cell_type": "code",
   "execution_count": 15,
   "id": "ec4d3367-98f6-412b-bdde-eb9ec9a5d9ad",
   "metadata": {},
   "outputs": [
    {
     "data": {
      "text/plain": [
       "1.0       2629372\n",
       "2.0        194201\n",
       "3.0         47350\n",
       "4.0         19685\n",
       "5.0         10474\n",
       "           ...   \n",
       "251.0           1\n",
       "501.0           1\n",
       "112.0           1\n",
       "164.0           1\n",
       "2169.0          1\n",
       "Name: item_cnt_day, Length: 198, dtype: int64"
      ]
     },
     "execution_count": 15,
     "metadata": {},
     "output_type": "execute_result"
    }
   ],
   "source": [
    "sales['item_cnt_day'].value_counts()"
   ]
  },
  {
   "cell_type": "code",
   "execution_count": 53,
   "id": "50ab8287-ec0e-468a-be07-37b55a8be7a7",
   "metadata": {
    "collapsed": true,
    "jupyter": {
     "outputs_hidden": true
    },
    "tags": []
   },
   "outputs": [
    {
     "data": {
      "text/plain": [
       "31    235636\n",
       "25    186104\n",
       "54    143480\n",
       "28    142234\n",
       "57    117428\n",
       "42    109253\n",
       "27    105366\n",
       "6      82663\n",
       "58     71441\n",
       "56     69573\n",
       "46     66321\n",
       "50     65173\n",
       "19     63911\n",
       "15     59511\n",
       "35     58445\n",
       "21     58133\n",
       "7      58076\n",
       "47     56695\n",
       "26     53910\n",
       "18     53227\n",
       "24     53032\n",
       "53     52921\n",
       "16     52734\n",
       "30     50860\n",
       "29     49225\n",
       "38     46013\n",
       "22     45434\n",
       "51     44433\n",
       "52     43502\n",
       "59     42108\n",
       "41     41967\n",
       "37     39638\n",
       "44     39530\n",
       "43     39282\n",
       "4      38242\n",
       "5      38179\n",
       "14     36979\n",
       "45     35891\n",
       "55     34769\n",
       "12     34694\n",
       "2      25991\n",
       "3      25532\n",
       "17     22950\n",
       "48     21612\n",
       "10     21397\n",
       "13     17824\n",
       "49     15849\n",
       "39     13440\n",
       "0       9857\n",
       "32      7947\n",
       "23      6963\n",
       "34      5752\n",
       "1       5678\n",
       "33      5027\n",
       "40      4257\n",
       "9       3751\n",
       "8       3412\n",
       "20      1792\n",
       "11       499\n",
       "36       306\n",
       "Name: shop_id, dtype: int64"
      ]
     },
     "execution_count": 53,
     "metadata": {},
     "output_type": "execute_result"
    }
   ],
   "source": [
    "sales['shop_id'].value_counts()"
   ]
  },
  {
   "cell_type": "code",
   "execution_count": 54,
   "id": "74c59c01-c912-48f2-87a3-cdbebe9983c0",
   "metadata": {},
   "outputs": [
    {
     "data": {
      "text/plain": [
       "20949    31340\n",
       "5822      9408\n",
       "17717     9067\n",
       "2808      7479\n",
       "4181      6853\n",
       "         ...  \n",
       "579          1\n",
       "19388        1\n",
       "19326        1\n",
       "6992         1\n",
       "7640         1\n",
       "Name: item_id, Length: 21807, dtype: int64"
      ]
     },
     "execution_count": 54,
     "metadata": {},
     "output_type": "execute_result"
    }
   ],
   "source": [
    "sales['item_id'].value_counts()"
   ]
  },
  {
   "cell_type": "code",
   "execution_count": 56,
   "id": "74c5f2a7-2a4a-41bc-8b53-bffd16fe3f33",
   "metadata": {},
   "outputs": [
    {
     "data": {
      "text/html": [
       "<div>\n",
       "<style scoped>\n",
       "    .dataframe tbody tr th:only-of-type {\n",
       "        vertical-align: middle;\n",
       "    }\n",
       "\n",
       "    .dataframe tbody tr th {\n",
       "        vertical-align: top;\n",
       "    }\n",
       "\n",
       "    .dataframe thead th {\n",
       "        text-align: right;\n",
       "    }\n",
       "</style>\n",
       "<table border=\"1\" class=\"dataframe\">\n",
       "  <thead>\n",
       "    <tr style=\"text-align: right;\">\n",
       "      <th></th>\n",
       "      <th>date</th>\n",
       "      <th>shop_id</th>\n",
       "      <th>item_id</th>\n",
       "      <th>item_price</th>\n",
       "      <th>item_cnt_day</th>\n",
       "      <th>date2</th>\n",
       "    </tr>\n",
       "  </thead>\n",
       "  <tbody>\n",
       "    <tr>\n",
       "      <th>2909818</th>\n",
       "      <td>28.10.2015</td>\n",
       "      <td>12</td>\n",
       "      <td>11373</td>\n",
       "      <td>0.908714</td>\n",
       "      <td>2169.0</td>\n",
       "      <td>2015-10-28</td>\n",
       "    </tr>\n",
       "  </tbody>\n",
       "</table>\n",
       "</div>"
      ],
      "text/plain": [
       "               date  shop_id  item_id  item_price  item_cnt_day      date2\n",
       "2909818  28.10.2015       12    11373    0.908714        2169.0 2015-10-28"
      ]
     },
     "execution_count": 56,
     "metadata": {},
     "output_type": "execute_result"
    }
   ],
   "source": [
    "sales[sales['item_cnt_day'] == sales['item_cnt_day'].max()]"
   ]
  },
  {
   "cell_type": "code",
   "execution_count": 57,
   "id": "047d94b4-237f-42af-aa9b-4fc90e41e069",
   "metadata": {},
   "outputs": [
    {
     "data": {
      "text/plain": [
       "-22.0"
      ]
     },
     "execution_count": 57,
     "metadata": {},
     "output_type": "execute_result"
    }
   ],
   "source": [
    "sales['item_cnt_day'].min()"
   ]
  },
  {
   "cell_type": "code",
   "execution_count": 59,
   "id": "852edfb7-28ad-460e-930d-ca5cff852cac",
   "metadata": {},
   "outputs": [
    {
     "data": {
      "text/html": [
       "<div>\n",
       "<style scoped>\n",
       "    .dataframe tbody tr th:only-of-type {\n",
       "        vertical-align: middle;\n",
       "    }\n",
       "\n",
       "    .dataframe tbody tr th {\n",
       "        vertical-align: top;\n",
       "    }\n",
       "\n",
       "    .dataframe thead th {\n",
       "        text-align: right;\n",
       "    }\n",
       "</style>\n",
       "<table border=\"1\" class=\"dataframe\">\n",
       "  <thead>\n",
       "    <tr style=\"text-align: right;\">\n",
       "      <th></th>\n",
       "      <th>date</th>\n",
       "      <th>shop_id</th>\n",
       "      <th>item_id</th>\n",
       "      <th>item_price</th>\n",
       "      <th>item_cnt_day</th>\n",
       "      <th>date2</th>\n",
       "    </tr>\n",
       "  </thead>\n",
       "  <tbody>\n",
       "    <tr>\n",
       "      <th>2</th>\n",
       "      <td>05.01.2013</td>\n",
       "      <td>25</td>\n",
       "      <td>2552</td>\n",
       "      <td>899.0</td>\n",
       "      <td>-1.0</td>\n",
       "      <td>2013-05-01</td>\n",
       "    </tr>\n",
       "    <tr>\n",
       "      <th>148</th>\n",
       "      <td>23.01.2013</td>\n",
       "      <td>25</td>\n",
       "      <td>2321</td>\n",
       "      <td>999.0</td>\n",
       "      <td>-1.0</td>\n",
       "      <td>2013-01-23</td>\n",
       "    </tr>\n",
       "    <tr>\n",
       "      <th>175</th>\n",
       "      <td>07.01.2013</td>\n",
       "      <td>25</td>\n",
       "      <td>2199</td>\n",
       "      <td>1449.0</td>\n",
       "      <td>-1.0</td>\n",
       "      <td>2013-07-01</td>\n",
       "    </tr>\n",
       "    <tr>\n",
       "      <th>807</th>\n",
       "      <td>02.01.2013</td>\n",
       "      <td>25</td>\n",
       "      <td>2330</td>\n",
       "      <td>599.0</td>\n",
       "      <td>-1.0</td>\n",
       "      <td>2013-02-01</td>\n",
       "    </tr>\n",
       "    <tr>\n",
       "      <th>1041</th>\n",
       "      <td>13.01.2013</td>\n",
       "      <td>25</td>\n",
       "      <td>5034</td>\n",
       "      <td>1989.0</td>\n",
       "      <td>-1.0</td>\n",
       "      <td>2013-01-13</td>\n",
       "    </tr>\n",
       "    <tr>\n",
       "      <th>...</th>\n",
       "      <td>...</td>\n",
       "      <td>...</td>\n",
       "      <td>...</td>\n",
       "      <td>...</td>\n",
       "      <td>...</td>\n",
       "      <td>...</td>\n",
       "    </tr>\n",
       "    <tr>\n",
       "      <th>2934243</th>\n",
       "      <td>26.10.2015</td>\n",
       "      <td>25</td>\n",
       "      <td>3917</td>\n",
       "      <td>449.0</td>\n",
       "      <td>-1.0</td>\n",
       "      <td>2015-10-26</td>\n",
       "    </tr>\n",
       "    <tr>\n",
       "      <th>2934462</th>\n",
       "      <td>18.10.2015</td>\n",
       "      <td>25</td>\n",
       "      <td>4896</td>\n",
       "      <td>6398.0</td>\n",
       "      <td>-1.0</td>\n",
       "      <td>2015-10-18</td>\n",
       "    </tr>\n",
       "    <tr>\n",
       "      <th>2935263</th>\n",
       "      <td>05.10.2015</td>\n",
       "      <td>25</td>\n",
       "      <td>10039</td>\n",
       "      <td>249.0</td>\n",
       "      <td>-1.0</td>\n",
       "      <td>2015-05-10</td>\n",
       "    </tr>\n",
       "    <tr>\n",
       "      <th>2935643</th>\n",
       "      <td>16.10.2015</td>\n",
       "      <td>25</td>\n",
       "      <td>7893</td>\n",
       "      <td>2990.0</td>\n",
       "      <td>-1.0</td>\n",
       "      <td>2015-10-16</td>\n",
       "    </tr>\n",
       "    <tr>\n",
       "      <th>2935779</th>\n",
       "      <td>07.10.2015</td>\n",
       "      <td>25</td>\n",
       "      <td>7087</td>\n",
       "      <td>999.0</td>\n",
       "      <td>-1.0</td>\n",
       "      <td>2015-07-10</td>\n",
       "    </tr>\n",
       "  </tbody>\n",
       "</table>\n",
       "<p>7356 rows × 6 columns</p>\n",
       "</div>"
      ],
      "text/plain": [
       "               date  shop_id  item_id  item_price  item_cnt_day      date2\n",
       "2        05.01.2013       25     2552       899.0          -1.0 2013-05-01\n",
       "148      23.01.2013       25     2321       999.0          -1.0 2013-01-23\n",
       "175      07.01.2013       25     2199      1449.0          -1.0 2013-07-01\n",
       "807      02.01.2013       25     2330       599.0          -1.0 2013-02-01\n",
       "1041     13.01.2013       25     5034      1989.0          -1.0 2013-01-13\n",
       "...             ...      ...      ...         ...           ...        ...\n",
       "2934243  26.10.2015       25     3917       449.0          -1.0 2015-10-26\n",
       "2934462  18.10.2015       25     4896      6398.0          -1.0 2015-10-18\n",
       "2935263  05.10.2015       25    10039       249.0          -1.0 2015-05-10\n",
       "2935643  16.10.2015       25     7893      2990.0          -1.0 2015-10-16\n",
       "2935779  07.10.2015       25     7087       999.0          -1.0 2015-07-10\n",
       "\n",
       "[7356 rows x 6 columns]"
      ]
     },
     "execution_count": 59,
     "metadata": {},
     "output_type": "execute_result"
    }
   ],
   "source": [
    "sales[sales['item_cnt_day'] < 0]"
   ]
  },
  {
   "cell_type": "code",
   "execution_count": null,
   "id": "befc8373-e26a-44f0-b5df-e791123e0532",
   "metadata": {},
   "outputs": [],
   "source": []
  }
 ],
 "metadata": {
  "kernelspec": {
   "display_name": "Python 3 (ipykernel)",
   "language": "python",
   "name": "python3"
  },
  "language_info": {
   "codemirror_mode": {
    "name": "ipython",
    "version": 3
   },
   "file_extension": ".py",
   "mimetype": "text/x-python",
   "name": "python",
   "nbconvert_exporter": "python",
   "pygments_lexer": "ipython3",
   "version": "3.9.12"
  }
 },
 "nbformat": 4,
 "nbformat_minor": 5
}
