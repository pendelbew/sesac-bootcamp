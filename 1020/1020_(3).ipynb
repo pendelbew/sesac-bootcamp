{
 "cells": [
  {
   "cell_type": "code",
   "execution_count": null,
   "id": "aa21f03d-fd78-4077-84a1-875c3188e094",
   "metadata": {},
   "outputs": [
    {
     "name": "stdout",
     "output_type": "stream",
     "text": [
      "내 차례\n"
     ]
    },
    {
     "name": "stdin",
     "output_type": "stream",
     "text": [
      "부를 숫자의 수를 입력하세요: 1\n"
     ]
    },
    {
     "name": "stdout",
     "output_type": "stream",
     "text": [
      "나의 턴 1\n",
      "컴퓨터 차례\n",
      "컴퓨터의 턴 2\n",
      "컴퓨터의 턴 3\n",
      "컴퓨터의 턴 4\n",
      "내 차례\n"
     ]
    },
    {
     "name": "stdin",
     "output_type": "stream",
     "text": [
      "부를 숫자의 수를 입력하세요: 3\n"
     ]
    },
    {
     "name": "stdout",
     "output_type": "stream",
     "text": [
      "나의 턴 5\n",
      "나의 턴 6\n",
      "나의 턴 7\n",
      "컴퓨터 차례\n",
      "컴퓨터의 턴 8\n",
      "컴퓨터의 턴 9\n",
      "컴퓨터의 턴 10\n",
      "내 차례\n"
     ]
    },
    {
     "name": "stdin",
     "output_type": "stream",
     "text": [
      "부를 숫자의 수를 입력하세요: 2\n"
     ]
    },
    {
     "name": "stdout",
     "output_type": "stream",
     "text": [
      "나의 턴 11\n",
      "나의 턴 12\n",
      "내 차례\n"
     ]
    },
    {
     "name": "stdin",
     "output_type": "stream",
     "text": [
      "부를 숫자의 수를 입력하세요: 1\n"
     ]
    },
    {
     "name": "stdout",
     "output_type": "stream",
     "text": [
      "나의 턴 13\n",
      "컴퓨터 차례\n",
      "컴퓨터의 턴 14\n",
      "컴퓨터의 턴 15\n",
      "컴퓨터 차례\n",
      "컴퓨터의 턴 16\n",
      "내 차례\n"
     ]
    }
   ],
   "source": [
    "import random\n",
    "bas_number = 0\n",
    "seq = random.randrange(0,2)\n",
    "\n",
    "while True:\n",
    "    if seq == 0:\n",
    "        print('컴퓨터 차례')\n",
    "        pc_num = random.randint(1,3)\n",
    "        for _ in range(pc_num):\n",
    "            bas_number += 1\n",
    "            print('컴퓨터의 턴', bas_number)\n",
    "            \n",
    "            seq += 1\n",
    "            seq %= 2\n",
    "            \n",
    "            \n",
    "    elif seq == 1:\n",
    "        print('내 차례')\n",
    "        user_input = int(input('부를 숫자의 수를 입력하세요:'))\n",
    "        for i in range(user_input):\n",
    "            bas_number += 1\n",
    "            print('나의 턴', bas_number)\n",
    "            \n",
    "            seq += 1\n",
    "            seq %= 2\n",
    "            \n",
    "\n",
    "    if bas_number >= 31:\n",
    "        break\n"
   ]
  },
  {
   "cell_type": "code",
   "execution_count": null,
   "id": "9dc53c89-d31d-460a-973c-87830e1a3b7a",
   "metadata": {},
   "outputs": [],
   "source": [
    "# 랜덤으로 숫자 (1~3) 선택해서 출력\n",
    "a = random.randrange(1,4) \n",
    "for i in range(1,a):\n",
    "    print(i)"
   ]
  },
  {
   "cell_type": "code",
   "execution_count": null,
   "id": "7f904619-5d43-42f0-be1d-921a9fcb0896",
   "metadata": {},
   "outputs": [],
   "source": [
    "import random\n",
    "bas_number = 0\n",
    "\n",
    "pc_num = random.randint(1,3)\n",
    "for _ in range(pc_num):\n",
    "    bas_number += 1\n",
    "    print('컴퓨터의 턴', bas_number)"
   ]
  },
  {
   "cell_type": "code",
   "execution_count": null,
   "id": "babb2fd5-38eb-4061-9611-20a0413be7e8",
   "metadata": {},
   "outputs": [],
   "source": []
  },
  {
   "cell_type": "code",
   "execution_count": null,
   "id": "3a8a7b85-3397-4724-8636-09f83b6e4322",
   "metadata": {},
   "outputs": [],
   "source": [
    "# 숫자값을 입력 받기\n",
    "\n",
    "user_input = int(input('부를 숫자의 수를 입력하세요:'))\n",
    "for i in range(user_input):\n",
    "    bas_number += 1\n",
    "    print('내 차례: ', bas_number)\n"
   ]
  },
  {
   "cell_type": "code",
   "execution_count": null,
   "id": "a53fc981-07c2-4154-a0bb-383deab65427",
   "metadata": {},
   "outputs": [],
   "source": [
    "# 4개의 수를 입력할 경우... \n",
    "if len(user_input) > 3:\n",
    "        print('3개 이하의 숫자만 입력해주세요')\n",
    "else:\n",
    "        print(i)"
   ]
  },
  {
   "cell_type": "code",
   "execution_count": null,
   "id": "7aefd354-cf1a-4c27-a725-5d2f7b2cc65f",
   "metadata": {},
   "outputs": [],
   "source": [
    "a1 = random.randrange(1,4)\n",
    "for i in range(1,a):\n",
    "    print(i)"
   ]
  }
 ],
 "metadata": {
  "kernelspec": {
   "display_name": "Python 3 (ipykernel)",
   "language": "python",
   "name": "python3"
  },
  "language_info": {
   "codemirror_mode": {
    "name": "ipython",
    "version": 3
   },
   "file_extension": ".py",
   "mimetype": "text/x-python",
   "name": "python",
   "nbconvert_exporter": "python",
   "pygments_lexer": "ipython3",
   "version": "3.9.12"
  }
 },
 "nbformat": 4,
 "nbformat_minor": 5
}
