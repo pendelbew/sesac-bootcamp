{
 "cells": [
  {
   "cell_type": "code",
   "execution_count": null,
   "id": "e5b19b4d-862a-4a2b-a544-7bfbc1556afc",
   "metadata": {},
   "outputs": [],
   "source": [
    "import random\n",
    "bas_number = 0\n",
    "turn = random.randint(1,2)\n",
    "\n",
    "if turn == 0: \n",
    "    print('후공')\n",
    "    \n",
    "else:\n",
    "    print('선공')\n",
    "    \n"
   ]
  },
  {
   "cell_type": "code",
   "execution_count": null,
   "id": "dd0750ba-d954-4347-b920-2716b8f3af18",
   "metadata": {
    "tags": []
   },
   "outputs": [],
   "source": [
    "import random\n",
    "bas_number = 0\n",
    "turn = random.randint(1,2)\n",
    "\n",
    "if turn == 0: \n",
    "    print('후공')\n",
    "else:\n",
    "    print('선공')\n",
    "\n",
    "\n",
    "while True:\n",
    "    if turn == 0:\n",
    "        pc_num = random.randint(1,3)\n",
    "        for _ in range(pc_num):\n",
    "            bas_number += 1\n",
    "            if bas_number > 31\n",
    "            print('컴퓨터의 턴: ', bas_number)\n",
    "            \n",
    "            turn = 1\n",
    "            \n",
    "        print('---user의 차례---') \n",
    "            \n",
    "    elif turn == 1:\n",
    "        user_input = int(input('숫자의 수를 입력하세요: '))\n",
    "        for i in range(user_input):\n",
    "            bas_number += 1\n",
    "            print('user의 턴', bas_number)\n",
    "            \n",
    "            turn = 0\n",
    "            \n",
    "        print('---컴퓨터의 차례---') \n",
    "                \n",
    "                \n",
    "    if bas_number >= 31:\n",
    "        break\n",
    "        \n",
    "if turn == 0:\n",
    "    print('컴퓨터 승리')\n",
    "else:\n",
    "    print('user 승리')"
   ]
  },
  {
   "cell_type": "code",
   "execution_count": 1,
   "id": "b82c4027-751e-4d18-a3ce-9142abcd0565",
   "metadata": {},
   "outputs": [
    {
     "name": "stdout",
     "output_type": "stream",
     "text": [
      "0\n",
      "후공\n",
      "---컴퓨터의 차례---\n",
      "컴퓨터의 턴:  1\n",
      "---user의 차례---\n"
     ]
    },
    {
     "name": "stdin",
     "output_type": "stream",
     "text": [
      "숫자를 입력하세요:  3\n"
     ]
    },
    {
     "name": "stdout",
     "output_type": "stream",
     "text": [
      "user의 턴 2\n",
      "user의 턴 3\n",
      "user의 턴 4\n",
      "---컴퓨터의 차례---\n",
      "컴퓨터의 턴:  5\n",
      "---user의 차례---\n"
     ]
    },
    {
     "name": "stdin",
     "output_type": "stream",
     "text": [
      "숫자를 입력하세요:  3\n"
     ]
    },
    {
     "name": "stdout",
     "output_type": "stream",
     "text": [
      "user의 턴 6\n",
      "user의 턴 7\n",
      "user의 턴 8\n",
      "---컴퓨터의 차례---\n",
      "컴퓨터의 턴:  9\n",
      "---user의 차례---\n"
     ]
    },
    {
     "name": "stdin",
     "output_type": "stream",
     "text": [
      "숫자를 입력하세요:  3\n"
     ]
    },
    {
     "name": "stdout",
     "output_type": "stream",
     "text": [
      "user의 턴 10\n",
      "user의 턴 11\n",
      "user의 턴 12\n",
      "---컴퓨터의 차례---\n",
      "컴퓨터의 턴:  13\n",
      "컴퓨터의 턴:  14\n",
      "컴퓨터의 턴:  15\n",
      "---user의 차례---\n"
     ]
    },
    {
     "name": "stdin",
     "output_type": "stream",
     "text": [
      "숫자를 입력하세요:  3\n"
     ]
    },
    {
     "name": "stdout",
     "output_type": "stream",
     "text": [
      "user의 턴 16\n",
      "user의 턴 17\n",
      "user의 턴 18\n",
      "---컴퓨터의 차례---\n",
      "컴퓨터의 턴:  19\n",
      "---user의 차례---\n"
     ]
    },
    {
     "name": "stdin",
     "output_type": "stream",
     "text": [
      "숫자를 입력하세요:  3\n"
     ]
    },
    {
     "name": "stdout",
     "output_type": "stream",
     "text": [
      "user의 턴 20\n",
      "user의 턴 21\n",
      "user의 턴 22\n",
      "---컴퓨터의 차례---\n",
      "컴퓨터의 턴:  23\n",
      "컴퓨터의 턴:  24\n",
      "컴퓨터의 턴:  25\n",
      "---user의 차례---\n"
     ]
    },
    {
     "name": "stdin",
     "output_type": "stream",
     "text": [
      "숫자를 입력하세요:  3\n"
     ]
    },
    {
     "name": "stdout",
     "output_type": "stream",
     "text": [
      "user의 턴 26\n",
      "user의 턴 27\n",
      "user의 턴 28\n",
      "---컴퓨터의 차례---\n",
      "컴퓨터의 턴:  29\n",
      "컴퓨터의 턴:  30\n",
      "---user의 차례---\n"
     ]
    },
    {
     "name": "stdin",
     "output_type": "stream",
     "text": [
      "숫자를 입력하세요:  3\n"
     ]
    },
    {
     "name": "stdout",
     "output_type": "stream",
     "text": [
      "user의 턴 31\n",
      "컴퓨터 승리\n"
     ]
    }
   ],
   "source": [
    "import random\n",
    "bas_number = 0\n",
    "turn = random.randint(0,1)\n",
    "print(turn)\n",
    "\n",
    "if turn == 0: \n",
    "    print('후공')\n",
    "else:\n",
    "    print('선공')\n",
    "\n",
    "\n",
    "while True:\n",
    "    if turn == 0:\n",
    "        print('---컴퓨터의 차례---') \n",
    "        pc_num = random.randint(1,3)\n",
    "        for _ in range(pc_num):\n",
    "            bas_number += 1\n",
    "            if bas_number > 31:\n",
    "                break\n",
    "            print('컴퓨터의 턴: ', bas_number)\n",
    "            \n",
    "            turn = 1\n",
    "                        \n",
    "    elif turn == 1:\n",
    "        print('---user의 차례---') \n",
    "        user_input = int(input('숫자를 입력하세요: '))\n",
    "        if user_input >= 4: # 0이 들어가도 오류가 송출되도록 fix 해주는 것이 중요함...! \n",
    "            print('오류')\n",
    "          \n",
    "        else:\n",
    "            for i in range(user_input):\n",
    "                bas_number += 1\n",
    "                if bas_number > 31:\n",
    "                    break\n",
    "                print('user의 턴', bas_number)\n",
    "\n",
    "            turn = 0                \n",
    "                \n",
    "    if bas_number >= 31:\n",
    "        break\n",
    "        \n",
    "if turn == 0:\n",
    "    print('컴퓨터 승리')\n",
    "else:\n",
    "    print('user 승리')"
   ]
  },
  {
   "cell_type": "code",
   "execution_count": 4,
   "id": "e6673832-4f40-4890-9a9d-1ca31520d347",
   "metadata": {},
   "outputs": [
    {
     "name": "stdout",
     "output_type": "stream",
     "text": [
      "순영이와 원우가 좋아하는 랜덤게임~\n",
      "베스킨 라빈스 게임\n",
      "-------\n",
      "원우의 선공\n",
      "---원우의 차례---\n"
     ]
    },
    {
     "name": "stdin",
     "output_type": "stream",
     "text": [
      "숫자의 수를 입력하세요:  3\n"
     ]
    },
    {
     "name": "stdout",
     "output_type": "stream",
     "text": [
      "원우의 턴 1\n",
      "원우의 턴 2\n",
      "원우의 턴 3\n",
      "---순영의 차례---\n",
      "순영의 턴:  4\n",
      "순영의 턴:  5\n",
      "순영의 턴:  6\n",
      "---원우의 차례---\n"
     ]
    },
    {
     "name": "stdin",
     "output_type": "stream",
     "text": [
      "숫자의 수를 입력하세요:  3\n"
     ]
    },
    {
     "name": "stdout",
     "output_type": "stream",
     "text": [
      "원우의 턴 7\n",
      "원우의 턴 8\n",
      "원우의 턴 9\n",
      "---순영의 차례---\n",
      "순영의 턴:  10\n",
      "순영의 턴:  11\n",
      "순영의 턴:  12\n",
      "---원우의 차례---\n"
     ]
    },
    {
     "name": "stdin",
     "output_type": "stream",
     "text": [
      "숫자의 수를 입력하세요:  3\n"
     ]
    },
    {
     "name": "stdout",
     "output_type": "stream",
     "text": [
      "원우의 턴 13\n",
      "원우의 턴 14\n",
      "원우의 턴 15\n",
      "---순영의 차례---\n",
      "순영의 턴:  16\n",
      "---원우의 차례---\n"
     ]
    },
    {
     "name": "stdin",
     "output_type": "stream",
     "text": [
      "숫자의 수를 입력하세요:  3\n"
     ]
    },
    {
     "name": "stdout",
     "output_type": "stream",
     "text": [
      "원우의 턴 17\n",
      "원우의 턴 18\n",
      "원우의 턴 19\n",
      "---순영의 차례---\n",
      "순영의 턴:  20\n",
      "---원우의 차례---\n"
     ]
    },
    {
     "name": "stdin",
     "output_type": "stream",
     "text": [
      "숫자의 수를 입력하세요:  3\n"
     ]
    },
    {
     "name": "stdout",
     "output_type": "stream",
     "text": [
      "원우의 턴 21\n",
      "원우의 턴 22\n",
      "원우의 턴 23\n",
      "---순영의 차례---\n",
      "순영의 턴:  24\n",
      "---원우의 차례---\n"
     ]
    },
    {
     "name": "stdin",
     "output_type": "stream",
     "text": [
      "숫자의 수를 입력하세요:  3\n"
     ]
    },
    {
     "name": "stdout",
     "output_type": "stream",
     "text": [
      "원우의 턴 25\n",
      "원우의 턴 26\n",
      "원우의 턴 27\n",
      "---순영의 차례---\n",
      "순영의 턴:  28\n",
      "---원우의 차례---\n"
     ]
    },
    {
     "name": "stdin",
     "output_type": "stream",
     "text": [
      "숫자의 수를 입력하세요:  2\n"
     ]
    },
    {
     "name": "stdout",
     "output_type": "stream",
     "text": [
      "원우의 턴 29\n",
      "원우의 턴 30\n",
      "---순영의 차례---\n",
      "순영의 턴:  31\n",
      "호시는 저 못 이겨요\n"
     ]
    }
   ],
   "source": [
    "import random\n",
    "\n",
    "print('순영이와 원우가 좋아하는 랜덤게임~')\n",
    "print('베스킨 라빈스 게임')\n",
    "\n",
    "print('-------')\n",
    "bas_number = 0\n",
    "turn = random.randint(0,1)\n",
    "\n",
    "\n",
    "if turn == 0: \n",
    "    print('순영의 선공')\n",
    "else:\n",
    "    print('원우의 선공')\n",
    "\n",
    "\n",
    "while True:\n",
    "    if turn == 0:\n",
    "        print('---순영의 차례---') \n",
    "        pc_num = random.randint(1,3)\n",
    "        for _ in range(pc_num):\n",
    "            bas_number += 1\n",
    "            if bas_number > 31:\n",
    "                break\n",
    "            print('순영의 턴: ', bas_number)\n",
    "            \n",
    "            turn = 1\n",
    "                        \n",
    "    elif turn == 1:\n",
    "        print('---원우의 차례---') \n",
    "        user_input = int(input('숫자의 수를 입력하세요: '))\n",
    "        if user_input >= 4:\n",
    "            print('오류')\n",
    "          \n",
    "        else:\n",
    "            for i in range(user_input):\n",
    "                bas_number += 1\n",
    "                if bas_number > 31:\n",
    "                    break\n",
    "                print('원우의 턴', bas_number)\n",
    "\n",
    "            turn = 0                \n",
    "                \n",
    "    if bas_number >= 31:\n",
    "        break\n",
    "        \n",
    "if turn == 0:\n",
    "    print('순영의 승리')\n",
    "else:\n",
    "    print('호시는 저 못 이겨요')"
   ]
  },
  {
   "cell_type": "code",
   "execution_count": null,
   "id": "70372453-4885-411c-892a-65203d559b2e",
   "metadata": {},
   "outputs": [],
   "source": []
  }
 ],
 "metadata": {
  "kernelspec": {
   "display_name": "Python 3 (ipykernel)",
   "language": "python",
   "name": "python3"
  },
  "language_info": {
   "codemirror_mode": {
    "name": "ipython",
    "version": 3
   },
   "file_extension": ".py",
   "mimetype": "text/x-python",
   "name": "python",
   "nbconvert_exporter": "python",
   "pygments_lexer": "ipython3",
   "version": "3.9.12"
  }
 },
 "nbformat": 4,
 "nbformat_minor": 5
}
