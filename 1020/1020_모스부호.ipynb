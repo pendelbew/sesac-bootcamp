{
 "cells": [
  {
   "cell_type": "code",
   "execution_count": null,
   "id": "c12fbb9d-ff32-488c-9689-2b05823bf92a",
   "metadata": {},
   "outputs": [],
   "source": [
    "#데이터를 복사해서 가져온다\n",
    "\n",
    "a1 = '''A\t.-\tN\t-.\n",
    "B\t-...\tO\t---\n",
    "C\t-.-.\tP\t.--.\n",
    "D\t-..\tQ\t--.-\n",
    "E\t.\tR\t.-.\n",
    "F\t..-.\tS\t...\n",
    "G\t--.\tT\t-\n",
    "H\t....\tU\t..-\n",
    "I\t..\tV\t...-\n",
    "J\t.---\tW\t.--\n",
    "K\t-.-\tX\t-..-\n",
    "L\t.-..\tY\t-.--\n",
    "M\t--\tZ\t--..'''"
   ]
  },
  {
   "cell_type": "code",
   "execution_count": null,
   "id": "1afede98-3cb4-4bf7-b585-f972230af1b7",
   "metadata": {},
   "outputs": [],
   "source": [
    "#split을 사용하여 공백을 없애준다\n",
    "mos_list = a1.split()"
   ]
  },
  {
   "cell_type": "code",
   "execution_count": null,
   "id": "ef541e67-cc11-4e34-84b6-85b2bf494b6c",
   "metadata": {},
   "outputs": [],
   "source": [
    "print(mos_list, end='')"
   ]
  },
  {
   "cell_type": "code",
   "execution_count": null,
   "id": "7c09edfe-355c-4023-b256-0534c7f3527a",
   "metadata": {},
   "outputs": [],
   "source": [
    "mos_list.index('A')"
   ]
  },
  {
   "cell_type": "code",
   "execution_count": null,
   "id": "69f785ea-b351-41e8-8543-c0b7d1804411",
   "metadata": {},
   "outputs": [],
   "source": [
    "alpha = []\n",
    "mos = []\n",
    "\n",
    "for i in mos_list:\n",
    "    if mos_list.index(i) % 2 == 0:\n",
    "        alpha.append(i)\n",
    "    else:\n",
    "        mos.append(i)"
   ]
  },
  {
   "cell_type": "code",
   "execution_count": null,
   "id": "8e8a0811-f916-4503-86af-8e5cec59ce64",
   "metadata": {},
   "outputs": [],
   "source": [
    "print(alpha)"
   ]
  },
  {
   "cell_type": "code",
   "execution_count": null,
   "id": "f7f853d2-ffe1-4433-962d-4484ac5e16af",
   "metadata": {},
   "outputs": [],
   "source": [
    "print(mos)"
   ]
  },
  {
   "cell_type": "code",
   "execution_count": null,
   "id": "d74b2ef3-7033-4803-9e56-a71f3c89107b",
   "metadata": {},
   "outputs": [],
   "source": [
    "print(len(alpha))\n",
    "range(len(alpha))"
   ]
  },
  {
   "cell_type": "code",
   "execution_count": null,
   "id": "01d852fa-3974-4522-b837-68219c3472d4",
   "metadata": {},
   "outputs": [],
   "source": [
    "alpha[0]"
   ]
  },
  {
   "cell_type": "code",
   "execution_count": null,
   "id": "0a853584-90ae-4d32-b61c-10f9604dced9",
   "metadata": {
    "tags": []
   },
   "outputs": [],
   "source": [
    "for i in range(len(alpha)):\n",
    "    print(alpha[i])"
   ]
  },
  {
   "cell_type": "code",
   "execution_count": null,
   "id": "de64e6b3-7b88-4f93-a90b-644d87ff2850",
   "metadata": {
    "tags": []
   },
   "outputs": [],
   "source": [
    "for i in range(len(mos)):\n",
    "    print(mos[i])"
   ]
  },
  {
   "cell_type": "code",
   "execution_count": null,
   "id": "0c2e98c0-05a0-4c63-ba67-fc16092bc246",
   "metadata": {},
   "outputs": [],
   "source": [
    "for i in range(0, len(mos_list), 2) :\n",
    "    key = mos_list[i+1]\n",
    "    value = mos_list[i]\n",
    "    mos_dictionary = {}"
   ]
  },
  {
   "cell_type": "code",
   "execution_count": null,
   "id": "524f9cfa-f123-442c-8189-9ac53b282d30",
   "metadata": {},
   "outputs": [],
   "source": [
    "mos_dict = {}\n",
    "for i in range(len(alpha)): #range(0,26)\n",
    "    mos_dict[mos[i]] = alpha[i]"
   ]
  },
  {
   "cell_type": "code",
   "execution_count": null,
   "id": "0cf6f116-3024-4fbe-9890-cf3bfa49f5f8",
   "metadata": {},
   "outputs": [],
   "source": [
    "mos_dict[''] = ' '"
   ]
  },
  {
   "cell_type": "code",
   "execution_count": null,
   "id": "a1930df6-9d4f-407b-b541-c70aef011bdf",
   "metadata": {},
   "outputs": [],
   "source": [
    "print(mos_dict, end ='')"
   ]
  },
  {
   "cell_type": "code",
   "execution_count": null,
   "id": "4fe4aa92-04bb-4f4e-95df-63f21a1ecee5",
   "metadata": {},
   "outputs": [],
   "source": [
    "sentence = '.... .  ... .-.. . . .--. ...  . .- .-. .-.. -.--'\n",
    "sentence_list = sentence.split(' ')"
   ]
  },
  {
   "cell_type": "code",
   "execution_count": null,
   "id": "e9d4ac73-398e-41c4-8bee-0055ad177395",
   "metadata": {},
   "outputs": [],
   "source": [
    "print(sentence_list)"
   ]
  },
  {
   "cell_type": "code",
   "execution_count": null,
   "id": "78861ce5-5262-4189-8b14-a01734b33485",
   "metadata": {},
   "outputs": [],
   "source": [
    "for i in sentence_list:\n",
    "    print(mos_dict[i], end='')"
   ]
  },
  {
   "cell_type": "markdown",
   "id": "ec747380-ec14-4fd0-8531-9d9211024f56",
   "metadata": {},
   "source": [
    "-------"
   ]
  },
  {
   "cell_type": "code",
   "execution_count": null,
   "id": "5be9cb91-afe4-4216-b27e-5306f36985f2",
   "metadata": {},
   "outputs": [],
   "source": [
    "mos_sentence = input('모스 부호를 입력하세요.')\n",
    "mos_sentence_list = mos_sentence.split(' ')\n",
    "\n",
    "for i in mos_sentence_list:\n",
    "    print(mos_dict[i], end='')"
   ]
  },
  {
   "cell_type": "code",
   "execution_count": null,
   "id": "db894a1b-a8d5-4ef2-9b8c-4c672f93ec16",
   "metadata": {},
   "outputs": [],
   "source": [
    "a1 = '''A\t.-\tN\t-.\n",
    "B\t-...\tO\t---\n",
    "C\t-.-.\tP\t.--.\n",
    "D\t-..\tQ\t--.-\n",
    "E\t.\tR\t.-.\n",
    "F\t..-.\tS\t...\n",
    "G\t--.\tT\t-\n",
    "H\t....\tU\t..-\n",
    "I\t..\tV\t...-\n",
    "J\t.---\tW\t.--\n",
    "K\t-.-\tX\t-..-\n",
    "L\t.-..\tY\t-.--\n",
    "M\t--\tZ\t--..'''\n",
    "\n",
    "mos_list = a1.split()\n",
    "\n",
    "#\n",
    "\n",
    "alpha = []\n",
    "mos = []\n",
    "\n",
    "for i in mos_list:\n",
    "    if mos_list.index(i) % 2 == 0:\n",
    "        alpha.append(i)\n",
    "    else:\n",
    "        mos.append(i)\n",
    "       \n",
    "#\n",
    "\n",
    "mos_dict = {}\n",
    "for i in range(len(alpha)): #range(0,26)\n",
    "    mos_dict[mos[i]] = alpha[i]\n",
    "mos_dict[''] = ' '\n",
    "\n",
    "#\n",
    "mos_sentence = input('모스 부호를 입력하세요.')\n",
    "mos_sentence_list = mos_sentence.split(' ')\n",
    "\n",
    "for i in mos_sentence_list:    \n",
    "    print(mos_dict[i], end='')\n",
    "    \n"
   ]
  },
  {
   "cell_type": "code",
   "execution_count": null,
   "id": "d366c265-ef86-4ac2-b0af-41ea3c4690f9",
   "metadata": {},
   "outputs": [],
   "source": [
    "i in mos_sentence_list"
   ]
  },
  {
   "cell_type": "code",
   "execution_count": null,
   "id": "6c28bcb5-ef13-4efb-b822-a665768ef5c1",
   "metadata": {},
   "outputs": [],
   "source": [
    "a1 = '''A\t.-\tN\t-.\n",
    "B\t-...\tO\t---\n",
    "C\t-.-.\tP\t.--.\n",
    "D\t-..\tQ\t--.-\n",
    "E\t.\tR\t.-.\n",
    "F\t..-.\tS\t...\n",
    "G\t--.\tT\t-\n",
    "H\t....\tU\t..-\n",
    "I\t..\tV\t...-\n",
    "J\t.---\tW\t.--\n",
    "K\t-.-\tX\t-..-\n",
    "L\t.-..\tY\t-.--\n",
    "M\t--\tZ\t--..'''\n",
    "\n",
    "mos_list = a1.split()\n",
    "\n",
    "#\n",
    "\n",
    "alpha = []\n",
    "mos = []\n",
    "\n",
    "for i in mos_list:\n",
    "    if mos_list.index(i) % 2 == 0:\n",
    "        alpha.append(i)\n",
    "    else:\n",
    "        mos.append(i)\n",
    "       \n",
    "#\n",
    "\n",
    "mos_dict = {}\n",
    "for i in range(len(alpha)): #range(0,26)\n",
    "    mos_dict[mos[i]] = alpha[i]\n",
    "mos_dict[''] = ' '\n",
    "\n",
    "#\n",
    "mos_sentence = input('모스 부호를 입력하세요.')\n",
    "mos_sentence_list = mos_sentence.split(' ')\n",
    "    \n",
    "for i in mos_sentence_list:    \n",
    "    print(mos_dict[i], end='')\n",
    "\n",
    "        "
   ]
  },
  {
   "cell_type": "code",
   "execution_count": 21,
   "id": "af42dbcf-f7d3-47e5-8e76-640a686e7334",
   "metadata": {},
   "outputs": [
    {
     "data": {
      "text/plain": [
       "dict_keys(['.-', '-.', '-...', '---', '-.-.', '.--.', '-..', '--.-', '.', '.-.', '..-.', '...', '--.', '-', '....', '..-', '..', '...-', '.---', '.--', '-.-', '-..-', '.-..', '-.--', '--', '--..', ''])"
      ]
     },
     "execution_count": 21,
     "metadata": {},
     "output_type": "execute_result"
    }
   ],
   "source": [
    "mos_dict.keys()"
   ]
  },
  {
   "cell_type": "code",
   "execution_count": 26,
   "id": "885b90bc-9fca-4b38-bcd2-e6f33abb61d3",
   "metadata": {},
   "outputs": [
    {
     "name": "stdin",
     "output_type": "stream",
     "text": [
      "모스 부호를 입력하세요. .... .  ... .-.. . . .--. ...  . .- .-. .-.. -.--\n"
     ]
    },
    {
     "name": "stdout",
     "output_type": "stream",
     "text": [
      "HE SLEEPS EARLY"
     ]
    }
   ],
   "source": [
    "a1 = '''A\t.-\tN\t-.\n",
    "B\t-...\tO\t---\n",
    "C\t-.-.\tP\t.--.\n",
    "D\t-..\tQ\t--.-\n",
    "E\t.\tR\t.-.\n",
    "F\t..-.\tS\t...\n",
    "G\t--.\tT\t-\n",
    "H\t....\tU\t..-\n",
    "I\t..\tV\t...-\n",
    "J\t.---\tW\t.--\n",
    "K\t-.-\tX\t-..-\n",
    "L\t.-..\tY\t-.--\n",
    "M\t--\tZ\t--..'''\n",
    "\n",
    "mos_list = a1.split()\n",
    "\n",
    "#\n",
    "\n",
    "alpha = []\n",
    "mos = []\n",
    "\n",
    "for i in mos_list:\n",
    "    if mos_list.index(i) % 2 == 0:\n",
    "        alpha.append(i)\n",
    "    else:\n",
    "        mos.append(i)\n",
    "       \n",
    "#\n",
    "\n",
    "mos_dict = {}\n",
    "for i in range(len(alpha)): #range(0,26)\n",
    "    mos_dict[mos[i]] = alpha[i]\n",
    "mos_dict[''] = ' '\n",
    "\n",
    "\n",
    "while True:\n",
    "    mos_sentence = input('모스 부호를 입력하세요.')\n",
    "    mos_sentence_list = mos_sentence.split(' ')\n",
    "    \n",
    "    for i in mos_sentence_list:\n",
    "        if i not in mos_dict:\n",
    "            print('입력값을 다시 확인해주세요.')\n",
    "            \n",
    "        else:\n",
    "            print(mos_dict[i], end='')\n",
    "    break"
   ]
  },
  {
   "cell_type": "code",
   "execution_count": 17,
   "id": "260b7ff8-0a86-434a-93e0-abdcd992ce7c",
   "metadata": {},
   "outputs": [
    {
     "name": "stdin",
     "output_type": "stream",
     "text": [
      "모스 부호를 입력하세요. .... .  ... .-.. . . .--. ...  . .- .-. .-.. -.--\n"
     ]
    },
    {
     "name": "stdout",
     "output_type": "stream",
     "text": [
      "['....', '.', '', '...', '.-..', '.', '.', '.--.', '...', '', '.', '.-', '.-.', '.-..', '-.--']\n"
     ]
    }
   ],
   "source": [
    "mos_sentence = input('모스 부호를 입력하세요.')\n",
    "mos_sentence_list = mos_sentence.split(' ')\n",
    "\n",
    "print(mos_sentence_list)"
   ]
  },
  {
   "cell_type": "code",
   "execution_count": 19,
   "id": "63564e1a-5b40-448f-a6ab-197899c330fd",
   "metadata": {},
   "outputs": [
    {
     "data": {
      "text/plain": [
       "False"
      ]
     },
     "execution_count": 19,
     "metadata": {},
     "output_type": "execute_result"
    }
   ],
   "source": [
    "'dkssud' in mos_sentence_list == True"
   ]
  },
  {
   "cell_type": "code",
   "execution_count": null,
   "id": "15629b0e-e4c9-4bf9-b87b-0d29647c9367",
   "metadata": {},
   "outputs": [],
   "source": []
  }
 ],
 "metadata": {
  "kernelspec": {
   "display_name": "Python 3 (ipykernel)",
   "language": "python",
   "name": "python3"
  },
  "language_info": {
   "codemirror_mode": {
    "name": "ipython",
    "version": 3
   },
   "file_extension": ".py",
   "mimetype": "text/x-python",
   "name": "python",
   "nbconvert_exporter": "python",
   "pygments_lexer": "ipython3",
   "version": "3.9.12"
  }
 },
 "nbformat": 4,
 "nbformat_minor": 5
}
