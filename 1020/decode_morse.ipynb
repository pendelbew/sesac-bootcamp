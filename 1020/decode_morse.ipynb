{
 "cells": [
  {
   "cell_type": "code",
   "execution_count": null,
   "id": "1e2523e2-80f1-4d5c-8bd0-5610a8fad8db",
   "metadata": {},
   "outputs": [],
   "source": [
    "a1 = '''A\t.-\tN\t-.\n",
    "B\t-...\tO\t---\n",
    "C\t-.-.\tP\t.--.\n",
    "D\t-..\tQ\t--.-\n",
    "E\t.\tR\t.-.\n",
    "F\t..-.\tS\t...\n",
    "G\t--.\tT\t-\n",
    "H\t....\tU\t..-\n",
    "I\t..\tV\t...-\n",
    "J\t.---\tW\t.--\n",
    "K\t-.-\tX\t-..-\n",
    "L\t.-..\tY\t-.--\n",
    "M\t--\tZ\t--..'''\n",
    "\n",
    "mos_list = a1.split()\n",
    "\n",
    "#\n",
    "\n",
    "alpha = []\n",
    "mos = []\n",
    "\n",
    "for i in mos_list:\n",
    "    if mos_list.index(i) % 2 == 0:\n",
    "        alpha.append(i)\n",
    "    else:\n",
    "        mos.append(i)\n",
    "       \n",
    "#\n",
    "\n",
    "mos_dict = {}\n",
    "for i in range(len(alpha)): #range(0,26)\n",
    "    mos_dict[mos[i]] = alpha[i]\n",
    "mos_dict[''] = ' '\n",
    "\n",
    "#\n",
    "\n",
    "\n",
    "while True:\n",
    "    mos_sentence = input('모스 부호를 입력하세요.')\n",
    "    mos_sentence_list = mos_sentence.split(' ')\n",
    "    \n",
    "    for i in mos_sentence_list:    \n",
    "        if i in mos_sentence_list != True:\n",
    "            print('입력값을 다시 확인해주세요.')\n",
    "            \n",
    "        else:\n",
    "            print(mos_dict[i], end='')\n",
    "                \n",
    "            break"
   ]
  },
  {
   "cell_type": "code",
   "execution_count": null,
   "id": "87e370b6-e99d-4ed1-b9e4-5e4ae26848f4",
   "metadata": {},
   "outputs": [],
   "source": []
  }
 ],
 "metadata": {
  "kernelspec": {
   "display_name": "Python 3 (ipykernel)",
   "language": "python",
   "name": "python3"
  },
  "language_info": {
   "codemirror_mode": {
    "name": "ipython",
    "version": 3
   },
   "file_extension": ".py",
   "mimetype": "text/x-python",
   "name": "python",
   "nbconvert_exporter": "python",
   "pygments_lexer": "ipython3",
   "version": "3.9.12"
  }
 },
 "nbformat": 4,
 "nbformat_minor": 5
}
