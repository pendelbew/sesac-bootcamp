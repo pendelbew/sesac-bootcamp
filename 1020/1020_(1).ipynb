{
 "cells": [
  {
   "cell_type": "markdown",
   "id": "5fccb20a-7af9-4185-8cd5-eaf300f3aebc",
   "metadata": {
    "tags": []
   },
   "source": [
    "# 함수 - 변수"
   ]
  },
  {
   "cell_type": "code",
   "execution_count": null,
   "id": "f70e3491-c323-4601-9f15-93dfe4eb0702",
   "metadata": {},
   "outputs": [],
   "source": [
    "a = 1\n",
    "\n",
    "def test(scope_var) :\n",
    "    scope_var = a + 1\n",
    "    print(scope_var)"
   ]
  },
  {
   "cell_type": "code",
   "execution_count": null,
   "id": "d34f45f4-be1f-4999-9072-86ef2187aa4e",
   "metadata": {},
   "outputs": [],
   "source": [
    "a = 1\n",
    "test(a)"
   ]
  },
  {
   "cell_type": "code",
   "execution_count": null,
   "id": "48c98f06-36ce-4a31-ad37-0ce48ecd3718",
   "metadata": {},
   "outputs": [],
   "source": [
    "scope_var"
   ]
  },
  {
   "cell_type": "code",
   "execution_count": null,
   "id": "5c98c0b6-7757-4806-9b89-7d4d3b238705",
   "metadata": {},
   "outputs": [],
   "source": [
    "# 해당 변수는 함수 안에서만 사용할 수 있는 변수이다"
   ]
  },
  {
   "cell_type": "code",
   "execution_count": null,
   "id": "d142f105-a218-436a-8670-64807bc8d406",
   "metadata": {},
   "outputs": [],
   "source": [
    "def test2(a):\n",
    "    a += 1\n",
    "    print(a)"
   ]
  },
  {
   "cell_type": "code",
   "execution_count": null,
   "id": "87c17fe6-6d2e-40f0-a3a3-915ded80dfc8",
   "metadata": {},
   "outputs": [],
   "source": [
    "a = 1\n",
    "test(1)"
   ]
  },
  {
   "cell_type": "code",
   "execution_count": null,
   "id": "71ae991c-5391-46ec-a418-6ec1ba7b8003",
   "metadata": {},
   "outputs": [],
   "source": [
    "a # 위 행과 함수 테스트 행의 a는 다른 값이다."
   ]
  },
  {
   "cell_type": "code",
   "execution_count": null,
   "id": "cf21dae8-7756-42f7-86cb-25d14cc689b1",
   "metadata": {},
   "outputs": [],
   "source": [
    "def test3():\n",
    "    global a #global은 매개변수가 없어야 오류가 뜨지 않는다. global 변수는 쓰지 않는 것이 좋음. (변수가 가변성을 지니게 됨...?)\n",
    "    a += 1\n",
    "    print(a)"
   ]
  },
  {
   "cell_type": "code",
   "execution_count": null,
   "id": "5a3a4302-51bf-4177-b7de-d5c5e96b49d4",
   "metadata": {},
   "outputs": [],
   "source": [
    "a = 3"
   ]
  },
  {
   "cell_type": "code",
   "execution_count": null,
   "id": "4eb92030-6173-40bf-9079-54c8a9fd1ef6",
   "metadata": {},
   "outputs": [],
   "source": [
    "test3() # 시행할 때마다 값이 변함 "
   ]
  },
  {
   "cell_type": "code",
   "execution_count": null,
   "id": "dc8f7e0e-8b85-461d-8667-d3bba9524bd7",
   "metadata": {},
   "outputs": [],
   "source": [
    "def many_args():\n",
    "    print(args)"
   ]
  },
  {
   "cell_type": "code",
   "execution_count": null,
   "id": "24f2c154-bec2-4ddd-9218-c3369dc879f0",
   "metadata": {},
   "outputs": [],
   "source": [
    "def print_kwargs(**kwargs):\n",
    "    print(kwargs)"
   ]
  },
  {
   "cell_type": "code",
   "execution_count": null,
   "id": "88a34809-9c18-4057-9ada-cc84d6c37e5c",
   "metadata": {},
   "outputs": [],
   "source": [
    "print_kwargs(a=1, b=2) #dict형태로 생성이 됨"
   ]
  },
  {
   "cell_type": "code",
   "execution_count": null,
   "id": "4b46aebb-d446-440b-83a1-e19326e5ee31",
   "metadata": {},
   "outputs": [],
   "source": [
    "print_kwargs(hanju=0, wonkyung=1)"
   ]
  },
  {
   "cell_type": "code",
   "execution_count": null,
   "id": "53c5444a-204b-4a5a-9b97-226c4dbe4538",
   "metadata": {},
   "outputs": [],
   "source": [
    "def print_kwargs1(**kwargs):\n",
    "    print(kwargs)\n",
    "    for key, value in kwargs.items():\n",
    "        print(key, value)"
   ]
  },
  {
   "cell_type": "code",
   "execution_count": null,
   "id": "55952b04-49f7-4e41-9cfa-aed0cf82be7c",
   "metadata": {},
   "outputs": [],
   "source": [
    "print_kwargs1(hanju=0, wonkyung=1)"
   ]
  },
  {
   "cell_type": "code",
   "execution_count": null,
   "id": "8718d9ea-7bd4-44fb-9b46-592341448125",
   "metadata": {},
   "outputs": [],
   "source": [
    "# 딕셔너리의 키는 중복 불가, 변할 수 있는 값은 들어가지 않는다(리스트처럼). 대신 value에는 들어갈 수 있음-리스트"
   ]
  },
  {
   "cell_type": "code",
   "execution_count": null,
   "id": "67ce7c12-2504-4530-b5d3-eae3c675da0b",
   "metadata": {},
   "outputs": [],
   "source": [
    "def test4(a, b, c):\n",
    "    return a+b, a+c #return을 두 개 만들면 안됨! 원하는 값을 두 개 나열하는 방식으로 써야 한다."
   ]
  },
  {
   "cell_type": "code",
   "execution_count": null,
   "id": "01feb843-40ae-46d3-926b-1b99887825db",
   "metadata": {},
   "outputs": [],
   "source": [
    "ret = test4(1, 2, 3)"
   ]
  },
  {
   "cell_type": "code",
   "execution_count": null,
   "id": "65b88feb-5b8b-4cf9-81c9-47afceb446d4",
   "metadata": {},
   "outputs": [],
   "source": [
    "ret"
   ]
  },
  {
   "cell_type": "code",
   "execution_count": null,
   "id": "39cda7e5-e682-4c9d-8b5b-a5326a6acbce",
   "metadata": {},
   "outputs": [],
   "source": [
    "ret1, ret2 = test4(1,2,3)"
   ]
  },
  {
   "cell_type": "code",
   "execution_count": null,
   "id": "44ceecd0-f925-4fa4-9757-75849b68c0e6",
   "metadata": {},
   "outputs": [],
   "source": [
    "ret1"
   ]
  },
  {
   "cell_type": "code",
   "execution_count": null,
   "id": "77904de5-efbf-4920-bd96-f9c5200de305",
   "metadata": {},
   "outputs": [],
   "source": [
    "ret2"
   ]
  },
  {
   "cell_type": "markdown",
   "id": "47c0d3a5-4938-4bea-9665-91e22e783547",
   "metadata": {
    "tags": []
   },
   "source": [
    "# 파일 입출력"
   ]
  },
  {
   "cell_type": "markdown",
   "id": "3ec2abab-1de4-42cc-984b-e47856585ed0",
   "metadata": {},
   "source": [
    "open(filename, mode)\n",
    "\n",
    "- r(read) : 읽음\n",
    "- a(append) : 기존 내용에 추가\n",
    "- w(write) : 새로운 파일"
   ]
  },
  {
   "cell_type": "code",
   "execution_count": null,
   "id": "fd90bace-69c7-47d4-aeaa-7b3fc0b742e5",
   "metadata": {},
   "outputs": [],
   "source": [
    "f = open('1020_sample.txt', 'r')"
   ]
  },
  {
   "cell_type": "code",
   "execution_count": null,
   "id": "ba1bed8d-17a2-4ee7-81c6-1868cbc10487",
   "metadata": {},
   "outputs": [],
   "source": [
    "f"
   ]
  },
  {
   "cell_type": "code",
   "execution_count": null,
   "id": "88a1df52-71fb-45cd-9b63-f895a8cf8ece",
   "metadata": {},
   "outputs": [],
   "source": [
    "f.readline()"
   ]
  },
  {
   "cell_type": "code",
   "execution_count": null,
   "id": "89ada3df-ac4b-484b-9b34-d28108265bcc",
   "metadata": {},
   "outputs": [],
   "source": [
    "f = open('1020_sample.txt', 'r', encoding='utf-8')"
   ]
  },
  {
   "cell_type": "code",
   "execution_count": null,
   "id": "4ecb1f68-86ac-42f4-87eb-290958db9706",
   "metadata": {},
   "outputs": [],
   "source": [
    "f.readline()"
   ]
  },
  {
   "cell_type": "code",
   "execution_count": null,
   "id": "df908d18-e1c7-4f0f-9d28-c6073aca1608",
   "metadata": {},
   "outputs": [],
   "source": [
    "line = f.readline()"
   ]
  },
  {
   "cell_type": "code",
   "execution_count": null,
   "id": "8696bf51-1081-49cb-926f-82b22899070c",
   "metadata": {},
   "outputs": [],
   "source": [
    "f = open('1020_sample.txt', 'r', encoding='utf-8')\n",
    "\n",
    "while True:\n",
    "    line = f.readline()\n",
    "    if line :\n",
    "        print (line)\n",
    "    else :\n",
    "        break #line에 데이터가 있으면 프린트 하고 아니면 멈추기"
   ]
  },
  {
   "cell_type": "code",
   "execution_count": null,
   "id": "8179c05d-9136-4f74-b13c-9aa602206e29",
   "metadata": {},
   "outputs": [],
   "source": [
    "f2 = open('1020_sample1.txt', 'r')"
   ]
  },
  {
   "cell_type": "code",
   "execution_count": null,
   "id": "4dfb1948-e087-4f57-8429-2a1d54df2359",
   "metadata": {},
   "outputs": [],
   "source": [
    "f2.readline()"
   ]
  },
  {
   "cell_type": "code",
   "execution_count": null,
   "id": "07dbd618-2fa0-4613-9d13-32aebcecbed4",
   "metadata": {},
   "outputs": [],
   "source": [
    "data = f2.read()"
   ]
  },
  {
   "cell_type": "code",
   "execution_count": null,
   "id": "254bed2d-1526-48fc-9677-182543f107c8",
   "metadata": {},
   "outputs": [],
   "source": [
    "data #엔터 \\n 가 출력됨, 그냥 변수에 뭐가 들어가 있는지 보는 거 "
   ]
  },
  {
   "cell_type": "code",
   "execution_count": null,
   "id": "9a11a98b-10b0-4844-abe4-e2bce0e2698b",
   "metadata": {},
   "outputs": [],
   "source": [
    "print(data) #엔터가 적용됨, 들어간 것이 <해석>되어서 적용됨"
   ]
  },
  {
   "cell_type": "code",
   "execution_count": null,
   "id": "24344f93-fd41-4efe-a851-2d6117016087",
   "metadata": {},
   "outputs": [],
   "source": [
    "data.split('\\n')"
   ]
  },
  {
   "cell_type": "code",
   "execution_count": null,
   "id": "b6c2a218-c0c4-48cc-8633-af77438e1e4e",
   "metadata": {},
   "outputs": [],
   "source": [
    "# while문에 append 넣어서 리스트 화 하거나 split 사용해서 데이터 분할하는 방법이 있음."
   ]
  },
  {
   "cell_type": "code",
   "execution_count": null,
   "id": "2d5d816d-1657-41f3-b60f-169522005c90",
   "metadata": {},
   "outputs": [],
   "source": [
    "f = open('1020_sample.txt', 'r', encoding='utf-8')\n",
    "l1 = []\n",
    "\n",
    "while True:\n",
    "    line = f.readline()\n",
    "    if line :\n",
    "        l1.append(line)\n",
    "    else :\n",
    "        break #line에 데이터가 있으면 프린트 하고 아니면 멈추기"
   ]
  },
  {
   "cell_type": "code",
   "execution_count": null,
   "id": "2d28ed45-2fa6-4050-99b1-3ece12107745",
   "metadata": {},
   "outputs": [],
   "source": [
    "l1"
   ]
  },
  {
   "cell_type": "code",
   "execution_count": null,
   "id": "4fd00a43-8f43-47af-ae48-4d249fe930fc",
   "metadata": {},
   "outputs": [],
   "source": [
    "f2.close() # 열었던 파일을 닫음."
   ]
  },
  {
   "cell_type": "code",
   "execution_count": null,
   "id": "520ddb15-f79b-450d-88cc-f7cf2aeeb905",
   "metadata": {},
   "outputs": [],
   "source": [
    "f2 = open('1020_sample1.txt', 'r')\n",
    "data = f2.read()\n",
    "print(data)\n",
    "print(data.split('\\n'))\n",
    "f2.close()"
   ]
  },
  {
   "cell_type": "code",
   "execution_count": null,
   "id": "08f26e64-e183-4a16-afd6-f08572864b86",
   "metadata": {},
   "outputs": [],
   "source": [
    "f3 = open('1020_sample2.txt', 'w') #ansi로 인코딩 되어 있음\n",
    "\n",
    "for i in range(1,6) :\n",
    "    data = str(i) + '번째 줄입니다.\\n'\n",
    "    print (data)\n",
    "    f3.write(data)\n",
    "    \n",
    "f3.close()"
   ]
  },
  {
   "cell_type": "code",
   "execution_count": null,
   "id": "5903a6e5-ae8a-49bb-83c0-aa1595a4c681",
   "metadata": {},
   "outputs": [],
   "source": [
    "for i in range(1,6) :\n",
    "    data = str(i) + '번째 줄입니다.\\n'\n",
    "    print (data)"
   ]
  },
  {
   "cell_type": "code",
   "execution_count": null,
   "id": "acbde9fd-33dc-460f-9943-abdf63fc6518",
   "metadata": {},
   "outputs": [],
   "source": [
    "f4 = open('1020_sample2.txt','r')"
   ]
  },
  {
   "cell_type": "code",
   "execution_count": null,
   "id": "2d7b94da-31f0-49fb-9b5f-a6eea89eb066",
   "metadata": {},
   "outputs": [],
   "source": [
    "f4.read()"
   ]
  },
  {
   "cell_type": "code",
   "execution_count": null,
   "id": "1ef2b54f-f334-4ce4-b5bc-3fa5dc4ba41e",
   "metadata": {},
   "outputs": [],
   "source": [
    "f5 = open('1020_sample3.txt', 'w', encoding='utf-8') #ansi로 인코딩 되어 있음\n",
    "\n",
    "for i in range(1,6) :\n",
    "    data = str(i) + '번째 줄입니다.\\n'\n",
    "    print (data)\n",
    "    f5.write(data)\n",
    "    \n",
    "f3.close()"
   ]
  },
  {
   "cell_type": "code",
   "execution_count": null,
   "id": "8b47b910-f8d4-473d-8077-7cc313e7dea3",
   "metadata": {},
   "outputs": [],
   "source": [
    "f6 = open('1020_sample3.txt' ,'r', encoding='utf-8')"
   ]
  },
  {
   "cell_type": "code",
   "execution_count": null,
   "id": "846177db-8f5f-410c-a87f-774687fb913e",
   "metadata": {},
   "outputs": [],
   "source": [
    "f6.read()"
   ]
  },
  {
   "cell_type": "markdown",
   "id": "f8ad0768-faf9-45e1-8f33-4a19a959e36e",
   "metadata": {},
   "source": [
    "### write는 추가가 아니라 replace "
   ]
  },
  {
   "cell_type": "markdown",
   "id": "b240d933-2651-456b-a1dd-3da06207cfa9",
   "metadata": {},
   "source": [
    "f = open('sample.text', 'a', encoding = 'utf-8') 와 같이 'a'를 넣어주어야 추가가 된다. = append"
   ]
  },
  {
   "cell_type": "markdown",
   "id": "b9ce0ecd-e79f-46d2-aaf2-3987d7422806",
   "metadata": {},
   "source": [
    "# Quiz\n",
    "\n",
    "1. 1~100 파일에 작성하세요\n",
    "2. 100~1 파일 뒤에 추가하세요\n",
    "3. 파일의 전체 내용을 출력하세요"
   ]
  },
  {
   "cell_type": "code",
   "execution_count": 7,
   "id": "f3ce410b-ffd2-43f3-9850-e6b330928f41",
   "metadata": {
    "collapsed": true,
    "jupyter": {
     "outputs_hidden": true
    },
    "tags": []
   },
   "outputs": [
    {
     "name": "stdout",
     "output_type": "stream",
     "text": [
      "1\n",
      "\n",
      "2\n",
      "\n",
      "3\n",
      "\n",
      "4\n",
      "\n",
      "5\n",
      "\n",
      "6\n",
      "\n",
      "7\n",
      "\n",
      "8\n",
      "\n",
      "9\n",
      "\n",
      "10\n",
      "\n",
      "11\n",
      "\n",
      "12\n",
      "\n",
      "13\n",
      "\n",
      "14\n",
      "\n",
      "15\n",
      "\n",
      "16\n",
      "\n",
      "17\n",
      "\n",
      "18\n",
      "\n",
      "19\n",
      "\n",
      "20\n",
      "\n",
      "21\n",
      "\n",
      "22\n",
      "\n",
      "23\n",
      "\n",
      "24\n",
      "\n",
      "25\n",
      "\n",
      "26\n",
      "\n",
      "27\n",
      "\n",
      "28\n",
      "\n",
      "29\n",
      "\n",
      "30\n",
      "\n",
      "31\n",
      "\n",
      "32\n",
      "\n",
      "33\n",
      "\n",
      "34\n",
      "\n",
      "35\n",
      "\n",
      "36\n",
      "\n",
      "37\n",
      "\n",
      "38\n",
      "\n",
      "39\n",
      "\n",
      "40\n",
      "\n",
      "41\n",
      "\n",
      "42\n",
      "\n",
      "43\n",
      "\n",
      "44\n",
      "\n",
      "45\n",
      "\n",
      "46\n",
      "\n",
      "47\n",
      "\n",
      "48\n",
      "\n",
      "49\n",
      "\n",
      "50\n",
      "\n",
      "51\n",
      "\n",
      "52\n",
      "\n",
      "53\n",
      "\n",
      "54\n",
      "\n",
      "55\n",
      "\n",
      "56\n",
      "\n",
      "57\n",
      "\n",
      "58\n",
      "\n",
      "59\n",
      "\n",
      "60\n",
      "\n",
      "61\n",
      "\n",
      "62\n",
      "\n",
      "63\n",
      "\n",
      "64\n",
      "\n",
      "65\n",
      "\n",
      "66\n",
      "\n",
      "67\n",
      "\n",
      "68\n",
      "\n",
      "69\n",
      "\n",
      "70\n",
      "\n",
      "71\n",
      "\n",
      "72\n",
      "\n",
      "73\n",
      "\n",
      "74\n",
      "\n",
      "75\n",
      "\n",
      "76\n",
      "\n",
      "77\n",
      "\n",
      "78\n",
      "\n",
      "79\n",
      "\n",
      "80\n",
      "\n",
      "81\n",
      "\n",
      "82\n",
      "\n",
      "83\n",
      "\n",
      "84\n",
      "\n",
      "85\n",
      "\n",
      "86\n",
      "\n",
      "87\n",
      "\n",
      "88\n",
      "\n",
      "89\n",
      "\n",
      "90\n",
      "\n",
      "91\n",
      "\n",
      "92\n",
      "\n",
      "93\n",
      "\n",
      "94\n",
      "\n",
      "95\n",
      "\n",
      "96\n",
      "\n",
      "97\n",
      "\n",
      "98\n",
      "\n",
      "99\n",
      "\n",
      "100\n",
      "\n"
     ]
    }
   ],
   "source": [
    "f_quiz = open('quiz.txt', 'w', encoding='utf-8')\n",
    "              \n",
    "for i in range (1, 101):\n",
    "    quiz_data = str(i) + '\\n'\n",
    "    print (quiz_data)\n",
    "    f_quiz.write(quiz_data)\n",
    "              \n",
    "f_quiz.close()"
   ]
  },
  {
   "cell_type": "code",
   "execution_count": 8,
   "id": "2b0d1ddb-5602-4bc5-9b53-6af3ab51fb52",
   "metadata": {
    "collapsed": true,
    "jupyter": {
     "outputs_hidden": true
    },
    "tags": []
   },
   "outputs": [
    {
     "name": "stdout",
     "output_type": "stream",
     "text": [
      "100\n",
      "\n",
      "99\n",
      "\n",
      "98\n",
      "\n",
      "97\n",
      "\n",
      "96\n",
      "\n",
      "95\n",
      "\n",
      "94\n",
      "\n",
      "93\n",
      "\n",
      "92\n",
      "\n",
      "91\n",
      "\n",
      "90\n",
      "\n",
      "89\n",
      "\n",
      "88\n",
      "\n",
      "87\n",
      "\n",
      "86\n",
      "\n",
      "85\n",
      "\n",
      "84\n",
      "\n",
      "83\n",
      "\n",
      "82\n",
      "\n",
      "81\n",
      "\n",
      "80\n",
      "\n",
      "79\n",
      "\n",
      "78\n",
      "\n",
      "77\n",
      "\n",
      "76\n",
      "\n",
      "75\n",
      "\n",
      "74\n",
      "\n",
      "73\n",
      "\n",
      "72\n",
      "\n",
      "71\n",
      "\n",
      "70\n",
      "\n",
      "69\n",
      "\n",
      "68\n",
      "\n",
      "67\n",
      "\n",
      "66\n",
      "\n",
      "65\n",
      "\n",
      "64\n",
      "\n",
      "63\n",
      "\n",
      "62\n",
      "\n",
      "61\n",
      "\n",
      "60\n",
      "\n",
      "59\n",
      "\n",
      "58\n",
      "\n",
      "57\n",
      "\n",
      "56\n",
      "\n",
      "55\n",
      "\n",
      "54\n",
      "\n",
      "53\n",
      "\n",
      "52\n",
      "\n",
      "51\n",
      "\n",
      "50\n",
      "\n",
      "49\n",
      "\n",
      "48\n",
      "\n",
      "47\n",
      "\n",
      "46\n",
      "\n",
      "45\n",
      "\n",
      "44\n",
      "\n",
      "43\n",
      "\n",
      "42\n",
      "\n",
      "41\n",
      "\n",
      "40\n",
      "\n",
      "39\n",
      "\n",
      "38\n",
      "\n",
      "37\n",
      "\n",
      "36\n",
      "\n",
      "35\n",
      "\n",
      "34\n",
      "\n",
      "33\n",
      "\n",
      "32\n",
      "\n",
      "31\n",
      "\n",
      "30\n",
      "\n",
      "29\n",
      "\n",
      "28\n",
      "\n",
      "27\n",
      "\n",
      "26\n",
      "\n",
      "25\n",
      "\n",
      "24\n",
      "\n",
      "23\n",
      "\n",
      "22\n",
      "\n",
      "21\n",
      "\n",
      "20\n",
      "\n",
      "19\n",
      "\n",
      "18\n",
      "\n",
      "17\n",
      "\n",
      "16\n",
      "\n",
      "15\n",
      "\n",
      "14\n",
      "\n",
      "13\n",
      "\n",
      "12\n",
      "\n",
      "11\n",
      "\n",
      "10\n",
      "\n",
      "9\n",
      "\n",
      "8\n",
      "\n",
      "7\n",
      "\n",
      "6\n",
      "\n",
      "5\n",
      "\n",
      "4\n",
      "\n",
      "3\n",
      "\n",
      "2\n",
      "\n",
      "1\n",
      "\n"
     ]
    }
   ],
   "source": [
    "f_quiz = open('quiz.txt', 'a', encoding='utf-8')\n",
    "              \n",
    "for i in range (100, 0, -1):\n",
    "    quiz_data = str(i) + '\\n'\n",
    "    print (quiz_data)\n",
    "    f_quiz.write(quiz_data)\n",
    "              \n",
    "f_quiz.close()"
   ]
  },
  {
   "cell_type": "code",
   "execution_count": 11,
   "id": "66b05f46-71a9-44eb-994a-9fabe24f163a",
   "metadata": {
    "collapsed": true,
    "jupyter": {
     "outputs_hidden": true
    },
    "tags": []
   },
   "outputs": [
    {
     "name": "stdout",
     "output_type": "stream",
     "text": [
      "1\n",
      "2\n",
      "3\n",
      "4\n",
      "5\n",
      "6\n",
      "7\n",
      "8\n",
      "9\n",
      "10\n",
      "11\n",
      "12\n",
      "13\n",
      "14\n",
      "15\n",
      "16\n",
      "17\n",
      "18\n",
      "19\n",
      "20\n",
      "21\n",
      "22\n",
      "23\n",
      "24\n",
      "25\n",
      "26\n",
      "27\n",
      "28\n",
      "29\n",
      "30\n",
      "31\n",
      "32\n",
      "33\n",
      "34\n",
      "35\n",
      "36\n",
      "37\n",
      "38\n",
      "39\n",
      "40\n",
      "41\n",
      "42\n",
      "43\n",
      "44\n",
      "45\n",
      "46\n",
      "47\n",
      "48\n",
      "49\n",
      "50\n",
      "51\n",
      "52\n",
      "53\n",
      "54\n",
      "55\n",
      "56\n",
      "57\n",
      "58\n",
      "59\n",
      "60\n",
      "61\n",
      "62\n",
      "63\n",
      "64\n",
      "65\n",
      "66\n",
      "67\n",
      "68\n",
      "69\n",
      "70\n",
      "71\n",
      "72\n",
      "73\n",
      "74\n",
      "75\n",
      "76\n",
      "77\n",
      "78\n",
      "79\n",
      "80\n",
      "81\n",
      "82\n",
      "83\n",
      "84\n",
      "85\n",
      "86\n",
      "87\n",
      "88\n",
      "89\n",
      "90\n",
      "91\n",
      "92\n",
      "93\n",
      "94\n",
      "95\n",
      "96\n",
      "97\n",
      "98\n",
      "99\n",
      "100\n",
      "100\n",
      "99\n",
      "98\n",
      "97\n",
      "96\n",
      "95\n",
      "94\n",
      "93\n",
      "92\n",
      "91\n",
      "90\n",
      "89\n",
      "88\n",
      "87\n",
      "86\n",
      "85\n",
      "84\n",
      "83\n",
      "82\n",
      "81\n",
      "80\n",
      "79\n",
      "78\n",
      "77\n",
      "76\n",
      "75\n",
      "74\n",
      "73\n",
      "72\n",
      "71\n",
      "70\n",
      "69\n",
      "68\n",
      "67\n",
      "66\n",
      "65\n",
      "64\n",
      "63\n",
      "62\n",
      "61\n",
      "60\n",
      "59\n",
      "58\n",
      "57\n",
      "56\n",
      "55\n",
      "54\n",
      "53\n",
      "52\n",
      "51\n",
      "50\n",
      "49\n",
      "48\n",
      "47\n",
      "46\n",
      "45\n",
      "44\n",
      "43\n",
      "42\n",
      "41\n",
      "40\n",
      "39\n",
      "38\n",
      "37\n",
      "36\n",
      "35\n",
      "34\n",
      "33\n",
      "32\n",
      "31\n",
      "30\n",
      "29\n",
      "28\n",
      "27\n",
      "26\n",
      "25\n",
      "24\n",
      "23\n",
      "22\n",
      "21\n",
      "20\n",
      "19\n",
      "18\n",
      "17\n",
      "16\n",
      "15\n",
      "14\n",
      "13\n",
      "12\n",
      "11\n",
      "10\n",
      "9\n",
      "8\n",
      "7\n",
      "6\n",
      "5\n",
      "4\n",
      "3\n",
      "2\n",
      "1\n",
      "\n"
     ]
    }
   ],
   "source": [
    "f_quiz = open('quiz.txt', 'r', encoding='utf-8')\n",
    "data = f_quiz.read()\n",
    "print(data)\n",
    "\n",
    "f_quiz.close()"
   ]
  },
  {
   "cell_type": "markdown",
   "id": "8ed404b6-a734-4dce-83dd-05692ea9d80f",
   "metadata": {},
   "source": [
    "f = open('quiz.txt', 'w', encoding='utf-8')\n",
    "              \n",
    "for i in range (1, 101):\n",
    "    f_quiz.write(str(i) + '\\n')\n",
    "              \n",
    "f_quiz.close()"
   ]
  },
  {
   "cell_type": "markdown",
   "id": "25ce99fe-66cf-4f4d-82ac-4a793527cf8e",
   "metadata": {},
   "source": [
    "f1 = open('quiz.txt', 'w', encoding='utf-8')\n",
    "              \n",
    "for i in range (100, 0, -1):\n",
    "    f1.write(str(i) + '\\n')\n",
    "              \n",
    "f1.close()"
   ]
  }
 ],
 "metadata": {
  "kernelspec": {
   "display_name": "Python 3 (ipykernel)",
   "language": "python",
   "name": "python3"
  },
  "language_info": {
   "codemirror_mode": {
    "name": "ipython",
    "version": 3
   },
   "file_extension": ".py",
   "mimetype": "text/x-python",
   "name": "python",
   "nbconvert_exporter": "python",
   "pygments_lexer": "ipython3",
   "version": "3.9.12"
  }
 },
 "nbformat": 4,
 "nbformat_minor": 5
}
