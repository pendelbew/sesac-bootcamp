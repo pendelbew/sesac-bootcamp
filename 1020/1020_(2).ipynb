{
 "cells": [
  {
   "cell_type": "markdown",
   "id": "3d7cc346-c4e7-4bb2-a284-8a176ee23057",
   "metadata": {},
   "source": [
    "# 모듈"
   ]
  },
  {
   "cell_type": "code",
   "execution_count": 5,
   "id": "a1c0155b-be8f-40e6-920d-94c013eb5d7a",
   "metadata": {},
   "outputs": [],
   "source": [
    "import mod1 as m"
   ]
  },
  {
   "cell_type": "code",
   "execution_count": 2,
   "id": "bcd238cd-b74a-427d-90cf-a9f7c9a6fe87",
   "metadata": {},
   "outputs": [
    {
     "data": {
      "text/plain": [
       "<module 'mod1' from 'C:\\\\Users\\\\user\\\\Desktop\\\\phyton\\\\mod1.py'>"
      ]
     },
     "execution_count": 2,
     "metadata": {},
     "output_type": "execute_result"
    }
   ],
   "source": [
    "mod1"
   ]
  },
  {
   "cell_type": "code",
   "execution_count": 3,
   "id": "f6b167d5-4eb6-4a84-84d2-9345eb86a320",
   "metadata": {},
   "outputs": [
    {
     "data": {
      "text/plain": [
       "3"
      ]
     },
     "execution_count": 3,
     "metadata": {},
     "output_type": "execute_result"
    }
   ],
   "source": [
    "mod1.add(1,2)"
   ]
  },
  {
   "cell_type": "code",
   "execution_count": 6,
   "id": "e34d65ea-15ee-4568-b9c8-5fd875900358",
   "metadata": {},
   "outputs": [
    {
     "data": {
      "text/plain": [
       "3"
      ]
     },
     "execution_count": 6,
     "metadata": {},
     "output_type": "execute_result"
    }
   ],
   "source": [
    "m.add(1,2)"
   ]
  },
  {
   "cell_type": "code",
   "execution_count": 7,
   "id": "dee8ce14-6d96-47f9-901e-1988729ba842",
   "metadata": {},
   "outputs": [],
   "source": [
    "from mod1 import add"
   ]
  },
  {
   "cell_type": "code",
   "execution_count": 8,
   "id": "fe46d8bf-15b8-43a2-8002-bf0bca442350",
   "metadata": {},
   "outputs": [
    {
     "data": {
      "text/plain": [
       "3"
      ]
     },
     "execution_count": 8,
     "metadata": {},
     "output_type": "execute_result"
    }
   ],
   "source": [
    "add(1,2)"
   ]
  },
  {
   "cell_type": "code",
   "execution_count": 9,
   "id": "616232c5-52ae-4e5d-990d-44d3da5e20f9",
   "metadata": {},
   "outputs": [
    {
     "ename": "NameError",
     "evalue": "name 'sub' is not defined",
     "output_type": "error",
     "traceback": [
      "\u001b[1;31m---------------------------------------------------------------------------\u001b[0m",
      "\u001b[1;31mNameError\u001b[0m                                 Traceback (most recent call last)",
      "Input \u001b[1;32mIn [9]\u001b[0m, in \u001b[0;36m<cell line: 1>\u001b[1;34m()\u001b[0m\n\u001b[1;32m----> 1\u001b[0m \u001b[43msub\u001b[49m(\u001b[38;5;241m2\u001b[39m,\u001b[38;5;241m1\u001b[39m)\n",
      "\u001b[1;31mNameError\u001b[0m: name 'sub' is not defined"
     ]
    }
   ],
   "source": [
    "sub(2,1)"
   ]
  },
  {
   "cell_type": "code",
   "execution_count": 10,
   "id": "a53a20cc-4fb3-42b5-b7de-f3236c7db94b",
   "metadata": {},
   "outputs": [],
   "source": [
    "from mod1 import sub"
   ]
  },
  {
   "cell_type": "code",
   "execution_count": 11,
   "id": "8ace4ab9-afa3-4b5c-9fcd-f2a0a72f0376",
   "metadata": {},
   "outputs": [
    {
     "data": {
      "text/plain": [
       "1"
      ]
     },
     "execution_count": 11,
     "metadata": {},
     "output_type": "execute_result"
    }
   ],
   "source": [
    "sub(2,1)"
   ]
  },
  {
   "cell_type": "code",
   "execution_count": 12,
   "id": "c388f569-2484-4fb6-aba9-af348651b65a",
   "metadata": {},
   "outputs": [],
   "source": [
    "from mod1 import *"
   ]
  },
  {
   "cell_type": "code",
   "execution_count": 13,
   "id": "29ff6d72-6b74-4be7-8f6b-889940854095",
   "metadata": {},
   "outputs": [],
   "source": [
    "# 함수 이름이 똑같은 경우를 조심하기 위해 구분이 가능하도록 불러오는 것이 좋다. "
   ]
  },
  {
   "cell_type": "code",
   "execution_count": null,
   "id": "bd695e10-0d50-46f8-8cce-d8d311aa9c6e",
   "metadata": {},
   "outputs": [],
   "source": [
    "# global 사용하지 않는 것이 좋음."
   ]
  }
 ],
 "metadata": {
  "kernelspec": {
   "display_name": "Python 3 (ipykernel)",
   "language": "python",
   "name": "python3"
  },
  "language_info": {
   "codemirror_mode": {
    "name": "ipython",
    "version": 3
   },
   "file_extension": ".py",
   "mimetype": "text/x-python",
   "name": "python",
   "nbconvert_exporter": "python",
   "pygments_lexer": "ipython3",
   "version": "3.9.12"
  }
 },
 "nbformat": 4,
 "nbformat_minor": 5
}
