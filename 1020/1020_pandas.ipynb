{
 "cells": [
  {
   "cell_type": "code",
   "execution_count": 2,
   "id": "b7c9a040-d7af-414e-9f6f-213c99ebf803",
   "metadata": {},
   "outputs": [],
   "source": [
    "import pandas as pd"
   ]
  },
  {
   "cell_type": "code",
   "execution_count": null,
   "id": "b9ba8789-b965-428c-8908-85fd2aa3f813",
   "metadata": {},
   "outputs": [],
   "source": [
    "list_str = ['a', 'b', 'c']"
   ]
  },
  {
   "cell_type": "code",
   "execution_count": null,
   "id": "7d83e72a-6509-4664-a4d8-8f1b97ec1219",
   "metadata": {},
   "outputs": [],
   "source": [
    "print(type(list_str))"
   ]
  },
  {
   "cell_type": "code",
   "execution_count": null,
   "id": "a12a5a30-5217-426b-a0fb-425e84212f41",
   "metadata": {},
   "outputs": [],
   "source": [
    "list_str"
   ]
  },
  {
   "cell_type": "code",
   "execution_count": null,
   "id": "fd218d72-d271-498e-8ad2-9d8e69f1c009",
   "metadata": {},
   "outputs": [],
   "source": [
    "series_var = pd.Series(list_str)"
   ]
  },
  {
   "cell_type": "code",
   "execution_count": null,
   "id": "4a7de986-243f-4654-ac37-219e2e97c75f",
   "metadata": {},
   "outputs": [],
   "source": [
    "type(series_var)"
   ]
  },
  {
   "cell_type": "code",
   "execution_count": null,
   "id": "bf5c2eaf-da63-4347-be6b-696bf6d5f6c8",
   "metadata": {},
   "outputs": [],
   "source": [
    "series_var"
   ]
  },
  {
   "cell_type": "code",
   "execution_count": null,
   "id": "17bacad1-11ee-45a6-bf8b-d241464a3095",
   "metadata": {},
   "outputs": [],
   "source": [
    "series_var = pd.Series(list_str, index = [3, 4, 5])"
   ]
  },
  {
   "cell_type": "code",
   "execution_count": null,
   "id": "a57a5152-16ed-4bdf-88ba-fbfe0512b82c",
   "metadata": {},
   "outputs": [],
   "source": [
    "series_var"
   ]
  },
  {
   "cell_type": "code",
   "execution_count": null,
   "id": "e96bee28-a73c-46fc-a31a-fd5c5bbc06e4",
   "metadata": {},
   "outputs": [],
   "source": [
    "# 인덱스를 바꿀 수 있다."
   ]
  },
  {
   "cell_type": "code",
   "execution_count": null,
   "id": "324f1c4d-7c00-4714-9b39-a5313da2e4d5",
   "metadata": {},
   "outputs": [],
   "source": [
    "series_var[3]"
   ]
  },
  {
   "cell_type": "code",
   "execution_count": null,
   "id": "ec47fd04-c6bb-4990-b27b-ee0c0debb872",
   "metadata": {},
   "outputs": [],
   "source": [
    "dic ={'a':3, 'b':4, 'c':5}\n",
    "s_dic = pd.Series(dic)"
   ]
  },
  {
   "cell_type": "code",
   "execution_count": null,
   "id": "86476615-2fe5-4aa6-9a08-a16be2723dec",
   "metadata": {},
   "outputs": [],
   "source": [
    "s_dic #key가 index, 뒤의 값이 value"
   ]
  },
  {
   "cell_type": "code",
   "execution_count": null,
   "id": "a25575b5-bed3-41ac-bb5e-70c998676608",
   "metadata": {},
   "outputs": [],
   "source": [
    "s_dic['a']"
   ]
  },
  {
   "cell_type": "code",
   "execution_count": null,
   "id": "f6930b3d-1d68-40d1-bfb7-5845cc2e1cdf",
   "metadata": {},
   "outputs": [],
   "source": [
    "#가장 작은 단위가 시리즈, 메인은 데이터 프레임 (시리즈가 합쳐진 것)"
   ]
  },
  {
   "cell_type": "code",
   "execution_count": null,
   "id": "2e37bff1-d4d9-4643-98a3-41cfa22d4553",
   "metadata": {},
   "outputs": [],
   "source": [
    "dic_people = {\n",
    "    'name' : ['hanju', 'wonkyung', 'myunghyun', 'hyuno'],\n",
    "    'age' : [46, 53, 29, 34],\n",
    "    'grade' : ['B', 'A', 'A', 'D']\n",
    "}"
   ]
  },
  {
   "cell_type": "code",
   "execution_count": null,
   "id": "45b4185c-6742-4bf9-8d1b-a12a5c60931d",
   "metadata": {},
   "outputs": [],
   "source": [
    "df = pd.DataFrame(dic_people)"
   ]
  },
  {
   "cell_type": "code",
   "execution_count": null,
   "id": "608bae43-0df5-41ff-948b-9fcac5222d28",
   "metadata": {},
   "outputs": [],
   "source": [
    "df"
   ]
  },
  {
   "cell_type": "code",
   "execution_count": null,
   "id": "4843ec99-af41-4e56-a3be-74d5c65963fd",
   "metadata": {},
   "outputs": [],
   "source": [
    "type(df)"
   ]
  },
  {
   "cell_type": "code",
   "execution_count": null,
   "id": "247d92fc-9e54-4611-a976-8ad1ea55a018",
   "metadata": {},
   "outputs": [],
   "source": [
    "df['name']"
   ]
  },
  {
   "cell_type": "code",
   "execution_count": null,
   "id": "8303c6d3-afda-4264-a70e-310046b6b563",
   "metadata": {},
   "outputs": [],
   "source": [
    "type(df['name'])"
   ]
  },
  {
   "cell_type": "code",
   "execution_count": null,
   "id": "cd136e75-759d-4747-91ff-fd6657bfa7d0",
   "metadata": {},
   "outputs": [],
   "source": [
    "df['age']"
   ]
  },
  {
   "cell_type": "code",
   "execution_count": null,
   "id": "8e77aa30-a132-401a-b564-eacc5bf06322",
   "metadata": {},
   "outputs": [],
   "source": [
    "df['grade']"
   ]
  },
  {
   "cell_type": "code",
   "execution_count": null,
   "id": "56fcb4d2-a7fd-45e9-95ec-7cc9442b2152",
   "metadata": {},
   "outputs": [],
   "source": [
    "#문자열 object"
   ]
  },
  {
   "cell_type": "code",
   "execution_count": null,
   "id": "c99f229d-be8b-46b5-8aa9-2d9db828948d",
   "metadata": {},
   "outputs": [],
   "source": [
    "df['age'].mean()"
   ]
  },
  {
   "cell_type": "code",
   "execution_count": null,
   "id": "dbbeac34-7eed-4bd4-b707-40b1a9d0f207",
   "metadata": {},
   "outputs": [],
   "source": [
    "df['age'].sum()"
   ]
  },
  {
   "cell_type": "code",
   "execution_count": null,
   "id": "1d4be3a3-56a0-4d0c-8a4c-eeb17df3640b",
   "metadata": {},
   "outputs": [],
   "source": [
    "df['age'].max()"
   ]
  },
  {
   "cell_type": "code",
   "execution_count": null,
   "id": "0afdfd2c-0f1a-418a-a031-d5ff0026504f",
   "metadata": {},
   "outputs": [],
   "source": [
    "# 행이 데이터, 열은 속성 (4x3)"
   ]
  },
  {
   "cell_type": "code",
   "execution_count": null,
   "id": "6150efa8-09e1-49cb-aa23-644c8affa7e9",
   "metadata": {},
   "outputs": [],
   "source": [
    "df.shape"
   ]
  },
  {
   "cell_type": "code",
   "execution_count": null,
   "id": "9dfd7e23-840f-4c5a-b134-60dad3706637",
   "metadata": {},
   "outputs": [],
   "source": [
    "df.info()"
   ]
  },
  {
   "cell_type": "code",
   "execution_count": null,
   "id": "f6020ea5-0b9c-494f-b447-70512204c6d9",
   "metadata": {},
   "outputs": [],
   "source": [
    "df.isnull()"
   ]
  },
  {
   "cell_type": "code",
   "execution_count": null,
   "id": "8a1c08dc-4dfe-44d8-bad4-64b0f57a3192",
   "metadata": {},
   "outputs": [],
   "source": [
    "df.isnull().sum()"
   ]
  },
  {
   "cell_type": "code",
   "execution_count": null,
   "id": "2bbc3f2f-6d06-4a3e-84ee-d5cc25c191ac",
   "metadata": {},
   "outputs": [],
   "source": [
    "# 파이썬에서는 None이 Null값\n",
    "# 결측치"
   ]
  },
  {
   "cell_type": "code",
   "execution_count": null,
   "id": "425627f2-50ae-4c0f-9609-d44a49e3479a",
   "metadata": {},
   "outputs": [],
   "source": [
    "dic_people1 = {\n",
    "    'name' : ['hanju', 'wonkyung', 'myunghyun', 'hyuno'],\n",
    "    'age' : [46, None, 29, 34],\n",
    "    'grade' : ['B', 'A', 'A', 'D']\n",
    "}"
   ]
  },
  {
   "cell_type": "code",
   "execution_count": null,
   "id": "67d25fea-255a-4a1a-914e-76b3bf33abad",
   "metadata": {},
   "outputs": [],
   "source": [
    "df1 = pd.DataFrame(dic_people1)"
   ]
  },
  {
   "cell_type": "code",
   "execution_count": null,
   "id": "4da4357f-7f70-4c98-9d7c-d8bec6357577",
   "metadata": {},
   "outputs": [],
   "source": [
    "df1.info()"
   ]
  },
  {
   "cell_type": "code",
   "execution_count": null,
   "id": "22ada273-a249-4416-8743-9ad3aefeae8b",
   "metadata": {},
   "outputs": [],
   "source": [
    "df1.isnull()"
   ]
  },
  {
   "cell_type": "code",
   "execution_count": null,
   "id": "b1231b06-7343-4763-9b5b-5b215a8a8b49",
   "metadata": {},
   "outputs": [],
   "source": [
    "df1.isnull().sum()"
   ]
  },
  {
   "cell_type": "code",
   "execution_count": null,
   "id": "a84f4116-2f43-4ac7-baaf-e0c941f3c9d8",
   "metadata": {},
   "outputs": [],
   "source": [
    "df.columns"
   ]
  },
  {
   "cell_type": "code",
   "execution_count": null,
   "id": "30791c62-ed8b-4a06-86e9-3704259fe747",
   "metadata": {},
   "outputs": [],
   "source": [
    "for col in df.columns:\n",
    "    print(col)"
   ]
  },
  {
   "cell_type": "code",
   "execution_count": null,
   "id": "f451f295-ce0a-492e-b62b-365275bc6efb",
   "metadata": {},
   "outputs": [],
   "source": [
    "list(df.index)"
   ]
  },
  {
   "cell_type": "code",
   "execution_count": null,
   "id": "739ceea5-0591-4226-9a3b-6109c543e949",
   "metadata": {},
   "outputs": [],
   "source": [
    "df"
   ]
  },
  {
   "cell_type": "markdown",
   "id": "5e5ab47e-8482-4019-87cf-86d9b3fe50c6",
   "metadata": {},
   "source": [
    "- loc : index 기반\n",
    "- iloc : 순서 기반"
   ]
  },
  {
   "cell_type": "code",
   "execution_count": null,
   "id": "b56f091c-1f67-4068-bdac-d4962ba4b62d",
   "metadata": {},
   "outputs": [],
   "source": [
    "dic_people = {\n",
    "    'name' : ['hanju', 'wonkyung', 'myunghyun', 'hyuno'],\n",
    "    'age' : [46, 53, 29, 34],\n",
    "    'grade' : ['B', 'A', 'A', 'D']\n",
    "}"
   ]
  },
  {
   "cell_type": "code",
   "execution_count": null,
   "id": "e111f337-f9ed-4da0-b39e-c70549283363",
   "metadata": {},
   "outputs": [],
   "source": [
    "df = pd.DataFrame(dic_people, index=['a','b','c','d'])"
   ]
  },
  {
   "cell_type": "code",
   "execution_count": null,
   "id": "44e9ab72-d870-489d-8af1-4c5ba688882c",
   "metadata": {},
   "outputs": [],
   "source": [
    "df"
   ]
  },
  {
   "cell_type": "code",
   "execution_count": null,
   "id": "6db403b1-3db4-4489-ae71-8b5c2ccdb4d1",
   "metadata": {},
   "outputs": [],
   "source": [
    "df.loc['a']"
   ]
  },
  {
   "cell_type": "code",
   "execution_count": null,
   "id": "d5be628f-0a01-47f9-b221-0929fd67582d",
   "metadata": {},
   "outputs": [],
   "source": [
    "df.loc['a']['grade']"
   ]
  },
  {
   "cell_type": "code",
   "execution_count": null,
   "id": "13a3eb94-e171-4a50-a63f-b024333270fc",
   "metadata": {},
   "outputs": [],
   "source": [
    "df.iloc[1]"
   ]
  },
  {
   "cell_type": "code",
   "execution_count": null,
   "id": "e78eb299-fef3-4f8a-bf43-438bb67bf614",
   "metadata": {},
   "outputs": [],
   "source": [
    "df.iloc[1:]"
   ]
  },
  {
   "cell_type": "code",
   "execution_count": null,
   "id": "0a6fa06e-8f87-4b34-996f-0cb1f03d6730",
   "metadata": {},
   "outputs": [],
   "source": [
    "df3 = df[['name', 'grade']]"
   ]
  },
  {
   "cell_type": "code",
   "execution_count": null,
   "id": "f8c30d06-7d6a-4cb7-ae9b-46cfa59e171e",
   "metadata": {},
   "outputs": [],
   "source": [
    "df3"
   ]
  },
  {
   "cell_type": "code",
   "execution_count": null,
   "id": "963d5c28-da8b-4142-be3f-7421ffc009b3",
   "metadata": {},
   "outputs": [],
   "source": [
    "# 나이가 40보다 낮은 사람만 불러오고 싶을 떄 "
   ]
  },
  {
   "cell_type": "code",
   "execution_count": null,
   "id": "18341c61-9dd3-40c2-84b2-454874da08e9",
   "metadata": {},
   "outputs": [],
   "source": [
    "df['age']<40"
   ]
  },
  {
   "cell_type": "code",
   "execution_count": null,
   "id": "b4e2770f-96c5-47ed-8b77-7b1748e2d298",
   "metadata": {},
   "outputs": [],
   "source": [
    "df[df['age'] < 40]"
   ]
  },
  {
   "cell_type": "code",
   "execution_count": null,
   "id": "88ff3cf0-9b7b-4e88-8c7a-70300f2fde6a",
   "metadata": {},
   "outputs": [],
   "source": [
    "df['age'] > 40"
   ]
  },
  {
   "cell_type": "code",
   "execution_count": null,
   "id": "613ba961-02fa-46a1-bdcb-bef3d5c9db04",
   "metadata": {},
   "outputs": [],
   "source": [
    "df[df['age'] > 40]"
   ]
  },
  {
   "cell_type": "code",
   "execution_count": null,
   "id": "a753ee2a-6ab6-47e4-b30b-837fef3cb96c",
   "metadata": {},
   "outputs": [],
   "source": [
    "(df['age'] > 40) & (df['grade'] == 'A')"
   ]
  },
  {
   "cell_type": "code",
   "execution_count": null,
   "id": "19d96ca0-4bcc-4f08-803c-7b2c68813ce8",
   "metadata": {},
   "outputs": [],
   "source": [
    "df[(df['age'] > 40) & (df['grade'] == 'A')]"
   ]
  },
  {
   "cell_type": "code",
   "execution_count": null,
   "id": "8e89e3b2-9d52-4e24-a44f-87ea1357c799",
   "metadata": {},
   "outputs": [],
   "source": [
    "df['grade'].str #시리즈 데이터가 스트링으로 바뀜."
   ]
  },
  {
   "cell_type": "code",
   "execution_count": null,
   "id": "adbd76d5-059b-4b94-a3fd-49216599ccfc",
   "metadata": {},
   "outputs": [],
   "source": [
    "df['grade'].str.lower()"
   ]
  },
  {
   "cell_type": "code",
   "execution_count": null,
   "id": "fe22b196-71ee-4846-939d-41d26120746b",
   "metadata": {},
   "outputs": [],
   "source": [
    "df"
   ]
  },
  {
   "cell_type": "code",
   "execution_count": null,
   "id": "6d027180-dfce-4fa4-a832-c3d4add202ce",
   "metadata": {},
   "outputs": [],
   "source": [
    "df['grade'] = df['grade'].str.upper()"
   ]
  },
  {
   "cell_type": "code",
   "execution_count": null,
   "id": "5fd85d87-d780-4089-81fa-d869c4a40d12",
   "metadata": {},
   "outputs": [],
   "source": [
    "df"
   ]
  },
  {
   "cell_type": "code",
   "execution_count": null,
   "id": "bea7f739-57f2-4c76-95a0-4302e3d94e60",
   "metadata": {},
   "outputs": [],
   "source": [
    "df[(df['age'] > 40) & (df['grade'].str.lower() == 'a')]"
   ]
  },
  {
   "cell_type": "code",
   "execution_count": null,
   "id": "65427d18-8ef2-4434-a6e2-f0f8c0e8883d",
   "metadata": {},
   "outputs": [],
   "source": [
    "# 임시로 바꿔서 검색할때만 사용한다! "
   ]
  },
  {
   "cell_type": "code",
   "execution_count": null,
   "id": "7ed90c14-b146-40d0-b6ff-649b4e3d8d8d",
   "metadata": {},
   "outputs": [],
   "source": [
    "df['name'] = df['name'].str.upper()"
   ]
  },
  {
   "cell_type": "code",
   "execution_count": null,
   "id": "962bc843-88df-4c2d-9e9c-6a3d1de768da",
   "metadata": {},
   "outputs": [],
   "source": [
    "df"
   ]
  },
  {
   "cell_type": "code",
   "execution_count": 3,
   "id": "0375fbcd-57d5-47c3-8f2d-3e84d722ef20",
   "metadata": {},
   "outputs": [],
   "source": [
    "df = pd.read_html('https://www.fdic.gov/resources/resolutions/bank-failures/failed-bank-list/')"
   ]
  },
  {
   "cell_type": "code",
   "execution_count": 4,
   "id": "9cf923a4-9e09-4871-98a5-c7c6861cf244",
   "metadata": {},
   "outputs": [
    {
     "data": {
      "text/html": [
       "<div>\n",
       "<style scoped>\n",
       "    .dataframe tbody tr th:only-of-type {\n",
       "        vertical-align: middle;\n",
       "    }\n",
       "\n",
       "    .dataframe tbody tr th {\n",
       "        vertical-align: top;\n",
       "    }\n",
       "\n",
       "    .dataframe thead th {\n",
       "        text-align: right;\n",
       "    }\n",
       "</style>\n",
       "<table border=\"1\" class=\"dataframe\">\n",
       "  <thead>\n",
       "    <tr style=\"text-align: right;\">\n",
       "      <th></th>\n",
       "      <th>Bank NameBank</th>\n",
       "      <th>CityCity</th>\n",
       "      <th>StateSt</th>\n",
       "      <th>CertCert</th>\n",
       "      <th>Acquiring InstitutionAI</th>\n",
       "      <th>Closing DateClosing</th>\n",
       "      <th>FundFund</th>\n",
       "    </tr>\n",
       "  </thead>\n",
       "  <tbody>\n",
       "    <tr>\n",
       "      <th>0</th>\n",
       "      <td>Almena State Bank</td>\n",
       "      <td>Almena</td>\n",
       "      <td>KS</td>\n",
       "      <td>15426</td>\n",
       "      <td>Equity Bank</td>\n",
       "      <td>October 23, 2020</td>\n",
       "      <td>10538</td>\n",
       "    </tr>\n",
       "    <tr>\n",
       "      <th>1</th>\n",
       "      <td>First City Bank of Florida</td>\n",
       "      <td>Fort Walton Beach</td>\n",
       "      <td>FL</td>\n",
       "      <td>16748</td>\n",
       "      <td>United Fidelity Bank, fsb</td>\n",
       "      <td>October 16, 2020</td>\n",
       "      <td>10537</td>\n",
       "    </tr>\n",
       "    <tr>\n",
       "      <th>2</th>\n",
       "      <td>The First State Bank</td>\n",
       "      <td>Barboursville</td>\n",
       "      <td>WV</td>\n",
       "      <td>14361</td>\n",
       "      <td>MVB Bank, Inc.</td>\n",
       "      <td>April 3, 2020</td>\n",
       "      <td>10536</td>\n",
       "    </tr>\n",
       "    <tr>\n",
       "      <th>3</th>\n",
       "      <td>Ericson State Bank</td>\n",
       "      <td>Ericson</td>\n",
       "      <td>NE</td>\n",
       "      <td>18265</td>\n",
       "      <td>Farmers and Merchants Bank</td>\n",
       "      <td>February 14, 2020</td>\n",
       "      <td>10535</td>\n",
       "    </tr>\n",
       "    <tr>\n",
       "      <th>4</th>\n",
       "      <td>City National Bank of New Jersey</td>\n",
       "      <td>Newark</td>\n",
       "      <td>NJ</td>\n",
       "      <td>21111</td>\n",
       "      <td>Industrial Bank</td>\n",
       "      <td>November 1, 2019</td>\n",
       "      <td>10534</td>\n",
       "    </tr>\n",
       "    <tr>\n",
       "      <th>...</th>\n",
       "      <td>...</td>\n",
       "      <td>...</td>\n",
       "      <td>...</td>\n",
       "      <td>...</td>\n",
       "      <td>...</td>\n",
       "      <td>...</td>\n",
       "      <td>...</td>\n",
       "    </tr>\n",
       "    <tr>\n",
       "      <th>558</th>\n",
       "      <td>Superior Bank, FSB</td>\n",
       "      <td>Hinsdale</td>\n",
       "      <td>IL</td>\n",
       "      <td>32646</td>\n",
       "      <td>Superior Federal, FSB</td>\n",
       "      <td>July 27, 2001</td>\n",
       "      <td>6004</td>\n",
       "    </tr>\n",
       "    <tr>\n",
       "      <th>559</th>\n",
       "      <td>Malta National Bank</td>\n",
       "      <td>Malta</td>\n",
       "      <td>OH</td>\n",
       "      <td>6629</td>\n",
       "      <td>North Valley Bank</td>\n",
       "      <td>May 3, 2001</td>\n",
       "      <td>4648</td>\n",
       "    </tr>\n",
       "    <tr>\n",
       "      <th>560</th>\n",
       "      <td>First Alliance Bank &amp; Trust Co.</td>\n",
       "      <td>Manchester</td>\n",
       "      <td>NH</td>\n",
       "      <td>34264</td>\n",
       "      <td>Southern New Hampshire Bank &amp; Trust</td>\n",
       "      <td>February 2, 2001</td>\n",
       "      <td>4647</td>\n",
       "    </tr>\n",
       "    <tr>\n",
       "      <th>561</th>\n",
       "      <td>National State Bank of Metropolis</td>\n",
       "      <td>Metropolis</td>\n",
       "      <td>IL</td>\n",
       "      <td>3815</td>\n",
       "      <td>Banterra Bank of Marion</td>\n",
       "      <td>December 14, 2000</td>\n",
       "      <td>4646</td>\n",
       "    </tr>\n",
       "    <tr>\n",
       "      <th>562</th>\n",
       "      <td>Bank of Honolulu</td>\n",
       "      <td>Honolulu</td>\n",
       "      <td>HI</td>\n",
       "      <td>21029</td>\n",
       "      <td>Bank of the Orient</td>\n",
       "      <td>October 13, 2000</td>\n",
       "      <td>4645</td>\n",
       "    </tr>\n",
       "  </tbody>\n",
       "</table>\n",
       "<p>563 rows × 7 columns</p>\n",
       "</div>"
      ],
      "text/plain": [
       "                         Bank NameBank           CityCity StateSt  CertCert  \\\n",
       "0                    Almena State Bank             Almena      KS     15426   \n",
       "1           First City Bank of Florida  Fort Walton Beach      FL     16748   \n",
       "2                 The First State Bank      Barboursville      WV     14361   \n",
       "3                   Ericson State Bank            Ericson      NE     18265   \n",
       "4     City National Bank of New Jersey             Newark      NJ     21111   \n",
       "..                                 ...                ...     ...       ...   \n",
       "558                 Superior Bank, FSB           Hinsdale      IL     32646   \n",
       "559                Malta National Bank              Malta      OH      6629   \n",
       "560    First Alliance Bank & Trust Co.         Manchester      NH     34264   \n",
       "561  National State Bank of Metropolis         Metropolis      IL      3815   \n",
       "562                   Bank of Honolulu           Honolulu      HI     21029   \n",
       "\n",
       "                 Acquiring InstitutionAI Closing DateClosing  FundFund  \n",
       "0                            Equity Bank    October 23, 2020     10538  \n",
       "1              United Fidelity Bank, fsb    October 16, 2020     10537  \n",
       "2                         MVB Bank, Inc.       April 3, 2020     10536  \n",
       "3             Farmers and Merchants Bank   February 14, 2020     10535  \n",
       "4                        Industrial Bank    November 1, 2019     10534  \n",
       "..                                   ...                 ...       ...  \n",
       "558                Superior Federal, FSB       July 27, 2001      6004  \n",
       "559                    North Valley Bank         May 3, 2001      4648  \n",
       "560  Southern New Hampshire Bank & Trust    February 2, 2001      4647  \n",
       "561              Banterra Bank of Marion   December 14, 2000      4646  \n",
       "562                   Bank of the Orient    October 13, 2000      4645  \n",
       "\n",
       "[563 rows x 7 columns]"
      ]
     },
     "execution_count": 4,
     "metadata": {},
     "output_type": "execute_result"
    }
   ],
   "source": [
    "df[0] #크롤링이라는 방법으로 더 편하게 가지고 올 수 있음. 자주 쓰는 기능은 아니다."
   ]
  },
  {
   "cell_type": "code",
   "execution_count": 5,
   "id": "bc6ef00b-43d7-4309-b090-2a11eb084cdf",
   "metadata": {},
   "outputs": [
    {
     "data": {
      "text/plain": [
       "[                         Bank NameBank           CityCity StateSt  CertCert  \\\n",
       " 0                    Almena State Bank             Almena      KS     15426   \n",
       " 1           First City Bank of Florida  Fort Walton Beach      FL     16748   \n",
       " 2                 The First State Bank      Barboursville      WV     14361   \n",
       " 3                   Ericson State Bank            Ericson      NE     18265   \n",
       " 4     City National Bank of New Jersey             Newark      NJ     21111   \n",
       " ..                                 ...                ...     ...       ...   \n",
       " 558                 Superior Bank, FSB           Hinsdale      IL     32646   \n",
       " 559                Malta National Bank              Malta      OH      6629   \n",
       " 560    First Alliance Bank & Trust Co.         Manchester      NH     34264   \n",
       " 561  National State Bank of Metropolis         Metropolis      IL      3815   \n",
       " 562                   Bank of Honolulu           Honolulu      HI     21029   \n",
       " \n",
       "                  Acquiring InstitutionAI Closing DateClosing  FundFund  \n",
       " 0                            Equity Bank    October 23, 2020     10538  \n",
       " 1              United Fidelity Bank, fsb    October 16, 2020     10537  \n",
       " 2                         MVB Bank, Inc.       April 3, 2020     10536  \n",
       " 3             Farmers and Merchants Bank   February 14, 2020     10535  \n",
       " 4                        Industrial Bank    November 1, 2019     10534  \n",
       " ..                                   ...                 ...       ...  \n",
       " 558                Superior Federal, FSB       July 27, 2001      6004  \n",
       " 559                    North Valley Bank         May 3, 2001      4648  \n",
       " 560  Southern New Hampshire Bank & Trust    February 2, 2001      4647  \n",
       " 561              Banterra Bank of Marion   December 14, 2000      4646  \n",
       " 562                   Bank of the Orient    October 13, 2000      4645  \n",
       " \n",
       " [563 rows x 7 columns]]"
      ]
     },
     "execution_count": 5,
     "metadata": {},
     "output_type": "execute_result"
    }
   ],
   "source": [
    "df # 리스트 안에 들어간 데이터 프레임"
   ]
  },
  {
   "cell_type": "code",
   "execution_count": 6,
   "id": "a5920431-3f25-494c-9624-946831594539",
   "metadata": {},
   "outputs": [],
   "source": [
    "df = df[0]"
   ]
  },
  {
   "cell_type": "code",
   "execution_count": 7,
   "id": "70ec95d0-a7f5-47ee-b7f0-4daa6148d47e",
   "metadata": {},
   "outputs": [
    {
     "data": {
      "text/html": [
       "<div>\n",
       "<style scoped>\n",
       "    .dataframe tbody tr th:only-of-type {\n",
       "        vertical-align: middle;\n",
       "    }\n",
       "\n",
       "    .dataframe tbody tr th {\n",
       "        vertical-align: top;\n",
       "    }\n",
       "\n",
       "    .dataframe thead th {\n",
       "        text-align: right;\n",
       "    }\n",
       "</style>\n",
       "<table border=\"1\" class=\"dataframe\">\n",
       "  <thead>\n",
       "    <tr style=\"text-align: right;\">\n",
       "      <th></th>\n",
       "      <th>Bank NameBank</th>\n",
       "      <th>CityCity</th>\n",
       "      <th>StateSt</th>\n",
       "      <th>CertCert</th>\n",
       "      <th>Acquiring InstitutionAI</th>\n",
       "      <th>Closing DateClosing</th>\n",
       "      <th>FundFund</th>\n",
       "    </tr>\n",
       "  </thead>\n",
       "  <tbody>\n",
       "    <tr>\n",
       "      <th>0</th>\n",
       "      <td>Almena State Bank</td>\n",
       "      <td>Almena</td>\n",
       "      <td>KS</td>\n",
       "      <td>15426</td>\n",
       "      <td>Equity Bank</td>\n",
       "      <td>October 23, 2020</td>\n",
       "      <td>10538</td>\n",
       "    </tr>\n",
       "    <tr>\n",
       "      <th>1</th>\n",
       "      <td>First City Bank of Florida</td>\n",
       "      <td>Fort Walton Beach</td>\n",
       "      <td>FL</td>\n",
       "      <td>16748</td>\n",
       "      <td>United Fidelity Bank, fsb</td>\n",
       "      <td>October 16, 2020</td>\n",
       "      <td>10537</td>\n",
       "    </tr>\n",
       "    <tr>\n",
       "      <th>2</th>\n",
       "      <td>The First State Bank</td>\n",
       "      <td>Barboursville</td>\n",
       "      <td>WV</td>\n",
       "      <td>14361</td>\n",
       "      <td>MVB Bank, Inc.</td>\n",
       "      <td>April 3, 2020</td>\n",
       "      <td>10536</td>\n",
       "    </tr>\n",
       "    <tr>\n",
       "      <th>3</th>\n",
       "      <td>Ericson State Bank</td>\n",
       "      <td>Ericson</td>\n",
       "      <td>NE</td>\n",
       "      <td>18265</td>\n",
       "      <td>Farmers and Merchants Bank</td>\n",
       "      <td>February 14, 2020</td>\n",
       "      <td>10535</td>\n",
       "    </tr>\n",
       "    <tr>\n",
       "      <th>4</th>\n",
       "      <td>City National Bank of New Jersey</td>\n",
       "      <td>Newark</td>\n",
       "      <td>NJ</td>\n",
       "      <td>21111</td>\n",
       "      <td>Industrial Bank</td>\n",
       "      <td>November 1, 2019</td>\n",
       "      <td>10534</td>\n",
       "    </tr>\n",
       "    <tr>\n",
       "      <th>...</th>\n",
       "      <td>...</td>\n",
       "      <td>...</td>\n",
       "      <td>...</td>\n",
       "      <td>...</td>\n",
       "      <td>...</td>\n",
       "      <td>...</td>\n",
       "      <td>...</td>\n",
       "    </tr>\n",
       "    <tr>\n",
       "      <th>558</th>\n",
       "      <td>Superior Bank, FSB</td>\n",
       "      <td>Hinsdale</td>\n",
       "      <td>IL</td>\n",
       "      <td>32646</td>\n",
       "      <td>Superior Federal, FSB</td>\n",
       "      <td>July 27, 2001</td>\n",
       "      <td>6004</td>\n",
       "    </tr>\n",
       "    <tr>\n",
       "      <th>559</th>\n",
       "      <td>Malta National Bank</td>\n",
       "      <td>Malta</td>\n",
       "      <td>OH</td>\n",
       "      <td>6629</td>\n",
       "      <td>North Valley Bank</td>\n",
       "      <td>May 3, 2001</td>\n",
       "      <td>4648</td>\n",
       "    </tr>\n",
       "    <tr>\n",
       "      <th>560</th>\n",
       "      <td>First Alliance Bank &amp; Trust Co.</td>\n",
       "      <td>Manchester</td>\n",
       "      <td>NH</td>\n",
       "      <td>34264</td>\n",
       "      <td>Southern New Hampshire Bank &amp; Trust</td>\n",
       "      <td>February 2, 2001</td>\n",
       "      <td>4647</td>\n",
       "    </tr>\n",
       "    <tr>\n",
       "      <th>561</th>\n",
       "      <td>National State Bank of Metropolis</td>\n",
       "      <td>Metropolis</td>\n",
       "      <td>IL</td>\n",
       "      <td>3815</td>\n",
       "      <td>Banterra Bank of Marion</td>\n",
       "      <td>December 14, 2000</td>\n",
       "      <td>4646</td>\n",
       "    </tr>\n",
       "    <tr>\n",
       "      <th>562</th>\n",
       "      <td>Bank of Honolulu</td>\n",
       "      <td>Honolulu</td>\n",
       "      <td>HI</td>\n",
       "      <td>21029</td>\n",
       "      <td>Bank of the Orient</td>\n",
       "      <td>October 13, 2000</td>\n",
       "      <td>4645</td>\n",
       "    </tr>\n",
       "  </tbody>\n",
       "</table>\n",
       "<p>563 rows × 7 columns</p>\n",
       "</div>"
      ],
      "text/plain": [
       "                         Bank NameBank           CityCity StateSt  CertCert  \\\n",
       "0                    Almena State Bank             Almena      KS     15426   \n",
       "1           First City Bank of Florida  Fort Walton Beach      FL     16748   \n",
       "2                 The First State Bank      Barboursville      WV     14361   \n",
       "3                   Ericson State Bank            Ericson      NE     18265   \n",
       "4     City National Bank of New Jersey             Newark      NJ     21111   \n",
       "..                                 ...                ...     ...       ...   \n",
       "558                 Superior Bank, FSB           Hinsdale      IL     32646   \n",
       "559                Malta National Bank              Malta      OH      6629   \n",
       "560    First Alliance Bank & Trust Co.         Manchester      NH     34264   \n",
       "561  National State Bank of Metropolis         Metropolis      IL      3815   \n",
       "562                   Bank of Honolulu           Honolulu      HI     21029   \n",
       "\n",
       "                 Acquiring InstitutionAI Closing DateClosing  FundFund  \n",
       "0                            Equity Bank    October 23, 2020     10538  \n",
       "1              United Fidelity Bank, fsb    October 16, 2020     10537  \n",
       "2                         MVB Bank, Inc.       April 3, 2020     10536  \n",
       "3             Farmers and Merchants Bank   February 14, 2020     10535  \n",
       "4                        Industrial Bank    November 1, 2019     10534  \n",
       "..                                   ...                 ...       ...  \n",
       "558                Superior Federal, FSB       July 27, 2001      6004  \n",
       "559                    North Valley Bank         May 3, 2001      4648  \n",
       "560  Southern New Hampshire Bank & Trust    February 2, 2001      4647  \n",
       "561              Banterra Bank of Marion   December 14, 2000      4646  \n",
       "562                   Bank of the Orient    October 13, 2000      4645  \n",
       "\n",
       "[563 rows x 7 columns]"
      ]
     },
     "execution_count": 7,
     "metadata": {},
     "output_type": "execute_result"
    }
   ],
   "source": [
    "df"
   ]
  },
  {
   "cell_type": "code",
   "execution_count": 8,
   "id": "cedaa27d-762a-4acf-b422-ec3d85287b03",
   "metadata": {},
   "outputs": [
    {
     "name": "stdout",
     "output_type": "stream",
     "text": [
      "<class 'pandas.core.frame.DataFrame'>\n",
      "RangeIndex: 563 entries, 0 to 562\n",
      "Data columns (total 7 columns):\n",
      " #   Column                   Non-Null Count  Dtype \n",
      "---  ------                   --------------  ----- \n",
      " 0   Bank NameBank            563 non-null    object\n",
      " 1   CityCity                 563 non-null    object\n",
      " 2   StateSt                  563 non-null    object\n",
      " 3   CertCert                 563 non-null    int64 \n",
      " 4   Acquiring InstitutionAI  563 non-null    object\n",
      " 5   Closing DateClosing      563 non-null    object\n",
      " 6   FundFund                 563 non-null    int64 \n",
      "dtypes: int64(2), object(5)\n",
      "memory usage: 30.9+ KB\n"
     ]
    }
   ],
   "source": [
    "df.info()"
   ]
  },
  {
   "cell_type": "code",
   "execution_count": 9,
   "id": "c4e441a4-3e14-4bb0-b17a-5d0025733a75",
   "metadata": {},
   "outputs": [
    {
     "data": {
      "text/plain": [
       "(563, 7)"
      ]
     },
     "execution_count": 9,
     "metadata": {},
     "output_type": "execute_result"
    }
   ],
   "source": [
    "df.shape"
   ]
  },
  {
   "cell_type": "code",
   "execution_count": 10,
   "id": "7e676fbc-7ecd-4d37-b2c6-bb38bc42eaaa",
   "metadata": {},
   "outputs": [
    {
     "data": {
      "text/html": [
       "<div>\n",
       "<style scoped>\n",
       "    .dataframe tbody tr th:only-of-type {\n",
       "        vertical-align: middle;\n",
       "    }\n",
       "\n",
       "    .dataframe tbody tr th {\n",
       "        vertical-align: top;\n",
       "    }\n",
       "\n",
       "    .dataframe thead th {\n",
       "        text-align: right;\n",
       "    }\n",
       "</style>\n",
       "<table border=\"1\" class=\"dataframe\">\n",
       "  <thead>\n",
       "    <tr style=\"text-align: right;\">\n",
       "      <th></th>\n",
       "      <th>Bank Name</th>\n",
       "      <th>CityCity</th>\n",
       "      <th>StateSt</th>\n",
       "      <th>CertCert</th>\n",
       "      <th>Acquiring InstitutionAI</th>\n",
       "      <th>Closing DateClosing</th>\n",
       "      <th>FundFund</th>\n",
       "    </tr>\n",
       "  </thead>\n",
       "  <tbody>\n",
       "    <tr>\n",
       "      <th>0</th>\n",
       "      <td>Almena State Bank</td>\n",
       "      <td>Almena</td>\n",
       "      <td>KS</td>\n",
       "      <td>15426</td>\n",
       "      <td>Equity Bank</td>\n",
       "      <td>October 23, 2020</td>\n",
       "      <td>10538</td>\n",
       "    </tr>\n",
       "    <tr>\n",
       "      <th>1</th>\n",
       "      <td>First City Bank of Florida</td>\n",
       "      <td>Fort Walton Beach</td>\n",
       "      <td>FL</td>\n",
       "      <td>16748</td>\n",
       "      <td>United Fidelity Bank, fsb</td>\n",
       "      <td>October 16, 2020</td>\n",
       "      <td>10537</td>\n",
       "    </tr>\n",
       "    <tr>\n",
       "      <th>2</th>\n",
       "      <td>The First State Bank</td>\n",
       "      <td>Barboursville</td>\n",
       "      <td>WV</td>\n",
       "      <td>14361</td>\n",
       "      <td>MVB Bank, Inc.</td>\n",
       "      <td>April 3, 2020</td>\n",
       "      <td>10536</td>\n",
       "    </tr>\n",
       "    <tr>\n",
       "      <th>3</th>\n",
       "      <td>Ericson State Bank</td>\n",
       "      <td>Ericson</td>\n",
       "      <td>NE</td>\n",
       "      <td>18265</td>\n",
       "      <td>Farmers and Merchants Bank</td>\n",
       "      <td>February 14, 2020</td>\n",
       "      <td>10535</td>\n",
       "    </tr>\n",
       "    <tr>\n",
       "      <th>4</th>\n",
       "      <td>City National Bank of New Jersey</td>\n",
       "      <td>Newark</td>\n",
       "      <td>NJ</td>\n",
       "      <td>21111</td>\n",
       "      <td>Industrial Bank</td>\n",
       "      <td>November 1, 2019</td>\n",
       "      <td>10534</td>\n",
       "    </tr>\n",
       "    <tr>\n",
       "      <th>...</th>\n",
       "      <td>...</td>\n",
       "      <td>...</td>\n",
       "      <td>...</td>\n",
       "      <td>...</td>\n",
       "      <td>...</td>\n",
       "      <td>...</td>\n",
       "      <td>...</td>\n",
       "    </tr>\n",
       "    <tr>\n",
       "      <th>558</th>\n",
       "      <td>Superior Bank, FSB</td>\n",
       "      <td>Hinsdale</td>\n",
       "      <td>IL</td>\n",
       "      <td>32646</td>\n",
       "      <td>Superior Federal, FSB</td>\n",
       "      <td>July 27, 2001</td>\n",
       "      <td>6004</td>\n",
       "    </tr>\n",
       "    <tr>\n",
       "      <th>559</th>\n",
       "      <td>Malta National Bank</td>\n",
       "      <td>Malta</td>\n",
       "      <td>OH</td>\n",
       "      <td>6629</td>\n",
       "      <td>North Valley Bank</td>\n",
       "      <td>May 3, 2001</td>\n",
       "      <td>4648</td>\n",
       "    </tr>\n",
       "    <tr>\n",
       "      <th>560</th>\n",
       "      <td>First Alliance Bank &amp; Trust Co.</td>\n",
       "      <td>Manchester</td>\n",
       "      <td>NH</td>\n",
       "      <td>34264</td>\n",
       "      <td>Southern New Hampshire Bank &amp; Trust</td>\n",
       "      <td>February 2, 2001</td>\n",
       "      <td>4647</td>\n",
       "    </tr>\n",
       "    <tr>\n",
       "      <th>561</th>\n",
       "      <td>National State Bank of Metropolis</td>\n",
       "      <td>Metropolis</td>\n",
       "      <td>IL</td>\n",
       "      <td>3815</td>\n",
       "      <td>Banterra Bank of Marion</td>\n",
       "      <td>December 14, 2000</td>\n",
       "      <td>4646</td>\n",
       "    </tr>\n",
       "    <tr>\n",
       "      <th>562</th>\n",
       "      <td>Bank of Honolulu</td>\n",
       "      <td>Honolulu</td>\n",
       "      <td>HI</td>\n",
       "      <td>21029</td>\n",
       "      <td>Bank of the Orient</td>\n",
       "      <td>October 13, 2000</td>\n",
       "      <td>4645</td>\n",
       "    </tr>\n",
       "  </tbody>\n",
       "</table>\n",
       "<p>563 rows × 7 columns</p>\n",
       "</div>"
      ],
      "text/plain": [
       "                             Bank Name           CityCity StateSt  CertCert  \\\n",
       "0                    Almena State Bank             Almena      KS     15426   \n",
       "1           First City Bank of Florida  Fort Walton Beach      FL     16748   \n",
       "2                 The First State Bank      Barboursville      WV     14361   \n",
       "3                   Ericson State Bank            Ericson      NE     18265   \n",
       "4     City National Bank of New Jersey             Newark      NJ     21111   \n",
       "..                                 ...                ...     ...       ...   \n",
       "558                 Superior Bank, FSB           Hinsdale      IL     32646   \n",
       "559                Malta National Bank              Malta      OH      6629   \n",
       "560    First Alliance Bank & Trust Co.         Manchester      NH     34264   \n",
       "561  National State Bank of Metropolis         Metropolis      IL      3815   \n",
       "562                   Bank of Honolulu           Honolulu      HI     21029   \n",
       "\n",
       "                 Acquiring InstitutionAI Closing DateClosing  FundFund  \n",
       "0                            Equity Bank    October 23, 2020     10538  \n",
       "1              United Fidelity Bank, fsb    October 16, 2020     10537  \n",
       "2                         MVB Bank, Inc.       April 3, 2020     10536  \n",
       "3             Farmers and Merchants Bank   February 14, 2020     10535  \n",
       "4                        Industrial Bank    November 1, 2019     10534  \n",
       "..                                   ...                 ...       ...  \n",
       "558                Superior Federal, FSB       July 27, 2001      6004  \n",
       "559                    North Valley Bank         May 3, 2001      4648  \n",
       "560  Southern New Hampshire Bank & Trust    February 2, 2001      4647  \n",
       "561              Banterra Bank of Marion   December 14, 2000      4646  \n",
       "562                   Bank of the Orient    October 13, 2000      4645  \n",
       "\n",
       "[563 rows x 7 columns]"
      ]
     },
     "execution_count": 10,
     "metadata": {},
     "output_type": "execute_result"
    }
   ],
   "source": [
    "df.rename({'Bank NameBank' : 'Bank Name'}, axis =1)"
   ]
  },
  {
   "cell_type": "code",
   "execution_count": 11,
   "id": "8db4c5fa-3a7c-4a50-a86b-71ef55f406a2",
   "metadata": {},
   "outputs": [],
   "source": [
    "df.rename({'Bank NameBank' : 'Bank Name'}, axis =1, inplace = True)"
   ]
  },
  {
   "cell_type": "code",
   "execution_count": 12,
   "id": "3932b18b-b283-448c-96fd-5a30ca4cdba1",
   "metadata": {},
   "outputs": [
    {
     "data": {
      "text/html": [
       "<div>\n",
       "<style scoped>\n",
       "    .dataframe tbody tr th:only-of-type {\n",
       "        vertical-align: middle;\n",
       "    }\n",
       "\n",
       "    .dataframe tbody tr th {\n",
       "        vertical-align: top;\n",
       "    }\n",
       "\n",
       "    .dataframe thead th {\n",
       "        text-align: right;\n",
       "    }\n",
       "</style>\n",
       "<table border=\"1\" class=\"dataframe\">\n",
       "  <thead>\n",
       "    <tr style=\"text-align: right;\">\n",
       "      <th></th>\n",
       "      <th>Bank Name</th>\n",
       "      <th>CityCity</th>\n",
       "      <th>StateSt</th>\n",
       "      <th>CertCert</th>\n",
       "      <th>Acquiring InstitutionAI</th>\n",
       "      <th>Closing DateClosing</th>\n",
       "      <th>FundFund</th>\n",
       "    </tr>\n",
       "  </thead>\n",
       "  <tbody>\n",
       "    <tr>\n",
       "      <th>0</th>\n",
       "      <td>Almena State Bank</td>\n",
       "      <td>Almena</td>\n",
       "      <td>KS</td>\n",
       "      <td>15426</td>\n",
       "      <td>Equity Bank</td>\n",
       "      <td>October 23, 2020</td>\n",
       "      <td>10538</td>\n",
       "    </tr>\n",
       "    <tr>\n",
       "      <th>1</th>\n",
       "      <td>First City Bank of Florida</td>\n",
       "      <td>Fort Walton Beach</td>\n",
       "      <td>FL</td>\n",
       "      <td>16748</td>\n",
       "      <td>United Fidelity Bank, fsb</td>\n",
       "      <td>October 16, 2020</td>\n",
       "      <td>10537</td>\n",
       "    </tr>\n",
       "    <tr>\n",
       "      <th>2</th>\n",
       "      <td>The First State Bank</td>\n",
       "      <td>Barboursville</td>\n",
       "      <td>WV</td>\n",
       "      <td>14361</td>\n",
       "      <td>MVB Bank, Inc.</td>\n",
       "      <td>April 3, 2020</td>\n",
       "      <td>10536</td>\n",
       "    </tr>\n",
       "    <tr>\n",
       "      <th>3</th>\n",
       "      <td>Ericson State Bank</td>\n",
       "      <td>Ericson</td>\n",
       "      <td>NE</td>\n",
       "      <td>18265</td>\n",
       "      <td>Farmers and Merchants Bank</td>\n",
       "      <td>February 14, 2020</td>\n",
       "      <td>10535</td>\n",
       "    </tr>\n",
       "    <tr>\n",
       "      <th>4</th>\n",
       "      <td>City National Bank of New Jersey</td>\n",
       "      <td>Newark</td>\n",
       "      <td>NJ</td>\n",
       "      <td>21111</td>\n",
       "      <td>Industrial Bank</td>\n",
       "      <td>November 1, 2019</td>\n",
       "      <td>10534</td>\n",
       "    </tr>\n",
       "    <tr>\n",
       "      <th>...</th>\n",
       "      <td>...</td>\n",
       "      <td>...</td>\n",
       "      <td>...</td>\n",
       "      <td>...</td>\n",
       "      <td>...</td>\n",
       "      <td>...</td>\n",
       "      <td>...</td>\n",
       "    </tr>\n",
       "    <tr>\n",
       "      <th>558</th>\n",
       "      <td>Superior Bank, FSB</td>\n",
       "      <td>Hinsdale</td>\n",
       "      <td>IL</td>\n",
       "      <td>32646</td>\n",
       "      <td>Superior Federal, FSB</td>\n",
       "      <td>July 27, 2001</td>\n",
       "      <td>6004</td>\n",
       "    </tr>\n",
       "    <tr>\n",
       "      <th>559</th>\n",
       "      <td>Malta National Bank</td>\n",
       "      <td>Malta</td>\n",
       "      <td>OH</td>\n",
       "      <td>6629</td>\n",
       "      <td>North Valley Bank</td>\n",
       "      <td>May 3, 2001</td>\n",
       "      <td>4648</td>\n",
       "    </tr>\n",
       "    <tr>\n",
       "      <th>560</th>\n",
       "      <td>First Alliance Bank &amp; Trust Co.</td>\n",
       "      <td>Manchester</td>\n",
       "      <td>NH</td>\n",
       "      <td>34264</td>\n",
       "      <td>Southern New Hampshire Bank &amp; Trust</td>\n",
       "      <td>February 2, 2001</td>\n",
       "      <td>4647</td>\n",
       "    </tr>\n",
       "    <tr>\n",
       "      <th>561</th>\n",
       "      <td>National State Bank of Metropolis</td>\n",
       "      <td>Metropolis</td>\n",
       "      <td>IL</td>\n",
       "      <td>3815</td>\n",
       "      <td>Banterra Bank of Marion</td>\n",
       "      <td>December 14, 2000</td>\n",
       "      <td>4646</td>\n",
       "    </tr>\n",
       "    <tr>\n",
       "      <th>562</th>\n",
       "      <td>Bank of Honolulu</td>\n",
       "      <td>Honolulu</td>\n",
       "      <td>HI</td>\n",
       "      <td>21029</td>\n",
       "      <td>Bank of the Orient</td>\n",
       "      <td>October 13, 2000</td>\n",
       "      <td>4645</td>\n",
       "    </tr>\n",
       "  </tbody>\n",
       "</table>\n",
       "<p>563 rows × 7 columns</p>\n",
       "</div>"
      ],
      "text/plain": [
       "                             Bank Name           CityCity StateSt  CertCert  \\\n",
       "0                    Almena State Bank             Almena      KS     15426   \n",
       "1           First City Bank of Florida  Fort Walton Beach      FL     16748   \n",
       "2                 The First State Bank      Barboursville      WV     14361   \n",
       "3                   Ericson State Bank            Ericson      NE     18265   \n",
       "4     City National Bank of New Jersey             Newark      NJ     21111   \n",
       "..                                 ...                ...     ...       ...   \n",
       "558                 Superior Bank, FSB           Hinsdale      IL     32646   \n",
       "559                Malta National Bank              Malta      OH      6629   \n",
       "560    First Alliance Bank & Trust Co.         Manchester      NH     34264   \n",
       "561  National State Bank of Metropolis         Metropolis      IL      3815   \n",
       "562                   Bank of Honolulu           Honolulu      HI     21029   \n",
       "\n",
       "                 Acquiring InstitutionAI Closing DateClosing  FundFund  \n",
       "0                            Equity Bank    October 23, 2020     10538  \n",
       "1              United Fidelity Bank, fsb    October 16, 2020     10537  \n",
       "2                         MVB Bank, Inc.       April 3, 2020     10536  \n",
       "3             Farmers and Merchants Bank   February 14, 2020     10535  \n",
       "4                        Industrial Bank    November 1, 2019     10534  \n",
       "..                                   ...                 ...       ...  \n",
       "558                Superior Federal, FSB       July 27, 2001      6004  \n",
       "559                    North Valley Bank         May 3, 2001      4648  \n",
       "560  Southern New Hampshire Bank & Trust    February 2, 2001      4647  \n",
       "561              Banterra Bank of Marion   December 14, 2000      4646  \n",
       "562                   Bank of the Orient    October 13, 2000      4645  \n",
       "\n",
       "[563 rows x 7 columns]"
      ]
     },
     "execution_count": 12,
     "metadata": {},
     "output_type": "execute_result"
    }
   ],
   "source": [
    "df"
   ]
  },
  {
   "cell_type": "code",
   "execution_count": 13,
   "id": "6c89ebfc-c636-406e-940a-4998035f2d32",
   "metadata": {},
   "outputs": [],
   "source": [
    "df.rename({'Bank NameBank' : 'Bank Name', \n",
    "           'CityCity' : 'City', \n",
    "           'StateSt' : 'State',\n",
    "           'CertCert' : 'Cert', \n",
    "           'Acquiring InstitutionAI':'Acquiring Institution', \n",
    "           'Closing DateClosing' : 'Closing Date',  \n",
    "           'FundFund' : 'Fund'}, axis =1, inplace = True)"
   ]
  },
  {
   "cell_type": "code",
   "execution_count": 14,
   "id": "395db579-d18d-4081-8948-8debfbfda844",
   "metadata": {},
   "outputs": [
    {
     "data": {
      "text/html": [
       "<div>\n",
       "<style scoped>\n",
       "    .dataframe tbody tr th:only-of-type {\n",
       "        vertical-align: middle;\n",
       "    }\n",
       "\n",
       "    .dataframe tbody tr th {\n",
       "        vertical-align: top;\n",
       "    }\n",
       "\n",
       "    .dataframe thead th {\n",
       "        text-align: right;\n",
       "    }\n",
       "</style>\n",
       "<table border=\"1\" class=\"dataframe\">\n",
       "  <thead>\n",
       "    <tr style=\"text-align: right;\">\n",
       "      <th></th>\n",
       "      <th>Bank Name</th>\n",
       "      <th>City</th>\n",
       "      <th>State</th>\n",
       "      <th>Cert</th>\n",
       "      <th>Acquiring Institution</th>\n",
       "      <th>Closing Date</th>\n",
       "      <th>Fund</th>\n",
       "    </tr>\n",
       "  </thead>\n",
       "  <tbody>\n",
       "    <tr>\n",
       "      <th>0</th>\n",
       "      <td>Almena State Bank</td>\n",
       "      <td>Almena</td>\n",
       "      <td>KS</td>\n",
       "      <td>15426</td>\n",
       "      <td>Equity Bank</td>\n",
       "      <td>October 23, 2020</td>\n",
       "      <td>10538</td>\n",
       "    </tr>\n",
       "    <tr>\n",
       "      <th>1</th>\n",
       "      <td>First City Bank of Florida</td>\n",
       "      <td>Fort Walton Beach</td>\n",
       "      <td>FL</td>\n",
       "      <td>16748</td>\n",
       "      <td>United Fidelity Bank, fsb</td>\n",
       "      <td>October 16, 2020</td>\n",
       "      <td>10537</td>\n",
       "    </tr>\n",
       "    <tr>\n",
       "      <th>2</th>\n",
       "      <td>The First State Bank</td>\n",
       "      <td>Barboursville</td>\n",
       "      <td>WV</td>\n",
       "      <td>14361</td>\n",
       "      <td>MVB Bank, Inc.</td>\n",
       "      <td>April 3, 2020</td>\n",
       "      <td>10536</td>\n",
       "    </tr>\n",
       "    <tr>\n",
       "      <th>3</th>\n",
       "      <td>Ericson State Bank</td>\n",
       "      <td>Ericson</td>\n",
       "      <td>NE</td>\n",
       "      <td>18265</td>\n",
       "      <td>Farmers and Merchants Bank</td>\n",
       "      <td>February 14, 2020</td>\n",
       "      <td>10535</td>\n",
       "    </tr>\n",
       "    <tr>\n",
       "      <th>4</th>\n",
       "      <td>City National Bank of New Jersey</td>\n",
       "      <td>Newark</td>\n",
       "      <td>NJ</td>\n",
       "      <td>21111</td>\n",
       "      <td>Industrial Bank</td>\n",
       "      <td>November 1, 2019</td>\n",
       "      <td>10534</td>\n",
       "    </tr>\n",
       "    <tr>\n",
       "      <th>...</th>\n",
       "      <td>...</td>\n",
       "      <td>...</td>\n",
       "      <td>...</td>\n",
       "      <td>...</td>\n",
       "      <td>...</td>\n",
       "      <td>...</td>\n",
       "      <td>...</td>\n",
       "    </tr>\n",
       "    <tr>\n",
       "      <th>558</th>\n",
       "      <td>Superior Bank, FSB</td>\n",
       "      <td>Hinsdale</td>\n",
       "      <td>IL</td>\n",
       "      <td>32646</td>\n",
       "      <td>Superior Federal, FSB</td>\n",
       "      <td>July 27, 2001</td>\n",
       "      <td>6004</td>\n",
       "    </tr>\n",
       "    <tr>\n",
       "      <th>559</th>\n",
       "      <td>Malta National Bank</td>\n",
       "      <td>Malta</td>\n",
       "      <td>OH</td>\n",
       "      <td>6629</td>\n",
       "      <td>North Valley Bank</td>\n",
       "      <td>May 3, 2001</td>\n",
       "      <td>4648</td>\n",
       "    </tr>\n",
       "    <tr>\n",
       "      <th>560</th>\n",
       "      <td>First Alliance Bank &amp; Trust Co.</td>\n",
       "      <td>Manchester</td>\n",
       "      <td>NH</td>\n",
       "      <td>34264</td>\n",
       "      <td>Southern New Hampshire Bank &amp; Trust</td>\n",
       "      <td>February 2, 2001</td>\n",
       "      <td>4647</td>\n",
       "    </tr>\n",
       "    <tr>\n",
       "      <th>561</th>\n",
       "      <td>National State Bank of Metropolis</td>\n",
       "      <td>Metropolis</td>\n",
       "      <td>IL</td>\n",
       "      <td>3815</td>\n",
       "      <td>Banterra Bank of Marion</td>\n",
       "      <td>December 14, 2000</td>\n",
       "      <td>4646</td>\n",
       "    </tr>\n",
       "    <tr>\n",
       "      <th>562</th>\n",
       "      <td>Bank of Honolulu</td>\n",
       "      <td>Honolulu</td>\n",
       "      <td>HI</td>\n",
       "      <td>21029</td>\n",
       "      <td>Bank of the Orient</td>\n",
       "      <td>October 13, 2000</td>\n",
       "      <td>4645</td>\n",
       "    </tr>\n",
       "  </tbody>\n",
       "</table>\n",
       "<p>563 rows × 7 columns</p>\n",
       "</div>"
      ],
      "text/plain": [
       "                             Bank Name               City State   Cert  \\\n",
       "0                    Almena State Bank             Almena    KS  15426   \n",
       "1           First City Bank of Florida  Fort Walton Beach    FL  16748   \n",
       "2                 The First State Bank      Barboursville    WV  14361   \n",
       "3                   Ericson State Bank            Ericson    NE  18265   \n",
       "4     City National Bank of New Jersey             Newark    NJ  21111   \n",
       "..                                 ...                ...   ...    ...   \n",
       "558                 Superior Bank, FSB           Hinsdale    IL  32646   \n",
       "559                Malta National Bank              Malta    OH   6629   \n",
       "560    First Alliance Bank & Trust Co.         Manchester    NH  34264   \n",
       "561  National State Bank of Metropolis         Metropolis    IL   3815   \n",
       "562                   Bank of Honolulu           Honolulu    HI  21029   \n",
       "\n",
       "                   Acquiring Institution       Closing Date   Fund  \n",
       "0                            Equity Bank   October 23, 2020  10538  \n",
       "1              United Fidelity Bank, fsb   October 16, 2020  10537  \n",
       "2                         MVB Bank, Inc.      April 3, 2020  10536  \n",
       "3             Farmers and Merchants Bank  February 14, 2020  10535  \n",
       "4                        Industrial Bank   November 1, 2019  10534  \n",
       "..                                   ...                ...    ...  \n",
       "558                Superior Federal, FSB      July 27, 2001   6004  \n",
       "559                    North Valley Bank        May 3, 2001   4648  \n",
       "560  Southern New Hampshire Bank & Trust   February 2, 2001   4647  \n",
       "561              Banterra Bank of Marion  December 14, 2000   4646  \n",
       "562                   Bank of the Orient   October 13, 2000   4645  \n",
       "\n",
       "[563 rows x 7 columns]"
      ]
     },
     "execution_count": 14,
     "metadata": {},
     "output_type": "execute_result"
    }
   ],
   "source": [
    "df"
   ]
  },
  {
   "cell_type": "code",
   "execution_count": 15,
   "id": "633f4e36-872e-49f3-90f4-7453fcd1e0a0",
   "metadata": {},
   "outputs": [
    {
     "name": "stdout",
     "output_type": "stream",
     "text": [
      "<class 'pandas.core.frame.DataFrame'>\n",
      "RangeIndex: 563 entries, 0 to 562\n",
      "Data columns (total 7 columns):\n",
      " #   Column                 Non-Null Count  Dtype \n",
      "---  ------                 --------------  ----- \n",
      " 0   Bank Name              563 non-null    object\n",
      " 1   City                   563 non-null    object\n",
      " 2   State                  563 non-null    object\n",
      " 3   Cert                   563 non-null    int64 \n",
      " 4   Acquiring Institution  563 non-null    object\n",
      " 5   Closing Date           563 non-null    object\n",
      " 6   Fund                   563 non-null    int64 \n",
      "dtypes: int64(2), object(5)\n",
      "memory usage: 30.9+ KB\n"
     ]
    }
   ],
   "source": [
    "df.info()"
   ]
  },
  {
   "cell_type": "code",
   "execution_count": 16,
   "id": "827ba6c9-f9b8-4f54-bb41-e46b231dedb7",
   "metadata": {},
   "outputs": [
    {
     "data": {
      "text/plain": [
       "0      15426\n",
       "1      16748\n",
       "2      14361\n",
       "3      18265\n",
       "4      21111\n",
       "       ...  \n",
       "558    32646\n",
       "559     6629\n",
       "560    34264\n",
       "561     3815\n",
       "562    21029\n",
       "Name: Cert, Length: 563, dtype: object"
      ]
     },
     "execution_count": 16,
     "metadata": {},
     "output_type": "execute_result"
    }
   ],
   "source": [
    "df['Cert'].astype(str)"
   ]
  },
  {
   "cell_type": "code",
   "execution_count": 17,
   "id": "86aa36d2-85d7-4a75-9d61-ad89b344629f",
   "metadata": {},
   "outputs": [],
   "source": [
    "df['Cert'] = df['Cert'].astype(str)"
   ]
  },
  {
   "cell_type": "code",
   "execution_count": 18,
   "id": "4f979d6b-886e-40da-b1c8-fb1bc0447ad1",
   "metadata": {},
   "outputs": [
    {
     "data": {
      "text/html": [
       "<div>\n",
       "<style scoped>\n",
       "    .dataframe tbody tr th:only-of-type {\n",
       "        vertical-align: middle;\n",
       "    }\n",
       "\n",
       "    .dataframe tbody tr th {\n",
       "        vertical-align: top;\n",
       "    }\n",
       "\n",
       "    .dataframe thead th {\n",
       "        text-align: right;\n",
       "    }\n",
       "</style>\n",
       "<table border=\"1\" class=\"dataframe\">\n",
       "  <thead>\n",
       "    <tr style=\"text-align: right;\">\n",
       "      <th></th>\n",
       "      <th>Bank Name</th>\n",
       "      <th>City</th>\n",
       "      <th>State</th>\n",
       "      <th>Cert</th>\n",
       "      <th>Acquiring Institution</th>\n",
       "      <th>Closing Date</th>\n",
       "      <th>Fund</th>\n",
       "    </tr>\n",
       "  </thead>\n",
       "  <tbody>\n",
       "    <tr>\n",
       "      <th>0</th>\n",
       "      <td>Almena State Bank</td>\n",
       "      <td>Almena</td>\n",
       "      <td>KS</td>\n",
       "      <td>15426</td>\n",
       "      <td>Equity Bank</td>\n",
       "      <td>October 23, 2020</td>\n",
       "      <td>10538</td>\n",
       "    </tr>\n",
       "    <tr>\n",
       "      <th>1</th>\n",
       "      <td>First City Bank of Florida</td>\n",
       "      <td>Fort Walton Beach</td>\n",
       "      <td>FL</td>\n",
       "      <td>16748</td>\n",
       "      <td>United Fidelity Bank, fsb</td>\n",
       "      <td>October 16, 2020</td>\n",
       "      <td>10537</td>\n",
       "    </tr>\n",
       "    <tr>\n",
       "      <th>2</th>\n",
       "      <td>The First State Bank</td>\n",
       "      <td>Barboursville</td>\n",
       "      <td>WV</td>\n",
       "      <td>14361</td>\n",
       "      <td>MVB Bank, Inc.</td>\n",
       "      <td>April 3, 2020</td>\n",
       "      <td>10536</td>\n",
       "    </tr>\n",
       "    <tr>\n",
       "      <th>3</th>\n",
       "      <td>Ericson State Bank</td>\n",
       "      <td>Ericson</td>\n",
       "      <td>NE</td>\n",
       "      <td>18265</td>\n",
       "      <td>Farmers and Merchants Bank</td>\n",
       "      <td>February 14, 2020</td>\n",
       "      <td>10535</td>\n",
       "    </tr>\n",
       "    <tr>\n",
       "      <th>4</th>\n",
       "      <td>City National Bank of New Jersey</td>\n",
       "      <td>Newark</td>\n",
       "      <td>NJ</td>\n",
       "      <td>21111</td>\n",
       "      <td>Industrial Bank</td>\n",
       "      <td>November 1, 2019</td>\n",
       "      <td>10534</td>\n",
       "    </tr>\n",
       "    <tr>\n",
       "      <th>...</th>\n",
       "      <td>...</td>\n",
       "      <td>...</td>\n",
       "      <td>...</td>\n",
       "      <td>...</td>\n",
       "      <td>...</td>\n",
       "      <td>...</td>\n",
       "      <td>...</td>\n",
       "    </tr>\n",
       "    <tr>\n",
       "      <th>558</th>\n",
       "      <td>Superior Bank, FSB</td>\n",
       "      <td>Hinsdale</td>\n",
       "      <td>IL</td>\n",
       "      <td>32646</td>\n",
       "      <td>Superior Federal, FSB</td>\n",
       "      <td>July 27, 2001</td>\n",
       "      <td>6004</td>\n",
       "    </tr>\n",
       "    <tr>\n",
       "      <th>559</th>\n",
       "      <td>Malta National Bank</td>\n",
       "      <td>Malta</td>\n",
       "      <td>OH</td>\n",
       "      <td>6629</td>\n",
       "      <td>North Valley Bank</td>\n",
       "      <td>May 3, 2001</td>\n",
       "      <td>4648</td>\n",
       "    </tr>\n",
       "    <tr>\n",
       "      <th>560</th>\n",
       "      <td>First Alliance Bank &amp; Trust Co.</td>\n",
       "      <td>Manchester</td>\n",
       "      <td>NH</td>\n",
       "      <td>34264</td>\n",
       "      <td>Southern New Hampshire Bank &amp; Trust</td>\n",
       "      <td>February 2, 2001</td>\n",
       "      <td>4647</td>\n",
       "    </tr>\n",
       "    <tr>\n",
       "      <th>561</th>\n",
       "      <td>National State Bank of Metropolis</td>\n",
       "      <td>Metropolis</td>\n",
       "      <td>IL</td>\n",
       "      <td>3815</td>\n",
       "      <td>Banterra Bank of Marion</td>\n",
       "      <td>December 14, 2000</td>\n",
       "      <td>4646</td>\n",
       "    </tr>\n",
       "    <tr>\n",
       "      <th>562</th>\n",
       "      <td>Bank of Honolulu</td>\n",
       "      <td>Honolulu</td>\n",
       "      <td>HI</td>\n",
       "      <td>21029</td>\n",
       "      <td>Bank of the Orient</td>\n",
       "      <td>October 13, 2000</td>\n",
       "      <td>4645</td>\n",
       "    </tr>\n",
       "  </tbody>\n",
       "</table>\n",
       "<p>563 rows × 7 columns</p>\n",
       "</div>"
      ],
      "text/plain": [
       "                             Bank Name               City State   Cert  \\\n",
       "0                    Almena State Bank             Almena    KS  15426   \n",
       "1           First City Bank of Florida  Fort Walton Beach    FL  16748   \n",
       "2                 The First State Bank      Barboursville    WV  14361   \n",
       "3                   Ericson State Bank            Ericson    NE  18265   \n",
       "4     City National Bank of New Jersey             Newark    NJ  21111   \n",
       "..                                 ...                ...   ...    ...   \n",
       "558                 Superior Bank, FSB           Hinsdale    IL  32646   \n",
       "559                Malta National Bank              Malta    OH   6629   \n",
       "560    First Alliance Bank & Trust Co.         Manchester    NH  34264   \n",
       "561  National State Bank of Metropolis         Metropolis    IL   3815   \n",
       "562                   Bank of Honolulu           Honolulu    HI  21029   \n",
       "\n",
       "                   Acquiring Institution       Closing Date   Fund  \n",
       "0                            Equity Bank   October 23, 2020  10538  \n",
       "1              United Fidelity Bank, fsb   October 16, 2020  10537  \n",
       "2                         MVB Bank, Inc.      April 3, 2020  10536  \n",
       "3             Farmers and Merchants Bank  February 14, 2020  10535  \n",
       "4                        Industrial Bank   November 1, 2019  10534  \n",
       "..                                   ...                ...    ...  \n",
       "558                Superior Federal, FSB      July 27, 2001   6004  \n",
       "559                    North Valley Bank        May 3, 2001   4648  \n",
       "560  Southern New Hampshire Bank & Trust   February 2, 2001   4647  \n",
       "561              Banterra Bank of Marion  December 14, 2000   4646  \n",
       "562                   Bank of the Orient   October 13, 2000   4645  \n",
       "\n",
       "[563 rows x 7 columns]"
      ]
     },
     "execution_count": 18,
     "metadata": {},
     "output_type": "execute_result"
    }
   ],
   "source": [
    "df"
   ]
  },
  {
   "cell_type": "code",
   "execution_count": 19,
   "id": "f72f723c-6cf3-40af-8b53-2e426117d007",
   "metadata": {},
   "outputs": [
    {
     "name": "stdout",
     "output_type": "stream",
     "text": [
      "<class 'pandas.core.frame.DataFrame'>\n",
      "RangeIndex: 563 entries, 0 to 562\n",
      "Data columns (total 7 columns):\n",
      " #   Column                 Non-Null Count  Dtype \n",
      "---  ------                 --------------  ----- \n",
      " 0   Bank Name              563 non-null    object\n",
      " 1   City                   563 non-null    object\n",
      " 2   State                  563 non-null    object\n",
      " 3   Cert                   563 non-null    object\n",
      " 4   Acquiring Institution  563 non-null    object\n",
      " 5   Closing Date           563 non-null    object\n",
      " 6   Fund                   563 non-null    int64 \n",
      "dtypes: int64(1), object(6)\n",
      "memory usage: 30.9+ KB\n"
     ]
    }
   ],
   "source": [
    "df.info()"
   ]
  },
  {
   "cell_type": "code",
   "execution_count": 20,
   "id": "53afd3b7-b95c-43cc-8908-74bac59db55c",
   "metadata": {},
   "outputs": [
    {
     "data": {
      "text/plain": [
       "10036.8756660746"
      ]
     },
     "execution_count": 20,
     "metadata": {},
     "output_type": "execute_result"
    }
   ],
   "source": [
    "df['Fund'].mean()"
   ]
  },
  {
   "cell_type": "code",
   "execution_count": 21,
   "id": "e5ab36d8-534f-47e2-ad66-39dcc7a67bac",
   "metadata": {},
   "outputs": [
    {
     "data": {
      "text/html": [
       "<div>\n",
       "<style scoped>\n",
       "    .dataframe tbody tr th:only-of-type {\n",
       "        vertical-align: middle;\n",
       "    }\n",
       "\n",
       "    .dataframe tbody tr th {\n",
       "        vertical-align: top;\n",
       "    }\n",
       "\n",
       "    .dataframe thead th {\n",
       "        text-align: right;\n",
       "    }\n",
       "</style>\n",
       "<table border=\"1\" class=\"dataframe\">\n",
       "  <thead>\n",
       "    <tr style=\"text-align: right;\">\n",
       "      <th></th>\n",
       "      <th>Bank Name</th>\n",
       "      <th>City</th>\n",
       "      <th>State</th>\n",
       "      <th>Cert</th>\n",
       "      <th>Acquiring Institution</th>\n",
       "      <th>Closing Date</th>\n",
       "      <th>Fund</th>\n",
       "    </tr>\n",
       "  </thead>\n",
       "  <tbody>\n",
       "    <tr>\n",
       "      <th>0</th>\n",
       "      <td>Almena State Bank</td>\n",
       "      <td>Almena</td>\n",
       "      <td>KS</td>\n",
       "      <td>15426</td>\n",
       "      <td>Equity Bank</td>\n",
       "      <td>October 23, 2020</td>\n",
       "      <td>10538</td>\n",
       "    </tr>\n",
       "    <tr>\n",
       "      <th>1</th>\n",
       "      <td>First City Bank of Florida</td>\n",
       "      <td>Fort Walton Beach</td>\n",
       "      <td>FL</td>\n",
       "      <td>16748</td>\n",
       "      <td>United Fidelity Bank, fsb</td>\n",
       "      <td>October 16, 2020</td>\n",
       "      <td>10537</td>\n",
       "    </tr>\n",
       "    <tr>\n",
       "      <th>2</th>\n",
       "      <td>The First State Bank</td>\n",
       "      <td>Barboursville</td>\n",
       "      <td>WV</td>\n",
       "      <td>14361</td>\n",
       "      <td>MVB Bank, Inc.</td>\n",
       "      <td>April 3, 2020</td>\n",
       "      <td>10536</td>\n",
       "    </tr>\n",
       "    <tr>\n",
       "      <th>3</th>\n",
       "      <td>Ericson State Bank</td>\n",
       "      <td>Ericson</td>\n",
       "      <td>NE</td>\n",
       "      <td>18265</td>\n",
       "      <td>Farmers and Merchants Bank</td>\n",
       "      <td>February 14, 2020</td>\n",
       "      <td>10535</td>\n",
       "    </tr>\n",
       "    <tr>\n",
       "      <th>4</th>\n",
       "      <td>City National Bank of New Jersey</td>\n",
       "      <td>Newark</td>\n",
       "      <td>NJ</td>\n",
       "      <td>21111</td>\n",
       "      <td>Industrial Bank</td>\n",
       "      <td>November 1, 2019</td>\n",
       "      <td>10534</td>\n",
       "    </tr>\n",
       "    <tr>\n",
       "      <th>...</th>\n",
       "      <td>...</td>\n",
       "      <td>...</td>\n",
       "      <td>...</td>\n",
       "      <td>...</td>\n",
       "      <td>...</td>\n",
       "      <td>...</td>\n",
       "      <td>...</td>\n",
       "    </tr>\n",
       "    <tr>\n",
       "      <th>497</th>\n",
       "      <td>Silver Falls Bank</td>\n",
       "      <td>Silverton</td>\n",
       "      <td>OR</td>\n",
       "      <td>35399</td>\n",
       "      <td>Citizens Bank</td>\n",
       "      <td>February 20, 2009</td>\n",
       "      <td>10041</td>\n",
       "    </tr>\n",
       "    <tr>\n",
       "      <th>498</th>\n",
       "      <td>Pinnacle Bank of Oregon</td>\n",
       "      <td>Beaverton</td>\n",
       "      <td>OR</td>\n",
       "      <td>57342</td>\n",
       "      <td>Washington Trust Bank of Spokane</td>\n",
       "      <td>February 13, 2009</td>\n",
       "      <td>10040</td>\n",
       "    </tr>\n",
       "    <tr>\n",
       "      <th>499</th>\n",
       "      <td>Corn Belt Bank &amp; Trust Co.</td>\n",
       "      <td>Pittsfield</td>\n",
       "      <td>IL</td>\n",
       "      <td>16500</td>\n",
       "      <td>The Carlinville National Bank</td>\n",
       "      <td>February 13, 2009</td>\n",
       "      <td>10037</td>\n",
       "    </tr>\n",
       "    <tr>\n",
       "      <th>500</th>\n",
       "      <td>Riverside Bank of the Gulf Coast</td>\n",
       "      <td>Cape Coral</td>\n",
       "      <td>FL</td>\n",
       "      <td>34563</td>\n",
       "      <td>TIB Bank</td>\n",
       "      <td>February 13, 2009</td>\n",
       "      <td>10038</td>\n",
       "    </tr>\n",
       "    <tr>\n",
       "      <th>501</th>\n",
       "      <td>Sherman County Bank</td>\n",
       "      <td>Loup City</td>\n",
       "      <td>NE</td>\n",
       "      <td>5431</td>\n",
       "      <td>Heritage Bank</td>\n",
       "      <td>February 13, 2009</td>\n",
       "      <td>10039</td>\n",
       "    </tr>\n",
       "  </tbody>\n",
       "</table>\n",
       "<p>502 rows × 7 columns</p>\n",
       "</div>"
      ],
      "text/plain": [
       "                            Bank Name               City State   Cert  \\\n",
       "0                   Almena State Bank             Almena    KS  15426   \n",
       "1          First City Bank of Florida  Fort Walton Beach    FL  16748   \n",
       "2                The First State Bank      Barboursville    WV  14361   \n",
       "3                  Ericson State Bank            Ericson    NE  18265   \n",
       "4    City National Bank of New Jersey             Newark    NJ  21111   \n",
       "..                                ...                ...   ...    ...   \n",
       "497                 Silver Falls Bank          Silverton    OR  35399   \n",
       "498           Pinnacle Bank of Oregon          Beaverton    OR  57342   \n",
       "499        Corn Belt Bank & Trust Co.         Pittsfield    IL  16500   \n",
       "500  Riverside Bank of the Gulf Coast         Cape Coral    FL  34563   \n",
       "501               Sherman County Bank          Loup City    NE   5431   \n",
       "\n",
       "                Acquiring Institution       Closing Date   Fund  \n",
       "0                         Equity Bank   October 23, 2020  10538  \n",
       "1           United Fidelity Bank, fsb   October 16, 2020  10537  \n",
       "2                      MVB Bank, Inc.      April 3, 2020  10536  \n",
       "3          Farmers and Merchants Bank  February 14, 2020  10535  \n",
       "4                     Industrial Bank   November 1, 2019  10534  \n",
       "..                                ...                ...    ...  \n",
       "497                     Citizens Bank  February 20, 2009  10041  \n",
       "498  Washington Trust Bank of Spokane  February 13, 2009  10040  \n",
       "499     The Carlinville National Bank  February 13, 2009  10037  \n",
       "500                          TIB Bank  February 13, 2009  10038  \n",
       "501                     Heritage Bank  February 13, 2009  10039  \n",
       "\n",
       "[502 rows x 7 columns]"
      ]
     },
     "execution_count": 21,
     "metadata": {},
     "output_type": "execute_result"
    }
   ],
   "source": [
    "df[df['Fund'] > df['Fund'].mean()]"
   ]
  },
  {
   "cell_type": "code",
   "execution_count": 22,
   "id": "30c341d7-ce47-4cd9-805a-cefa2d744d9e",
   "metadata": {},
   "outputs": [
    {
     "name": "stdout",
     "output_type": "stream",
     "text": [
      "<class 'pandas.core.frame.DataFrame'>\n",
      "Int64Index: 502 entries, 0 to 501\n",
      "Data columns (total 7 columns):\n",
      " #   Column                 Non-Null Count  Dtype \n",
      "---  ------                 --------------  ----- \n",
      " 0   Bank Name              502 non-null    object\n",
      " 1   City                   502 non-null    object\n",
      " 2   State                  502 non-null    object\n",
      " 3   Cert                   502 non-null    object\n",
      " 4   Acquiring Institution  502 non-null    object\n",
      " 5   Closing Date           502 non-null    object\n",
      " 6   Fund                   502 non-null    int64 \n",
      "dtypes: int64(1), object(6)\n",
      "memory usage: 31.4+ KB\n"
     ]
    }
   ],
   "source": [
    "df[df['Fund'] > df['Fund'].mean()].info()"
   ]
  },
  {
   "cell_type": "code",
   "execution_count": 23,
   "id": "d5be532d-f458-4113-a043-53d9dd38896c",
   "metadata": {},
   "outputs": [
    {
     "data": {
      "text/plain": [
       "502"
      ]
     },
     "execution_count": 23,
     "metadata": {},
     "output_type": "execute_result"
    }
   ],
   "source": [
    "len(df[df['Fund'] > df['Fund'].mean()])"
   ]
  },
  {
   "cell_type": "code",
   "execution_count": 24,
   "id": "309c0622-1f3e-4144-9072-4ff583859a8e",
   "metadata": {},
   "outputs": [
    {
     "data": {
      "text/plain": [
       "281"
      ]
     },
     "execution_count": 24,
     "metadata": {},
     "output_type": "execute_result"
    }
   ],
   "source": [
    "len(df[df['Fund'] > df['Fund'].median()])"
   ]
  },
  {
   "cell_type": "code",
   "execution_count": 25,
   "id": "f7a9d73e-1555-4efa-b1f0-5a23f725a850",
   "metadata": {
    "tags": []
   },
   "outputs": [
    {
     "data": {
      "text/plain": [
       "array(['Almena', 'Fort Walton Beach', 'Barboursville', 'Ericson',\n",
       "       'Newark', 'Maumee', 'Louisa', 'Cooper', 'Chicago', 'Argonia',\n",
       "       'Saint Elmo', 'Milwaukee', 'New Orleans', 'Cottonwood Heights',\n",
       "       'Pennsville', 'Mulberry', 'Woodbury', 'King of Prussia', 'Memphis',\n",
       "       'Longview', 'Peachtree City', 'Denver', 'San Juan', 'Atlanta',\n",
       "       'Crestview', 'Mankato', 'Palm Desert', 'Rising Sun', 'Conyers',\n",
       "       'Freedom', 'Fort Lauderdale', 'Moline', 'Bel Air', 'Cincinnati',\n",
       "       'Berwyn', 'Fairfax', 'Horsham', 'Sterling', 'Boise', 'El Reno',\n",
       "       'West Chicago', 'The Woodlands', 'Graceville', 'Edinburg',\n",
       "       'Bridgeport', 'Phoenix', 'Parsons', 'Wausau', 'Fort Myers',\n",
       "       'Sevierville', 'North Las Vegas', 'Kenosha', 'Scottsdale',\n",
       "       'Valdosta', 'Asheville', 'Douglasville', 'Lenoir', 'Marianna',\n",
       "       'Orange Park', 'Lexington', 'Gold Canyon', 'LaGrange', 'Andover',\n",
       "       'University Place', 'Sunrise Beach', 'Braselton', 'Princeton',\n",
       "       'Lutz', 'Sedalia', 'Tamarac', 'Destin', 'Crete', 'St. Louis',\n",
       "       'Bloomington', 'Waukegan', 'Jasper', 'Leawood', 'Woodstock',\n",
       "       'Buford', 'Naples', 'Glasgow', 'Ailey', 'Lynchburg', 'Marietta',\n",
       "       'Palatka', 'Whiteville', 'Shabbona', 'Charleston', 'Kingfisher',\n",
       "       'Sylacauga', 'North Lauderdale', 'Pawleys Island', 'Maple Grove',\n",
       "       'Gaithersburg', 'Cambridge', 'Fort Lee', 'Dearborn', 'Wilmette',\n",
       "       'Rock Spring', 'Doraville', 'Little Falls', 'Ellaville',\n",
       "       'Shelbyville', 'Hoffman Estates', 'Knoxville', 'Forest Lake',\n",
       "       'Franklin', 'Jacksonville', 'Boothwyn', 'Stockbridge', 'Belleview',\n",
       "       'Lacombe', 'Johnston', 'Rockmart', 'Saint George', 'Omaha',\n",
       "       'Des Plaines', 'Greenwood Village', 'Jonesboro', 'Decatur',\n",
       "       'Clearwater', 'Aledo', 'Cranford', 'Gray', 'Ellington', 'Wyoming',\n",
       "       'Plano', 'Nevada City', 'Norfolk', 'Milton', 'Cumming', 'Geneva',\n",
       "       'Statesboro', 'Palm Beach', 'Huntingdon Valley', 'Olathe',\n",
       "       'Colfax', 'Shorewood', 'Evansville', 'Columbia', 'Richmond',\n",
       "       'Greeley', 'Sarasota', 'Apollo Beach', 'Prescott',\n",
       "       'Port St. Lucie', 'Windsor', 'Castle Rock', 'Clayton', 'Tampa',\n",
       "       'Jackson', 'Snohomish', 'Burlington', 'Macon', 'Cocoa Beach',\n",
       "       'Mount Clemens', 'Dallas', 'Brooksville', 'Winter Park',\n",
       "       'Carthage', 'Rosemount', 'Birmingham', 'East Ellijay',\n",
       "       'Cartersville', 'Las Vegas', 'Western Springs', 'Wood Dale',\n",
       "       'Davis', 'St. Charles', 'San Luis Obispo', 'Napa', 'Springfield',\n",
       "       'Clarkesville', 'Palm Springs', 'Cassville', 'Hamtramck',\n",
       "       'Port Orange', 'Watkinsville', 'Roswell', 'Taos', 'Louisville',\n",
       "       'Stoughton', 'Camargo', 'Easley', 'McDonough', 'Brunswick',\n",
       "       'Orlando', 'Lino Lakes', 'Batesville', 'McCaysville',\n",
       "       'Dawsonville', 'Coral Gables', 'Southampton', 'Farmington Hills',\n",
       "       'Bala Cynwyd', 'Carrabelle', 'Vidalia', 'Tifton', 'Westminster',\n",
       "       'Tacoma', 'Woodland Hills', 'Randallstown', 'Overland Park',\n",
       "       'Maywood', 'Barnesville', 'Gordon', 'Jefferson City',\n",
       "       'Chesterfield', 'Shoreline', 'Crawfordville', 'Arlington',\n",
       "       'Ponte Vedra Beach', 'West Allis', 'Milford', 'Winder', 'Ellijay',\n",
       "       'Cherry Hill', 'Bradenton', 'Sonoma', 'Solvang', 'Chico',\n",
       "       'Stockton', 'Martinsville', 'Ocala', 'Bartow', 'Palos Heights',\n",
       "       'Eugene', 'Panama City Beach', 'Port Saint Joe', 'Acworth',\n",
       "       'Cave Junction', 'New Prague', 'Sylvan Grove', 'Kingstree',\n",
       "       'Lantana', 'Hastings', 'Clewiston', 'Aventura', 'Miami',\n",
       "       'Spartanburg', 'Bluffton', 'Blackwell', 'Port Chester',\n",
       "       'Baltimore', 'Albuquerque', 'Savannah', 'Englewood', 'Reno',\n",
       "       'Seattle', 'Lincoln', 'Arcola', 'Rosedale', 'Granite Bay',\n",
       "       'Saint Paul', 'Elmwood Park', 'Plymouth', 'Saint Marys',\n",
       "       'San Diego', 'Mesa', 'Champlin', 'Bonifay', 'Everett', 'Butler',\n",
       "       'Creve Coeur', 'Port Huron', 'Mayaguez', 'Hato Rey', 'Naperville',\n",
       "       'Peotone', 'Rockford', 'Lynnwood', 'San Rafael', 'Oakland',\n",
       "       'Lowell', 'Fort Pierce', 'Clermont', 'Sterling Heights',\n",
       "       'Myrtle Beach', 'Key West', 'Carrollton', 'Aurora', 'Fort Deposit',\n",
       "       'Hiawassee', 'Draper', 'Duluth', 'Parma', 'Covington', 'New York',\n",
       "       'Ogden', 'Germantown', 'Normal', 'Boca Raton', 'Carson City',\n",
       "       'La Jolla', 'Orland Park', 'La Coste', 'Marco Island', 'Hancock',\n",
       "       'Bainbridge Island', 'Los Angeles', 'Cornelia', 'Hallock',\n",
       "       'Immokalee', 'The Dalles', 'Santa Fe', 'Leeton', 'Kaysville',\n",
       "       'St. Stephen', 'Antioch', 'Bellingham', 'Santa Monica', 'Irondale',\n",
       "       'New Baltimore', 'Panama City', 'Reston', 'Cleveland',\n",
       "       'Reidsville', 'Norcross', 'San Clemente', 'San Francisco',\n",
       "       'Oakdale', 'Detroit', 'Sparta', 'Houston', 'Madisonville',\n",
       "       'Teague', 'Lemont', 'Westmont', 'Otsego', 'Racine',\n",
       "       'Lawrenceville', 'Bakersfield', 'Pueblo', 'Spring Grove', 'Warren',\n",
       "       'Columbus', 'Lacey', 'Flagstaff', 'Rolling Meadows', 'Sioux City',\n",
       "       'Oak Forest', 'Kansas City', 'Ventura', 'Austin', 'Newnan',\n",
       "       'Gilbert', 'Montgomery', 'Pittsburgh', 'Prineville', 'Venice',\n",
       "       'Harvey', 'Elizabeth', 'West Chester', 'Jupiter', 'Altus', 'Perry',\n",
       "       'Alpharetta', 'Suwanee', 'Williamsville', 'Temecula',\n",
       "       'Rancho Cucamonga', 'Sioux Falls', 'Thermopolis', 'Worth',\n",
       "       'Danville', 'Oregon', 'Winchester', 'Clinton', 'Irvine',\n",
       "       'Pine City', 'Villa Rica', 'Anthony', 'Wilmington', 'Fayetteville',\n",
       "       'Lincolnwood', 'Macomb', 'Champaign', 'Bremerton', 'Layton',\n",
       "       'Ridgewood', 'Ketchum', 'Calabasas', 'Kennesaw', 'Elko',\n",
       "       'Sugar Creek', 'Paola', 'Colorado Springs', 'Commerce',\n",
       "       'Henderson', 'Glenwood', 'Silverton', 'Beaverton', 'Pittsfield',\n",
       "       'Cape Coral', 'Loup City', 'Merced', 'Culver City', 'Crofton',\n",
       "       'Salt Lake City', 'Redlands', 'Vancouver', 'Berkeley', 'Sanderson',\n",
       "       'Pomona', 'Newport Beach', 'Loganville', 'Eldred', 'Northville',\n",
       "       'Northfork', 'Topeka', 'Pasadena', 'Staples', 'Bentonville',\n",
       "       'Hume', 'Lakeview', 'Ephraim', 'White Plains', 'Tallahassee',\n",
       "       'Philadelphia', 'Blanchardville', 'Torrance', 'Cheneyville',\n",
       "       'Alamo', 'Stamford', 'Shelby Township', 'Oakwood', 'Sierra Blanca',\n",
       "       'Gravette', 'Hinsdale', 'Malta', 'Manchester', 'Metropolis',\n",
       "       'Honolulu'], dtype=object)"
      ]
     },
     "execution_count": 25,
     "metadata": {},
     "output_type": "execute_result"
    }
   ],
   "source": [
    "df['City'].unique()"
   ]
  },
  {
   "cell_type": "code",
   "execution_count": 26,
   "id": "1c0c9870-04a4-4cbc-8b28-fa765a32a911",
   "metadata": {},
   "outputs": [
    {
     "data": {
      "text/plain": [
       "433"
      ]
     },
     "execution_count": 26,
     "metadata": {},
     "output_type": "execute_result"
    }
   ],
   "source": [
    "len(df['City'].unique())"
   ]
  },
  {
   "cell_type": "code",
   "execution_count": 27,
   "id": "95f2e93d-291a-4d29-99df-2a704747265c",
   "metadata": {},
   "outputs": [
    {
     "data": {
      "text/plain": [
       "563"
      ]
     },
     "execution_count": 27,
     "metadata": {},
     "output_type": "execute_result"
    }
   ],
   "source": [
    "len(df['City'])"
   ]
  },
  {
   "cell_type": "code",
   "execution_count": 28,
   "id": "f8d87de7-0fa8-400d-a303-43027aa63aa1",
   "metadata": {},
   "outputs": [
    {
     "data": {
      "text/plain": [
       "Chicago         20\n",
       "Atlanta         10\n",
       "Phoenix          6\n",
       "Naples           5\n",
       "Scottsdale       4\n",
       "                ..\n",
       "East Ellijay     1\n",
       "Rosemount        1\n",
       "Carthage         1\n",
       "Winter Park      1\n",
       "Honolulu         1\n",
       "Name: City, Length: 433, dtype: int64"
      ]
     },
     "execution_count": 28,
     "metadata": {},
     "output_type": "execute_result"
    }
   ],
   "source": [
    "df['City'].value_counts()"
   ]
  },
  {
   "cell_type": "code",
   "execution_count": 29,
   "id": "85c46b59-13a7-45dc-a495-ec35313e99c2",
   "metadata": {},
   "outputs": [
    {
     "data": {
      "text/plain": [
       "array(['KS', 'FL', 'WV', 'NE', 'NJ', 'OH', 'KY', 'TX', 'IL', 'WI', 'LA',\n",
       "       'UT', 'AR', 'GA', 'PA', 'TN', 'WA', 'CO', 'PR', 'MN', 'CA', 'MD',\n",
       "       'OK', 'SC', 'VA', 'ID', 'CT', 'AZ', 'NV', 'NC', 'MO', 'AL', 'MI',\n",
       "       'IN', 'IA', 'MS', 'NM', 'OR', 'NY', 'MA', 'SD', 'WY', 'NH', 'HI'],\n",
       "      dtype=object)"
      ]
     },
     "execution_count": 29,
     "metadata": {},
     "output_type": "execute_result"
    }
   ],
   "source": [
    "df['State'].unique()"
   ]
  },
  {
   "cell_type": "code",
   "execution_count": 30,
   "id": "86adbb9d-21be-4077-a425-e8310671da0d",
   "metadata": {},
   "outputs": [
    {
     "data": {
      "text/plain": [
       "GA    93\n",
       "FL    76\n",
       "IL    69\n",
       "CA    41\n",
       "MN    23\n",
       "WA    19\n",
       "AZ    16\n",
       "MO    16\n",
       "MI    14\n",
       "TX    13\n",
       "NV    12\n",
       "KS    11\n",
       "WI    11\n",
       "SC    10\n",
       "CO    10\n",
       "MD    10\n",
       "PA    10\n",
       "OH     9\n",
       "NJ     8\n",
       "UT     8\n",
       "NC     7\n",
       "AL     7\n",
       "OK     7\n",
       "TN     7\n",
       "OR     6\n",
       "VA     5\n",
       "NY     5\n",
       "PR     4\n",
       "AR     4\n",
       "LA     4\n",
       "NE     4\n",
       "NM     3\n",
       "IN     3\n",
       "KY     3\n",
       "WV     2\n",
       "IA     2\n",
       "MS     2\n",
       "CT     2\n",
       "ID     2\n",
       "MA     1\n",
       "SD     1\n",
       "WY     1\n",
       "NH     1\n",
       "HI     1\n",
       "Name: State, dtype: int64"
      ]
     },
     "execution_count": 30,
     "metadata": {},
     "output_type": "execute_result"
    }
   ],
   "source": [
    "df['State'].value_counts()"
   ]
  },
  {
   "cell_type": "code",
   "execution_count": 33,
   "id": "8614c3d0-7516-4d0f-9953-32451b4090c6",
   "metadata": {},
   "outputs": [
    {
     "data": {
      "text/html": [
       "<div>\n",
       "<style scoped>\n",
       "    .dataframe tbody tr th:only-of-type {\n",
       "        vertical-align: middle;\n",
       "    }\n",
       "\n",
       "    .dataframe tbody tr th {\n",
       "        vertical-align: top;\n",
       "    }\n",
       "\n",
       "    .dataframe thead th {\n",
       "        text-align: right;\n",
       "    }\n",
       "</style>\n",
       "<table border=\"1\" class=\"dataframe\">\n",
       "  <thead>\n",
       "    <tr style=\"text-align: right;\">\n",
       "      <th></th>\n",
       "      <th>Bank Name</th>\n",
       "      <th>City</th>\n",
       "      <th>State</th>\n",
       "      <th>Cert</th>\n",
       "      <th>Acquiring Institution</th>\n",
       "      <th>Closing Date</th>\n",
       "      <th>Fund</th>\n",
       "    </tr>\n",
       "  </thead>\n",
       "  <tbody>\n",
       "    <tr>\n",
       "      <th>562</th>\n",
       "      <td>Bank of Honolulu</td>\n",
       "      <td>Honolulu</td>\n",
       "      <td>HI</td>\n",
       "      <td>21029</td>\n",
       "      <td>Bank of the Orient</td>\n",
       "      <td>October 13, 2000</td>\n",
       "      <td>4645</td>\n",
       "    </tr>\n",
       "  </tbody>\n",
       "</table>\n",
       "</div>"
      ],
      "text/plain": [
       "            Bank Name      City State   Cert Acquiring Institution  \\\n",
       "562  Bank of Honolulu  Honolulu    HI  21029    Bank of the Orient   \n",
       "\n",
       "         Closing Date  Fund  \n",
       "562  October 13, 2000  4645  "
      ]
     },
     "execution_count": 33,
     "metadata": {},
     "output_type": "execute_result"
    }
   ],
   "source": [
    "df[df['Fund'] == df['Fund'].min()]"
   ]
  },
  {
   "cell_type": "code",
   "execution_count": 39,
   "id": "0e23a3b3-2b4d-4c6d-b9c9-e5844d67fa9f",
   "metadata": {},
   "outputs": [
    {
     "data": {
      "text/html": [
       "<div>\n",
       "<style scoped>\n",
       "    .dataframe tbody tr th:only-of-type {\n",
       "        vertical-align: middle;\n",
       "    }\n",
       "\n",
       "    .dataframe tbody tr th {\n",
       "        vertical-align: top;\n",
       "    }\n",
       "\n",
       "    .dataframe thead th {\n",
       "        text-align: right;\n",
       "    }\n",
       "</style>\n",
       "<table border=\"1\" class=\"dataframe\">\n",
       "  <thead>\n",
       "    <tr style=\"text-align: right;\">\n",
       "      <th></th>\n",
       "      <th>Bank Name</th>\n",
       "      <th>City</th>\n",
       "      <th>State</th>\n",
       "      <th>Cert</th>\n",
       "      <th>Acquiring Institution</th>\n",
       "      <th>Closing Date</th>\n",
       "      <th>Fund</th>\n",
       "    </tr>\n",
       "  </thead>\n",
       "  <tbody>\n",
       "    <tr>\n",
       "      <th>562</th>\n",
       "      <td>Bank of Honolulu</td>\n",
       "      <td>Honolulu</td>\n",
       "      <td>HI</td>\n",
       "      <td>21029</td>\n",
       "      <td>Bank of the Orient</td>\n",
       "      <td>October 13, 2000</td>\n",
       "      <td>4645</td>\n",
       "    </tr>\n",
       "  </tbody>\n",
       "</table>\n",
       "</div>"
      ],
      "text/plain": [
       "            Bank Name      City State   Cert Acquiring Institution  \\\n",
       "562  Bank of Honolulu  Honolulu    HI  21029    Bank of the Orient   \n",
       "\n",
       "         Closing Date  Fund  \n",
       "562  October 13, 2000  4645  "
      ]
     },
     "execution_count": 39,
     "metadata": {},
     "output_type": "execute_result"
    }
   ],
   "source": [
    "df[df['City'].str.upper() == 'Honolulu'.upper()]"
   ]
  },
  {
   "cell_type": "code",
   "execution_count": 37,
   "id": "7d8177be-67ce-4c17-a017-d1ccbe23f57d",
   "metadata": {},
   "outputs": [
    {
     "data": {
      "text/plain": [
       "Chicago         20\n",
       "Atlanta         10\n",
       "Phoenix          6\n",
       "Naples           5\n",
       "Scottsdale       4\n",
       "                ..\n",
       "East Ellijay     1\n",
       "Rosemount        1\n",
       "Carthage         1\n",
       "Winter Park      1\n",
       "Honolulu         1\n",
       "Name: City, Length: 433, dtype: int64"
      ]
     },
     "execution_count": 37,
     "metadata": {},
     "output_type": "execute_result"
    }
   ],
   "source": [
    "df['City'].value_counts()"
   ]
  },
  {
   "cell_type": "markdown",
   "id": "b5dacdc8-90c0-4219-afe1-180440aefd6c",
   "metadata": {},
   "source": [
    "State가 GA, Fund가 5000이상 10000이하인 데이터"
   ]
  },
  {
   "cell_type": "code",
   "execution_count": 43,
   "id": "b6b18150-f130-43da-95f4-aecd334cf8e3",
   "metadata": {},
   "outputs": [
    {
     "data": {
      "text/html": [
       "<div>\n",
       "<style scoped>\n",
       "    .dataframe tbody tr th:only-of-type {\n",
       "        vertical-align: middle;\n",
       "    }\n",
       "\n",
       "    .dataframe tbody tr th {\n",
       "        vertical-align: top;\n",
       "    }\n",
       "\n",
       "    .dataframe thead th {\n",
       "        text-align: right;\n",
       "    }\n",
       "</style>\n",
       "<table border=\"1\" class=\"dataframe\">\n",
       "  <thead>\n",
       "    <tr style=\"text-align: right;\">\n",
       "      <th></th>\n",
       "      <th>Bank Name</th>\n",
       "      <th>City</th>\n",
       "      <th>State</th>\n",
       "      <th>Cert</th>\n",
       "      <th>Acquiring Institution</th>\n",
       "      <th>Closing Date</th>\n",
       "      <th>Fund</th>\n",
       "    </tr>\n",
       "  </thead>\n",
       "  <tbody>\n",
       "    <tr>\n",
       "      <th>17</th>\n",
       "      <td>The Woodbury Banking Company</td>\n",
       "      <td>Woodbury</td>\n",
       "      <td>GA</td>\n",
       "      <td>11297</td>\n",
       "      <td>United Bank</td>\n",
       "      <td>August 19, 2016</td>\n",
       "      <td>10521</td>\n",
       "    </tr>\n",
       "    <tr>\n",
       "      <th>22</th>\n",
       "      <td>The Bank of Georgia</td>\n",
       "      <td>Peachtree City</td>\n",
       "      <td>GA</td>\n",
       "      <td>35259</td>\n",
       "      <td>Fidelity Bank</td>\n",
       "      <td>October 2, 2015</td>\n",
       "      <td>10516</td>\n",
       "    </tr>\n",
       "    <tr>\n",
       "      <th>26</th>\n",
       "      <td>Capitol City Bank &amp; Trust Company</td>\n",
       "      <td>Atlanta</td>\n",
       "      <td>GA</td>\n",
       "      <td>33938</td>\n",
       "      <td>First-Citizens Bank &amp; Trust Company</td>\n",
       "      <td>February 13, 2015</td>\n",
       "      <td>10512</td>\n",
       "    </tr>\n",
       "    <tr>\n",
       "      <th>34</th>\n",
       "      <td>Eastside Commercial Bank</td>\n",
       "      <td>Conyers</td>\n",
       "      <td>GA</td>\n",
       "      <td>58125</td>\n",
       "      <td>Community &amp; Southern Bank</td>\n",
       "      <td>July 18, 2014</td>\n",
       "      <td>10504</td>\n",
       "    </tr>\n",
       "    <tr>\n",
       "      <th>59</th>\n",
       "      <td>Sunrise Bank</td>\n",
       "      <td>Valdosta</td>\n",
       "      <td>GA</td>\n",
       "      <td>58185</td>\n",
       "      <td>Synovus Bank</td>\n",
       "      <td>May 10, 2013</td>\n",
       "      <td>10481</td>\n",
       "    </tr>\n",
       "    <tr>\n",
       "      <th>...</th>\n",
       "      <td>...</td>\n",
       "      <td>...</td>\n",
       "      <td>...</td>\n",
       "      <td>...</td>\n",
       "      <td>...</td>\n",
       "      <td>...</td>\n",
       "      <td>...</td>\n",
       "    </tr>\n",
       "    <tr>\n",
       "      <th>516</th>\n",
       "      <td>Community Bank</td>\n",
       "      <td>Loganville</td>\n",
       "      <td>GA</td>\n",
       "      <td>16490</td>\n",
       "      <td>Bank of Essex</td>\n",
       "      <td>November 21, 2008</td>\n",
       "      <td>10022</td>\n",
       "    </tr>\n",
       "    <tr>\n",
       "      <th>520</th>\n",
       "      <td>Alpha Bank &amp; Trust</td>\n",
       "      <td>Alpharetta</td>\n",
       "      <td>GA</td>\n",
       "      <td>58241</td>\n",
       "      <td>Stearns Bank, N.A.</td>\n",
       "      <td>October 24, 2008</td>\n",
       "      <td>10018</td>\n",
       "    </tr>\n",
       "    <tr>\n",
       "      <th>526</th>\n",
       "      <td>Integrity Bank</td>\n",
       "      <td>Alpharetta</td>\n",
       "      <td>GA</td>\n",
       "      <td>35469</td>\n",
       "      <td>Regions Bank</td>\n",
       "      <td>August 29, 2008</td>\n",
       "      <td>10012</td>\n",
       "    </tr>\n",
       "    <tr>\n",
       "      <th>537</th>\n",
       "      <td>NetBank</td>\n",
       "      <td>Alpharetta</td>\n",
       "      <td>GA</td>\n",
       "      <td>32575</td>\n",
       "      <td>ING DIRECT</td>\n",
       "      <td>September 28, 2007</td>\n",
       "      <td>10001</td>\n",
       "    </tr>\n",
       "    <tr>\n",
       "      <th>548</th>\n",
       "      <td>AmTrade International Bank  En Español</td>\n",
       "      <td>Atlanta</td>\n",
       "      <td>GA</td>\n",
       "      <td>33784</td>\n",
       "      <td>No Acquirer</td>\n",
       "      <td>September 30, 2002</td>\n",
       "      <td>4657</td>\n",
       "    </tr>\n",
       "  </tbody>\n",
       "</table>\n",
       "<p>93 rows × 7 columns</p>\n",
       "</div>"
      ],
      "text/plain": [
       "                                  Bank Name            City State   Cert  \\\n",
       "17             The Woodbury Banking Company        Woodbury    GA  11297   \n",
       "22                      The Bank of Georgia  Peachtree City    GA  35259   \n",
       "26        Capitol City Bank & Trust Company         Atlanta    GA  33938   \n",
       "34                 Eastside Commercial Bank         Conyers    GA  58125   \n",
       "59                             Sunrise Bank        Valdosta    GA  58185   \n",
       "..                                      ...             ...   ...    ...   \n",
       "516                          Community Bank      Loganville    GA  16490   \n",
       "520                      Alpha Bank & Trust      Alpharetta    GA  58241   \n",
       "526                          Integrity Bank      Alpharetta    GA  35469   \n",
       "537                                 NetBank      Alpharetta    GA  32575   \n",
       "548  AmTrade International Bank  En Español         Atlanta    GA  33784   \n",
       "\n",
       "                   Acquiring Institution        Closing Date   Fund  \n",
       "17                           United Bank     August 19, 2016  10521  \n",
       "22                         Fidelity Bank     October 2, 2015  10516  \n",
       "26   First-Citizens Bank & Trust Company   February 13, 2015  10512  \n",
       "34             Community & Southern Bank       July 18, 2014  10504  \n",
       "59                          Synovus Bank        May 10, 2013  10481  \n",
       "..                                   ...                 ...    ...  \n",
       "516                        Bank of Essex   November 21, 2008  10022  \n",
       "520                   Stearns Bank, N.A.    October 24, 2008  10018  \n",
       "526                         Regions Bank     August 29, 2008  10012  \n",
       "537                           ING DIRECT  September 28, 2007  10001  \n",
       "548                          No Acquirer  September 30, 2002   4657  \n",
       "\n",
       "[93 rows x 7 columns]"
      ]
     },
     "execution_count": 43,
     "metadata": {},
     "output_type": "execute_result"
    }
   ],
   "source": [
    "df[(df['State'].str.upper() == 'GA'.upper())]"
   ]
  },
  {
   "cell_type": "code",
   "execution_count": 47,
   "id": "b5289466-6ae1-4890-9423-b61221f1f6d5",
   "metadata": {},
   "outputs": [
    {
     "data": {
      "text/html": [
       "<div>\n",
       "<style scoped>\n",
       "    .dataframe tbody tr th:only-of-type {\n",
       "        vertical-align: middle;\n",
       "    }\n",
       "\n",
       "    .dataframe tbody tr th {\n",
       "        vertical-align: top;\n",
       "    }\n",
       "\n",
       "    .dataframe thead th {\n",
       "        text-align: right;\n",
       "    }\n",
       "</style>\n",
       "<table border=\"1\" class=\"dataframe\">\n",
       "  <thead>\n",
       "    <tr style=\"text-align: right;\">\n",
       "      <th></th>\n",
       "      <th>Bank Name</th>\n",
       "      <th>City</th>\n",
       "      <th>State</th>\n",
       "      <th>Cert</th>\n",
       "      <th>Acquiring Institution</th>\n",
       "      <th>Closing Date</th>\n",
       "      <th>Fund</th>\n",
       "    </tr>\n",
       "  </thead>\n",
       "  <tbody>\n",
       "    <tr>\n",
       "      <th>0</th>\n",
       "      <td>Almena State Bank</td>\n",
       "      <td>Almena</td>\n",
       "      <td>KS</td>\n",
       "      <td>15426</td>\n",
       "      <td>Equity Bank</td>\n",
       "      <td>October 23, 2020</td>\n",
       "      <td>10538</td>\n",
       "    </tr>\n",
       "    <tr>\n",
       "      <th>1</th>\n",
       "      <td>First City Bank of Florida</td>\n",
       "      <td>Fort Walton Beach</td>\n",
       "      <td>FL</td>\n",
       "      <td>16748</td>\n",
       "      <td>United Fidelity Bank, fsb</td>\n",
       "      <td>October 16, 2020</td>\n",
       "      <td>10537</td>\n",
       "    </tr>\n",
       "    <tr>\n",
       "      <th>2</th>\n",
       "      <td>The First State Bank</td>\n",
       "      <td>Barboursville</td>\n",
       "      <td>WV</td>\n",
       "      <td>14361</td>\n",
       "      <td>MVB Bank, Inc.</td>\n",
       "      <td>April 3, 2020</td>\n",
       "      <td>10536</td>\n",
       "    </tr>\n",
       "    <tr>\n",
       "      <th>3</th>\n",
       "      <td>Ericson State Bank</td>\n",
       "      <td>Ericson</td>\n",
       "      <td>NE</td>\n",
       "      <td>18265</td>\n",
       "      <td>Farmers and Merchants Bank</td>\n",
       "      <td>February 14, 2020</td>\n",
       "      <td>10535</td>\n",
       "    </tr>\n",
       "    <tr>\n",
       "      <th>4</th>\n",
       "      <td>City National Bank of New Jersey</td>\n",
       "      <td>Newark</td>\n",
       "      <td>NJ</td>\n",
       "      <td>21111</td>\n",
       "      <td>Industrial Bank</td>\n",
       "      <td>November 1, 2019</td>\n",
       "      <td>10534</td>\n",
       "    </tr>\n",
       "    <tr>\n",
       "      <th>...</th>\n",
       "      <td>...</td>\n",
       "      <td>...</td>\n",
       "      <td>...</td>\n",
       "      <td>...</td>\n",
       "      <td>...</td>\n",
       "      <td>...</td>\n",
       "      <td>...</td>\n",
       "    </tr>\n",
       "    <tr>\n",
       "      <th>537</th>\n",
       "      <td>NetBank</td>\n",
       "      <td>Alpharetta</td>\n",
       "      <td>GA</td>\n",
       "      <td>32575</td>\n",
       "      <td>ING DIRECT</td>\n",
       "      <td>September 28, 2007</td>\n",
       "      <td>10001</td>\n",
       "    </tr>\n",
       "    <tr>\n",
       "      <th>538</th>\n",
       "      <td>Metropolitan Savings Bank</td>\n",
       "      <td>Pittsburgh</td>\n",
       "      <td>PA</td>\n",
       "      <td>35353</td>\n",
       "      <td>Allegheny Valley Bank of Pittsburgh</td>\n",
       "      <td>February 2, 2007</td>\n",
       "      <td>10000</td>\n",
       "    </tr>\n",
       "    <tr>\n",
       "      <th>542</th>\n",
       "      <td>Dollar Savings Bank</td>\n",
       "      <td>Newark</td>\n",
       "      <td>NJ</td>\n",
       "      <td>31330</td>\n",
       "      <td>No Acquirer</td>\n",
       "      <td>February 14, 2004</td>\n",
       "      <td>6006</td>\n",
       "    </tr>\n",
       "    <tr>\n",
       "      <th>549</th>\n",
       "      <td>Universal Federal Savings Bank</td>\n",
       "      <td>Chicago</td>\n",
       "      <td>IL</td>\n",
       "      <td>29355</td>\n",
       "      <td>Chicago Community Bank</td>\n",
       "      <td>June 27, 2002</td>\n",
       "      <td>6005</td>\n",
       "    </tr>\n",
       "    <tr>\n",
       "      <th>558</th>\n",
       "      <td>Superior Bank, FSB</td>\n",
       "      <td>Hinsdale</td>\n",
       "      <td>IL</td>\n",
       "      <td>32646</td>\n",
       "      <td>Superior Federal, FSB</td>\n",
       "      <td>July 27, 2001</td>\n",
       "      <td>6004</td>\n",
       "    </tr>\n",
       "  </tbody>\n",
       "</table>\n",
       "<p>542 rows × 7 columns</p>\n",
       "</div>"
      ],
      "text/plain": [
       "                            Bank Name               City State   Cert  \\\n",
       "0                   Almena State Bank             Almena    KS  15426   \n",
       "1          First City Bank of Florida  Fort Walton Beach    FL  16748   \n",
       "2                The First State Bank      Barboursville    WV  14361   \n",
       "3                  Ericson State Bank            Ericson    NE  18265   \n",
       "4    City National Bank of New Jersey             Newark    NJ  21111   \n",
       "..                                ...                ...   ...    ...   \n",
       "537                           NetBank         Alpharetta    GA  32575   \n",
       "538         Metropolitan Savings Bank         Pittsburgh    PA  35353   \n",
       "542               Dollar Savings Bank             Newark    NJ  31330   \n",
       "549    Universal Federal Savings Bank            Chicago    IL  29355   \n",
       "558                Superior Bank, FSB           Hinsdale    IL  32646   \n",
       "\n",
       "                   Acquiring Institution        Closing Date   Fund  \n",
       "0                            Equity Bank    October 23, 2020  10538  \n",
       "1              United Fidelity Bank, fsb    October 16, 2020  10537  \n",
       "2                         MVB Bank, Inc.       April 3, 2020  10536  \n",
       "3             Farmers and Merchants Bank   February 14, 2020  10535  \n",
       "4                        Industrial Bank    November 1, 2019  10534  \n",
       "..                                   ...                 ...    ...  \n",
       "537                           ING DIRECT  September 28, 2007  10001  \n",
       "538  Allegheny Valley Bank of Pittsburgh    February 2, 2007  10000  \n",
       "542                          No Acquirer   February 14, 2004   6006  \n",
       "549               Chicago Community Bank       June 27, 2002   6005  \n",
       "558                Superior Federal, FSB       July 27, 2001   6004  \n",
       "\n",
       "[542 rows x 7 columns]"
      ]
     },
     "execution_count": 47,
     "metadata": {},
     "output_type": "execute_result"
    }
   ],
   "source": [
    "df[df['Fund'] >= 5000]"
   ]
  },
  {
   "cell_type": "code",
   "execution_count": 48,
   "id": "16d313c5-42bc-4817-b9c9-eed8c4d39551",
   "metadata": {},
   "outputs": [
    {
     "data": {
      "text/html": [
       "<div>\n",
       "<style scoped>\n",
       "    .dataframe tbody tr th:only-of-type {\n",
       "        vertical-align: middle;\n",
       "    }\n",
       "\n",
       "    .dataframe tbody tr th {\n",
       "        vertical-align: top;\n",
       "    }\n",
       "\n",
       "    .dataframe thead th {\n",
       "        text-align: right;\n",
       "    }\n",
       "</style>\n",
       "<table border=\"1\" class=\"dataframe\">\n",
       "  <thead>\n",
       "    <tr style=\"text-align: right;\">\n",
       "      <th></th>\n",
       "      <th>Bank Name</th>\n",
       "      <th>City</th>\n",
       "      <th>State</th>\n",
       "      <th>Cert</th>\n",
       "      <th>Acquiring Institution</th>\n",
       "      <th>Closing Date</th>\n",
       "      <th>Fund</th>\n",
       "    </tr>\n",
       "  </thead>\n",
       "  <tbody>\n",
       "    <tr>\n",
       "      <th>337</th>\n",
       "      <td>Appalachian Community Bank</td>\n",
       "      <td>Ellijay</td>\n",
       "      <td>GA</td>\n",
       "      <td>33989</td>\n",
       "      <td>Community &amp; Southern Bank</td>\n",
       "      <td>March 19, 2010</td>\n",
       "      <td>10199</td>\n",
       "    </tr>\n",
       "    <tr>\n",
       "      <th>338</th>\n",
       "      <td>Advanta Bank Corp.</td>\n",
       "      <td>Draper</td>\n",
       "      <td>UT</td>\n",
       "      <td>33535</td>\n",
       "      <td>No Acquirer</td>\n",
       "      <td>March 19, 2010</td>\n",
       "      <td>10200</td>\n",
       "    </tr>\n",
       "    <tr>\n",
       "      <th>339</th>\n",
       "      <td>Century Security Bank</td>\n",
       "      <td>Duluth</td>\n",
       "      <td>GA</td>\n",
       "      <td>58104</td>\n",
       "      <td>Bank of Upson</td>\n",
       "      <td>March 19, 2010</td>\n",
       "      <td>10198</td>\n",
       "    </tr>\n",
       "    <tr>\n",
       "      <th>341</th>\n",
       "      <td>Statewide Bank</td>\n",
       "      <td>Covington</td>\n",
       "      <td>LA</td>\n",
       "      <td>29561</td>\n",
       "      <td>Home Bank</td>\n",
       "      <td>March 12, 2010</td>\n",
       "      <td>10196</td>\n",
       "    </tr>\n",
       "    <tr>\n",
       "      <th>342</th>\n",
       "      <td>Old Southern Bank</td>\n",
       "      <td>Orlando</td>\n",
       "      <td>FL</td>\n",
       "      <td>58182</td>\n",
       "      <td>Centennial Bank</td>\n",
       "      <td>March 12, 2010</td>\n",
       "      <td>10197</td>\n",
       "    </tr>\n",
       "    <tr>\n",
       "      <th>...</th>\n",
       "      <td>...</td>\n",
       "      <td>...</td>\n",
       "      <td>...</td>\n",
       "      <td>...</td>\n",
       "      <td>...</td>\n",
       "      <td>...</td>\n",
       "      <td>...</td>\n",
       "    </tr>\n",
       "    <tr>\n",
       "      <th>558</th>\n",
       "      <td>Superior Bank, FSB</td>\n",
       "      <td>Hinsdale</td>\n",
       "      <td>IL</td>\n",
       "      <td>32646</td>\n",
       "      <td>Superior Federal, FSB</td>\n",
       "      <td>July 27, 2001</td>\n",
       "      <td>6004</td>\n",
       "    </tr>\n",
       "    <tr>\n",
       "      <th>559</th>\n",
       "      <td>Malta National Bank</td>\n",
       "      <td>Malta</td>\n",
       "      <td>OH</td>\n",
       "      <td>6629</td>\n",
       "      <td>North Valley Bank</td>\n",
       "      <td>May 3, 2001</td>\n",
       "      <td>4648</td>\n",
       "    </tr>\n",
       "    <tr>\n",
       "      <th>560</th>\n",
       "      <td>First Alliance Bank &amp; Trust Co.</td>\n",
       "      <td>Manchester</td>\n",
       "      <td>NH</td>\n",
       "      <td>34264</td>\n",
       "      <td>Southern New Hampshire Bank &amp; Trust</td>\n",
       "      <td>February 2, 2001</td>\n",
       "      <td>4647</td>\n",
       "    </tr>\n",
       "    <tr>\n",
       "      <th>561</th>\n",
       "      <td>National State Bank of Metropolis</td>\n",
       "      <td>Metropolis</td>\n",
       "      <td>IL</td>\n",
       "      <td>3815</td>\n",
       "      <td>Banterra Bank of Marion</td>\n",
       "      <td>December 14, 2000</td>\n",
       "      <td>4646</td>\n",
       "    </tr>\n",
       "    <tr>\n",
       "      <th>562</th>\n",
       "      <td>Bank of Honolulu</td>\n",
       "      <td>Honolulu</td>\n",
       "      <td>HI</td>\n",
       "      <td>21029</td>\n",
       "      <td>Bank of the Orient</td>\n",
       "      <td>October 13, 2000</td>\n",
       "      <td>4645</td>\n",
       "    </tr>\n",
       "  </tbody>\n",
       "</table>\n",
       "<p>225 rows × 7 columns</p>\n",
       "</div>"
      ],
      "text/plain": [
       "                             Bank Name        City State   Cert  \\\n",
       "337         Appalachian Community Bank     Ellijay    GA  33989   \n",
       "338                 Advanta Bank Corp.      Draper    UT  33535   \n",
       "339              Century Security Bank      Duluth    GA  58104   \n",
       "341                     Statewide Bank   Covington    LA  29561   \n",
       "342                  Old Southern Bank     Orlando    FL  58182   \n",
       "..                                 ...         ...   ...    ...   \n",
       "558                 Superior Bank, FSB    Hinsdale    IL  32646   \n",
       "559                Malta National Bank       Malta    OH   6629   \n",
       "560    First Alliance Bank & Trust Co.  Manchester    NH  34264   \n",
       "561  National State Bank of Metropolis  Metropolis    IL   3815   \n",
       "562                   Bank of Honolulu    Honolulu    HI  21029   \n",
       "\n",
       "                   Acquiring Institution       Closing Date   Fund  \n",
       "337            Community & Southern Bank     March 19, 2010  10199  \n",
       "338                          No Acquirer     March 19, 2010  10200  \n",
       "339                        Bank of Upson     March 19, 2010  10198  \n",
       "341                            Home Bank     March 12, 2010  10196  \n",
       "342                      Centennial Bank     March 12, 2010  10197  \n",
       "..                                   ...                ...    ...  \n",
       "558                Superior Federal, FSB      July 27, 2001   6004  \n",
       "559                    North Valley Bank        May 3, 2001   4648  \n",
       "560  Southern New Hampshire Bank & Trust   February 2, 2001   4647  \n",
       "561              Banterra Bank of Marion  December 14, 2000   4646  \n",
       "562                   Bank of the Orient   October 13, 2000   4645  \n",
       "\n",
       "[225 rows x 7 columns]"
      ]
     },
     "execution_count": 48,
     "metadata": {},
     "output_type": "execute_result"
    }
   ],
   "source": [
    "df[df['Fund'] <= 10200]"
   ]
  },
  {
   "cell_type": "code",
   "execution_count": 58,
   "id": "b25b76dc-9fe2-4f8e-b8fd-af271389bcd9",
   "metadata": {},
   "outputs": [],
   "source": [
    "df_city = df[(df['State'].str.upper() == 'GA'.upper()) \n",
    "             & (df['Fund'] >= 5000) \n",
    "             & (df['Fund'] <= 10200)]"
   ]
  },
  {
   "cell_type": "code",
   "execution_count": 55,
   "id": "a7de1af2-5470-4f61-a8ee-036987769223",
   "metadata": {},
   "outputs": [
    {
     "data": {
      "text/plain": [
       "Atlanta          6\n",
       "Alpharetta       4\n",
       "Newnan           2\n",
       "Duluth           2\n",
       "Ellijay          1\n",
       "Jackson          1\n",
       "McDonough        1\n",
       "Commerce         1\n",
       "Stockbridge      1\n",
       "Kennesaw         1\n",
       "Fayetteville     1\n",
       "Villa Rica       1\n",
       "Winder           1\n",
       "Suwanee          1\n",
       "Macon            1\n",
       "Woodstock        1\n",
       "Perry            1\n",
       "Gray             1\n",
       "Lawrenceville    1\n",
       "Sparta           1\n",
       "Norcross         1\n",
       "Reidsville       1\n",
       "Carrollton       1\n",
       "Cornelia         1\n",
       "Loganville       1\n",
       "Name: City, dtype: int64"
      ]
     },
     "execution_count": 55,
     "metadata": {},
     "output_type": "execute_result"
    }
   ],
   "source": [
    "df_city['City'].value_counts()"
   ]
  },
  {
   "cell_type": "code",
   "execution_count": 57,
   "id": "a84944ab-0679-45e8-b8e4-d66d677ffc77",
   "metadata": {},
   "outputs": [
    {
     "data": {
      "text/plain": [
       "6"
      ]
     },
     "execution_count": 57,
     "metadata": {},
     "output_type": "execute_result"
    }
   ],
   "source": [
    "df_city['City'].value_counts().max()"
   ]
  },
  {
   "cell_type": "code",
   "execution_count": null,
   "id": "e3a02b60-5052-49e9-93e0-9f1e7abde8d5",
   "metadata": {},
   "outputs": [],
   "source": []
  },
  {
   "cell_type": "markdown",
   "id": "72d4f8ef-b659-4cf6-ba25-f6da1182b0f9",
   "metadata": {},
   "source": [
    "## Stata를 기준으로 Fund 데이터 살펴보기"
   ]
  },
  {
   "cell_type": "code",
   "execution_count": 60,
   "id": "f1560ce5-9ebd-4334-807a-45451f4f595c",
   "metadata": {},
   "outputs": [
    {
     "data": {
      "text/plain": [
       "array(['KS', 'FL', 'WV', 'NE', 'NJ', 'OH', 'KY', 'TX', 'IL', 'WI', 'LA',\n",
       "       'UT', 'AR', 'GA', 'PA', 'TN', 'WA', 'CO', 'PR', 'MN', 'CA', 'MD',\n",
       "       'OK', 'SC', 'VA', 'ID', 'CT', 'AZ', 'NV', 'NC', 'MO', 'AL', 'MI',\n",
       "       'IN', 'IA', 'MS', 'NM', 'OR', 'NY', 'MA', 'SD', 'WY', 'NH', 'HI'],\n",
       "      dtype=object)"
      ]
     },
     "execution_count": 60,
     "metadata": {},
     "output_type": "execute_result"
    }
   ],
   "source": [
    "df['State']. unique()"
   ]
  },
  {
   "cell_type": "code",
   "execution_count": 63,
   "id": "58e9e21b-3a80-4056-bffd-488bf1988277",
   "metadata": {},
   "outputs": [
    {
     "data": {
      "text/plain": [
       "<pandas.core.groupby.generic.DataFrameGroupBy object at 0x0000025B3D45E6D0>"
      ]
     },
     "execution_count": 63,
     "metadata": {},
     "output_type": "execute_result"
    }
   ],
   "source": [
    "df.groupby(['State']) #특정 열에 해당하는 데이터를 묶어준다."
   ]
  },
  {
   "cell_type": "code",
   "execution_count": 64,
   "id": "9bd30550-2b5d-4909-b072-02d13b182040",
   "metadata": {
    "collapsed": true,
    "jupyter": {
     "outputs_hidden": true
    },
    "tags": []
   },
   "outputs": [
    {
     "data": {
      "text/html": [
       "<div>\n",
       "<style scoped>\n",
       "    .dataframe tbody tr th:only-of-type {\n",
       "        vertical-align: middle;\n",
       "    }\n",
       "\n",
       "    .dataframe tbody tr th {\n",
       "        vertical-align: top;\n",
       "    }\n",
       "\n",
       "    .dataframe thead th {\n",
       "        text-align: right;\n",
       "    }\n",
       "</style>\n",
       "<table border=\"1\" class=\"dataframe\">\n",
       "  <thead>\n",
       "    <tr style=\"text-align: right;\">\n",
       "      <th></th>\n",
       "      <th>Fund</th>\n",
       "    </tr>\n",
       "    <tr>\n",
       "      <th>State</th>\n",
       "      <th></th>\n",
       "    </tr>\n",
       "  </thead>\n",
       "  <tbody>\n",
       "    <tr>\n",
       "      <th>AL</th>\n",
       "      <td>71730</td>\n",
       "    </tr>\n",
       "    <tr>\n",
       "      <th>AR</th>\n",
       "      <td>35498</td>\n",
       "    </tr>\n",
       "    <tr>\n",
       "      <th>AZ</th>\n",
       "      <td>158881</td>\n",
       "    </tr>\n",
       "    <tr>\n",
       "      <th>CA</th>\n",
       "      <td>411858</td>\n",
       "    </tr>\n",
       "    <tr>\n",
       "      <th>CO</th>\n",
       "      <td>102931</td>\n",
       "    </tr>\n",
       "    <tr>\n",
       "      <th>CT</th>\n",
       "      <td>15145</td>\n",
       "    </tr>\n",
       "    <tr>\n",
       "      <th>FL</th>\n",
       "      <td>764744</td>\n",
       "    </tr>\n",
       "    <tr>\n",
       "      <th>GA</th>\n",
       "      <td>948949</td>\n",
       "    </tr>\n",
       "    <tr>\n",
       "      <th>HI</th>\n",
       "      <td>4645</td>\n",
       "    </tr>\n",
       "    <tr>\n",
       "      <th>IA</th>\n",
       "      <td>20530</td>\n",
       "    </tr>\n",
       "    <tr>\n",
       "      <th>ID</th>\n",
       "      <td>20549</td>\n",
       "    </tr>\n",
       "    <tr>\n",
       "      <th>IL</th>\n",
       "      <td>694783</td>\n",
       "    </tr>\n",
       "    <tr>\n",
       "      <th>IN</th>\n",
       "      <td>30929</td>\n",
       "    </tr>\n",
       "    <tr>\n",
       "      <th>KS</th>\n",
       "      <td>113059</td>\n",
       "    </tr>\n",
       "    <tr>\n",
       "      <th>KY</th>\n",
       "      <td>31127</td>\n",
       "    </tr>\n",
       "    <tr>\n",
       "      <th>LA</th>\n",
       "      <td>35794</td>\n",
       "    </tr>\n",
       "    <tr>\n",
       "      <th>MA</th>\n",
       "      <td>10211</td>\n",
       "    </tr>\n",
       "    <tr>\n",
       "      <th>MD</th>\n",
       "      <td>103027</td>\n",
       "    </tr>\n",
       "    <tr>\n",
       "      <th>MI</th>\n",
       "      <td>137544</td>\n",
       "    </tr>\n",
       "    <tr>\n",
       "      <th>MN</th>\n",
       "      <td>235976</td>\n",
       "    </tr>\n",
       "    <tr>\n",
       "      <th>MO</th>\n",
       "      <td>164012</td>\n",
       "    </tr>\n",
       "    <tr>\n",
       "      <th>MS</th>\n",
       "      <td>20601</td>\n",
       "    </tr>\n",
       "    <tr>\n",
       "      <th>NC</th>\n",
       "      <td>72246</td>\n",
       "    </tr>\n",
       "    <tr>\n",
       "      <th>NE</th>\n",
       "      <td>41232</td>\n",
       "    </tr>\n",
       "    <tr>\n",
       "      <th>NH</th>\n",
       "      <td>4647</td>\n",
       "    </tr>\n",
       "    <tr>\n",
       "      <th>NJ</th>\n",
       "      <td>78344</td>\n",
       "    </tr>\n",
       "    <tr>\n",
       "      <th>NM</th>\n",
       "      <td>30760</td>\n",
       "    </tr>\n",
       "    <tr>\n",
       "      <th>NV</th>\n",
       "      <td>122013</td>\n",
       "    </tr>\n",
       "    <tr>\n",
       "      <th>NY</th>\n",
       "      <td>45398</td>\n",
       "    </tr>\n",
       "    <tr>\n",
       "      <th>OH</th>\n",
       "      <td>81074</td>\n",
       "    </tr>\n",
       "    <tr>\n",
       "      <th>OK</th>\n",
       "      <td>72472</td>\n",
       "    </tr>\n",
       "    <tr>\n",
       "      <th>OR</th>\n",
       "      <td>60888</td>\n",
       "    </tr>\n",
       "    <tr>\n",
       "      <th>PA</th>\n",
       "      <td>97682</td>\n",
       "    </tr>\n",
       "    <tr>\n",
       "      <th>PR</th>\n",
       "      <td>41203</td>\n",
       "    </tr>\n",
       "    <tr>\n",
       "      <th>SC</th>\n",
       "      <td>103460</td>\n",
       "    </tr>\n",
       "    <tr>\n",
       "      <th>SD</th>\n",
       "      <td>10081</td>\n",
       "    </tr>\n",
       "    <tr>\n",
       "      <th>TN</th>\n",
       "      <td>67436</td>\n",
       "    </tr>\n",
       "    <tr>\n",
       "      <th>TX</th>\n",
       "      <td>127397</td>\n",
       "    </tr>\n",
       "    <tr>\n",
       "      <th>UT</th>\n",
       "      <td>76253</td>\n",
       "    </tr>\n",
       "    <tr>\n",
       "      <th>VA</th>\n",
       "      <td>51712</td>\n",
       "    </tr>\n",
       "    <tr>\n",
       "      <th>WA</th>\n",
       "      <td>194884</td>\n",
       "    </tr>\n",
       "    <tr>\n",
       "      <th>WI</th>\n",
       "      <td>108426</td>\n",
       "    </tr>\n",
       "    <tr>\n",
       "      <th>WV</th>\n",
       "      <td>20550</td>\n",
       "    </tr>\n",
       "    <tr>\n",
       "      <th>WY</th>\n",
       "      <td>10080</td>\n",
       "    </tr>\n",
       "  </tbody>\n",
       "</table>\n",
       "</div>"
      ],
      "text/plain": [
       "         Fund\n",
       "State        \n",
       "AL      71730\n",
       "AR      35498\n",
       "AZ     158881\n",
       "CA     411858\n",
       "CO     102931\n",
       "CT      15145\n",
       "FL     764744\n",
       "GA     948949\n",
       "HI       4645\n",
       "IA      20530\n",
       "ID      20549\n",
       "IL     694783\n",
       "IN      30929\n",
       "KS     113059\n",
       "KY      31127\n",
       "LA      35794\n",
       "MA      10211\n",
       "MD     103027\n",
       "MI     137544\n",
       "MN     235976\n",
       "MO     164012\n",
       "MS      20601\n",
       "NC      72246\n",
       "NE      41232\n",
       "NH       4647\n",
       "NJ      78344\n",
       "NM      30760\n",
       "NV     122013\n",
       "NY      45398\n",
       "OH      81074\n",
       "OK      72472\n",
       "OR      60888\n",
       "PA      97682\n",
       "PR      41203\n",
       "SC     103460\n",
       "SD      10081\n",
       "TN      67436\n",
       "TX     127397\n",
       "UT      76253\n",
       "VA      51712\n",
       "WA     194884\n",
       "WI     108426\n",
       "WV      20550\n",
       "WY      10080"
      ]
     },
     "execution_count": 64,
     "metadata": {},
     "output_type": "execute_result"
    }
   ],
   "source": [
    "df.groupby(['State']).sum()"
   ]
  },
  {
   "cell_type": "code",
   "execution_count": 65,
   "id": "baa730a0-7f3c-4825-9b20-663a736625a1",
   "metadata": {},
   "outputs": [
    {
     "data": {
      "text/plain": [
       "113059"
      ]
     },
     "execution_count": 65,
     "metadata": {},
     "output_type": "execute_result"
    }
   ],
   "source": [
    "df[df['State'] == df['State'].unique()[0]]['Fund'].sum(0) #인덱스 0번 (첫번째 unique값)"
   ]
  },
  {
   "cell_type": "code",
   "execution_count": 68,
   "id": "2391a5f8-6444-4dba-aff3-214419a8cd1a",
   "metadata": {},
   "outputs": [
    {
     "data": {
      "text/plain": [
       "113059"
      ]
     },
     "execution_count": 68,
     "metadata": {},
     "output_type": "execute_result"
    }
   ],
   "source": [
    "df[df['State'] == 'KS']['Fund'].sum(0)"
   ]
  },
  {
   "cell_type": "code",
   "execution_count": 66,
   "id": "003a1fff-cfff-465b-a374-e64647b5a358",
   "metadata": {},
   "outputs": [
    {
     "data": {
      "text/plain": [
       "71730"
      ]
     },
     "execution_count": 66,
     "metadata": {},
     "output_type": "execute_result"
    }
   ],
   "source": [
    "df[df['State'] == 'AL']['Fund'].sum(0)"
   ]
  },
  {
   "cell_type": "code",
   "execution_count": 67,
   "id": "56676e61-c31d-42c6-9503-8c3ddc9faa8c",
   "metadata": {
    "collapsed": true,
    "jupyter": {
     "outputs_hidden": true
    },
    "tags": []
   },
   "outputs": [
    {
     "name": "stdout",
     "output_type": "stream",
     "text": [
      "KS 113059\n",
      "FL 764744\n",
      "WV 20550\n",
      "NE 41232\n",
      "NJ 78344\n",
      "OH 81074\n",
      "KY 31127\n",
      "TX 127397\n",
      "IL 694783\n",
      "WI 108426\n",
      "LA 35794\n",
      "UT 76253\n",
      "AR 35498\n",
      "GA 948949\n",
      "PA 97682\n",
      "TN 67436\n",
      "WA 194884\n",
      "CO 102931\n",
      "PR 41203\n",
      "MN 235976\n",
      "CA 411858\n",
      "MD 103027\n",
      "OK 72472\n",
      "SC 103460\n",
      "VA 51712\n",
      "ID 20549\n",
      "CT 15145\n",
      "AZ 158881\n",
      "NV 122013\n",
      "NC 72246\n",
      "MO 164012\n",
      "AL 71730\n",
      "MI 137544\n",
      "IN 30929\n",
      "IA 20530\n",
      "MS 20601\n",
      "NM 30760\n",
      "OR 60888\n",
      "NY 45398\n",
      "MA 10211\n",
      "SD 10081\n",
      "WY 10080\n",
      "NH 4647\n",
      "HI 4645\n"
     ]
    }
   ],
   "source": [
    "for i in df['State'].unique():\n",
    "    print(i, df[df['State'] == i]['Fund'].sum())"
   ]
  },
  {
   "cell_type": "markdown",
   "id": "dc66ad12-f486-4b23-9309-d0f82e7a73e1",
   "metadata": {},
   "source": [
    "---------------------"
   ]
  },
  {
   "cell_type": "code",
   "execution_count": 70,
   "id": "e8797295-1907-4df3-badf-54c4a395815d",
   "metadata": {
    "collapsed": true,
    "jupyter": {
     "outputs_hidden": true
    },
    "tags": []
   },
   "outputs": [
    {
     "data": {
      "text/plain": [
       "State\n",
       "AL     71730\n",
       "AR     35498\n",
       "AZ    158881\n",
       "CA    411858\n",
       "CO    102931\n",
       "CT     15145\n",
       "FL    764744\n",
       "GA    948949\n",
       "HI      4645\n",
       "IA     20530\n",
       "ID     20549\n",
       "IL    694783\n",
       "IN     30929\n",
       "KS    113059\n",
       "KY     31127\n",
       "LA     35794\n",
       "MA     10211\n",
       "MD    103027\n",
       "MI    137544\n",
       "MN    235976\n",
       "MO    164012\n",
       "MS     20601\n",
       "NC     72246\n",
       "NE     41232\n",
       "NH      4647\n",
       "NJ     78344\n",
       "NM     30760\n",
       "NV    122013\n",
       "NY     45398\n",
       "OH     81074\n",
       "OK     72472\n",
       "OR     60888\n",
       "PA     97682\n",
       "PR     41203\n",
       "SC    103460\n",
       "SD     10081\n",
       "TN     67436\n",
       "TX    127397\n",
       "UT     76253\n",
       "VA     51712\n",
       "WA    194884\n",
       "WI    108426\n",
       "WV     20550\n",
       "WY     10080\n",
       "Name: Fund, dtype: int64"
      ]
     },
     "execution_count": 70,
     "metadata": {},
     "output_type": "execute_result"
    }
   ],
   "source": [
    "StateFund = df.groupby(['State']).sum()['Fund']\n",
    "StateFund"
   ]
  },
  {
   "cell_type": "code",
   "execution_count": 73,
   "id": "18b1a80f-be28-4ab4-8ff4-dcc6ee877b75",
   "metadata": {},
   "outputs": [
    {
     "data": {
      "application/vnd.plotly.v1+json": {
       "config": {
        "plotlyServerURL": "https://plot.ly"
       },
       "data": [
        {
         "alignmentgroup": "True",
         "hovertemplate": "State=%{x}<br>Fund=%{y}<extra></extra>",
         "legendgroup": "",
         "marker": {
          "color": "#636efa",
          "pattern": {
           "shape": ""
          }
         },
         "name": "",
         "offsetgroup": "",
         "orientation": "v",
         "showlegend": false,
         "textposition": "auto",
         "type": "bar",
         "x": [
          "HI",
          "NH",
          "WY",
          "SD",
          "MA",
          "CT",
          "IA",
          "ID",
          "WV",
          "MS",
          "NM",
          "IN",
          "KY",
          "AR",
          "LA",
          "PR",
          "NE",
          "NY",
          "VA",
          "OR",
          "TN",
          "AL",
          "NC",
          "OK",
          "UT",
          "NJ",
          "OH",
          "PA",
          "CO",
          "MD",
          "SC",
          "WI",
          "KS",
          "NV",
          "TX",
          "MI",
          "AZ",
          "MO",
          "WA",
          "MN",
          "CA",
          "IL",
          "FL",
          "GA"
         ],
         "xaxis": "x",
         "y": [
          4645,
          4647,
          10080,
          10081,
          10211,
          15145,
          20530,
          20549,
          20550,
          20601,
          30760,
          30929,
          31127,
          35498,
          35794,
          41203,
          41232,
          45398,
          51712,
          60888,
          67436,
          71730,
          72246,
          72472,
          76253,
          78344,
          81074,
          97682,
          102931,
          103027,
          103460,
          108426,
          113059,
          122013,
          127397,
          137544,
          158881,
          164012,
          194884,
          235976,
          411858,
          694783,
          764744,
          948949
         ],
         "yaxis": "y"
        }
       ],
       "layout": {
        "autosize": true,
        "barmode": "relative",
        "legend": {
         "tracegroupgap": 0
        },
        "margin": {
         "t": 60
        },
        "template": {
         "data": {
          "bar": [
           {
            "error_x": {
             "color": "#2a3f5f"
            },
            "error_y": {
             "color": "#2a3f5f"
            },
            "marker": {
             "line": {
              "color": "#E5ECF6",
              "width": 0.5
             },
             "pattern": {
              "fillmode": "overlay",
              "size": 10,
              "solidity": 0.2
             }
            },
            "type": "bar"
           }
          ],
          "barpolar": [
           {
            "marker": {
             "line": {
              "color": "#E5ECF6",
              "width": 0.5
             },
             "pattern": {
              "fillmode": "overlay",
              "size": 10,
              "solidity": 0.2
             }
            },
            "type": "barpolar"
           }
          ],
          "carpet": [
           {
            "aaxis": {
             "endlinecolor": "#2a3f5f",
             "gridcolor": "white",
             "linecolor": "white",
             "minorgridcolor": "white",
             "startlinecolor": "#2a3f5f"
            },
            "baxis": {
             "endlinecolor": "#2a3f5f",
             "gridcolor": "white",
             "linecolor": "white",
             "minorgridcolor": "white",
             "startlinecolor": "#2a3f5f"
            },
            "type": "carpet"
           }
          ],
          "choropleth": [
           {
            "colorbar": {
             "outlinewidth": 0,
             "ticks": ""
            },
            "type": "choropleth"
           }
          ],
          "contour": [
           {
            "colorbar": {
             "outlinewidth": 0,
             "ticks": ""
            },
            "colorscale": [
             [
              0,
              "#0d0887"
             ],
             [
              0.1111111111111111,
              "#46039f"
             ],
             [
              0.2222222222222222,
              "#7201a8"
             ],
             [
              0.3333333333333333,
              "#9c179e"
             ],
             [
              0.4444444444444444,
              "#bd3786"
             ],
             [
              0.5555555555555556,
              "#d8576b"
             ],
             [
              0.6666666666666666,
              "#ed7953"
             ],
             [
              0.7777777777777778,
              "#fb9f3a"
             ],
             [
              0.8888888888888888,
              "#fdca26"
             ],
             [
              1,
              "#f0f921"
             ]
            ],
            "type": "contour"
           }
          ],
          "contourcarpet": [
           {
            "colorbar": {
             "outlinewidth": 0,
             "ticks": ""
            },
            "type": "contourcarpet"
           }
          ],
          "heatmap": [
           {
            "colorbar": {
             "outlinewidth": 0,
             "ticks": ""
            },
            "colorscale": [
             [
              0,
              "#0d0887"
             ],
             [
              0.1111111111111111,
              "#46039f"
             ],
             [
              0.2222222222222222,
              "#7201a8"
             ],
             [
              0.3333333333333333,
              "#9c179e"
             ],
             [
              0.4444444444444444,
              "#bd3786"
             ],
             [
              0.5555555555555556,
              "#d8576b"
             ],
             [
              0.6666666666666666,
              "#ed7953"
             ],
             [
              0.7777777777777778,
              "#fb9f3a"
             ],
             [
              0.8888888888888888,
              "#fdca26"
             ],
             [
              1,
              "#f0f921"
             ]
            ],
            "type": "heatmap"
           }
          ],
          "heatmapgl": [
           {
            "colorbar": {
             "outlinewidth": 0,
             "ticks": ""
            },
            "colorscale": [
             [
              0,
              "#0d0887"
             ],
             [
              0.1111111111111111,
              "#46039f"
             ],
             [
              0.2222222222222222,
              "#7201a8"
             ],
             [
              0.3333333333333333,
              "#9c179e"
             ],
             [
              0.4444444444444444,
              "#bd3786"
             ],
             [
              0.5555555555555556,
              "#d8576b"
             ],
             [
              0.6666666666666666,
              "#ed7953"
             ],
             [
              0.7777777777777778,
              "#fb9f3a"
             ],
             [
              0.8888888888888888,
              "#fdca26"
             ],
             [
              1,
              "#f0f921"
             ]
            ],
            "type": "heatmapgl"
           }
          ],
          "histogram": [
           {
            "marker": {
             "pattern": {
              "fillmode": "overlay",
              "size": 10,
              "solidity": 0.2
             }
            },
            "type": "histogram"
           }
          ],
          "histogram2d": [
           {
            "colorbar": {
             "outlinewidth": 0,
             "ticks": ""
            },
            "colorscale": [
             [
              0,
              "#0d0887"
             ],
             [
              0.1111111111111111,
              "#46039f"
             ],
             [
              0.2222222222222222,
              "#7201a8"
             ],
             [
              0.3333333333333333,
              "#9c179e"
             ],
             [
              0.4444444444444444,
              "#bd3786"
             ],
             [
              0.5555555555555556,
              "#d8576b"
             ],
             [
              0.6666666666666666,
              "#ed7953"
             ],
             [
              0.7777777777777778,
              "#fb9f3a"
             ],
             [
              0.8888888888888888,
              "#fdca26"
             ],
             [
              1,
              "#f0f921"
             ]
            ],
            "type": "histogram2d"
           }
          ],
          "histogram2dcontour": [
           {
            "colorbar": {
             "outlinewidth": 0,
             "ticks": ""
            },
            "colorscale": [
             [
              0,
              "#0d0887"
             ],
             [
              0.1111111111111111,
              "#46039f"
             ],
             [
              0.2222222222222222,
              "#7201a8"
             ],
             [
              0.3333333333333333,
              "#9c179e"
             ],
             [
              0.4444444444444444,
              "#bd3786"
             ],
             [
              0.5555555555555556,
              "#d8576b"
             ],
             [
              0.6666666666666666,
              "#ed7953"
             ],
             [
              0.7777777777777778,
              "#fb9f3a"
             ],
             [
              0.8888888888888888,
              "#fdca26"
             ],
             [
              1,
              "#f0f921"
             ]
            ],
            "type": "histogram2dcontour"
           }
          ],
          "mesh3d": [
           {
            "colorbar": {
             "outlinewidth": 0,
             "ticks": ""
            },
            "type": "mesh3d"
           }
          ],
          "parcoords": [
           {
            "line": {
             "colorbar": {
              "outlinewidth": 0,
              "ticks": ""
             }
            },
            "type": "parcoords"
           }
          ],
          "pie": [
           {
            "automargin": true,
            "type": "pie"
           }
          ],
          "scatter": [
           {
            "marker": {
             "colorbar": {
              "outlinewidth": 0,
              "ticks": ""
             }
            },
            "type": "scatter"
           }
          ],
          "scatter3d": [
           {
            "line": {
             "colorbar": {
              "outlinewidth": 0,
              "ticks": ""
             }
            },
            "marker": {
             "colorbar": {
              "outlinewidth": 0,
              "ticks": ""
             }
            },
            "type": "scatter3d"
           }
          ],
          "scattercarpet": [
           {
            "marker": {
             "colorbar": {
              "outlinewidth": 0,
              "ticks": ""
             }
            },
            "type": "scattercarpet"
           }
          ],
          "scattergeo": [
           {
            "marker": {
             "colorbar": {
              "outlinewidth": 0,
              "ticks": ""
             }
            },
            "type": "scattergeo"
           }
          ],
          "scattergl": [
           {
            "marker": {
             "colorbar": {
              "outlinewidth": 0,
              "ticks": ""
             }
            },
            "type": "scattergl"
           }
          ],
          "scattermapbox": [
           {
            "marker": {
             "colorbar": {
              "outlinewidth": 0,
              "ticks": ""
             }
            },
            "type": "scattermapbox"
           }
          ],
          "scatterpolar": [
           {
            "marker": {
             "colorbar": {
              "outlinewidth": 0,
              "ticks": ""
             }
            },
            "type": "scatterpolar"
           }
          ],
          "scatterpolargl": [
           {
            "marker": {
             "colorbar": {
              "outlinewidth": 0,
              "ticks": ""
             }
            },
            "type": "scatterpolargl"
           }
          ],
          "scatterternary": [
           {
            "marker": {
             "colorbar": {
              "outlinewidth": 0,
              "ticks": ""
             }
            },
            "type": "scatterternary"
           }
          ],
          "surface": [
           {
            "colorbar": {
             "outlinewidth": 0,
             "ticks": ""
            },
            "colorscale": [
             [
              0,
              "#0d0887"
             ],
             [
              0.1111111111111111,
              "#46039f"
             ],
             [
              0.2222222222222222,
              "#7201a8"
             ],
             [
              0.3333333333333333,
              "#9c179e"
             ],
             [
              0.4444444444444444,
              "#bd3786"
             ],
             [
              0.5555555555555556,
              "#d8576b"
             ],
             [
              0.6666666666666666,
              "#ed7953"
             ],
             [
              0.7777777777777778,
              "#fb9f3a"
             ],
             [
              0.8888888888888888,
              "#fdca26"
             ],
             [
              1,
              "#f0f921"
             ]
            ],
            "type": "surface"
           }
          ],
          "table": [
           {
            "cells": {
             "fill": {
              "color": "#EBF0F8"
             },
             "line": {
              "color": "white"
             }
            },
            "header": {
             "fill": {
              "color": "#C8D4E3"
             },
             "line": {
              "color": "white"
             }
            },
            "type": "table"
           }
          ]
         },
         "layout": {
          "annotationdefaults": {
           "arrowcolor": "#2a3f5f",
           "arrowhead": 0,
           "arrowwidth": 1
          },
          "autotypenumbers": "strict",
          "coloraxis": {
           "colorbar": {
            "outlinewidth": 0,
            "ticks": ""
           }
          },
          "colorscale": {
           "diverging": [
            [
             0,
             "#8e0152"
            ],
            [
             0.1,
             "#c51b7d"
            ],
            [
             0.2,
             "#de77ae"
            ],
            [
             0.3,
             "#f1b6da"
            ],
            [
             0.4,
             "#fde0ef"
            ],
            [
             0.5,
             "#f7f7f7"
            ],
            [
             0.6,
             "#e6f5d0"
            ],
            [
             0.7,
             "#b8e186"
            ],
            [
             0.8,
             "#7fbc41"
            ],
            [
             0.9,
             "#4d9221"
            ],
            [
             1,
             "#276419"
            ]
           ],
           "sequential": [
            [
             0,
             "#0d0887"
            ],
            [
             0.1111111111111111,
             "#46039f"
            ],
            [
             0.2222222222222222,
             "#7201a8"
            ],
            [
             0.3333333333333333,
             "#9c179e"
            ],
            [
             0.4444444444444444,
             "#bd3786"
            ],
            [
             0.5555555555555556,
             "#d8576b"
            ],
            [
             0.6666666666666666,
             "#ed7953"
            ],
            [
             0.7777777777777778,
             "#fb9f3a"
            ],
            [
             0.8888888888888888,
             "#fdca26"
            ],
            [
             1,
             "#f0f921"
            ]
           ],
           "sequentialminus": [
            [
             0,
             "#0d0887"
            ],
            [
             0.1111111111111111,
             "#46039f"
            ],
            [
             0.2222222222222222,
             "#7201a8"
            ],
            [
             0.3333333333333333,
             "#9c179e"
            ],
            [
             0.4444444444444444,
             "#bd3786"
            ],
            [
             0.5555555555555556,
             "#d8576b"
            ],
            [
             0.6666666666666666,
             "#ed7953"
            ],
            [
             0.7777777777777778,
             "#fb9f3a"
            ],
            [
             0.8888888888888888,
             "#fdca26"
            ],
            [
             1,
             "#f0f921"
            ]
           ]
          },
          "colorway": [
           "#636efa",
           "#EF553B",
           "#00cc96",
           "#ab63fa",
           "#FFA15A",
           "#19d3f3",
           "#FF6692",
           "#B6E880",
           "#FF97FF",
           "#FECB52"
          ],
          "font": {
           "color": "#2a3f5f"
          },
          "geo": {
           "bgcolor": "white",
           "lakecolor": "white",
           "landcolor": "#E5ECF6",
           "showlakes": true,
           "showland": true,
           "subunitcolor": "white"
          },
          "hoverlabel": {
           "align": "left"
          },
          "hovermode": "closest",
          "mapbox": {
           "style": "light"
          },
          "paper_bgcolor": "white",
          "plot_bgcolor": "#E5ECF6",
          "polar": {
           "angularaxis": {
            "gridcolor": "white",
            "linecolor": "white",
            "ticks": ""
           },
           "bgcolor": "#E5ECF6",
           "radialaxis": {
            "gridcolor": "white",
            "linecolor": "white",
            "ticks": ""
           }
          },
          "scene": {
           "xaxis": {
            "backgroundcolor": "#E5ECF6",
            "gridcolor": "white",
            "gridwidth": 2,
            "linecolor": "white",
            "showbackground": true,
            "ticks": "",
            "zerolinecolor": "white"
           },
           "yaxis": {
            "backgroundcolor": "#E5ECF6",
            "gridcolor": "white",
            "gridwidth": 2,
            "linecolor": "white",
            "showbackground": true,
            "ticks": "",
            "zerolinecolor": "white"
           },
           "zaxis": {
            "backgroundcolor": "#E5ECF6",
            "gridcolor": "white",
            "gridwidth": 2,
            "linecolor": "white",
            "showbackground": true,
            "ticks": "",
            "zerolinecolor": "white"
           }
          },
          "shapedefaults": {
           "line": {
            "color": "#2a3f5f"
           }
          },
          "ternary": {
           "aaxis": {
            "gridcolor": "white",
            "linecolor": "white",
            "ticks": ""
           },
           "baxis": {
            "gridcolor": "white",
            "linecolor": "white",
            "ticks": ""
           },
           "bgcolor": "#E5ECF6",
           "caxis": {
            "gridcolor": "white",
            "linecolor": "white",
            "ticks": ""
           }
          },
          "title": {
           "x": 0.05
          },
          "xaxis": {
           "automargin": true,
           "gridcolor": "white",
           "linecolor": "white",
           "ticks": "",
           "title": {
            "standoff": 15
           },
           "zerolinecolor": "white",
           "zerolinewidth": 2
          },
          "yaxis": {
           "automargin": true,
           "gridcolor": "white",
           "linecolor": "white",
           "ticks": "",
           "title": {
            "standoff": 15
           },
           "zerolinecolor": "white",
           "zerolinewidth": 2
          }
         }
        },
        "xaxis": {
         "anchor": "y",
         "autorange": true,
         "domain": [
          0,
          1
         ],
         "range": [
          -0.5,
          43.5
         ],
         "title": {
          "text": "State"
         },
         "type": "category"
        },
        "yaxis": {
         "anchor": "x",
         "autorange": true,
         "domain": [
          0,
          1
         ],
         "range": [
          0,
          998893.6842105263
         ],
         "title": {
          "text": "Fund"
         },
         "type": "linear"
        }
       }
      },
      "image/png": "[encoded data removed]",
      "text/html": [
       "<div>                            <div id=\"33c605e4-041c-4851-972b-e80b7f799938\" class=\"plotly-graph-div\" style=\"height:525px; width:100%;\"></div>            <script type=\"text/javascript\">                require([\"plotly\"], function(Plotly) {                    window.PLOTLYENV=window.PLOTLYENV || {};                                    if (document.getElementById(\"33c605e4-041c-4851-972b-e80b7f799938\")) {                    Plotly.newPlot(                        \"33c605e4-041c-4851-972b-e80b7f799938\",                        [{\"alignmentgroup\":\"True\",\"hovertemplate\":\"State=%{x}<br>Fund=%{y}<extra></extra>\",\"legendgroup\":\"\",\"marker\":{\"color\":\"#636efa\",\"pattern\":{\"shape\":\"\"}},\"name\":\"\",\"offsetgroup\":\"\",\"orientation\":\"v\",\"showlegend\":false,\"textposition\":\"auto\",\"x\":[\"HI\",\"NH\",\"WY\",\"SD\",\"MA\",\"CT\",\"IA\",\"ID\",\"WV\",\"MS\",\"NM\",\"IN\",\"KY\",\"AR\",\"LA\",\"PR\",\"NE\",\"NY\",\"VA\",\"OR\",\"TN\",\"AL\",\"NC\",\"OK\",\"UT\",\"NJ\",\"OH\",\"PA\",\"CO\",\"MD\",\"SC\",\"WI\",\"KS\",\"NV\",\"TX\",\"MI\",\"AZ\",\"MO\",\"WA\",\"MN\",\"CA\",\"IL\",\"FL\",\"GA\"],\"xaxis\":\"x\",\"y\":[4645,4647,10080,10081,10211,15145,20530,20549,20550,20601,30760,30929,31127,35498,35794,41203,41232,45398,51712,60888,67436,71730,72246,72472,76253,78344,81074,97682,102931,103027,103460,108426,113059,122013,127397,137544,158881,164012,194884,235976,411858,694783,764744,948949],\"yaxis\":\"y\",\"type\":\"bar\"}],                        {\"template\":{\"data\":{\"bar\":[{\"error_x\":{\"color\":\"#2a3f5f\"},\"error_y\":{\"color\":\"#2a3f5f\"},\"marker\":{\"line\":{\"color\":\"#E5ECF6\",\"width\":0.5},\"pattern\":{\"fillmode\":\"overlay\",\"size\":10,\"solidity\":0.2}},\"type\":\"bar\"}],\"barpolar\":[{\"marker\":{\"line\":{\"color\":\"#E5ECF6\",\"width\":0.5},\"pattern\":{\"fillmode\":\"overlay\",\"size\":10,\"solidity\":0.2}},\"type\":\"barpolar\"}],\"carpet\":[{\"aaxis\":{\"endlinecolor\":\"#2a3f5f\",\"gridcolor\":\"white\",\"linecolor\":\"white\",\"minorgridcolor\":\"white\",\"startlinecolor\":\"#2a3f5f\"},\"baxis\":{\"endlinecolor\":\"#2a3f5f\",\"gridcolor\":\"white\",\"linecolor\":\"white\",\"minorgridcolor\":\"white\",\"startlinecolor\":\"#2a3f5f\"},\"type\":\"carpet\"}],\"choropleth\":[{\"colorbar\":{\"outlinewidth\":0,\"ticks\":\"\"},\"type\":\"choropleth\"}],\"contour\":[{\"colorbar\":{\"outlinewidth\":0,\"ticks\":\"\"},\"colorscale\":[[0.0,\"#0d0887\"],[0.1111111111111111,\"#46039f\"],[0.2222222222222222,\"#7201a8\"],[0.3333333333333333,\"#9c179e\"],[0.4444444444444444,\"#bd3786\"],[0.5555555555555556,\"#d8576b\"],[0.6666666666666666,\"#ed7953\"],[0.7777777777777778,\"#fb9f3a\"],[0.8888888888888888,\"#fdca26\"],[1.0,\"#f0f921\"]],\"type\":\"contour\"}],\"contourcarpet\":[{\"colorbar\":{\"outlinewidth\":0,\"ticks\":\"\"},\"type\":\"contourcarpet\"}],\"heatmap\":[{\"colorbar\":{\"outlinewidth\":0,\"ticks\":\"\"},\"colorscale\":[[0.0,\"#0d0887\"],[0.1111111111111111,\"#46039f\"],[0.2222222222222222,\"#7201a8\"],[0.3333333333333333,\"#9c179e\"],[0.4444444444444444,\"#bd3786\"],[0.5555555555555556,\"#d8576b\"],[0.6666666666666666,\"#ed7953\"],[0.7777777777777778,\"#fb9f3a\"],[0.8888888888888888,\"#fdca26\"],[1.0,\"#f0f921\"]],\"type\":\"heatmap\"}],\"heatmapgl\":[{\"colorbar\":{\"outlinewidth\":0,\"ticks\":\"\"},\"colorscale\":[[0.0,\"#0d0887\"],[0.1111111111111111,\"#46039f\"],[0.2222222222222222,\"#7201a8\"],[0.3333333333333333,\"#9c179e\"],[0.4444444444444444,\"#bd3786\"],[0.5555555555555556,\"#d8576b\"],[0.6666666666666666,\"#ed7953\"],[0.7777777777777778,\"#fb9f3a\"],[0.8888888888888888,\"#fdca26\"],[1.0,\"#f0f921\"]],\"type\":\"heatmapgl\"}],\"histogram\":[{\"marker\":{\"pattern\":{\"fillmode\":\"overlay\",\"size\":10,\"solidity\":0.2}},\"type\":\"histogram\"}],\"histogram2d\":[{\"colorbar\":{\"outlinewidth\":0,\"ticks\":\"\"},\"colorscale\":[[0.0,\"#0d0887\"],[0.1111111111111111,\"#46039f\"],[0.2222222222222222,\"#7201a8\"],[0.3333333333333333,\"#9c179e\"],[0.4444444444444444,\"#bd3786\"],[0.5555555555555556,\"#d8576b\"],[0.6666666666666666,\"#ed7953\"],[0.7777777777777778,\"#fb9f3a\"],[0.8888888888888888,\"#fdca26\"],[1.0,\"#f0f921\"]],\"type\":\"histogram2d\"}],\"histogram2dcontour\":[{\"colorbar\":{\"outlinewidth\":0,\"ticks\":\"\"},\"colorscale\":[[0.0,\"#0d0887\"],[0.1111111111111111,\"#46039f\"],[0.2222222222222222,\"#7201a8\"],[0.3333333333333333,\"#9c179e\"],[0.4444444444444444,\"#bd3786\"],[0.5555555555555556,\"#d8576b\"],[0.6666666666666666,\"#ed7953\"],[0.7777777777777778,\"#fb9f3a\"],[0.8888888888888888,\"#fdca26\"],[1.0,\"#f0f921\"]],\"type\":\"histogram2dcontour\"}],\"mesh3d\":[{\"colorbar\":{\"outlinewidth\":0,\"ticks\":\"\"},\"type\":\"mesh3d\"}],\"parcoords\":[{\"line\":{\"colorbar\":{\"outlinewidth\":0,\"ticks\":\"\"}},\"type\":\"parcoords\"}],\"pie\":[{\"automargin\":true,\"type\":\"pie\"}],\"scatter\":[{\"marker\":{\"colorbar\":{\"outlinewidth\":0,\"ticks\":\"\"}},\"type\":\"scatter\"}],\"scatter3d\":[{\"line\":{\"colorbar\":{\"outlinewidth\":0,\"ticks\":\"\"}},\"marker\":{\"colorbar\":{\"outlinewidth\":0,\"ticks\":\"\"}},\"type\":\"scatter3d\"}],\"scattercarpet\":[{\"marker\":{\"colorbar\":{\"outlinewidth\":0,\"ticks\":\"\"}},\"type\":\"scattercarpet\"}],\"scattergeo\":[{\"marker\":{\"colorbar\":{\"outlinewidth\":0,\"ticks\":\"\"}},\"type\":\"scattergeo\"}],\"scattergl\":[{\"marker\":{\"colorbar\":{\"outlinewidth\":0,\"ticks\":\"\"}},\"type\":\"scattergl\"}],\"scattermapbox\":[{\"marker\":{\"colorbar\":{\"outlinewidth\":0,\"ticks\":\"\"}},\"type\":\"scattermapbox\"}],\"scatterpolar\":[{\"marker\":{\"colorbar\":{\"outlinewidth\":0,\"ticks\":\"\"}},\"type\":\"scatterpolar\"}],\"scatterpolargl\":[{\"marker\":{\"colorbar\":{\"outlinewidth\":0,\"ticks\":\"\"}},\"type\":\"scatterpolargl\"}],\"scatterternary\":[{\"marker\":{\"colorbar\":{\"outlinewidth\":0,\"ticks\":\"\"}},\"type\":\"scatterternary\"}],\"surface\":[{\"colorbar\":{\"outlinewidth\":0,\"ticks\":\"\"},\"colorscale\":[[0.0,\"#0d0887\"],[0.1111111111111111,\"#46039f\"],[0.2222222222222222,\"#7201a8\"],[0.3333333333333333,\"#9c179e\"],[0.4444444444444444,\"#bd3786\"],[0.5555555555555556,\"#d8576b\"],[0.6666666666666666,\"#ed7953\"],[0.7777777777777778,\"#fb9f3a\"],[0.8888888888888888,\"#fdca26\"],[1.0,\"#f0f921\"]],\"type\":\"surface\"}],\"table\":[{\"cells\":{\"fill\":{\"color\":\"#EBF0F8\"},\"line\":{\"color\":\"white\"}},\"header\":{\"fill\":{\"color\":\"#C8D4E3\"},\"line\":{\"color\":\"white\"}},\"type\":\"table\"}]},\"layout\":{\"annotationdefaults\":{\"arrowcolor\":\"#2a3f5f\",\"arrowhead\":0,\"arrowwidth\":1},\"autotypenumbers\":\"strict\",\"coloraxis\":{\"colorbar\":{\"outlinewidth\":0,\"ticks\":\"\"}},\"colorscale\":{\"diverging\":[[0,\"#8e0152\"],[0.1,\"#c51b7d\"],[0.2,\"#de77ae\"],[0.3,\"#f1b6da\"],[0.4,\"#fde0ef\"],[0.5,\"#f7f7f7\"],[0.6,\"#e6f5d0\"],[0.7,\"#b8e186\"],[0.8,\"#7fbc41\"],[0.9,\"#4d9221\"],[1,\"#276419\"]],\"sequential\":[[0.0,\"#0d0887\"],[0.1111111111111111,\"#46039f\"],[0.2222222222222222,\"#7201a8\"],[0.3333333333333333,\"#9c179e\"],[0.4444444444444444,\"#bd3786\"],[0.5555555555555556,\"#d8576b\"],[0.6666666666666666,\"#ed7953\"],[0.7777777777777778,\"#fb9f3a\"],[0.8888888888888888,\"#fdca26\"],[1.0,\"#f0f921\"]],\"sequentialminus\":[[0.0,\"#0d0887\"],[0.1111111111111111,\"#46039f\"],[0.2222222222222222,\"#7201a8\"],[0.3333333333333333,\"#9c179e\"],[0.4444444444444444,\"#bd3786\"],[0.5555555555555556,\"#d8576b\"],[0.6666666666666666,\"#ed7953\"],[0.7777777777777778,\"#fb9f3a\"],[0.8888888888888888,\"#fdca26\"],[1.0,\"#f0f921\"]]},\"colorway\":[\"#636efa\",\"#EF553B\",\"#00cc96\",\"#ab63fa\",\"#FFA15A\",\"#19d3f3\",\"#FF6692\",\"#B6E880\",\"#FF97FF\",\"#FECB52\"],\"font\":{\"color\":\"#2a3f5f\"},\"geo\":{\"bgcolor\":\"white\",\"lakecolor\":\"white\",\"landcolor\":\"#E5ECF6\",\"showlakes\":true,\"showland\":true,\"subunitcolor\":\"white\"},\"hoverlabel\":{\"align\":\"left\"},\"hovermode\":\"closest\",\"mapbox\":{\"style\":\"light\"},\"paper_bgcolor\":\"white\",\"plot_bgcolor\":\"#E5ECF6\",\"polar\":{\"angularaxis\":{\"gridcolor\":\"white\",\"linecolor\":\"white\",\"ticks\":\"\"},\"bgcolor\":\"#E5ECF6\",\"radialaxis\":{\"gridcolor\":\"white\",\"linecolor\":\"white\",\"ticks\":\"\"}},\"scene\":{\"xaxis\":{\"backgroundcolor\":\"#E5ECF6\",\"gridcolor\":\"white\",\"gridwidth\":2,\"linecolor\":\"white\",\"showbackground\":true,\"ticks\":\"\",\"zerolinecolor\":\"white\"},\"yaxis\":{\"backgroundcolor\":\"#E5ECF6\",\"gridcolor\":\"white\",\"gridwidth\":2,\"linecolor\":\"white\",\"showbackground\":true,\"ticks\":\"\",\"zerolinecolor\":\"white\"},\"zaxis\":{\"backgroundcolor\":\"#E5ECF6\",\"gridcolor\":\"white\",\"gridwidth\":2,\"linecolor\":\"white\",\"showbackground\":true,\"ticks\":\"\",\"zerolinecolor\":\"white\"}},\"shapedefaults\":{\"line\":{\"color\":\"#2a3f5f\"}},\"ternary\":{\"aaxis\":{\"gridcolor\":\"white\",\"linecolor\":\"white\",\"ticks\":\"\"},\"baxis\":{\"gridcolor\":\"white\",\"linecolor\":\"white\",\"ticks\":\"\"},\"bgcolor\":\"#E5ECF6\",\"caxis\":{\"gridcolor\":\"white\",\"linecolor\":\"white\",\"ticks\":\"\"}},\"title\":{\"x\":0.05},\"xaxis\":{\"automargin\":true,\"gridcolor\":\"white\",\"linecolor\":\"white\",\"ticks\":\"\",\"title\":{\"standoff\":15},\"zerolinecolor\":\"white\",\"zerolinewidth\":2},\"yaxis\":{\"automargin\":true,\"gridcolor\":\"white\",\"linecolor\":\"white\",\"ticks\":\"\",\"title\":{\"standoff\":15},\"zerolinecolor\":\"white\",\"zerolinewidth\":2}}},\"xaxis\":{\"anchor\":\"y\",\"domain\":[0.0,1.0],\"title\":{\"text\":\"State\"}},\"yaxis\":{\"anchor\":\"x\",\"domain\":[0.0,1.0],\"title\":{\"text\":\"Fund\"}},\"legend\":{\"tracegroupgap\":0},\"margin\":{\"t\":60},\"barmode\":\"relative\"},                        {\"responsive\": true}                    ).then(function(){\n",
       "                            \n",
       "var gd = document.getElementById('33c605e4-041c-4851-972b-e80b7f799938');\n",
       "var x = new MutationObserver(function (mutations, observer) {{\n",
       "        var display = window.getComputedStyle(gd).display;\n",
       "        if (!display || display === 'none') {{\n",
       "            console.log([gd, 'removed!']);\n",
       "            Plotly.purge(gd);\n",
       "            observer.disconnect();\n",
       "        }}\n",
       "}});\n",
       "\n",
       "// Listen for the removal of the full notebook cells\n",
       "var notebookContainer = gd.closest('#notebook-container');\n",
       "if (notebookContainer) {{\n",
       "    x.observe(notebookContainer, {childList: true});\n",
       "}}\n",
       "\n",
       "// Listen for the clearing of the current output cell\n",
       "var outputEl = gd.closest('.output');\n",
       "if (outputEl) {{\n",
       "    x.observe(outputEl, {childList: true});\n",
       "}}\n",
       "\n",
       "                        })                };                });            </script>        </div>"
      ]
     },
     "metadata": {},
     "output_type": "display_data"
    }
   ],
   "source": [
    "import plotly.express as px\n",
    "StateFund = df.groupby(['State']).sum()['Fund'].sort_values()\n",
    "px.bar(data_frame = StateFund, x=StateFund.index, y='Fund')"
   ]
  },
  {
   "cell_type": "markdown",
   "id": "6f5baef8-63d3-412c-9fc4-fdd67f842fae",
   "metadata": {},
   "source": [
    "## 날짜를 기준으로 데이터 살펴보기"
   ]
  },
  {
   "cell_type": "code",
   "execution_count": 75,
   "id": "96ce2c36-e3ac-4dec-984d-0975e452dcc6",
   "metadata": {},
   "outputs": [
    {
     "data": {
      "application/vnd.plotly.v1+json": {
       "config": {
        "plotlyServerURL": "https://plot.ly"
       },
       "data": [
        {
         "alignmentgroup": "True",
         "hovertemplate": "Closing Date=%{x}<br>Fund=%{y}<extra></extra>",
         "legendgroup": "",
         "marker": {
          "color": "#636efa",
          "pattern": {
           "shape": ""
          }
         },
         "name": "",
         "offsetgroup": "",
         "orientation": "v",
         "showlegend": false,
         "textposition": "auto",
         "type": "bar",
         "x": [
          "October 23, 2020",
          "October 16, 2020",
          "April 3, 2020",
          "February 14, 2020",
          "November 1, 2019",
          "October 25, 2019",
          "October 25, 2019",
          "May 31, 2019",
          "December 15, 2017",
          "October 13, 2017",
          "May 26, 2017",
          "May 5, 2017",
          "April 28, 2017",
          "March 3, 2017",
          "January 27, 2017",
          "January 13, 2017",
          "September 23, 2016",
          "August 19, 2016",
          "May 6, 2016",
          "April 29, 2016",
          "March 11, 2016",
          "October 2, 2015",
          "October 2, 2015",
          "July 10, 2015",
          "May 8, 2015",
          "February 27, 2015",
          "February 13, 2015",
          "January 23, 2015",
          "January 16, 2015",
          "December 19, 2014",
          "November 7, 2014",
          "October 24, 2014",
          "October 17, 2014",
          "July 25, 2014",
          "July 18, 2014",
          "June 27, 2014",
          "June 20, 2014",
          "June 20, 2014",
          "May 30, 2014",
          "May 23, 2014",
          "May 16, 2014",
          "April 25, 2014",
          "February 28, 2014",
          "February 28, 2014",
          "January 31, 2014",
          "January 24, 2014",
          "January 17, 2014",
          "December 13, 2013",
          "October 30, 2013",
          "September 13, 2013",
          "September 13, 2013",
          "August 23, 2013",
          "August 23, 2013",
          "August 9, 2013",
          "August 2, 2013",
          "June 7, 2013",
          "June 6, 2013",
          "May 31, 2013",
          "May 14, 2013",
          "May 10, 2013",
          "May 10, 2013",
          "April 26, 2013",
          "April 26, 2013",
          "April 19, 2013",
          "April 19, 2013",
          "April 19, 2013",
          "April 5, 2013",
          "March 8, 2013",
          "February 15, 2013",
          "January 18, 2013",
          "January 11, 2013",
          "December 14, 2012",
          "November 16, 2012",
          "November 2, 2012",
          "November 2, 2012",
          "October 26, 2012",
          "October 19, 2012",
          "October 19, 2012",
          "October 19, 2012",
          "September 28, 2012",
          "September 14, 2012",
          "September 7, 2012",
          "August 3, 2012",
          "July 27, 2012",
          "July 20, 2012",
          "July 20, 2012",
          "July 20, 2012",
          "July 20, 2012",
          "July 20, 2012",
          "July 13, 2012",
          "July 6, 2012",
          "June 15, 2012",
          "June 15, 2012",
          "June 15, 2012",
          "June 8, 2012",
          "June 8, 2012",
          "June 8, 2012",
          "June 8, 2012",
          "May 18, 2012",
          "May 4, 2012",
          "April 27, 2012",
          "April 27, 2012",
          "April 27, 2012",
          "April 27, 2012",
          "April 27, 2012",
          "April 20, 2012",
          "March 30, 2012",
          "March 23, 2012",
          "March 23, 2012",
          "March 9, 2012",
          "March 2, 2012",
          "February 24, 2012",
          "February 24, 2012",
          "February 10, 2012",
          "February 10, 2012",
          "January 27, 2012",
          "January 27, 2012",
          "January 27, 2012",
          "January 27, 2012",
          "January 20, 2012",
          "January 20, 2012",
          "January 20, 2012",
          "December 16, 2011",
          "December 16, 2011",
          "November 18, 2011",
          "November 18, 2011",
          "November 10, 2011",
          "November 4, 2011",
          "November 4, 2011",
          "October 28, 2011",
          "October 21, 2011",
          "October 21, 2011",
          "October 21, 2011",
          "October 21, 2011",
          "October 14, 2011",
          "October 14, 2011",
          "October 14, 2011",
          "October 14, 2011",
          "October 7, 2011",
          "October 7, 2011",
          "September 30, 2011",
          "September 23, 2011",
          "September 23, 2011",
          "September 9, 2011",
          "September 2, 2011",
          "September 2, 2011",
          "August 19, 2011",
          "August 19, 2011",
          "August 19, 2011",
          "August 18, 2011",
          "August 12, 2011",
          "August 5, 2011",
          "August 5, 2011",
          "July 29, 2011",
          "July 29, 2011",
          "July 29, 2011",
          "July 22, 2011",
          "July 22, 2011",
          "July 22, 2011",
          "July 15, 2011",
          "July 15, 2011",
          "July 15, 2011",
          "July 15, 2011",
          "July 8, 2011",
          "July 8, 2011",
          "July 8, 2011",
          "June 24, 2011",
          "June 17, 2011",
          "June 17, 2011",
          "June 3, 2011",
          "May 27, 2011",
          "May 20, 2011",
          "May 20, 2011",
          "May 20, 2011",
          "May 6, 2011",
          "April 29, 2011",
          "April 29, 2011",
          "April 29, 2011",
          "April 29, 2011",
          "April 29, 2011",
          "April 15, 2011",
          "April 15, 2011",
          "April 15, 2011",
          "April 15, 2011",
          "April 15, 2011",
          "April 15, 2011",
          "April 8, 2011",
          "April 8, 2011",
          "March 25, 2011",
          "March 11, 2011",
          "March 11, 2011",
          "February 25, 2011",
          "February 18, 2011",
          "February 18, 2011",
          "February 18, 2011",
          "February 18, 2011",
          "February 11, 2011",
          "February 11, 2011",
          "February 11, 2011",
          "February 11, 2011",
          "February 4, 2011",
          "February 4, 2011",
          "February 4, 2011",
          "January 28, 2011",
          "January 28, 2011",
          "January 28, 2011",
          "January 28, 2011",
          "January 21, 2011",
          "January 21, 2011",
          "January 21, 2011",
          "January 21, 2011",
          "January 14, 2011",
          "January 7, 2011",
          "January 7, 2011",
          "December 17, 2010",
          "December 17, 2010",
          "December 17, 2010",
          "December 17, 2010",
          "December 17, 2010",
          "December 17, 2010",
          "December 10, 2010",
          "December 10, 2010",
          "November 19, 2010",
          "November 19, 2010",
          "November 19, 2010",
          "November 12, 2010",
          "November 12, 2010",
          "November 12, 2010",
          "November 5, 2010",
          "November 5, 2010",
          "November 5, 2010",
          "November 5, 2010",
          "October 22, 2010",
          "October 22, 2010",
          "October 22, 2010",
          "October 22, 2010",
          "October 22, 2010",
          "October 22, 2010",
          "October 22, 2010",
          "October 15, 2010",
          "October 15, 2010",
          "October 15, 2010",
          "October 1, 2010",
          "October 1, 2010",
          "September 24, 2010",
          "September 24, 2010",
          "September 17, 2010",
          "September 17, 2010",
          "September 17, 2010",
          "September 17, 2010",
          "September 17, 2010",
          "September 17, 2010",
          "September 10, 2010",
          "August 20, 2010",
          "August 20, 2010",
          "August 20, 2010",
          "August 20, 2010",
          "August 20, 2010",
          "August 20, 2010",
          "August 20, 2010",
          "August 20, 2010",
          "August 13, 2010",
          "August 6, 2010",
          "July 30, 2010",
          "July 30, 2010",
          "July 30, 2010",
          "July 30, 2010",
          "July 30, 2010",
          "July 23, 2010",
          "July 23, 2010",
          "July 23, 2010",
          "July 23, 2010",
          "July 23, 2010",
          "July 23, 2010",
          "July 23, 2010",
          "July 16, 2010",
          "July 16, 2010",
          "July 16, 2010",
          "July 16, 2010",
          "July 16, 2010",
          "July 16, 2010",
          "July 9, 2010",
          "July 9, 2010",
          "July 9, 2010",
          "July 9, 2010",
          "June 25, 2010",
          "June 25, 2010",
          "June 25, 2010",
          "June 18, 2010",
          "June 11, 2010",
          "June 4, 2010",
          "June 4, 2010",
          "June 4, 2010",
          "May 28, 2010",
          "May 28, 2010",
          "May 28, 2010",
          "May 28, 2010",
          "May 28, 2010",
          "May 21, 2010",
          "May 14, 2010",
          "May 14, 2010",
          "May 14, 2010",
          "May 14, 2010",
          "May 7, 2010",
          "May 7, 2010",
          "May 7, 2010",
          "May 7, 2010",
          "April 30, 2010",
          "April 30, 2010",
          "April 30, 2010",
          "April 30, 2010",
          "April 30, 2010",
          "April 30, 2010",
          "April 30, 2010",
          "April 23, 2010",
          "April 23, 2010",
          "April 23, 2010",
          "April 23, 2010",
          "April 23, 2010",
          "April 23, 2010",
          "April 23, 2010",
          "April 16, 2010",
          "April 16, 2010",
          "April 16, 2010",
          "April 16, 2010",
          "April 16, 2010",
          "April 16, 2010",
          "April 16, 2010",
          "April 16, 2010",
          "April 9, 2010",
          "March 26, 2010",
          "March 26, 2010",
          "March 26, 2010",
          "March 26, 2010",
          "March 19, 2010",
          "March 19, 2010",
          "March 19, 2010",
          "March 19, 2010",
          "March 19, 2010",
          "March 19, 2010",
          "March 19, 2010",
          "March 12, 2010",
          "March 12, 2010",
          "March 12, 2010",
          "March 11, 2010",
          "March 5, 2010",
          "March 5, 2010",
          "March 5, 2010",
          "March 5, 2010",
          "February 26, 2010",
          "February 26, 2010",
          "February 19, 2010",
          "February 19, 2010",
          "February 19, 2010",
          "February 19, 2010",
          "February 5, 2010",
          "January 29, 2010",
          "January 29, 2010",
          "January 29, 2010",
          "January 29, 2010",
          "January 29, 2010",
          "January 29, 2010",
          "January 22, 2010",
          "January 22, 2010",
          "January 22, 2010",
          "January 22, 2010",
          "January 22, 2010",
          "January 15, 2010",
          "January 15, 2010",
          "January 15, 2010",
          "January 8, 2010",
          "December 18, 2009",
          "December 18, 2009",
          "December 18, 2009",
          "December 18, 2009",
          "December 18, 2009",
          "December 18, 2009",
          "December 18, 2009",
          "December 11, 2009",
          "December 11, 2009",
          "December 11, 2009",
          "December 4, 2009",
          "December 4, 2009",
          "December 4, 2009",
          "December 4, 2009",
          "December 4, 2009",
          "December 4, 2009",
          "November 20, 2009",
          "November 13, 2009",
          "November 13, 2009",
          "November 13, 2009",
          "November 6, 2009",
          "November 6, 2009",
          "November 6, 2009",
          "November 6, 2009",
          "November 6, 2009",
          "October 30, 2009",
          "October 30, 2009",
          "October 30, 2009",
          "October 30, 2009",
          "October 30, 2009",
          "October 30, 2009",
          "October 30, 2009",
          "October 30, 2009",
          "October 30, 2009",
          "October 23, 2009",
          "October 23, 2009",
          "October 23, 2009",
          "October 23, 2009",
          "October 23, 2009",
          "October 23, 2009",
          "October 23, 2009",
          "October 16, 2009",
          "October 2, 2009",
          "October 2, 2009",
          "October 2, 2009",
          "September 25, 2009",
          "September 18, 2009",
          "September 18, 2009",
          "September 11, 2009",
          "September 11, 2009",
          "September 11, 2009",
          "September 4, 2009",
          "September 4, 2009",
          "September 4, 2009",
          "September 4, 2009",
          "September 4, 2009",
          "August 28, 2009",
          "August 28, 2009",
          "August 28, 2009",
          "August 21, 2009",
          "August 21, 2009",
          "August 21, 2009",
          "August 21, 2009",
          "August 14, 2009",
          "August 14, 2009",
          "August 14, 2009",
          "August 14, 2009",
          "August 14, 2009",
          "August 7, 2009",
          "August 7, 2009",
          "August 7, 2009",
          "July 31, 2009",
          "July 31, 2009",
          "July 31, 2009",
          "July 31, 2009",
          "July 31, 2009",
          "July 24, 2009",
          "July 24, 2009",
          "July 24, 2009",
          "July 24, 2009",
          "July 24, 2009",
          "July 24, 2009",
          "July 24, 2009",
          "July 17, 2009",
          "July 17, 2009",
          "July 17, 2009",
          "July 17, 2009",
          "July 10, 2009",
          "July 2, 2009",
          "July 2, 2009",
          "July 2, 2009",
          "July 2, 2009",
          "July 2, 2009",
          "July 2, 2009",
          "July 2, 2009",
          "June 26, 2009",
          "June 26, 2009",
          "June 26, 2009",
          "June 26, 2009",
          "June 26, 2009",
          "June 19, 2009",
          "June 19, 2009",
          "June 19, 2009",
          "June 5, 2009",
          "May 22, 2009",
          "May 22, 2009",
          "May 21, 2009",
          "May 8, 2009",
          "May 1, 2009",
          "May 1, 2009",
          "May 1, 2009",
          "April 24, 2009",
          "April 24, 2009",
          "April 24, 2009",
          "April 24, 2009",
          "April 17, 2009",
          "April 17, 2009",
          "April 10, 2009",
          "April 10, 2009",
          "March 27, 2009",
          "March 20, 2009",
          "March 20, 2009",
          "March 20, 2009",
          "March 6, 2009",
          "February 27, 2009",
          "February 27, 2009",
          "February 20, 2009",
          "February 13, 2009",
          "February 13, 2009",
          "February 13, 2009",
          "February 13, 2009",
          "February 6, 2009",
          "February 6, 2009",
          "February 6, 2009",
          "January 30, 2009",
          "January 30, 2009",
          "January 30, 2009",
          "January 23, 2009",
          "January 16, 2009",
          "January 16, 2009",
          "December 12, 2008",
          "December 12, 2008",
          "December 5, 2008",
          "November 21, 2008",
          "November 21, 2008",
          "November 21, 2008",
          "November 7, 2008",
          "November 7, 2008",
          "October 31, 2008",
          "October 24, 2008",
          "October 10, 2008",
          "October 10, 2008",
          "September 25, 2008",
          "September 19, 2008",
          "September 5, 2008",
          "August 29, 2008",
          "August 22, 2008",
          "August 1, 2008",
          "July 25, 2008",
          "July 25, 2008",
          "July 11, 2008",
          "May 30, 2008",
          "May 9, 2008",
          "March 7, 2008",
          "January 25, 2008",
          "October 4, 2007",
          "September 28, 2007",
          "February 2, 2007",
          "June 25, 2004",
          "March 19, 2004",
          "March 12, 2004",
          "February 14, 2004",
          "November 14, 2003",
          "May 9, 2003",
          "February 7, 2003",
          "December 17, 2002",
          "November 8, 2002",
          "September 30, 2002",
          "June 27, 2002",
          "June 26, 2002",
          "March 28, 2002",
          "March 1, 2002",
          "February 7, 2002",
          "February 1, 2002",
          "January 18, 2002",
          "January 11, 2002",
          "September 7, 2001",
          "July 27, 2001",
          "May 3, 2001",
          "February 2, 2001",
          "December 14, 2000",
          "October 13, 2000"
         ],
         "xaxis": "x",
         "y": [
          10538,
          10537,
          10536,
          10535,
          10534,
          10533,
          10532,
          10531,
          10530,
          10529,
          10528,
          10527,
          10526,
          10525,
          10524,
          10523,
          10522,
          10521,
          10520,
          10519,
          10518,
          10517,
          10516,
          10515,
          10514,
          10513,
          10512,
          10511,
          10510,
          10509,
          10508,
          10507,
          10506,
          10505,
          10504,
          10503,
          10501,
          10502,
          10500,
          10499,
          10498,
          10497,
          10496,
          10495,
          10494,
          10493,
          10492,
          10491,
          10490,
          10488,
          10489,
          10487,
          10486,
          10485,
          10484,
          10483,
          10482,
          10478,
          10479,
          10481,
          10480,
          10476,
          10477,
          10473,
          10475,
          10474,
          10472,
          10471,
          10470,
          10469,
          10468,
          10467,
          10466,
          10464,
          10465,
          10463,
          10460,
          10461,
          10462,
          10459,
          10458,
          10457,
          10456,
          10455,
          10453,
          10452,
          10450,
          10451,
          10454,
          10449,
          10448,
          10447,
          10446,
          10445,
          10444,
          10442,
          10441,
          10443,
          10440,
          10439,
          10437,
          10438,
          10436,
          10435,
          10434,
          10433,
          10432,
          10431,
          10430,
          10429,
          10428,
          10427,
          10426,
          10425,
          10424,
          10420,
          10422,
          10423,
          10421,
          10417,
          10419,
          10418,
          10416,
          10415,
          10413,
          10414,
          10412,
          10411,
          10410,
          10409,
          10405,
          10406,
          10407,
          10408,
          10402,
          10403,
          10401,
          10404,
          10400,
          10399,
          10398,
          10397,
          10396,
          10395,
          10393,
          10394,
          10390,
          10391,
          10392,
          10389,
          10388,
          10387,
          10386,
          10384,
          10383,
          10385,
          10380,
          10381,
          10382,
          10379,
          10376,
          10377,
          10378,
          10375,
          10373,
          10374,
          10372,
          10370,
          10371,
          10369,
          10368,
          10367,
          10366,
          10365,
          10364,
          10359,
          10363,
          10361,
          10360,
          10362,
          10354,
          10357,
          10358,
          10356,
          10355,
          10353,
          10351,
          10352,
          10350,
          10348,
          10349,
          10347,
          10346,
          10343,
          10344,
          10345,
          10340,
          10339,
          10341,
          10342,
          10337,
          10338,
          10336,
          10333,
          10334,
          10332,
          10335,
          10331,
          10330,
          10328,
          10329,
          10327,
          10326,
          10325,
          10321,
          10322,
          10323,
          10319,
          10320,
          10324,
          10317,
          10318,
          10315,
          10314,
          10316,
          10311,
          10312,
          10313,
          10307,
          10309,
          10310,
          10308,
          10306,
          10302,
          10301,
          10304,
          10305,
          10303,
          10300,
          10297,
          10299,
          10298,
          10295,
          10296,
          10294,
          10293,
          10291,
          10288,
          10292,
          10289,
          10287,
          10290,
          10286,
          10285,
          10282,
          10278,
          10283,
          10284,
          10280,
          10281,
          10279,
          10277,
          10276,
          10273,
          10275,
          10272,
          10271,
          10274,
          10266,
          10267,
          10264,
          10269,
          10270,
          10265,
          10268,
          10258,
          10260,
          10261,
          10259,
          10263,
          10262,
          10256,
          10254,
          10257,
          10255,
          10252,
          10251,
          10253,
          10250,
          10249,
          10248,
          10246,
          10247,
          10245,
          10244,
          10243,
          10242,
          10241,
          10240,
          10236,
          10239,
          10237,
          10238,
          10232,
          10235,
          10233,
          10234,
          10228,
          10225,
          10227,
          10226,
          10231,
          10230,
          10229,
          10224,
          10223,
          10221,
          10222,
          10220,
          10219,
          10218,
          10212,
          10217,
          10214,
          10211,
          10216,
          10210,
          10213,
          10215,
          10209,
          10205,
          10208,
          10206,
          10207,
          10203,
          10204,
          10202,
          10199,
          10200,
          10198,
          10201,
          10196,
          10197,
          10195,
          10194,
          10193,
          10190,
          10191,
          10192,
          10189,
          10188,
          10185,
          10184,
          10186,
          10187,
          10183,
          10178,
          10177,
          10180,
          10182,
          10181,
          10179,
          10176,
          10172,
          10175,
          10174,
          10173,
          10171,
          10169,
          10170,
          10168,
          10167,
          10161,
          10166,
          10163,
          10162,
          10165,
          10164,
          10160,
          10159,
          10158,
          10156,
          10154,
          10155,
          10153,
          10157,
          10152,
          10151,
          10150,
          10149,
          10148,
          10147,
          10146,
          10143,
          10144,
          10145,
          10138,
          10142,
          10141,
          10140,
          10139,
          10134,
          10135,
          10137,
          10136,
          10128,
          10133,
          10132,
          10129,
          10131,
          10127,
          10130,
          10126,
          10123,
          10124,
          10125,
          10122,
          10121,
          10120,
          10119,
          10118,
          10117,
          10114,
          10115,
          10116,
          10113,
          10112,
          10110,
          10111,
          10109,
          10105,
          10106,
          10108,
          10107,
          10100,
          10101,
          10102,
          10103,
          10104,
          10092,
          10099,
          10098,
          10094,
          10097,
          10096,
          10095,
          10093,
          10088,
          10087,
          10085,
          10090,
          10089,
          10086,
          10091,
          10082,
          10083,
          10081,
          10084,
          10080,
          10074,
          10079,
          10078,
          10073,
          10075,
          10077,
          10076,
          10072,
          10071,
          10070,
          10069,
          10068,
          10066,
          10065,
          10067,
          10064,
          10063,
          10062,
          10061,
          10060,
          10057,
          10058,
          10059,
          10055,
          10054,
          10056,
          10053,
          10051,
          10052,
          10050,
          10049,
          10048,
          10046,
          10045,
          10047,
          10044,
          10043,
          10042,
          10041,
          10040,
          10037,
          10038,
          10039,
          10034,
          10035,
          10036,
          10032,
          10033,
          10031,
          10030,
          10029,
          10028,
          10026,
          10027,
          10025,
          10024,
          10023,
          10022,
          10020,
          10021,
          10019,
          10018,
          10017,
          10016,
          10015,
          10014,
          10013,
          10012,
          10011,
          10010,
          10009,
          10008,
          10007,
          10006,
          10005,
          10004,
          10003,
          10002,
          10001,
          10000,
          4665,
          4664,
          4663,
          6006,
          4662,
          4661,
          4660,
          4659,
          4658,
          4657,
          6005,
          4656,
          4655,
          4654,
          4653,
          4652,
          4651,
          4650,
          4649,
          6004,
          4648,
          4647,
          4646,
          4645
         ],
         "yaxis": "y"
        }
       ],
       "layout": {
        "autosize": true,
        "barmode": "relative",
        "legend": {
         "tracegroupgap": 0
        },
        "margin": {
         "t": 60
        },
        "template": {
         "data": {
          "bar": [
           {
            "error_x": {
             "color": "#2a3f5f"
            },
            "error_y": {
             "color": "#2a3f5f"
            },
            "marker": {
             "line": {
              "color": "#E5ECF6",
              "width": 0.5
             },
             "pattern": {
              "fillmode": "overlay",
              "size": 10,
              "solidity": 0.2
             }
            },
            "type": "bar"
           }
          ],
          "barpolar": [
           {
            "marker": {
             "line": {
              "color": "#E5ECF6",
              "width": 0.5
             },
             "pattern": {
              "fillmode": "overlay",
              "size": 10,
              "solidity": 0.2
             }
            },
            "type": "barpolar"
           }
          ],
          "carpet": [
           {
            "aaxis": {
             "endlinecolor": "#2a3f5f",
             "gridcolor": "white",
             "linecolor": "white",
             "minorgridcolor": "white",
             "startlinecolor": "#2a3f5f"
            },
            "baxis": {
             "endlinecolor": "#2a3f5f",
             "gridcolor": "white",
             "linecolor": "white",
             "minorgridcolor": "white",
             "startlinecolor": "#2a3f5f"
            },
            "type": "carpet"
           }
          ],
          "choropleth": [
           {
            "colorbar": {
             "outlinewidth": 0,
             "ticks": ""
            },
            "type": "choropleth"
           }
          ],
          "contour": [
           {
            "colorbar": {
             "outlinewidth": 0,
             "ticks": ""
            },
            "colorscale": [
             [
              0,
              "#0d0887"
             ],
             [
              0.1111111111111111,
              "#46039f"
             ],
             [
              0.2222222222222222,
              "#7201a8"
             ],
             [
              0.3333333333333333,
              "#9c179e"
             ],
             [
              0.4444444444444444,
              "#bd3786"
             ],
             [
              0.5555555555555556,
              "#d8576b"
             ],
             [
              0.6666666666666666,
              "#ed7953"
             ],
             [
              0.7777777777777778,
              "#fb9f3a"
             ],
             [
              0.8888888888888888,
              "#fdca26"
             ],
             [
              1,
              "#f0f921"
             ]
            ],
            "type": "contour"
           }
          ],
          "contourcarpet": [
           {
            "colorbar": {
             "outlinewidth": 0,
             "ticks": ""
            },
            "type": "contourcarpet"
           }
          ],
          "heatmap": [
           {
            "colorbar": {
             "outlinewidth": 0,
             "ticks": ""
            },
            "colorscale": [
             [
              0,
              "#0d0887"
             ],
             [
              0.1111111111111111,
              "#46039f"
             ],
             [
              0.2222222222222222,
              "#7201a8"
             ],
             [
              0.3333333333333333,
              "#9c179e"
             ],
             [
              0.4444444444444444,
              "#bd3786"
             ],
             [
              0.5555555555555556,
              "#d8576b"
             ],
             [
              0.6666666666666666,
              "#ed7953"
             ],
             [
              0.7777777777777778,
              "#fb9f3a"
             ],
             [
              0.8888888888888888,
              "#fdca26"
             ],
             [
              1,
              "#f0f921"
             ]
            ],
            "type": "heatmap"
           }
          ],
          "heatmapgl": [
           {
            "colorbar": {
             "outlinewidth": 0,
             "ticks": ""
            },
            "colorscale": [
             [
              0,
              "#0d0887"
             ],
             [
              0.1111111111111111,
              "#46039f"
             ],
             [
              0.2222222222222222,
              "#7201a8"
             ],
             [
              0.3333333333333333,
              "#9c179e"
             ],
             [
              0.4444444444444444,
              "#bd3786"
             ],
             [
              0.5555555555555556,
              "#d8576b"
             ],
             [
              0.6666666666666666,
              "#ed7953"
             ],
             [
              0.7777777777777778,
              "#fb9f3a"
             ],
             [
              0.8888888888888888,
              "#fdca26"
             ],
             [
              1,
              "#f0f921"
             ]
            ],
            "type": "heatmapgl"
           }
          ],
          "histogram": [
           {
            "marker": {
             "pattern": {
              "fillmode": "overlay",
              "size": 10,
              "solidity": 0.2
             }
            },
            "type": "histogram"
           }
          ],
          "histogram2d": [
           {
            "colorbar": {
             "outlinewidth": 0,
             "ticks": ""
            },
            "colorscale": [
             [
              0,
              "#0d0887"
             ],
             [
              0.1111111111111111,
              "#46039f"
             ],
             [
              0.2222222222222222,
              "#7201a8"
             ],
             [
              0.3333333333333333,
              "#9c179e"
             ],
             [
              0.4444444444444444,
              "#bd3786"
             ],
             [
              0.5555555555555556,
              "#d8576b"
             ],
             [
              0.6666666666666666,
              "#ed7953"
             ],
             [
              0.7777777777777778,
              "#fb9f3a"
             ],
             [
              0.8888888888888888,
              "#fdca26"
             ],
             [
              1,
              "#f0f921"
             ]
            ],
            "type": "histogram2d"
           }
          ],
          "histogram2dcontour": [
           {
            "colorbar": {
             "outlinewidth": 0,
             "ticks": ""
            },
            "colorscale": [
             [
              0,
              "#0d0887"
             ],
             [
              0.1111111111111111,
              "#46039f"
             ],
             [
              0.2222222222222222,
              "#7201a8"
             ],
             [
              0.3333333333333333,
              "#9c179e"
             ],
             [
              0.4444444444444444,
              "#bd3786"
             ],
             [
              0.5555555555555556,
              "#d8576b"
             ],
             [
              0.6666666666666666,
              "#ed7953"
             ],
             [
              0.7777777777777778,
              "#fb9f3a"
             ],
             [
              0.8888888888888888,
              "#fdca26"
             ],
             [
              1,
              "#f0f921"
             ]
            ],
            "type": "histogram2dcontour"
           }
          ],
          "mesh3d": [
           {
            "colorbar": {
             "outlinewidth": 0,
             "ticks": ""
            },
            "type": "mesh3d"
           }
          ],
          "parcoords": [
           {
            "line": {
             "colorbar": {
              "outlinewidth": 0,
              "ticks": ""
             }
            },
            "type": "parcoords"
           }
          ],
          "pie": [
           {
            "automargin": true,
            "type": "pie"
           }
          ],
          "scatter": [
           {
            "marker": {
             "colorbar": {
              "outlinewidth": 0,
              "ticks": ""
             }
            },
            "type": "scatter"
           }
          ],
          "scatter3d": [
           {
            "line": {
             "colorbar": {
              "outlinewidth": 0,
              "ticks": ""
             }
            },
            "marker": {
             "colorbar": {
              "outlinewidth": 0,
              "ticks": ""
             }
            },
            "type": "scatter3d"
           }
          ],
          "scattercarpet": [
           {
            "marker": {
             "colorbar": {
              "outlinewidth": 0,
              "ticks": ""
             }
            },
            "type": "scattercarpet"
           }
          ],
          "scattergeo": [
           {
            "marker": {
             "colorbar": {
              "outlinewidth": 0,
              "ticks": ""
             }
            },
            "type": "scattergeo"
           }
          ],
          "scattergl": [
           {
            "marker": {
             "colorbar": {
              "outlinewidth": 0,
              "ticks": ""
             }
            },
            "type": "scattergl"
           }
          ],
          "scattermapbox": [
           {
            "marker": {
             "colorbar": {
              "outlinewidth": 0,
              "ticks": ""
             }
            },
            "type": "scattermapbox"
           }
          ],
          "scatterpolar": [
           {
            "marker": {
             "colorbar": {
              "outlinewidth": 0,
              "ticks": ""
             }
            },
            "type": "scatterpolar"
           }
          ],
          "scatterpolargl": [
           {
            "marker": {
             "colorbar": {
              "outlinewidth": 0,
              "ticks": ""
             }
            },
            "type": "scatterpolargl"
           }
          ],
          "scatterternary": [
           {
            "marker": {
             "colorbar": {
              "outlinewidth": 0,
              "ticks": ""
             }
            },
            "type": "scatterternary"
           }
          ],
          "surface": [
           {
            "colorbar": {
             "outlinewidth": 0,
             "ticks": ""
            },
            "colorscale": [
             [
              0,
              "#0d0887"
             ],
             [
              0.1111111111111111,
              "#46039f"
             ],
             [
              0.2222222222222222,
              "#7201a8"
             ],
             [
              0.3333333333333333,
              "#9c179e"
             ],
             [
              0.4444444444444444,
              "#bd3786"
             ],
             [
              0.5555555555555556,
              "#d8576b"
             ],
             [
              0.6666666666666666,
              "#ed7953"
             ],
             [
              0.7777777777777778,
              "#fb9f3a"
             ],
             [
              0.8888888888888888,
              "#fdca26"
             ],
             [
              1,
              "#f0f921"
             ]
            ],
            "type": "surface"
           }
          ],
          "table": [
           {
            "cells": {
             "fill": {
              "color": "#EBF0F8"
             },
             "line": {
              "color": "white"
             }
            },
            "header": {
             "fill": {
              "color": "#C8D4E3"
             },
             "line": {
              "color": "white"
             }
            },
            "type": "table"
           }
          ]
         },
         "layout": {
          "annotationdefaults": {
           "arrowcolor": "#2a3f5f",
           "arrowhead": 0,
           "arrowwidth": 1
          },
          "autotypenumbers": "strict",
          "coloraxis": {
           "colorbar": {
            "outlinewidth": 0,
            "ticks": ""
           }
          },
          "colorscale": {
           "diverging": [
            [
             0,
             "#8e0152"
            ],
            [
             0.1,
             "#c51b7d"
            ],
            [
             0.2,
             "#de77ae"
            ],
            [
             0.3,
             "#f1b6da"
            ],
            [
             0.4,
             "#fde0ef"
            ],
            [
             0.5,
             "#f7f7f7"
            ],
            [
             0.6,
             "#e6f5d0"
            ],
            [
             0.7,
             "#b8e186"
            ],
            [
             0.8,
             "#7fbc41"
            ],
            [
             0.9,
             "#4d9221"
            ],
            [
             1,
             "#276419"
            ]
           ],
           "sequential": [
            [
             0,
             "#0d0887"
            ],
            [
             0.1111111111111111,
             "#46039f"
            ],
            [
             0.2222222222222222,
             "#7201a8"
            ],
            [
             0.3333333333333333,
             "#9c179e"
            ],
            [
             0.4444444444444444,
             "#bd3786"
            ],
            [
             0.5555555555555556,
             "#d8576b"
            ],
            [
             0.6666666666666666,
             "#ed7953"
            ],
            [
             0.7777777777777778,
             "#fb9f3a"
            ],
            [
             0.8888888888888888,
             "#fdca26"
            ],
            [
             1,
             "#f0f921"
            ]
           ],
           "sequentialminus": [
            [
             0,
             "#0d0887"
            ],
            [
             0.1111111111111111,
             "#46039f"
            ],
            [
             0.2222222222222222,
             "#7201a8"
            ],
            [
             0.3333333333333333,
             "#9c179e"
            ],
            [
             0.4444444444444444,
             "#bd3786"
            ],
            [
             0.5555555555555556,
             "#d8576b"
            ],
            [
             0.6666666666666666,
             "#ed7953"
            ],
            [
             0.7777777777777778,
             "#fb9f3a"
            ],
            [
             0.8888888888888888,
             "#fdca26"
            ],
            [
             1,
             "#f0f921"
            ]
           ]
          },
          "colorway": [
           "#636efa",
           "#EF553B",
           "#00cc96",
           "#ab63fa",
           "#FFA15A",
           "#19d3f3",
           "#FF6692",
           "#B6E880",
           "#FF97FF",
           "#FECB52"
          ],
          "font": {
           "color": "#2a3f5f"
          },
          "geo": {
           "bgcolor": "white",
           "lakecolor": "white",
           "landcolor": "#E5ECF6",
           "showlakes": true,
           "showland": true,
           "subunitcolor": "white"
          },
          "hoverlabel": {
           "align": "left"
          },
          "hovermode": "closest",
          "mapbox": {
           "style": "light"
          },
          "paper_bgcolor": "white",
          "plot_bgcolor": "#E5ECF6",
          "polar": {
           "angularaxis": {
            "gridcolor": "white",
            "linecolor": "white",
            "ticks": ""
           },
           "bgcolor": "#E5ECF6",
           "radialaxis": {
            "gridcolor": "white",
            "linecolor": "white",
            "ticks": ""
           }
          },
          "scene": {
           "xaxis": {
            "backgroundcolor": "#E5ECF6",
            "gridcolor": "white",
            "gridwidth": 2,
            "linecolor": "white",
            "showbackground": true,
            "ticks": "",
            "zerolinecolor": "white"
           },
           "yaxis": {
            "backgroundcolor": "#E5ECF6",
            "gridcolor": "white",
            "gridwidth": 2,
            "linecolor": "white",
            "showbackground": true,
            "ticks": "",
            "zerolinecolor": "white"
           },
           "zaxis": {
            "backgroundcolor": "#E5ECF6",
            "gridcolor": "white",
            "gridwidth": 2,
            "linecolor": "white",
            "showbackground": true,
            "ticks": "",
            "zerolinecolor": "white"
           }
          },
          "shapedefaults": {
           "line": {
            "color": "#2a3f5f"
           }
          },
          "ternary": {
           "aaxis": {
            "gridcolor": "white",
            "linecolor": "white",
            "ticks": ""
           },
           "baxis": {
            "gridcolor": "white",
            "linecolor": "white",
            "ticks": ""
           },
           "bgcolor": "#E5ECF6",
           "caxis": {
            "gridcolor": "white",
            "linecolor": "white",
            "ticks": ""
           }
          },
          "title": {
           "x": 0.05
          },
          "xaxis": {
           "automargin": true,
           "gridcolor": "white",
           "linecolor": "white",
           "ticks": "",
           "title": {
            "standoff": 15
           },
           "zerolinecolor": "white",
           "zerolinewidth": 2
          },
          "yaxis": {
           "automargin": true,
           "gridcolor": "white",
           "linecolor": "white",
           "ticks": "",
           "title": {
            "standoff": 15
           },
           "zerolinecolor": "white",
           "zerolinewidth": 2
          }
         }
        },
        "xaxis": {
         "anchor": "y",
         "autorange": true,
         "domain": [
          0,
          1
         ],
         "range": [
          -0.5,
          257.5
         ],
         "title": {
          "text": "Closing Date"
         },
         "type": "category"
        },
        "yaxis": {
         "anchor": "x",
         "autorange": true,
         "domain": [
          0,
          1
         ],
         "range": [
          0,
          96044.21052631579
         ],
         "title": {
          "text": "Fund"
         },
         "type": "linear"
        }
       }
      },
      "image/png": "[encoded data removed]",
      "text/html": [
       "<div>                            <div id=\"a2d9c670-38fc-427e-835b-3463d45cedc1\" class=\"plotly-graph-div\" style=\"height:525px; width:100%;\"></div>            <script type=\"text/javascript\">                require([\"plotly\"], function(Plotly) {                    window.PLOTLYENV=window.PLOTLYENV || {};                                    if (document.getElementById(\"a2d9c670-38fc-427e-835b-3463d45cedc1\")) {                    Plotly.newPlot(                        \"a2d9c670-38fc-427e-835b-3463d45cedc1\",                        [{\"alignmentgroup\":\"True\",\"hovertemplate\":\"Closing Date=%{x}<br>Fund=%{y}<extra></extra>\",\"legendgroup\":\"\",\"marker\":{\"color\":\"#636efa\",\"pattern\":{\"shape\":\"\"}},\"name\":\"\",\"offsetgroup\":\"\",\"orientation\":\"v\",\"showlegend\":false,\"textposition\":\"auto\",\"x\":[\"October 23, 2020\",\"October 16, 2020\",\"April 3, 2020\",\"February 14, 2020\",\"November 1, 2019\",\"October 25, 2019\",\"October 25, 2019\",\"May 31, 2019\",\"December 15, 2017\",\"October 13, 2017\",\"May 26, 2017\",\"May 5, 2017\",\"April 28, 2017\",\"March 3, 2017\",\"January 27, 2017\",\"January 13, 2017\",\"September 23, 2016\",\"August 19, 2016\",\"May 6, 2016\",\"April 29, 2016\",\"March 11, 2016\",\"October 2, 2015\",\"October 2, 2015\",\"July 10, 2015\",\"May 8, 2015\",\"February 27, 2015\",\"February 13, 2015\",\"January 23, 2015\",\"January 16, 2015\",\"December 19, 2014\",\"November 7, 2014\",\"October 24, 2014\",\"October 17, 2014\",\"July 25, 2014\",\"July 18, 2014\",\"June 27, 2014\",\"June 20, 2014\",\"June 20, 2014\",\"May 30, 2014\",\"May 23, 2014\",\"May 16, 2014\",\"April 25, 2014\",\"February 28, 2014\",\"February 28, 2014\",\"January 31, 2014\",\"January 24, 2014\",\"January 17, 2014\",\"December 13, 2013\",\"October 30, 2013\",\"September 13, 2013\",\"September 13, 2013\",\"August 23, 2013\",\"August 23, 2013\",\"August 9, 2013\",\"August 2, 2013\",\"June 7, 2013\",\"June 6, 2013\",\"May 31, 2013\",\"May 14, 2013\",\"May 10, 2013\",\"May 10, 2013\",\"April 26, 2013\",\"April 26, 2013\",\"April 19, 2013\",\"April 19, 2013\",\"April 19, 2013\",\"April 5, 2013\",\"March 8, 2013\",\"February 15, 2013\",\"January 18, 2013\",\"January 11, 2013\",\"December 14, 2012\",\"November 16, 2012\",\"November 2, 2012\",\"November 2, 2012\",\"October 26, 2012\",\"October 19, 2012\",\"October 19, 2012\",\"October 19, 2012\",\"September 28, 2012\",\"September 14, 2012\",\"September 7, 2012\",\"August 3, 2012\",\"July 27, 2012\",\"July 20, 2012\",\"July 20, 2012\",\"July 20, 2012\",\"July 20, 2012\",\"July 20, 2012\",\"July 13, 2012\",\"July 6, 2012\",\"June 15, 2012\",\"June 15, 2012\",\"June 15, 2012\",\"June 8, 2012\",\"June 8, 2012\",\"June 8, 2012\",\"June 8, 2012\",\"May 18, 2012\",\"May 4, 2012\",\"April 27, 2012\",\"April 27, 2012\",\"April 27, 2012\",\"April 27, 2012\",\"April 27, 2012\",\"April 20, 2012\",\"March 30, 2012\",\"March 23, 2012\",\"March 23, 2012\",\"March 9, 2012\",\"March 2, 2012\",\"February 24, 2012\",\"February 24, 2012\",\"February 10, 2012\",\"February 10, 2012\",\"January 27, 2012\",\"January 27, 2012\",\"January 27, 2012\",\"January 27, 2012\",\"January 20, 2012\",\"January 20, 2012\",\"January 20, 2012\",\"December 16, 2011\",\"December 16, 2011\",\"November 18, 2011\",\"November 18, 2011\",\"November 10, 2011\",\"November 4, 2011\",\"November 4, 2011\",\"October 28, 2011\",\"October 21, 2011\",\"October 21, 2011\",\"October 21, 2011\",\"October 21, 2011\",\"October 14, 2011\",\"October 14, 2011\",\"October 14, 2011\",\"October 14, 2011\",\"October 7, 2011\",\"October 7, 2011\",\"September 30, 2011\",\"September 23, 2011\",\"September 23, 2011\",\"September 9, 2011\",\"September 2, 2011\",\"September 2, 2011\",\"August 19, 2011\",\"August 19, 2011\",\"August 19, 2011\",\"August 18, 2011\",\"August 12, 2011\",\"August 5, 2011\",\"August 5, 2011\",\"July 29, 2011\",\"July 29, 2011\",\"July 29, 2011\",\"July 22, 2011\",\"July 22, 2011\",\"July 22, 2011\",\"July 15, 2011\",\"July 15, 2011\",\"July 15, 2011\",\"July 15, 2011\",\"July 8, 2011\",\"July 8, 2011\",\"July 8, 2011\",\"June 24, 2011\",\"June 17, 2011\",\"June 17, 2011\",\"June 3, 2011\",\"May 27, 2011\",\"May 20, 2011\",\"May 20, 2011\",\"May 20, 2011\",\"May 6, 2011\",\"April 29, 2011\",\"April 29, 2011\",\"April 29, 2011\",\"April 29, 2011\",\"April 29, 2011\",\"April 15, 2011\",\"April 15, 2011\",\"April 15, 2011\",\"April 15, 2011\",\"April 15, 2011\",\"April 15, 2011\",\"April 8, 2011\",\"April 8, 2011\",\"March 25, 2011\",\"March 11, 2011\",\"March 11, 2011\",\"February 25, 2011\",\"February 18, 2011\",\"February 18, 2011\",\"February 18, 2011\",\"February 18, 2011\",\"February 11, 2011\",\"February 11, 2011\",\"February 11, 2011\",\"February 11, 2011\",\"February 4, 2011\",\"February 4, 2011\",\"February 4, 2011\",\"January 28, 2011\",\"January 28, 2011\",\"January 28, 2011\",\"January 28, 2011\",\"January 21, 2011\",\"January 21, 2011\",\"January 21, 2011\",\"January 21, 2011\",\"January 14, 2011\",\"January 7, 2011\",\"January 7, 2011\",\"December 17, 2010\",\"December 17, 2010\",\"December 17, 2010\",\"December 17, 2010\",\"December 17, 2010\",\"December 17, 2010\",\"December 10, 2010\",\"December 10, 2010\",\"November 19, 2010\",\"November 19, 2010\",\"November 19, 2010\",\"November 12, 2010\",\"November 12, 2010\",\"November 12, 2010\",\"November 5, 2010\",\"November 5, 2010\",\"November 5, 2010\",\"November 5, 2010\",\"October 22, 2010\",\"October 22, 2010\",\"October 22, 2010\",\"October 22, 2010\",\"October 22, 2010\",\"October 22, 2010\",\"October 22, 2010\",\"October 15, 2010\",\"October 15, 2010\",\"October 15, 2010\",\"October 1, 2010\",\"October 1, 2010\",\"September 24, 2010\",\"September 24, 2010\",\"September 17, 2010\",\"September 17, 2010\",\"September 17, 2010\",\"September 17, 2010\",\"September 17, 2010\",\"September 17, 2010\",\"September 10, 2010\",\"August 20, 2010\",\"August 20, 2010\",\"August 20, 2010\",\"August 20, 2010\",\"August 20, 2010\",\"August 20, 2010\",\"August 20, 2010\",\"August 20, 2010\",\"August 13, 2010\",\"August 6, 2010\",\"July 30, 2010\",\"July 30, 2010\",\"July 30, 2010\",\"July 30, 2010\",\"July 30, 2010\",\"July 23, 2010\",\"July 23, 2010\",\"July 23, 2010\",\"July 23, 2010\",\"July 23, 2010\",\"July 23, 2010\",\"July 23, 2010\",\"July 16, 2010\",\"July 16, 2010\",\"July 16, 2010\",\"July 16, 2010\",\"July 16, 2010\",\"July 16, 2010\",\"July 9, 2010\",\"July 9, 2010\",\"July 9, 2010\",\"July 9, 2010\",\"June 25, 2010\",\"June 25, 2010\",\"June 25, 2010\",\"June 18, 2010\",\"June 11, 2010\",\"June 4, 2010\",\"June 4, 2010\",\"June 4, 2010\",\"May 28, 2010\",\"May 28, 2010\",\"May 28, 2010\",\"May 28, 2010\",\"May 28, 2010\",\"May 21, 2010\",\"May 14, 2010\",\"May 14, 2010\",\"May 14, 2010\",\"May 14, 2010\",\"May 7, 2010\",\"May 7, 2010\",\"May 7, 2010\",\"May 7, 2010\",\"April 30, 2010\",\"April 30, 2010\",\"April 30, 2010\",\"April 30, 2010\",\"April 30, 2010\",\"April 30, 2010\",\"April 30, 2010\",\"April 23, 2010\",\"April 23, 2010\",\"April 23, 2010\",\"April 23, 2010\",\"April 23, 2010\",\"April 23, 2010\",\"April 23, 2010\",\"April 16, 2010\",\"April 16, 2010\",\"April 16, 2010\",\"April 16, 2010\",\"April 16, 2010\",\"April 16, 2010\",\"April 16, 2010\",\"April 16, 2010\",\"April 9, 2010\",\"March 26, 2010\",\"March 26, 2010\",\"March 26, 2010\",\"March 26, 2010\",\"March 19, 2010\",\"March 19, 2010\",\"March 19, 2010\",\"March 19, 2010\",\"March 19, 2010\",\"March 19, 2010\",\"March 19, 2010\",\"March 12, 2010\",\"March 12, 2010\",\"March 12, 2010\",\"March 11, 2010\",\"March 5, 2010\",\"March 5, 2010\",\"March 5, 2010\",\"March 5, 2010\",\"February 26, 2010\",\"February 26, 2010\",\"February 19, 2010\",\"February 19, 2010\",\"February 19, 2010\",\"February 19, 2010\",\"February 5, 2010\",\"January 29, 2010\",\"January 29, 2010\",\"January 29, 2010\",\"January 29, 2010\",\"January 29, 2010\",\"January 29, 2010\",\"January 22, 2010\",\"January 22, 2010\",\"January 22, 2010\",\"January 22, 2010\",\"January 22, 2010\",\"January 15, 2010\",\"January 15, 2010\",\"January 15, 2010\",\"January 8, 2010\",\"December 18, 2009\",\"December 18, 2009\",\"December 18, 2009\",\"December 18, 2009\",\"December 18, 2009\",\"December 18, 2009\",\"December 18, 2009\",\"December 11, 2009\",\"December 11, 2009\",\"December 11, 2009\",\"December 4, 2009\",\"December 4, 2009\",\"December 4, 2009\",\"December 4, 2009\",\"December 4, 2009\",\"December 4, 2009\",\"November 20, 2009\",\"November 13, 2009\",\"November 13, 2009\",\"November 13, 2009\",\"November 6, 2009\",\"November 6, 2009\",\"November 6, 2009\",\"November 6, 2009\",\"November 6, 2009\",\"October 30, 2009\",\"October 30, 2009\",\"October 30, 2009\",\"October 30, 2009\",\"October 30, 2009\",\"October 30, 2009\",\"October 30, 2009\",\"October 30, 2009\",\"October 30, 2009\",\"October 23, 2009\",\"October 23, 2009\",\"October 23, 2009\",\"October 23, 2009\",\"October 23, 2009\",\"October 23, 2009\",\"October 23, 2009\",\"October 16, 2009\",\"October 2, 2009\",\"October 2, 2009\",\"October 2, 2009\",\"September 25, 2009\",\"September 18, 2009\",\"September 18, 2009\",\"September 11, 2009\",\"September 11, 2009\",\"September 11, 2009\",\"September 4, 2009\",\"September 4, 2009\",\"September 4, 2009\",\"September 4, 2009\",\"September 4, 2009\",\"August 28, 2009\",\"August 28, 2009\",\"August 28, 2009\",\"August 21, 2009\",\"August 21, 2009\",\"August 21, 2009\",\"August 21, 2009\",\"August 14, 2009\",\"August 14, 2009\",\"August 14, 2009\",\"August 14, 2009\",\"August 14, 2009\",\"August 7, 2009\",\"August 7, 2009\",\"August 7, 2009\",\"July 31, 2009\",\"July 31, 2009\",\"July 31, 2009\",\"July 31, 2009\",\"July 31, 2009\",\"July 24, 2009\",\"July 24, 2009\",\"July 24, 2009\",\"July 24, 2009\",\"July 24, 2009\",\"July 24, 2009\",\"July 24, 2009\",\"July 17, 2009\",\"July 17, 2009\",\"July 17, 2009\",\"July 17, 2009\",\"July 10, 2009\",\"July 2, 2009\",\"July 2, 2009\",\"July 2, 2009\",\"July 2, 2009\",\"July 2, 2009\",\"July 2, 2009\",\"July 2, 2009\",\"June 26, 2009\",\"June 26, 2009\",\"June 26, 2009\",\"June 26, 2009\",\"June 26, 2009\",\"June 19, 2009\",\"June 19, 2009\",\"June 19, 2009\",\"June 5, 2009\",\"May 22, 2009\",\"May 22, 2009\",\"May 21, 2009\",\"May 8, 2009\",\"May 1, 2009\",\"May 1, 2009\",\"May 1, 2009\",\"April 24, 2009\",\"April 24, 2009\",\"April 24, 2009\",\"April 24, 2009\",\"April 17, 2009\",\"April 17, 2009\",\"April 10, 2009\",\"April 10, 2009\",\"March 27, 2009\",\"March 20, 2009\",\"March 20, 2009\",\"March 20, 2009\",\"March 6, 2009\",\"February 27, 2009\",\"February 27, 2009\",\"February 20, 2009\",\"February 13, 2009\",\"February 13, 2009\",\"February 13, 2009\",\"February 13, 2009\",\"February 6, 2009\",\"February 6, 2009\",\"February 6, 2009\",\"January 30, 2009\",\"January 30, 2009\",\"January 30, 2009\",\"January 23, 2009\",\"January 16, 2009\",\"January 16, 2009\",\"December 12, 2008\",\"December 12, 2008\",\"December 5, 2008\",\"November 21, 2008\",\"November 21, 2008\",\"November 21, 2008\",\"November 7, 2008\",\"November 7, 2008\",\"October 31, 2008\",\"October 24, 2008\",\"October 10, 2008\",\"October 10, 2008\",\"September 25, 2008\",\"September 19, 2008\",\"September 5, 2008\",\"August 29, 2008\",\"August 22, 2008\",\"August 1, 2008\",\"July 25, 2008\",\"July 25, 2008\",\"July 11, 2008\",\"May 30, 2008\",\"May 9, 2008\",\"March 7, 2008\",\"January 25, 2008\",\"October 4, 2007\",\"September 28, 2007\",\"February 2, 2007\",\"June 25, 2004\",\"March 19, 2004\",\"March 12, 2004\",\"February 14, 2004\",\"November 14, 2003\",\"May 9, 2003\",\"February 7, 2003\",\"December 17, 2002\",\"November 8, 2002\",\"September 30, 2002\",\"June 27, 2002\",\"June 26, 2002\",\"March 28, 2002\",\"March 1, 2002\",\"February 7, 2002\",\"February 1, 2002\",\"January 18, 2002\",\"January 11, 2002\",\"September 7, 2001\",\"July 27, 2001\",\"May 3, 2001\",\"February 2, 2001\",\"December 14, 2000\",\"October 13, 2000\"],\"xaxis\":\"x\",\"y\":[10538,10537,10536,10535,10534,10533,10532,10531,10530,10529,10528,10527,10526,10525,10524,10523,10522,10521,10520,10519,10518,10517,10516,10515,10514,10513,10512,10511,10510,10509,10508,10507,10506,10505,10504,10503,10501,10502,10500,10499,10498,10497,10496,10495,10494,10493,10492,10491,10490,10488,10489,10487,10486,10485,10484,10483,10482,10478,10479,10481,10480,10476,10477,10473,10475,10474,10472,10471,10470,10469,10468,10467,10466,10464,10465,10463,10460,10461,10462,10459,10458,10457,10456,10455,10453,10452,10450,10451,10454,10449,10448,10447,10446,10445,10444,10442,10441,10443,10440,10439,10437,10438,10436,10435,10434,10433,10432,10431,10430,10429,10428,10427,10426,10425,10424,10420,10422,10423,10421,10417,10419,10418,10416,10415,10413,10414,10412,10411,10410,10409,10405,10406,10407,10408,10402,10403,10401,10404,10400,10399,10398,10397,10396,10395,10393,10394,10390,10391,10392,10389,10388,10387,10386,10384,10383,10385,10380,10381,10382,10379,10376,10377,10378,10375,10373,10374,10372,10370,10371,10369,10368,10367,10366,10365,10364,10359,10363,10361,10360,10362,10354,10357,10358,10356,10355,10353,10351,10352,10350,10348,10349,10347,10346,10343,10344,10345,10340,10339,10341,10342,10337,10338,10336,10333,10334,10332,10335,10331,10330,10328,10329,10327,10326,10325,10321,10322,10323,10319,10320,10324,10317,10318,10315,10314,10316,10311,10312,10313,10307,10309,10310,10308,10306,10302,10301,10304,10305,10303,10300,10297,10299,10298,10295,10296,10294,10293,10291,10288,10292,10289,10287,10290,10286,10285,10282,10278,10283,10284,10280,10281,10279,10277,10276,10273,10275,10272,10271,10274,10266,10267,10264,10269,10270,10265,10268,10258,10260,10261,10259,10263,10262,10256,10254,10257,10255,10252,10251,10253,10250,10249,10248,10246,10247,10245,10244,10243,10242,10241,10240,10236,10239,10237,10238,10232,10235,10233,10234,10228,10225,10227,10226,10231,10230,10229,10224,10223,10221,10222,10220,10219,10218,10212,10217,10214,10211,10216,10210,10213,10215,10209,10205,10208,10206,10207,10203,10204,10202,10199,10200,10198,10201,10196,10197,10195,10194,10193,10190,10191,10192,10189,10188,10185,10184,10186,10187,10183,10178,10177,10180,10182,10181,10179,10176,10172,10175,10174,10173,10171,10169,10170,10168,10167,10161,10166,10163,10162,10165,10164,10160,10159,10158,10156,10154,10155,10153,10157,10152,10151,10150,10149,10148,10147,10146,10143,10144,10145,10138,10142,10141,10140,10139,10134,10135,10137,10136,10128,10133,10132,10129,10131,10127,10130,10126,10123,10124,10125,10122,10121,10120,10119,10118,10117,10114,10115,10116,10113,10112,10110,10111,10109,10105,10106,10108,10107,10100,10101,10102,10103,10104,10092,10099,10098,10094,10097,10096,10095,10093,10088,10087,10085,10090,10089,10086,10091,10082,10083,10081,10084,10080,10074,10079,10078,10073,10075,10077,10076,10072,10071,10070,10069,10068,10066,10065,10067,10064,10063,10062,10061,10060,10057,10058,10059,10055,10054,10056,10053,10051,10052,10050,10049,10048,10046,10045,10047,10044,10043,10042,10041,10040,10037,10038,10039,10034,10035,10036,10032,10033,10031,10030,10029,10028,10026,10027,10025,10024,10023,10022,10020,10021,10019,10018,10017,10016,10015,10014,10013,10012,10011,10010,10009,10008,10007,10006,10005,10004,10003,10002,10001,10000,4665,4664,4663,6006,4662,4661,4660,4659,4658,4657,6005,4656,4655,4654,4653,4652,4651,4650,4649,6004,4648,4647,4646,4645],\"yaxis\":\"y\",\"type\":\"bar\"}],                        {\"template\":{\"data\":{\"bar\":[{\"error_x\":{\"color\":\"#2a3f5f\"},\"error_y\":{\"color\":\"#2a3f5f\"},\"marker\":{\"line\":{\"color\":\"#E5ECF6\",\"width\":0.5},\"pattern\":{\"fillmode\":\"overlay\",\"size\":10,\"solidity\":0.2}},\"type\":\"bar\"}],\"barpolar\":[{\"marker\":{\"line\":{\"color\":\"#E5ECF6\",\"width\":0.5},\"pattern\":{\"fillmode\":\"overlay\",\"size\":10,\"solidity\":0.2}},\"type\":\"barpolar\"}],\"carpet\":[{\"aaxis\":{\"endlinecolor\":\"#2a3f5f\",\"gridcolor\":\"white\",\"linecolor\":\"white\",\"minorgridcolor\":\"white\",\"startlinecolor\":\"#2a3f5f\"},\"baxis\":{\"endlinecolor\":\"#2a3f5f\",\"gridcolor\":\"white\",\"linecolor\":\"white\",\"minorgridcolor\":\"white\",\"startlinecolor\":\"#2a3f5f\"},\"type\":\"carpet\"}],\"choropleth\":[{\"colorbar\":{\"outlinewidth\":0,\"ticks\":\"\"},\"type\":\"choropleth\"}],\"contour\":[{\"colorbar\":{\"outlinewidth\":0,\"ticks\":\"\"},\"colorscale\":[[0.0,\"#0d0887\"],[0.1111111111111111,\"#46039f\"],[0.2222222222222222,\"#7201a8\"],[0.3333333333333333,\"#9c179e\"],[0.4444444444444444,\"#bd3786\"],[0.5555555555555556,\"#d8576b\"],[0.6666666666666666,\"#ed7953\"],[0.7777777777777778,\"#fb9f3a\"],[0.8888888888888888,\"#fdca26\"],[1.0,\"#f0f921\"]],\"type\":\"contour\"}],\"contourcarpet\":[{\"colorbar\":{\"outlinewidth\":0,\"ticks\":\"\"},\"type\":\"contourcarpet\"}],\"heatmap\":[{\"colorbar\":{\"outlinewidth\":0,\"ticks\":\"\"},\"colorscale\":[[0.0,\"#0d0887\"],[0.1111111111111111,\"#46039f\"],[0.2222222222222222,\"#7201a8\"],[0.3333333333333333,\"#9c179e\"],[0.4444444444444444,\"#bd3786\"],[0.5555555555555556,\"#d8576b\"],[0.6666666666666666,\"#ed7953\"],[0.7777777777777778,\"#fb9f3a\"],[0.8888888888888888,\"#fdca26\"],[1.0,\"#f0f921\"]],\"type\":\"heatmap\"}],\"heatmapgl\":[{\"colorbar\":{\"outlinewidth\":0,\"ticks\":\"\"},\"colorscale\":[[0.0,\"#0d0887\"],[0.1111111111111111,\"#46039f\"],[0.2222222222222222,\"#7201a8\"],[0.3333333333333333,\"#9c179e\"],[0.4444444444444444,\"#bd3786\"],[0.5555555555555556,\"#d8576b\"],[0.6666666666666666,\"#ed7953\"],[0.7777777777777778,\"#fb9f3a\"],[0.8888888888888888,\"#fdca26\"],[1.0,\"#f0f921\"]],\"type\":\"heatmapgl\"}],\"histogram\":[{\"marker\":{\"pattern\":{\"fillmode\":\"overlay\",\"size\":10,\"solidity\":0.2}},\"type\":\"histogram\"}],\"histogram2d\":[{\"colorbar\":{\"outlinewidth\":0,\"ticks\":\"\"},\"colorscale\":[[0.0,\"#0d0887\"],[0.1111111111111111,\"#46039f\"],[0.2222222222222222,\"#7201a8\"],[0.3333333333333333,\"#9c179e\"],[0.4444444444444444,\"#bd3786\"],[0.5555555555555556,\"#d8576b\"],[0.6666666666666666,\"#ed7953\"],[0.7777777777777778,\"#fb9f3a\"],[0.8888888888888888,\"#fdca26\"],[1.0,\"#f0f921\"]],\"type\":\"histogram2d\"}],\"histogram2dcontour\":[{\"colorbar\":{\"outlinewidth\":0,\"ticks\":\"\"},\"colorscale\":[[0.0,\"#0d0887\"],[0.1111111111111111,\"#46039f\"],[0.2222222222222222,\"#7201a8\"],[0.3333333333333333,\"#9c179e\"],[0.4444444444444444,\"#bd3786\"],[0.5555555555555556,\"#d8576b\"],[0.6666666666666666,\"#ed7953\"],[0.7777777777777778,\"#fb9f3a\"],[0.8888888888888888,\"#fdca26\"],[1.0,\"#f0f921\"]],\"type\":\"histogram2dcontour\"}],\"mesh3d\":[{\"colorbar\":{\"outlinewidth\":0,\"ticks\":\"\"},\"type\":\"mesh3d\"}],\"parcoords\":[{\"line\":{\"colorbar\":{\"outlinewidth\":0,\"ticks\":\"\"}},\"type\":\"parcoords\"}],\"pie\":[{\"automargin\":true,\"type\":\"pie\"}],\"scatter\":[{\"marker\":{\"colorbar\":{\"outlinewidth\":0,\"ticks\":\"\"}},\"type\":\"scatter\"}],\"scatter3d\":[{\"line\":{\"colorbar\":{\"outlinewidth\":0,\"ticks\":\"\"}},\"marker\":{\"colorbar\":{\"outlinewidth\":0,\"ticks\":\"\"}},\"type\":\"scatter3d\"}],\"scattercarpet\":[{\"marker\":{\"colorbar\":{\"outlinewidth\":0,\"ticks\":\"\"}},\"type\":\"scattercarpet\"}],\"scattergeo\":[{\"marker\":{\"colorbar\":{\"outlinewidth\":0,\"ticks\":\"\"}},\"type\":\"scattergeo\"}],\"scattergl\":[{\"marker\":{\"colorbar\":{\"outlinewidth\":0,\"ticks\":\"\"}},\"type\":\"scattergl\"}],\"scattermapbox\":[{\"marker\":{\"colorbar\":{\"outlinewidth\":0,\"ticks\":\"\"}},\"type\":\"scattermapbox\"}],\"scatterpolar\":[{\"marker\":{\"colorbar\":{\"outlinewidth\":0,\"ticks\":\"\"}},\"type\":\"scatterpolar\"}],\"scatterpolargl\":[{\"marker\":{\"colorbar\":{\"outlinewidth\":0,\"ticks\":\"\"}},\"type\":\"scatterpolargl\"}],\"scatterternary\":[{\"marker\":{\"colorbar\":{\"outlinewidth\":0,\"ticks\":\"\"}},\"type\":\"scatterternary\"}],\"surface\":[{\"colorbar\":{\"outlinewidth\":0,\"ticks\":\"\"},\"colorscale\":[[0.0,\"#0d0887\"],[0.1111111111111111,\"#46039f\"],[0.2222222222222222,\"#7201a8\"],[0.3333333333333333,\"#9c179e\"],[0.4444444444444444,\"#bd3786\"],[0.5555555555555556,\"#d8576b\"],[0.6666666666666666,\"#ed7953\"],[0.7777777777777778,\"#fb9f3a\"],[0.8888888888888888,\"#fdca26\"],[1.0,\"#f0f921\"]],\"type\":\"surface\"}],\"table\":[{\"cells\":{\"fill\":{\"color\":\"#EBF0F8\"},\"line\":{\"color\":\"white\"}},\"header\":{\"fill\":{\"color\":\"#C8D4E3\"},\"line\":{\"color\":\"white\"}},\"type\":\"table\"}]},\"layout\":{\"annotationdefaults\":{\"arrowcolor\":\"#2a3f5f\",\"arrowhead\":0,\"arrowwidth\":1},\"autotypenumbers\":\"strict\",\"coloraxis\":{\"colorbar\":{\"outlinewidth\":0,\"ticks\":\"\"}},\"colorscale\":{\"diverging\":[[0,\"#8e0152\"],[0.1,\"#c51b7d\"],[0.2,\"#de77ae\"],[0.3,\"#f1b6da\"],[0.4,\"#fde0ef\"],[0.5,\"#f7f7f7\"],[0.6,\"#e6f5d0\"],[0.7,\"#b8e186\"],[0.8,\"#7fbc41\"],[0.9,\"#4d9221\"],[1,\"#276419\"]],\"sequential\":[[0.0,\"#0d0887\"],[0.1111111111111111,\"#46039f\"],[0.2222222222222222,\"#7201a8\"],[0.3333333333333333,\"#9c179e\"],[0.4444444444444444,\"#bd3786\"],[0.5555555555555556,\"#d8576b\"],[0.6666666666666666,\"#ed7953\"],[0.7777777777777778,\"#fb9f3a\"],[0.8888888888888888,\"#fdca26\"],[1.0,\"#f0f921\"]],\"sequentialminus\":[[0.0,\"#0d0887\"],[0.1111111111111111,\"#46039f\"],[0.2222222222222222,\"#7201a8\"],[0.3333333333333333,\"#9c179e\"],[0.4444444444444444,\"#bd3786\"],[0.5555555555555556,\"#d8576b\"],[0.6666666666666666,\"#ed7953\"],[0.7777777777777778,\"#fb9f3a\"],[0.8888888888888888,\"#fdca26\"],[1.0,\"#f0f921\"]]},\"colorway\":[\"#636efa\",\"#EF553B\",\"#00cc96\",\"#ab63fa\",\"#FFA15A\",\"#19d3f3\",\"#FF6692\",\"#B6E880\",\"#FF97FF\",\"#FECB52\"],\"font\":{\"color\":\"#2a3f5f\"},\"geo\":{\"bgcolor\":\"white\",\"lakecolor\":\"white\",\"landcolor\":\"#E5ECF6\",\"showlakes\":true,\"showland\":true,\"subunitcolor\":\"white\"},\"hoverlabel\":{\"align\":\"left\"},\"hovermode\":\"closest\",\"mapbox\":{\"style\":\"light\"},\"paper_bgcolor\":\"white\",\"plot_bgcolor\":\"#E5ECF6\",\"polar\":{\"angularaxis\":{\"gridcolor\":\"white\",\"linecolor\":\"white\",\"ticks\":\"\"},\"bgcolor\":\"#E5ECF6\",\"radialaxis\":{\"gridcolor\":\"white\",\"linecolor\":\"white\",\"ticks\":\"\"}},\"scene\":{\"xaxis\":{\"backgroundcolor\":\"#E5ECF6\",\"gridcolor\":\"white\",\"gridwidth\":2,\"linecolor\":\"white\",\"showbackground\":true,\"ticks\":\"\",\"zerolinecolor\":\"white\"},\"yaxis\":{\"backgroundcolor\":\"#E5ECF6\",\"gridcolor\":\"white\",\"gridwidth\":2,\"linecolor\":\"white\",\"showbackground\":true,\"ticks\":\"\",\"zerolinecolor\":\"white\"},\"zaxis\":{\"backgroundcolor\":\"#E5ECF6\",\"gridcolor\":\"white\",\"gridwidth\":2,\"linecolor\":\"white\",\"showbackground\":true,\"ticks\":\"\",\"zerolinecolor\":\"white\"}},\"shapedefaults\":{\"line\":{\"color\":\"#2a3f5f\"}},\"ternary\":{\"aaxis\":{\"gridcolor\":\"white\",\"linecolor\":\"white\",\"ticks\":\"\"},\"baxis\":{\"gridcolor\":\"white\",\"linecolor\":\"white\",\"ticks\":\"\"},\"bgcolor\":\"#E5ECF6\",\"caxis\":{\"gridcolor\":\"white\",\"linecolor\":\"white\",\"ticks\":\"\"}},\"title\":{\"x\":0.05},\"xaxis\":{\"automargin\":true,\"gridcolor\":\"white\",\"linecolor\":\"white\",\"ticks\":\"\",\"title\":{\"standoff\":15},\"zerolinecolor\":\"white\",\"zerolinewidth\":2},\"yaxis\":{\"automargin\":true,\"gridcolor\":\"white\",\"linecolor\":\"white\",\"ticks\":\"\",\"title\":{\"standoff\":15},\"zerolinecolor\":\"white\",\"zerolinewidth\":2}}},\"xaxis\":{\"anchor\":\"y\",\"domain\":[0.0,1.0],\"title\":{\"text\":\"Closing Date\"}},\"yaxis\":{\"anchor\":\"x\",\"domain\":[0.0,1.0],\"title\":{\"text\":\"Fund\"}},\"legend\":{\"tracegroupgap\":0},\"margin\":{\"t\":60},\"barmode\":\"relative\"},                        {\"responsive\": true}                    ).then(function(){\n",
       "                            \n",
       "var gd = document.getElementById('a2d9c670-38fc-427e-835b-3463d45cedc1');\n",
       "var x = new MutationObserver(function (mutations, observer) {{\n",
       "        var display = window.getComputedStyle(gd).display;\n",
       "        if (!display || display === 'none') {{\n",
       "            console.log([gd, 'removed!']);\n",
       "            Plotly.purge(gd);\n",
       "            observer.disconnect();\n",
       "        }}\n",
       "}});\n",
       "\n",
       "// Listen for the removal of the full notebook cells\n",
       "var notebookContainer = gd.closest('#notebook-container');\n",
       "if (notebookContainer) {{\n",
       "    x.observe(notebookContainer, {childList: true});\n",
       "}}\n",
       "\n",
       "// Listen for the clearing of the current output cell\n",
       "var outputEl = gd.closest('.output');\n",
       "if (outputEl) {{\n",
       "    x.observe(outputEl, {childList: true});\n",
       "}}\n",
       "\n",
       "                        })                };                });            </script>        </div>"
      ]
     },
     "metadata": {},
     "output_type": "display_data"
    }
   ],
   "source": [
    "px.bar(data_frame = df, x= 'Closing Date', y = 'Fund')"
   ]
  },
  {
   "cell_type": "code",
   "execution_count": 76,
   "id": "542b8004-67b6-431d-80e8-cb624eeaaf88",
   "metadata": {},
   "outputs": [],
   "source": [
    "# 예쁘게 나오지 않음"
   ]
  },
  {
   "cell_type": "code",
   "execution_count": 78,
   "id": "6590fbc3-0f7b-43dd-a1e8-0a77394fd604",
   "metadata": {},
   "outputs": [],
   "source": [
    "df['Closing Date'] = pd.to_datetime(df['Closing Date'])"
   ]
  },
  {
   "cell_type": "code",
   "execution_count": 79,
   "id": "49d62745-e6fd-4424-8245-5dca985ff73d",
   "metadata": {},
   "outputs": [
    {
     "name": "stdout",
     "output_type": "stream",
     "text": [
      "<class 'pandas.core.frame.DataFrame'>\n",
      "RangeIndex: 563 entries, 0 to 562\n",
      "Data columns (total 7 columns):\n",
      " #   Column                 Non-Null Count  Dtype         \n",
      "---  ------                 --------------  -----         \n",
      " 0   Bank Name              563 non-null    object        \n",
      " 1   City                   563 non-null    object        \n",
      " 2   State                  563 non-null    object        \n",
      " 3   Cert                   563 non-null    object        \n",
      " 4   Acquiring Institution  563 non-null    object        \n",
      " 5   Closing Date           563 non-null    datetime64[ns]\n",
      " 6   Fund                   563 non-null    int64         \n",
      "dtypes: datetime64[ns](1), int64(1), object(5)\n",
      "memory usage: 30.9+ KB\n"
     ]
    }
   ],
   "source": [
    "df.info()"
   ]
  },
  {
   "cell_type": "code",
   "execution_count": 80,
   "id": "d42da566-cad8-410c-9831-7bb497c4e405",
   "metadata": {},
   "outputs": [
    {
     "data": {
      "text/plain": [
       "2020"
      ]
     },
     "execution_count": 80,
     "metadata": {},
     "output_type": "execute_result"
    }
   ],
   "source": [
    "df['Closing Date'].iloc[0].year"
   ]
  },
  {
   "cell_type": "code",
   "execution_count": 81,
   "id": "8b9423d7-676e-4d43-9ea1-f268300bf87b",
   "metadata": {},
   "outputs": [
    {
     "data": {
      "application/vnd.plotly.v1+json": {
       "config": {
        "plotlyServerURL": "https://plot.ly"
       },
       "data": [
        {
         "hovertemplate": "State=KS<br>Closing Date=%{x}<br>Fund=%{y}<extra></extra>",
         "legendgroup": "KS",
         "marker": {
          "color": "#636efa",
          "symbol": "circle"
         },
         "mode": "markers",
         "name": "KS",
         "orientation": "v",
         "showlegend": true,
         "type": "scatter",
         "x": [
          "2020-10-23T00:00:00",
          "2017-10-13T00:00:00",
          "2012-07-20T00:00:00",
          "2011-08-12T00:00:00",
          "2010-10-22T00:00:00",
          "2010-10-15T00:00:00",
          "2010-07-23T00:00:00",
          "2009-12-11T00:00:00",
          "2009-06-19T00:00:00",
          "2009-03-20T00:00:00",
          "2008-08-22T00:00:00"
         ],
         "xaxis": "x",
         "y": [
          10538,
          10529,
          10452,
          10388,
          10302,
          10298,
          10269,
          10160,
          10066,
          10046,
          10011
         ],
         "yaxis": "y"
        },
        {
         "hovertemplate": "State=FL<br>Closing Date=%{x}<br>Fund=%{y}<extra></extra>",
         "legendgroup": "FL",
         "marker": {
          "color": "#EF553B",
          "symbol": "circle"
         },
         "mode": "markers",
         "name": "FL",
         "orientation": "v",
         "showlegend": true,
         "type": "scatter",
         "x": [
          "2020-10-16T00:00:00",
          "2015-01-16T00:00:00",
          "2014-06-20T00:00:00",
          "2013-10-30T00:00:00",
          "2013-08-02T00:00:00",
          "2013-04-19T00:00:00",
          "2013-04-19T00:00:00",
          "2012-11-02T00:00:00",
          "2012-10-19T00:00:00",
          "2012-10-19T00:00:00",
          "2012-07-20T00:00:00",
          "2012-06-15T00:00:00",
          "2012-05-04T00:00:00",
          "2012-01-27T00:00:00",
          "2012-01-20T00:00:00",
          "2011-12-16T00:00:00",
          "2011-10-21T00:00:00",
          "2011-09-09T00:00:00",
          "2011-08-19T00:00:00",
          "2011-07-22T00:00:00",
          "2011-07-22T00:00:00",
          "2011-07-15T00:00:00",
          "2011-06-17T00:00:00",
          "2011-05-06T00:00:00",
          "2011-04-29T00:00:00",
          "2011-04-29T00:00:00",
          "2011-02-11T00:00:00",
          "2011-01-07T00:00:00",
          "2010-12-17T00:00:00",
          "2010-11-19T00:00:00",
          "2010-10-22T00:00:00",
          "2010-10-22T00:00:00",
          "2010-10-01T00:00:00",
          "2010-09-24T00:00:00",
          "2010-09-10T00:00:00",
          "2010-08-20T00:00:00",
          "2010-08-20T00:00:00",
          "2010-07-30T00:00:00",
          "2010-07-30T00:00:00",
          "2010-07-23T00:00:00",
          "2010-07-16T00:00:00",
          "2010-07-16T00:00:00",
          "2010-07-16T00:00:00",
          "2010-06-25T00:00:00",
          "2010-05-28T00:00:00",
          "2010-05-28T00:00:00",
          "2010-05-28T00:00:00",
          "2010-05-07T00:00:00",
          "2010-04-16T00:00:00",
          "2010-04-16T00:00:00",
          "2010-04-16T00:00:00",
          "2010-03-26T00:00:00",
          "2010-03-12T00:00:00",
          "2010-03-05T00:00:00",
          "2010-02-19T00:00:00",
          "2010-01-29T00:00:00",
          "2010-01-22T00:00:00",
          "2009-12-18T00:00:00",
          "2009-12-11T00:00:00",
          "2009-11-20T00:00:00",
          "2009-11-13T00:00:00",
          "2009-11-13T00:00:00",
          "2009-10-23T00:00:00",
          "2009-10-23T00:00:00",
          "2009-10-23T00:00:00",
          "2009-08-07T00:00:00",
          "2009-08-07T00:00:00",
          "2009-07-31T00:00:00",
          "2009-05-21T00:00:00",
          "2009-02-13T00:00:00",
          "2009-01-30T00:00:00",
          "2008-10-31T00:00:00",
          "2008-08-01T00:00:00",
          "2004-03-12T00:00:00",
          "2002-03-01T00:00:00",
          "2002-01-11T00:00:00"
         ],
         "xaxis": "x",
         "y": [
          10537,
          10510,
          10501,
          10490,
          10484,
          10473,
          10475,
          10465,
          10461,
          10462,
          10454,
          10445,
          10439,
          10421,
          10418,
          10415,
          10408,
          10395,
          10392,
          10381,
          10382,
          10376,
          10370,
          10364,
          10360,
          10362,
          10342,
          10325,
          10324,
          10316,
          10303,
          10300,
          10296,
          10293,
          10286,
          10281,
          10279,
          10272,
          10271,
          10268,
          10260,
          10261,
          10259,
          10253,
          10243,
          10242,
          10241,
          10234,
          10216,
          10210,
          10213,
          10206,
          10197,
          10192,
          10187,
          10181,
          10173,
          10165,
          10158,
          10151,
          10149,
          10148,
          10129,
          10131,
          10130,
          10099,
          10098,
          10095,
          10061,
          10038,
          10032,
          10019,
          10010,
          4663,
          4654,
          4650
         ],
         "yaxis": "y"
        },
        {
         "hovertemplate": "State=WV<br>Closing Date=%{x}<br>Fund=%{y}<extra></extra>",
         "legendgroup": "WV",
         "marker": {
          "color": "#00cc96",
          "symbol": "circle"
         },
         "mode": "markers",
         "name": "WV",
         "orientation": "v",
         "showlegend": true,
         "type": "scatter",
         "x": [
          "2020-04-03T00:00:00",
          "2008-09-19T00:00:00"
         ],
         "xaxis": "x",
         "y": [
          10536,
          10014
         ],
         "yaxis": "y"
        },
        {
         "hovertemplate": "State=NE<br>Closing Date=%{x}<br>Fund=%{y}<extra></extra>",
         "legendgroup": "NE",
         "marker": {
          "color": "#ab63fa",
          "symbol": "circle"
         },
         "mode": "markers",
         "name": "NE",
         "orientation": "v",
         "showlegend": true,
         "type": "scatter",
         "x": [
          "2020-02-14T00:00:00",
          "2011-11-04T00:00:00",
          "2010-06-04T00:00:00",
          "2009-02-13T00:00:00"
         ],
         "xaxis": "x",
         "y": [
          10535,
          10410,
          10248,
          10039
         ],
         "yaxis": "y"
        },
        {
         "hovertemplate": "State=NJ<br>Closing Date=%{x}<br>Fund=%{y}<extra></extra>",
         "legendgroup": "NJ",
         "marker": {
          "color": "#FFA15A",
          "symbol": "circle"
         },
         "mode": "markers",
         "name": "NJ",
         "orientation": "v",
         "showlegend": true,
         "type": "scatter",
         "x": [
          "2019-11-01T00:00:00",
          "2017-01-13T00:00:00",
          "2012-04-20T00:00:00",
          "2011-10-14T00:00:00",
          "2010-09-17T00:00:00",
          "2009-07-31T00:00:00",
          "2009-05-01T00:00:00",
          "2004-02-14T00:00:00"
         ],
         "xaxis": "x",
         "y": [
          10534,
          10523,
          10433,
          10403,
          10290,
          10097,
          10058,
          6006
         ],
         "yaxis": "y"
        },
        {
         "hovertemplate": "State=OH<br>Closing Date=%{x}<br>Fund=%{y}<extra></extra>",
         "legendgroup": "OH",
         "marker": {
          "color": "#19d3f3",
          "symbol": "circle"
         },
         "mode": "markers",
         "name": "OH",
         "orientation": "v",
         "showlegend": true,
         "type": "scatter",
         "x": [
          "2019-10-25T00:00:00",
          "2014-05-23T00:00:00",
          "2010-09-17T00:00:00",
          "2010-03-19T00:00:00",
          "2009-12-04T00:00:00",
          "2009-07-31T00:00:00",
          "2007-10-04T00:00:00",
          "2002-02-01T00:00:00",
          "2001-05-03T00:00:00"
         ],
         "xaxis": "x",
         "y": [
          10533,
          10499,
          10288,
          10201,
          10155,
          10096,
          10002,
          4652,
          4648
         ],
         "yaxis": "y"
        },
        {
         "hovertemplate": "State=KY<br>Closing Date=%{x}<br>Fund=%{y}<extra></extra>",
         "legendgroup": "KY",
         "marker": {
          "color": "#FF6692",
          "symbol": "circle"
         },
         "mode": "markers",
         "name": "KY",
         "orientation": "v",
         "showlegend": true,
         "type": "scatter",
         "x": [
          "2019-10-25T00:00:00",
          "2013-04-19T00:00:00",
          "2009-09-18T00:00:00"
         ],
         "xaxis": "x",
         "y": [
          10532,
          10474,
          10121
         ],
         "yaxis": "y"
        },
        {
         "hovertemplate": "State=TX<br>Closing Date=%{x}<br>Fund=%{y}<extra></extra>",
         "legendgroup": "TX",
         "marker": {
          "color": "#B6E880",
          "symbol": "circle"
         },
         "mode": "markers",
         "name": "TX",
         "orientation": "v",
         "showlegend": true,
         "type": "scatter",
         "x": [
          "2019-05-31T00:00:00",
          "2013-12-13T00:00:00",
          "2013-09-13T00:00:00",
          "2011-09-30T00:00:00",
          "2010-02-19T00:00:00",
          "2009-10-30T00:00:00",
          "2009-10-30T00:00:00",
          "2009-10-30T00:00:00",
          "2009-08-21T00:00:00",
          "2009-07-02T00:00:00",
          "2008-12-12T00:00:00",
          "2008-11-07T00:00:00",
          "2002-01-18T00:00:00"
         ],
         "xaxis": "x",
         "y": [
          10531,
          10491,
          10488,
          10398,
          10186,
          10138,
          10142,
          10141,
          10105,
          10079,
          10026,
          10021,
          4651
         ],
         "yaxis": "y"
        },
        {
         "hovertemplate": "State=IL<br>Closing Date=%{x}<br>Fund=%{y}<extra></extra>",
         "legendgroup": "IL",
         "marker": {
          "color": "#FF97FF",
          "symbol": "circle"
         },
         "mode": "markers",
         "name": "IL",
         "orientation": "v",
         "showlegend": true,
         "type": "scatter",
         "x": [
          "2017-12-15T00:00:00",
          "2017-05-26T00:00:00",
          "2017-01-27T00:00:00",
          "2015-05-08T00:00:00",
          "2015-01-23T00:00:00",
          "2014-10-24T00:00:00",
          "2014-07-25T00:00:00",
          "2014-06-20T00:00:00",
          "2014-05-16T00:00:00",
          "2014-01-17T00:00:00",
          "2013-02-15T00:00:00",
          "2012-11-02T00:00:00",
          "2012-09-28T00:00:00",
          "2012-08-03T00:00:00",
          "2012-07-20T00:00:00",
          "2012-06-08T00:00:00",
          "2012-03-23T00:00:00",
          "2012-03-09T00:00:00",
          "2012-02-10T00:00:00",
          "2011-10-28T00:00:00",
          "2011-10-14T00:00:00",
          "2011-08-19T00:00:00",
          "2011-08-05T00:00:00",
          "2011-07-08T00:00:00",
          "2011-04-08T00:00:00",
          "2011-03-25T00:00:00",
          "2011-02-25T00:00:00",
          "2011-02-04T00:00:00",
          "2010-10-22T00:00:00",
          "2010-08-20T00:00:00",
          "2010-08-13T00:00:00",
          "2010-08-06T00:00:00",
          "2010-06-04T00:00:00",
          "2010-05-14T00:00:00",
          "2010-04-23T00:00:00",
          "2010-04-23T00:00:00",
          "2010-04-23T00:00:00",
          "2010-04-23T00:00:00",
          "2010-04-23T00:00:00",
          "2010-04-23T00:00:00",
          "2010-04-23T00:00:00",
          "2010-03-05T00:00:00",
          "2010-02-19T00:00:00",
          "2010-01-15T00:00:00",
          "2009-12-18T00:00:00",
          "2009-12-04T00:00:00",
          "2009-10-30T00:00:00",
          "2009-10-30T00:00:00",
          "2009-10-23T00:00:00",
          "2009-09-11T00:00:00",
          "2009-09-04T00:00:00",
          "2009-09-04T00:00:00",
          "2009-07-31T00:00:00",
          "2009-07-02T00:00:00",
          "2009-07-02T00:00:00",
          "2009-07-02T00:00:00",
          "2009-07-02T00:00:00",
          "2009-07-02T00:00:00",
          "2009-07-02T00:00:00",
          "2009-06-05T00:00:00",
          "2009-05-22T00:00:00",
          "2009-05-22T00:00:00",
          "2009-02-27T00:00:00",
          "2009-02-13T00:00:00",
          "2009-01-16T00:00:00",
          "2008-10-10T00:00:00",
          "2002-06-27T00:00:00",
          "2001-07-27T00:00:00",
          "2000-12-14T00:00:00"
         ],
         "xaxis": "x",
         "y": [
          10530,
          10528,
          10524,
          10514,
          10511,
          10507,
          10505,
          10502,
          10498,
          10492,
          10470,
          10464,
          10459,
          10456,
          10453,
          10442,
          10431,
          10429,
          10424,
          10409,
          10402,
          10390,
          10386,
          10374,
          10352,
          10350,
          10347,
          10337,
          10301,
          10284,
          10277,
          10276,
          10246,
          10236,
          10224,
          10223,
          10221,
          10222,
          10220,
          10219,
          10218,
          10191,
          10184,
          10170,
          10166,
          10154,
          10140,
          10137,
          10128,
          10117,
          10115,
          10113,
          10094,
          10074,
          10078,
          10073,
          10075,
          10077,
          10076,
          10064,
          10063,
          10062,
          10042,
          10037,
          10028,
          10017,
          6005,
          6004,
          4646
         ],
         "yaxis": "y"
        },
        {
         "hovertemplate": "State=WI<br>Closing Date=%{x}<br>Fund=%{y}<extra></extra>",
         "legendgroup": "WI",
         "marker": {
          "color": "#FECB52",
          "symbol": "circle"
         },
         "mode": "markers",
         "name": "WI",
         "orientation": "v",
         "showlegend": true,
         "type": "scatter",
         "x": [
          "2017-05-05T00:00:00",
          "2016-03-11T00:00:00",
          "2013-08-09T00:00:00",
          "2013-05-31T00:00:00",
          "2011-03-11T00:00:00",
          "2011-02-11T00:00:00",
          "2011-01-28T00:00:00",
          "2010-11-19T00:00:00",
          "2010-09-17T00:00:00",
          "2009-10-23T00:00:00",
          "2003-05-09T00:00:00"
         ],
         "xaxis": "x",
         "y": [
          10527,
          10518,
          10485,
          10478,
          10348,
          10339,
          10332,
          10315,
          10291,
          10132,
          4661
         ],
         "yaxis": "y"
        },
        {
         "hovertemplate": "State=LA<br>Closing Date=%{x}<br>Fund=%{y}<extra></extra>",
         "legendgroup": "LA",
         "marker": {
          "color": "#636efa",
          "symbol": "circle"
         },
         "mode": "markers",
         "name": "LA",
         "orientation": "v",
         "showlegend": true,
         "type": "scatter",
         "x": [
          "2017-04-28T00:00:00",
          "2011-11-18T00:00:00",
          "2010-03-12T00:00:00",
          "2002-12-17T00:00:00"
         ],
         "xaxis": "x",
         "y": [
          10526,
          10413,
          10196,
          4659
         ],
         "yaxis": "y"
        },
        {
         "hovertemplate": "State=UT<br>Closing Date=%{x}<br>Fund=%{y}<extra></extra>",
         "legendgroup": "UT",
         "marker": {
          "color": "#EF553B",
          "symbol": "circle"
         },
         "mode": "markers",
         "name": "UT",
         "orientation": "v",
         "showlegend": true,
         "type": "scatter",
         "x": [
          "2017-03-03T00:00:00",
          "2011-11-04T00:00:00",
          "2010-03-19T00:00:00",
          "2010-03-05T00:00:00",
          "2010-01-15T00:00:00",
          "2009-05-01T00:00:00",
          "2009-01-30T00:00:00",
          "2004-06-25T00:00:00"
         ],
         "xaxis": "x",
         "y": [
          10525,
          10411,
          10200,
          10193,
          10171,
          10057,
          10031,
          4665
         ],
         "yaxis": "y"
        },
        {
         "hovertemplate": "State=AR<br>Closing Date=%{x}<br>Fund=%{y}<extra></extra>",
         "legendgroup": "AR",
         "marker": {
          "color": "#00cc96",
          "symbol": "circle"
         },
         "mode": "markers",
         "name": "AR",
         "orientation": "v",
         "showlegend": true,
         "type": "scatter",
         "x": [
          "2016-09-23T00:00:00",
          "2010-12-17T00:00:00",
          "2008-05-09T00:00:00",
          "2001-09-07T00:00:00"
         ],
         "xaxis": "x",
         "y": [
          10522,
          10322,
          10005,
          4649
         ],
         "yaxis": "y"
        },
        {
         "hovertemplate": "State=GA<br>Closing Date=%{x}<br>Fund=%{y}<extra></extra>",
         "legendgroup": "GA",
         "marker": {
          "color": "#ab63fa",
          "symbol": "circle"
         },
         "mode": "markers",
         "name": "GA",
         "orientation": "v",
         "showlegend": true,
         "type": "scatter",
         "x": [
          "2016-08-19T00:00:00",
          "2015-10-02T00:00:00",
          "2015-02-13T00:00:00",
          "2014-07-18T00:00:00",
          "2013-05-10T00:00:00",
          "2013-04-26T00:00:00",
          "2013-03-08T00:00:00",
          "2012-11-16T00:00:00",
          "2012-07-27T00:00:00",
          "2012-07-20T00:00:00",
          "2012-07-20T00:00:00",
          "2012-07-06T00:00:00",
          "2012-06-15T00:00:00",
          "2012-03-23T00:00:00",
          "2012-03-02T00:00:00",
          "2012-02-24T00:00:00",
          "2012-01-20T00:00:00",
          "2011-11-10T00:00:00",
          "2011-10-21T00:00:00",
          "2011-10-21T00:00:00",
          "2011-10-14T00:00:00",
          "2011-09-02T00:00:00",
          "2011-09-02T00:00:00",
          "2011-08-19T00:00:00",
          "2011-07-15T00:00:00",
          "2011-07-15T00:00:00",
          "2011-06-24T00:00:00",
          "2011-06-17T00:00:00",
          "2011-05-20T00:00:00",
          "2011-05-20T00:00:00",
          "2011-04-29T00:00:00",
          "2011-04-29T00:00:00",
          "2011-04-15T00:00:00",
          "2011-04-15T00:00:00",
          "2011-02-18T00:00:00",
          "2011-02-18T00:00:00",
          "2011-02-04T00:00:00",
          "2011-02-04T00:00:00",
          "2011-01-21T00:00:00",
          "2011-01-14T00:00:00",
          "2010-12-17T00:00:00",
          "2010-12-17T00:00:00",
          "2010-12-17T00:00:00",
          "2010-11-12T00:00:00",
          "2010-11-12T00:00:00",
          "2010-10-22T00:00:00",
          "2010-10-22T00:00:00",
          "2010-09-17T00:00:00",
          "2010-09-17T00:00:00",
          "2010-09-17T00:00:00",
          "2010-07-30T00:00:00",
          "2010-07-23T00:00:00",
          "2010-06-25T00:00:00",
          "2010-05-14T00:00:00",
          "2010-03-26T00:00:00",
          "2010-03-26T00:00:00",
          "2010-03-19T00:00:00",
          "2010-03-19T00:00:00",
          "2010-03-19T00:00:00",
          "2010-01-29T00:00:00",
          "2010-01-29T00:00:00",
          "2009-12-18T00:00:00",
          "2009-12-04T00:00:00",
          "2009-12-04T00:00:00",
          "2009-12-04T00:00:00",
          "2009-11-06T00:00:00",
          "2009-10-23T00:00:00",
          "2009-09-25T00:00:00",
          "2009-08-21T00:00:00",
          "2009-08-21T00:00:00",
          "2009-07-24T00:00:00",
          "2009-07-24T00:00:00",
          "2009-07-24T00:00:00",
          "2009-07-24T00:00:00",
          "2009-07-24T00:00:00",
          "2009-07-24T00:00:00",
          "2009-07-17T00:00:00",
          "2009-06-26T00:00:00",
          "2009-06-26T00:00:00",
          "2009-06-19T00:00:00",
          "2009-05-01T00:00:00",
          "2009-04-24T00:00:00",
          "2009-03-27T00:00:00",
          "2009-03-20T00:00:00",
          "2009-03-06T00:00:00",
          "2009-02-06T00:00:00",
          "2008-12-12T00:00:00",
          "2008-12-05T00:00:00",
          "2008-11-21T00:00:00",
          "2008-10-24T00:00:00",
          "2008-08-29T00:00:00",
          "2007-09-28T00:00:00",
          "2002-09-30T00:00:00"
         ],
         "xaxis": "x",
         "y": [
          10521,
          10516,
          10512,
          10504,
          10481,
          10476,
          10471,
          10466,
          10455,
          10450,
          10451,
          10448,
          10446,
          10430,
          10428,
          10426,
          10419,
          10412,
          10406,
          10407,
          10404,
          10393,
          10394,
          10391,
          10377,
          10378,
          10372,
          10371,
          10366,
          10365,
          10363,
          10361,
          10355,
          10353,
          10344,
          10345,
          10338,
          10336,
          10329,
          10327,
          10323,
          10319,
          10320,
          10312,
          10313,
          10304,
          10305,
          10292,
          10289,
          10287,
          10274,
          10265,
          10251,
          10238,
          10208,
          10207,
          10202,
          10199,
          10198,
          10180,
          10179,
          10164,
          10153,
          10157,
          10152,
          10145,
          10127,
          10122,
          10108,
          10107,
          10088,
          10087,
          10085,
          10090,
          10089,
          10086,
          10084,
          10069,
          10068,
          10067,
          10059,
          10053,
          10048,
          10047,
          10044,
          10036,
          10027,
          10025,
          10022,
          10018,
          10012,
          10001,
          4657
         ],
         "yaxis": "y"
        },
        {
         "hovertemplate": "State=PA<br>Closing Date=%{x}<br>Fund=%{y}<extra></extra>",
         "legendgroup": "PA",
         "marker": {
          "color": "#FFA15A",
          "symbol": "circle"
         },
         "mode": "markers",
         "name": "PA",
         "orientation": "v",
         "showlegend": true,
         "type": "scatter",
         "x": [
          "2016-05-06T00:00:00",
          "2014-02-28T00:00:00",
          "2012-10-26T00:00:00",
          "2012-01-20T00:00:00",
          "2011-08-18T00:00:00",
          "2010-12-10T00:00:00",
          "2010-11-19T00:00:00",
          "2009-08-14T00:00:00",
          "2007-02-02T00:00:00",
          "2003-11-14T00:00:00"
         ],
         "xaxis": "x",
         "y": [
          10520,
          10496,
          10463,
          10417,
          10389,
          10317,
          10314,
          10104,
          10000,
          4662
         ],
         "yaxis": "y"
        },
        {
         "hovertemplate": "State=TN<br>Closing Date=%{x}<br>Fund=%{y}<extra></extra>",
         "legendgroup": "TN",
         "marker": {
          "color": "#19d3f3",
          "symbol": "circle"
         },
         "mode": "markers",
         "name": "TN",
         "orientation": "v",
         "showlegend": true,
         "type": "scatter",
         "x": [
          "2016-04-29T00:00:00",
          "2013-08-23T00:00:00",
          "2013-06-07T00:00:00",
          "2012-06-15T00:00:00",
          "2012-01-27T00:00:00",
          "2012-01-27T00:00:00",
          "2002-11-08T00:00:00"
         ],
         "xaxis": "x",
         "y": [
          10519,
          10486,
          10483,
          10447,
          10420,
          10423,
          4658
         ],
         "yaxis": "y"
        },
        {
         "hovertemplate": "State=WA<br>Closing Date=%{x}<br>Fund=%{y}<extra></extra>",
         "legendgroup": "WA",
         "marker": {
          "color": "#FF6692",
          "symbol": "circle"
         },
         "mode": "markers",
         "name": "WA",
         "orientation": "v",
         "showlegend": true,
         "type": "scatter",
         "x": [
          "2015-10-02T00:00:00",
          "2013-01-11T00:00:00",
          "2011-08-05T00:00:00",
          "2011-05-27T00:00:00",
          "2011-05-20T00:00:00",
          "2010-11-05T00:00:00",
          "2010-10-01T00:00:00",
          "2010-09-24T00:00:00",
          "2010-07-30T00:00:00",
          "2010-06-11T00:00:00",
          "2010-04-30T00:00:00",
          "2010-04-16T00:00:00",
          "2010-02-26T00:00:00",
          "2010-01-29T00:00:00",
          "2010-01-22T00:00:00",
          "2010-01-08T00:00:00",
          "2009-09-11T00:00:00",
          "2009-05-08T00:00:00",
          "2009-01-16T00:00:00"
         ],
         "xaxis": "x",
         "y": [
          10517,
          10468,
          10387,
          10368,
          10367,
          10309,
          10295,
          10294,
          10275,
          10249,
          10228,
          10212,
          10189,
          10178,
          10172,
          10168,
          10119,
          10060,
          10029
         ],
         "yaxis": "y"
        },
        {
         "hovertemplate": "State=CO<br>Closing Date=%{x}<br>Fund=%{y}<extra></extra>",
         "legendgroup": "CO",
         "marker": {
          "color": "#B6E880",
          "symbol": "circle"
         },
         "mode": "markers",
         "name": "CO",
         "orientation": "v",
         "showlegend": true,
         "type": "scatter",
         "x": [
          "2015-07-10T00:00:00",
          "2011-10-21T00:00:00",
          "2011-07-22T00:00:00",
          "2011-07-08T00:00:00",
          "2011-07-08T00:00:00",
          "2011-01-28T00:00:00",
          "2011-01-21T00:00:00",
          "2009-10-02T00:00:00",
          "2009-04-10T00:00:00",
          "2009-03-20T00:00:00"
         ],
         "xaxis": "x",
         "y": [
          10515,
          10405,
          10380,
          10375,
          10373,
          10334,
          10331,
          10123,
          10050,
          10045
         ],
         "yaxis": "y"
        },
        {
         "hovertemplate": "State=PR<br>Closing Date=%{x}<br>Fund=%{y}<extra></extra>",
         "legendgroup": "PR",
         "marker": {
          "color": "#FF97FF",
          "symbol": "circle"
         },
         "mode": "markers",
         "name": "PR",
         "orientation": "v",
         "showlegend": true,
         "type": "scatter",
         "x": [
          "2015-02-27T00:00:00",
          "2010-04-30T00:00:00",
          "2010-04-30T00:00:00",
          "2010-04-30T00:00:00"
         ],
         "xaxis": "x",
         "y": [
          10513,
          10231,
          10230,
          10229
         ],
         "yaxis": "y"
        },
        {
         "hovertemplate": "State=MN<br>Closing Date=%{x}<br>Fund=%{y}<extra></extra>",
         "legendgroup": "MN",
         "marker": {
          "color": "#FECB52",
          "symbol": "circle"
         },
         "mode": "markers",
         "name": "MN",
         "orientation": "v",
         "showlegend": true,
         "type": "scatter",
         "x": [
          "2014-12-19T00:00:00",
          "2013-01-18T00:00:00",
          "2012-09-07T00:00:00",
          "2012-04-27T00:00:00",
          "2012-02-24T00:00:00",
          "2012-01-27T00:00:00",
          "2011-10-07T00:00:00",
          "2011-04-15T00:00:00",
          "2010-12-17T00:00:00",
          "2010-07-23T00:00:00",
          "2010-05-21T00:00:00",
          "2010-05-07T00:00:00",
          "2010-03-19T00:00:00",
          "2010-02-05T00:00:00",
          "2010-01-29T00:00:00",
          "2010-01-15T00:00:00",
          "2009-11-06T00:00:00",
          "2009-10-23T00:00:00",
          "2009-10-02T00:00:00",
          "2009-09-11T00:00:00",
          "2009-08-28T00:00:00",
          "2009-06-26T00:00:00",
          "2008-05-30T00:00:00"
         ],
         "xaxis": "x",
         "y": [
          10509,
          10469,
          10457,
          10436,
          10427,
          10422,
          10399,
          10357,
          10321,
          10264,
          10240,
          10233,
          10203,
          10183,
          10182,
          10169,
          10143,
          10133,
          10124,
          10118,
          10111,
          10070,
          10006
         ],
         "yaxis": "y"
        },
        {
         "hovertemplate": "State=CA<br>Closing Date=%{x}<br>Fund=%{y}<extra></extra>",
         "legendgroup": "CA",
         "marker": {
          "color": "#636efa",
          "symbol": "circle"
         },
         "mode": "markers",
         "name": "CA",
         "orientation": "v",
         "showlegend": true,
         "type": "scatter",
         "x": [
          "2014-11-07T00:00:00",
          "2012-04-27T00:00:00",
          "2011-09-23T00:00:00",
          "2011-02-18T00:00:00",
          "2011-02-18T00:00:00",
          "2011-02-11T00:00:00",
          "2010-11-05T00:00:00",
          "2010-11-05T00:00:00",
          "2010-08-20T00:00:00",
          "2010-08-20T00:00:00",
          "2010-08-20T00:00:00",
          "2010-08-20T00:00:00",
          "2010-05-28T00:00:00",
          "2010-05-07T00:00:00",
          "2010-04-16T00:00:00",
          "2010-04-16T00:00:00",
          "2010-02-19T00:00:00",
          "2010-01-29T00:00:00",
          "2009-12-18T00:00:00",
          "2009-12-18T00:00:00",
          "2009-11-13T00:00:00",
          "2009-11-06T00:00:00",
          "2009-10-30T00:00:00",
          "2009-10-30T00:00:00",
          "2009-10-30T00:00:00",
          "2009-10-16T00:00:00",
          "2009-08-28T00:00:00",
          "2009-07-17T00:00:00",
          "2009-07-17T00:00:00",
          "2009-06-26T00:00:00",
          "2009-06-26T00:00:00",
          "2009-04-24T00:00:00",
          "2009-02-06T00:00:00",
          "2009-02-06T00:00:00",
          "2009-01-23T00:00:00",
          "2008-11-21T00:00:00",
          "2008-11-21T00:00:00",
          "2008-11-07T00:00:00",
          "2008-07-25T00:00:00",
          "2008-07-11T00:00:00",
          "2003-02-07T00:00:00"
         ],
         "xaxis": "x",
         "y": [
          10508,
          10437,
          10397,
          10346,
          10343,
          10340,
          10307,
          10310,
          10285,
          10282,
          10278,
          10283,
          10244,
          10232,
          10217,
          10214,
          10185,
          10177,
          10167,
          10161,
          10150,
          10147,
          10139,
          10134,
          10135,
          10126,
          10110,
          10082,
          10083,
          10072,
          10071,
          10054,
          10034,
          10035,
          10030,
          10024,
          10023,
          10020,
          10009,
          10007,
          4660
         ],
         "yaxis": "y"
        },
        {
         "hovertemplate": "State=MD<br>Closing Date=%{x}<br>Fund=%{y}<extra></extra>",
         "legendgroup": "MD",
         "marker": {
          "color": "#EF553B",
          "symbol": "circle"
         },
         "mode": "markers",
         "name": "MD",
         "orientation": "v",
         "showlegend": true,
         "type": "scatter",
         "x": [
          "2014-10-17T00:00:00",
          "2014-05-30T00:00:00",
          "2012-04-27T00:00:00",
          "2012-04-27T00:00:00",
          "2010-11-05T00:00:00",
          "2010-07-09T00:00:00",
          "2010-07-09T00:00:00",
          "2010-03-05T00:00:00",
          "2009-08-28T00:00:00",
          "2009-01-30T00:00:00"
         ],
         "xaxis": "x",
         "y": [
          10506,
          10500,
          10435,
          10434,
          10308,
          10257,
          10255,
          10190,
          10109,
          10033
         ],
         "yaxis": "y"
        },
        {
         "hovertemplate": "State=OK<br>Closing Date=%{x}<br>Fund=%{y}<extra></extra>",
         "legendgroup": "OK",
         "marker": {
          "color": "#00cc96",
          "symbol": "circle"
         },
         "mode": "markers",
         "name": "OK",
         "orientation": "v",
         "showlegend": true,
         "type": "scatter",
         "x": [
          "2014-06-27T00:00:00",
          "2014-01-24T00:00:00",
          "2012-06-08T00:00:00",
          "2011-03-11T00:00:00",
          "2011-01-28T00:00:00",
          "2010-07-09T00:00:00",
          "2009-07-31T00:00:00"
         ],
         "xaxis": "x",
         "y": [
          10503,
          10493,
          10443,
          10349,
          10335,
          10256,
          10093
         ],
         "yaxis": "y"
        },
        {
         "hovertemplate": "State=SC<br>Closing Date=%{x}<br>Fund=%{y}<extra></extra>",
         "legendgroup": "SC",
         "marker": {
          "color": "#ab63fa",
          "symbol": "circle"
         },
         "mode": "markers",
         "name": "SC",
         "orientation": "v",
         "showlegend": true,
         "type": "scatter",
         "x": [
          "2014-04-25T00:00:00",
          "2012-06-08T00:00:00",
          "2012-04-27T00:00:00",
          "2011-07-29T00:00:00",
          "2011-06-03T00:00:00",
          "2011-01-21T00:00:00",
          "2010-07-23T00:00:00",
          "2010-07-16T00:00:00",
          "2010-07-16T00:00:00",
          "2010-04-09T00:00:00"
         ],
         "xaxis": "x",
         "y": [
          10497,
          10441,
          10438,
          10383,
          10369,
          10328,
          10270,
          10263,
          10262,
          10209
         ],
         "yaxis": "y"
        },
        {
         "hovertemplate": "State=VA<br>Closing Date=%{x}<br>Fund=%{y}<extra></extra>",
         "legendgroup": "VA",
         "marker": {
          "color": "#FFA15A",
          "symbol": "circle"
         },
         "mode": "markers",
         "name": "VA",
         "orientation": "v",
         "showlegend": true,
         "type": "scatter",
         "x": [
          "2014-02-28T00:00:00",
          "2011-09-23T00:00:00",
          "2011-07-29T00:00:00",
          "2010-08-20T00:00:00",
          "2009-12-04T00:00:00"
         ],
         "xaxis": "x",
         "y": [
          10495,
          10396,
          10385,
          10280,
          10156
         ],
         "yaxis": "y"
        },
        {
         "hovertemplate": "State=ID<br>Closing Date=%{x}<br>Fund=%{y}<extra></extra>",
         "legendgroup": "ID",
         "marker": {
          "color": "#19d3f3",
          "symbol": "circle"
         },
         "mode": "markers",
         "name": "ID",
         "orientation": "v",
         "showlegend": true,
         "type": "scatter",
         "x": [
          "2014-01-31T00:00:00",
          "2009-04-24T00:00:00"
         ],
         "xaxis": "x",
         "y": [
          10494,
          10055
         ],
         "yaxis": "y"
        },
        {
         "hovertemplate": "State=CT<br>Closing Date=%{x}<br>Fund=%{y}<extra></extra>",
         "legendgroup": "CT",
         "marker": {
          "color": "#FF6692",
          "symbol": "circle"
         },
         "mode": "markers",
         "name": "CT",
         "orientation": "v",
         "showlegend": true,
         "type": "scatter",
         "x": [
          "2013-09-13T00:00:00",
          "2002-06-26T00:00:00"
         ],
         "xaxis": "x",
         "y": [
          10489,
          4656
         ],
         "yaxis": "y"
        },
        {
         "hovertemplate": "State=AZ<br>Closing Date=%{x}<br>Fund=%{y}<extra></extra>",
         "legendgroup": "AZ",
         "marker": {
          "color": "#B6E880",
          "symbol": "circle"
         },
         "mode": "markers",
         "name": "AZ",
         "orientation": "v",
         "showlegend": true,
         "type": "scatter",
         "x": [
          "2013-08-23T00:00:00",
          "2013-05-14T00:00:00",
          "2013-04-05T00:00:00",
          "2011-12-16T00:00:00",
          "2011-07-15T00:00:00",
          "2011-01-07T00:00:00",
          "2010-11-12T00:00:00",
          "2010-10-22T00:00:00",
          "2010-05-07T00:00:00",
          "2010-03-26T00:00:00",
          "2009-12-11T00:00:00",
          "2009-10-30T00:00:00",
          "2009-09-04T00:00:00",
          "2009-08-14T00:00:00",
          "2009-08-14T00:00:00",
          "2002-02-07T00:00:00"
         ],
         "xaxis": "x",
         "y": [
          10487,
          10479,
          10472,
          10416,
          10379,
          10326,
          10311,
          10306,
          10235,
          10205,
          10159,
          10136,
          10114,
          10101,
          10102,
          4653
         ],
         "yaxis": "y"
        },
        {
         "hovertemplate": "State=NV<br>Closing Date=%{x}<br>Fund=%{y}<extra></extra>",
         "legendgroup": "NV",
         "marker": {
          "color": "#FF97FF",
          "symbol": "circle"
         },
         "mode": "markers",
         "name": "NV",
         "orientation": "v",
         "showlegend": true,
         "type": "scatter",
         "x": [
          "2013-06-06T00:00:00",
          "2011-04-08T00:00:00",
          "2010-07-23T00:00:00",
          "2010-06-18T00:00:00",
          "2010-05-28T00:00:00",
          "2010-02-26T00:00:00",
          "2009-08-14T00:00:00",
          "2009-04-17T00:00:00",
          "2009-02-27T00:00:00",
          "2008-09-25T00:00:00",
          "2008-09-05T00:00:00",
          "2008-07-25T00:00:00"
         ],
         "xaxis": "x",
         "y": [
          10482,
          10351,
          10267,
          10250,
          10245,
          10188,
          10100,
          10051,
          10043,
          10015,
          10013,
          10008
         ],
         "yaxis": "y"
        },
        {
         "hovertemplate": "State=NC<br>Closing Date=%{x}<br>Fund=%{y}<extra></extra>",
         "legendgroup": "NC",
         "marker": {
          "color": "#FECB52",
          "symbol": "circle"
         },
         "mode": "markers",
         "name": "NC",
         "orientation": "v",
         "showlegend": true,
         "type": "scatter",
         "x": [
          "2013-05-10T00:00:00",
          "2013-04-26T00:00:00",
          "2012-06-08T00:00:00",
          "2011-10-14T00:00:00",
          "2011-01-21T00:00:00",
          "2009-06-19T00:00:00",
          "2009-04-10T00:00:00"
         ],
         "xaxis": "x",
         "y": [
          10480,
          10477,
          10444,
          10401,
          10330,
          10065,
          10049
         ],
         "yaxis": "y"
        },
        {
         "hovertemplate": "State=MO<br>Closing Date=%{x}<br>Fund=%{y}<extra></extra>",
         "legendgroup": "MO",
         "marker": {
          "color": "#636efa",
          "symbol": "circle"
         },
         "mode": "markers",
         "name": "MO",
         "orientation": "v",
         "showlegend": true,
         "type": "scatter",
         "x": [
          "2012-12-14T00:00:00",
          "2012-10-19T00:00:00",
          "2012-09-14T00:00:00",
          "2012-07-13T00:00:00",
          "2011-10-07T00:00:00",
          "2010-10-15T00:00:00",
          "2010-10-15T00:00:00",
          "2010-05-14T00:00:00",
          "2010-04-30T00:00:00",
          "2010-04-30T00:00:00",
          "2010-01-22T00:00:00",
          "2009-11-06T00:00:00",
          "2009-09-04T00:00:00",
          "2009-04-17T00:00:00",
          "2008-03-07T00:00:00",
          "2008-01-25T00:00:00"
         ],
         "xaxis": "x",
         "y": [
          10467,
          10460,
          10458,
          10449,
          10400,
          10297,
          10299,
          10239,
          10225,
          10227,
          10174,
          10146,
          10112,
          10052,
          10004,
          10003
         ],
         "yaxis": "y"
        },
        {
         "hovertemplate": "State=AL<br>Closing Date=%{x}<br>Fund=%{y}<extra></extra>",
         "legendgroup": "AL",
         "marker": {
          "color": "#EF553B",
          "symbol": "circle"
         },
         "mode": "markers",
         "name": "AL",
         "orientation": "v",
         "showlegend": true,
         "type": "scatter",
         "x": [
          "2012-05-18T00:00:00",
          "2011-04-15T00:00:00",
          "2011-04-15T00:00:00",
          "2010-03-19T00:00:00",
          "2009-12-18T00:00:00",
          "2009-08-21T00:00:00",
          "2009-08-14T00:00:00"
         ],
         "xaxis": "x",
         "y": [
          10440,
          10358,
          10356,
          10204,
          10163,
          10106,
          10103
         ],
         "yaxis": "y"
        },
        {
         "hovertemplate": "State=MI<br>Closing Date=%{x}<br>Fund=%{y}<extra></extra>",
         "legendgroup": "MI",
         "marker": {
          "color": "#00cc96",
          "symbol": "circle"
         },
         "mode": "markers",
         "name": "MI",
         "orientation": "v",
         "showlegend": true,
         "type": "scatter",
         "x": [
          "2012-03-30T00:00:00",
          "2011-04-29T00:00:00",
          "2011-02-11T00:00:00",
          "2010-12-10T00:00:00",
          "2010-07-16T00:00:00",
          "2010-05-14T00:00:00",
          "2010-04-30T00:00:00",
          "2010-04-16T00:00:00",
          "2009-12-18T00:00:00",
          "2009-11-06T00:00:00",
          "2009-10-02T00:00:00",
          "2009-04-24T00:00:00",
          "2008-10-10T00:00:00",
          "2002-03-28T00:00:00"
         ],
         "xaxis": "x",
         "y": [
          10432,
          10359,
          10341,
          10318,
          10258,
          10237,
          10226,
          10215,
          10162,
          10144,
          10125,
          10056,
          10016,
          4655
         ],
         "yaxis": "y"
        },
        {
         "hovertemplate": "State=IN<br>Closing Date=%{x}<br>Fund=%{y}<extra></extra>",
         "legendgroup": "IN",
         "marker": {
          "color": "#ab63fa",
          "symbol": "circle"
         },
         "mode": "markers",
         "name": "IN",
         "orientation": "v",
         "showlegend": true,
         "type": "scatter",
         "x": [
          "2012-02-10T00:00:00",
          "2011-07-29T00:00:00",
          "2009-09-18T00:00:00"
         ],
         "xaxis": "x",
         "y": [
          10425,
          10384,
          10120
         ],
         "yaxis": "y"
        },
        {
         "hovertemplate": "State=IA<br>Closing Date=%{x}<br>Fund=%{y}<extra></extra>",
         "legendgroup": "IA",
         "marker": {
          "color": "#FFA15A",
          "symbol": "circle"
         },
         "mode": "markers",
         "name": "IA",
         "orientation": "v",
         "showlegend": true,
         "type": "scatter",
         "x": [
          "2011-11-18T00:00:00",
          "2009-09-04T00:00:00"
         ],
         "xaxis": "x",
         "y": [
          10414,
          10116
         ],
         "yaxis": "y"
        },
        {
         "hovertemplate": "State=MS<br>Closing Date=%{x}<br>Fund=%{y}<extra></extra>",
         "legendgroup": "MS",
         "marker": {
          "color": "#19d3f3",
          "symbol": "circle"
         },
         "mode": "markers",
         "name": "MS",
         "orientation": "v",
         "showlegend": true,
         "type": "scatter",
         "x": [
          "2011-04-15T00:00:00",
          "2010-06-04T00:00:00"
         ],
         "xaxis": "x",
         "y": [
          10354,
          10247
         ],
         "yaxis": "y"
        },
        {
         "hovertemplate": "State=NM<br>Closing Date=%{x}<br>Fund=%{y}<extra></extra>",
         "legendgroup": "NM",
         "marker": {
          "color": "#FF6692",
          "symbol": "circle"
         },
         "mode": "markers",
         "name": "NM",
         "orientation": "v",
         "showlegend": true,
         "type": "scatter",
         "x": [
          "2011-01-28T00:00:00",
          "2010-06-25T00:00:00",
          "2010-01-22T00:00:00"
         ],
         "xaxis": "x",
         "y": [
          10333,
          10252,
          10175
         ],
         "yaxis": "y"
        },
        {
         "hovertemplate": "State=OR<br>Closing Date=%{x}<br>Fund=%{y}<extra></extra>",
         "legendgroup": "OR",
         "marker": {
          "color": "#B6E880",
          "symbol": "circle"
         },
         "mode": "markers",
         "name": "OR",
         "orientation": "v",
         "showlegend": true,
         "type": "scatter",
         "x": [
          "2010-07-30T00:00:00",
          "2010-07-23T00:00:00",
          "2010-01-22T00:00:00",
          "2009-08-07T00:00:00",
          "2009-02-20T00:00:00",
          "2009-02-13T00:00:00"
         ],
         "xaxis": "x",
         "y": [
          10273,
          10266,
          10176,
          10092,
          10041,
          10040
         ],
         "yaxis": "y"
        },
        {
         "hovertemplate": "State=NY<br>Closing Date=%{x}<br>Fund=%{y}<extra></extra>",
         "legendgroup": "NY",
         "marker": {
          "color": "#FF97FF",
          "symbol": "circle"
         },
         "mode": "markers",
         "name": "NY",
         "orientation": "v",
         "showlegend": true,
         "type": "scatter",
         "x": [
          "2010-07-09T00:00:00",
          "2010-03-12T00:00:00",
          "2010-03-11T00:00:00",
          "2009-07-24T00:00:00",
          "2004-03-19T00:00:00"
         ],
         "xaxis": "x",
         "y": [
          10254,
          10195,
          10194,
          10091,
          4664
         ],
         "yaxis": "y"
        },
        {
         "hovertemplate": "State=MA<br>Closing Date=%{x}<br>Fund=%{y}<extra></extra>",
         "legendgroup": "MA",
         "marker": {
          "color": "#FECB52",
          "symbol": "circle"
         },
         "mode": "markers",
         "name": "MA",
         "orientation": "v",
         "showlegend": true,
         "type": "scatter",
         "x": [
          "2010-04-16T00:00:00"
         ],
         "xaxis": "x",
         "y": [
          10211
         ],
         "yaxis": "y"
        },
        {
         "hovertemplate": "State=SD<br>Closing Date=%{x}<br>Fund=%{y}<extra></extra>",
         "legendgroup": "SD",
         "marker": {
          "color": "#636efa",
          "symbol": "circle"
         },
         "mode": "markers",
         "name": "SD",
         "orientation": "v",
         "showlegend": true,
         "type": "scatter",
         "x": [
          "2009-07-17T00:00:00"
         ],
         "xaxis": "x",
         "y": [
          10081
         ],
         "yaxis": "y"
        },
        {
         "hovertemplate": "State=WY<br>Closing Date=%{x}<br>Fund=%{y}<extra></extra>",
         "legendgroup": "WY",
         "marker": {
          "color": "#EF553B",
          "symbol": "circle"
         },
         "mode": "markers",
         "name": "WY",
         "orientation": "v",
         "showlegend": true,
         "type": "scatter",
         "x": [
          "2009-07-10T00:00:00"
         ],
         "xaxis": "x",
         "y": [
          10080
         ],
         "yaxis": "y"
        },
        {
         "hovertemplate": "State=NH<br>Closing Date=%{x}<br>Fund=%{y}<extra></extra>",
         "legendgroup": "NH",
         "marker": {
          "color": "#00cc96",
          "symbol": "circle"
         },
         "mode": "markers",
         "name": "NH",
         "orientation": "v",
         "showlegend": true,
         "type": "scatter",
         "x": [
          "2001-02-02T00:00:00"
         ],
         "xaxis": "x",
         "y": [
          4647
         ],
         "yaxis": "y"
        },
        {
         "hovertemplate": "State=HI<br>Closing Date=%{x}<br>Fund=%{y}<extra></extra>",
         "legendgroup": "HI",
         "marker": {
          "color": "#ab63fa",
          "symbol": "circle"
         },
         "mode": "markers",
         "name": "HI",
         "orientation": "v",
         "showlegend": true,
         "type": "scatter",
         "x": [
          "2000-10-13T00:00:00"
         ],
         "xaxis": "x",
         "y": [
          4645
         ],
         "yaxis": "y"
        }
       ],
       "layout": {
        "autosize": true,
        "legend": {
         "title": {
          "text": "State"
         },
         "tracegroupgap": 0
        },
        "margin": {
         "t": 60
        },
        "template": {
         "data": {
          "bar": [
           {
            "error_x": {
             "color": "#2a3f5f"
            },
            "error_y": {
             "color": "#2a3f5f"
            },
            "marker": {
             "line": {
              "color": "#E5ECF6",
              "width": 0.5
             },
             "pattern": {
              "fillmode": "overlay",
              "size": 10,
              "solidity": 0.2
             }
            },
            "type": "bar"
           }
          ],
          "barpolar": [
           {
            "marker": {
             "line": {
              "color": "#E5ECF6",
              "width": 0.5
             },
             "pattern": {
              "fillmode": "overlay",
              "size": 10,
              "solidity": 0.2
             }
            },
            "type": "barpolar"
           }
          ],
          "carpet": [
           {
            "aaxis": {
             "endlinecolor": "#2a3f5f",
             "gridcolor": "white",
             "linecolor": "white",
             "minorgridcolor": "white",
             "startlinecolor": "#2a3f5f"
            },
            "baxis": {
             "endlinecolor": "#2a3f5f",
             "gridcolor": "white",
             "linecolor": "white",
             "minorgridcolor": "white",
             "startlinecolor": "#2a3f5f"
            },
            "type": "carpet"
           }
          ],
          "choropleth": [
           {
            "colorbar": {
             "outlinewidth": 0,
             "ticks": ""
            },
            "type": "choropleth"
           }
          ],
          "contour": [
           {
            "colorbar": {
             "outlinewidth": 0,
             "ticks": ""
            },
            "colorscale": [
             [
              0,
              "#0d0887"
             ],
             [
              0.1111111111111111,
              "#46039f"
             ],
             [
              0.2222222222222222,
              "#7201a8"
             ],
             [
              0.3333333333333333,
              "#9c179e"
             ],
             [
              0.4444444444444444,
              "#bd3786"
             ],
             [
              0.5555555555555556,
              "#d8576b"
             ],
             [
              0.6666666666666666,
              "#ed7953"
             ],
             [
              0.7777777777777778,
              "#fb9f3a"
             ],
             [
              0.8888888888888888,
              "#fdca26"
             ],
             [
              1,
              "#f0f921"
             ]
            ],
            "type": "contour"
           }
          ],
          "contourcarpet": [
           {
            "colorbar": {
             "outlinewidth": 0,
             "ticks": ""
            },
            "type": "contourcarpet"
           }
          ],
          "heatmap": [
           {
            "colorbar": {
             "outlinewidth": 0,
             "ticks": ""
            },
            "colorscale": [
             [
              0,
              "#0d0887"
             ],
             [
              0.1111111111111111,
              "#46039f"
             ],
             [
              0.2222222222222222,
              "#7201a8"
             ],
             [
              0.3333333333333333,
              "#9c179e"
             ],
             [
              0.4444444444444444,
              "#bd3786"
             ],
             [
              0.5555555555555556,
              "#d8576b"
             ],
             [
              0.6666666666666666,
              "#ed7953"
             ],
             [
              0.7777777777777778,
              "#fb9f3a"
             ],
             [
              0.8888888888888888,
              "#fdca26"
             ],
             [
              1,
              "#f0f921"
             ]
            ],
            "type": "heatmap"
           }
          ],
          "heatmapgl": [
           {
            "colorbar": {
             "outlinewidth": 0,
             "ticks": ""
            },
            "colorscale": [
             [
              0,
              "#0d0887"
             ],
             [
              0.1111111111111111,
              "#46039f"
             ],
             [
              0.2222222222222222,
              "#7201a8"
             ],
             [
              0.3333333333333333,
              "#9c179e"
             ],
             [
              0.4444444444444444,
              "#bd3786"
             ],
             [
              0.5555555555555556,
              "#d8576b"
             ],
             [
              0.6666666666666666,
              "#ed7953"
             ],
             [
              0.7777777777777778,
              "#fb9f3a"
             ],
             [
              0.8888888888888888,
              "#fdca26"
             ],
             [
              1,
              "#f0f921"
             ]
            ],
            "type": "heatmapgl"
           }
          ],
          "histogram": [
           {
            "marker": {
             "pattern": {
              "fillmode": "overlay",
              "size": 10,
              "solidity": 0.2
             }
            },
            "type": "histogram"
           }
          ],
          "histogram2d": [
           {
            "colorbar": {
             "outlinewidth": 0,
             "ticks": ""
            },
            "colorscale": [
             [
              0,
              "#0d0887"
             ],
             [
              0.1111111111111111,
              "#46039f"
             ],
             [
              0.2222222222222222,
              "#7201a8"
             ],
             [
              0.3333333333333333,
              "#9c179e"
             ],
             [
              0.4444444444444444,
              "#bd3786"
             ],
             [
              0.5555555555555556,
              "#d8576b"
             ],
             [
              0.6666666666666666,
              "#ed7953"
             ],
             [
              0.7777777777777778,
              "#fb9f3a"
             ],
             [
              0.8888888888888888,
              "#fdca26"
             ],
             [
              1,
              "#f0f921"
             ]
            ],
            "type": "histogram2d"
           }
          ],
          "histogram2dcontour": [
           {
            "colorbar": {
             "outlinewidth": 0,
             "ticks": ""
            },
            "colorscale": [
             [
              0,
              "#0d0887"
             ],
             [
              0.1111111111111111,
              "#46039f"
             ],
             [
              0.2222222222222222,
              "#7201a8"
             ],
             [
              0.3333333333333333,
              "#9c179e"
             ],
             [
              0.4444444444444444,
              "#bd3786"
             ],
             [
              0.5555555555555556,
              "#d8576b"
             ],
             [
              0.6666666666666666,
              "#ed7953"
             ],
             [
              0.7777777777777778,
              "#fb9f3a"
             ],
             [
              0.8888888888888888,
              "#fdca26"
             ],
             [
              1,
              "#f0f921"
             ]
            ],
            "type": "histogram2dcontour"
           }
          ],
          "mesh3d": [
           {
            "colorbar": {
             "outlinewidth": 0,
             "ticks": ""
            },
            "type": "mesh3d"
           }
          ],
          "parcoords": [
           {
            "line": {
             "colorbar": {
              "outlinewidth": 0,
              "ticks": ""
             }
            },
            "type": "parcoords"
           }
          ],
          "pie": [
           {
            "automargin": true,
            "type": "pie"
           }
          ],
          "scatter": [
           {
            "marker": {
             "colorbar": {
              "outlinewidth": 0,
              "ticks": ""
             }
            },
            "type": "scatter"
           }
          ],
          "scatter3d": [
           {
            "line": {
             "colorbar": {
              "outlinewidth": 0,
              "ticks": ""
             }
            },
            "marker": {
             "colorbar": {
              "outlinewidth": 0,
              "ticks": ""
             }
            },
            "type": "scatter3d"
           }
          ],
          "scattercarpet": [
           {
            "marker": {
             "colorbar": {
              "outlinewidth": 0,
              "ticks": ""
             }
            },
            "type": "scattercarpet"
           }
          ],
          "scattergeo": [
           {
            "marker": {
             "colorbar": {
              "outlinewidth": 0,
              "ticks": ""
             }
            },
            "type": "scattergeo"
           }
          ],
          "scattergl": [
           {
            "marker": {
             "colorbar": {
              "outlinewidth": 0,
              "ticks": ""
             }
            },
            "type": "scattergl"
           }
          ],
          "scattermapbox": [
           {
            "marker": {
             "colorbar": {
              "outlinewidth": 0,
              "ticks": ""
             }
            },
            "type": "scattermapbox"
           }
          ],
          "scatterpolar": [
           {
            "marker": {
             "colorbar": {
              "outlinewidth": 0,
              "ticks": ""
             }
            },
            "type": "scatterpolar"
           }
          ],
          "scatterpolargl": [
           {
            "marker": {
             "colorbar": {
              "outlinewidth": 0,
              "ticks": ""
             }
            },
            "type": "scatterpolargl"
           }
          ],
          "scatterternary": [
           {
            "marker": {
             "colorbar": {
              "outlinewidth": 0,
              "ticks": ""
             }
            },
            "type": "scatterternary"
           }
          ],
          "surface": [
           {
            "colorbar": {
             "outlinewidth": 0,
             "ticks": ""
            },
            "colorscale": [
             [
              0,
              "#0d0887"
             ],
             [
              0.1111111111111111,
              "#46039f"
             ],
             [
              0.2222222222222222,
              "#7201a8"
             ],
             [
              0.3333333333333333,
              "#9c179e"
             ],
             [
              0.4444444444444444,
              "#bd3786"
             ],
             [
              0.5555555555555556,
              "#d8576b"
             ],
             [
              0.6666666666666666,
              "#ed7953"
             ],
             [
              0.7777777777777778,
              "#fb9f3a"
             ],
             [
              0.8888888888888888,
              "#fdca26"
             ],
             [
              1,
              "#f0f921"
             ]
            ],
            "type": "surface"
           }
          ],
          "table": [
           {
            "cells": {
             "fill": {
              "color": "#EBF0F8"
             },
             "line": {
              "color": "white"
             }
            },
            "header": {
             "fill": {
              "color": "#C8D4E3"
             },
             "line": {
              "color": "white"
             }
            },
            "type": "table"
           }
          ]
         },
         "layout": {
          "annotationdefaults": {
           "arrowcolor": "#2a3f5f",
           "arrowhead": 0,
           "arrowwidth": 1
          },
          "autotypenumbers": "strict",
          "coloraxis": {
           "colorbar": {
            "outlinewidth": 0,
            "ticks": ""
           }
          },
          "colorscale": {
           "diverging": [
            [
             0,
             "#8e0152"
            ],
            [
             0.1,
             "#c51b7d"
            ],
            [
             0.2,
             "#de77ae"
            ],
            [
             0.3,
             "#f1b6da"
            ],
            [
             0.4,
             "#fde0ef"
            ],
            [
             0.5,
             "#f7f7f7"
            ],
            [
             0.6,
             "#e6f5d0"
            ],
            [
             0.7,
             "#b8e186"
            ],
            [
             0.8,
             "#7fbc41"
            ],
            [
             0.9,
             "#4d9221"
            ],
            [
             1,
             "#276419"
            ]
           ],
           "sequential": [
            [
             0,
             "#0d0887"
            ],
            [
             0.1111111111111111,
             "#46039f"
            ],
            [
             0.2222222222222222,
             "#7201a8"
            ],
            [
             0.3333333333333333,
             "#9c179e"
            ],
            [
             0.4444444444444444,
             "#bd3786"
            ],
            [
             0.5555555555555556,
             "#d8576b"
            ],
            [
             0.6666666666666666,
             "#ed7953"
            ],
            [
             0.7777777777777778,
             "#fb9f3a"
            ],
            [
             0.8888888888888888,
             "#fdca26"
            ],
            [
             1,
             "#f0f921"
            ]
           ],
           "sequentialminus": [
            [
             0,
             "#0d0887"
            ],
            [
             0.1111111111111111,
             "#46039f"
            ],
            [
             0.2222222222222222,
             "#7201a8"
            ],
            [
             0.3333333333333333,
             "#9c179e"
            ],
            [
             0.4444444444444444,
             "#bd3786"
            ],
            [
             0.5555555555555556,
             "#d8576b"
            ],
            [
             0.6666666666666666,
             "#ed7953"
            ],
            [
             0.7777777777777778,
             "#fb9f3a"
            ],
            [
             0.8888888888888888,
             "#fdca26"
            ],
            [
             1,
             "#f0f921"
            ]
           ]
          },
          "colorway": [
           "#636efa",
           "#EF553B",
           "#00cc96",
           "#ab63fa",
           "#FFA15A",
           "#19d3f3",
           "#FF6692",
           "#B6E880",
           "#FF97FF",
           "#FECB52"
          ],
          "font": {
           "color": "#2a3f5f"
          },
          "geo": {
           "bgcolor": "white",
           "lakecolor": "white",
           "landcolor": "#E5ECF6",
           "showlakes": true,
           "showland": true,
           "subunitcolor": "white"
          },
          "hoverlabel": {
           "align": "left"
          },
          "hovermode": "closest",
          "mapbox": {
           "style": "light"
          },
          "paper_bgcolor": "white",
          "plot_bgcolor": "#E5ECF6",
          "polar": {
           "angularaxis": {
            "gridcolor": "white",
            "linecolor": "white",
            "ticks": ""
           },
           "bgcolor": "#E5ECF6",
           "radialaxis": {
            "gridcolor": "white",
            "linecolor": "white",
            "ticks": ""
           }
          },
          "scene": {
           "xaxis": {
            "backgroundcolor": "#E5ECF6",
            "gridcolor": "white",
            "gridwidth": 2,
            "linecolor": "white",
            "showbackground": true,
            "ticks": "",
            "zerolinecolor": "white"
           },
           "yaxis": {
            "backgroundcolor": "#E5ECF6",
            "gridcolor": "white",
            "gridwidth": 2,
            "linecolor": "white",
            "showbackground": true,
            "ticks": "",
            "zerolinecolor": "white"
           },
           "zaxis": {
            "backgroundcolor": "#E5ECF6",
            "gridcolor": "white",
            "gridwidth": 2,
            "linecolor": "white",
            "showbackground": true,
            "ticks": "",
            "zerolinecolor": "white"
           }
          },
          "shapedefaults": {
           "line": {
            "color": "#2a3f5f"
           }
          },
          "ternary": {
           "aaxis": {
            "gridcolor": "white",
            "linecolor": "white",
            "ticks": ""
           },
           "baxis": {
            "gridcolor": "white",
            "linecolor": "white",
            "ticks": ""
           },
           "bgcolor": "#E5ECF6",
           "caxis": {
            "gridcolor": "white",
            "linecolor": "white",
            "ticks": ""
           }
          },
          "title": {
           "x": 0.05
          },
          "xaxis": {
           "automargin": true,
           "gridcolor": "white",
           "linecolor": "white",
           "ticks": "",
           "title": {
            "standoff": 15
           },
           "zerolinecolor": "white",
           "zerolinewidth": 2
          },
          "yaxis": {
           "automargin": true,
           "gridcolor": "white",
           "linecolor": "white",
           "ticks": "",
           "title": {
            "standoff": 15
           },
           "zerolinecolor": "white",
           "zerolinewidth": 2
          }
         }
        },
        "xaxis": {
         "anchor": "y",
         "autorange": true,
         "domain": [
          0,
          1
         ],
         "range": [
          "1999-06-23 20:39:46.6295",
          "2022-02-12 03:20:13.3705"
         ],
         "title": {
          "text": "Closing Date"
         },
         "type": "date"
        },
        "yaxis": {
         "anchor": "x",
         "autorange": true,
         "domain": [
          0,
          1
         ],
         "range": [
          4188.717847769029,
          10994.282152230971
         ],
         "title": {
          "text": "Fund"
         },
         "type": "linear"
        }
       }
      },
      "image/png": "[encoded data removed]",
      "text/html": [
       "<div>                            <div id=\"10b92fee-f1d2-445a-830d-5387b99080cb\" class=\"plotly-graph-div\" style=\"height:525px; width:100%;\"></div>            <script type=\"text/javascript\">                require([\"plotly\"], function(Plotly) {                    window.PLOTLYENV=window.PLOTLYENV || {};                                    if (document.getElementById(\"10b92fee-f1d2-445a-830d-5387b99080cb\")) {                    Plotly.newPlot(                        \"10b92fee-f1d2-445a-830d-5387b99080cb\",                        [{\"hovertemplate\":\"State=KS<br>Closing Date=%{x}<br>Fund=%{y}<extra></extra>\",\"legendgroup\":\"KS\",\"marker\":{\"color\":\"#636efa\",\"symbol\":\"circle\"},\"mode\":\"markers\",\"name\":\"KS\",\"orientation\":\"v\",\"showlegend\":true,\"x\":[\"2020-10-23T00:00:00\",\"2017-10-13T00:00:00\",\"2012-07-20T00:00:00\",\"2011-08-12T00:00:00\",\"2010-10-22T00:00:00\",\"2010-10-15T00:00:00\",\"2010-07-23T00:00:00\",\"2009-12-11T00:00:00\",\"2009-06-19T00:00:00\",\"2009-03-20T00:00:00\",\"2008-08-22T00:00:00\"],\"xaxis\":\"x\",\"y\":[10538,10529,10452,10388,10302,10298,10269,10160,10066,10046,10011],\"yaxis\":\"y\",\"type\":\"scatter\"},{\"hovertemplate\":\"State=FL<br>Closing Date=%{x}<br>Fund=%{y}<extra></extra>\",\"legendgroup\":\"FL\",\"marker\":{\"color\":\"#EF553B\",\"symbol\":\"circle\"},\"mode\":\"markers\",\"name\":\"FL\",\"orientation\":\"v\",\"showlegend\":true,\"x\":[\"2020-10-16T00:00:00\",\"2015-01-16T00:00:00\",\"2014-06-20T00:00:00\",\"2013-10-30T00:00:00\",\"2013-08-02T00:00:00\",\"2013-04-19T00:00:00\",\"2013-04-19T00:00:00\",\"2012-11-02T00:00:00\",\"2012-10-19T00:00:00\",\"2012-10-19T00:00:00\",\"2012-07-20T00:00:00\",\"2012-06-15T00:00:00\",\"2012-05-04T00:00:00\",\"2012-01-27T00:00:00\",\"2012-01-20T00:00:00\",\"2011-12-16T00:00:00\",\"2011-10-21T00:00:00\",\"2011-09-09T00:00:00\",\"2011-08-19T00:00:00\",\"2011-07-22T00:00:00\",\"2011-07-22T00:00:00\",\"2011-07-15T00:00:00\",\"2011-06-17T00:00:00\",\"2011-05-06T00:00:00\",\"2011-04-29T00:00:00\",\"2011-04-29T00:00:00\",\"2011-02-11T00:00:00\",\"2011-01-07T00:00:00\",\"2010-12-17T00:00:00\",\"2010-11-19T00:00:00\",\"2010-10-22T00:00:00\",\"2010-10-22T00:00:00\",\"2010-10-01T00:00:00\",\"2010-09-24T00:00:00\",\"2010-09-10T00:00:00\",\"2010-08-20T00:00:00\",\"2010-08-20T00:00:00\",\"2010-07-30T00:00:00\",\"2010-07-30T00:00:00\",\"2010-07-23T00:00:00\",\"2010-07-16T00:00:00\",\"2010-07-16T00:00:00\",\"2010-07-16T00:00:00\",\"2010-06-25T00:00:00\",\"2010-05-28T00:00:00\",\"2010-05-28T00:00:00\",\"2010-05-28T00:00:00\",\"2010-05-07T00:00:00\",\"2010-04-16T00:00:00\",\"2010-04-16T00:00:00\",\"2010-04-16T00:00:00\",\"2010-03-26T00:00:00\",\"2010-03-12T00:00:00\",\"2010-03-05T00:00:00\",\"2010-02-19T00:00:00\",\"2010-01-29T00:00:00\",\"2010-01-22T00:00:00\",\"2009-12-18T00:00:00\",\"2009-12-11T00:00:00\",\"2009-11-20T00:00:00\",\"2009-11-13T00:00:00\",\"2009-11-13T00:00:00\",\"2009-10-23T00:00:00\",\"2009-10-23T00:00:00\",\"2009-10-23T00:00:00\",\"2009-08-07T00:00:00\",\"2009-08-07T00:00:00\",\"2009-07-31T00:00:00\",\"2009-05-21T00:00:00\",\"2009-02-13T00:00:00\",\"2009-01-30T00:00:00\",\"2008-10-31T00:00:00\",\"2008-08-01T00:00:00\",\"2004-03-12T00:00:00\",\"2002-03-01T00:00:00\",\"2002-01-11T00:00:00\"],\"xaxis\":\"x\",\"y\":[10537,10510,10501,10490,10484,10473,10475,10465,10461,10462,10454,10445,10439,10421,10418,10415,10408,10395,10392,10381,10382,10376,10370,10364,10360,10362,10342,10325,10324,10316,10303,10300,10296,10293,10286,10281,10279,10272,10271,10268,10260,10261,10259,10253,10243,10242,10241,10234,10216,10210,10213,10206,10197,10192,10187,10181,10173,10165,10158,10151,10149,10148,10129,10131,10130,10099,10098,10095,10061,10038,10032,10019,10010,4663,4654,4650],\"yaxis\":\"y\",\"type\":\"scatter\"},{\"hovertemplate\":\"State=WV<br>Closing Date=%{x}<br>Fund=%{y}<extra></extra>\",\"legendgroup\":\"WV\",\"marker\":{\"color\":\"#00cc96\",\"symbol\":\"circle\"},\"mode\":\"markers\",\"name\":\"WV\",\"orientation\":\"v\",\"showlegend\":true,\"x\":[\"2020-04-03T00:00:00\",\"2008-09-19T00:00:00\"],\"xaxis\":\"x\",\"y\":[10536,10014],\"yaxis\":\"y\",\"type\":\"scatter\"},{\"hovertemplate\":\"State=NE<br>Closing Date=%{x}<br>Fund=%{y}<extra></extra>\",\"legendgroup\":\"NE\",\"marker\":{\"color\":\"#ab63fa\",\"symbol\":\"circle\"},\"mode\":\"markers\",\"name\":\"NE\",\"orientation\":\"v\",\"showlegend\":true,\"x\":[\"2020-02-14T00:00:00\",\"2011-11-04T00:00:00\",\"2010-06-04T00:00:00\",\"2009-02-13T00:00:00\"],\"xaxis\":\"x\",\"y\":[10535,10410,10248,10039],\"yaxis\":\"y\",\"type\":\"scatter\"},{\"hovertemplate\":\"State=NJ<br>Closing Date=%{x}<br>Fund=%{y}<extra></extra>\",\"legendgroup\":\"NJ\",\"marker\":{\"color\":\"#FFA15A\",\"symbol\":\"circle\"},\"mode\":\"markers\",\"name\":\"NJ\",\"orientation\":\"v\",\"showlegend\":true,\"x\":[\"2019-11-01T00:00:00\",\"2017-01-13T00:00:00\",\"2012-04-20T00:00:00\",\"2011-10-14T00:00:00\",\"2010-09-17T00:00:00\",\"2009-07-31T00:00:00\",\"2009-05-01T00:00:00\",\"2004-02-14T00:00:00\"],\"xaxis\":\"x\",\"y\":[10534,10523,10433,10403,10290,10097,10058,6006],\"yaxis\":\"y\",\"type\":\"scatter\"},{\"hovertemplate\":\"State=OH<br>Closing Date=%{x}<br>Fund=%{y}<extra></extra>\",\"legendgroup\":\"OH\",\"marker\":{\"color\":\"#19d3f3\",\"symbol\":\"circle\"},\"mode\":\"markers\",\"name\":\"OH\",\"orientation\":\"v\",\"showlegend\":true,\"x\":[\"2019-10-25T00:00:00\",\"2014-05-23T00:00:00\",\"2010-09-17T00:00:00\",\"2010-03-19T00:00:00\",\"2009-12-04T00:00:00\",\"2009-07-31T00:00:00\",\"2007-10-04T00:00:00\",\"2002-02-01T00:00:00\",\"2001-05-03T00:00:00\"],\"xaxis\":\"x\",\"y\":[10533,10499,10288,10201,10155,10096,10002,4652,4648],\"yaxis\":\"y\",\"type\":\"scatter\"},{\"hovertemplate\":\"State=KY<br>Closing Date=%{x}<br>Fund=%{y}<extra></extra>\",\"legendgroup\":\"KY\",\"marker\":{\"color\":\"#FF6692\",\"symbol\":\"circle\"},\"mode\":\"markers\",\"name\":\"KY\",\"orientation\":\"v\",\"showlegend\":true,\"x\":[\"2019-10-25T00:00:00\",\"2013-04-19T00:00:00\",\"2009-09-18T00:00:00\"],\"xaxis\":\"x\",\"y\":[10532,10474,10121],\"yaxis\":\"y\",\"type\":\"scatter\"},{\"hovertemplate\":\"State=TX<br>Closing Date=%{x}<br>Fund=%{y}<extra></extra>\",\"legendgroup\":\"TX\",\"marker\":{\"color\":\"#B6E880\",\"symbol\":\"circle\"},\"mode\":\"markers\",\"name\":\"TX\",\"orientation\":\"v\",\"showlegend\":true,\"x\":[\"2019-05-31T00:00:00\",\"2013-12-13T00:00:00\",\"2013-09-13T00:00:00\",\"2011-09-30T00:00:00\",\"2010-02-19T00:00:00\",\"2009-10-30T00:00:00\",\"2009-10-30T00:00:00\",\"2009-10-30T00:00:00\",\"2009-08-21T00:00:00\",\"2009-07-02T00:00:00\",\"2008-12-12T00:00:00\",\"2008-11-07T00:00:00\",\"2002-01-18T00:00:00\"],\"xaxis\":\"x\",\"y\":[10531,10491,10488,10398,10186,10138,10142,10141,10105,10079,10026,10021,4651],\"yaxis\":\"y\",\"type\":\"scatter\"},{\"hovertemplate\":\"State=IL<br>Closing Date=%{x}<br>Fund=%{y}<extra></extra>\",\"legendgroup\":\"IL\",\"marker\":{\"color\":\"#FF97FF\",\"symbol\":\"circle\"},\"mode\":\"markers\",\"name\":\"IL\",\"orientation\":\"v\",\"showlegend\":true,\"x\":[\"2017-12-15T00:00:00\",\"2017-05-26T00:00:00\",\"2017-01-27T00:00:00\",\"2015-05-08T00:00:00\",\"2015-01-23T00:00:00\",\"2014-10-24T00:00:00\",\"2014-07-25T00:00:00\",\"2014-06-20T00:00:00\",\"2014-05-16T00:00:00\",\"2014-01-17T00:00:00\",\"2013-02-15T00:00:00\",\"2012-11-02T00:00:00\",\"2012-09-28T00:00:00\",\"2012-08-03T00:00:00\",\"2012-07-20T00:00:00\",\"2012-06-08T00:00:00\",\"2012-03-23T00:00:00\",\"2012-03-09T00:00:00\",\"2012-02-10T00:00:00\",\"2011-10-28T00:00:00\",\"2011-10-14T00:00:00\",\"2011-08-19T00:00:00\",\"2011-08-05T00:00:00\",\"2011-07-08T00:00:00\",\"2011-04-08T00:00:00\",\"2011-03-25T00:00:00\",\"2011-02-25T00:00:00\",\"2011-02-04T00:00:00\",\"2010-10-22T00:00:00\",\"2010-08-20T00:00:00\",\"2010-08-13T00:00:00\",\"2010-08-06T00:00:00\",\"2010-06-04T00:00:00\",\"2010-05-14T00:00:00\",\"2010-04-23T00:00:00\",\"2010-04-23T00:00:00\",\"2010-04-23T00:00:00\",\"2010-04-23T00:00:00\",\"2010-04-23T00:00:00\",\"2010-04-23T00:00:00\",\"2010-04-23T00:00:00\",\"2010-03-05T00:00:00\",\"2010-02-19T00:00:00\",\"2010-01-15T00:00:00\",\"2009-12-18T00:00:00\",\"2009-12-04T00:00:00\",\"2009-10-30T00:00:00\",\"2009-10-30T00:00:00\",\"2009-10-23T00:00:00\",\"2009-09-11T00:00:00\",\"2009-09-04T00:00:00\",\"2009-09-04T00:00:00\",\"2009-07-31T00:00:00\",\"2009-07-02T00:00:00\",\"2009-07-02T00:00:00\",\"2009-07-02T00:00:00\",\"2009-07-02T00:00:00\",\"2009-07-02T00:00:00\",\"2009-07-02T00:00:00\",\"2009-06-05T00:00:00\",\"2009-05-22T00:00:00\",\"2009-05-22T00:00:00\",\"2009-02-27T00:00:00\",\"2009-02-13T00:00:00\",\"2009-01-16T00:00:00\",\"2008-10-10T00:00:00\",\"2002-06-27T00:00:00\",\"2001-07-27T00:00:00\",\"2000-12-14T00:00:00\"],\"xaxis\":\"x\",\"y\":[10530,10528,10524,10514,10511,10507,10505,10502,10498,10492,10470,10464,10459,10456,10453,10442,10431,10429,10424,10409,10402,10390,10386,10374,10352,10350,10347,10337,10301,10284,10277,10276,10246,10236,10224,10223,10221,10222,10220,10219,10218,10191,10184,10170,10166,10154,10140,10137,10128,10117,10115,10113,10094,10074,10078,10073,10075,10077,10076,10064,10063,10062,10042,10037,10028,10017,6005,6004,4646],\"yaxis\":\"y\",\"type\":\"scatter\"},{\"hovertemplate\":\"State=WI<br>Closing Date=%{x}<br>Fund=%{y}<extra></extra>\",\"legendgroup\":\"WI\",\"marker\":{\"color\":\"#FECB52\",\"symbol\":\"circle\"},\"mode\":\"markers\",\"name\":\"WI\",\"orientation\":\"v\",\"showlegend\":true,\"x\":[\"2017-05-05T00:00:00\",\"2016-03-11T00:00:00\",\"2013-08-09T00:00:00\",\"2013-05-31T00:00:00\",\"2011-03-11T00:00:00\",\"2011-02-11T00:00:00\",\"2011-01-28T00:00:00\",\"2010-11-19T00:00:00\",\"2010-09-17T00:00:00\",\"2009-10-23T00:00:00\",\"2003-05-09T00:00:00\"],\"xaxis\":\"x\",\"y\":[10527,10518,10485,10478,10348,10339,10332,10315,10291,10132,4661],\"yaxis\":\"y\",\"type\":\"scatter\"},{\"hovertemplate\":\"State=LA<br>Closing Date=%{x}<br>Fund=%{y}<extra></extra>\",\"legendgroup\":\"LA\",\"marker\":{\"color\":\"#636efa\",\"symbol\":\"circle\"},\"mode\":\"markers\",\"name\":\"LA\",\"orientation\":\"v\",\"showlegend\":true,\"x\":[\"2017-04-28T00:00:00\",\"2011-11-18T00:00:00\",\"2010-03-12T00:00:00\",\"2002-12-17T00:00:00\"],\"xaxis\":\"x\",\"y\":[10526,10413,10196,4659],\"yaxis\":\"y\",\"type\":\"scatter\"},{\"hovertemplate\":\"State=UT<br>Closing Date=%{x}<br>Fund=%{y}<extra></extra>\",\"legendgroup\":\"UT\",\"marker\":{\"color\":\"#EF553B\",\"symbol\":\"circle\"},\"mode\":\"markers\",\"name\":\"UT\",\"orientation\":\"v\",\"showlegend\":true,\"x\":[\"2017-03-03T00:00:00\",\"2011-11-04T00:00:00\",\"2010-03-19T00:00:00\",\"2010-03-05T00:00:00\",\"2010-01-15T00:00:00\",\"2009-05-01T00:00:00\",\"2009-01-30T00:00:00\",\"2004-06-25T00:00:00\"],\"xaxis\":\"x\",\"y\":[10525,10411,10200,10193,10171,10057,10031,4665],\"yaxis\":\"y\",\"type\":\"scatter\"},{\"hovertemplate\":\"State=AR<br>Closing Date=%{x}<br>Fund=%{y}<extra></extra>\",\"legendgroup\":\"AR\",\"marker\":{\"color\":\"#00cc96\",\"symbol\":\"circle\"},\"mode\":\"markers\",\"name\":\"AR\",\"orientation\":\"v\",\"showlegend\":true,\"x\":[\"2016-09-23T00:00:00\",\"2010-12-17T00:00:00\",\"2008-05-09T00:00:00\",\"2001-09-07T00:00:00\"],\"xaxis\":\"x\",\"y\":[10522,10322,10005,4649],\"yaxis\":\"y\",\"type\":\"scatter\"},{\"hovertemplate\":\"State=GA<br>Closing Date=%{x}<br>Fund=%{y}<extra></extra>\",\"legendgroup\":\"GA\",\"marker\":{\"color\":\"#ab63fa\",\"symbol\":\"circle\"},\"mode\":\"markers\",\"name\":\"GA\",\"orientation\":\"v\",\"showlegend\":true,\"x\":[\"2016-08-19T00:00:00\",\"2015-10-02T00:00:00\",\"2015-02-13T00:00:00\",\"2014-07-18T00:00:00\",\"2013-05-10T00:00:00\",\"2013-04-26T00:00:00\",\"2013-03-08T00:00:00\",\"2012-11-16T00:00:00\",\"2012-07-27T00:00:00\",\"2012-07-20T00:00:00\",\"2012-07-20T00:00:00\",\"2012-07-06T00:00:00\",\"2012-06-15T00:00:00\",\"2012-03-23T00:00:00\",\"2012-03-02T00:00:00\",\"2012-02-24T00:00:00\",\"2012-01-20T00:00:00\",\"2011-11-10T00:00:00\",\"2011-10-21T00:00:00\",\"2011-10-21T00:00:00\",\"2011-10-14T00:00:00\",\"2011-09-02T00:00:00\",\"2011-09-02T00:00:00\",\"2011-08-19T00:00:00\",\"2011-07-15T00:00:00\",\"2011-07-15T00:00:00\",\"2011-06-24T00:00:00\",\"2011-06-17T00:00:00\",\"2011-05-20T00:00:00\",\"2011-05-20T00:00:00\",\"2011-04-29T00:00:00\",\"2011-04-29T00:00:00\",\"2011-04-15T00:00:00\",\"2011-04-15T00:00:00\",\"2011-02-18T00:00:00\",\"2011-02-18T00:00:00\",\"2011-02-04T00:00:00\",\"2011-02-04T00:00:00\",\"2011-01-21T00:00:00\",\"2011-01-14T00:00:00\",\"2010-12-17T00:00:00\",\"2010-12-17T00:00:00\",\"2010-12-17T00:00:00\",\"2010-11-12T00:00:00\",\"2010-11-12T00:00:00\",\"2010-10-22T00:00:00\",\"2010-10-22T00:00:00\",\"2010-09-17T00:00:00\",\"2010-09-17T00:00:00\",\"2010-09-17T00:00:00\",\"2010-07-30T00:00:00\",\"2010-07-23T00:00:00\",\"2010-06-25T00:00:00\",\"2010-05-14T00:00:00\",\"2010-03-26T00:00:00\",\"2010-03-26T00:00:00\",\"2010-03-19T00:00:00\",\"2010-03-19T00:00:00\",\"2010-03-19T00:00:00\",\"2010-01-29T00:00:00\",\"2010-01-29T00:00:00\",\"2009-12-18T00:00:00\",\"2009-12-04T00:00:00\",\"2009-12-04T00:00:00\",\"2009-12-04T00:00:00\",\"2009-11-06T00:00:00\",\"2009-10-23T00:00:00\",\"2009-09-25T00:00:00\",\"2009-08-21T00:00:00\",\"2009-08-21T00:00:00\",\"2009-07-24T00:00:00\",\"2009-07-24T00:00:00\",\"2009-07-24T00:00:00\",\"2009-07-24T00:00:00\",\"2009-07-24T00:00:00\",\"2009-07-24T00:00:00\",\"2009-07-17T00:00:00\",\"2009-06-26T00:00:00\",\"2009-06-26T00:00:00\",\"2009-06-19T00:00:00\",\"2009-05-01T00:00:00\",\"2009-04-24T00:00:00\",\"2009-03-27T00:00:00\",\"2009-03-20T00:00:00\",\"2009-03-06T00:00:00\",\"2009-02-06T00:00:00\",\"2008-12-12T00:00:00\",\"2008-12-05T00:00:00\",\"2008-11-21T00:00:00\",\"2008-10-24T00:00:00\",\"2008-08-29T00:00:00\",\"2007-09-28T00:00:00\",\"2002-09-30T00:00:00\"],\"xaxis\":\"x\",\"y\":[10521,10516,10512,10504,10481,10476,10471,10466,10455,10450,10451,10448,10446,10430,10428,10426,10419,10412,10406,10407,10404,10393,10394,10391,10377,10378,10372,10371,10366,10365,10363,10361,10355,10353,10344,10345,10338,10336,10329,10327,10323,10319,10320,10312,10313,10304,10305,10292,10289,10287,10274,10265,10251,10238,10208,10207,10202,10199,10198,10180,10179,10164,10153,10157,10152,10145,10127,10122,10108,10107,10088,10087,10085,10090,10089,10086,10084,10069,10068,10067,10059,10053,10048,10047,10044,10036,10027,10025,10022,10018,10012,10001,4657],\"yaxis\":\"y\",\"type\":\"scatter\"},{\"hovertemplate\":\"State=PA<br>Closing Date=%{x}<br>Fund=%{y}<extra></extra>\",\"legendgroup\":\"PA\",\"marker\":{\"color\":\"#FFA15A\",\"symbol\":\"circle\"},\"mode\":\"markers\",\"name\":\"PA\",\"orientation\":\"v\",\"showlegend\":true,\"x\":[\"2016-05-06T00:00:00\",\"2014-02-28T00:00:00\",\"2012-10-26T00:00:00\",\"2012-01-20T00:00:00\",\"2011-08-18T00:00:00\",\"2010-12-10T00:00:00\",\"2010-11-19T00:00:00\",\"2009-08-14T00:00:00\",\"2007-02-02T00:00:00\",\"2003-11-14T00:00:00\"],\"xaxis\":\"x\",\"y\":[10520,10496,10463,10417,10389,10317,10314,10104,10000,4662],\"yaxis\":\"y\",\"type\":\"scatter\"},{\"hovertemplate\":\"State=TN<br>Closing Date=%{x}<br>Fund=%{y}<extra></extra>\",\"legendgroup\":\"TN\",\"marker\":{\"color\":\"#19d3f3\",\"symbol\":\"circle\"},\"mode\":\"markers\",\"name\":\"TN\",\"orientation\":\"v\",\"showlegend\":true,\"x\":[\"2016-04-29T00:00:00\",\"2013-08-23T00:00:00\",\"2013-06-07T00:00:00\",\"2012-06-15T00:00:00\",\"2012-01-27T00:00:00\",\"2012-01-27T00:00:00\",\"2002-11-08T00:00:00\"],\"xaxis\":\"x\",\"y\":[10519,10486,10483,10447,10420,10423,4658],\"yaxis\":\"y\",\"type\":\"scatter\"},{\"hovertemplate\":\"State=WA<br>Closing Date=%{x}<br>Fund=%{y}<extra></extra>\",\"legendgroup\":\"WA\",\"marker\":{\"color\":\"#FF6692\",\"symbol\":\"circle\"},\"mode\":\"markers\",\"name\":\"WA\",\"orientation\":\"v\",\"showlegend\":true,\"x\":[\"2015-10-02T00:00:00\",\"2013-01-11T00:00:00\",\"2011-08-05T00:00:00\",\"2011-05-27T00:00:00\",\"2011-05-20T00:00:00\",\"2010-11-05T00:00:00\",\"2010-10-01T00:00:00\",\"2010-09-24T00:00:00\",\"2010-07-30T00:00:00\",\"2010-06-11T00:00:00\",\"2010-04-30T00:00:00\",\"2010-04-16T00:00:00\",\"2010-02-26T00:00:00\",\"2010-01-29T00:00:00\",\"2010-01-22T00:00:00\",\"2010-01-08T00:00:00\",\"2009-09-11T00:00:00\",\"2009-05-08T00:00:00\",\"2009-01-16T00:00:00\"],\"xaxis\":\"x\",\"y\":[10517,10468,10387,10368,10367,10309,10295,10294,10275,10249,10228,10212,10189,10178,10172,10168,10119,10060,10029],\"yaxis\":\"y\",\"type\":\"scatter\"},{\"hovertemplate\":\"State=CO<br>Closing Date=%{x}<br>Fund=%{y}<extra></extra>\",\"legendgroup\":\"CO\",\"marker\":{\"color\":\"#B6E880\",\"symbol\":\"circle\"},\"mode\":\"markers\",\"name\":\"CO\",\"orientation\":\"v\",\"showlegend\":true,\"x\":[\"2015-07-10T00:00:00\",\"2011-10-21T00:00:00\",\"2011-07-22T00:00:00\",\"2011-07-08T00:00:00\",\"2011-07-08T00:00:00\",\"2011-01-28T00:00:00\",\"2011-01-21T00:00:00\",\"2009-10-02T00:00:00\",\"2009-04-10T00:00:00\",\"2009-03-20T00:00:00\"],\"xaxis\":\"x\",\"y\":[10515,10405,10380,10375,10373,10334,10331,10123,10050,10045],\"yaxis\":\"y\",\"type\":\"scatter\"},{\"hovertemplate\":\"State=PR<br>Closing Date=%{x}<br>Fund=%{y}<extra></extra>\",\"legendgroup\":\"PR\",\"marker\":{\"color\":\"#FF97FF\",\"symbol\":\"circle\"},\"mode\":\"markers\",\"name\":\"PR\",\"orientation\":\"v\",\"showlegend\":true,\"x\":[\"2015-02-27T00:00:00\",\"2010-04-30T00:00:00\",\"2010-04-30T00:00:00\",\"2010-04-30T00:00:00\"],\"xaxis\":\"x\",\"y\":[10513,10231,10230,10229],\"yaxis\":\"y\",\"type\":\"scatter\"},{\"hovertemplate\":\"State=MN<br>Closing Date=%{x}<br>Fund=%{y}<extra></extra>\",\"legendgroup\":\"MN\",\"marker\":{\"color\":\"#FECB52\",\"symbol\":\"circle\"},\"mode\":\"markers\",\"name\":\"MN\",\"orientation\":\"v\",\"showlegend\":true,\"x\":[\"2014-12-19T00:00:00\",\"2013-01-18T00:00:00\",\"2012-09-07T00:00:00\",\"2012-04-27T00:00:00\",\"2012-02-24T00:00:00\",\"2012-01-27T00:00:00\",\"2011-10-07T00:00:00\",\"2011-04-15T00:00:00\",\"2010-12-17T00:00:00\",\"2010-07-23T00:00:00\",\"2010-05-21T00:00:00\",\"2010-05-07T00:00:00\",\"2010-03-19T00:00:00\",\"2010-02-05T00:00:00\",\"2010-01-29T00:00:00\",\"2010-01-15T00:00:00\",\"2009-11-06T00:00:00\",\"2009-10-23T00:00:00\",\"2009-10-02T00:00:00\",\"2009-09-11T00:00:00\",\"2009-08-28T00:00:00\",\"2009-06-26T00:00:00\",\"2008-05-30T00:00:00\"],\"xaxis\":\"x\",\"y\":[10509,10469,10457,10436,10427,10422,10399,10357,10321,10264,10240,10233,10203,10183,10182,10169,10143,10133,10124,10118,10111,10070,10006],\"yaxis\":\"y\",\"type\":\"scatter\"},{\"hovertemplate\":\"State=CA<br>Closing Date=%{x}<br>Fund=%{y}<extra></extra>\",\"legendgroup\":\"CA\",\"marker\":{\"color\":\"#636efa\",\"symbol\":\"circle\"},\"mode\":\"markers\",\"name\":\"CA\",\"orientation\":\"v\",\"showlegend\":true,\"x\":[\"2014-11-07T00:00:00\",\"2012-04-27T00:00:00\",\"2011-09-23T00:00:00\",\"2011-02-18T00:00:00\",\"2011-02-18T00:00:00\",\"2011-02-11T00:00:00\",\"2010-11-05T00:00:00\",\"2010-11-05T00:00:00\",\"2010-08-20T00:00:00\",\"2010-08-20T00:00:00\",\"2010-08-20T00:00:00\",\"2010-08-20T00:00:00\",\"2010-05-28T00:00:00\",\"2010-05-07T00:00:00\",\"2010-04-16T00:00:00\",\"2010-04-16T00:00:00\",\"2010-02-19T00:00:00\",\"2010-01-29T00:00:00\",\"2009-12-18T00:00:00\",\"2009-12-18T00:00:00\",\"2009-11-13T00:00:00\",\"2009-11-06T00:00:00\",\"2009-10-30T00:00:00\",\"2009-10-30T00:00:00\",\"2009-10-30T00:00:00\",\"2009-10-16T00:00:00\",\"2009-08-28T00:00:00\",\"2009-07-17T00:00:00\",\"2009-07-17T00:00:00\",\"2009-06-26T00:00:00\",\"2009-06-26T00:00:00\",\"2009-04-24T00:00:00\",\"2009-02-06T00:00:00\",\"2009-02-06T00:00:00\",\"2009-01-23T00:00:00\",\"2008-11-21T00:00:00\",\"2008-11-21T00:00:00\",\"2008-11-07T00:00:00\",\"2008-07-25T00:00:00\",\"2008-07-11T00:00:00\",\"2003-02-07T00:00:00\"],\"xaxis\":\"x\",\"y\":[10508,10437,10397,10346,10343,10340,10307,10310,10285,10282,10278,10283,10244,10232,10217,10214,10185,10177,10167,10161,10150,10147,10139,10134,10135,10126,10110,10082,10083,10072,10071,10054,10034,10035,10030,10024,10023,10020,10009,10007,4660],\"yaxis\":\"y\",\"type\":\"scatter\"},{\"hovertemplate\":\"State=MD<br>Closing Date=%{x}<br>Fund=%{y}<extra></extra>\",\"legendgroup\":\"MD\",\"marker\":{\"color\":\"#EF553B\",\"symbol\":\"circle\"},\"mode\":\"markers\",\"name\":\"MD\",\"orientation\":\"v\",\"showlegend\":true,\"x\":[\"2014-10-17T00:00:00\",\"2014-05-30T00:00:00\",\"2012-04-27T00:00:00\",\"2012-04-27T00:00:00\",\"2010-11-05T00:00:00\",\"2010-07-09T00:00:00\",\"2010-07-09T00:00:00\",\"2010-03-05T00:00:00\",\"2009-08-28T00:00:00\",\"2009-01-30T00:00:00\"],\"xaxis\":\"x\",\"y\":[10506,10500,10435,10434,10308,10257,10255,10190,10109,10033],\"yaxis\":\"y\",\"type\":\"scatter\"},{\"hovertemplate\":\"State=OK<br>Closing Date=%{x}<br>Fund=%{y}<extra></extra>\",\"legendgroup\":\"OK\",\"marker\":{\"color\":\"#00cc96\",\"symbol\":\"circle\"},\"mode\":\"markers\",\"name\":\"OK\",\"orientation\":\"v\",\"showlegend\":true,\"x\":[\"2014-06-27T00:00:00\",\"2014-01-24T00:00:00\",\"2012-06-08T00:00:00\",\"2011-03-11T00:00:00\",\"2011-01-28T00:00:00\",\"2010-07-09T00:00:00\",\"2009-07-31T00:00:00\"],\"xaxis\":\"x\",\"y\":[10503,10493,10443,10349,10335,10256,10093],\"yaxis\":\"y\",\"type\":\"scatter\"},{\"hovertemplate\":\"State=SC<br>Closing Date=%{x}<br>Fund=%{y}<extra></extra>\",\"legendgroup\":\"SC\",\"marker\":{\"color\":\"#ab63fa\",\"symbol\":\"circle\"},\"mode\":\"markers\",\"name\":\"SC\",\"orientation\":\"v\",\"showlegend\":true,\"x\":[\"2014-04-25T00:00:00\",\"2012-06-08T00:00:00\",\"2012-04-27T00:00:00\",\"2011-07-29T00:00:00\",\"2011-06-03T00:00:00\",\"2011-01-21T00:00:00\",\"2010-07-23T00:00:00\",\"2010-07-16T00:00:00\",\"2010-07-16T00:00:00\",\"2010-04-09T00:00:00\"],\"xaxis\":\"x\",\"y\":[10497,10441,10438,10383,10369,10328,10270,10263,10262,10209],\"yaxis\":\"y\",\"type\":\"scatter\"},{\"hovertemplate\":\"State=VA<br>Closing Date=%{x}<br>Fund=%{y}<extra></extra>\",\"legendgroup\":\"VA\",\"marker\":{\"color\":\"#FFA15A\",\"symbol\":\"circle\"},\"mode\":\"markers\",\"name\":\"VA\",\"orientation\":\"v\",\"showlegend\":true,\"x\":[\"2014-02-28T00:00:00\",\"2011-09-23T00:00:00\",\"2011-07-29T00:00:00\",\"2010-08-20T00:00:00\",\"2009-12-04T00:00:00\"],\"xaxis\":\"x\",\"y\":[10495,10396,10385,10280,10156],\"yaxis\":\"y\",\"type\":\"scatter\"},{\"hovertemplate\":\"State=ID<br>Closing Date=%{x}<br>Fund=%{y}<extra></extra>\",\"legendgroup\":\"ID\",\"marker\":{\"color\":\"#19d3f3\",\"symbol\":\"circle\"},\"mode\":\"markers\",\"name\":\"ID\",\"orientation\":\"v\",\"showlegend\":true,\"x\":[\"2014-01-31T00:00:00\",\"2009-04-24T00:00:00\"],\"xaxis\":\"x\",\"y\":[10494,10055],\"yaxis\":\"y\",\"type\":\"scatter\"},{\"hovertemplate\":\"State=CT<br>Closing Date=%{x}<br>Fund=%{y}<extra></extra>\",\"legendgroup\":\"CT\",\"marker\":{\"color\":\"#FF6692\",\"symbol\":\"circle\"},\"mode\":\"markers\",\"name\":\"CT\",\"orientation\":\"v\",\"showlegend\":true,\"x\":[\"2013-09-13T00:00:00\",\"2002-06-26T00:00:00\"],\"xaxis\":\"x\",\"y\":[10489,4656],\"yaxis\":\"y\",\"type\":\"scatter\"},{\"hovertemplate\":\"State=AZ<br>Closing Date=%{x}<br>Fund=%{y}<extra></extra>\",\"legendgroup\":\"AZ\",\"marker\":{\"color\":\"#B6E880\",\"symbol\":\"circle\"},\"mode\":\"markers\",\"name\":\"AZ\",\"orientation\":\"v\",\"showlegend\":true,\"x\":[\"2013-08-23T00:00:00\",\"2013-05-14T00:00:00\",\"2013-04-05T00:00:00\",\"2011-12-16T00:00:00\",\"2011-07-15T00:00:00\",\"2011-01-07T00:00:00\",\"2010-11-12T00:00:00\",\"2010-10-22T00:00:00\",\"2010-05-07T00:00:00\",\"2010-03-26T00:00:00\",\"2009-12-11T00:00:00\",\"2009-10-30T00:00:00\",\"2009-09-04T00:00:00\",\"2009-08-14T00:00:00\",\"2009-08-14T00:00:00\",\"2002-02-07T00:00:00\"],\"xaxis\":\"x\",\"y\":[10487,10479,10472,10416,10379,10326,10311,10306,10235,10205,10159,10136,10114,10101,10102,4653],\"yaxis\":\"y\",\"type\":\"scatter\"},{\"hovertemplate\":\"State=NV<br>Closing Date=%{x}<br>Fund=%{y}<extra></extra>\",\"legendgroup\":\"NV\",\"marker\":{\"color\":\"#FF97FF\",\"symbol\":\"circle\"},\"mode\":\"markers\",\"name\":\"NV\",\"orientation\":\"v\",\"showlegend\":true,\"x\":[\"2013-06-06T00:00:00\",\"2011-04-08T00:00:00\",\"2010-07-23T00:00:00\",\"2010-06-18T00:00:00\",\"2010-05-28T00:00:00\",\"2010-02-26T00:00:00\",\"2009-08-14T00:00:00\",\"2009-04-17T00:00:00\",\"2009-02-27T00:00:00\",\"2008-09-25T00:00:00\",\"2008-09-05T00:00:00\",\"2008-07-25T00:00:00\"],\"xaxis\":\"x\",\"y\":[10482,10351,10267,10250,10245,10188,10100,10051,10043,10015,10013,10008],\"yaxis\":\"y\",\"type\":\"scatter\"},{\"hovertemplate\":\"State=NC<br>Closing Date=%{x}<br>Fund=%{y}<extra></extra>\",\"legendgroup\":\"NC\",\"marker\":{\"color\":\"#FECB52\",\"symbol\":\"circle\"},\"mode\":\"markers\",\"name\":\"NC\",\"orientation\":\"v\",\"showlegend\":true,\"x\":[\"2013-05-10T00:00:00\",\"2013-04-26T00:00:00\",\"2012-06-08T00:00:00\",\"2011-10-14T00:00:00\",\"2011-01-21T00:00:00\",\"2009-06-19T00:00:00\",\"2009-04-10T00:00:00\"],\"xaxis\":\"x\",\"y\":[10480,10477,10444,10401,10330,10065,10049],\"yaxis\":\"y\",\"type\":\"scatter\"},{\"hovertemplate\":\"State=MO<br>Closing Date=%{x}<br>Fund=%{y}<extra></extra>\",\"legendgroup\":\"MO\",\"marker\":{\"color\":\"#636efa\",\"symbol\":\"circle\"},\"mode\":\"markers\",\"name\":\"MO\",\"orientation\":\"v\",\"showlegend\":true,\"x\":[\"2012-12-14T00:00:00\",\"2012-10-19T00:00:00\",\"2012-09-14T00:00:00\",\"2012-07-13T00:00:00\",\"2011-10-07T00:00:00\",\"2010-10-15T00:00:00\",\"2010-10-15T00:00:00\",\"2010-05-14T00:00:00\",\"2010-04-30T00:00:00\",\"2010-04-30T00:00:00\",\"2010-01-22T00:00:00\",\"2009-11-06T00:00:00\",\"2009-09-04T00:00:00\",\"2009-04-17T00:00:00\",\"2008-03-07T00:00:00\",\"2008-01-25T00:00:00\"],\"xaxis\":\"x\",\"y\":[10467,10460,10458,10449,10400,10297,10299,10239,10225,10227,10174,10146,10112,10052,10004,10003],\"yaxis\":\"y\",\"type\":\"scatter\"},{\"hovertemplate\":\"State=AL<br>Closing Date=%{x}<br>Fund=%{y}<extra></extra>\",\"legendgroup\":\"AL\",\"marker\":{\"color\":\"#EF553B\",\"symbol\":\"circle\"},\"mode\":\"markers\",\"name\":\"AL\",\"orientation\":\"v\",\"showlegend\":true,\"x\":[\"2012-05-18T00:00:00\",\"2011-04-15T00:00:00\",\"2011-04-15T00:00:00\",\"2010-03-19T00:00:00\",\"2009-12-18T00:00:00\",\"2009-08-21T00:00:00\",\"2009-08-14T00:00:00\"],\"xaxis\":\"x\",\"y\":[10440,10358,10356,10204,10163,10106,10103],\"yaxis\":\"y\",\"type\":\"scatter\"},{\"hovertemplate\":\"State=MI<br>Closing Date=%{x}<br>Fund=%{y}<extra></extra>\",\"legendgroup\":\"MI\",\"marker\":{\"color\":\"#00cc96\",\"symbol\":\"circle\"},\"mode\":\"markers\",\"name\":\"MI\",\"orientation\":\"v\",\"showlegend\":true,\"x\":[\"2012-03-30T00:00:00\",\"2011-04-29T00:00:00\",\"2011-02-11T00:00:00\",\"2010-12-10T00:00:00\",\"2010-07-16T00:00:00\",\"2010-05-14T00:00:00\",\"2010-04-30T00:00:00\",\"2010-04-16T00:00:00\",\"2009-12-18T00:00:00\",\"2009-11-06T00:00:00\",\"2009-10-02T00:00:00\",\"2009-04-24T00:00:00\",\"2008-10-10T00:00:00\",\"2002-03-28T00:00:00\"],\"xaxis\":\"x\",\"y\":[10432,10359,10341,10318,10258,10237,10226,10215,10162,10144,10125,10056,10016,4655],\"yaxis\":\"y\",\"type\":\"scatter\"},{\"hovertemplate\":\"State=IN<br>Closing Date=%{x}<br>Fund=%{y}<extra></extra>\",\"legendgroup\":\"IN\",\"marker\":{\"color\":\"#ab63fa\",\"symbol\":\"circle\"},\"mode\":\"markers\",\"name\":\"IN\",\"orientation\":\"v\",\"showlegend\":true,\"x\":[\"2012-02-10T00:00:00\",\"2011-07-29T00:00:00\",\"2009-09-18T00:00:00\"],\"xaxis\":\"x\",\"y\":[10425,10384,10120],\"yaxis\":\"y\",\"type\":\"scatter\"},{\"hovertemplate\":\"State=IA<br>Closing Date=%{x}<br>Fund=%{y}<extra></extra>\",\"legendgroup\":\"IA\",\"marker\":{\"color\":\"#FFA15A\",\"symbol\":\"circle\"},\"mode\":\"markers\",\"name\":\"IA\",\"orientation\":\"v\",\"showlegend\":true,\"x\":[\"2011-11-18T00:00:00\",\"2009-09-04T00:00:00\"],\"xaxis\":\"x\",\"y\":[10414,10116],\"yaxis\":\"y\",\"type\":\"scatter\"},{\"hovertemplate\":\"State=MS<br>Closing Date=%{x}<br>Fund=%{y}<extra></extra>\",\"legendgroup\":\"MS\",\"marker\":{\"color\":\"#19d3f3\",\"symbol\":\"circle\"},\"mode\":\"markers\",\"name\":\"MS\",\"orientation\":\"v\",\"showlegend\":true,\"x\":[\"2011-04-15T00:00:00\",\"2010-06-04T00:00:00\"],\"xaxis\":\"x\",\"y\":[10354,10247],\"yaxis\":\"y\",\"type\":\"scatter\"},{\"hovertemplate\":\"State=NM<br>Closing Date=%{x}<br>Fund=%{y}<extra></extra>\",\"legendgroup\":\"NM\",\"marker\":{\"color\":\"#FF6692\",\"symbol\":\"circle\"},\"mode\":\"markers\",\"name\":\"NM\",\"orientation\":\"v\",\"showlegend\":true,\"x\":[\"2011-01-28T00:00:00\",\"2010-06-25T00:00:00\",\"2010-01-22T00:00:00\"],\"xaxis\":\"x\",\"y\":[10333,10252,10175],\"yaxis\":\"y\",\"type\":\"scatter\"},{\"hovertemplate\":\"State=OR<br>Closing Date=%{x}<br>Fund=%{y}<extra></extra>\",\"legendgroup\":\"OR\",\"marker\":{\"color\":\"#B6E880\",\"symbol\":\"circle\"},\"mode\":\"markers\",\"name\":\"OR\",\"orientation\":\"v\",\"showlegend\":true,\"x\":[\"2010-07-30T00:00:00\",\"2010-07-23T00:00:00\",\"2010-01-22T00:00:00\",\"2009-08-07T00:00:00\",\"2009-02-20T00:00:00\",\"2009-02-13T00:00:00\"],\"xaxis\":\"x\",\"y\":[10273,10266,10176,10092,10041,10040],\"yaxis\":\"y\",\"type\":\"scatter\"},{\"hovertemplate\":\"State=NY<br>Closing Date=%{x}<br>Fund=%{y}<extra></extra>\",\"legendgroup\":\"NY\",\"marker\":{\"color\":\"#FF97FF\",\"symbol\":\"circle\"},\"mode\":\"markers\",\"name\":\"NY\",\"orientation\":\"v\",\"showlegend\":true,\"x\":[\"2010-07-09T00:00:00\",\"2010-03-12T00:00:00\",\"2010-03-11T00:00:00\",\"2009-07-24T00:00:00\",\"2004-03-19T00:00:00\"],\"xaxis\":\"x\",\"y\":[10254,10195,10194,10091,4664],\"yaxis\":\"y\",\"type\":\"scatter\"},{\"hovertemplate\":\"State=MA<br>Closing Date=%{x}<br>Fund=%{y}<extra></extra>\",\"legendgroup\":\"MA\",\"marker\":{\"color\":\"#FECB52\",\"symbol\":\"circle\"},\"mode\":\"markers\",\"name\":\"MA\",\"orientation\":\"v\",\"showlegend\":true,\"x\":[\"2010-04-16T00:00:00\"],\"xaxis\":\"x\",\"y\":[10211],\"yaxis\":\"y\",\"type\":\"scatter\"},{\"hovertemplate\":\"State=SD<br>Closing Date=%{x}<br>Fund=%{y}<extra></extra>\",\"legendgroup\":\"SD\",\"marker\":{\"color\":\"#636efa\",\"symbol\":\"circle\"},\"mode\":\"markers\",\"name\":\"SD\",\"orientation\":\"v\",\"showlegend\":true,\"x\":[\"2009-07-17T00:00:00\"],\"xaxis\":\"x\",\"y\":[10081],\"yaxis\":\"y\",\"type\":\"scatter\"},{\"hovertemplate\":\"State=WY<br>Closing Date=%{x}<br>Fund=%{y}<extra></extra>\",\"legendgroup\":\"WY\",\"marker\":{\"color\":\"#EF553B\",\"symbol\":\"circle\"},\"mode\":\"markers\",\"name\":\"WY\",\"orientation\":\"v\",\"showlegend\":true,\"x\":[\"2009-07-10T00:00:00\"],\"xaxis\":\"x\",\"y\":[10080],\"yaxis\":\"y\",\"type\":\"scatter\"},{\"hovertemplate\":\"State=NH<br>Closing Date=%{x}<br>Fund=%{y}<extra></extra>\",\"legendgroup\":\"NH\",\"marker\":{\"color\":\"#00cc96\",\"symbol\":\"circle\"},\"mode\":\"markers\",\"name\":\"NH\",\"orientation\":\"v\",\"showlegend\":true,\"x\":[\"2001-02-02T00:00:00\"],\"xaxis\":\"x\",\"y\":[4647],\"yaxis\":\"y\",\"type\":\"scatter\"},{\"hovertemplate\":\"State=HI<br>Closing Date=%{x}<br>Fund=%{y}<extra></extra>\",\"legendgroup\":\"HI\",\"marker\":{\"color\":\"#ab63fa\",\"symbol\":\"circle\"},\"mode\":\"markers\",\"name\":\"HI\",\"orientation\":\"v\",\"showlegend\":true,\"x\":[\"2000-10-13T00:00:00\"],\"xaxis\":\"x\",\"y\":[4645],\"yaxis\":\"y\",\"type\":\"scatter\"}],                        {\"template\":{\"data\":{\"bar\":[{\"error_x\":{\"color\":\"#2a3f5f\"},\"error_y\":{\"color\":\"#2a3f5f\"},\"marker\":{\"line\":{\"color\":\"#E5ECF6\",\"width\":0.5},\"pattern\":{\"fillmode\":\"overlay\",\"size\":10,\"solidity\":0.2}},\"type\":\"bar\"}],\"barpolar\":[{\"marker\":{\"line\":{\"color\":\"#E5ECF6\",\"width\":0.5},\"pattern\":{\"fillmode\":\"overlay\",\"size\":10,\"solidity\":0.2}},\"type\":\"barpolar\"}],\"carpet\":[{\"aaxis\":{\"endlinecolor\":\"#2a3f5f\",\"gridcolor\":\"white\",\"linecolor\":\"white\",\"minorgridcolor\":\"white\",\"startlinecolor\":\"#2a3f5f\"},\"baxis\":{\"endlinecolor\":\"#2a3f5f\",\"gridcolor\":\"white\",\"linecolor\":\"white\",\"minorgridcolor\":\"white\",\"startlinecolor\":\"#2a3f5f\"},\"type\":\"carpet\"}],\"choropleth\":[{\"colorbar\":{\"outlinewidth\":0,\"ticks\":\"\"},\"type\":\"choropleth\"}],\"contour\":[{\"colorbar\":{\"outlinewidth\":0,\"ticks\":\"\"},\"colorscale\":[[0.0,\"#0d0887\"],[0.1111111111111111,\"#46039f\"],[0.2222222222222222,\"#7201a8\"],[0.3333333333333333,\"#9c179e\"],[0.4444444444444444,\"#bd3786\"],[0.5555555555555556,\"#d8576b\"],[0.6666666666666666,\"#ed7953\"],[0.7777777777777778,\"#fb9f3a\"],[0.8888888888888888,\"#fdca26\"],[1.0,\"#f0f921\"]],\"type\":\"contour\"}],\"contourcarpet\":[{\"colorbar\":{\"outlinewidth\":0,\"ticks\":\"\"},\"type\":\"contourcarpet\"}],\"heatmap\":[{\"colorbar\":{\"outlinewidth\":0,\"ticks\":\"\"},\"colorscale\":[[0.0,\"#0d0887\"],[0.1111111111111111,\"#46039f\"],[0.2222222222222222,\"#7201a8\"],[0.3333333333333333,\"#9c179e\"],[0.4444444444444444,\"#bd3786\"],[0.5555555555555556,\"#d8576b\"],[0.6666666666666666,\"#ed7953\"],[0.7777777777777778,\"#fb9f3a\"],[0.8888888888888888,\"#fdca26\"],[1.0,\"#f0f921\"]],\"type\":\"heatmap\"}],\"heatmapgl\":[{\"colorbar\":{\"outlinewidth\":0,\"ticks\":\"\"},\"colorscale\":[[0.0,\"#0d0887\"],[0.1111111111111111,\"#46039f\"],[0.2222222222222222,\"#7201a8\"],[0.3333333333333333,\"#9c179e\"],[0.4444444444444444,\"#bd3786\"],[0.5555555555555556,\"#d8576b\"],[0.6666666666666666,\"#ed7953\"],[0.7777777777777778,\"#fb9f3a\"],[0.8888888888888888,\"#fdca26\"],[1.0,\"#f0f921\"]],\"type\":\"heatmapgl\"}],\"histogram\":[{\"marker\":{\"pattern\":{\"fillmode\":\"overlay\",\"size\":10,\"solidity\":0.2}},\"type\":\"histogram\"}],\"histogram2d\":[{\"colorbar\":{\"outlinewidth\":0,\"ticks\":\"\"},\"colorscale\":[[0.0,\"#0d0887\"],[0.1111111111111111,\"#46039f\"],[0.2222222222222222,\"#7201a8\"],[0.3333333333333333,\"#9c179e\"],[0.4444444444444444,\"#bd3786\"],[0.5555555555555556,\"#d8576b\"],[0.6666666666666666,\"#ed7953\"],[0.7777777777777778,\"#fb9f3a\"],[0.8888888888888888,\"#fdca26\"],[1.0,\"#f0f921\"]],\"type\":\"histogram2d\"}],\"histogram2dcontour\":[{\"colorbar\":{\"outlinewidth\":0,\"ticks\":\"\"},\"colorscale\":[[0.0,\"#0d0887\"],[0.1111111111111111,\"#46039f\"],[0.2222222222222222,\"#7201a8\"],[0.3333333333333333,\"#9c179e\"],[0.4444444444444444,\"#bd3786\"],[0.5555555555555556,\"#d8576b\"],[0.6666666666666666,\"#ed7953\"],[0.7777777777777778,\"#fb9f3a\"],[0.8888888888888888,\"#fdca26\"],[1.0,\"#f0f921\"]],\"type\":\"histogram2dcontour\"}],\"mesh3d\":[{\"colorbar\":{\"outlinewidth\":0,\"ticks\":\"\"},\"type\":\"mesh3d\"}],\"parcoords\":[{\"line\":{\"colorbar\":{\"outlinewidth\":0,\"ticks\":\"\"}},\"type\":\"parcoords\"}],\"pie\":[{\"automargin\":true,\"type\":\"pie\"}],\"scatter\":[{\"marker\":{\"colorbar\":{\"outlinewidth\":0,\"ticks\":\"\"}},\"type\":\"scatter\"}],\"scatter3d\":[{\"line\":{\"colorbar\":{\"outlinewidth\":0,\"ticks\":\"\"}},\"marker\":{\"colorbar\":{\"outlinewidth\":0,\"ticks\":\"\"}},\"type\":\"scatter3d\"}],\"scattercarpet\":[{\"marker\":{\"colorbar\":{\"outlinewidth\":0,\"ticks\":\"\"}},\"type\":\"scattercarpet\"}],\"scattergeo\":[{\"marker\":{\"colorbar\":{\"outlinewidth\":0,\"ticks\":\"\"}},\"type\":\"scattergeo\"}],\"scattergl\":[{\"marker\":{\"colorbar\":{\"outlinewidth\":0,\"ticks\":\"\"}},\"type\":\"scattergl\"}],\"scattermapbox\":[{\"marker\":{\"colorbar\":{\"outlinewidth\":0,\"ticks\":\"\"}},\"type\":\"scattermapbox\"}],\"scatterpolar\":[{\"marker\":{\"colorbar\":{\"outlinewidth\":0,\"ticks\":\"\"}},\"type\":\"scatterpolar\"}],\"scatterpolargl\":[{\"marker\":{\"colorbar\":{\"outlinewidth\":0,\"ticks\":\"\"}},\"type\":\"scatterpolargl\"}],\"scatterternary\":[{\"marker\":{\"colorbar\":{\"outlinewidth\":0,\"ticks\":\"\"}},\"type\":\"scatterternary\"}],\"surface\":[{\"colorbar\":{\"outlinewidth\":0,\"ticks\":\"\"},\"colorscale\":[[0.0,\"#0d0887\"],[0.1111111111111111,\"#46039f\"],[0.2222222222222222,\"#7201a8\"],[0.3333333333333333,\"#9c179e\"],[0.4444444444444444,\"#bd3786\"],[0.5555555555555556,\"#d8576b\"],[0.6666666666666666,\"#ed7953\"],[0.7777777777777778,\"#fb9f3a\"],[0.8888888888888888,\"#fdca26\"],[1.0,\"#f0f921\"]],\"type\":\"surface\"}],\"table\":[{\"cells\":{\"fill\":{\"color\":\"#EBF0F8\"},\"line\":{\"color\":\"white\"}},\"header\":{\"fill\":{\"color\":\"#C8D4E3\"},\"line\":{\"color\":\"white\"}},\"type\":\"table\"}]},\"layout\":{\"annotationdefaults\":{\"arrowcolor\":\"#2a3f5f\",\"arrowhead\":0,\"arrowwidth\":1},\"autotypenumbers\":\"strict\",\"coloraxis\":{\"colorbar\":{\"outlinewidth\":0,\"ticks\":\"\"}},\"colorscale\":{\"diverging\":[[0,\"#8e0152\"],[0.1,\"#c51b7d\"],[0.2,\"#de77ae\"],[0.3,\"#f1b6da\"],[0.4,\"#fde0ef\"],[0.5,\"#f7f7f7\"],[0.6,\"#e6f5d0\"],[0.7,\"#b8e186\"],[0.8,\"#7fbc41\"],[0.9,\"#4d9221\"],[1,\"#276419\"]],\"sequential\":[[0.0,\"#0d0887\"],[0.1111111111111111,\"#46039f\"],[0.2222222222222222,\"#7201a8\"],[0.3333333333333333,\"#9c179e\"],[0.4444444444444444,\"#bd3786\"],[0.5555555555555556,\"#d8576b\"],[0.6666666666666666,\"#ed7953\"],[0.7777777777777778,\"#fb9f3a\"],[0.8888888888888888,\"#fdca26\"],[1.0,\"#f0f921\"]],\"sequentialminus\":[[0.0,\"#0d0887\"],[0.1111111111111111,\"#46039f\"],[0.2222222222222222,\"#7201a8\"],[0.3333333333333333,\"#9c179e\"],[0.4444444444444444,\"#bd3786\"],[0.5555555555555556,\"#d8576b\"],[0.6666666666666666,\"#ed7953\"],[0.7777777777777778,\"#fb9f3a\"],[0.8888888888888888,\"#fdca26\"],[1.0,\"#f0f921\"]]},\"colorway\":[\"#636efa\",\"#EF553B\",\"#00cc96\",\"#ab63fa\",\"#FFA15A\",\"#19d3f3\",\"#FF6692\",\"#B6E880\",\"#FF97FF\",\"#FECB52\"],\"font\":{\"color\":\"#2a3f5f\"},\"geo\":{\"bgcolor\":\"white\",\"lakecolor\":\"white\",\"landcolor\":\"#E5ECF6\",\"showlakes\":true,\"showland\":true,\"subunitcolor\":\"white\"},\"hoverlabel\":{\"align\":\"left\"},\"hovermode\":\"closest\",\"mapbox\":{\"style\":\"light\"},\"paper_bgcolor\":\"white\",\"plot_bgcolor\":\"#E5ECF6\",\"polar\":{\"angularaxis\":{\"gridcolor\":\"white\",\"linecolor\":\"white\",\"ticks\":\"\"},\"bgcolor\":\"#E5ECF6\",\"radialaxis\":{\"gridcolor\":\"white\",\"linecolor\":\"white\",\"ticks\":\"\"}},\"scene\":{\"xaxis\":{\"backgroundcolor\":\"#E5ECF6\",\"gridcolor\":\"white\",\"gridwidth\":2,\"linecolor\":\"white\",\"showbackground\":true,\"ticks\":\"\",\"zerolinecolor\":\"white\"},\"yaxis\":{\"backgroundcolor\":\"#E5ECF6\",\"gridcolor\":\"white\",\"gridwidth\":2,\"linecolor\":\"white\",\"showbackground\":true,\"ticks\":\"\",\"zerolinecolor\":\"white\"},\"zaxis\":{\"backgroundcolor\":\"#E5ECF6\",\"gridcolor\":\"white\",\"gridwidth\":2,\"linecolor\":\"white\",\"showbackground\":true,\"ticks\":\"\",\"zerolinecolor\":\"white\"}},\"shapedefaults\":{\"line\":{\"color\":\"#2a3f5f\"}},\"ternary\":{\"aaxis\":{\"gridcolor\":\"white\",\"linecolor\":\"white\",\"ticks\":\"\"},\"baxis\":{\"gridcolor\":\"white\",\"linecolor\":\"white\",\"ticks\":\"\"},\"bgcolor\":\"#E5ECF6\",\"caxis\":{\"gridcolor\":\"white\",\"linecolor\":\"white\",\"ticks\":\"\"}},\"title\":{\"x\":0.05},\"xaxis\":{\"automargin\":true,\"gridcolor\":\"white\",\"linecolor\":\"white\",\"ticks\":\"\",\"title\":{\"standoff\":15},\"zerolinecolor\":\"white\",\"zerolinewidth\":2},\"yaxis\":{\"automargin\":true,\"gridcolor\":\"white\",\"linecolor\":\"white\",\"ticks\":\"\",\"title\":{\"standoff\":15},\"zerolinecolor\":\"white\",\"zerolinewidth\":2}}},\"xaxis\":{\"anchor\":\"y\",\"domain\":[0.0,1.0],\"title\":{\"text\":\"Closing Date\"}},\"yaxis\":{\"anchor\":\"x\",\"domain\":[0.0,1.0],\"title\":{\"text\":\"Fund\"}},\"legend\":{\"title\":{\"text\":\"State\"},\"tracegroupgap\":0},\"margin\":{\"t\":60}},                        {\"responsive\": true}                    ).then(function(){\n",
       "                            \n",
       "var gd = document.getElementById('10b92fee-f1d2-445a-830d-5387b99080cb');\n",
       "var x = new MutationObserver(function (mutations, observer) {{\n",
       "        var display = window.getComputedStyle(gd).display;\n",
       "        if (!display || display === 'none') {{\n",
       "            console.log([gd, 'removed!']);\n",
       "            Plotly.purge(gd);\n",
       "            observer.disconnect();\n",
       "        }}\n",
       "}});\n",
       "\n",
       "// Listen for the removal of the full notebook cells\n",
       "var notebookContainer = gd.closest('#notebook-container');\n",
       "if (notebookContainer) {{\n",
       "    x.observe(notebookContainer, {childList: true});\n",
       "}}\n",
       "\n",
       "// Listen for the clearing of the current output cell\n",
       "var outputEl = gd.closest('.output');\n",
       "if (outputEl) {{\n",
       "    x.observe(outputEl, {childList: true});\n",
       "}}\n",
       "\n",
       "                        })                };                });            </script>        </div>"
      ]
     },
     "metadata": {},
     "output_type": "display_data"
    }
   ],
   "source": [
    "px.scatter(data_frame = df, x= 'Closing Date' , y='Fund', color='State')"
   ]
  },
  {
   "cell_type": "code",
   "execution_count": 83,
   "id": "5c6fa9f2-e09f-4116-a0e6-d41b3e38f0eb",
   "metadata": {},
   "outputs": [],
   "source": [
    "df['Year-Month'] = df['Closing Date'].dt.year + df['Closing Date'].dt.month"
   ]
  },
  {
   "cell_type": "code",
   "execution_count": 84,
   "id": "e56348ed-8ce8-4a04-8116-d37fe7d85dc1",
   "metadata": {},
   "outputs": [
    {
     "data": {
      "text/plain": [
       "0      2030\n",
       "1      2030\n",
       "2      2024\n",
       "3      2022\n",
       "4      2030\n",
       "       ... \n",
       "558    2008\n",
       "559    2006\n",
       "560    2003\n",
       "561    2012\n",
       "562    2010\n",
       "Name: Year-Month, Length: 563, dtype: int64"
      ]
     },
     "execution_count": 84,
     "metadata": {},
     "output_type": "execute_result"
    }
   ],
   "source": [
    "df['Year-Month']"
   ]
  },
  {
   "cell_type": "code",
   "execution_count": 86,
   "id": "5c06ee10-0ae7-4f8b-9d03-296a595f387a",
   "metadata": {},
   "outputs": [
    {
     "name": "stdout",
     "output_type": "stream",
     "text": [
      "<class 'pandas.core.frame.DataFrame'>\n",
      "RangeIndex: 563 entries, 0 to 562\n",
      "Data columns (total 8 columns):\n",
      " #   Column                 Non-Null Count  Dtype         \n",
      "---  ------                 --------------  -----         \n",
      " 0   Bank Name              563 non-null    object        \n",
      " 1   City                   563 non-null    object        \n",
      " 2   State                  563 non-null    object        \n",
      " 3   Cert                   563 non-null    object        \n",
      " 4   Acquiring Institution  563 non-null    object        \n",
      " 5   Closing Date           563 non-null    datetime64[ns]\n",
      " 6   Fund                   563 non-null    int64         \n",
      " 7   Year-Month             563 non-null    int64         \n",
      "dtypes: datetime64[ns](1), int64(2), object(5)\n",
      "memory usage: 35.3+ KB\n"
     ]
    }
   ],
   "source": [
    "df.info()"
   ]
  },
  {
   "cell_type": "code",
   "execution_count": 88,
   "id": "9135b7a5-b4cf-465e-a9c9-bc18b71dd526",
   "metadata": {},
   "outputs": [],
   "source": [
    "df['Year-Month'] = df['Closing Date'].dt.year.astype(str) + df['Closing Date'].dt.month.astype(str)"
   ]
  },
  {
   "cell_type": "code",
   "execution_count": 89,
   "id": "fb298ed2-3e65-4bea-8f27-52ca6a9752dd",
   "metadata": {},
   "outputs": [
    {
     "data": {
      "text/plain": [
       "0      202010\n",
       "1      202010\n",
       "2       20204\n",
       "3       20202\n",
       "4      201911\n",
       "        ...  \n",
       "558     20017\n",
       "559     20015\n",
       "560     20012\n",
       "561    200012\n",
       "562    200010\n",
       "Name: Year-Month, Length: 563, dtype: object"
      ]
     },
     "execution_count": 89,
     "metadata": {},
     "output_type": "execute_result"
    }
   ],
   "source": [
    "df['Year-Month']"
   ]
  },
  {
   "cell_type": "code",
   "execution_count": 104,
   "id": "aa8a490b-658e-4e4b-9541-1a5bdf14b37b",
   "metadata": {},
   "outputs": [
    {
     "data": {
      "text/plain": [
       "'202010'"
      ]
     },
     "execution_count": 104,
     "metadata": {},
     "output_type": "execute_result"
    }
   ],
   "source": [
    "(df['Year-Month'][0])"
   ]
  },
  {
   "cell_type": "code",
   "execution_count": 105,
   "id": "02551d2f-561b-47a8-a2a2-8e50e215872f",
   "metadata": {},
   "outputs": [
    {
     "data": {
      "text/plain": [
       "6"
      ]
     },
     "execution_count": 105,
     "metadata": {},
     "output_type": "execute_result"
    }
   ],
   "source": [
    "len(df['Year-Month'][0])"
   ]
  },
  {
   "cell_type": "code",
   "execution_count": 113,
   "id": "c84ea4d3-20d7-4d8a-8252-542aa16640b7",
   "metadata": {},
   "outputs": [
    {
     "name": "stdout",
     "output_type": "stream",
     "text": [
      "[202004]\n"
     ]
    }
   ],
   "source": [
    "a = []\n",
    "a.append(int(df['Year-Month'][2]))\n",
    "print(a)"
   ]
  },
  {
   "cell_type": "code",
   "execution_count": null,
   "id": "b19dc9f3-7d38-4b3c-9816-9387116a1835",
   "metadata": {},
   "outputs": [],
   "source": [
    "for i in range(len(df['Year-Month']):\n",
    "    if len(df['Year-Month'][i]) != 6 :\n",
    "        (df['Year-Month'][i])."
   ]
  },
  {
   "cell_type": "code",
   "execution_count": 100,
   "id": "7b5e3ce8-8a4c-4dfa-8587-bfc034857cd1",
   "metadata": {},
   "outputs": [],
   "source": [
    "df['Year'] = df['Closing Date'].dt.year\n",
    "df['Month'] = df['Closing Date'].dt.month\n",
    "df['Month'] = df['Month'].astype(str)\n",
    "df['Month'] = df['Month'].str.zfill(2)\n",
    "df['Year-Month'] = df['Year'].astype(str) + df['Month'].astype(str)"
   ]
  },
  {
   "cell_type": "code",
   "execution_count": 119,
   "id": "ddcb934c-c59b-42ab-98bd-11b0169634ca",
   "metadata": {},
   "outputs": [],
   "source": [
    "df['Year-Month'] = df['Closing Date'].dt.strftime('%Y') + df['Closing Date'].dt.strftime('%m')"
   ]
  },
  {
   "cell_type": "code",
   "execution_count": 120,
   "id": "438304ea-06a5-41e8-bf26-5fddfda2dbe1",
   "metadata": {},
   "outputs": [
    {
     "data": {
      "text/plain": [
       "0      202010\n",
       "1      202010\n",
       "2      202004\n",
       "3      202002\n",
       "4      201911\n",
       "        ...  \n",
       "558    200107\n",
       "559    200105\n",
       "560    200102\n",
       "561    200012\n",
       "562    200010\n",
       "Name: Year-Month, Length: 563, dtype: object"
      ]
     },
     "execution_count": 120,
     "metadata": {},
     "output_type": "execute_result"
    }
   ],
   "source": [
    "df['Year-Month']"
   ]
  },
  {
   "cell_type": "code",
   "execution_count": 102,
   "id": "8c64ba1b-b584-4406-858b-e5ab239990c2",
   "metadata": {},
   "outputs": [
    {
     "data": {
      "application/vnd.plotly.v1+json": {
       "config": {
        "plotlyServerURL": "https://plot.ly"
       },
       "data": [
        {
         "hovertemplate": "State=KS<br>Year-Month=%{x}<br>Fund=%{y}<extra></extra>",
         "legendgroup": "KS",
         "marker": {
          "color": "#636efa",
          "symbol": "circle"
         },
         "mode": "markers",
         "name": "KS",
         "orientation": "v",
         "showlegend": true,
         "type": "scatter",
         "x": [
          "202010",
          "201710",
          "201207",
          "201108",
          "201010",
          "201010",
          "201007",
          "200912",
          "200906",
          "200903",
          "200808"
         ],
         "xaxis": "x",
         "y": [
          10538,
          10529,
          10452,
          10388,
          10302,
          10298,
          10269,
          10160,
          10066,
          10046,
          10011
         ],
         "yaxis": "y"
        },
        {
         "hovertemplate": "State=FL<br>Year-Month=%{x}<br>Fund=%{y}<extra></extra>",
         "legendgroup": "FL",
         "marker": {
          "color": "#EF553B",
          "symbol": "circle"
         },
         "mode": "markers",
         "name": "FL",
         "orientation": "v",
         "showlegend": true,
         "type": "scatter",
         "x": [
          "202010",
          "201501",
          "201406",
          "201310",
          "201308",
          "201304",
          "201304",
          "201211",
          "201210",
          "201210",
          "201207",
          "201206",
          "201205",
          "201201",
          "201201",
          "201112",
          "201110",
          "201109",
          "201108",
          "201107",
          "201107",
          "201107",
          "201106",
          "201105",
          "201104",
          "201104",
          "201102",
          "201101",
          "201012",
          "201011",
          "201010",
          "201010",
          "201010",
          "201009",
          "201009",
          "201008",
          "201008",
          "201007",
          "201007",
          "201007",
          "201007",
          "201007",
          "201007",
          "201006",
          "201005",
          "201005",
          "201005",
          "201005",
          "201004",
          "201004",
          "201004",
          "201003",
          "201003",
          "201003",
          "201002",
          "201001",
          "201001",
          "200912",
          "200912",
          "200911",
          "200911",
          "200911",
          "200910",
          "200910",
          "200910",
          "200908",
          "200908",
          "200907",
          "200905",
          "200902",
          "200901",
          "200810",
          "200808",
          "200403",
          "200203",
          "200201"
         ],
         "xaxis": "x",
         "y": [
          10537,
          10510,
          10501,
          10490,
          10484,
          10473,
          10475,
          10465,
          10461,
          10462,
          10454,
          10445,
          10439,
          10421,
          10418,
          10415,
          10408,
          10395,
          10392,
          10381,
          10382,
          10376,
          10370,
          10364,
          10360,
          10362,
          10342,
          10325,
          10324,
          10316,
          10303,
          10300,
          10296,
          10293,
          10286,
          10281,
          10279,
          10272,
          10271,
          10268,
          10260,
          10261,
          10259,
          10253,
          10243,
          10242,
          10241,
          10234,
          10216,
          10210,
          10213,
          10206,
          10197,
          10192,
          10187,
          10181,
          10173,
          10165,
          10158,
          10151,
          10149,
          10148,
          10129,
          10131,
          10130,
          10099,
          10098,
          10095,
          10061,
          10038,
          10032,
          10019,
          10010,
          4663,
          4654,
          4650
         ],
         "yaxis": "y"
        },
        {
         "hovertemplate": "State=WV<br>Year-Month=%{x}<br>Fund=%{y}<extra></extra>",
         "legendgroup": "WV",
         "marker": {
          "color": "#00cc96",
          "symbol": "circle"
         },
         "mode": "markers",
         "name": "WV",
         "orientation": "v",
         "showlegend": true,
         "type": "scatter",
         "x": [
          "202004",
          "200809"
         ],
         "xaxis": "x",
         "y": [
          10536,
          10014
         ],
         "yaxis": "y"
        },
        {
         "hovertemplate": "State=NE<br>Year-Month=%{x}<br>Fund=%{y}<extra></extra>",
         "legendgroup": "NE",
         "marker": {
          "color": "#ab63fa",
          "symbol": "circle"
         },
         "mode": "markers",
         "name": "NE",
         "orientation": "v",
         "showlegend": true,
         "type": "scatter",
         "x": [
          "202002",
          "201111",
          "201006",
          "200902"
         ],
         "xaxis": "x",
         "y": [
          10535,
          10410,
          10248,
          10039
         ],
         "yaxis": "y"
        },
        {
         "hovertemplate": "State=NJ<br>Year-Month=%{x}<br>Fund=%{y}<extra></extra>",
         "legendgroup": "NJ",
         "marker": {
          "color": "#FFA15A",
          "symbol": "circle"
         },
         "mode": "markers",
         "name": "NJ",
         "orientation": "v",
         "showlegend": true,
         "type": "scatter",
         "x": [
          "201911",
          "201701",
          "201204",
          "201110",
          "201009",
          "200907",
          "200905",
          "200402"
         ],
         "xaxis": "x",
         "y": [
          10534,
          10523,
          10433,
          10403,
          10290,
          10097,
          10058,
          6006
         ],
         "yaxis": "y"
        },
        {
         "hovertemplate": "State=OH<br>Year-Month=%{x}<br>Fund=%{y}<extra></extra>",
         "legendgroup": "OH",
         "marker": {
          "color": "#19d3f3",
          "symbol": "circle"
         },
         "mode": "markers",
         "name": "OH",
         "orientation": "v",
         "showlegend": true,
         "type": "scatter",
         "x": [
          "201910",
          "201405",
          "201009",
          "201003",
          "200912",
          "200907",
          "200710",
          "200202",
          "200105"
         ],
         "xaxis": "x",
         "y": [
          10533,
          10499,
          10288,
          10201,
          10155,
          10096,
          10002,
          4652,
          4648
         ],
         "yaxis": "y"
        },
        {
         "hovertemplate": "State=KY<br>Year-Month=%{x}<br>Fund=%{y}<extra></extra>",
         "legendgroup": "KY",
         "marker": {
          "color": "#FF6692",
          "symbol": "circle"
         },
         "mode": "markers",
         "name": "KY",
         "orientation": "v",
         "showlegend": true,
         "type": "scatter",
         "x": [
          "201910",
          "201304",
          "200909"
         ],
         "xaxis": "x",
         "y": [
          10532,
          10474,
          10121
         ],
         "yaxis": "y"
        },
        {
         "hovertemplate": "State=TX<br>Year-Month=%{x}<br>Fund=%{y}<extra></extra>",
         "legendgroup": "TX",
         "marker": {
          "color": "#B6E880",
          "symbol": "circle"
         },
         "mode": "markers",
         "name": "TX",
         "orientation": "v",
         "showlegend": true,
         "type": "scatter",
         "x": [
          "201905",
          "201312",
          "201309",
          "201109",
          "201002",
          "200910",
          "200910",
          "200910",
          "200908",
          "200907",
          "200812",
          "200811",
          "200201"
         ],
         "xaxis": "x",
         "y": [
          10531,
          10491,
          10488,
          10398,
          10186,
          10138,
          10142,
          10141,
          10105,
          10079,
          10026,
          10021,
          4651
         ],
         "yaxis": "y"
        },
        {
         "hovertemplate": "State=IL<br>Year-Month=%{x}<br>Fund=%{y}<extra></extra>",
         "legendgroup": "IL",
         "marker": {
          "color": "#FF97FF",
          "symbol": "circle"
         },
         "mode": "markers",
         "name": "IL",
         "orientation": "v",
         "showlegend": true,
         "type": "scatter",
         "x": [
          "201712",
          "201705",
          "201701",
          "201505",
          "201501",
          "201410",
          "201407",
          "201406",
          "201405",
          "201401",
          "201302",
          "201211",
          "201209",
          "201208",
          "201207",
          "201206",
          "201203",
          "201203",
          "201202",
          "201110",
          "201110",
          "201108",
          "201108",
          "201107",
          "201104",
          "201103",
          "201102",
          "201102",
          "201010",
          "201008",
          "201008",
          "201008",
          "201006",
          "201005",
          "201004",
          "201004",
          "201004",
          "201004",
          "201004",
          "201004",
          "201004",
          "201003",
          "201002",
          "201001",
          "200912",
          "200912",
          "200910",
          "200910",
          "200910",
          "200909",
          "200909",
          "200909",
          "200907",
          "200907",
          "200907",
          "200907",
          "200907",
          "200907",
          "200907",
          "200906",
          "200905",
          "200905",
          "200902",
          "200902",
          "200901",
          "200810",
          "200206",
          "200107",
          "200012"
         ],
         "xaxis": "x",
         "y": [
          10530,
          10528,
          10524,
          10514,
          10511,
          10507,
          10505,
          10502,
          10498,
          10492,
          10470,
          10464,
          10459,
          10456,
          10453,
          10442,
          10431,
          10429,
          10424,
          10409,
          10402,
          10390,
          10386,
          10374,
          10352,
          10350,
          10347,
          10337,
          10301,
          10284,
          10277,
          10276,
          10246,
          10236,
          10224,
          10223,
          10221,
          10222,
          10220,
          10219,
          10218,
          10191,
          10184,
          10170,
          10166,
          10154,
          10140,
          10137,
          10128,
          10117,
          10115,
          10113,
          10094,
          10074,
          10078,
          10073,
          10075,
          10077,
          10076,
          10064,
          10063,
          10062,
          10042,
          10037,
          10028,
          10017,
          6005,
          6004,
          4646
         ],
         "yaxis": "y"
        },
        {
         "hovertemplate": "State=WI<br>Year-Month=%{x}<br>Fund=%{y}<extra></extra>",
         "legendgroup": "WI",
         "marker": {
          "color": "#FECB52",
          "symbol": "circle"
         },
         "mode": "markers",
         "name": "WI",
         "orientation": "v",
         "showlegend": true,
         "type": "scatter",
         "x": [
          "201705",
          "201603",
          "201308",
          "201305",
          "201103",
          "201102",
          "201101",
          "201011",
          "201009",
          "200910",
          "200305"
         ],
         "xaxis": "x",
         "y": [
          10527,
          10518,
          10485,
          10478,
          10348,
          10339,
          10332,
          10315,
          10291,
          10132,
          4661
         ],
         "yaxis": "y"
        },
        {
         "hovertemplate": "State=LA<br>Year-Month=%{x}<br>Fund=%{y}<extra></extra>",
         "legendgroup": "LA",
         "marker": {
          "color": "#636efa",
          "symbol": "circle"
         },
         "mode": "markers",
         "name": "LA",
         "orientation": "v",
         "showlegend": true,
         "type": "scatter",
         "x": [
          "201704",
          "201111",
          "201003",
          "200212"
         ],
         "xaxis": "x",
         "y": [
          10526,
          10413,
          10196,
          4659
         ],
         "yaxis": "y"
        },
        {
         "hovertemplate": "State=UT<br>Year-Month=%{x}<br>Fund=%{y}<extra></extra>",
         "legendgroup": "UT",
         "marker": {
          "color": "#EF553B",
          "symbol": "circle"
         },
         "mode": "markers",
         "name": "UT",
         "orientation": "v",
         "showlegend": true,
         "type": "scatter",
         "x": [
          "201703",
          "201111",
          "201003",
          "201003",
          "201001",
          "200905",
          "200901",
          "200406"
         ],
         "xaxis": "x",
         "y": [
          10525,
          10411,
          10200,
          10193,
          10171,
          10057,
          10031,
          4665
         ],
         "yaxis": "y"
        },
        {
         "hovertemplate": "State=AR<br>Year-Month=%{x}<br>Fund=%{y}<extra></extra>",
         "legendgroup": "AR",
         "marker": {
          "color": "#00cc96",
          "symbol": "circle"
         },
         "mode": "markers",
         "name": "AR",
         "orientation": "v",
         "showlegend": true,
         "type": "scatter",
         "x": [
          "201609",
          "201012",
          "200805",
          "200109"
         ],
         "xaxis": "x",
         "y": [
          10522,
          10322,
          10005,
          4649
         ],
         "yaxis": "y"
        },
        {
         "hovertemplate": "State=GA<br>Year-Month=%{x}<br>Fund=%{y}<extra></extra>",
         "legendgroup": "GA",
         "marker": {
          "color": "#ab63fa",
          "symbol": "circle"
         },
         "mode": "markers",
         "name": "GA",
         "orientation": "v",
         "showlegend": true,
         "type": "scatter",
         "x": [
          "201608",
          "201510",
          "201502",
          "201407",
          "201305",
          "201304",
          "201303",
          "201211",
          "201207",
          "201207",
          "201207",
          "201207",
          "201206",
          "201203",
          "201203",
          "201202",
          "201201",
          "201111",
          "201110",
          "201110",
          "201110",
          "201109",
          "201109",
          "201108",
          "201107",
          "201107",
          "201106",
          "201106",
          "201105",
          "201105",
          "201104",
          "201104",
          "201104",
          "201104",
          "201102",
          "201102",
          "201102",
          "201102",
          "201101",
          "201101",
          "201012",
          "201012",
          "201012",
          "201011",
          "201011",
          "201010",
          "201010",
          "201009",
          "201009",
          "201009",
          "201007",
          "201007",
          "201006",
          "201005",
          "201003",
          "201003",
          "201003",
          "201003",
          "201003",
          "201001",
          "201001",
          "200912",
          "200912",
          "200912",
          "200912",
          "200911",
          "200910",
          "200909",
          "200908",
          "200908",
          "200907",
          "200907",
          "200907",
          "200907",
          "200907",
          "200907",
          "200907",
          "200906",
          "200906",
          "200906",
          "200905",
          "200904",
          "200903",
          "200903",
          "200903",
          "200902",
          "200812",
          "200812",
          "200811",
          "200810",
          "200808",
          "200709",
          "200209"
         ],
         "xaxis": "x",
         "y": [
          10521,
          10516,
          10512,
          10504,
          10481,
          10476,
          10471,
          10466,
          10455,
          10450,
          10451,
          10448,
          10446,
          10430,
          10428,
          10426,
          10419,
          10412,
          10406,
          10407,
          10404,
          10393,
          10394,
          10391,
          10377,
          10378,
          10372,
          10371,
          10366,
          10365,
          10363,
          10361,
          10355,
          10353,
          10344,
          10345,
          10338,
          10336,
          10329,
          10327,
          10323,
          10319,
          10320,
          10312,
          10313,
          10304,
          10305,
          10292,
          10289,
          10287,
          10274,
          10265,
          10251,
          10238,
          10208,
          10207,
          10202,
          10199,
          10198,
          10180,
          10179,
          10164,
          10153,
          10157,
          10152,
          10145,
          10127,
          10122,
          10108,
          10107,
          10088,
          10087,
          10085,
          10090,
          10089,
          10086,
          10084,
          10069,
          10068,
          10067,
          10059,
          10053,
          10048,
          10047,
          10044,
          10036,
          10027,
          10025,
          10022,
          10018,
          10012,
          10001,
          4657
         ],
         "yaxis": "y"
        },
        {
         "hovertemplate": "State=PA<br>Year-Month=%{x}<br>Fund=%{y}<extra></extra>",
         "legendgroup": "PA",
         "marker": {
          "color": "#FFA15A",
          "symbol": "circle"
         },
         "mode": "markers",
         "name": "PA",
         "orientation": "v",
         "showlegend": true,
         "type": "scatter",
         "x": [
          "201605",
          "201402",
          "201210",
          "201201",
          "201108",
          "201012",
          "201011",
          "200908",
          "200702",
          "200311"
         ],
         "xaxis": "x",
         "y": [
          10520,
          10496,
          10463,
          10417,
          10389,
          10317,
          10314,
          10104,
          10000,
          4662
         ],
         "yaxis": "y"
        },
        {
         "hovertemplate": "State=TN<br>Year-Month=%{x}<br>Fund=%{y}<extra></extra>",
         "legendgroup": "TN",
         "marker": {
          "color": "#19d3f3",
          "symbol": "circle"
         },
         "mode": "markers",
         "name": "TN",
         "orientation": "v",
         "showlegend": true,
         "type": "scatter",
         "x": [
          "201604",
          "201308",
          "201306",
          "201206",
          "201201",
          "201201",
          "200211"
         ],
         "xaxis": "x",
         "y": [
          10519,
          10486,
          10483,
          10447,
          10420,
          10423,
          4658
         ],
         "yaxis": "y"
        },
        {
         "hovertemplate": "State=WA<br>Year-Month=%{x}<br>Fund=%{y}<extra></extra>",
         "legendgroup": "WA",
         "marker": {
          "color": "#FF6692",
          "symbol": "circle"
         },
         "mode": "markers",
         "name": "WA",
         "orientation": "v",
         "showlegend": true,
         "type": "scatter",
         "x": [
          "201510",
          "201301",
          "201108",
          "201105",
          "201105",
          "201011",
          "201010",
          "201009",
          "201007",
          "201006",
          "201004",
          "201004",
          "201002",
          "201001",
          "201001",
          "201001",
          "200909",
          "200905",
          "200901"
         ],
         "xaxis": "x",
         "y": [
          10517,
          10468,
          10387,
          10368,
          10367,
          10309,
          10295,
          10294,
          10275,
          10249,
          10228,
          10212,
          10189,
          10178,
          10172,
          10168,
          10119,
          10060,
          10029
         ],
         "yaxis": "y"
        },
        {
         "hovertemplate": "State=CO<br>Year-Month=%{x}<br>Fund=%{y}<extra></extra>",
         "legendgroup": "CO",
         "marker": {
          "color": "#B6E880",
          "symbol": "circle"
         },
         "mode": "markers",
         "name": "CO",
         "orientation": "v",
         "showlegend": true,
         "type": "scatter",
         "x": [
          "201507",
          "201110",
          "201107",
          "201107",
          "201107",
          "201101",
          "201101",
          "200910",
          "200904",
          "200903"
         ],
         "xaxis": "x",
         "y": [
          10515,
          10405,
          10380,
          10375,
          10373,
          10334,
          10331,
          10123,
          10050,
          10045
         ],
         "yaxis": "y"
        },
        {
         "hovertemplate": "State=PR<br>Year-Month=%{x}<br>Fund=%{y}<extra></extra>",
         "legendgroup": "PR",
         "marker": {
          "color": "#FF97FF",
          "symbol": "circle"
         },
         "mode": "markers",
         "name": "PR",
         "orientation": "v",
         "showlegend": true,
         "type": "scatter",
         "x": [
          "201502",
          "201004",
          "201004",
          "201004"
         ],
         "xaxis": "x",
         "y": [
          10513,
          10231,
          10230,
          10229
         ],
         "yaxis": "y"
        },
        {
         "hovertemplate": "State=MN<br>Year-Month=%{x}<br>Fund=%{y}<extra></extra>",
         "legendgroup": "MN",
         "marker": {
          "color": "#FECB52",
          "symbol": "circle"
         },
         "mode": "markers",
         "name": "MN",
         "orientation": "v",
         "showlegend": true,
         "type": "scatter",
         "x": [
          "201412",
          "201301",
          "201209",
          "201204",
          "201202",
          "201201",
          "201110",
          "201104",
          "201012",
          "201007",
          "201005",
          "201005",
          "201003",
          "201002",
          "201001",
          "201001",
          "200911",
          "200910",
          "200910",
          "200909",
          "200908",
          "200906",
          "200805"
         ],
         "xaxis": "x",
         "y": [
          10509,
          10469,
          10457,
          10436,
          10427,
          10422,
          10399,
          10357,
          10321,
          10264,
          10240,
          10233,
          10203,
          10183,
          10182,
          10169,
          10143,
          10133,
          10124,
          10118,
          10111,
          10070,
          10006
         ],
         "yaxis": "y"
        },
        {
         "hovertemplate": "State=CA<br>Year-Month=%{x}<br>Fund=%{y}<extra></extra>",
         "legendgroup": "CA",
         "marker": {
          "color": "#636efa",
          "symbol": "circle"
         },
         "mode": "markers",
         "name": "CA",
         "orientation": "v",
         "showlegend": true,
         "type": "scatter",
         "x": [
          "201411",
          "201204",
          "201109",
          "201102",
          "201102",
          "201102",
          "201011",
          "201011",
          "201008",
          "201008",
          "201008",
          "201008",
          "201005",
          "201005",
          "201004",
          "201004",
          "201002",
          "201001",
          "200912",
          "200912",
          "200911",
          "200911",
          "200910",
          "200910",
          "200910",
          "200910",
          "200908",
          "200907",
          "200907",
          "200906",
          "200906",
          "200904",
          "200902",
          "200902",
          "200901",
          "200811",
          "200811",
          "200811",
          "200807",
          "200807",
          "200302"
         ],
         "xaxis": "x",
         "y": [
          10508,
          10437,
          10397,
          10346,
          10343,
          10340,
          10307,
          10310,
          10285,
          10282,
          10278,
          10283,
          10244,
          10232,
          10217,
          10214,
          10185,
          10177,
          10167,
          10161,
          10150,
          10147,
          10139,
          10134,
          10135,
          10126,
          10110,
          10082,
          10083,
          10072,
          10071,
          10054,
          10034,
          10035,
          10030,
          10024,
          10023,
          10020,
          10009,
          10007,
          4660
         ],
         "yaxis": "y"
        },
        {
         "hovertemplate": "State=MD<br>Year-Month=%{x}<br>Fund=%{y}<extra></extra>",
         "legendgroup": "MD",
         "marker": {
          "color": "#EF553B",
          "symbol": "circle"
         },
         "mode": "markers",
         "name": "MD",
         "orientation": "v",
         "showlegend": true,
         "type": "scatter",
         "x": [
          "201410",
          "201405",
          "201204",
          "201204",
          "201011",
          "201007",
          "201007",
          "201003",
          "200908",
          "200901"
         ],
         "xaxis": "x",
         "y": [
          10506,
          10500,
          10435,
          10434,
          10308,
          10257,
          10255,
          10190,
          10109,
          10033
         ],
         "yaxis": "y"
        },
        {
         "hovertemplate": "State=OK<br>Year-Month=%{x}<br>Fund=%{y}<extra></extra>",
         "legendgroup": "OK",
         "marker": {
          "color": "#00cc96",
          "symbol": "circle"
         },
         "mode": "markers",
         "name": "OK",
         "orientation": "v",
         "showlegend": true,
         "type": "scatter",
         "x": [
          "201406",
          "201401",
          "201206",
          "201103",
          "201101",
          "201007",
          "200907"
         ],
         "xaxis": "x",
         "y": [
          10503,
          10493,
          10443,
          10349,
          10335,
          10256,
          10093
         ],
         "yaxis": "y"
        },
        {
         "hovertemplate": "State=SC<br>Year-Month=%{x}<br>Fund=%{y}<extra></extra>",
         "legendgroup": "SC",
         "marker": {
          "color": "#ab63fa",
          "symbol": "circle"
         },
         "mode": "markers",
         "name": "SC",
         "orientation": "v",
         "showlegend": true,
         "type": "scatter",
         "x": [
          "201404",
          "201206",
          "201204",
          "201107",
          "201106",
          "201101",
          "201007",
          "201007",
          "201007",
          "201004"
         ],
         "xaxis": "x",
         "y": [
          10497,
          10441,
          10438,
          10383,
          10369,
          10328,
          10270,
          10263,
          10262,
          10209
         ],
         "yaxis": "y"
        },
        {
         "hovertemplate": "State=VA<br>Year-Month=%{x}<br>Fund=%{y}<extra></extra>",
         "legendgroup": "VA",
         "marker": {
          "color": "#FFA15A",
          "symbol": "circle"
         },
         "mode": "markers",
         "name": "VA",
         "orientation": "v",
         "showlegend": true,
         "type": "scatter",
         "x": [
          "201402",
          "201109",
          "201107",
          "201008",
          "200912"
         ],
         "xaxis": "x",
         "y": [
          10495,
          10396,
          10385,
          10280,
          10156
         ],
         "yaxis": "y"
        },
        {
         "hovertemplate": "State=ID<br>Year-Month=%{x}<br>Fund=%{y}<extra></extra>",
         "legendgroup": "ID",
         "marker": {
          "color": "#19d3f3",
          "symbol": "circle"
         },
         "mode": "markers",
         "name": "ID",
         "orientation": "v",
         "showlegend": true,
         "type": "scatter",
         "x": [
          "201401",
          "200904"
         ],
         "xaxis": "x",
         "y": [
          10494,
          10055
         ],
         "yaxis": "y"
        },
        {
         "hovertemplate": "State=CT<br>Year-Month=%{x}<br>Fund=%{y}<extra></extra>",
         "legendgroup": "CT",
         "marker": {
          "color": "#FF6692",
          "symbol": "circle"
         },
         "mode": "markers",
         "name": "CT",
         "orientation": "v",
         "showlegend": true,
         "type": "scatter",
         "x": [
          "201309",
          "200206"
         ],
         "xaxis": "x",
         "y": [
          10489,
          4656
         ],
         "yaxis": "y"
        },
        {
         "hovertemplate": "State=AZ<br>Year-Month=%{x}<br>Fund=%{y}<extra></extra>",
         "legendgroup": "AZ",
         "marker": {
          "color": "#B6E880",
          "symbol": "circle"
         },
         "mode": "markers",
         "name": "AZ",
         "orientation": "v",
         "showlegend": true,
         "type": "scatter",
         "x": [
          "201308",
          "201305",
          "201304",
          "201112",
          "201107",
          "201101",
          "201011",
          "201010",
          "201005",
          "201003",
          "200912",
          "200910",
          "200909",
          "200908",
          "200908",
          "200202"
         ],
         "xaxis": "x",
         "y": [
          10487,
          10479,
          10472,
          10416,
          10379,
          10326,
          10311,
          10306,
          10235,
          10205,
          10159,
          10136,
          10114,
          10101,
          10102,
          4653
         ],
         "yaxis": "y"
        },
        {
         "hovertemplate": "State=NV<br>Year-Month=%{x}<br>Fund=%{y}<extra></extra>",
         "legendgroup": "NV",
         "marker": {
          "color": "#FF97FF",
          "symbol": "circle"
         },
         "mode": "markers",
         "name": "NV",
         "orientation": "v",
         "showlegend": true,
         "type": "scatter",
         "x": [
          "201306",
          "201104",
          "201007",
          "201006",
          "201005",
          "201002",
          "200908",
          "200904",
          "200902",
          "200809",
          "200809",
          "200807"
         ],
         "xaxis": "x",
         "y": [
          10482,
          10351,
          10267,
          10250,
          10245,
          10188,
          10100,
          10051,
          10043,
          10015,
          10013,
          10008
         ],
         "yaxis": "y"
        },
        {
         "hovertemplate": "State=NC<br>Year-Month=%{x}<br>Fund=%{y}<extra></extra>",
         "legendgroup": "NC",
         "marker": {
          "color": "#FECB52",
          "symbol": "circle"
         },
         "mode": "markers",
         "name": "NC",
         "orientation": "v",
         "showlegend": true,
         "type": "scatter",
         "x": [
          "201305",
          "201304",
          "201206",
          "201110",
          "201101",
          "200906",
          "200904"
         ],
         "xaxis": "x",
         "y": [
          10480,
          10477,
          10444,
          10401,
          10330,
          10065,
          10049
         ],
         "yaxis": "y"
        },
        {
         "hovertemplate": "State=MO<br>Year-Month=%{x}<br>Fund=%{y}<extra></extra>",
         "legendgroup": "MO",
         "marker": {
          "color": "#636efa",
          "symbol": "circle"
         },
         "mode": "markers",
         "name": "MO",
         "orientation": "v",
         "showlegend": true,
         "type": "scatter",
         "x": [
          "201212",
          "201210",
          "201209",
          "201207",
          "201110",
          "201010",
          "201010",
          "201005",
          "201004",
          "201004",
          "201001",
          "200911",
          "200909",
          "200904",
          "200803",
          "200801"
         ],
         "xaxis": "x",
         "y": [
          10467,
          10460,
          10458,
          10449,
          10400,
          10297,
          10299,
          10239,
          10225,
          10227,
          10174,
          10146,
          10112,
          10052,
          10004,
          10003
         ],
         "yaxis": "y"
        },
        {
         "hovertemplate": "State=AL<br>Year-Month=%{x}<br>Fund=%{y}<extra></extra>",
         "legendgroup": "AL",
         "marker": {
          "color": "#EF553B",
          "symbol": "circle"
         },
         "mode": "markers",
         "name": "AL",
         "orientation": "v",
         "showlegend": true,
         "type": "scatter",
         "x": [
          "201205",
          "201104",
          "201104",
          "201003",
          "200912",
          "200908",
          "200908"
         ],
         "xaxis": "x",
         "y": [
          10440,
          10358,
          10356,
          10204,
          10163,
          10106,
          10103
         ],
         "yaxis": "y"
        },
        {
         "hovertemplate": "State=MI<br>Year-Month=%{x}<br>Fund=%{y}<extra></extra>",
         "legendgroup": "MI",
         "marker": {
          "color": "#00cc96",
          "symbol": "circle"
         },
         "mode": "markers",
         "name": "MI",
         "orientation": "v",
         "showlegend": true,
         "type": "scatter",
         "x": [
          "201203",
          "201104",
          "201102",
          "201012",
          "201007",
          "201005",
          "201004",
          "201004",
          "200912",
          "200911",
          "200910",
          "200904",
          "200810",
          "200203"
         ],
         "xaxis": "x",
         "y": [
          10432,
          10359,
          10341,
          10318,
          10258,
          10237,
          10226,
          10215,
          10162,
          10144,
          10125,
          10056,
          10016,
          4655
         ],
         "yaxis": "y"
        },
        {
         "hovertemplate": "State=IN<br>Year-Month=%{x}<br>Fund=%{y}<extra></extra>",
         "legendgroup": "IN",
         "marker": {
          "color": "#ab63fa",
          "symbol": "circle"
         },
         "mode": "markers",
         "name": "IN",
         "orientation": "v",
         "showlegend": true,
         "type": "scatter",
         "x": [
          "201202",
          "201107",
          "200909"
         ],
         "xaxis": "x",
         "y": [
          10425,
          10384,
          10120
         ],
         "yaxis": "y"
        },
        {
         "hovertemplate": "State=IA<br>Year-Month=%{x}<br>Fund=%{y}<extra></extra>",
         "legendgroup": "IA",
         "marker": {
          "color": "#FFA15A",
          "symbol": "circle"
         },
         "mode": "markers",
         "name": "IA",
         "orientation": "v",
         "showlegend": true,
         "type": "scatter",
         "x": [
          "201111",
          "200909"
         ],
         "xaxis": "x",
         "y": [
          10414,
          10116
         ],
         "yaxis": "y"
        },
        {
         "hovertemplate": "State=MS<br>Year-Month=%{x}<br>Fund=%{y}<extra></extra>",
         "legendgroup": "MS",
         "marker": {
          "color": "#19d3f3",
          "symbol": "circle"
         },
         "mode": "markers",
         "name": "MS",
         "orientation": "v",
         "showlegend": true,
         "type": "scatter",
         "x": [
          "201104",
          "201006"
         ],
         "xaxis": "x",
         "y": [
          10354,
          10247
         ],
         "yaxis": "y"
        },
        {
         "hovertemplate": "State=NM<br>Year-Month=%{x}<br>Fund=%{y}<extra></extra>",
         "legendgroup": "NM",
         "marker": {
          "color": "#FF6692",
          "symbol": "circle"
         },
         "mode": "markers",
         "name": "NM",
         "orientation": "v",
         "showlegend": true,
         "type": "scatter",
         "x": [
          "201101",
          "201006",
          "201001"
         ],
         "xaxis": "x",
         "y": [
          10333,
          10252,
          10175
         ],
         "yaxis": "y"
        },
        {
         "hovertemplate": "State=OR<br>Year-Month=%{x}<br>Fund=%{y}<extra></extra>",
         "legendgroup": "OR",
         "marker": {
          "color": "#B6E880",
          "symbol": "circle"
         },
         "mode": "markers",
         "name": "OR",
         "orientation": "v",
         "showlegend": true,
         "type": "scatter",
         "x": [
          "201007",
          "201007",
          "201001",
          "200908",
          "200902",
          "200902"
         ],
         "xaxis": "x",
         "y": [
          10273,
          10266,
          10176,
          10092,
          10041,
          10040
         ],
         "yaxis": "y"
        },
        {
         "hovertemplate": "State=NY<br>Year-Month=%{x}<br>Fund=%{y}<extra></extra>",
         "legendgroup": "NY",
         "marker": {
          "color": "#FF97FF",
          "symbol": "circle"
         },
         "mode": "markers",
         "name": "NY",
         "orientation": "v",
         "showlegend": true,
         "type": "scatter",
         "x": [
          "201007",
          "201003",
          "201003",
          "200907",
          "200403"
         ],
         "xaxis": "x",
         "y": [
          10254,
          10195,
          10194,
          10091,
          4664
         ],
         "yaxis": "y"
        },
        {
         "hovertemplate": "State=MA<br>Year-Month=%{x}<br>Fund=%{y}<extra></extra>",
         "legendgroup": "MA",
         "marker": {
          "color": "#FECB52",
          "symbol": "circle"
         },
         "mode": "markers",
         "name": "MA",
         "orientation": "v",
         "showlegend": true,
         "type": "scatter",
         "x": [
          "201004"
         ],
         "xaxis": "x",
         "y": [
          10211
         ],
         "yaxis": "y"
        },
        {
         "hovertemplate": "State=SD<br>Year-Month=%{x}<br>Fund=%{y}<extra></extra>",
         "legendgroup": "SD",
         "marker": {
          "color": "#636efa",
          "symbol": "circle"
         },
         "mode": "markers",
         "name": "SD",
         "orientation": "v",
         "showlegend": true,
         "type": "scatter",
         "x": [
          "200907"
         ],
         "xaxis": "x",
         "y": [
          10081
         ],
         "yaxis": "y"
        },
        {
         "hovertemplate": "State=WY<br>Year-Month=%{x}<br>Fund=%{y}<extra></extra>",
         "legendgroup": "WY",
         "marker": {
          "color": "#EF553B",
          "symbol": "circle"
         },
         "mode": "markers",
         "name": "WY",
         "orientation": "v",
         "showlegend": true,
         "type": "scatter",
         "x": [
          "200907"
         ],
         "xaxis": "x",
         "y": [
          10080
         ],
         "yaxis": "y"
        },
        {
         "hovertemplate": "State=NH<br>Year-Month=%{x}<br>Fund=%{y}<extra></extra>",
         "legendgroup": "NH",
         "marker": {
          "color": "#00cc96",
          "symbol": "circle"
         },
         "mode": "markers",
         "name": "NH",
         "orientation": "v",
         "showlegend": true,
         "type": "scatter",
         "x": [
          "200102"
         ],
         "xaxis": "x",
         "y": [
          4647
         ],
         "yaxis": "y"
        },
        {
         "hovertemplate": "State=HI<br>Year-Month=%{x}<br>Fund=%{y}<extra></extra>",
         "legendgroup": "HI",
         "marker": {
          "color": "#ab63fa",
          "symbol": "circle"
         },
         "mode": "markers",
         "name": "HI",
         "orientation": "v",
         "showlegend": true,
         "type": "scatter",
         "x": [
          "200010"
         ],
         "xaxis": "x",
         "y": [
          4645
         ],
         "yaxis": "y"
        }
       ],
       "layout": {
        "autosize": true,
        "legend": {
         "title": {
          "text": "State"
         },
         "tracegroupgap": 0
        },
        "margin": {
         "t": 60
        },
        "template": {
         "data": {
          "bar": [
           {
            "error_x": {
             "color": "#2a3f5f"
            },
            "error_y": {
             "color": "#2a3f5f"
            },
            "marker": {
             "line": {
              "color": "#E5ECF6",
              "width": 0.5
             },
             "pattern": {
              "fillmode": "overlay",
              "size": 10,
              "solidity": 0.2
             }
            },
            "type": "bar"
           }
          ],
          "barpolar": [
           {
            "marker": {
             "line": {
              "color": "#E5ECF6",
              "width": 0.5
             },
             "pattern": {
              "fillmode": "overlay",
              "size": 10,
              "solidity": 0.2
             }
            },
            "type": "barpolar"
           }
          ],
          "carpet": [
           {
            "aaxis": {
             "endlinecolor": "#2a3f5f",
             "gridcolor": "white",
             "linecolor": "white",
             "minorgridcolor": "white",
             "startlinecolor": "#2a3f5f"
            },
            "baxis": {
             "endlinecolor": "#2a3f5f",
             "gridcolor": "white",
             "linecolor": "white",
             "minorgridcolor": "white",
             "startlinecolor": "#2a3f5f"
            },
            "type": "carpet"
           }
          ],
          "choropleth": [
           {
            "colorbar": {
             "outlinewidth": 0,
             "ticks": ""
            },
            "type": "choropleth"
           }
          ],
          "contour": [
           {
            "colorbar": {
             "outlinewidth": 0,
             "ticks": ""
            },
            "colorscale": [
             [
              0,
              "#0d0887"
             ],
             [
              0.1111111111111111,
              "#46039f"
             ],
             [
              0.2222222222222222,
              "#7201a8"
             ],
             [
              0.3333333333333333,
              "#9c179e"
             ],
             [
              0.4444444444444444,
              "#bd3786"
             ],
             [
              0.5555555555555556,
              "#d8576b"
             ],
             [
              0.6666666666666666,
              "#ed7953"
             ],
             [
              0.7777777777777778,
              "#fb9f3a"
             ],
             [
              0.8888888888888888,
              "#fdca26"
             ],
             [
              1,
              "#f0f921"
             ]
            ],
            "type": "contour"
           }
          ],
          "contourcarpet": [
           {
            "colorbar": {
             "outlinewidth": 0,
             "ticks": ""
            },
            "type": "contourcarpet"
           }
          ],
          "heatmap": [
           {
            "colorbar": {
             "outlinewidth": 0,
             "ticks": ""
            },
            "colorscale": [
             [
              0,
              "#0d0887"
             ],
             [
              0.1111111111111111,
              "#46039f"
             ],
             [
              0.2222222222222222,
              "#7201a8"
             ],
             [
              0.3333333333333333,
              "#9c179e"
             ],
             [
              0.4444444444444444,
              "#bd3786"
             ],
             [
              0.5555555555555556,
              "#d8576b"
             ],
             [
              0.6666666666666666,
              "#ed7953"
             ],
             [
              0.7777777777777778,
              "#fb9f3a"
             ],
             [
              0.8888888888888888,
              "#fdca26"
             ],
             [
              1,
              "#f0f921"
             ]
            ],
            "type": "heatmap"
           }
          ],
          "heatmapgl": [
           {
            "colorbar": {
             "outlinewidth": 0,
             "ticks": ""
            },
            "colorscale": [
             [
              0,
              "#0d0887"
             ],
             [
              0.1111111111111111,
              "#46039f"
             ],
             [
              0.2222222222222222,
              "#7201a8"
             ],
             [
              0.3333333333333333,
              "#9c179e"
             ],
             [
              0.4444444444444444,
              "#bd3786"
             ],
             [
              0.5555555555555556,
              "#d8576b"
             ],
             [
              0.6666666666666666,
              "#ed7953"
             ],
             [
              0.7777777777777778,
              "#fb9f3a"
             ],
             [
              0.8888888888888888,
              "#fdca26"
             ],
             [
              1,
              "#f0f921"
             ]
            ],
            "type": "heatmapgl"
           }
          ],
          "histogram": [
           {
            "marker": {
             "pattern": {
              "fillmode": "overlay",
              "size": 10,
              "solidity": 0.2
             }
            },
            "type": "histogram"
           }
          ],
          "histogram2d": [
           {
            "colorbar": {
             "outlinewidth": 0,
             "ticks": ""
            },
            "colorscale": [
             [
              0,
              "#0d0887"
             ],
             [
              0.1111111111111111,
              "#46039f"
             ],
             [
              0.2222222222222222,
              "#7201a8"
             ],
             [
              0.3333333333333333,
              "#9c179e"
             ],
             [
              0.4444444444444444,
              "#bd3786"
             ],
             [
              0.5555555555555556,
              "#d8576b"
             ],
             [
              0.6666666666666666,
              "#ed7953"
             ],
             [
              0.7777777777777778,
              "#fb9f3a"
             ],
             [
              0.8888888888888888,
              "#fdca26"
             ],
             [
              1,
              "#f0f921"
             ]
            ],
            "type": "histogram2d"
           }
          ],
          "histogram2dcontour": [
           {
            "colorbar": {
             "outlinewidth": 0,
             "ticks": ""
            },
            "colorscale": [
             [
              0,
              "#0d0887"
             ],
             [
              0.1111111111111111,
              "#46039f"
             ],
             [
              0.2222222222222222,
              "#7201a8"
             ],
             [
              0.3333333333333333,
              "#9c179e"
             ],
             [
              0.4444444444444444,
              "#bd3786"
             ],
             [
              0.5555555555555556,
              "#d8576b"
             ],
             [
              0.6666666666666666,
              "#ed7953"
             ],
             [
              0.7777777777777778,
              "#fb9f3a"
             ],
             [
              0.8888888888888888,
              "#fdca26"
             ],
             [
              1,
              "#f0f921"
             ]
            ],
            "type": "histogram2dcontour"
           }
          ],
          "mesh3d": [
           {
            "colorbar": {
             "outlinewidth": 0,
             "ticks": ""
            },
            "type": "mesh3d"
           }
          ],
          "parcoords": [
           {
            "line": {
             "colorbar": {
              "outlinewidth": 0,
              "ticks": ""
             }
            },
            "type": "parcoords"
           }
          ],
          "pie": [
           {
            "automargin": true,
            "type": "pie"
           }
          ],
          "scatter": [
           {
            "marker": {
             "colorbar": {
              "outlinewidth": 0,
              "ticks": ""
             }
            },
            "type": "scatter"
           }
          ],
          "scatter3d": [
           {
            "line": {
             "colorbar": {
              "outlinewidth": 0,
              "ticks": ""
             }
            },
            "marker": {
             "colorbar": {
              "outlinewidth": 0,
              "ticks": ""
             }
            },
            "type": "scatter3d"
           }
          ],
          "scattercarpet": [
           {
            "marker": {
             "colorbar": {
              "outlinewidth": 0,
              "ticks": ""
             }
            },
            "type": "scattercarpet"
           }
          ],
          "scattergeo": [
           {
            "marker": {
             "colorbar": {
              "outlinewidth": 0,
              "ticks": ""
             }
            },
            "type": "scattergeo"
           }
          ],
          "scattergl": [
           {
            "marker": {
             "colorbar": {
              "outlinewidth": 0,
              "ticks": ""
             }
            },
            "type": "scattergl"
           }
          ],
          "scattermapbox": [
           {
            "marker": {
             "colorbar": {
              "outlinewidth": 0,
              "ticks": ""
             }
            },
            "type": "scattermapbox"
           }
          ],
          "scatterpolar": [
           {
            "marker": {
             "colorbar": {
              "outlinewidth": 0,
              "ticks": ""
             }
            },
            "type": "scatterpolar"
           }
          ],
          "scatterpolargl": [
           {
            "marker": {
             "colorbar": {
              "outlinewidth": 0,
              "ticks": ""
             }
            },
            "type": "scatterpolargl"
           }
          ],
          "scatterternary": [
           {
            "marker": {
             "colorbar": {
              "outlinewidth": 0,
              "ticks": ""
             }
            },
            "type": "scatterternary"
           }
          ],
          "surface": [
           {
            "colorbar": {
             "outlinewidth": 0,
             "ticks": ""
            },
            "colorscale": [
             [
              0,
              "#0d0887"
             ],
             [
              0.1111111111111111,
              "#46039f"
             ],
             [
              0.2222222222222222,
              "#7201a8"
             ],
             [
              0.3333333333333333,
              "#9c179e"
             ],
             [
              0.4444444444444444,
              "#bd3786"
             ],
             [
              0.5555555555555556,
              "#d8576b"
             ],
             [
              0.6666666666666666,
              "#ed7953"
             ],
             [
              0.7777777777777778,
              "#fb9f3a"
             ],
             [
              0.8888888888888888,
              "#fdca26"
             ],
             [
              1,
              "#f0f921"
             ]
            ],
            "type": "surface"
           }
          ],
          "table": [
           {
            "cells": {
             "fill": {
              "color": "#EBF0F8"
             },
             "line": {
              "color": "white"
             }
            },
            "header": {
             "fill": {
              "color": "#C8D4E3"
             },
             "line": {
              "color": "white"
             }
            },
            "type": "table"
           }
          ]
         },
         "layout": {
          "annotationdefaults": {
           "arrowcolor": "#2a3f5f",
           "arrowhead": 0,
           "arrowwidth": 1
          },
          "autotypenumbers": "strict",
          "coloraxis": {
           "colorbar": {
            "outlinewidth": 0,
            "ticks": ""
           }
          },
          "colorscale": {
           "diverging": [
            [
             0,
             "#8e0152"
            ],
            [
             0.1,
             "#c51b7d"
            ],
            [
             0.2,
             "#de77ae"
            ],
            [
             0.3,
             "#f1b6da"
            ],
            [
             0.4,
             "#fde0ef"
            ],
            [
             0.5,
             "#f7f7f7"
            ],
            [
             0.6,
             "#e6f5d0"
            ],
            [
             0.7,
             "#b8e186"
            ],
            [
             0.8,
             "#7fbc41"
            ],
            [
             0.9,
             "#4d9221"
            ],
            [
             1,
             "#276419"
            ]
           ],
           "sequential": [
            [
             0,
             "#0d0887"
            ],
            [
             0.1111111111111111,
             "#46039f"
            ],
            [
             0.2222222222222222,
             "#7201a8"
            ],
            [
             0.3333333333333333,
             "#9c179e"
            ],
            [
             0.4444444444444444,
             "#bd3786"
            ],
            [
             0.5555555555555556,
             "#d8576b"
            ],
            [
             0.6666666666666666,
             "#ed7953"
            ],
            [
             0.7777777777777778,
             "#fb9f3a"
            ],
            [
             0.8888888888888888,
             "#fdca26"
            ],
            [
             1,
             "#f0f921"
            ]
           ],
           "sequentialminus": [
            [
             0,
             "#0d0887"
            ],
            [
             0.1111111111111111,
             "#46039f"
            ],
            [
             0.2222222222222222,
             "#7201a8"
            ],
            [
             0.3333333333333333,
             "#9c179e"
            ],
            [
             0.4444444444444444,
             "#bd3786"
            ],
            [
             0.5555555555555556,
             "#d8576b"
            ],
            [
             0.6666666666666666,
             "#ed7953"
            ],
            [
             0.7777777777777778,
             "#fb9f3a"
            ],
            [
             0.8888888888888888,
             "#fdca26"
            ],
            [
             1,
             "#f0f921"
            ]
           ]
          },
          "colorway": [
           "#636efa",
           "#EF553B",
           "#00cc96",
           "#ab63fa",
           "#FFA15A",
           "#19d3f3",
           "#FF6692",
           "#B6E880",
           "#FF97FF",
           "#FECB52"
          ],
          "font": {
           "color": "#2a3f5f"
          },
          "geo": {
           "bgcolor": "white",
           "lakecolor": "white",
           "landcolor": "#E5ECF6",
           "showlakes": true,
           "showland": true,
           "subunitcolor": "white"
          },
          "hoverlabel": {
           "align": "left"
          },
          "hovermode": "closest",
          "mapbox": {
           "style": "light"
          },
          "paper_bgcolor": "white",
          "plot_bgcolor": "#E5ECF6",
          "polar": {
           "angularaxis": {
            "gridcolor": "white",
            "linecolor": "white",
            "ticks": ""
           },
           "bgcolor": "#E5ECF6",
           "radialaxis": {
            "gridcolor": "white",
            "linecolor": "white",
            "ticks": ""
           }
          },
          "scene": {
           "xaxis": {
            "backgroundcolor": "#E5ECF6",
            "gridcolor": "white",
            "gridwidth": 2,
            "linecolor": "white",
            "showbackground": true,
            "ticks": "",
            "zerolinecolor": "white"
           },
           "yaxis": {
            "backgroundcolor": "#E5ECF6",
            "gridcolor": "white",
            "gridwidth": 2,
            "linecolor": "white",
            "showbackground": true,
            "ticks": "",
            "zerolinecolor": "white"
           },
           "zaxis": {
            "backgroundcolor": "#E5ECF6",
            "gridcolor": "white",
            "gridwidth": 2,
            "linecolor": "white",
            "showbackground": true,
            "ticks": "",
            "zerolinecolor": "white"
           }
          },
          "shapedefaults": {
           "line": {
            "color": "#2a3f5f"
           }
          },
          "ternary": {
           "aaxis": {
            "gridcolor": "white",
            "linecolor": "white",
            "ticks": ""
           },
           "baxis": {
            "gridcolor": "white",
            "linecolor": "white",
            "ticks": ""
           },
           "bgcolor": "#E5ECF6",
           "caxis": {
            "gridcolor": "white",
            "linecolor": "white",
            "ticks": ""
           }
          },
          "title": {
           "x": 0.05
          },
          "xaxis": {
           "automargin": true,
           "gridcolor": "white",
           "linecolor": "white",
           "ticks": "",
           "title": {
            "standoff": 15
           },
           "zerolinecolor": "white",
           "zerolinewidth": 2
          },
          "yaxis": {
           "automargin": true,
           "gridcolor": "white",
           "linecolor": "white",
           "ticks": "",
           "title": {
            "standoff": 15
           },
           "zerolinecolor": "white",
           "zerolinewidth": 2
          }
         }
        },
        "xaxis": {
         "anchor": "y",
         "autorange": true,
         "domain": [
          0,
          1
         ],
         "range": [
          -7.583333333333333,
          126.58333333333333
         ],
         "title": {
          "text": "Year-Month"
         },
         "type": "category"
        },
        "yaxis": {
         "anchor": "x",
         "autorange": true,
         "domain": [
          0,
          1
         ],
         "range": [
          4182.326446280992,
          11000.673553719009
         ],
         "title": {
          "text": "Fund"
         },
         "type": "linear"
        }
       }
      },
      "image/png": "[encoded data removed]",
      "text/html": [
       "<div>                            <div id=\"685909be-6016-4234-ade0-8d164ebf91c3\" class=\"plotly-graph-div\" style=\"height:525px; width:100%;\"></div>            <script type=\"text/javascript\">                require([\"plotly\"], function(Plotly) {                    window.PLOTLYENV=window.PLOTLYENV || {};                                    if (document.getElementById(\"685909be-6016-4234-ade0-8d164ebf91c3\")) {                    Plotly.newPlot(                        \"685909be-6016-4234-ade0-8d164ebf91c3\",                        [{\"hovertemplate\":\"State=KS<br>Year-Month=%{x}<br>Fund=%{y}<extra></extra>\",\"legendgroup\":\"KS\",\"marker\":{\"color\":\"#636efa\",\"symbol\":\"circle\"},\"mode\":\"markers\",\"name\":\"KS\",\"orientation\":\"v\",\"showlegend\":true,\"x\":[\"202010\",\"201710\",\"201207\",\"201108\",\"201010\",\"201010\",\"201007\",\"200912\",\"200906\",\"200903\",\"200808\"],\"xaxis\":\"x\",\"y\":[10538,10529,10452,10388,10302,10298,10269,10160,10066,10046,10011],\"yaxis\":\"y\",\"type\":\"scatter\"},{\"hovertemplate\":\"State=FL<br>Year-Month=%{x}<br>Fund=%{y}<extra></extra>\",\"legendgroup\":\"FL\",\"marker\":{\"color\":\"#EF553B\",\"symbol\":\"circle\"},\"mode\":\"markers\",\"name\":\"FL\",\"orientation\":\"v\",\"showlegend\":true,\"x\":[\"202010\",\"201501\",\"201406\",\"201310\",\"201308\",\"201304\",\"201304\",\"201211\",\"201210\",\"201210\",\"201207\",\"201206\",\"201205\",\"201201\",\"201201\",\"201112\",\"201110\",\"201109\",\"201108\",\"201107\",\"201107\",\"201107\",\"201106\",\"201105\",\"201104\",\"201104\",\"201102\",\"201101\",\"201012\",\"201011\",\"201010\",\"201010\",\"201010\",\"201009\",\"201009\",\"201008\",\"201008\",\"201007\",\"201007\",\"201007\",\"201007\",\"201007\",\"201007\",\"201006\",\"201005\",\"201005\",\"201005\",\"201005\",\"201004\",\"201004\",\"201004\",\"201003\",\"201003\",\"201003\",\"201002\",\"201001\",\"201001\",\"200912\",\"200912\",\"200911\",\"200911\",\"200911\",\"200910\",\"200910\",\"200910\",\"200908\",\"200908\",\"200907\",\"200905\",\"200902\",\"200901\",\"200810\",\"200808\",\"200403\",\"200203\",\"200201\"],\"xaxis\":\"x\",\"y\":[10537,10510,10501,10490,10484,10473,10475,10465,10461,10462,10454,10445,10439,10421,10418,10415,10408,10395,10392,10381,10382,10376,10370,10364,10360,10362,10342,10325,10324,10316,10303,10300,10296,10293,10286,10281,10279,10272,10271,10268,10260,10261,10259,10253,10243,10242,10241,10234,10216,10210,10213,10206,10197,10192,10187,10181,10173,10165,10158,10151,10149,10148,10129,10131,10130,10099,10098,10095,10061,10038,10032,10019,10010,4663,4654,4650],\"yaxis\":\"y\",\"type\":\"scatter\"},{\"hovertemplate\":\"State=WV<br>Year-Month=%{x}<br>Fund=%{y}<extra></extra>\",\"legendgroup\":\"WV\",\"marker\":{\"color\":\"#00cc96\",\"symbol\":\"circle\"},\"mode\":\"markers\",\"name\":\"WV\",\"orientation\":\"v\",\"showlegend\":true,\"x\":[\"202004\",\"200809\"],\"xaxis\":\"x\",\"y\":[10536,10014],\"yaxis\":\"y\",\"type\":\"scatter\"},{\"hovertemplate\":\"State=NE<br>Year-Month=%{x}<br>Fund=%{y}<extra></extra>\",\"legendgroup\":\"NE\",\"marker\":{\"color\":\"#ab63fa\",\"symbol\":\"circle\"},\"mode\":\"markers\",\"name\":\"NE\",\"orientation\":\"v\",\"showlegend\":true,\"x\":[\"202002\",\"201111\",\"201006\",\"200902\"],\"xaxis\":\"x\",\"y\":[10535,10410,10248,10039],\"yaxis\":\"y\",\"type\":\"scatter\"},{\"hovertemplate\":\"State=NJ<br>Year-Month=%{x}<br>Fund=%{y}<extra></extra>\",\"legendgroup\":\"NJ\",\"marker\":{\"color\":\"#FFA15A\",\"symbol\":\"circle\"},\"mode\":\"markers\",\"name\":\"NJ\",\"orientation\":\"v\",\"showlegend\":true,\"x\":[\"201911\",\"201701\",\"201204\",\"201110\",\"201009\",\"200907\",\"200905\",\"200402\"],\"xaxis\":\"x\",\"y\":[10534,10523,10433,10403,10290,10097,10058,6006],\"yaxis\":\"y\",\"type\":\"scatter\"},{\"hovertemplate\":\"State=OH<br>Year-Month=%{x}<br>Fund=%{y}<extra></extra>\",\"legendgroup\":\"OH\",\"marker\":{\"color\":\"#19d3f3\",\"symbol\":\"circle\"},\"mode\":\"markers\",\"name\":\"OH\",\"orientation\":\"v\",\"showlegend\":true,\"x\":[\"201910\",\"201405\",\"201009\",\"201003\",\"200912\",\"200907\",\"200710\",\"200202\",\"200105\"],\"xaxis\":\"x\",\"y\":[10533,10499,10288,10201,10155,10096,10002,4652,4648],\"yaxis\":\"y\",\"type\":\"scatter\"},{\"hovertemplate\":\"State=KY<br>Year-Month=%{x}<br>Fund=%{y}<extra></extra>\",\"legendgroup\":\"KY\",\"marker\":{\"color\":\"#FF6692\",\"symbol\":\"circle\"},\"mode\":\"markers\",\"name\":\"KY\",\"orientation\":\"v\",\"showlegend\":true,\"x\":[\"201910\",\"201304\",\"200909\"],\"xaxis\":\"x\",\"y\":[10532,10474,10121],\"yaxis\":\"y\",\"type\":\"scatter\"},{\"hovertemplate\":\"State=TX<br>Year-Month=%{x}<br>Fund=%{y}<extra></extra>\",\"legendgroup\":\"TX\",\"marker\":{\"color\":\"#B6E880\",\"symbol\":\"circle\"},\"mode\":\"markers\",\"name\":\"TX\",\"orientation\":\"v\",\"showlegend\":true,\"x\":[\"201905\",\"201312\",\"201309\",\"201109\",\"201002\",\"200910\",\"200910\",\"200910\",\"200908\",\"200907\",\"200812\",\"200811\",\"200201\"],\"xaxis\":\"x\",\"y\":[10531,10491,10488,10398,10186,10138,10142,10141,10105,10079,10026,10021,4651],\"yaxis\":\"y\",\"type\":\"scatter\"},{\"hovertemplate\":\"State=IL<br>Year-Month=%{x}<br>Fund=%{y}<extra></extra>\",\"legendgroup\":\"IL\",\"marker\":{\"color\":\"#FF97FF\",\"symbol\":\"circle\"},\"mode\":\"markers\",\"name\":\"IL\",\"orientation\":\"v\",\"showlegend\":true,\"x\":[\"201712\",\"201705\",\"201701\",\"201505\",\"201501\",\"201410\",\"201407\",\"201406\",\"201405\",\"201401\",\"201302\",\"201211\",\"201209\",\"201208\",\"201207\",\"201206\",\"201203\",\"201203\",\"201202\",\"201110\",\"201110\",\"201108\",\"201108\",\"201107\",\"201104\",\"201103\",\"201102\",\"201102\",\"201010\",\"201008\",\"201008\",\"201008\",\"201006\",\"201005\",\"201004\",\"201004\",\"201004\",\"201004\",\"201004\",\"201004\",\"201004\",\"201003\",\"201002\",\"201001\",\"200912\",\"200912\",\"200910\",\"200910\",\"200910\",\"200909\",\"200909\",\"200909\",\"200907\",\"200907\",\"200907\",\"200907\",\"200907\",\"200907\",\"200907\",\"200906\",\"200905\",\"200905\",\"200902\",\"200902\",\"200901\",\"200810\",\"200206\",\"200107\",\"200012\"],\"xaxis\":\"x\",\"y\":[10530,10528,10524,10514,10511,10507,10505,10502,10498,10492,10470,10464,10459,10456,10453,10442,10431,10429,10424,10409,10402,10390,10386,10374,10352,10350,10347,10337,10301,10284,10277,10276,10246,10236,10224,10223,10221,10222,10220,10219,10218,10191,10184,10170,10166,10154,10140,10137,10128,10117,10115,10113,10094,10074,10078,10073,10075,10077,10076,10064,10063,10062,10042,10037,10028,10017,6005,6004,4646],\"yaxis\":\"y\",\"type\":\"scatter\"},{\"hovertemplate\":\"State=WI<br>Year-Month=%{x}<br>Fund=%{y}<extra></extra>\",\"legendgroup\":\"WI\",\"marker\":{\"color\":\"#FECB52\",\"symbol\":\"circle\"},\"mode\":\"markers\",\"name\":\"WI\",\"orientation\":\"v\",\"showlegend\":true,\"x\":[\"201705\",\"201603\",\"201308\",\"201305\",\"201103\",\"201102\",\"201101\",\"201011\",\"201009\",\"200910\",\"200305\"],\"xaxis\":\"x\",\"y\":[10527,10518,10485,10478,10348,10339,10332,10315,10291,10132,4661],\"yaxis\":\"y\",\"type\":\"scatter\"},{\"hovertemplate\":\"State=LA<br>Year-Month=%{x}<br>Fund=%{y}<extra></extra>\",\"legendgroup\":\"LA\",\"marker\":{\"color\":\"#636efa\",\"symbol\":\"circle\"},\"mode\":\"markers\",\"name\":\"LA\",\"orientation\":\"v\",\"showlegend\":true,\"x\":[\"201704\",\"201111\",\"201003\",\"200212\"],\"xaxis\":\"x\",\"y\":[10526,10413,10196,4659],\"yaxis\":\"y\",\"type\":\"scatter\"},{\"hovertemplate\":\"State=UT<br>Year-Month=%{x}<br>Fund=%{y}<extra></extra>\",\"legendgroup\":\"UT\",\"marker\":{\"color\":\"#EF553B\",\"symbol\":\"circle\"},\"mode\":\"markers\",\"name\":\"UT\",\"orientation\":\"v\",\"showlegend\":true,\"x\":[\"201703\",\"201111\",\"201003\",\"201003\",\"201001\",\"200905\",\"200901\",\"200406\"],\"xaxis\":\"x\",\"y\":[10525,10411,10200,10193,10171,10057,10031,4665],\"yaxis\":\"y\",\"type\":\"scatter\"},{\"hovertemplate\":\"State=AR<br>Year-Month=%{x}<br>Fund=%{y}<extra></extra>\",\"legendgroup\":\"AR\",\"marker\":{\"color\":\"#00cc96\",\"symbol\":\"circle\"},\"mode\":\"markers\",\"name\":\"AR\",\"orientation\":\"v\",\"showlegend\":true,\"x\":[\"201609\",\"201012\",\"200805\",\"200109\"],\"xaxis\":\"x\",\"y\":[10522,10322,10005,4649],\"yaxis\":\"y\",\"type\":\"scatter\"},{\"hovertemplate\":\"State=GA<br>Year-Month=%{x}<br>Fund=%{y}<extra></extra>\",\"legendgroup\":\"GA\",\"marker\":{\"color\":\"#ab63fa\",\"symbol\":\"circle\"},\"mode\":\"markers\",\"name\":\"GA\",\"orientation\":\"v\",\"showlegend\":true,\"x\":[\"201608\",\"201510\",\"201502\",\"201407\",\"201305\",\"201304\",\"201303\",\"201211\",\"201207\",\"201207\",\"201207\",\"201207\",\"201206\",\"201203\",\"201203\",\"201202\",\"201201\",\"201111\",\"201110\",\"201110\",\"201110\",\"201109\",\"201109\",\"201108\",\"201107\",\"201107\",\"201106\",\"201106\",\"201105\",\"201105\",\"201104\",\"201104\",\"201104\",\"201104\",\"201102\",\"201102\",\"201102\",\"201102\",\"201101\",\"201101\",\"201012\",\"201012\",\"201012\",\"201011\",\"201011\",\"201010\",\"201010\",\"201009\",\"201009\",\"201009\",\"201007\",\"201007\",\"201006\",\"201005\",\"201003\",\"201003\",\"201003\",\"201003\",\"201003\",\"201001\",\"201001\",\"200912\",\"200912\",\"200912\",\"200912\",\"200911\",\"200910\",\"200909\",\"200908\",\"200908\",\"200907\",\"200907\",\"200907\",\"200907\",\"200907\",\"200907\",\"200907\",\"200906\",\"200906\",\"200906\",\"200905\",\"200904\",\"200903\",\"200903\",\"200903\",\"200902\",\"200812\",\"200812\",\"200811\",\"200810\",\"200808\",\"200709\",\"200209\"],\"xaxis\":\"x\",\"y\":[10521,10516,10512,10504,10481,10476,10471,10466,10455,10450,10451,10448,10446,10430,10428,10426,10419,10412,10406,10407,10404,10393,10394,10391,10377,10378,10372,10371,10366,10365,10363,10361,10355,10353,10344,10345,10338,10336,10329,10327,10323,10319,10320,10312,10313,10304,10305,10292,10289,10287,10274,10265,10251,10238,10208,10207,10202,10199,10198,10180,10179,10164,10153,10157,10152,10145,10127,10122,10108,10107,10088,10087,10085,10090,10089,10086,10084,10069,10068,10067,10059,10053,10048,10047,10044,10036,10027,10025,10022,10018,10012,10001,4657],\"yaxis\":\"y\",\"type\":\"scatter\"},{\"hovertemplate\":\"State=PA<br>Year-Month=%{x}<br>Fund=%{y}<extra></extra>\",\"legendgroup\":\"PA\",\"marker\":{\"color\":\"#FFA15A\",\"symbol\":\"circle\"},\"mode\":\"markers\",\"name\":\"PA\",\"orientation\":\"v\",\"showlegend\":true,\"x\":[\"201605\",\"201402\",\"201210\",\"201201\",\"201108\",\"201012\",\"201011\",\"200908\",\"200702\",\"200311\"],\"xaxis\":\"x\",\"y\":[10520,10496,10463,10417,10389,10317,10314,10104,10000,4662],\"yaxis\":\"y\",\"type\":\"scatter\"},{\"hovertemplate\":\"State=TN<br>Year-Month=%{x}<br>Fund=%{y}<extra></extra>\",\"legendgroup\":\"TN\",\"marker\":{\"color\":\"#19d3f3\",\"symbol\":\"circle\"},\"mode\":\"markers\",\"name\":\"TN\",\"orientation\":\"v\",\"showlegend\":true,\"x\":[\"201604\",\"201308\",\"201306\",\"201206\",\"201201\",\"201201\",\"200211\"],\"xaxis\":\"x\",\"y\":[10519,10486,10483,10447,10420,10423,4658],\"yaxis\":\"y\",\"type\":\"scatter\"},{\"hovertemplate\":\"State=WA<br>Year-Month=%{x}<br>Fund=%{y}<extra></extra>\",\"legendgroup\":\"WA\",\"marker\":{\"color\":\"#FF6692\",\"symbol\":\"circle\"},\"mode\":\"markers\",\"name\":\"WA\",\"orientation\":\"v\",\"showlegend\":true,\"x\":[\"201510\",\"201301\",\"201108\",\"201105\",\"201105\",\"201011\",\"201010\",\"201009\",\"201007\",\"201006\",\"201004\",\"201004\",\"201002\",\"201001\",\"201001\",\"201001\",\"200909\",\"200905\",\"200901\"],\"xaxis\":\"x\",\"y\":[10517,10468,10387,10368,10367,10309,10295,10294,10275,10249,10228,10212,10189,10178,10172,10168,10119,10060,10029],\"yaxis\":\"y\",\"type\":\"scatter\"},{\"hovertemplate\":\"State=CO<br>Year-Month=%{x}<br>Fund=%{y}<extra></extra>\",\"legendgroup\":\"CO\",\"marker\":{\"color\":\"#B6E880\",\"symbol\":\"circle\"},\"mode\":\"markers\",\"name\":\"CO\",\"orientation\":\"v\",\"showlegend\":true,\"x\":[\"201507\",\"201110\",\"201107\",\"201107\",\"201107\",\"201101\",\"201101\",\"200910\",\"200904\",\"200903\"],\"xaxis\":\"x\",\"y\":[10515,10405,10380,10375,10373,10334,10331,10123,10050,10045],\"yaxis\":\"y\",\"type\":\"scatter\"},{\"hovertemplate\":\"State=PR<br>Year-Month=%{x}<br>Fund=%{y}<extra></extra>\",\"legendgroup\":\"PR\",\"marker\":{\"color\":\"#FF97FF\",\"symbol\":\"circle\"},\"mode\":\"markers\",\"name\":\"PR\",\"orientation\":\"v\",\"showlegend\":true,\"x\":[\"201502\",\"201004\",\"201004\",\"201004\"],\"xaxis\":\"x\",\"y\":[10513,10231,10230,10229],\"yaxis\":\"y\",\"type\":\"scatter\"},{\"hovertemplate\":\"State=MN<br>Year-Month=%{x}<br>Fund=%{y}<extra></extra>\",\"legendgroup\":\"MN\",\"marker\":{\"color\":\"#FECB52\",\"symbol\":\"circle\"},\"mode\":\"markers\",\"name\":\"MN\",\"orientation\":\"v\",\"showlegend\":true,\"x\":[\"201412\",\"201301\",\"201209\",\"201204\",\"201202\",\"201201\",\"201110\",\"201104\",\"201012\",\"201007\",\"201005\",\"201005\",\"201003\",\"201002\",\"201001\",\"201001\",\"200911\",\"200910\",\"200910\",\"200909\",\"200908\",\"200906\",\"200805\"],\"xaxis\":\"x\",\"y\":[10509,10469,10457,10436,10427,10422,10399,10357,10321,10264,10240,10233,10203,10183,10182,10169,10143,10133,10124,10118,10111,10070,10006],\"yaxis\":\"y\",\"type\":\"scatter\"},{\"hovertemplate\":\"State=CA<br>Year-Month=%{x}<br>Fund=%{y}<extra></extra>\",\"legendgroup\":\"CA\",\"marker\":{\"color\":\"#636efa\",\"symbol\":\"circle\"},\"mode\":\"markers\",\"name\":\"CA\",\"orientation\":\"v\",\"showlegend\":true,\"x\":[\"201411\",\"201204\",\"201109\",\"201102\",\"201102\",\"201102\",\"201011\",\"201011\",\"201008\",\"201008\",\"201008\",\"201008\",\"201005\",\"201005\",\"201004\",\"201004\",\"201002\",\"201001\",\"200912\",\"200912\",\"200911\",\"200911\",\"200910\",\"200910\",\"200910\",\"200910\",\"200908\",\"200907\",\"200907\",\"200906\",\"200906\",\"200904\",\"200902\",\"200902\",\"200901\",\"200811\",\"200811\",\"200811\",\"200807\",\"200807\",\"200302\"],\"xaxis\":\"x\",\"y\":[10508,10437,10397,10346,10343,10340,10307,10310,10285,10282,10278,10283,10244,10232,10217,10214,10185,10177,10167,10161,10150,10147,10139,10134,10135,10126,10110,10082,10083,10072,10071,10054,10034,10035,10030,10024,10023,10020,10009,10007,4660],\"yaxis\":\"y\",\"type\":\"scatter\"},{\"hovertemplate\":\"State=MD<br>Year-Month=%{x}<br>Fund=%{y}<extra></extra>\",\"legendgroup\":\"MD\",\"marker\":{\"color\":\"#EF553B\",\"symbol\":\"circle\"},\"mode\":\"markers\",\"name\":\"MD\",\"orientation\":\"v\",\"showlegend\":true,\"x\":[\"201410\",\"201405\",\"201204\",\"201204\",\"201011\",\"201007\",\"201007\",\"201003\",\"200908\",\"200901\"],\"xaxis\":\"x\",\"y\":[10506,10500,10435,10434,10308,10257,10255,10190,10109,10033],\"yaxis\":\"y\",\"type\":\"scatter\"},{\"hovertemplate\":\"State=OK<br>Year-Month=%{x}<br>Fund=%{y}<extra></extra>\",\"legendgroup\":\"OK\",\"marker\":{\"color\":\"#00cc96\",\"symbol\":\"circle\"},\"mode\":\"markers\",\"name\":\"OK\",\"orientation\":\"v\",\"showlegend\":true,\"x\":[\"201406\",\"201401\",\"201206\",\"201103\",\"201101\",\"201007\",\"200907\"],\"xaxis\":\"x\",\"y\":[10503,10493,10443,10349,10335,10256,10093],\"yaxis\":\"y\",\"type\":\"scatter\"},{\"hovertemplate\":\"State=SC<br>Year-Month=%{x}<br>Fund=%{y}<extra></extra>\",\"legendgroup\":\"SC\",\"marker\":{\"color\":\"#ab63fa\",\"symbol\":\"circle\"},\"mode\":\"markers\",\"name\":\"SC\",\"orientation\":\"v\",\"showlegend\":true,\"x\":[\"201404\",\"201206\",\"201204\",\"201107\",\"201106\",\"201101\",\"201007\",\"201007\",\"201007\",\"201004\"],\"xaxis\":\"x\",\"y\":[10497,10441,10438,10383,10369,10328,10270,10263,10262,10209],\"yaxis\":\"y\",\"type\":\"scatter\"},{\"hovertemplate\":\"State=VA<br>Year-Month=%{x}<br>Fund=%{y}<extra></extra>\",\"legendgroup\":\"VA\",\"marker\":{\"color\":\"#FFA15A\",\"symbol\":\"circle\"},\"mode\":\"markers\",\"name\":\"VA\",\"orientation\":\"v\",\"showlegend\":true,\"x\":[\"201402\",\"201109\",\"201107\",\"201008\",\"200912\"],\"xaxis\":\"x\",\"y\":[10495,10396,10385,10280,10156],\"yaxis\":\"y\",\"type\":\"scatter\"},{\"hovertemplate\":\"State=ID<br>Year-Month=%{x}<br>Fund=%{y}<extra></extra>\",\"legendgroup\":\"ID\",\"marker\":{\"color\":\"#19d3f3\",\"symbol\":\"circle\"},\"mode\":\"markers\",\"name\":\"ID\",\"orientation\":\"v\",\"showlegend\":true,\"x\":[\"201401\",\"200904\"],\"xaxis\":\"x\",\"y\":[10494,10055],\"yaxis\":\"y\",\"type\":\"scatter\"},{\"hovertemplate\":\"State=CT<br>Year-Month=%{x}<br>Fund=%{y}<extra></extra>\",\"legendgroup\":\"CT\",\"marker\":{\"color\":\"#FF6692\",\"symbol\":\"circle\"},\"mode\":\"markers\",\"name\":\"CT\",\"orientation\":\"v\",\"showlegend\":true,\"x\":[\"201309\",\"200206\"],\"xaxis\":\"x\",\"y\":[10489,4656],\"yaxis\":\"y\",\"type\":\"scatter\"},{\"hovertemplate\":\"State=AZ<br>Year-Month=%{x}<br>Fund=%{y}<extra></extra>\",\"legendgroup\":\"AZ\",\"marker\":{\"color\":\"#B6E880\",\"symbol\":\"circle\"},\"mode\":\"markers\",\"name\":\"AZ\",\"orientation\":\"v\",\"showlegend\":true,\"x\":[\"201308\",\"201305\",\"201304\",\"201112\",\"201107\",\"201101\",\"201011\",\"201010\",\"201005\",\"201003\",\"200912\",\"200910\",\"200909\",\"200908\",\"200908\",\"200202\"],\"xaxis\":\"x\",\"y\":[10487,10479,10472,10416,10379,10326,10311,10306,10235,10205,10159,10136,10114,10101,10102,4653],\"yaxis\":\"y\",\"type\":\"scatter\"},{\"hovertemplate\":\"State=NV<br>Year-Month=%{x}<br>Fund=%{y}<extra></extra>\",\"legendgroup\":\"NV\",\"marker\":{\"color\":\"#FF97FF\",\"symbol\":\"circle\"},\"mode\":\"markers\",\"name\":\"NV\",\"orientation\":\"v\",\"showlegend\":true,\"x\":[\"201306\",\"201104\",\"201007\",\"201006\",\"201005\",\"201002\",\"200908\",\"200904\",\"200902\",\"200809\",\"200809\",\"200807\"],\"xaxis\":\"x\",\"y\":[10482,10351,10267,10250,10245,10188,10100,10051,10043,10015,10013,10008],\"yaxis\":\"y\",\"type\":\"scatter\"},{\"hovertemplate\":\"State=NC<br>Year-Month=%{x}<br>Fund=%{y}<extra></extra>\",\"legendgroup\":\"NC\",\"marker\":{\"color\":\"#FECB52\",\"symbol\":\"circle\"},\"mode\":\"markers\",\"name\":\"NC\",\"orientation\":\"v\",\"showlegend\":true,\"x\":[\"201305\",\"201304\",\"201206\",\"201110\",\"201101\",\"200906\",\"200904\"],\"xaxis\":\"x\",\"y\":[10480,10477,10444,10401,10330,10065,10049],\"yaxis\":\"y\",\"type\":\"scatter\"},{\"hovertemplate\":\"State=MO<br>Year-Month=%{x}<br>Fund=%{y}<extra></extra>\",\"legendgroup\":\"MO\",\"marker\":{\"color\":\"#636efa\",\"symbol\":\"circle\"},\"mode\":\"markers\",\"name\":\"MO\",\"orientation\":\"v\",\"showlegend\":true,\"x\":[\"201212\",\"201210\",\"201209\",\"201207\",\"201110\",\"201010\",\"201010\",\"201005\",\"201004\",\"201004\",\"201001\",\"200911\",\"200909\",\"200904\",\"200803\",\"200801\"],\"xaxis\":\"x\",\"y\":[10467,10460,10458,10449,10400,10297,10299,10239,10225,10227,10174,10146,10112,10052,10004,10003],\"yaxis\":\"y\",\"type\":\"scatter\"},{\"hovertemplate\":\"State=AL<br>Year-Month=%{x}<br>Fund=%{y}<extra></extra>\",\"legendgroup\":\"AL\",\"marker\":{\"color\":\"#EF553B\",\"symbol\":\"circle\"},\"mode\":\"markers\",\"name\":\"AL\",\"orientation\":\"v\",\"showlegend\":true,\"x\":[\"201205\",\"201104\",\"201104\",\"201003\",\"200912\",\"200908\",\"200908\"],\"xaxis\":\"x\",\"y\":[10440,10358,10356,10204,10163,10106,10103],\"yaxis\":\"y\",\"type\":\"scatter\"},{\"hovertemplate\":\"State=MI<br>Year-Month=%{x}<br>Fund=%{y}<extra></extra>\",\"legendgroup\":\"MI\",\"marker\":{\"color\":\"#00cc96\",\"symbol\":\"circle\"},\"mode\":\"markers\",\"name\":\"MI\",\"orientation\":\"v\",\"showlegend\":true,\"x\":[\"201203\",\"201104\",\"201102\",\"201012\",\"201007\",\"201005\",\"201004\",\"201004\",\"200912\",\"200911\",\"200910\",\"200904\",\"200810\",\"200203\"],\"xaxis\":\"x\",\"y\":[10432,10359,10341,10318,10258,10237,10226,10215,10162,10144,10125,10056,10016,4655],\"yaxis\":\"y\",\"type\":\"scatter\"},{\"hovertemplate\":\"State=IN<br>Year-Month=%{x}<br>Fund=%{y}<extra></extra>\",\"legendgroup\":\"IN\",\"marker\":{\"color\":\"#ab63fa\",\"symbol\":\"circle\"},\"mode\":\"markers\",\"name\":\"IN\",\"orientation\":\"v\",\"showlegend\":true,\"x\":[\"201202\",\"201107\",\"200909\"],\"xaxis\":\"x\",\"y\":[10425,10384,10120],\"yaxis\":\"y\",\"type\":\"scatter\"},{\"hovertemplate\":\"State=IA<br>Year-Month=%{x}<br>Fund=%{y}<extra></extra>\",\"legendgroup\":\"IA\",\"marker\":{\"color\":\"#FFA15A\",\"symbol\":\"circle\"},\"mode\":\"markers\",\"name\":\"IA\",\"orientation\":\"v\",\"showlegend\":true,\"x\":[\"201111\",\"200909\"],\"xaxis\":\"x\",\"y\":[10414,10116],\"yaxis\":\"y\",\"type\":\"scatter\"},{\"hovertemplate\":\"State=MS<br>Year-Month=%{x}<br>Fund=%{y}<extra></extra>\",\"legendgroup\":\"MS\",\"marker\":{\"color\":\"#19d3f3\",\"symbol\":\"circle\"},\"mode\":\"markers\",\"name\":\"MS\",\"orientation\":\"v\",\"showlegend\":true,\"x\":[\"201104\",\"201006\"],\"xaxis\":\"x\",\"y\":[10354,10247],\"yaxis\":\"y\",\"type\":\"scatter\"},{\"hovertemplate\":\"State=NM<br>Year-Month=%{x}<br>Fund=%{y}<extra></extra>\",\"legendgroup\":\"NM\",\"marker\":{\"color\":\"#FF6692\",\"symbol\":\"circle\"},\"mode\":\"markers\",\"name\":\"NM\",\"orientation\":\"v\",\"showlegend\":true,\"x\":[\"201101\",\"201006\",\"201001\"],\"xaxis\":\"x\",\"y\":[10333,10252,10175],\"yaxis\":\"y\",\"type\":\"scatter\"},{\"hovertemplate\":\"State=OR<br>Year-Month=%{x}<br>Fund=%{y}<extra></extra>\",\"legendgroup\":\"OR\",\"marker\":{\"color\":\"#B6E880\",\"symbol\":\"circle\"},\"mode\":\"markers\",\"name\":\"OR\",\"orientation\":\"v\",\"showlegend\":true,\"x\":[\"201007\",\"201007\",\"201001\",\"200908\",\"200902\",\"200902\"],\"xaxis\":\"x\",\"y\":[10273,10266,10176,10092,10041,10040],\"yaxis\":\"y\",\"type\":\"scatter\"},{\"hovertemplate\":\"State=NY<br>Year-Month=%{x}<br>Fund=%{y}<extra></extra>\",\"legendgroup\":\"NY\",\"marker\":{\"color\":\"#FF97FF\",\"symbol\":\"circle\"},\"mode\":\"markers\",\"name\":\"NY\",\"orientation\":\"v\",\"showlegend\":true,\"x\":[\"201007\",\"201003\",\"201003\",\"200907\",\"200403\"],\"xaxis\":\"x\",\"y\":[10254,10195,10194,10091,4664],\"yaxis\":\"y\",\"type\":\"scatter\"},{\"hovertemplate\":\"State=MA<br>Year-Month=%{x}<br>Fund=%{y}<extra></extra>\",\"legendgroup\":\"MA\",\"marker\":{\"color\":\"#FECB52\",\"symbol\":\"circle\"},\"mode\":\"markers\",\"name\":\"MA\",\"orientation\":\"v\",\"showlegend\":true,\"x\":[\"201004\"],\"xaxis\":\"x\",\"y\":[10211],\"yaxis\":\"y\",\"type\":\"scatter\"},{\"hovertemplate\":\"State=SD<br>Year-Month=%{x}<br>Fund=%{y}<extra></extra>\",\"legendgroup\":\"SD\",\"marker\":{\"color\":\"#636efa\",\"symbol\":\"circle\"},\"mode\":\"markers\",\"name\":\"SD\",\"orientation\":\"v\",\"showlegend\":true,\"x\":[\"200907\"],\"xaxis\":\"x\",\"y\":[10081],\"yaxis\":\"y\",\"type\":\"scatter\"},{\"hovertemplate\":\"State=WY<br>Year-Month=%{x}<br>Fund=%{y}<extra></extra>\",\"legendgroup\":\"WY\",\"marker\":{\"color\":\"#EF553B\",\"symbol\":\"circle\"},\"mode\":\"markers\",\"name\":\"WY\",\"orientation\":\"v\",\"showlegend\":true,\"x\":[\"200907\"],\"xaxis\":\"x\",\"y\":[10080],\"yaxis\":\"y\",\"type\":\"scatter\"},{\"hovertemplate\":\"State=NH<br>Year-Month=%{x}<br>Fund=%{y}<extra></extra>\",\"legendgroup\":\"NH\",\"marker\":{\"color\":\"#00cc96\",\"symbol\":\"circle\"},\"mode\":\"markers\",\"name\":\"NH\",\"orientation\":\"v\",\"showlegend\":true,\"x\":[\"200102\"],\"xaxis\":\"x\",\"y\":[4647],\"yaxis\":\"y\",\"type\":\"scatter\"},{\"hovertemplate\":\"State=HI<br>Year-Month=%{x}<br>Fund=%{y}<extra></extra>\",\"legendgroup\":\"HI\",\"marker\":{\"color\":\"#ab63fa\",\"symbol\":\"circle\"},\"mode\":\"markers\",\"name\":\"HI\",\"orientation\":\"v\",\"showlegend\":true,\"x\":[\"200010\"],\"xaxis\":\"x\",\"y\":[4645],\"yaxis\":\"y\",\"type\":\"scatter\"}],                        {\"template\":{\"data\":{\"bar\":[{\"error_x\":{\"color\":\"#2a3f5f\"},\"error_y\":{\"color\":\"#2a3f5f\"},\"marker\":{\"line\":{\"color\":\"#E5ECF6\",\"width\":0.5},\"pattern\":{\"fillmode\":\"overlay\",\"size\":10,\"solidity\":0.2}},\"type\":\"bar\"}],\"barpolar\":[{\"marker\":{\"line\":{\"color\":\"#E5ECF6\",\"width\":0.5},\"pattern\":{\"fillmode\":\"overlay\",\"size\":10,\"solidity\":0.2}},\"type\":\"barpolar\"}],\"carpet\":[{\"aaxis\":{\"endlinecolor\":\"#2a3f5f\",\"gridcolor\":\"white\",\"linecolor\":\"white\",\"minorgridcolor\":\"white\",\"startlinecolor\":\"#2a3f5f\"},\"baxis\":{\"endlinecolor\":\"#2a3f5f\",\"gridcolor\":\"white\",\"linecolor\":\"white\",\"minorgridcolor\":\"white\",\"startlinecolor\":\"#2a3f5f\"},\"type\":\"carpet\"}],\"choropleth\":[{\"colorbar\":{\"outlinewidth\":0,\"ticks\":\"\"},\"type\":\"choropleth\"}],\"contour\":[{\"colorbar\":{\"outlinewidth\":0,\"ticks\":\"\"},\"colorscale\":[[0.0,\"#0d0887\"],[0.1111111111111111,\"#46039f\"],[0.2222222222222222,\"#7201a8\"],[0.3333333333333333,\"#9c179e\"],[0.4444444444444444,\"#bd3786\"],[0.5555555555555556,\"#d8576b\"],[0.6666666666666666,\"#ed7953\"],[0.7777777777777778,\"#fb9f3a\"],[0.8888888888888888,\"#fdca26\"],[1.0,\"#f0f921\"]],\"type\":\"contour\"}],\"contourcarpet\":[{\"colorbar\":{\"outlinewidth\":0,\"ticks\":\"\"},\"type\":\"contourcarpet\"}],\"heatmap\":[{\"colorbar\":{\"outlinewidth\":0,\"ticks\":\"\"},\"colorscale\":[[0.0,\"#0d0887\"],[0.1111111111111111,\"#46039f\"],[0.2222222222222222,\"#7201a8\"],[0.3333333333333333,\"#9c179e\"],[0.4444444444444444,\"#bd3786\"],[0.5555555555555556,\"#d8576b\"],[0.6666666666666666,\"#ed7953\"],[0.7777777777777778,\"#fb9f3a\"],[0.8888888888888888,\"#fdca26\"],[1.0,\"#f0f921\"]],\"type\":\"heatmap\"}],\"heatmapgl\":[{\"colorbar\":{\"outlinewidth\":0,\"ticks\":\"\"},\"colorscale\":[[0.0,\"#0d0887\"],[0.1111111111111111,\"#46039f\"],[0.2222222222222222,\"#7201a8\"],[0.3333333333333333,\"#9c179e\"],[0.4444444444444444,\"#bd3786\"],[0.5555555555555556,\"#d8576b\"],[0.6666666666666666,\"#ed7953\"],[0.7777777777777778,\"#fb9f3a\"],[0.8888888888888888,\"#fdca26\"],[1.0,\"#f0f921\"]],\"type\":\"heatmapgl\"}],\"histogram\":[{\"marker\":{\"pattern\":{\"fillmode\":\"overlay\",\"size\":10,\"solidity\":0.2}},\"type\":\"histogram\"}],\"histogram2d\":[{\"colorbar\":{\"outlinewidth\":0,\"ticks\":\"\"},\"colorscale\":[[0.0,\"#0d0887\"],[0.1111111111111111,\"#46039f\"],[0.2222222222222222,\"#7201a8\"],[0.3333333333333333,\"#9c179e\"],[0.4444444444444444,\"#bd3786\"],[0.5555555555555556,\"#d8576b\"],[0.6666666666666666,\"#ed7953\"],[0.7777777777777778,\"#fb9f3a\"],[0.8888888888888888,\"#fdca26\"],[1.0,\"#f0f921\"]],\"type\":\"histogram2d\"}],\"histogram2dcontour\":[{\"colorbar\":{\"outlinewidth\":0,\"ticks\":\"\"},\"colorscale\":[[0.0,\"#0d0887\"],[0.1111111111111111,\"#46039f\"],[0.2222222222222222,\"#7201a8\"],[0.3333333333333333,\"#9c179e\"],[0.4444444444444444,\"#bd3786\"],[0.5555555555555556,\"#d8576b\"],[0.6666666666666666,\"#ed7953\"],[0.7777777777777778,\"#fb9f3a\"],[0.8888888888888888,\"#fdca26\"],[1.0,\"#f0f921\"]],\"type\":\"histogram2dcontour\"}],\"mesh3d\":[{\"colorbar\":{\"outlinewidth\":0,\"ticks\":\"\"},\"type\":\"mesh3d\"}],\"parcoords\":[{\"line\":{\"colorbar\":{\"outlinewidth\":0,\"ticks\":\"\"}},\"type\":\"parcoords\"}],\"pie\":[{\"automargin\":true,\"type\":\"pie\"}],\"scatter\":[{\"marker\":{\"colorbar\":{\"outlinewidth\":0,\"ticks\":\"\"}},\"type\":\"scatter\"}],\"scatter3d\":[{\"line\":{\"colorbar\":{\"outlinewidth\":0,\"ticks\":\"\"}},\"marker\":{\"colorbar\":{\"outlinewidth\":0,\"ticks\":\"\"}},\"type\":\"scatter3d\"}],\"scattercarpet\":[{\"marker\":{\"colorbar\":{\"outlinewidth\":0,\"ticks\":\"\"}},\"type\":\"scattercarpet\"}],\"scattergeo\":[{\"marker\":{\"colorbar\":{\"outlinewidth\":0,\"ticks\":\"\"}},\"type\":\"scattergeo\"}],\"scattergl\":[{\"marker\":{\"colorbar\":{\"outlinewidth\":0,\"ticks\":\"\"}},\"type\":\"scattergl\"}],\"scattermapbox\":[{\"marker\":{\"colorbar\":{\"outlinewidth\":0,\"ticks\":\"\"}},\"type\":\"scattermapbox\"}],\"scatterpolar\":[{\"marker\":{\"colorbar\":{\"outlinewidth\":0,\"ticks\":\"\"}},\"type\":\"scatterpolar\"}],\"scatterpolargl\":[{\"marker\":{\"colorbar\":{\"outlinewidth\":0,\"ticks\":\"\"}},\"type\":\"scatterpolargl\"}],\"scatterternary\":[{\"marker\":{\"colorbar\":{\"outlinewidth\":0,\"ticks\":\"\"}},\"type\":\"scatterternary\"}],\"surface\":[{\"colorbar\":{\"outlinewidth\":0,\"ticks\":\"\"},\"colorscale\":[[0.0,\"#0d0887\"],[0.1111111111111111,\"#46039f\"],[0.2222222222222222,\"#7201a8\"],[0.3333333333333333,\"#9c179e\"],[0.4444444444444444,\"#bd3786\"],[0.5555555555555556,\"#d8576b\"],[0.6666666666666666,\"#ed7953\"],[0.7777777777777778,\"#fb9f3a\"],[0.8888888888888888,\"#fdca26\"],[1.0,\"#f0f921\"]],\"type\":\"surface\"}],\"table\":[{\"cells\":{\"fill\":{\"color\":\"#EBF0F8\"},\"line\":{\"color\":\"white\"}},\"header\":{\"fill\":{\"color\":\"#C8D4E3\"},\"line\":{\"color\":\"white\"}},\"type\":\"table\"}]},\"layout\":{\"annotationdefaults\":{\"arrowcolor\":\"#2a3f5f\",\"arrowhead\":0,\"arrowwidth\":1},\"autotypenumbers\":\"strict\",\"coloraxis\":{\"colorbar\":{\"outlinewidth\":0,\"ticks\":\"\"}},\"colorscale\":{\"diverging\":[[0,\"#8e0152\"],[0.1,\"#c51b7d\"],[0.2,\"#de77ae\"],[0.3,\"#f1b6da\"],[0.4,\"#fde0ef\"],[0.5,\"#f7f7f7\"],[0.6,\"#e6f5d0\"],[0.7,\"#b8e186\"],[0.8,\"#7fbc41\"],[0.9,\"#4d9221\"],[1,\"#276419\"]],\"sequential\":[[0.0,\"#0d0887\"],[0.1111111111111111,\"#46039f\"],[0.2222222222222222,\"#7201a8\"],[0.3333333333333333,\"#9c179e\"],[0.4444444444444444,\"#bd3786\"],[0.5555555555555556,\"#d8576b\"],[0.6666666666666666,\"#ed7953\"],[0.7777777777777778,\"#fb9f3a\"],[0.8888888888888888,\"#fdca26\"],[1.0,\"#f0f921\"]],\"sequentialminus\":[[0.0,\"#0d0887\"],[0.1111111111111111,\"#46039f\"],[0.2222222222222222,\"#7201a8\"],[0.3333333333333333,\"#9c179e\"],[0.4444444444444444,\"#bd3786\"],[0.5555555555555556,\"#d8576b\"],[0.6666666666666666,\"#ed7953\"],[0.7777777777777778,\"#fb9f3a\"],[0.8888888888888888,\"#fdca26\"],[1.0,\"#f0f921\"]]},\"colorway\":[\"#636efa\",\"#EF553B\",\"#00cc96\",\"#ab63fa\",\"#FFA15A\",\"#19d3f3\",\"#FF6692\",\"#B6E880\",\"#FF97FF\",\"#FECB52\"],\"font\":{\"color\":\"#2a3f5f\"},\"geo\":{\"bgcolor\":\"white\",\"lakecolor\":\"white\",\"landcolor\":\"#E5ECF6\",\"showlakes\":true,\"showland\":true,\"subunitcolor\":\"white\"},\"hoverlabel\":{\"align\":\"left\"},\"hovermode\":\"closest\",\"mapbox\":{\"style\":\"light\"},\"paper_bgcolor\":\"white\",\"plot_bgcolor\":\"#E5ECF6\",\"polar\":{\"angularaxis\":{\"gridcolor\":\"white\",\"linecolor\":\"white\",\"ticks\":\"\"},\"bgcolor\":\"#E5ECF6\",\"radialaxis\":{\"gridcolor\":\"white\",\"linecolor\":\"white\",\"ticks\":\"\"}},\"scene\":{\"xaxis\":{\"backgroundcolor\":\"#E5ECF6\",\"gridcolor\":\"white\",\"gridwidth\":2,\"linecolor\":\"white\",\"showbackground\":true,\"ticks\":\"\",\"zerolinecolor\":\"white\"},\"yaxis\":{\"backgroundcolor\":\"#E5ECF6\",\"gridcolor\":\"white\",\"gridwidth\":2,\"linecolor\":\"white\",\"showbackground\":true,\"ticks\":\"\",\"zerolinecolor\":\"white\"},\"zaxis\":{\"backgroundcolor\":\"#E5ECF6\",\"gridcolor\":\"white\",\"gridwidth\":2,\"linecolor\":\"white\",\"showbackground\":true,\"ticks\":\"\",\"zerolinecolor\":\"white\"}},\"shapedefaults\":{\"line\":{\"color\":\"#2a3f5f\"}},\"ternary\":{\"aaxis\":{\"gridcolor\":\"white\",\"linecolor\":\"white\",\"ticks\":\"\"},\"baxis\":{\"gridcolor\":\"white\",\"linecolor\":\"white\",\"ticks\":\"\"},\"bgcolor\":\"#E5ECF6\",\"caxis\":{\"gridcolor\":\"white\",\"linecolor\":\"white\",\"ticks\":\"\"}},\"title\":{\"x\":0.05},\"xaxis\":{\"automargin\":true,\"gridcolor\":\"white\",\"linecolor\":\"white\",\"ticks\":\"\",\"title\":{\"standoff\":15},\"zerolinecolor\":\"white\",\"zerolinewidth\":2},\"yaxis\":{\"automargin\":true,\"gridcolor\":\"white\",\"linecolor\":\"white\",\"ticks\":\"\",\"title\":{\"standoff\":15},\"zerolinecolor\":\"white\",\"zerolinewidth\":2}}},\"xaxis\":{\"anchor\":\"y\",\"domain\":[0.0,1.0],\"title\":{\"text\":\"Year-Month\"}},\"yaxis\":{\"anchor\":\"x\",\"domain\":[0.0,1.0],\"title\":{\"text\":\"Fund\"}},\"legend\":{\"title\":{\"text\":\"State\"},\"tracegroupgap\":0},\"margin\":{\"t\":60}},                        {\"responsive\": true}                    ).then(function(){\n",
       "                            \n",
       "var gd = document.getElementById('685909be-6016-4234-ade0-8d164ebf91c3');\n",
       "var x = new MutationObserver(function (mutations, observer) {{\n",
       "        var display = window.getComputedStyle(gd).display;\n",
       "        if (!display || display === 'none') {{\n",
       "            console.log([gd, 'removed!']);\n",
       "            Plotly.purge(gd);\n",
       "            observer.disconnect();\n",
       "        }}\n",
       "}});\n",
       "\n",
       "// Listen for the removal of the full notebook cells\n",
       "var notebookContainer = gd.closest('#notebook-container');\n",
       "if (notebookContainer) {{\n",
       "    x.observe(notebookContainer, {childList: true});\n",
       "}}\n",
       "\n",
       "// Listen for the clearing of the current output cell\n",
       "var outputEl = gd.closest('.output');\n",
       "if (outputEl) {{\n",
       "    x.observe(outputEl, {childList: true});\n",
       "}}\n",
       "\n",
       "                        })                };                });            </script>        </div>"
      ]
     },
     "metadata": {},
     "output_type": "display_data"
    }
   ],
   "source": [
    "px.scatter(data_frame = df, x= 'Year-Month' , y='Fund', color='State')"
   ]
  },
  {
   "cell_type": "code",
   "execution_count": 103,
   "id": "2a1ce471-a7d1-453a-b9d6-454f526920ff",
   "metadata": {},
   "outputs": [
    {
     "data": {
      "application/vnd.plotly.v1+json": {
       "config": {
        "plotlyServerURL": "https://plot.ly"
       },
       "data": [
        {
         "hovertemplate": "Year-Month=%{x}<br>Fund=%{y}<extra></extra>",
         "legendgroup": "",
         "marker": {
          "color": "#636efa",
          "symbol": "circle"
         },
         "mode": "markers",
         "name": "",
         "orientation": "v",
         "showlegend": false,
         "type": "scatter",
         "x": [
          "200010",
          "200012",
          "200102",
          "200105",
          "200107",
          "200109",
          "200201",
          "200202",
          "200203",
          "200206",
          "200209",
          "200211",
          "200212",
          "200302",
          "200305",
          "200311",
          "200402",
          "200403",
          "200406",
          "200702",
          "200709",
          "200710",
          "200801",
          "200803",
          "200805",
          "200807",
          "200808",
          "200809",
          "200810",
          "200811",
          "200812",
          "200901",
          "200902",
          "200903",
          "200904",
          "200905",
          "200906",
          "200907",
          "200908",
          "200909",
          "200910",
          "200911",
          "200912",
          "201001",
          "201002",
          "201003",
          "201004",
          "201005",
          "201006",
          "201007",
          "201008",
          "201009",
          "201010",
          "201011",
          "201012",
          "201101",
          "201102",
          "201103",
          "201104",
          "201105",
          "201106",
          "201107",
          "201108",
          "201109",
          "201110",
          "201111",
          "201112",
          "201201",
          "201202",
          "201203",
          "201204",
          "201205",
          "201206",
          "201207",
          "201208",
          "201209",
          "201210",
          "201211",
          "201212",
          "201301",
          "201302",
          "201303",
          "201304",
          "201305",
          "201306",
          "201308",
          "201309",
          "201310",
          "201312",
          "201401",
          "201402",
          "201404",
          "201405",
          "201406",
          "201407",
          "201410",
          "201411",
          "201412",
          "201501",
          "201502",
          "201505",
          "201507",
          "201510",
          "201603",
          "201604",
          "201605",
          "201608",
          "201609",
          "201701",
          "201703",
          "201704",
          "201705",
          "201710",
          "201712",
          "201905",
          "201910",
          "201911",
          "202002",
          "202004",
          "202010"
         ],
         "xaxis": "x",
         "y": [
          4645,
          4646,
          4647,
          4648,
          6004,
          4649,
          9301,
          9305,
          9309,
          10661,
          4657,
          4658,
          4659,
          4660,
          4661,
          4662,
          6006,
          9327,
          4665,
          10000,
          10001,
          10002,
          10003,
          10004,
          20011,
          30024,
          30033,
          30042,
          40070,
          50110,
          30078,
          60183,
          100385,
          50230,
          80420,
          70420,
          90612,
          242033,
          151555,
          111287,
          202650,
          91323,
          162552,
          152625,
          71302,
          193781,
          235060,
          143339,
          81996,
          225819,
          102805,
          92610,
          123606,
          103115,
          82564,
          113630,
          124098,
          31047,
          134641,
          51830,
          41482,
          134927,
          72723,
          62373,
          114444,
          52060,
          20831,
          72940,
          41702,
          52150,
          62613,
          20879,
          73108,
          83612,
          10456,
          31374,
          41846,
          31395,
          10467,
          20937,
          10470,
          10471,
          62847,
          41918,
          20965,
          41942,
          20977,
          10490,
          10491,
          31479,
          20991,
          10497,
          31497,
          31506,
          21009,
          21013,
          10508,
          10509,
          21021,
          21025,
          10514,
          10515,
          21033,
          10518,
          10519,
          10520,
          10521,
          10522,
          21047,
          10525,
          10526,
          21055,
          10529,
          10530,
          10531,
          21065,
          10534,
          10535,
          10536,
          21075
         ],
         "yaxis": "y"
        }
       ],
       "layout": {
        "autosize": true,
        "legend": {
         "tracegroupgap": 0
        },
        "margin": {
         "t": 60
        },
        "template": {
         "data": {
          "bar": [
           {
            "error_x": {
             "color": "#2a3f5f"
            },
            "error_y": {
             "color": "#2a3f5f"
            },
            "marker": {
             "line": {
              "color": "#E5ECF6",
              "width": 0.5
             },
             "pattern": {
              "fillmode": "overlay",
              "size": 10,
              "solidity": 0.2
             }
            },
            "type": "bar"
           }
          ],
          "barpolar": [
           {
            "marker": {
             "line": {
              "color": "#E5ECF6",
              "width": 0.5
             },
             "pattern": {
              "fillmode": "overlay",
              "size": 10,
              "solidity": 0.2
             }
            },
            "type": "barpolar"
           }
          ],
          "carpet": [
           {
            "aaxis": {
             "endlinecolor": "#2a3f5f",
             "gridcolor": "white",
             "linecolor": "white",
             "minorgridcolor": "white",
             "startlinecolor": "#2a3f5f"
            },
            "baxis": {
             "endlinecolor": "#2a3f5f",
             "gridcolor": "white",
             "linecolor": "white",
             "minorgridcolor": "white",
             "startlinecolor": "#2a3f5f"
            },
            "type": "carpet"
           }
          ],
          "choropleth": [
           {
            "colorbar": {
             "outlinewidth": 0,
             "ticks": ""
            },
            "type": "choropleth"
           }
          ],
          "contour": [
           {
            "colorbar": {
             "outlinewidth": 0,
             "ticks": ""
            },
            "colorscale": [
             [
              0,
              "#0d0887"
             ],
             [
              0.1111111111111111,
              "#46039f"
             ],
             [
              0.2222222222222222,
              "#7201a8"
             ],
             [
              0.3333333333333333,
              "#9c179e"
             ],
             [
              0.4444444444444444,
              "#bd3786"
             ],
             [
              0.5555555555555556,
              "#d8576b"
             ],
             [
              0.6666666666666666,
              "#ed7953"
             ],
             [
              0.7777777777777778,
              "#fb9f3a"
             ],
             [
              0.8888888888888888,
              "#fdca26"
             ],
             [
              1,
              "#f0f921"
             ]
            ],
            "type": "contour"
           }
          ],
          "contourcarpet": [
           {
            "colorbar": {
             "outlinewidth": 0,
             "ticks": ""
            },
            "type": "contourcarpet"
           }
          ],
          "heatmap": [
           {
            "colorbar": {
             "outlinewidth": 0,
             "ticks": ""
            },
            "colorscale": [
             [
              0,
              "#0d0887"
             ],
             [
              0.1111111111111111,
              "#46039f"
             ],
             [
              0.2222222222222222,
              "#7201a8"
             ],
             [
              0.3333333333333333,
              "#9c179e"
             ],
             [
              0.4444444444444444,
              "#bd3786"
             ],
             [
              0.5555555555555556,
              "#d8576b"
             ],
             [
              0.6666666666666666,
              "#ed7953"
             ],
             [
              0.7777777777777778,
              "#fb9f3a"
             ],
             [
              0.8888888888888888,
              "#fdca26"
             ],
             [
              1,
              "#f0f921"
             ]
            ],
            "type": "heatmap"
           }
          ],
          "heatmapgl": [
           {
            "colorbar": {
             "outlinewidth": 0,
             "ticks": ""
            },
            "colorscale": [
             [
              0,
              "#0d0887"
             ],
             [
              0.1111111111111111,
              "#46039f"
             ],
             [
              0.2222222222222222,
              "#7201a8"
             ],
             [
              0.3333333333333333,
              "#9c179e"
             ],
             [
              0.4444444444444444,
              "#bd3786"
             ],
             [
              0.5555555555555556,
              "#d8576b"
             ],
             [
              0.6666666666666666,
              "#ed7953"
             ],
             [
              0.7777777777777778,
              "#fb9f3a"
             ],
             [
              0.8888888888888888,
              "#fdca26"
             ],
             [
              1,
              "#f0f921"
             ]
            ],
            "type": "heatmapgl"
           }
          ],
          "histogram": [
           {
            "marker": {
             "pattern": {
              "fillmode": "overlay",
              "size": 10,
              "solidity": 0.2
             }
            },
            "type": "histogram"
           }
          ],
          "histogram2d": [
           {
            "colorbar": {
             "outlinewidth": 0,
             "ticks": ""
            },
            "colorscale": [
             [
              0,
              "#0d0887"
             ],
             [
              0.1111111111111111,
              "#46039f"
             ],
             [
              0.2222222222222222,
              "#7201a8"
             ],
             [
              0.3333333333333333,
              "#9c179e"
             ],
             [
              0.4444444444444444,
              "#bd3786"
             ],
             [
              0.5555555555555556,
              "#d8576b"
             ],
             [
              0.6666666666666666,
              "#ed7953"
             ],
             [
              0.7777777777777778,
              "#fb9f3a"
             ],
             [
              0.8888888888888888,
              "#fdca26"
             ],
             [
              1,
              "#f0f921"
             ]
            ],
            "type": "histogram2d"
           }
          ],
          "histogram2dcontour": [
           {
            "colorbar": {
             "outlinewidth": 0,
             "ticks": ""
            },
            "colorscale": [
             [
              0,
              "#0d0887"
             ],
             [
              0.1111111111111111,
              "#46039f"
             ],
             [
              0.2222222222222222,
              "#7201a8"
             ],
             [
              0.3333333333333333,
              "#9c179e"
             ],
             [
              0.4444444444444444,
              "#bd3786"
             ],
             [
              0.5555555555555556,
              "#d8576b"
             ],
             [
              0.6666666666666666,
              "#ed7953"
             ],
             [
              0.7777777777777778,
              "#fb9f3a"
             ],
             [
              0.8888888888888888,
              "#fdca26"
             ],
             [
              1,
              "#f0f921"
             ]
            ],
            "type": "histogram2dcontour"
           }
          ],
          "mesh3d": [
           {
            "colorbar": {
             "outlinewidth": 0,
             "ticks": ""
            },
            "type": "mesh3d"
           }
          ],
          "parcoords": [
           {
            "line": {
             "colorbar": {
              "outlinewidth": 0,
              "ticks": ""
             }
            },
            "type": "parcoords"
           }
          ],
          "pie": [
           {
            "automargin": true,
            "type": "pie"
           }
          ],
          "scatter": [
           {
            "marker": {
             "colorbar": {
              "outlinewidth": 0,
              "ticks": ""
             }
            },
            "type": "scatter"
           }
          ],
          "scatter3d": [
           {
            "line": {
             "colorbar": {
              "outlinewidth": 0,
              "ticks": ""
             }
            },
            "marker": {
             "colorbar": {
              "outlinewidth": 0,
              "ticks": ""
             }
            },
            "type": "scatter3d"
           }
          ],
          "scattercarpet": [
           {
            "marker": {
             "colorbar": {
              "outlinewidth": 0,
              "ticks": ""
             }
            },
            "type": "scattercarpet"
           }
          ],
          "scattergeo": [
           {
            "marker": {
             "colorbar": {
              "outlinewidth": 0,
              "ticks": ""
             }
            },
            "type": "scattergeo"
           }
          ],
          "scattergl": [
           {
            "marker": {
             "colorbar": {
              "outlinewidth": 0,
              "ticks": ""
             }
            },
            "type": "scattergl"
           }
          ],
          "scattermapbox": [
           {
            "marker": {
             "colorbar": {
              "outlinewidth": 0,
              "ticks": ""
             }
            },
            "type": "scattermapbox"
           }
          ],
          "scatterpolar": [
           {
            "marker": {
             "colorbar": {
              "outlinewidth": 0,
              "ticks": ""
             }
            },
            "type": "scatterpolar"
           }
          ],
          "scatterpolargl": [
           {
            "marker": {
             "colorbar": {
              "outlinewidth": 0,
              "ticks": ""
             }
            },
            "type": "scatterpolargl"
           }
          ],
          "scatterternary": [
           {
            "marker": {
             "colorbar": {
              "outlinewidth": 0,
              "ticks": ""
             }
            },
            "type": "scatterternary"
           }
          ],
          "surface": [
           {
            "colorbar": {
             "outlinewidth": 0,
             "ticks": ""
            },
            "colorscale": [
             [
              0,
              "#0d0887"
             ],
             [
              0.1111111111111111,
              "#46039f"
             ],
             [
              0.2222222222222222,
              "#7201a8"
             ],
             [
              0.3333333333333333,
              "#9c179e"
             ],
             [
              0.4444444444444444,
              "#bd3786"
             ],
             [
              0.5555555555555556,
              "#d8576b"
             ],
             [
              0.6666666666666666,
              "#ed7953"
             ],
             [
              0.7777777777777778,
              "#fb9f3a"
             ],
             [
              0.8888888888888888,
              "#fdca26"
             ],
             [
              1,
              "#f0f921"
             ]
            ],
            "type": "surface"
           }
          ],
          "table": [
           {
            "cells": {
             "fill": {
              "color": "#EBF0F8"
             },
             "line": {
              "color": "white"
             }
            },
            "header": {
             "fill": {
              "color": "#C8D4E3"
             },
             "line": {
              "color": "white"
             }
            },
            "type": "table"
           }
          ]
         },
         "layout": {
          "annotationdefaults": {
           "arrowcolor": "#2a3f5f",
           "arrowhead": 0,
           "arrowwidth": 1
          },
          "autotypenumbers": "strict",
          "coloraxis": {
           "colorbar": {
            "outlinewidth": 0,
            "ticks": ""
           }
          },
          "colorscale": {
           "diverging": [
            [
             0,
             "#8e0152"
            ],
            [
             0.1,
             "#c51b7d"
            ],
            [
             0.2,
             "#de77ae"
            ],
            [
             0.3,
             "#f1b6da"
            ],
            [
             0.4,
             "#fde0ef"
            ],
            [
             0.5,
             "#f7f7f7"
            ],
            [
             0.6,
             "#e6f5d0"
            ],
            [
             0.7,
             "#b8e186"
            ],
            [
             0.8,
             "#7fbc41"
            ],
            [
             0.9,
             "#4d9221"
            ],
            [
             1,
             "#276419"
            ]
           ],
           "sequential": [
            [
             0,
             "#0d0887"
            ],
            [
             0.1111111111111111,
             "#46039f"
            ],
            [
             0.2222222222222222,
             "#7201a8"
            ],
            [
             0.3333333333333333,
             "#9c179e"
            ],
            [
             0.4444444444444444,
             "#bd3786"
            ],
            [
             0.5555555555555556,
             "#d8576b"
            ],
            [
             0.6666666666666666,
             "#ed7953"
            ],
            [
             0.7777777777777778,
             "#fb9f3a"
            ],
            [
             0.8888888888888888,
             "#fdca26"
            ],
            [
             1,
             "#f0f921"
            ]
           ],
           "sequentialminus": [
            [
             0,
             "#0d0887"
            ],
            [
             0.1111111111111111,
             "#46039f"
            ],
            [
             0.2222222222222222,
             "#7201a8"
            ],
            [
             0.3333333333333333,
             "#9c179e"
            ],
            [
             0.4444444444444444,
             "#bd3786"
            ],
            [
             0.5555555555555556,
             "#d8576b"
            ],
            [
             0.6666666666666666,
             "#ed7953"
            ],
            [
             0.7777777777777778,
             "#fb9f3a"
            ],
            [
             0.8888888888888888,
             "#fdca26"
            ],
            [
             1,
             "#f0f921"
            ]
           ]
          },
          "colorway": [
           "#636efa",
           "#EF553B",
           "#00cc96",
           "#ab63fa",
           "#FFA15A",
           "#19d3f3",
           "#FF6692",
           "#B6E880",
           "#FF97FF",
           "#FECB52"
          ],
          "font": {
           "color": "#2a3f5f"
          },
          "geo": {
           "bgcolor": "white",
           "lakecolor": "white",
           "landcolor": "#E5ECF6",
           "showlakes": true,
           "showland": true,
           "subunitcolor": "white"
          },
          "hoverlabel": {
           "align": "left"
          },
          "hovermode": "closest",
          "mapbox": {
           "style": "light"
          },
          "paper_bgcolor": "white",
          "plot_bgcolor": "#E5ECF6",
          "polar": {
           "angularaxis": {
            "gridcolor": "white",
            "linecolor": "white",
            "ticks": ""
           },
           "bgcolor": "#E5ECF6",
           "radialaxis": {
            "gridcolor": "white",
            "linecolor": "white",
            "ticks": ""
           }
          },
          "scene": {
           "xaxis": {
            "backgroundcolor": "#E5ECF6",
            "gridcolor": "white",
            "gridwidth": 2,
            "linecolor": "white",
            "showbackground": true,
            "ticks": "",
            "zerolinecolor": "white"
           },
           "yaxis": {
            "backgroundcolor": "#E5ECF6",
            "gridcolor": "white",
            "gridwidth": 2,
            "linecolor": "white",
            "showbackground": true,
            "ticks": "",
            "zerolinecolor": "white"
           },
           "zaxis": {
            "backgroundcolor": "#E5ECF6",
            "gridcolor": "white",
            "gridwidth": 2,
            "linecolor": "white",
            "showbackground": true,
            "ticks": "",
            "zerolinecolor": "white"
           }
          },
          "shapedefaults": {
           "line": {
            "color": "#2a3f5f"
           }
          },
          "ternary": {
           "aaxis": {
            "gridcolor": "white",
            "linecolor": "white",
            "ticks": ""
           },
           "baxis": {
            "gridcolor": "white",
            "linecolor": "white",
            "ticks": ""
           },
           "bgcolor": "#E5ECF6",
           "caxis": {
            "gridcolor": "white",
            "linecolor": "white",
            "ticks": ""
           }
          },
          "title": {
           "x": 0.05
          },
          "xaxis": {
           "automargin": true,
           "gridcolor": "white",
           "linecolor": "white",
           "ticks": "",
           "title": {
            "standoff": 15
           },
           "zerolinecolor": "white",
           "zerolinewidth": 2
          },
          "yaxis": {
           "automargin": true,
           "gridcolor": "white",
           "linecolor": "white",
           "ticks": "",
           "title": {
            "standoff": 15
           },
           "zerolinecolor": "white",
           "zerolinewidth": 2
          }
         }
        },
        "xaxis": {
         "anchor": "y",
         "autorange": true,
         "domain": [
          0,
          1
         ],
         "range": [
          -7.5681335649488535,
          126.56813356494885
         ],
         "title": {
          "text": "Year-Month"
         },
         "type": "category"
        },
        "yaxis": {
         "anchor": "x",
         "autorange": true,
         "domain": [
          0,
          1
         ],
         "range": [
          -13992.90082644628,
          260670.90082644628
         ],
         "title": {
          "text": "Fund"
         },
         "type": "linear"
        }
       }
      },
      "image/png": "[encoded data removed]",
      "text/html": [
       "<div>                            <div id=\"e98b9fa0-24b3-4f8c-881d-f48e1a84fa7a\" class=\"plotly-graph-div\" style=\"height:525px; width:100%;\"></div>            <script type=\"text/javascript\">                require([\"plotly\"], function(Plotly) {                    window.PLOTLYENV=window.PLOTLYENV || {};                                    if (document.getElementById(\"e98b9fa0-24b3-4f8c-881d-f48e1a84fa7a\")) {                    Plotly.newPlot(                        \"e98b9fa0-24b3-4f8c-881d-f48e1a84fa7a\",                        [{\"hovertemplate\":\"Year-Month=%{x}<br>Fund=%{y}<extra></extra>\",\"legendgroup\":\"\",\"marker\":{\"color\":\"#636efa\",\"symbol\":\"circle\"},\"mode\":\"markers\",\"name\":\"\",\"orientation\":\"v\",\"showlegend\":false,\"x\":[\"200010\",\"200012\",\"200102\",\"200105\",\"200107\",\"200109\",\"200201\",\"200202\",\"200203\",\"200206\",\"200209\",\"200211\",\"200212\",\"200302\",\"200305\",\"200311\",\"200402\",\"200403\",\"200406\",\"200702\",\"200709\",\"200710\",\"200801\",\"200803\",\"200805\",\"200807\",\"200808\",\"200809\",\"200810\",\"200811\",\"200812\",\"200901\",\"200902\",\"200903\",\"200904\",\"200905\",\"200906\",\"200907\",\"200908\",\"200909\",\"200910\",\"200911\",\"200912\",\"201001\",\"201002\",\"201003\",\"201004\",\"201005\",\"201006\",\"201007\",\"201008\",\"201009\",\"201010\",\"201011\",\"201012\",\"201101\",\"201102\",\"201103\",\"201104\",\"201105\",\"201106\",\"201107\",\"201108\",\"201109\",\"201110\",\"201111\",\"201112\",\"201201\",\"201202\",\"201203\",\"201204\",\"201205\",\"201206\",\"201207\",\"201208\",\"201209\",\"201210\",\"201211\",\"201212\",\"201301\",\"201302\",\"201303\",\"201304\",\"201305\",\"201306\",\"201308\",\"201309\",\"201310\",\"201312\",\"201401\",\"201402\",\"201404\",\"201405\",\"201406\",\"201407\",\"201410\",\"201411\",\"201412\",\"201501\",\"201502\",\"201505\",\"201507\",\"201510\",\"201603\",\"201604\",\"201605\",\"201608\",\"201609\",\"201701\",\"201703\",\"201704\",\"201705\",\"201710\",\"201712\",\"201905\",\"201910\",\"201911\",\"202002\",\"202004\",\"202010\"],\"xaxis\":\"x\",\"y\":[4645,4646,4647,4648,6004,4649,9301,9305,9309,10661,4657,4658,4659,4660,4661,4662,6006,9327,4665,10000,10001,10002,10003,10004,20011,30024,30033,30042,40070,50110,30078,60183,100385,50230,80420,70420,90612,242033,151555,111287,202650,91323,162552,152625,71302,193781,235060,143339,81996,225819,102805,92610,123606,103115,82564,113630,124098,31047,134641,51830,41482,134927,72723,62373,114444,52060,20831,72940,41702,52150,62613,20879,73108,83612,10456,31374,41846,31395,10467,20937,10470,10471,62847,41918,20965,41942,20977,10490,10491,31479,20991,10497,31497,31506,21009,21013,10508,10509,21021,21025,10514,10515,21033,10518,10519,10520,10521,10522,21047,10525,10526,21055,10529,10530,10531,21065,10534,10535,10536,21075],\"yaxis\":\"y\",\"type\":\"scatter\"}],                        {\"template\":{\"data\":{\"bar\":[{\"error_x\":{\"color\":\"#2a3f5f\"},\"error_y\":{\"color\":\"#2a3f5f\"},\"marker\":{\"line\":{\"color\":\"#E5ECF6\",\"width\":0.5},\"pattern\":{\"fillmode\":\"overlay\",\"size\":10,\"solidity\":0.2}},\"type\":\"bar\"}],\"barpolar\":[{\"marker\":{\"line\":{\"color\":\"#E5ECF6\",\"width\":0.5},\"pattern\":{\"fillmode\":\"overlay\",\"size\":10,\"solidity\":0.2}},\"type\":\"barpolar\"}],\"carpet\":[{\"aaxis\":{\"endlinecolor\":\"#2a3f5f\",\"gridcolor\":\"white\",\"linecolor\":\"white\",\"minorgridcolor\":\"white\",\"startlinecolor\":\"#2a3f5f\"},\"baxis\":{\"endlinecolor\":\"#2a3f5f\",\"gridcolor\":\"white\",\"linecolor\":\"white\",\"minorgridcolor\":\"white\",\"startlinecolor\":\"#2a3f5f\"},\"type\":\"carpet\"}],\"choropleth\":[{\"colorbar\":{\"outlinewidth\":0,\"ticks\":\"\"},\"type\":\"choropleth\"}],\"contour\":[{\"colorbar\":{\"outlinewidth\":0,\"ticks\":\"\"},\"colorscale\":[[0.0,\"#0d0887\"],[0.1111111111111111,\"#46039f\"],[0.2222222222222222,\"#7201a8\"],[0.3333333333333333,\"#9c179e\"],[0.4444444444444444,\"#bd3786\"],[0.5555555555555556,\"#d8576b\"],[0.6666666666666666,\"#ed7953\"],[0.7777777777777778,\"#fb9f3a\"],[0.8888888888888888,\"#fdca26\"],[1.0,\"#f0f921\"]],\"type\":\"contour\"}],\"contourcarpet\":[{\"colorbar\":{\"outlinewidth\":0,\"ticks\":\"\"},\"type\":\"contourcarpet\"}],\"heatmap\":[{\"colorbar\":{\"outlinewidth\":0,\"ticks\":\"\"},\"colorscale\":[[0.0,\"#0d0887\"],[0.1111111111111111,\"#46039f\"],[0.2222222222222222,\"#7201a8\"],[0.3333333333333333,\"#9c179e\"],[0.4444444444444444,\"#bd3786\"],[0.5555555555555556,\"#d8576b\"],[0.6666666666666666,\"#ed7953\"],[0.7777777777777778,\"#fb9f3a\"],[0.8888888888888888,\"#fdca26\"],[1.0,\"#f0f921\"]],\"type\":\"heatmap\"}],\"heatmapgl\":[{\"colorbar\":{\"outlinewidth\":0,\"ticks\":\"\"},\"colorscale\":[[0.0,\"#0d0887\"],[0.1111111111111111,\"#46039f\"],[0.2222222222222222,\"#7201a8\"],[0.3333333333333333,\"#9c179e\"],[0.4444444444444444,\"#bd3786\"],[0.5555555555555556,\"#d8576b\"],[0.6666666666666666,\"#ed7953\"],[0.7777777777777778,\"#fb9f3a\"],[0.8888888888888888,\"#fdca26\"],[1.0,\"#f0f921\"]],\"type\":\"heatmapgl\"}],\"histogram\":[{\"marker\":{\"pattern\":{\"fillmode\":\"overlay\",\"size\":10,\"solidity\":0.2}},\"type\":\"histogram\"}],\"histogram2d\":[{\"colorbar\":{\"outlinewidth\":0,\"ticks\":\"\"},\"colorscale\":[[0.0,\"#0d0887\"],[0.1111111111111111,\"#46039f\"],[0.2222222222222222,\"#7201a8\"],[0.3333333333333333,\"#9c179e\"],[0.4444444444444444,\"#bd3786\"],[0.5555555555555556,\"#d8576b\"],[0.6666666666666666,\"#ed7953\"],[0.7777777777777778,\"#fb9f3a\"],[0.8888888888888888,\"#fdca26\"],[1.0,\"#f0f921\"]],\"type\":\"histogram2d\"}],\"histogram2dcontour\":[{\"colorbar\":{\"outlinewidth\":0,\"ticks\":\"\"},\"colorscale\":[[0.0,\"#0d0887\"],[0.1111111111111111,\"#46039f\"],[0.2222222222222222,\"#7201a8\"],[0.3333333333333333,\"#9c179e\"],[0.4444444444444444,\"#bd3786\"],[0.5555555555555556,\"#d8576b\"],[0.6666666666666666,\"#ed7953\"],[0.7777777777777778,\"#fb9f3a\"],[0.8888888888888888,\"#fdca26\"],[1.0,\"#f0f921\"]],\"type\":\"histogram2dcontour\"}],\"mesh3d\":[{\"colorbar\":{\"outlinewidth\":0,\"ticks\":\"\"},\"type\":\"mesh3d\"}],\"parcoords\":[{\"line\":{\"colorbar\":{\"outlinewidth\":0,\"ticks\":\"\"}},\"type\":\"parcoords\"}],\"pie\":[{\"automargin\":true,\"type\":\"pie\"}],\"scatter\":[{\"marker\":{\"colorbar\":{\"outlinewidth\":0,\"ticks\":\"\"}},\"type\":\"scatter\"}],\"scatter3d\":[{\"line\":{\"colorbar\":{\"outlinewidth\":0,\"ticks\":\"\"}},\"marker\":{\"colorbar\":{\"outlinewidth\":0,\"ticks\":\"\"}},\"type\":\"scatter3d\"}],\"scattercarpet\":[{\"marker\":{\"colorbar\":{\"outlinewidth\":0,\"ticks\":\"\"}},\"type\":\"scattercarpet\"}],\"scattergeo\":[{\"marker\":{\"colorbar\":{\"outlinewidth\":0,\"ticks\":\"\"}},\"type\":\"scattergeo\"}],\"scattergl\":[{\"marker\":{\"colorbar\":{\"outlinewidth\":0,\"ticks\":\"\"}},\"type\":\"scattergl\"}],\"scattermapbox\":[{\"marker\":{\"colorbar\":{\"outlinewidth\":0,\"ticks\":\"\"}},\"type\":\"scattermapbox\"}],\"scatterpolar\":[{\"marker\":{\"colorbar\":{\"outlinewidth\":0,\"ticks\":\"\"}},\"type\":\"scatterpolar\"}],\"scatterpolargl\":[{\"marker\":{\"colorbar\":{\"outlinewidth\":0,\"ticks\":\"\"}},\"type\":\"scatterpolargl\"}],\"scatterternary\":[{\"marker\":{\"colorbar\":{\"outlinewidth\":0,\"ticks\":\"\"}},\"type\":\"scatterternary\"}],\"surface\":[{\"colorbar\":{\"outlinewidth\":0,\"ticks\":\"\"},\"colorscale\":[[0.0,\"#0d0887\"],[0.1111111111111111,\"#46039f\"],[0.2222222222222222,\"#7201a8\"],[0.3333333333333333,\"#9c179e\"],[0.4444444444444444,\"#bd3786\"],[0.5555555555555556,\"#d8576b\"],[0.6666666666666666,\"#ed7953\"],[0.7777777777777778,\"#fb9f3a\"],[0.8888888888888888,\"#fdca26\"],[1.0,\"#f0f921\"]],\"type\":\"surface\"}],\"table\":[{\"cells\":{\"fill\":{\"color\":\"#EBF0F8\"},\"line\":{\"color\":\"white\"}},\"header\":{\"fill\":{\"color\":\"#C8D4E3\"},\"line\":{\"color\":\"white\"}},\"type\":\"table\"}]},\"layout\":{\"annotationdefaults\":{\"arrowcolor\":\"#2a3f5f\",\"arrowhead\":0,\"arrowwidth\":1},\"autotypenumbers\":\"strict\",\"coloraxis\":{\"colorbar\":{\"outlinewidth\":0,\"ticks\":\"\"}},\"colorscale\":{\"diverging\":[[0,\"#8e0152\"],[0.1,\"#c51b7d\"],[0.2,\"#de77ae\"],[0.3,\"#f1b6da\"],[0.4,\"#fde0ef\"],[0.5,\"#f7f7f7\"],[0.6,\"#e6f5d0\"],[0.7,\"#b8e186\"],[0.8,\"#7fbc41\"],[0.9,\"#4d9221\"],[1,\"#276419\"]],\"sequential\":[[0.0,\"#0d0887\"],[0.1111111111111111,\"#46039f\"],[0.2222222222222222,\"#7201a8\"],[0.3333333333333333,\"#9c179e\"],[0.4444444444444444,\"#bd3786\"],[0.5555555555555556,\"#d8576b\"],[0.6666666666666666,\"#ed7953\"],[0.7777777777777778,\"#fb9f3a\"],[0.8888888888888888,\"#fdca26\"],[1.0,\"#f0f921\"]],\"sequentialminus\":[[0.0,\"#0d0887\"],[0.1111111111111111,\"#46039f\"],[0.2222222222222222,\"#7201a8\"],[0.3333333333333333,\"#9c179e\"],[0.4444444444444444,\"#bd3786\"],[0.5555555555555556,\"#d8576b\"],[0.6666666666666666,\"#ed7953\"],[0.7777777777777778,\"#fb9f3a\"],[0.8888888888888888,\"#fdca26\"],[1.0,\"#f0f921\"]]},\"colorway\":[\"#636efa\",\"#EF553B\",\"#00cc96\",\"#ab63fa\",\"#FFA15A\",\"#19d3f3\",\"#FF6692\",\"#B6E880\",\"#FF97FF\",\"#FECB52\"],\"font\":{\"color\":\"#2a3f5f\"},\"geo\":{\"bgcolor\":\"white\",\"lakecolor\":\"white\",\"landcolor\":\"#E5ECF6\",\"showlakes\":true,\"showland\":true,\"subunitcolor\":\"white\"},\"hoverlabel\":{\"align\":\"left\"},\"hovermode\":\"closest\",\"mapbox\":{\"style\":\"light\"},\"paper_bgcolor\":\"white\",\"plot_bgcolor\":\"#E5ECF6\",\"polar\":{\"angularaxis\":{\"gridcolor\":\"white\",\"linecolor\":\"white\",\"ticks\":\"\"},\"bgcolor\":\"#E5ECF6\",\"radialaxis\":{\"gridcolor\":\"white\",\"linecolor\":\"white\",\"ticks\":\"\"}},\"scene\":{\"xaxis\":{\"backgroundcolor\":\"#E5ECF6\",\"gridcolor\":\"white\",\"gridwidth\":2,\"linecolor\":\"white\",\"showbackground\":true,\"ticks\":\"\",\"zerolinecolor\":\"white\"},\"yaxis\":{\"backgroundcolor\":\"#E5ECF6\",\"gridcolor\":\"white\",\"gridwidth\":2,\"linecolor\":\"white\",\"showbackground\":true,\"ticks\":\"\",\"zerolinecolor\":\"white\"},\"zaxis\":{\"backgroundcolor\":\"#E5ECF6\",\"gridcolor\":\"white\",\"gridwidth\":2,\"linecolor\":\"white\",\"showbackground\":true,\"ticks\":\"\",\"zerolinecolor\":\"white\"}},\"shapedefaults\":{\"line\":{\"color\":\"#2a3f5f\"}},\"ternary\":{\"aaxis\":{\"gridcolor\":\"white\",\"linecolor\":\"white\",\"ticks\":\"\"},\"baxis\":{\"gridcolor\":\"white\",\"linecolor\":\"white\",\"ticks\":\"\"},\"bgcolor\":\"#E5ECF6\",\"caxis\":{\"gridcolor\":\"white\",\"linecolor\":\"white\",\"ticks\":\"\"}},\"title\":{\"x\":0.05},\"xaxis\":{\"automargin\":true,\"gridcolor\":\"white\",\"linecolor\":\"white\",\"ticks\":\"\",\"title\":{\"standoff\":15},\"zerolinecolor\":\"white\",\"zerolinewidth\":2},\"yaxis\":{\"automargin\":true,\"gridcolor\":\"white\",\"linecolor\":\"white\",\"ticks\":\"\",\"title\":{\"standoff\":15},\"zerolinecolor\":\"white\",\"zerolinewidth\":2}}},\"xaxis\":{\"anchor\":\"y\",\"domain\":[0.0,1.0],\"title\":{\"text\":\"Year-Month\"}},\"yaxis\":{\"anchor\":\"x\",\"domain\":[0.0,1.0],\"title\":{\"text\":\"Fund\"}},\"legend\":{\"tracegroupgap\":0},\"margin\":{\"t\":60}},                        {\"responsive\": true}                    ).then(function(){\n",
       "                            \n",
       "var gd = document.getElementById('e98b9fa0-24b3-4f8c-881d-f48e1a84fa7a');\n",
       "var x = new MutationObserver(function (mutations, observer) {{\n",
       "        var display = window.getComputedStyle(gd).display;\n",
       "        if (!display || display === 'none') {{\n",
       "            console.log([gd, 'removed!']);\n",
       "            Plotly.purge(gd);\n",
       "            observer.disconnect();\n",
       "        }}\n",
       "}});\n",
       "\n",
       "// Listen for the removal of the full notebook cells\n",
       "var notebookContainer = gd.closest('#notebook-container');\n",
       "if (notebookContainer) {{\n",
       "    x.observe(notebookContainer, {childList: true});\n",
       "}}\n",
       "\n",
       "// Listen for the clearing of the current output cell\n",
       "var outputEl = gd.closest('.output');\n",
       "if (outputEl) {{\n",
       "    x.observe(outputEl, {childList: true});\n",
       "}}\n",
       "\n",
       "                        })                };                });            </script>        </div>"
      ]
     },
     "metadata": {},
     "output_type": "display_data"
    }
   ],
   "source": [
    "DateFund = df.groupby('Year-Month').sum()\n",
    "px.scatter(data_frame = DateFund, x=DateFund.index, y='Fund')"
   ]
  },
  {
   "cell_type": "code",
   "execution_count": null,
   "id": "19537bf0-dcb8-48b6-9e3a-51183d8d7af5",
   "metadata": {},
   "outputs": [],
   "source": []
  }
 ],
 "metadata": {
  "kernelspec": {
   "display_name": "Python 3 (ipykernel)",
   "language": "python",
   "name": "python3"
  },
  "language_info": {
   "codemirror_mode": {
    "name": "ipython",
    "version": 3
   },
   "file_extension": ".py",
   "mimetype": "text/x-python",
   "name": "python",
   "nbconvert_exporter": "python",
   "pygments_lexer": "ipython3",
   "version": "3.9.12"
  }
 },
 "nbformat": 4,
 "nbformat_minor": 5
}
