{
 "cells": [
  {
   "cell_type": "code",
   "execution_count": 1,
   "id": "c6897714-cf29-4aea-8196-a3e774bd558d",
   "metadata": {},
   "outputs": [],
   "source": [
    "a1 = '''A\t.-\tN\t-.\n",
    "B\t-...\tO\t---\n",
    "C\t-.-.\tP\t.--.\n",
    "D\t-..\tQ\t--.-\n",
    "E\t.\tR\t.-.\n",
    "F\t..-.\tS\t...\n",
    "G\t--.\tT\t-\n",
    "H\t....\tU\t..-\n",
    "I\t..\tV\t...-\n",
    "J\t.---\tW\t.--\n",
    "K\t-.-\tX\t-..-\n",
    "L\t.-..\tY\t-.--\n",
    "M\t--\tZ\t--..'''"
   ]
  },
  {
   "cell_type": "code",
   "execution_count": 2,
   "id": "c76dc67b-5bed-4edc-9eb8-9808a2f6cbfd",
   "metadata": {},
   "outputs": [],
   "source": [
    "mos_list = a1.split()"
   ]
  },
  {
   "cell_type": "code",
   "execution_count": 3,
   "id": "450b3a7d-1fa7-43ba-9df9-06b875a63662",
   "metadata": {},
   "outputs": [],
   "source": [
    "alpha = []\n",
    "mos = []\n",
    "\n",
    "for i in mos_list:\n",
    "    if mos_list.index(i) % 2 == 0:\n",
    "        alpha.append(i)\n",
    "    else:\n",
    "        mos.append(i)"
   ]
  },
  {
   "cell_type": "code",
   "execution_count": 4,
   "id": "6c2c3c1a-aa04-475f-bd62-abb872e77a4a",
   "metadata": {},
   "outputs": [],
   "source": [
    "mos_dict = {}\n",
    "for i in range(len(alpha)): #range(0,26)\n",
    "    mos_dict[mos[i]] = alpha[i]\n",
    "mos_dict[''] = ' '"
   ]
  },
  {
   "cell_type": "code",
   "execution_count": null,
   "id": "6c650d2c-d0e6-4906-aba9-9a06846742d6",
   "metadata": {},
   "outputs": [
    {
     "name": "stdin",
     "output_type": "stream",
     "text": [
      "모스 부호를 입력하세요. .... .  ... .-.. . . .--. ...  . .- .-. .-.. -.--\n"
     ]
    },
    {
     "name": "stdout",
     "output_type": "stream",
     "text": [
      "입력값을 다시 확인해주세요.\n",
      "입력값을 다시 확인해주세요.\n",
      "입력값을 다시 확인해주세요.\n",
      "입력값을 다시 확인해주세요.\n",
      "입력값을 다시 확인해주세요.\n",
      "입력값을 다시 확인해주세요.\n",
      "입력값을 다시 확인해주세요.\n",
      "입력값을 다시 확인해주세요.\n",
      "입력값을 다시 확인해주세요.\n",
      "입력값을 다시 확인해주세요.\n",
      "입력값을 다시 확인해주세요.\n",
      "입력값을 다시 확인해주세요.\n",
      "입력값을 다시 확인해주세요.\n",
      "입력값을 다시 확인해주세요.\n",
      "입력값을 다시 확인해주세요.\n"
     ]
    }
   ],
   "source": [
    "while True:\n",
    "    mos_sentence = input('모스 부호를 입력하세요.')\n",
    "    mos_sentence_list = mos_sentence.split(' ')\n",
    "    \n",
    "    for i in mos_sentence_list:    \n",
    "        if i in mos_sentence_list != True:\n",
    "            print('입력값을 다시 확인해주세요.')\n",
    "            \n",
    "        else:\n",
    "            print(mos_dict[i], end='')\n",
    "                \n",
    "            break"
   ]
  },
  {
   "cell_type": "code",
   "execution_count": null,
   "id": "c149ec8a-3468-418e-b841-2a99eff939da",
   "metadata": {},
   "outputs": [],
   "source": []
  }
 ],
 "metadata": {
  "kernelspec": {
   "display_name": "Python 3 (ipykernel)",
   "language": "python",
   "name": "python3"
  },
  "language_info": {
   "codemirror_mode": {
    "name": "ipython",
    "version": 3
   },
   "file_extension": ".py",
   "mimetype": "text/x-python",
   "name": "python",
   "nbconvert_exporter": "python",
   "pygments_lexer": "ipython3",
   "version": "3.9.12"
  }
 },
 "nbformat": 4,
 "nbformat_minor": 5
}
