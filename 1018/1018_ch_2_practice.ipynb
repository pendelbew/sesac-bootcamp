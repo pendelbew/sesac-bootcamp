{
 "cells": [
  {
   "cell_type": "markdown",
   "id": "9da5c101-962a-46b6-b007-8a1495e57fea",
   "metadata": {},
   "source": [
    "Q1. 홍길동 씨의 과목별 점수는 다음과 같다. 홍길동 씨의 평균 점수를 구해 보자."
   ]
  },
  {
   "cell_type": "code",
   "execution_count": 4,
   "id": "587bafcc-81ee-46b8-9f70-5fc3e6fce4ed",
   "metadata": {},
   "outputs": [],
   "source": [
    "score = [80, 75, 55]"
   ]
  },
  {
   "cell_type": "code",
   "execution_count": 6,
   "id": "ad6c5a91-8f02-4cc4-949e-06acf09ef366",
   "metadata": {},
   "outputs": [
    {
     "data": {
      "text/plain": [
       "70.0"
      ]
     },
     "execution_count": 6,
     "metadata": {},
     "output_type": "execute_result"
    }
   ],
   "source": [
    "sum(score) / len(score)"
   ]
  },
  {
   "cell_type": "markdown",
   "id": "5308c7d7-f5eb-4cad-a995-585d27e76b93",
   "metadata": {},
   "source": [
    "Q2. 자연수 13이 홀수인지 짝수인지 판별할 수 있는 방법에 대해 말해 보자."
   ]
  },
  {
   "cell_type": "code",
   "execution_count": 8,
   "id": "bd5530f2-c453-4020-93ae-1b5996ef49ee",
   "metadata": {},
   "outputs": [
    {
     "data": {
      "text/plain": [
       "1"
      ]
     },
     "execution_count": 8,
     "metadata": {},
     "output_type": "execute_result"
    }
   ],
   "source": [
    "13%2"
   ]
  },
  {
   "cell_type": "code",
   "execution_count": 9,
   "id": "2a8fcd41-b130-46bd-b1d0-4ea8a34e8393",
   "metadata": {},
   "outputs": [],
   "source": [
    "# 2로 나눈 수의 나머지가 1이면 홀수"
   ]
  },
  {
   "cell_type": "markdown",
   "id": "7217e91e-d28c-4034-bb8f-96cc814d5470",
   "metadata": {},
   "source": [
    "Q3. 홍길동 씨의 주민등록번호는 881120-1068234이다. 홍길동 씨의 주민등록번호를 연월일(YYYYMMDD) 부분과 그 뒤의 숫자 부분으로 나누어 출력해 보자."
   ]
  },
  {
   "cell_type": "code",
   "execution_count": 21,
   "id": "2e58e83a-d32d-4d70-a02b-f0ac76c5e008",
   "metadata": {},
   "outputs": [
    {
     "data": {
      "text/plain": [
       "'881120'"
      ]
     },
     "execution_count": 21,
     "metadata": {},
     "output_type": "execute_result"
    }
   ],
   "source": [
    "pin[:6]"
   ]
  },
  {
   "cell_type": "code",
   "execution_count": 22,
   "id": "b5fb75e7-09bc-42e4-9121-bfe11f6642c4",
   "metadata": {},
   "outputs": [
    {
     "data": {
      "text/plain": [
       "'1068234'"
      ]
     },
     "execution_count": 22,
     "metadata": {},
     "output_type": "execute_result"
    }
   ],
   "source": [
    "pin[7:]"
   ]
  },
  {
   "cell_type": "markdown",
   "id": "42445f4b-80a3-49a7-899f-bb95eab2d75e",
   "metadata": {},
   "source": [
    "Q4. 주민등록번호 뒷자리의 맨 첫 번째 숫자는 성별을 나타낸다. 주민등록번호에서 성별을 나타내는 숫자를 출력해 보자."
   ]
  },
  {
   "cell_type": "code",
   "execution_count": 10,
   "id": "98588c83-ad85-4b85-9b60-1defd7c1ab01",
   "metadata": {},
   "outputs": [],
   "source": [
    "pin = '881120-1068234'"
   ]
  },
  {
   "cell_type": "code",
   "execution_count": 15,
   "id": "c8fabbf6-8fa3-4bb9-b943-576196176c56",
   "metadata": {},
   "outputs": [
    {
     "data": {
      "text/plain": [
       "6"
      ]
     },
     "execution_count": 15,
     "metadata": {},
     "output_type": "execute_result"
    }
   ],
   "source": [
    "pin.find('-')"
   ]
  },
  {
   "cell_type": "code",
   "execution_count": 16,
   "id": "fb556080-0465-4f4d-b5b3-0b815574374b",
   "metadata": {},
   "outputs": [
    {
     "data": {
      "text/plain": [
       "'1'"
      ]
     },
     "execution_count": 16,
     "metadata": {},
     "output_type": "execute_result"
    }
   ],
   "source": [
    "pin[pin.find('-')+1]"
   ]
  },
  {
   "cell_type": "markdown",
   "id": "ba6164d2-9e75-4f0b-8adf-9b9ca5d8cc33",
   "metadata": {},
   "source": [
    "Q5. 다음과 같은 문자열 a:b:c:d가 있다. 문자열의 replace 함수를 사용하여 a#b#c#d로 바꿔서 출력해 보자."
   ]
  },
  {
   "cell_type": "code",
   "execution_count": 28,
   "id": "5de9b748-aa77-4adc-8b7b-c88c5a87dee1",
   "metadata": {},
   "outputs": [],
   "source": [
    "a = 'a:b:c:d'"
   ]
  },
  {
   "cell_type": "code",
   "execution_count": 30,
   "id": "9b4deb0d-823b-47b0-ab86-c1885fe8a5e0",
   "metadata": {},
   "outputs": [
    {
     "data": {
      "text/plain": [
       "'a#b#c#d'"
      ]
     },
     "execution_count": 30,
     "metadata": {},
     "output_type": "execute_result"
    }
   ],
   "source": [
    "a.replace(':', '#')"
   ]
  },
  {
   "cell_type": "markdown",
   "id": "bc6122de-9c16-4d97-9355-84a79b9bb639",
   "metadata": {},
   "source": [
    "Q6. [1, 3, 5, 4, 2] 리스트를 [5, 4, 3, 2, 1]로 만들어 보자."
   ]
  },
  {
   "cell_type": "code",
   "execution_count": 42,
   "id": "890fe614-58eb-47d7-8534-822b4932a7ed",
   "metadata": {},
   "outputs": [],
   "source": [
    "l1 = [1, 3, 5, 4, 2]"
   ]
  },
  {
   "cell_type": "code",
   "execution_count": 45,
   "id": "c242adf1-5419-43a7-b069-216e1b82de23",
   "metadata": {},
   "outputs": [],
   "source": [
    "l1.sort()"
   ]
  },
  {
   "cell_type": "code",
   "execution_count": 46,
   "id": "80a4614b-e49f-496a-a9df-f62b3f7b0fc2",
   "metadata": {},
   "outputs": [
    {
     "data": {
      "text/plain": [
       "[1, 2, 3, 4, 5]"
      ]
     },
     "execution_count": 46,
     "metadata": {},
     "output_type": "execute_result"
    }
   ],
   "source": [
    "l1"
   ]
  },
  {
   "cell_type": "code",
   "execution_count": 47,
   "id": "1fef6911-3d11-4419-8481-aeea5e4c16f4",
   "metadata": {},
   "outputs": [],
   "source": [
    "l1.sort(reverse=True)"
   ]
  },
  {
   "cell_type": "code",
   "execution_count": 48,
   "id": "8db2309e-a9fd-4119-b8f6-248139925ad4",
   "metadata": {},
   "outputs": [
    {
     "data": {
      "text/plain": [
       "[5, 4, 3, 2, 1]"
      ]
     },
     "execution_count": 48,
     "metadata": {},
     "output_type": "execute_result"
    }
   ],
   "source": [
    "l1"
   ]
  },
  {
   "cell_type": "markdown",
   "id": "07aa0483-017c-4013-9d1c-b4e989fca335",
   "metadata": {},
   "source": [
    "Q7. ['Life', 'is', 'too', 'short'] 리스트를 Life is too short 문자열로 만들어 출력해 보자."
   ]
  },
  {
   "cell_type": "code",
   "execution_count": 2,
   "id": "d3d77151-1993-48f7-a3ff-092a3a60e640",
   "metadata": {},
   "outputs": [
    {
     "data": {
      "text/plain": [
       "'Life is too short'"
      ]
     },
     "execution_count": 2,
     "metadata": {},
     "output_type": "execute_result"
    }
   ],
   "source": [
    "l2 = ['Life', 'is', 'too', 'short']\n",
    "' '.join(l2)"
   ]
  },
  {
   "cell_type": "markdown",
   "id": "8bc3f887-ef2c-4760-b088-911e8c726f82",
   "metadata": {},
   "source": [
    "Q8. (1,2,3) 튜플에 값 4를 추가하여 (1,2,3,4)를 만들어 출력해 보자."
   ]
  },
  {
   "cell_type": "code",
   "execution_count": 11,
   "id": "580e87f2-9e14-4d52-8e57-8f3fecbfcf3b",
   "metadata": {},
   "outputs": [],
   "source": [
    "tuple1 = (1, 2, 3)\n",
    "tuple2 = (4, ) # 뒤에 콤마를 붙이지 않으면 상수로 취급한다? "
   ]
  },
  {
   "cell_type": "code",
   "execution_count": 12,
   "id": "3352c63e-def8-49c9-8d84-fd63fb5aeadc",
   "metadata": {},
   "outputs": [
    {
     "data": {
      "text/plain": [
       "(1, 2, 3, 4)"
      ]
     },
     "execution_count": 12,
     "metadata": {},
     "output_type": "execute_result"
    }
   ],
   "source": [
    "tuple1 + tuple2"
   ]
  },
  {
   "cell_type": "markdown",
   "id": "43d6b795-3866-46a8-a2f9-8dcbf3d1fd8a",
   "metadata": {},
   "source": [
    "Q10 딕셔너리 a에서 'B'에 해당되는 값을 추출해 보자."
   ]
  },
  {
   "cell_type": "code",
   "execution_count": 13,
   "id": "e818c5fc-0864-4944-8b4c-ae238ac9cfa5",
   "metadata": {},
   "outputs": [],
   "source": [
    "a = {'A':90, 'B':80, 'C':70}"
   ]
  },
  {
   "cell_type": "code",
   "execution_count": 14,
   "id": "9e67fe44-5712-4ea1-bef1-f7f01db6e699",
   "metadata": {},
   "outputs": [
    {
     "name": "stdout",
     "output_type": "stream",
     "text": [
      "{'A': 90, 'C': 70}\n",
      "80\n"
     ]
    }
   ],
   "source": [
    "result = a.pop('B')\n",
    "print(a)\n",
    "print(result)"
   ]
  },
  {
   "cell_type": "markdown",
   "id": "5ce9df9e-b5e5-455e-9240-24d05a2e1f31",
   "metadata": {},
   "source": [
    "Q11. a 리스트에서 중복 숫자를 제거해 보자."
   ]
  },
  {
   "cell_type": "code",
   "execution_count": 15,
   "id": "a247555d-65ed-42a7-ad00-fdbb8665a0dd",
   "metadata": {},
   "outputs": [],
   "source": [
    "a = [1, 1, 1, 2, 2, 3, 3, 3, 4, 4, 5]"
   ]
  },
  {
   "cell_type": "code",
   "execution_count": 16,
   "id": "b4844e46-23d7-4c7b-9ac7-7682d34830a7",
   "metadata": {},
   "outputs": [
    {
     "data": {
      "text/plain": [
       "{1, 2, 3, 4, 5}"
      ]
     },
     "execution_count": 16,
     "metadata": {},
     "output_type": "execute_result"
    }
   ],
   "source": [
    "set(a)"
   ]
  },
  {
   "cell_type": "markdown",
   "id": "c0b6a690-261b-4430-9b5e-aafb44442dbf",
   "metadata": {},
   "source": [
    "Q12. 파이썬은 다음처럼 동일한 값에 여러 개의 변수를 선언할 수 있다. 다음과 같이 a, b 변수를 선언한 후 a의 두 번째 요솟값을 변경하면 b 값은 어떻게 될까? 그리고 이런 결과가 오는 이유에 대해 설명해 보자."
   ]
  },
  {
   "cell_type": "code",
   "execution_count": 31,
   "id": "a4b7fb23-3e92-42ea-9fab-9a4a741fe226",
   "metadata": {},
   "outputs": [],
   "source": [
    "a = b = [1, 2, 3]"
   ]
  },
  {
   "cell_type": "code",
   "execution_count": 32,
   "id": "7049487c-356a-421e-8b63-147ccce00838",
   "metadata": {},
   "outputs": [
    {
     "data": {
      "text/plain": [
       "[1, 2, 3]"
      ]
     },
     "execution_count": 32,
     "metadata": {},
     "output_type": "execute_result"
    }
   ],
   "source": [
    "a"
   ]
  },
  {
   "cell_type": "code",
   "execution_count": 33,
   "id": "8fa62156-aeea-4d1f-815a-fcc295986597",
   "metadata": {},
   "outputs": [
    {
     "data": {
      "text/plain": [
       "[1, 2, 3]"
      ]
     },
     "execution_count": 33,
     "metadata": {},
     "output_type": "execute_result"
    }
   ],
   "source": [
    "b"
   ]
  },
  {
   "cell_type": "code",
   "execution_count": 34,
   "id": "39b24506-e38f-4f3b-8418-43a8d5234a28",
   "metadata": {},
   "outputs": [],
   "source": [
    "a[1] = 4"
   ]
  },
  {
   "cell_type": "code",
   "execution_count": 35,
   "id": "5db5262f-eed9-4568-8f72-0914db2ac3b0",
   "metadata": {},
   "outputs": [
    {
     "data": {
      "text/plain": [
       "[1, 4, 3]"
      ]
     },
     "execution_count": 35,
     "metadata": {},
     "output_type": "execute_result"
    }
   ],
   "source": [
    "a"
   ]
  },
  {
   "cell_type": "code",
   "execution_count": 36,
   "id": "bb02dd61-eb2a-4ebb-b1c5-ebbe91977dae",
   "metadata": {},
   "outputs": [
    {
     "data": {
      "text/plain": [
       "[1, 4, 3]"
      ]
     },
     "execution_count": 36,
     "metadata": {},
     "output_type": "execute_result"
    }
   ],
   "source": [
    "b"
   ]
  },
  {
   "cell_type": "code",
   "execution_count": 37,
   "id": "0f75e5a3-4be1-4d62-8b68-7dc0e50a9134",
   "metadata": {},
   "outputs": [],
   "source": [
    "# copy를 써서 값만 복사할 수 있음."
   ]
  },
  {
   "cell_type": "code",
   "execution_count": 38,
   "id": "c2a0a190-2c0c-4db6-a2bc-322eab64d986",
   "metadata": {},
   "outputs": [],
   "source": [
    "c = a.copy()"
   ]
  },
  {
   "cell_type": "code",
   "execution_count": 39,
   "id": "e003ad14-70fe-4b0c-93f5-83ea21c3e973",
   "metadata": {},
   "outputs": [],
   "source": [
    "a[1] = 8"
   ]
  },
  {
   "cell_type": "code",
   "execution_count": 40,
   "id": "66bf5673-f98b-437c-aa24-3d6da0a23e6b",
   "metadata": {},
   "outputs": [
    {
     "data": {
      "text/plain": [
       "[1, 8, 3]"
      ]
     },
     "execution_count": 40,
     "metadata": {},
     "output_type": "execute_result"
    }
   ],
   "source": [
    "a"
   ]
  },
  {
   "cell_type": "code",
   "execution_count": 41,
   "id": "3dc1bae6-d540-4b4b-9515-3edaea4c1863",
   "metadata": {},
   "outputs": [
    {
     "data": {
      "text/plain": [
       "[1, 4, 3]"
      ]
     },
     "execution_count": 41,
     "metadata": {},
     "output_type": "execute_result"
    }
   ],
   "source": [
    "c"
   ]
  },
  {
   "cell_type": "code",
   "execution_count": null,
   "id": "91b54b61-ec3e-4a99-a6b3-08cea03b589e",
   "metadata": {},
   "outputs": [],
   "source": []
  }
 ],
 "metadata": {
  "kernelspec": {
   "display_name": "Python 3 (ipykernel)",
   "language": "python",
   "name": "python3"
  },
  "language_info": {
   "codemirror_mode": {
    "name": "ipython",
    "version": 3
   },
   "file_extension": ".py",
   "mimetype": "text/x-python",
   "name": "python",
   "nbconvert_exporter": "python",
   "pygments_lexer": "ipython3",
   "version": "3.9.12"
  }
 },
 "nbformat": 4,
 "nbformat_minor": 5
}
