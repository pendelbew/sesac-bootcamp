{
 "cells": [
  {
   "cell_type": "markdown",
   "id": "331acd53-ce45-4d6d-a989-3d3bd1611b72",
   "metadata": {
    "tags": []
   },
   "source": [
    "# 튜플(tuple)"
   ]
  },
  {
   "cell_type": "code",
   "execution_count": 1,
   "id": "df9bf57b-8c50-44f1-98b9-f4cfed369d22",
   "metadata": {},
   "outputs": [],
   "source": [
    "t = tuple()"
   ]
  },
  {
   "cell_type": "code",
   "execution_count": 2,
   "id": "bb5c1864-b9eb-46f7-821c-18222f503409",
   "metadata": {},
   "outputs": [
    {
     "data": {
      "text/plain": [
       "tuple"
      ]
     },
     "execution_count": 2,
     "metadata": {},
     "output_type": "execute_result"
    }
   ],
   "source": [
    "type(t)"
   ]
  },
  {
   "cell_type": "code",
   "execution_count": 4,
   "id": "df410068-cf7c-4af6-9fbf-342bdf2829e0",
   "metadata": {},
   "outputs": [
    {
     "data": {
      "text/plain": [
       "tuple"
      ]
     },
     "execution_count": 4,
     "metadata": {},
     "output_type": "execute_result"
    }
   ],
   "source": [
    "t2 = ()\n",
    "type(t2)"
   ]
  },
  {
   "cell_type": "code",
   "execution_count": 5,
   "id": "04c2fb05-928f-421f-a5e0-f9be62b725af",
   "metadata": {},
   "outputs": [],
   "source": [
    "# 튜플은 생성 후 값을 변경할 수 없다."
   ]
  },
  {
   "cell_type": "code",
   "execution_count": 1,
   "id": "847fd892-0390-49a6-8fe1-aa50d67d3c03",
   "metadata": {},
   "outputs": [],
   "source": [
    "tuple1 = (1, 2, 3, 4, 5)"
   ]
  },
  {
   "cell_type": "code",
   "execution_count": 7,
   "id": "b2867ef9-51f2-4622-85e8-f8369d0440ef",
   "metadata": {},
   "outputs": [
    {
     "ename": "AttributeError",
     "evalue": "'tuple' object has no attribute 'remove'",
     "output_type": "error",
     "traceback": [
      "\u001b[1;31m---------------------------------------------------------------------------\u001b[0m",
      "\u001b[1;31mAttributeError\u001b[0m                            Traceback (most recent call last)",
      "Input \u001b[1;32mIn [7]\u001b[0m, in \u001b[0;36m<cell line: 1>\u001b[1;34m()\u001b[0m\n\u001b[1;32m----> 1\u001b[0m \u001b[43mtuple1\u001b[49m\u001b[38;5;241;43m.\u001b[39;49m\u001b[43mremove\u001b[49m(\u001b[38;5;241m1\u001b[39m)\n",
      "\u001b[1;31mAttributeError\u001b[0m: 'tuple' object has no attribute 'remove'"
     ]
    }
   ],
   "source": [
    "tuple1.remove(1)"
   ]
  },
  {
   "cell_type": "code",
   "execution_count": null,
   "id": "bdfbe685-96a0-41ee-8795-472a10225c46",
   "metadata": {},
   "outputs": [
    {
     "ename": "NameError",
     "evalue": "name 'tuple1' is not defined",
     "output_type": "error",
     "traceback": [
      "\u001b[1;31m---------------------------------------------------------------------------\u001b[0m",
      "\u001b[1;31mNameError\u001b[0m                                 Traceback (most recent call last)",
      "Input \u001b[1;32mIn [1]\u001b[0m, in \u001b[0;36m<cell line: 1>\u001b[1;34m()\u001b[0m\n\u001b[1;32m----> 1\u001b[0m \u001b[43mtuple1\u001b[49m[\u001b[38;5;241m0\u001b[39m] \u001b[38;5;241m=\u001b[39m \u001b[38;5;241m100\u001b[39m\n",
      "\u001b[1;31mNameError\u001b[0m: name 'tuple1' is not defined"
     ]
    }
   ],
   "source": [
    "tuple1[0] = 100"
   ]
  },
  {
   "cell_type": "code",
   "execution_count": 2,
   "id": "5c036a65-d36a-4e99-8246-fa28b3991307",
   "metadata": {},
   "outputs": [],
   "source": [
    "tuple2 = (6, 7, 8, 9, 10)"
   ]
  },
  {
   "cell_type": "code",
   "execution_count": 3,
   "id": "eb599e9f-5bdf-47c5-99b7-d99bf1a7c663",
   "metadata": {},
   "outputs": [
    {
     "data": {
      "text/plain": [
       "(1, 2, 3, 4, 5, 6, 7, 8, 9, 10)"
      ]
     },
     "execution_count": 3,
     "metadata": {},
     "output_type": "execute_result"
    }
   ],
   "source": [
    "tuple1 + tuple2"
   ]
  },
  {
   "cell_type": "code",
   "execution_count": 11,
   "id": "7d443223-04b2-4217-b1f8-de7fb64fb5e3",
   "metadata": {},
   "outputs": [],
   "source": [
    "# 다른 기능은 동일하나 수정만 안됨!"
   ]
  },
  {
   "cell_type": "markdown",
   "id": "5b4d7460-1dc0-443e-8809-73209f1058fd",
   "metadata": {
    "tags": []
   },
   "source": [
    "# 딕셔너리(dict)"
   ]
  },
  {
   "cell_type": "code",
   "execution_count": 12,
   "id": "1eaa493c-aebd-471b-aeaa-8dd69c1ea8cb",
   "metadata": {},
   "outputs": [
    {
     "data": {
      "text/plain": [
       "dict"
      ]
     },
     "execution_count": 12,
     "metadata": {},
     "output_type": "execute_result"
    }
   ],
   "source": [
    "dict1 = dict()\n",
    "type(dict1)"
   ]
  },
  {
   "cell_type": "code",
   "execution_count": 13,
   "id": "ca338cee-a880-4309-85fe-b3356e18efb4",
   "metadata": {},
   "outputs": [],
   "source": [
    "# [] 리스트 {} 딕셔너리 () 튜플"
   ]
  },
  {
   "cell_type": "code",
   "execution_count": 15,
   "id": "f909b111-54e2-45d6-8940-46f0cbee1325",
   "metadata": {},
   "outputs": [
    {
     "data": {
      "text/plain": [
       "dict"
      ]
     },
     "execution_count": 15,
     "metadata": {},
     "output_type": "execute_result"
    }
   ],
   "source": [
    "dict2 = {}\n",
    "type(dict2)"
   ]
  },
  {
   "cell_type": "code",
   "execution_count": 22,
   "id": "bb63a76a-5eb9-4aec-9dfb-13397afc63ec",
   "metadata": {},
   "outputs": [],
   "source": [
    "people = { 'name':'wonkyung',\n",
    "          'age':20,\n",
    "          'weight':'66kg', \n",
    "          'score':['A+', 'A', 'A']}"
   ]
  },
  {
   "cell_type": "code",
   "execution_count": 17,
   "id": "df148ef8-4239-44b3-95ee-5804dd67edd1",
   "metadata": {},
   "outputs": [
    {
     "data": {
      "text/plain": [
       "'wonkyung'"
      ]
     },
     "execution_count": 17,
     "metadata": {},
     "output_type": "execute_result"
    }
   ],
   "source": [
    "people['name']"
   ]
  },
  {
   "cell_type": "code",
   "execution_count": 19,
   "id": "c9b0add9-704d-4ee3-b201-58eaf7b2fa4d",
   "metadata": {},
   "outputs": [],
   "source": [
    "# 0, 1, 2 개념 없이 key를 가지고 불러온다\n",
    "# 리스트도 딕셔너리의 데이터로 추가할 수 있음"
   ]
  },
  {
   "cell_type": "code",
   "execution_count": 23,
   "id": "9669c0cb-d13e-40ad-a917-4a19626cb156",
   "metadata": {},
   "outputs": [
    {
     "data": {
      "text/plain": [
       "['A+', 'A', 'A']"
      ]
     },
     "execution_count": 23,
     "metadata": {},
     "output_type": "execute_result"
    }
   ],
   "source": [
    "people['score']"
   ]
  },
  {
   "cell_type": "code",
   "execution_count": 25,
   "id": "ac64e05d-1c38-424b-8543-08fbebb521d9",
   "metadata": {},
   "outputs": [],
   "source": [
    "people['height'] = '186cm'"
   ]
  },
  {
   "cell_type": "code",
   "execution_count": 26,
   "id": "663533c3-dbd1-4bfe-89b2-d4b9d38b895e",
   "metadata": {},
   "outputs": [
    {
     "data": {
      "text/plain": [
       "{'name': 'wonkyung',\n",
       " 'age': 20,\n",
       " 'weight': '52kg',\n",
       " 'score': ['A+', 'A', 'A'],\n",
       " 'height': '186cm'}"
      ]
     },
     "execution_count": 26,
     "metadata": {},
     "output_type": "execute_result"
    }
   ],
   "source": [
    "people"
   ]
  },
  {
   "cell_type": "code",
   "execution_count": 27,
   "id": "abea9ae7-315b-4b37-a021-635940eba8bc",
   "metadata": {},
   "outputs": [],
   "source": [
    "del people['weight']"
   ]
  },
  {
   "cell_type": "code",
   "execution_count": 28,
   "id": "2b18a93b-f57d-4be3-a74a-485615441233",
   "metadata": {},
   "outputs": [
    {
     "data": {
      "text/plain": [
       "{'name': 'wonkyung', 'age': 20, 'score': ['A+', 'A', 'A'], 'height': '186cm'}"
      ]
     },
     "execution_count": 28,
     "metadata": {},
     "output_type": "execute_result"
    }
   ],
   "source": [
    "people"
   ]
  },
  {
   "cell_type": "code",
   "execution_count": 30,
   "id": "19f8e8cf-9b24-4a8d-857b-1dac5e59f18a",
   "metadata": {},
   "outputs": [],
   "source": [
    "people['score'].append('B')"
   ]
  },
  {
   "cell_type": "code",
   "execution_count": 31,
   "id": "d2d8dd43-8efd-4063-9db0-52a0eb9ae965",
   "metadata": {},
   "outputs": [
    {
     "data": {
      "text/plain": [
       "{'name': 'wonkyung',\n",
       " 'age': 20,\n",
       " 'score': ['A+', 'A', 'A', 'B'],\n",
       " 'height': '186cm'}"
      ]
     },
     "execution_count": 31,
     "metadata": {},
     "output_type": "execute_result"
    }
   ],
   "source": [
    "people"
   ]
  },
  {
   "cell_type": "code",
   "execution_count": 33,
   "id": "93e102e7-ec3a-49e7-bc19-0eb7a11046ea",
   "metadata": {},
   "outputs": [],
   "source": [
    "people['score'].insert(0,'C')"
   ]
  },
  {
   "cell_type": "code",
   "execution_count": 34,
   "id": "becec3a0-8b27-4883-b7fe-26e7fcb2f1ca",
   "metadata": {},
   "outputs": [
    {
     "data": {
      "text/plain": [
       "{'name': 'wonkyung',\n",
       " 'age': 20,\n",
       " 'score': ['C', 'A+', 'A', 'A', 'B'],\n",
       " 'height': '186cm'}"
      ]
     },
     "execution_count": 34,
     "metadata": {},
     "output_type": "execute_result"
    }
   ],
   "source": [
    "people"
   ]
  },
  {
   "cell_type": "code",
   "execution_count": 35,
   "id": "bb52d313-c42a-415c-8e5c-4497199cf14f",
   "metadata": {},
   "outputs": [],
   "source": [
    "# 같은 키가 존재하지 않는다. 동일 키로 추가하듯이 설정해버리면 replace 되어버림"
   ]
  },
  {
   "cell_type": "code",
   "execution_count": 36,
   "id": "9b3b39a3-fbaf-4780-bbea-be17dc8741b8",
   "metadata": {},
   "outputs": [],
   "source": [
    "dict3 = { 'name': 'hanju', 'name' : 'wonkyung' }"
   ]
  },
  {
   "cell_type": "code",
   "execution_count": 37,
   "id": "08a32ca8-dc35-46cd-b1e1-649f6812d796",
   "metadata": {},
   "outputs": [
    {
     "data": {
      "text/plain": [
       "{'name': 'wonkyung'}"
      ]
     },
     "execution_count": 37,
     "metadata": {},
     "output_type": "execute_result"
    }
   ],
   "source": [
    "dict3"
   ]
  },
  {
   "cell_type": "code",
   "execution_count": 38,
   "id": "178a7f9a-e400-44b5-bc98-0af93c6c03cf",
   "metadata": {},
   "outputs": [],
   "source": [
    "# 동일 키로 지정할 시 마지막 것이 들어가버림. key는 숫자 지정이 가능하다"
   ]
  },
  {
   "cell_type": "code",
   "execution_count": 39,
   "id": "301bca13-b84e-4f69-8b87-0ad9063051bc",
   "metadata": {},
   "outputs": [
    {
     "ename": "TypeError",
     "evalue": "unhashable type: 'list'",
     "output_type": "error",
     "traceback": [
      "\u001b[1;31m---------------------------------------------------------------------------\u001b[0m",
      "\u001b[1;31mTypeError\u001b[0m                                 Traceback (most recent call last)",
      "Input \u001b[1;32mIn [39]\u001b[0m, in \u001b[0;36m<cell line: 1>\u001b[1;34m()\u001b[0m\n\u001b[1;32m----> 1\u001b[0m dict4 \u001b[38;5;241m=\u001b[39m { [\u001b[38;5;241m1\u001b[39m,\u001b[38;5;241m2\u001b[39m,\u001b[38;5;241m3\u001b[39m] : \u001b[38;5;124m'\u001b[39m\u001b[38;5;124ma\u001b[39m\u001b[38;5;124m'\u001b[39m, \u001b[38;5;124m'\u001b[39m\u001b[38;5;124mname\u001b[39m\u001b[38;5;124m'\u001b[39m : \u001b[38;5;124m'\u001b[39m\u001b[38;5;124mb\u001b[39m\u001b[38;5;124m'\u001b[39m }\n",
      "\u001b[1;31mTypeError\u001b[0m: unhashable type: 'list'"
     ]
    }
   ],
   "source": [
    "dict4 = { [1,2,3] : 'a', 'name' : 'b' }"
   ]
  },
  {
   "cell_type": "code",
   "execution_count": 40,
   "id": "35e54009-333d-4e7a-b8b3-b1a45330a30b",
   "metadata": {},
   "outputs": [],
   "source": [
    "dict5 = { (1,2,3) : 'a', 'name' : 'b' }"
   ]
  },
  {
   "cell_type": "code",
   "execution_count": 41,
   "id": "beda60e5-f3d2-43d4-95f4-609b90e0e8a5",
   "metadata": {},
   "outputs": [
    {
     "data": {
      "text/plain": [
       "{(1, 2, 3): 'a', 'name': 'b'}"
      ]
     },
     "execution_count": 41,
     "metadata": {},
     "output_type": "execute_result"
    }
   ],
   "source": [
    "dict5"
   ]
  },
  {
   "cell_type": "code",
   "execution_count": 42,
   "id": "a5119662-959c-40f0-a874-a54ecc4f7abd",
   "metadata": {},
   "outputs": [],
   "source": [
    "# 변경이 가능한 것은 키가 될 수 없음 (상수만이 키로 기능할 수 있다.) 리스트는 되는데 튜플은 안되는 이유!"
   ]
  },
  {
   "cell_type": "markdown",
   "id": "d581bcbc-02b8-41d0-9b49-2ae9b121d333",
   "metadata": {
    "tags": []
   },
   "source": [
    "### dict 관련 함수"
   ]
  },
  {
   "cell_type": "code",
   "execution_count": 43,
   "id": "bf363797-0953-470a-b7de-4cf2e52beaf5",
   "metadata": {},
   "outputs": [],
   "source": [
    "people = { 'name': 'alan',\n",
    "          'age' : '30',\n",
    "          'score' : ['A+', 'A', 'B'],\n",
    "          'height' : '187cm' }"
   ]
  },
  {
   "cell_type": "code",
   "execution_count": 44,
   "id": "73e9b4ef-e78b-4512-8c01-6d6a922a3a89",
   "metadata": {},
   "outputs": [
    {
     "data": {
      "text/plain": [
       "{'name': 'alan', 'age': '30', 'score': ['A+', 'A', 'B'], 'height': '187cm'}"
      ]
     },
     "execution_count": 44,
     "metadata": {},
     "output_type": "execute_result"
    }
   ],
   "source": [
    "people"
   ]
  },
  {
   "cell_type": "markdown",
   "id": "a1f11ad2-2a97-44ad-b9c8-ed8cb94a016c",
   "metadata": {
    "tags": []
   },
   "source": [
    "#### keys"
   ]
  },
  {
   "cell_type": "code",
   "execution_count": 45,
   "id": "fe6f4b61-2477-4198-9064-db7f72a78eea",
   "metadata": {},
   "outputs": [
    {
     "data": {
      "text/plain": [
       "dict_keys(['name', 'age', 'score', 'height'])"
      ]
     },
     "execution_count": 45,
     "metadata": {},
     "output_type": "execute_result"
    }
   ],
   "source": [
    "people.keys()"
   ]
  },
  {
   "cell_type": "code",
   "execution_count": 46,
   "id": "33da2214-64f2-4533-8522-5aca6e4279e9",
   "metadata": {},
   "outputs": [
    {
     "data": {
      "text/plain": [
       "dict_keys"
      ]
     },
     "execution_count": 46,
     "metadata": {},
     "output_type": "execute_result"
    }
   ],
   "source": [
    "type(people.keys())"
   ]
  },
  {
   "cell_type": "code",
   "execution_count": 49,
   "id": "f08f9a5e-2f9f-4547-b86e-97ea522bf623",
   "metadata": {},
   "outputs": [
    {
     "data": {
      "text/plain": [
       "['name', 'age', 'score', 'height']"
      ]
     },
     "execution_count": 49,
     "metadata": {},
     "output_type": "execute_result"
    }
   ],
   "source": [
    "list(people.keys())"
   ]
  },
  {
   "cell_type": "code",
   "execution_count": 50,
   "id": "b3a2d7ea-675a-48c7-9e3b-cd7986bfa006",
   "metadata": {},
   "outputs": [
    {
     "data": {
      "text/plain": [
       "'name'"
      ]
     },
     "execution_count": 50,
     "metadata": {},
     "output_type": "execute_result"
    }
   ],
   "source": [
    "list(people.keys())[0]"
   ]
  },
  {
   "cell_type": "code",
   "execution_count": 51,
   "id": "69b69b65-502b-4f5f-8cf4-3746072e69a9",
   "metadata": {},
   "outputs": [
    {
     "data": {
      "text/plain": [
       "dict_values(['alan', '30', ['A+', 'A', 'B'], '187cm'])"
      ]
     },
     "execution_count": 51,
     "metadata": {},
     "output_type": "execute_result"
    }
   ],
   "source": [
    "people.values()"
   ]
  },
  {
   "cell_type": "code",
   "execution_count": 52,
   "id": "47f753ed-98e9-4ab9-9bed-0b4635542531",
   "metadata": {},
   "outputs": [
    {
     "data": {
      "text/plain": [
       "dict_values"
      ]
     },
     "execution_count": 52,
     "metadata": {},
     "output_type": "execute_result"
    }
   ],
   "source": [
    "type(people.values())"
   ]
  },
  {
   "cell_type": "code",
   "execution_count": 53,
   "id": "2472b762-e212-4878-ae96-90766427f1aa",
   "metadata": {},
   "outputs": [
    {
     "data": {
      "text/plain": [
       "['alan', '30', ['A+', 'A', 'B'], '187cm']"
      ]
     },
     "execution_count": 53,
     "metadata": {},
     "output_type": "execute_result"
    }
   ],
   "source": [
    "list(people.values())"
   ]
  },
  {
   "cell_type": "markdown",
   "id": "796f3c66-3b42-44e2-ba71-f745ac291489",
   "metadata": {
    "tags": []
   },
   "source": [
    "#### items"
   ]
  },
  {
   "cell_type": "code",
   "execution_count": 54,
   "id": "b25b258f-a4b6-4bbe-9f21-15ceb84aa97c",
   "metadata": {},
   "outputs": [
    {
     "data": {
      "text/plain": [
       "dict_items([('name', 'alan'), ('age', '30'), ('score', ['A+', 'A', 'B']), ('height', '187cm')])"
      ]
     },
     "execution_count": 54,
     "metadata": {},
     "output_type": "execute_result"
    }
   ],
   "source": [
    "people.items()"
   ]
  },
  {
   "cell_type": "code",
   "execution_count": 55,
   "id": "fadbca6f-b282-4e1b-87a7-1fc0c5368394",
   "metadata": {},
   "outputs": [
    {
     "data": {
      "text/plain": [
       "[('name', 'alan'),\n",
       " ('age', '30'),\n",
       " ('score', ['A+', 'A', 'B']),\n",
       " ('height', '187cm')]"
      ]
     },
     "execution_count": 55,
     "metadata": {},
     "output_type": "execute_result"
    }
   ],
   "source": [
    "list(people.items())"
   ]
  },
  {
   "cell_type": "code",
   "execution_count": 56,
   "id": "4e3df0ae-befb-4720-81bf-946b9b29d069",
   "metadata": {},
   "outputs": [
    {
     "data": {
      "text/plain": [
       "('name', 'alan')"
      ]
     },
     "execution_count": 56,
     "metadata": {},
     "output_type": "execute_result"
    }
   ],
   "source": [
    "list(people.items())[0]"
   ]
  },
  {
   "cell_type": "code",
   "execution_count": 57,
   "id": "eb0cbefa-764a-406b-acfb-e65e18bcc025",
   "metadata": {},
   "outputs": [
    {
     "data": {
      "text/plain": [
       "[('name', 'alan'), ('age', '30')]"
      ]
     },
     "execution_count": 57,
     "metadata": {},
     "output_type": "execute_result"
    }
   ],
   "source": [
    "list(people.items())[0:2]"
   ]
  },
  {
   "cell_type": "code",
   "execution_count": 59,
   "id": "dfc1ec59-b6bc-4f94-9127-ebac64720785",
   "metadata": {},
   "outputs": [
    {
     "data": {
      "text/plain": [
       "'alan'"
      ]
     },
     "execution_count": 59,
     "metadata": {},
     "output_type": "execute_result"
    }
   ],
   "source": [
    "list(people.items())[0][1]"
   ]
  },
  {
   "cell_type": "markdown",
   "id": "a26074d2-ff1c-49fb-a082-a76dcb4b670d",
   "metadata": {
    "tags": []
   },
   "source": [
    "#### get"
   ]
  },
  {
   "cell_type": "code",
   "execution_count": 60,
   "id": "2c411700-018c-44ae-8d2c-f3864a36931b",
   "metadata": {},
   "outputs": [
    {
     "data": {
      "text/plain": [
       "'alan'"
      ]
     },
     "execution_count": 60,
     "metadata": {},
     "output_type": "execute_result"
    }
   ],
   "source": [
    "people.get('name')"
   ]
  },
  {
   "cell_type": "markdown",
   "id": "71e11d22-47ae-454a-a648-5d8a94a9902a",
   "metadata": {
    "tags": []
   },
   "source": [
    "#### in"
   ]
  },
  {
   "cell_type": "code",
   "execution_count": 61,
   "id": "563600a1-d112-4bfb-bdc1-932008fc0c9f",
   "metadata": {},
   "outputs": [
    {
     "data": {
      "text/plain": [
       "True"
      ]
     },
     "execution_count": 61,
     "metadata": {},
     "output_type": "execute_result"
    }
   ],
   "source": [
    "'name' in people"
   ]
  },
  {
   "cell_type": "code",
   "execution_count": 62,
   "id": "d7808a3f-e1e7-48d9-8c42-d2ed7d9b4e7b",
   "metadata": {},
   "outputs": [
    {
     "data": {
      "text/plain": [
       "False"
      ]
     },
     "execution_count": 62,
     "metadata": {},
     "output_type": "execute_result"
    }
   ],
   "source": [
    "'alan' in people #key만 찾을 수 있다. value는 불가능."
   ]
  },
  {
   "cell_type": "markdown",
   "id": "a7b0e3ee-e2dc-4be7-87ac-98f014a47f3a",
   "metadata": {
    "tags": []
   },
   "source": [
    "#### quiz\n",
    "1. 자신의 이름, 나이, 성별이 포함된 my_dict를 생성해보세요.\n",
    "2. 1의 dict에 사는 곳을 추가해보세요.\n",
    "3. my_dict의 키를 리스트로 출력해보세요."
   ]
  },
  {
   "cell_type": "code",
   "execution_count": 63,
   "id": "2aa4c8e0-aaf2-45c0-a0bf-7c50ec0489e0",
   "metadata": {},
   "outputs": [],
   "source": [
    "my_dict = { 'name' : 'song hwa',\n",
    "           'age' : 26,\n",
    "           'sex' : 'female'}"
   ]
  },
  {
   "cell_type": "code",
   "execution_count": 64,
   "id": "ddfa0447-29d9-4072-8dfa-8ea0fd0debb7",
   "metadata": {},
   "outputs": [
    {
     "data": {
      "text/plain": [
       "{'name': 'song hwa', 'age': 26, 'sex': 'female'}"
      ]
     },
     "execution_count": 64,
     "metadata": {},
     "output_type": "execute_result"
    }
   ],
   "source": [
    "my_dict"
   ]
  },
  {
   "cell_type": "code",
   "execution_count": 67,
   "id": "4159a028-614b-4b03-8c67-1999228ec840",
   "metadata": {},
   "outputs": [],
   "source": [
    "my_dict['location'] = 'seoul'"
   ]
  },
  {
   "cell_type": "code",
   "execution_count": 68,
   "id": "29259de3-6184-405a-b689-272834180945",
   "metadata": {},
   "outputs": [
    {
     "data": {
      "text/plain": [
       "{'name': 'song hwa', 'age': 26, 'sex': 'female', 'location': 'seoul'}"
      ]
     },
     "execution_count": 68,
     "metadata": {},
     "output_type": "execute_result"
    }
   ],
   "source": [
    "my_dict"
   ]
  },
  {
   "cell_type": "code",
   "execution_count": 73,
   "id": "0131fad8-021e-4028-a3fe-bc5ece1bade1",
   "metadata": {},
   "outputs": [],
   "source": [
    "my_dict['height'] = '164cm'"
   ]
  },
  {
   "cell_type": "code",
   "execution_count": 74,
   "id": "24114874-2015-4437-bf1e-db210bcb766b",
   "metadata": {},
   "outputs": [
    {
     "data": {
      "text/plain": [
       "{'name': 'song hwa',\n",
       " 'age': 26,\n",
       " 'sex': 'female',\n",
       " 'location': 'seoul',\n",
       " 'height': '164cm'}"
      ]
     },
     "execution_count": 74,
     "metadata": {},
     "output_type": "execute_result"
    }
   ],
   "source": [
    "my_dict"
   ]
  },
  {
   "cell_type": "code",
   "execution_count": 75,
   "id": "3af4b193-e921-4983-9ab0-440f38b03c60",
   "metadata": {},
   "outputs": [
    {
     "data": {
      "text/plain": [
       "dict_items([('name', 'song hwa'), ('age', 26), ('sex', 'female'), ('location', 'seoul'), ('height', '164cm')])"
      ]
     },
     "execution_count": 75,
     "metadata": {},
     "output_type": "execute_result"
    }
   ],
   "source": [
    "my_dict.items()"
   ]
  },
  {
   "cell_type": "code",
   "execution_count": 76,
   "id": "fc0692cd-ac1a-4c7d-807c-f8a16dd91128",
   "metadata": {},
   "outputs": [
    {
     "data": {
      "text/plain": [
       "[('name', 'song hwa'),\n",
       " ('age', 26),\n",
       " ('sex', 'female'),\n",
       " ('location', 'seoul'),\n",
       " ('height', '164cm')]"
      ]
     },
     "execution_count": 76,
     "metadata": {},
     "output_type": "execute_result"
    }
   ],
   "source": [
    "list(my_dict.items())"
   ]
  },
  {
   "cell_type": "code",
   "execution_count": 81,
   "id": "3511866f-e3e8-4387-b960-875bde804eed",
   "metadata": {},
   "outputs": [
    {
     "data": {
      "text/plain": [
       "('height', '164cm')"
      ]
     },
     "execution_count": 81,
     "metadata": {},
     "output_type": "execute_result"
    }
   ],
   "source": [
    "list(my_dict.items())[-1]"
   ]
  },
  {
   "cell_type": "code",
   "execution_count": null,
   "id": "ad6a0f68-a4d9-4cd9-a7b3-7c1fc7e5c64d",
   "metadata": {
    "jp-MarkdownHeadingCollapsed": true,
    "tags": []
   },
   "outputs": [],
   "source": [
    "# 셋(set)"
   ]
  },
  {
   "cell_type": "code",
   "execution_count": 82,
   "id": "f93e6375-eafb-4792-a380-6505d434b0b2",
   "metadata": {},
   "outputs": [
    {
     "data": {
      "text/plain": [
       "set"
      ]
     },
     "execution_count": 82,
     "metadata": {},
     "output_type": "execute_result"
    }
   ],
   "source": [
    "s1 = set([1, 2, 3])\n",
    "type(s1)"
   ]
  },
  {
   "cell_type": "code",
   "execution_count": 83,
   "id": "fc4f120e-5551-4df7-9e92-9ee5e774d746",
   "metadata": {},
   "outputs": [
    {
     "data": {
      "text/plain": [
       "{1, 2, 3, 4, 5}"
      ]
     },
     "execution_count": 83,
     "metadata": {},
     "output_type": "execute_result"
    }
   ],
   "source": [
    "s1 = set([5, 4, 1, 2, 3, 1, 2, 3])\n",
    "s1"
   ]
  },
  {
   "cell_type": "code",
   "execution_count": 84,
   "id": "6598bace-5e55-46d5-98ec-a61d81b209fd",
   "metadata": {},
   "outputs": [],
   "source": [
    "# 중복값 없어지고 자동 정렬도 해줌"
   ]
  },
  {
   "cell_type": "code",
   "execution_count": 85,
   "id": "84bff997-babf-4d2b-95ee-a43fb9dccc8a",
   "metadata": {},
   "outputs": [
    {
     "data": {
      "text/plain": [
       "{'A', 'B', 'C', 'D', 'E'}"
      ]
     },
     "execution_count": 85,
     "metadata": {},
     "output_type": "execute_result"
    }
   ],
   "source": [
    "set ('AABBCCBDE')"
   ]
  },
  {
   "cell_type": "code",
   "execution_count": 87,
   "id": "8bb43991-74c9-4466-aac6-943132fae130",
   "metadata": {},
   "outputs": [
    {
     "data": {
      "text/plain": [
       "['D', 'B', 'E', 'A', 'C']"
      ]
     },
     "execution_count": 87,
     "metadata": {},
     "output_type": "execute_result"
    }
   ],
   "source": [
    "list(set('AABBCCBDE'))"
   ]
  },
  {
   "cell_type": "markdown",
   "id": "ba0b19e6-26de-4e43-8d72-a963c71c3f39",
   "metadata": {
    "jp-MarkdownHeadingCollapsed": true,
    "tags": []
   },
   "source": [
    "### & intersection"
   ]
  },
  {
   "cell_type": "code",
   "execution_count": 88,
   "id": "244a37e0-378e-4489-b976-a5a7a30fb9cc",
   "metadata": {},
   "outputs": [],
   "source": [
    "s2 = set([1, 2, 3])\n",
    "s3 = set([3, 4, 5])"
   ]
  },
  {
   "cell_type": "code",
   "execution_count": 90,
   "id": "5eb852c4-d7c1-4693-998c-425b60174ab6",
   "metadata": {},
   "outputs": [
    {
     "data": {
      "text/plain": [
       "{3}"
      ]
     },
     "execution_count": 90,
     "metadata": {},
     "output_type": "execute_result"
    }
   ],
   "source": [
    "s2 & s3"
   ]
  },
  {
   "cell_type": "code",
   "execution_count": 91,
   "id": "9976bdc8-c635-4439-babf-bf0ecbf7de7d",
   "metadata": {},
   "outputs": [
    {
     "data": {
      "text/plain": [
       "{3}"
      ]
     },
     "execution_count": 91,
     "metadata": {},
     "output_type": "execute_result"
    }
   ],
   "source": [
    "s2.intersection(s3)"
   ]
  },
  {
   "cell_type": "markdown",
   "id": "9eea5199-8094-43ee-a952-ec2769b196d9",
   "metadata": {
    "jp-MarkdownHeadingCollapsed": true,
    "tags": []
   },
   "source": [
    "### union"
   ]
  },
  {
   "cell_type": "code",
   "execution_count": 97,
   "id": "cdc813a4-22b2-4c0e-8409-a053a5b49740",
   "metadata": {},
   "outputs": [
    {
     "data": {
      "text/plain": [
       "{1, 2, 3, 4, 5}"
      ]
     },
     "execution_count": 97,
     "metadata": {},
     "output_type": "execute_result"
    }
   ],
   "source": [
    "s2.union(s3)"
   ]
  },
  {
   "cell_type": "markdown",
   "id": "8b26a683-6fff-423b-bd9c-4e5fe3b7fac4",
   "metadata": {
    "jp-MarkdownHeadingCollapsed": true,
    "tags": []
   },
   "source": [
    "### - difference"
   ]
  },
  {
   "cell_type": "code",
   "execution_count": 94,
   "id": "eb5c395f-7c99-499f-8d52-e70b91e8776b",
   "metadata": {},
   "outputs": [
    {
     "data": {
      "text/plain": [
       "{1, 2}"
      ]
     },
     "execution_count": 94,
     "metadata": {},
     "output_type": "execute_result"
    }
   ],
   "source": [
    "s2 - s3"
   ]
  },
  {
   "cell_type": "code",
   "execution_count": 95,
   "id": "92e07233-9c4c-4ad4-874c-dff0bc2ad4eb",
   "metadata": {},
   "outputs": [
    {
     "data": {
      "text/plain": [
       "{1, 2}"
      ]
     },
     "execution_count": 95,
     "metadata": {},
     "output_type": "execute_result"
    }
   ],
   "source": [
    "s2.difference(s3)"
   ]
  },
  {
   "cell_type": "markdown",
   "id": "b7282eb5-aed4-49dd-8e09-783ca1922f53",
   "metadata": {
    "jp-MarkdownHeadingCollapsed": true,
    "tags": []
   },
   "source": [
    "### add"
   ]
  },
  {
   "cell_type": "code",
   "execution_count": 98,
   "id": "8cfd3106-bcb9-4c53-a426-816f8a4c19fc",
   "metadata": {},
   "outputs": [],
   "source": [
    "s2.add(10)"
   ]
  },
  {
   "cell_type": "code",
   "execution_count": 99,
   "id": "41aa274b-c3a0-4ea9-a671-d387a21c420e",
   "metadata": {},
   "outputs": [
    {
     "data": {
      "text/plain": [
       "{1, 2, 3, 10}"
      ]
     },
     "execution_count": 99,
     "metadata": {},
     "output_type": "execute_result"
    }
   ],
   "source": [
    "s2"
   ]
  },
  {
   "cell_type": "code",
   "execution_count": 100,
   "id": "f11460ab-b2c2-4c9d-aca6-965f60e308fb",
   "metadata": {},
   "outputs": [],
   "source": [
    "s2.add(1)"
   ]
  },
  {
   "cell_type": "code",
   "execution_count": 101,
   "id": "be3b4a6a-15fa-4eee-a678-39e43adee9d9",
   "metadata": {},
   "outputs": [
    {
     "data": {
      "text/plain": [
       "{1, 2, 3, 10}"
      ]
     },
     "execution_count": 101,
     "metadata": {},
     "output_type": "execute_result"
    }
   ],
   "source": [
    "s2"
   ]
  },
  {
   "cell_type": "code",
   "execution_count": 102,
   "id": "070f59e3-c3c0-47de-aa7d-60676a58564c",
   "metadata": {},
   "outputs": [],
   "source": [
    "# 집합에는 중복된 값이 추가 될 수 없다."
   ]
  },
  {
   "cell_type": "markdown",
   "id": "c6751ee5-4b34-4217-86bd-438b79835350",
   "metadata": {
    "jp-MarkdownHeadingCollapsed": true,
    "tags": []
   },
   "source": [
    "### update"
   ]
  },
  {
   "cell_type": "code",
   "execution_count": 103,
   "id": "7b069a62-414d-49c9-a1cc-bc828a698810",
   "metadata": {},
   "outputs": [],
   "source": [
    "# 여러가지를 한 번에 넣을 수 있음, 리스트로 들어올 수 있다"
   ]
  },
  {
   "cell_type": "code",
   "execution_count": 104,
   "id": "a38ad4a1-ff1d-4e0a-a301-6b2c5600bfd4",
   "metadata": {},
   "outputs": [],
   "source": [
    "s2.update([11,12])"
   ]
  },
  {
   "cell_type": "code",
   "execution_count": 105,
   "id": "1d62af42-92bb-4bf6-87d2-38c29416d4f8",
   "metadata": {},
   "outputs": [
    {
     "data": {
      "text/plain": [
       "{1, 2, 3, 10, 11, 12}"
      ]
     },
     "execution_count": 105,
     "metadata": {},
     "output_type": "execute_result"
    }
   ],
   "source": [
    "s2"
   ]
  },
  {
   "cell_type": "markdown",
   "id": "d04f910a-f08b-4820-9dc0-aa2e461ee331",
   "metadata": {
    "jp-MarkdownHeadingCollapsed": true,
    "tags": []
   },
   "source": [
    "### remove"
   ]
  },
  {
   "cell_type": "code",
   "execution_count": 107,
   "id": "527073fd-d53e-4d4b-9618-ad7b7e3613d3",
   "metadata": {},
   "outputs": [],
   "source": [
    "s2.remove(11)"
   ]
  },
  {
   "cell_type": "code",
   "execution_count": 108,
   "id": "ba99c2a2-0d55-4ef8-9a66-ff591837955f",
   "metadata": {},
   "outputs": [
    {
     "data": {
      "text/plain": [
       "{1, 2, 3, 10, 12}"
      ]
     },
     "execution_count": 108,
     "metadata": {},
     "output_type": "execute_result"
    }
   ],
   "source": [
    "s2"
   ]
  },
  {
   "cell_type": "markdown",
   "id": "737e4470-0d56-4d02-8a6c-7a42129e8e8c",
   "metadata": {
    "tags": []
   },
   "source": [
    "## Set"
   ]
  },
  {
   "cell_type": "code",
   "execution_count": 110,
   "id": "d388c827-c47b-426c-a1ac-f8ee55259244",
   "metadata": {},
   "outputs": [],
   "source": [
    "list1 = [1, 2, 1, 4, 5, 1, 3, 5, 7, 8, 1] "
   ]
  },
  {
   "cell_type": "code",
   "execution_count": 111,
   "id": "24f4a67e-63e3-4fd8-865f-66e2b5462fce",
   "metadata": {},
   "outputs": [
    {
     "data": {
      "text/plain": [
       "{1, 2, 3, 4, 5, 7, 8}"
      ]
     },
     "execution_count": 111,
     "metadata": {},
     "output_type": "execute_result"
    }
   ],
   "source": [
    "set(list1)"
   ]
  },
  {
   "cell_type": "code",
   "execution_count": 112,
   "id": "c792d02e-4158-4c08-bf64-c395119f53f6",
   "metadata": {},
   "outputs": [
    {
     "data": {
      "text/plain": [
       "[1, 2, 3, 4, 5, 7, 8]"
      ]
     },
     "execution_count": 112,
     "metadata": {},
     "output_type": "execute_result"
    }
   ],
   "source": [
    "list(set(list1))"
   ]
  },
  {
   "cell_type": "code",
   "execution_count": 113,
   "id": "987c006a-3a95-4aa8-99e3-3939d1af29bd",
   "metadata": {},
   "outputs": [],
   "source": [
    "list_1 = list(set(list1))"
   ]
  },
  {
   "cell_type": "code",
   "execution_count": 114,
   "id": "4d6dc8bd-7253-41ff-a1ac-fd8d88281fd2",
   "metadata": {},
   "outputs": [
    {
     "data": {
      "text/plain": [
       "7"
      ]
     },
     "execution_count": 114,
     "metadata": {},
     "output_type": "execute_result"
    }
   ],
   "source": [
    "len(list_1)"
   ]
  },
  {
   "cell_type": "code",
   "execution_count": 115,
   "id": "c12fabab-4ca9-450a-ad9f-3477ed579c42",
   "metadata": {},
   "outputs": [],
   "source": [
    "# 하나씩 하나씩 하기~ "
   ]
  },
  {
   "cell_type": "markdown",
   "id": "2e1fe2bc-162c-4db4-8cd4-5f5b0a4b1a26",
   "metadata": {
    "tags": []
   },
   "source": [
    "# 네이밍 규칙"
   ]
  },
  {
   "cell_type": "markdown",
   "id": "1e0738bb-deb0-4240-98e9-dd8190ec0e39",
   "metadata": {},
   "source": [
    "Camel Case, Snake Case"
   ]
  },
  {
   "cell_type": "code",
   "execution_count": 116,
   "id": "3e70eda1-a37c-476e-b74a-6a9bfa734a84",
   "metadata": {},
   "outputs": [],
   "source": [
    "trainInput = 'train' # 앞글자는 대문자 사용하지 않고, 대소문자로 구분하는 경우를 Camel Case라고 함"
   ]
  },
  {
   "cell_type": "code",
   "execution_count": 117,
   "id": "f7a5e2e3-c069-44c0-9afd-1ff724841ce6",
   "metadata": {},
   "outputs": [],
   "source": [
    "myPhoneNumber = '010-0000-1234'"
   ]
  },
  {
   "cell_type": "code",
   "execution_count": 118,
   "id": "02322276-66dd-4db9-b5c7-59a8d525eb8a",
   "metadata": {},
   "outputs": [],
   "source": [
    "train_input = 'train' # 언더바로 구분하는 경우를 Snake Case라고 함. 이 방식을 많이 사용한다 (파이썬에서는). "
   ]
  },
  {
   "cell_type": "code",
   "execution_count": 119,
   "id": "9159e920-74c9-4d8b-be8b-713c76e2d9c7",
   "metadata": {},
   "outputs": [
    {
     "data": {
      "text/plain": [
       "list"
      ]
     },
     "execution_count": 119,
     "metadata": {},
     "output_type": "execute_result"
    }
   ],
   "source": [
    "list # 이것처럼 초록색 (파이썬 내장함수) 으로 나오는 경우, 네이밍하지 않는 것이 좋음."
   ]
  },
  {
   "cell_type": "markdown",
   "id": "c258a456-dd59-4daf-aac7-299df4d24acc",
   "metadata": {},
   "source": [
    "#"
   ]
  }
 ],
 "metadata": {
  "kernelspec": {
   "display_name": "Python 3 (ipykernel)",
   "language": "python",
   "name": "python3"
  },
  "language_info": {
   "codemirror_mode": {
    "name": "ipython",
    "version": 3
   },
   "file_extension": ".py",
   "mimetype": "text/x-python",
   "name": "python",
   "nbconvert_exporter": "python",
   "pygments_lexer": "ipython3",
   "version": "3.9.12"
  }
 },
 "nbformat": 4,
 "nbformat_minor": 5
}
