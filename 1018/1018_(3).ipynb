{
 "cells": [
  {
   "cell_type": "markdown",
   "id": "132c7b98-9bac-4e84-ae80-b3a1b752d347",
   "metadata": {},
   "source": [
    "# 제어문"
   ]
  },
  {
   "cell_type": "markdown",
   "id": "d6c7be0c-57c3-4a1d-8278-5486613620b9",
   "metadata": {
    "jp-MarkdownHeadingCollapsed": true,
    "tags": []
   },
   "source": [
    "# if 문"
   ]
  },
  {
   "cell_type": "markdown",
   "id": "48122667-9035-4458-b977-5ece466fde74",
   "metadata": {},
   "source": [
    "- if : 만약에 ~ 라면 \n",
    "- if 뒤에 나오는 값이 참(True)일 경우, ~를 실행해라\n",
    "- if 조건문 : 어떤 행위\n",
    "- if 조건문 뒤에 나오는 행위는 tab 또는 스페이스 4번으로 들여쓰기 - indent"
   ]
  },
  {
   "cell_type": "code",
   "execution_count": 2,
   "id": "bbd187cd-29e6-47fd-b412-b9854a65aedd",
   "metadata": {},
   "outputs": [
    {
     "name": "stdout",
     "output_type": "stream",
     "text": [
      "참\n"
     ]
    }
   ],
   "source": [
    "if 1>0:\n",
    "    print('참')"
   ]
  },
  {
   "cell_type": "code",
   "execution_count": 3,
   "id": "2b40b2dc-ee72-4a0b-b74d-9691a2f11ad5",
   "metadata": {},
   "outputs": [
    {
     "name": "stdout",
     "output_type": "stream",
     "text": [
      "참\n"
     ]
    }
   ],
   "source": [
    "if True:\n",
    "    print('참')"
   ]
  },
  {
   "cell_type": "code",
   "execution_count": 4,
   "id": "969f5578-d111-414f-8aa9-aa9d06d14934",
   "metadata": {},
   "outputs": [],
   "source": [
    "if False:\n",
    "    print('거짓')"
   ]
  },
  {
   "cell_type": "code",
   "execution_count": 5,
   "id": "0a12b88c-ced9-41df-8f48-e24baf0ff80a",
   "metadata": {},
   "outputs": [],
   "source": [
    "# if 뒤로 True가 나오지 않았으므로 print 되지 않음."
   ]
  },
  {
   "cell_type": "code",
   "execution_count": 6,
   "id": "391dab1c-f20a-49de-bb5a-2d4100022c8b",
   "metadata": {},
   "outputs": [
    {
     "name": "stdout",
     "output_type": "stream",
     "text": [
      "참\n"
     ]
    }
   ],
   "source": [
    "if 1:\n",
    "    print('참')"
   ]
  },
  {
   "cell_type": "code",
   "execution_count": 7,
   "id": "31b21f7e-d12c-4a9d-8abd-242ef2c6a8f0",
   "metadata": {},
   "outputs": [],
   "source": [
    "if 0:\n",
    "    print('거짓')"
   ]
  },
  {
   "cell_type": "code",
   "execution_count": 8,
   "id": "66360ee3-02f3-46e7-9dd0-7adc33d2ddbe",
   "metadata": {},
   "outputs": [
    {
     "name": "stdout",
     "output_type": "stream",
     "text": [
      "참\n"
     ]
    }
   ],
   "source": [
    "if 3:\n",
    "    print('참') "
   ]
  },
  {
   "cell_type": "code",
   "execution_count": 9,
   "id": "1823fecf-f0e8-484f-901b-f1ead667174a",
   "metadata": {},
   "outputs": [],
   "source": [
    "# 0을 제외한 모든 값은 참으로 취급한다."
   ]
  },
  {
   "cell_type": "code",
   "execution_count": 11,
   "id": "3f827cf1-0392-4561-9135-3921dce2f370",
   "metadata": {},
   "outputs": [
    {
     "name": "stdout",
     "output_type": "stream",
     "text": [
      "끝\n"
     ]
    }
   ],
   "source": [
    "if 0:\n",
    "    print('거짓')\n",
    "    \n",
    "print('끝')"
   ]
  },
  {
   "cell_type": "code",
   "execution_count": 12,
   "id": "e0f33bfc-72ed-46e6-94a7-b1598fc5cc2a",
   "metadata": {},
   "outputs": [],
   "source": [
    "# indent가 끝나는 곳이 if문의 끝. 두번째 print 부분은 if문이 끝난 다음에 출력되는 것."
   ]
  },
  {
   "cell_type": "code",
   "execution_count": 13,
   "id": "0a19b26b-b8e8-4c59-9bf7-c2cabf437c41",
   "metadata": {},
   "outputs": [
    {
     "name": "stdout",
     "output_type": "stream",
     "text": [
      "A\n"
     ]
    }
   ],
   "source": [
    "if 'A':\n",
    "    print('A')"
   ]
  },
  {
   "cell_type": "code",
   "execution_count": 14,
   "id": "b15b3051-45e2-412e-848c-4b1c30ca99cc",
   "metadata": {},
   "outputs": [],
   "source": [
    "if '':\n",
    "    print('test')"
   ]
  },
  {
   "cell_type": "code",
   "execution_count": 16,
   "id": "70224cf1-db88-4424-ae12-0e126feba455",
   "metadata": {},
   "outputs": [],
   "source": [
    "# 공백 또한 False 취급한다."
   ]
  },
  {
   "cell_type": "markdown",
   "id": "c147d375-9dd5-4a54-8ece-b0b52430d50f",
   "metadata": {
    "jp-MarkdownHeadingCollapsed": true,
    "tags": []
   },
   "source": [
    "# 비교 연산자"
   ]
  },
  {
   "cell_type": "markdown",
   "id": "cbc2ed73-53df-46ff-8a83-8ddffb47e0da",
   "metadata": {},
   "source": [
    "- a < b (a가 b보다 작다)\n",
    "- a > b (a가 b보다 크다)\n",
    "- a == b (a와 b가 같다)\n",
    "- a != b (a와 b가 다르다)\n",
    "- a <= b (a가 b보다 작거나 같다)\n",
    "- a >= b (a가 b보다 크거나 같다)\n",
    "\n",
    "\n"
   ]
  },
  {
   "cell_type": "code",
   "execution_count": 17,
   "id": "50df0df4-41b4-406c-ab3b-88880a24d5ec",
   "metadata": {},
   "outputs": [
    {
     "data": {
      "text/plain": [
       "False"
      ]
     },
     "execution_count": 17,
     "metadata": {},
     "output_type": "execute_result"
    }
   ],
   "source": [
    "1 > 2"
   ]
  },
  {
   "cell_type": "code",
   "execution_count": 18,
   "id": "62ef5e24-7101-4ee6-8ac5-375c7c59575b",
   "metadata": {},
   "outputs": [
    {
     "data": {
      "text/plain": [
       "True"
      ]
     },
     "execution_count": 18,
     "metadata": {},
     "output_type": "execute_result"
    }
   ],
   "source": [
    "1 <= 2"
   ]
  },
  {
   "cell_type": "code",
   "execution_count": 19,
   "id": "162639cc-1013-486f-8cc2-b953e7f3a7e8",
   "metadata": {},
   "outputs": [
    {
     "data": {
      "text/plain": [
       "True"
      ]
     },
     "execution_count": 19,
     "metadata": {},
     "output_type": "execute_result"
    }
   ],
   "source": [
    "1 != 2"
   ]
  },
  {
   "cell_type": "code",
   "execution_count": 20,
   "id": "ecd86897-3cf5-45d5-973e-0a1c465475f5",
   "metadata": {},
   "outputs": [
    {
     "data": {
      "text/plain": [
       "True"
      ]
     },
     "execution_count": 20,
     "metadata": {},
     "output_type": "execute_result"
    }
   ],
   "source": [
    "'a' < 'b'"
   ]
  },
  {
   "cell_type": "code",
   "execution_count": 22,
   "id": "6c47679f-6b3a-4546-9e14-0a1df019e920",
   "metadata": {},
   "outputs": [
    {
     "data": {
      "text/plain": [
       "True"
      ]
     },
     "execution_count": 22,
     "metadata": {},
     "output_type": "execute_result"
    }
   ],
   "source": [
    "'apple' < 'banana' # 앞에서부터 하나씩"
   ]
  },
  {
   "cell_type": "code",
   "execution_count": 23,
   "id": "ccaeec77-c07d-458e-84e2-7cff9e4465cd",
   "metadata": {},
   "outputs": [
    {
     "data": {
      "text/plain": [
       "False"
      ]
     },
     "execution_count": 23,
     "metadata": {},
     "output_type": "execute_result"
    }
   ],
   "source": [
    "1 == '1'"
   ]
  },
  {
   "cell_type": "markdown",
   "id": "9dfcfa3b-55c3-423d-9f44-8e0d9a7a2fca",
   "metadata": {
    "jp-MarkdownHeadingCollapsed": true,
    "tags": []
   },
   "source": [
    "# and, or, not"
   ]
  },
  {
   "cell_type": "markdown",
   "id": "98cfa2a1-1eb2-4155-8cc2-43392f9d086e",
   "metadata": {},
   "source": [
    "- and (둘 다 T일 때만 T)\n",
    "- or (둘 중 하나라도 T이면 T)\n",
    "- not (반대)"
   ]
  },
  {
   "cell_type": "code",
   "execution_count": 24,
   "id": "0d6966c4-e89f-460a-b77a-0ed654d9754b",
   "metadata": {},
   "outputs": [
    {
     "data": {
      "text/plain": [
       "True"
      ]
     },
     "execution_count": 24,
     "metadata": {},
     "output_type": "execute_result"
    }
   ],
   "source": [
    "(3 > 1) and (4 > 1)"
   ]
  },
  {
   "cell_type": "code",
   "execution_count": 25,
   "id": "c41ad138-f29c-4441-9b8e-7d46797aea82",
   "metadata": {},
   "outputs": [
    {
     "data": {
      "text/plain": [
       "False"
      ]
     },
     "execution_count": 25,
     "metadata": {},
     "output_type": "execute_result"
    }
   ],
   "source": [
    "(3 < 1) and (4 > 1)"
   ]
  },
  {
   "cell_type": "code",
   "execution_count": 26,
   "id": "47f1e6d2-bcd7-44ac-a83a-6730372e74e3",
   "metadata": {},
   "outputs": [
    {
     "data": {
      "text/plain": [
       "True"
      ]
     },
     "execution_count": 26,
     "metadata": {},
     "output_type": "execute_result"
    }
   ],
   "source": [
    "(3 > 1) or (4 > 1)"
   ]
  },
  {
   "cell_type": "code",
   "execution_count": 27,
   "id": "00a912ca-f0c0-4f37-a8ed-a5683f4d39e8",
   "metadata": {},
   "outputs": [
    {
     "data": {
      "text/plain": [
       "True"
      ]
     },
     "execution_count": 27,
     "metadata": {},
     "output_type": "execute_result"
    }
   ],
   "source": [
    "(3 < 1) or (4 > 1)"
   ]
  },
  {
   "cell_type": "code",
   "execution_count": 28,
   "id": "cc758d5e-295b-41d5-9b60-9f2a864d8bad",
   "metadata": {},
   "outputs": [
    {
     "data": {
      "text/plain": [
       "True"
      ]
     },
     "execution_count": 28,
     "metadata": {},
     "output_type": "execute_result"
    }
   ],
   "source": [
    "not 0"
   ]
  },
  {
   "cell_type": "code",
   "execution_count": 29,
   "id": "2e8f253d-a49f-4ace-8b9b-71d5f5ffdc25",
   "metadata": {},
   "outputs": [
    {
     "data": {
      "text/plain": [
       "False"
      ]
     },
     "execution_count": 29,
     "metadata": {},
     "output_type": "execute_result"
    }
   ],
   "source": [
    "not 'A'"
   ]
  },
  {
   "cell_type": "markdown",
   "id": "5dd9ce3a-3d0d-4b2e-a5b4-4b1ff5527871",
   "metadata": {
    "jp-MarkdownHeadingCollapsed": true,
    "tags": []
   },
   "source": [
    "# in, not in"
   ]
  },
  {
   "cell_type": "markdown",
   "id": "427044dd-cb9e-4948-bdff-a28dd9ba8fa5",
   "metadata": {},
   "source": [
    "- in : 문자열이나 리스트, 튜플에서 해당 요소가 포함되어 있는지 검사.\n",
    "- not in : 문자열이나 리스트, 튜플에서 해당 요소가 포함되어 있지 않은지 검사."
   ]
  },
  {
   "cell_type": "code",
   "execution_count": 30,
   "id": "3f05736d-e8ca-463d-ba23-ba4126ab9304",
   "metadata": {},
   "outputs": [],
   "source": [
    "l = [1, 2, 3]"
   ]
  },
  {
   "cell_type": "code",
   "execution_count": 31,
   "id": "99ca5eb5-0ea1-4a21-9af0-1f9fcc443417",
   "metadata": {},
   "outputs": [
    {
     "data": {
      "text/plain": [
       "True"
      ]
     },
     "execution_count": 31,
     "metadata": {},
     "output_type": "execute_result"
    }
   ],
   "source": [
    "3 in l"
   ]
  },
  {
   "cell_type": "code",
   "execution_count": 32,
   "id": "318e2b69-fed9-48cb-9ee9-bba8c513f081",
   "metadata": {},
   "outputs": [
    {
     "data": {
      "text/plain": [
       "False"
      ]
     },
     "execution_count": 32,
     "metadata": {},
     "output_type": "execute_result"
    }
   ],
   "source": [
    "4 in l"
   ]
  },
  {
   "cell_type": "code",
   "execution_count": 34,
   "id": "cbecdd0e-30a8-46f9-ba10-a699a263d24f",
   "metadata": {},
   "outputs": [
    {
     "data": {
      "text/plain": [
       "True"
      ]
     },
     "execution_count": 34,
     "metadata": {},
     "output_type": "execute_result"
    }
   ],
   "source": [
    "'a' in 'apple'"
   ]
  },
  {
   "cell_type": "code",
   "execution_count": 35,
   "id": "fa14e963-4cf6-4e51-8277-3fbd13769743",
   "metadata": {},
   "outputs": [
    {
     "data": {
      "text/plain": [
       "False"
      ]
     },
     "execution_count": 35,
     "metadata": {},
     "output_type": "execute_result"
    }
   ],
   "source": [
    "'z' in 'apple'"
   ]
  },
  {
   "cell_type": "code",
   "execution_count": 36,
   "id": "db71a12b-277c-4ef6-a2db-707579644963",
   "metadata": {},
   "outputs": [
    {
     "data": {
      "text/plain": [
       "False"
      ]
     },
     "execution_count": 36,
     "metadata": {},
     "output_type": "execute_result"
    }
   ],
   "source": [
    "'a' in ['apple', 'banana']"
   ]
  },
  {
   "cell_type": "code",
   "execution_count": 37,
   "id": "8da989b6-20c8-409e-b6b6-b1f8d86dfb94",
   "metadata": {},
   "outputs": [
    {
     "data": {
      "text/plain": [
       "False"
      ]
     },
     "execution_count": 37,
     "metadata": {},
     "output_type": "execute_result"
    }
   ],
   "source": [
    "'a' not in 'apple'"
   ]
  },
  {
   "cell_type": "markdown",
   "id": "2fdac0ac-ec7d-4071-aa63-66b0a3a202c7",
   "metadata": {},
   "source": [
    "# elif, else "
   ]
  },
  {
   "cell_type": "code",
   "execution_count": null,
   "id": "bc8b6e8d-bb9c-43b8-9029-fd20188ba14b",
   "metadata": {},
   "outputs": [],
   "source": [
    "if :\n",
    "elif :\n",
    "else :"
   ]
  },
  {
   "cell_type": "code",
   "execution_count": 38,
   "id": "77cece9c-a8b1-4c79-a99f-a4d45fd21577",
   "metadata": {},
   "outputs": [
    {
     "name": "stdout",
     "output_type": "stream",
     "text": [
      "a는 5보다 작다\n"
     ]
    }
   ],
   "source": [
    "a = 1\n",
    "if a < 5 :\n",
    "    print ('a는 5보다 작다')"
   ]
  },
  {
   "cell_type": "code",
   "execution_count": 40,
   "id": "6b7dfd4c-910b-4528-bdac-68247960a3b0",
   "metadata": {},
   "outputs": [],
   "source": [
    "a = 6\n",
    "if a < 5 :\n",
    "    print ('a는 5보다 작다')"
   ]
  },
  {
   "cell_type": "code",
   "execution_count": 44,
   "id": "d004fc43-ba4d-4cd6-81dd-97472ad34de8",
   "metadata": {},
   "outputs": [
    {
     "name": "stdout",
     "output_type": "stream",
     "text": [
      "a는 10보다 작다\n"
     ]
    }
   ],
   "source": [
    "a = 6\n",
    "if a < 5 : #통과\n",
    "    print ('a는 5보다 작다')\n",
    "elif a < 10 :\n",
    "    print ('a는 10보다 작다')"
   ]
  },
  {
   "cell_type": "code",
   "execution_count": 42,
   "id": "c28fc98d-6f37-4263-b014-641956be246c",
   "metadata": {},
   "outputs": [
    {
     "name": "stdout",
     "output_type": "stream",
     "text": [
      "a는 5보다 작다\n"
     ]
    }
   ],
   "source": [
    "a = 1\n",
    "if a < 5 :\n",
    "    print ('a는 5보다 작다')\n",
    "elif a < 10 : #상단의 값을 출력한 이후 아래는 비교하지 않는다\n",
    "    print ('a는 10보다 작다')"
   ]
  },
  {
   "cell_type": "code",
   "execution_count": 43,
   "id": "2a5d28ac-eb93-4d74-9f4f-cc306efdbc5a",
   "metadata": {},
   "outputs": [
    {
     "name": "stdout",
     "output_type": "stream",
     "text": [
      "a는 5보다 작다\n",
      "a는 10보다 작다\n"
     ]
    }
   ],
   "source": [
    "a = 1\n",
    "if a < 5 :\n",
    "    print ('a는 5보다 작다')\n",
    "if a < 10 : #둘 다 하고 싶다면 if를 두 번 사용하면 된다\n",
    "    print ('a는 10보다 작다')"
   ]
  },
  {
   "cell_type": "code",
   "execution_count": 46,
   "id": "334e98ca-ba4d-4d07-a29c-4555fdb0d8e3",
   "metadata": {},
   "outputs": [
    {
     "name": "stdout",
     "output_type": "stream",
     "text": [
      "a는 10보다 크다\n"
     ]
    }
   ],
   "source": [
    "a = 15\n",
    "if a < 5 :\n",
    "    print ('a는 5보다 작다')\n",
    "elif a < 10 :\n",
    "    print ('a는 10보다 작다')\n",
    "else : #if에도 안 걸리고 elif에도 안 걸리면 다 else로 빠진다\n",
    "    print ('a는 10보다 크다')"
   ]
  },
  {
   "cell_type": "code",
   "execution_count": 47,
   "id": "d8abcc74-b71c-467e-b342-e3d62e5f3b5e",
   "metadata": {},
   "outputs": [
    {
     "name": "stdout",
     "output_type": "stream",
     "text": [
      "a는 0보다 크고 5보다 작다\n"
     ]
    }
   ],
   "source": [
    "a = 1 \n",
    "if 0 < a < 5: #and를 사용하지 않아도 된다 (a > 0) and (a < 5)\n",
    "    print('a는 0보다 크고 5보다 작다')"
   ]
  },
  {
   "cell_type": "markdown",
   "id": "2da057d0-1319-442c-aa1f-12d3fce015c5",
   "metadata": {
    "tags": []
   },
   "source": [
    "### Quiz\n",
    "주어진 숫자가 홀수인지 짝수인지 구하시오."
   ]
  },
  {
   "cell_type": "code",
   "execution_count": 51,
   "id": "e9a62462-2f8c-4dca-9a82-fd8455390b78",
   "metadata": {},
   "outputs": [
    {
     "name": "stdout",
     "output_type": "stream",
     "text": [
      "num은 홀수\n"
     ]
    }
   ],
   "source": [
    "num = 11\n",
    "if num % 2 == 1: # =는 무조건 두 번 써야 한다\n",
    "    print('num은 홀수')\n",
    "else: #else 뒤에는 조건문을 사용하지 않는다\n",
    "    print('num은 짝수')"
   ]
  },
  {
   "cell_type": "code",
   "execution_count": 52,
   "id": "dd1f528d-6f33-47a3-a027-b360bd1faf40",
   "metadata": {},
   "outputs": [
    {
     "data": {
      "text/plain": [
       "True"
      ]
     },
     "execution_count": 52,
     "metadata": {},
     "output_type": "execute_result"
    }
   ],
   "source": [
    "isinstance(0, int)"
   ]
  },
  {
   "cell_type": "code",
   "execution_count": 54,
   "id": "96b0214e-4c07-4c87-b3a9-683849e96aed",
   "metadata": {},
   "outputs": [
    {
     "data": {
      "text/plain": [
       "False"
      ]
     },
     "execution_count": 54,
     "metadata": {},
     "output_type": "execute_result"
    }
   ],
   "source": [
    "isinstance('0',int)"
   ]
  },
  {
   "cell_type": "code",
   "execution_count": 55,
   "id": "b3761ad8-8bc3-40f4-9f9d-4b3644045cd4",
   "metadata": {},
   "outputs": [
    {
     "data": {
      "text/plain": [
       "True"
      ]
     },
     "execution_count": 55,
     "metadata": {},
     "output_type": "execute_result"
    }
   ],
   "source": [
    "isinstance('0',str)"
   ]
  },
  {
   "cell_type": "code",
   "execution_count": 56,
   "id": "64eb8f52-cbd6-4e66-8155-19431e03bd0c",
   "metadata": {},
   "outputs": [
    {
     "name": "stdout",
     "output_type": "stream",
     "text": [
      "num은 문자열입니다.\n"
     ]
    }
   ],
   "source": [
    "num = 'a'\n",
    "if isinstance(num, int):\n",
    "    if num % 2 ==1:\n",
    "        print('홀수')\n",
    "    else:\n",
    "        print('짝수')\n",
    "else:\n",
    "    print('num은 문자열입니다.')"
   ]
  },
  {
   "cell_type": "code",
   "execution_count": 61,
   "id": "d1b62d5d-db7e-4ff9-9c68-0d6cf872363b",
   "metadata": {},
   "outputs": [
    {
     "name": "stdout",
     "output_type": "stream",
     "text": [
      "num은 0입니다.\n"
     ]
    }
   ],
   "source": [
    "num = 0\n",
    "if isinstance(num, int):\n",
    "    if num ==0 :\n",
    "        print('num은 0입니다.')\n",
    "    elif num % 2 ==1:\n",
    "        print('홀수')\n",
    "    else:\n",
    "        print('짝수')\n",
    "else:\n",
    "    print('num은 문자열입니다.')"
   ]
  },
  {
   "cell_type": "code",
   "execution_count": 62,
   "id": "f5ab22c3-1d33-4fdb-a66a-09ac45fb0011",
   "metadata": {},
   "outputs": [],
   "source": [
    "# if문은 중첩을 최대한 하지 않는 것이 좋다."
   ]
  },
  {
   "cell_type": "markdown",
   "id": "dff0ed47-07ec-4410-a352-3c02fdfabf5c",
   "metadata": {},
   "source": [
    "# 사용자 입력값 받기"
   ]
  },
  {
   "cell_type": "code",
   "execution_count": 64,
   "id": "74e66ef7-d54a-431a-9d5c-08929f1c575d",
   "metadata": {},
   "outputs": [
    {
     "name": "stdin",
     "output_type": "stream",
     "text": [
      " 안녕하세요\n"
     ]
    }
   ],
   "source": [
    "text = input()"
   ]
  },
  {
   "cell_type": "code",
   "execution_count": 65,
   "id": "c7aa06be-d392-4146-91b6-994b860c048b",
   "metadata": {},
   "outputs": [
    {
     "data": {
      "text/plain": [
       "'안녕하세요'"
      ]
     },
     "execution_count": 65,
     "metadata": {},
     "output_type": "execute_result"
    }
   ],
   "source": [
    "text"
   ]
  },
  {
   "cell_type": "code",
   "execution_count": 66,
   "id": "22dd7286-83aa-4cc7-b9ef-6eddff70b6d5",
   "metadata": {},
   "outputs": [
    {
     "name": "stdin",
     "output_type": "stream",
     "text": [
      "나이를 입력해주세요 26\n"
     ]
    }
   ],
   "source": [
    "user_age = input('나이를 입력해주세요')"
   ]
  },
  {
   "cell_type": "code",
   "execution_count": 67,
   "id": "f96d52f9-9fda-44c0-bb19-e5d64db14933",
   "metadata": {},
   "outputs": [
    {
     "data": {
      "text/plain": [
       "'26'"
      ]
     },
     "execution_count": 67,
     "metadata": {},
     "output_type": "execute_result"
    }
   ],
   "source": [
    "user_age"
   ]
  },
  {
   "cell_type": "code",
   "execution_count": 68,
   "id": "ed4935ab-0de5-4991-b351-884e1e84584c",
   "metadata": {},
   "outputs": [],
   "source": [
    "# input data는 문자열로 인식이 된다. 계산을 하기 위해서는 int형으로 바꾸어 주어야 함"
   ]
  },
  {
   "cell_type": "code",
   "execution_count": 69,
   "id": "2945df11-df7f-4dfd-b9f3-45a7ab9739b5",
   "metadata": {},
   "outputs": [
    {
     "data": {
      "text/plain": [
       "26"
      ]
     },
     "execution_count": 69,
     "metadata": {},
     "output_type": "execute_result"
    }
   ],
   "source": [
    "int(user_age)"
   ]
  },
  {
   "cell_type": "code",
   "execution_count": 71,
   "id": "bfefbaf4-a660-4e1d-923f-8379e950323e",
   "metadata": {},
   "outputs": [
    {
     "name": "stdin",
     "output_type": "stream",
     "text": [
      "나이를 입력해주세요 abc\n"
     ]
    }
   ],
   "source": [
    "user_age = input('나이를 입력해주세요')"
   ]
  },
  {
   "cell_type": "code",
   "execution_count": 72,
   "id": "8bba5f3d-3508-4ee9-85c9-f16bded47cdd",
   "metadata": {},
   "outputs": [
    {
     "ename": "ValueError",
     "evalue": "invalid literal for int() with base 10: 'abc'",
     "output_type": "error",
     "traceback": [
      "\u001b[1;31m---------------------------------------------------------------------------\u001b[0m",
      "\u001b[1;31mValueError\u001b[0m                                Traceback (most recent call last)",
      "Input \u001b[1;32mIn [72]\u001b[0m, in \u001b[0;36m<cell line: 1>\u001b[1;34m()\u001b[0m\n\u001b[1;32m----> 1\u001b[0m \u001b[38;5;28;43mint\u001b[39;49m\u001b[43m(\u001b[49m\u001b[43muser_age\u001b[49m\u001b[43m)\u001b[49m\n",
      "\u001b[1;31mValueError\u001b[0m: invalid literal for int() with base 10: 'abc'"
     ]
    }
   ],
   "source": [
    "int(user_age)"
   ]
  },
  {
   "cell_type": "code",
   "execution_count": 73,
   "id": "93be6294-99c8-453e-9767-5005433189ed",
   "metadata": {},
   "outputs": [
    {
     "name": "stdout",
     "output_type": "stream",
     "text": [
      "숫자를 입력해주세요\n"
     ]
    }
   ],
   "source": [
    "try: #예외처리\n",
    "    print(int(user_age))\n",
    "except :\n",
    "    print('숫자를 입력해주세요')"
   ]
  },
  {
   "cell_type": "markdown",
   "id": "f0f575c9-0994-4c95-b0f6-e09aa0b5b60b",
   "metadata": {},
   "source": [
    "## Quiz\n",
    "\n",
    "1. 사용자의 나이를 입력 받으세요.\n",
    "\n",
    "(1) 20세 이상이면 \"성인\", 아니면 \"미성년자\"라고 출력되는 코드를 작성하세요.  \n",
    "(2) 20대 미만, 20대, 30대, 40대 이상을 출력하는 코드를 작성하세요.  \n",
    "\n",
    "2. 사용자의 이름을 입력 받으세요.\n",
    "\n",
    "(1) 사용자의 이름을 입력받아 사용자의 성을 출력해주는 코드를 작성하세요.  \n",
    "(2) 사용자의 성이 popular_last_name=['김','이','박']에 포함되는지 출력해주는 코드를 작성하세요.  \n",
    "(3) user_info = {'홍길동':24, '유재석':26, '김종국':27}에 해당하는 이름이면 나이를 출력해주는 코드를 작성하세요.  \n",
    "\n",
    "3. 사용자로부터 세 개의 숫자를 입력받아 가장 큰 수를 출력하세요.(입력형식: 1,2,3)\n",
    "\n",
    "4. 사용자로부터 주민등록번호를 입력받아, 뒷자리의 숫자가 1또는 3이면 \"남자\", 2또는 4면 \"여자\", 이외에는 \"오류\"라고 출력하세요.(입력 형식: 900000-1000000)"
   ]
  },
  {
   "cell_type": "code",
   "execution_count": 83,
   "id": "11181994-718c-4ff7-b214-9c8f14b66e4a",
   "metadata": {},
   "outputs": [
    {
     "name": "stdin",
     "output_type": "stream",
     "text": [
      "나이를 입력해주세요 50\n"
     ]
    }
   ],
   "source": [
    "age = input('나이를 입력해주세요')\n",
    "user_age = int(age)"
   ]
  },
  {
   "cell_type": "code",
   "execution_count": 81,
   "id": "1ef48b50-53c7-4984-b55b-247319a2de85",
   "metadata": {},
   "outputs": [
    {
     "name": "stdout",
     "output_type": "stream",
     "text": [
      "성인\n"
     ]
    }
   ],
   "source": [
    "if user_age < 20:\n",
    "    print('미성년자')\n",
    "else:\n",
    "    print('성인')"
   ]
  },
  {
   "cell_type": "code",
   "execution_count": 88,
   "id": "600065e5-e2b0-4c1b-af0e-0928001eb8fe",
   "metadata": {},
   "outputs": [
    {
     "name": "stdout",
     "output_type": "stream",
     "text": [
      "40대 이상\n"
     ]
    }
   ],
   "source": [
    "if user_age < 20:\n",
    "    print('20대 미만')\n",
    "elif 20 <= user_age < 30:\n",
    "    print('20대')\n",
    "elif 30 <= user_age < 40:\n",
    "    print('30대')\n",
    "else:\n",
    "    print('40대 이상')"
   ]
  },
  {
   "cell_type": "code",
   "execution_count": 164,
   "id": "4ed28f79-ea2b-4e01-92ec-d506b1c4bb0f",
   "metadata": {},
   "outputs": [
    {
     "name": "stdout",
     "output_type": "stream",
     "text": [
      "성인\n",
      "40대 이상\n"
     ]
    }
   ],
   "source": [
    "if user_age >= 20:\n",
    "    print('성인')\n",
    "    if 20 <= user_age < 30:\n",
    "        print('20대')\n",
    "    elif 30 <= user_age < 40:\n",
    "        print('30대')\n",
    "    else:\n",
    "        print('40대 이상')\n",
    "else:\n",
    "    print('미성년자')\n",
    "    print('20대 미만')"
   ]
  },
  {
   "cell_type": "code",
   "execution_count": 141,
   "id": "e3739971-8123-41c7-9653-d11707146659",
   "metadata": {},
   "outputs": [
    {
     "name": "stdin",
     "output_type": "stream",
     "text": [
      "이름을 입력해주세요 김철수\n"
     ]
    }
   ],
   "source": [
    "name = input('이름을 입력해주세요')"
   ]
  },
  {
   "cell_type": "code",
   "execution_count": 135,
   "id": "c57bc6ca-71d1-414b-b74c-ddc5b40b2b5d",
   "metadata": {},
   "outputs": [
    {
     "name": "stdout",
     "output_type": "stream",
     "text": [
      "유\n"
     ]
    }
   ],
   "source": [
    "if name:\n",
    "    print(name[0])"
   ]
  },
  {
   "cell_type": "code",
   "execution_count": 96,
   "id": "14021327-c0c3-44a0-9cd7-670e501cb8f1",
   "metadata": {},
   "outputs": [],
   "source": [
    "popular_last_name = ['김', '이', '박'] "
   ]
  },
  {
   "cell_type": "code",
   "execution_count": 136,
   "id": "a7c181b7-8c60-47f3-8755-bf1299c233a6",
   "metadata": {},
   "outputs": [
    {
     "name": "stdout",
     "output_type": "stream",
     "text": [
      "포함되지 않습니다\n"
     ]
    }
   ],
   "source": [
    "if name[0] in popular_last_name:\n",
    "    print('포함됩니다')\n",
    "else:\n",
    "    print('포함되지 않습니다')"
   ]
  },
  {
   "cell_type": "code",
   "execution_count": 137,
   "id": "1b6fce47-eeb0-40f4-a95d-5acaec95edc0",
   "metadata": {},
   "outputs": [],
   "source": [
    "user_info = {'홍길동':24, '유재석':26, '김종국':27}"
   ]
  },
  {
   "cell_type": "code",
   "execution_count": 138,
   "id": "fd5e3887-0776-4e6c-92a0-d4e6c7a64916",
   "metadata": {},
   "outputs": [
    {
     "data": {
      "text/plain": [
       "dict"
      ]
     },
     "execution_count": 138,
     "metadata": {},
     "output_type": "execute_result"
    }
   ],
   "source": [
    "type(user_info)"
   ]
  },
  {
   "cell_type": "code",
   "execution_count": 143,
   "id": "f394aeb8-2dfc-45e6-8010-e6ccd8a54654",
   "metadata": {},
   "outputs": [
    {
     "name": "stdout",
     "output_type": "stream",
     "text": [
      "존재하지 않습니다\n"
     ]
    }
   ],
   "source": [
    "if name in user_info:\n",
    "    print(user_info[name]) #keys 관련으로?\n",
    "else:\n",
    "    print('존재하지 않습니다')"
   ]
  },
  {
   "cell_type": "code",
   "execution_count": 144,
   "id": "51a35989-0ca0-4820-b159-979c9dbe75dd",
   "metadata": {},
   "outputs": [
    {
     "name": "stdout",
     "output_type": "stream",
     "text": [
      "존재하지 않습니다\n"
     ]
    }
   ],
   "source": [
    "if name in user_info.keys():\n",
    "    print(user_info[name]) #keys 관련으로?\n",
    "else:\n",
    "    print('존재하지 않습니다')"
   ]
  },
  {
   "cell_type": "code",
   "execution_count": 148,
   "id": "f8da8900-8f8d-49a0-8f90-40782130d0a6",
   "metadata": {},
   "outputs": [
    {
     "name": "stdin",
     "output_type": "stream",
     "text": [
      "세 개의 숫자를 입력하세요 1,2,3\n"
     ]
    }
   ],
   "source": [
    "num = input('세 개의 숫자를 입력하세요')"
   ]
  },
  {
   "cell_type": "code",
   "execution_count": 151,
   "id": "4860af8a-aff9-40a9-af5e-38a60c572ab3",
   "metadata": {},
   "outputs": [],
   "source": [
    "num_list = num.split(',')"
   ]
  },
  {
   "cell_type": "code",
   "execution_count": 154,
   "id": "d8158255-1458-4bcc-a1af-b0afc502fad6",
   "metadata": {},
   "outputs": [
    {
     "data": {
      "text/plain": [
       "'3'"
      ]
     },
     "execution_count": 154,
     "metadata": {},
     "output_type": "execute_result"
    }
   ],
   "source": [
    "max(num_list)"
   ]
  },
  {
   "cell_type": "code",
   "execution_count": 153,
   "id": "869c3bfb-d74c-42ba-9229-45f1a8026cec",
   "metadata": {},
   "outputs": [],
   "source": [
    "num_list2 = list(map(int, num_list))"
   ]
  },
  {
   "cell_type": "code",
   "execution_count": 106,
   "id": "add7dea2-018f-4fac-9770-d67d6c292edd",
   "metadata": {},
   "outputs": [
    {
     "data": {
      "text/plain": [
       "[1, 2, 3]"
      ]
     },
     "execution_count": 106,
     "metadata": {},
     "output_type": "execute_result"
    }
   ],
   "source": [
    "# 3번 힌트\n",
    "list(map(int, ['1', '2', '3']))"
   ]
  },
  {
   "cell_type": "code",
   "execution_count": 157,
   "id": "3df816be-0e3c-4426-9b30-8db75c310f84",
   "metadata": {},
   "outputs": [
    {
     "name": "stdin",
     "output_type": "stream",
     "text": [
      "주민등록번호를 입력하세요 912939123-511111\n"
     ]
    }
   ],
   "source": [
    "pin = input('주민등록번호를 입력하세요')"
   ]
  },
  {
   "cell_type": "code",
   "execution_count": 161,
   "id": "dc72a7de-a715-47f0-9eaa-fa0fc52d4473",
   "metadata": {},
   "outputs": [],
   "source": [
    "sex = pin[pin.find('-') + 1]"
   ]
  },
  {
   "cell_type": "code",
   "execution_count": 162,
   "id": "18fbcca6-5a02-4c74-97f8-69ee3dead067",
   "metadata": {},
   "outputs": [
    {
     "name": "stdout",
     "output_type": "stream",
     "text": [
      "오류입니다\n"
     ]
    }
   ],
   "source": [
    "if sex == '1' or sex == '3':\n",
    "    print('남자')\n",
    "elif sex == '2' or sex == '4':\n",
    "    print('여자')\n",
    "else:\n",
    "    print('오류입니다') # 여기 다시 한 번 체크 해보기!"
   ]
  },
  {
   "cell_type": "code",
   "execution_count": null,
   "id": "809fe4fe-cc33-4d5a-a2c8-8e4ec743705d",
   "metadata": {},
   "outputs": [],
   "source": []
  }
 ],
 "metadata": {
  "kernelspec": {
   "display_name": "Python 3 (ipykernel)",
   "language": "python",
   "name": "python3"
  },
  "language_info": {
   "codemirror_mode": {
    "name": "ipython",
    "version": 3
   },
   "file_extension": ".py",
   "mimetype": "text/x-python",
   "name": "python",
   "nbconvert_exporter": "python",
   "pygments_lexer": "ipython3",
   "version": "3.9.12"
  }
 },
 "nbformat": 4,
 "nbformat_minor": 5
}
