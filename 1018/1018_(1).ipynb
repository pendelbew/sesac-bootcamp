{
 "cells": [
  {
   "cell_type": "markdown",
   "id": "c39d9e53-dc14-47f1-9065-8bc99c1b3d74",
   "metadata": {},
   "source": [
    "# 리스트"
   ]
  },
  {
   "cell_type": "code",
   "execution_count": 1,
   "id": "b0a8c28a-04e4-4d92-9e91-b6c2f72d19ca",
   "metadata": {},
   "outputs": [],
   "source": [
    "a = 1\n",
    "b = 'abc'"
   ]
  },
  {
   "cell_type": "code",
   "execution_count": 3,
   "id": "45bc7a61-ff60-4106-b7f9-86f5a82ddc00",
   "metadata": {},
   "outputs": [],
   "source": [
    "list = [1, 2, 3, 4]"
   ]
  },
  {
   "cell_type": "code",
   "execution_count": 4,
   "id": "53e63fa6-f2b9-40ee-895b-61d6b538361f",
   "metadata": {},
   "outputs": [
    {
     "data": {
      "text/plain": [
       "list"
      ]
     },
     "execution_count": 4,
     "metadata": {},
     "output_type": "execute_result"
    }
   ],
   "source": [
    "type(list)"
   ]
  },
  {
   "cell_type": "markdown",
   "id": "5ef0704c-e660-4f5a-b5f5-517e42e0821a",
   "metadata": {},
   "source": [
    "파이썬에서는 숫자, 문자, bool등 자료형이 다른 문자도 넣을 수 있다.\n",
    "다만 숫자 문자 섞여있는 거 잘 분리하는 것이 필요하다. 장단점이 됨."
   ]
  },
  {
   "cell_type": "code",
   "execution_count": 5,
   "id": "947a4288-716e-4856-8d0f-be87149ff760",
   "metadata": {},
   "outputs": [],
   "source": [
    "l2 = [1, '2', True]"
   ]
  },
  {
   "cell_type": "code",
   "execution_count": 6,
   "id": "90e3b94d-5bf2-4c79-be62-e0100b0c59d0",
   "metadata": {},
   "outputs": [
    {
     "data": {
      "text/plain": [
       "list"
      ]
     },
     "execution_count": 6,
     "metadata": {},
     "output_type": "execute_result"
    }
   ],
   "source": [
    "type(l2)"
   ]
  },
  {
   "cell_type": "code",
   "execution_count": 17,
   "id": "9eafa80d-4eba-4bf7-9a7b-cb3ebc79fc32",
   "metadata": {},
   "outputs": [],
   "source": [
    "# 빈 리스트 만드는 법"
   ]
  },
  {
   "cell_type": "markdown",
   "id": "94ee1a5d-8880-453e-8020-0b793ef4bf30",
   "metadata": {
    "tags": []
   },
   "source": [
    "### 리스트 인덱싱"
   ]
  },
  {
   "cell_type": "code",
   "execution_count": 14,
   "id": "58b88f59-2e65-4b85-afe6-9235caf9b339",
   "metadata": {},
   "outputs": [],
   "source": [
    "num = [1,2,3,4,5]"
   ]
  },
  {
   "cell_type": "code",
   "execution_count": 15,
   "id": "772143be-3fa5-4b09-abb6-db2c923be9a9",
   "metadata": {},
   "outputs": [
    {
     "data": {
      "text/plain": [
       "3"
      ]
     },
     "execution_count": 15,
     "metadata": {},
     "output_type": "execute_result"
    }
   ],
   "source": [
    "num[2]"
   ]
  },
  {
   "cell_type": "code",
   "execution_count": 18,
   "id": "de1b7353-9620-44ec-9ba0-6eab2a030a2b",
   "metadata": {},
   "outputs": [
    {
     "data": {
      "text/plain": [
       "5"
      ]
     },
     "execution_count": 18,
     "metadata": {},
     "output_type": "execute_result"
    }
   ],
   "source": [
    "num[-1]"
   ]
  },
  {
   "cell_type": "markdown",
   "id": "338bb5ef-3b45-4d1d-b849-ec646c3c40e1",
   "metadata": {
    "tags": []
   },
   "source": [
    "### 리스트 슬라이싱"
   ]
  },
  {
   "cell_type": "code",
   "execution_count": 19,
   "id": "6114a88d-4a85-4d10-94a5-19266a7af445",
   "metadata": {},
   "outputs": [],
   "source": [
    "num = [1, 2, 3, 4, 5]"
   ]
  },
  {
   "cell_type": "code",
   "execution_count": 21,
   "id": "abbfe7bb-a856-4d7e-96aa-8aaaeeeb6251",
   "metadata": {},
   "outputs": [
    {
     "data": {
      "text/plain": [
       "[2, 3, 4]"
      ]
     },
     "execution_count": 21,
     "metadata": {},
     "output_type": "execute_result"
    }
   ],
   "source": [
    "num[1:4] #1에서 3번까지"
   ]
  },
  {
   "cell_type": "code",
   "execution_count": 22,
   "id": "901ee639-5c48-42d7-8d40-71cae9b2d612",
   "metadata": {},
   "outputs": [
    {
     "data": {
      "text/plain": [
       "[3, 4]"
      ]
     },
     "execution_count": 22,
     "metadata": {},
     "output_type": "execute_result"
    }
   ],
   "source": [
    "num[-3:-1] #-1은 안 가져온다"
   ]
  },
  {
   "cell_type": "code",
   "execution_count": 23,
   "id": "71adf996-b335-4712-8b8e-9812d1cc98a1",
   "metadata": {},
   "outputs": [
    {
     "data": {
      "text/plain": [
       "[1, 2, 3]"
      ]
     },
     "execution_count": 23,
     "metadata": {},
     "output_type": "execute_result"
    }
   ],
   "source": [
    "num[:3]"
   ]
  },
  {
   "cell_type": "code",
   "execution_count": 24,
   "id": "203d0236-1c7a-42a9-88a8-e3a66be14ddd",
   "metadata": {},
   "outputs": [
    {
     "data": {
      "text/plain": [
       "[4, 5]"
      ]
     },
     "execution_count": 24,
     "metadata": {},
     "output_type": "execute_result"
    }
   ],
   "source": [
    "num[3:]"
   ]
  },
  {
   "cell_type": "code",
   "execution_count": 25,
   "id": "f94b2166-ef05-493a-9054-c0ea47be131e",
   "metadata": {},
   "outputs": [],
   "source": [
    "num1 = [1, 2, 3, 4, 5, '강아지']"
   ]
  },
  {
   "cell_type": "code",
   "execution_count": 26,
   "id": "6c5ff6ee-048e-40ca-8f74-590a4330f9a7",
   "metadata": {},
   "outputs": [
    {
     "data": {
      "text/plain": [
       "[1, 2, 3, 4, 5]"
      ]
     },
     "execution_count": 26,
     "metadata": {},
     "output_type": "execute_result"
    }
   ],
   "source": [
    "num1[:-1]"
   ]
  },
  {
   "cell_type": "code",
   "execution_count": 27,
   "id": "eb7feca5-cf88-425f-b95f-7e41620d69ec",
   "metadata": {},
   "outputs": [
    {
     "data": {
      "text/plain": [
       "5"
      ]
     },
     "execution_count": 27,
     "metadata": {},
     "output_type": "execute_result"
    }
   ],
   "source": [
    "num[-1] #라벨은 보통 끝에 들어가 있음."
   ]
  },
  {
   "cell_type": "code",
   "execution_count": 28,
   "id": "4ee60f38-5c26-4689-b970-c121a80a6c11",
   "metadata": {},
   "outputs": [],
   "source": [
    "num2 = [1, 2, 3, 4, 5, 6, 7, 8, 9, 10, '강아지']"
   ]
  },
  {
   "cell_type": "code",
   "execution_count": 29,
   "id": "42eb8429-7c9f-412f-9676-11154024a969",
   "metadata": {},
   "outputs": [
    {
     "data": {
      "text/plain": [
       "[1, 3, 5]"
      ]
     },
     "execution_count": 29,
     "metadata": {},
     "output_type": "execute_result"
    }
   ],
   "source": [
    "num2[:5:2] #두 칸씩 스텝step해서"
   ]
  },
  {
   "cell_type": "code",
   "execution_count": 43,
   "id": "36bf6e2b-c9d5-46cd-ab90-b09e2cf39e02",
   "metadata": {},
   "outputs": [
    {
     "data": {
      "text/plain": [
       "['강아지', 10, 9, 8, 7, 6, 5, 4, 3, 2, 1]"
      ]
     },
     "execution_count": 43,
     "metadata": {},
     "output_type": "execute_result"
    }
   ],
   "source": [
    "num2[::-1]"
   ]
  },
  {
   "cell_type": "code",
   "execution_count": 44,
   "id": "a4f56fbc-a84d-4a5c-af09-a859801f6140",
   "metadata": {},
   "outputs": [],
   "source": [
    "num = [1, 2, 3, 4, 5]"
   ]
  },
  {
   "cell_type": "code",
   "execution_count": 50,
   "id": "b60fa3d8-8174-45a3-b74d-a5dd5f7f7b93",
   "metadata": {},
   "outputs": [
    {
     "data": {
      "text/plain": [
       "[4, 3, 2, 1]"
      ]
     },
     "execution_count": 50,
     "metadata": {},
     "output_type": "execute_result"
    }
   ],
   "source": [
    "num[3::-1]"
   ]
  },
  {
   "cell_type": "code",
   "execution_count": 31,
   "id": "bc276c64-aee2-42aa-8763-ad037e3c0b25",
   "metadata": {},
   "outputs": [
    {
     "data": {
      "text/plain": [
       "3"
      ]
     },
     "execution_count": 31,
     "metadata": {},
     "output_type": "execute_result"
    }
   ],
   "source": [
    "num[0] + num[1]"
   ]
  },
  {
   "cell_type": "code",
   "execution_count": 32,
   "id": "a4721421-92cf-46ff-a07d-beba7ad15d9f",
   "metadata": {},
   "outputs": [],
   "source": [
    "l1 = [1, 2, 3]"
   ]
  },
  {
   "cell_type": "code",
   "execution_count": 33,
   "id": "171eb90b-aa64-4046-916f-b8a54f15550b",
   "metadata": {},
   "outputs": [],
   "source": [
    "l2 = [4, 5, 6]"
   ]
  },
  {
   "cell_type": "code",
   "execution_count": 34,
   "id": "e86d6684-eb9f-4f25-83f7-484a69101ef3",
   "metadata": {},
   "outputs": [
    {
     "data": {
      "text/plain": [
       "[1, 2, 3, 4, 5, 6]"
      ]
     },
     "execution_count": 34,
     "metadata": {},
     "output_type": "execute_result"
    }
   ],
   "source": [
    "l1 + l2"
   ]
  },
  {
   "cell_type": "markdown",
   "id": "4c19ac4c-b5da-40d1-be21-19b9b190a34a",
   "metadata": {},
   "source": [
    "리스트 연산은 리스트를 합치는 방식으로"
   ]
  },
  {
   "cell_type": "code",
   "execution_count": 35,
   "id": "d9828f90-23bd-4f14-a697-6567500c426a",
   "metadata": {},
   "outputs": [],
   "source": [
    "mat2 = [[1, 2, 3, 4],\n",
    "        [5, 6, 7, 8],\n",
    "        [9, 10, 11, 12]]"
   ]
  },
  {
   "cell_type": "code",
   "execution_count": 36,
   "id": "a8129d20-32d5-4b82-a7c0-4e3f0521a836",
   "metadata": {},
   "outputs": [
    {
     "data": {
      "text/plain": [
       "[1, 2, 3, 4]"
      ]
     },
     "execution_count": 36,
     "metadata": {},
     "output_type": "execute_result"
    }
   ],
   "source": [
    "mat2[0]"
   ]
  },
  {
   "cell_type": "code",
   "execution_count": 37,
   "id": "bca45a98-accc-419a-96bd-8d7fce7e6cb2",
   "metadata": {},
   "outputs": [
    {
     "data": {
      "text/plain": [
       "1"
      ]
     },
     "execution_count": 37,
     "metadata": {},
     "output_type": "execute_result"
    }
   ],
   "source": [
    "mat2[0][0]"
   ]
  },
  {
   "cell_type": "code",
   "execution_count": 38,
   "id": "cf76f701-b30c-44ba-8c84-2d89277b14d5",
   "metadata": {},
   "outputs": [
    {
     "data": {
      "text/plain": [
       "[2, 3]"
      ]
     },
     "execution_count": 38,
     "metadata": {},
     "output_type": "execute_result"
    }
   ],
   "source": [
    "mat2[0][1:3]"
   ]
  },
  {
   "cell_type": "markdown",
   "id": "2de7a83e-b6a9-4ced-b427-583be684556f",
   "metadata": {
    "tags": []
   },
   "source": [
    "#### 이중리스트 - 작동하는 방식이 다름 (틀린 예시)"
   ]
  },
  {
   "cell_type": "code",
   "execution_count": 39,
   "id": "20fe5d0a-25e3-43cb-baa1-6b17a8510420",
   "metadata": {},
   "outputs": [
    {
     "data": {
      "text/plain": [
       "[[5, 6, 7, 8], [9, 10, 11, 12]]"
      ]
     },
     "execution_count": 39,
     "metadata": {},
     "output_type": "execute_result"
    }
   ],
   "source": [
    "mat2[1:]"
   ]
  },
  {
   "cell_type": "code",
   "execution_count": 40,
   "id": "8ad2c915-a490-4701-a7e5-0692ab8a3858",
   "metadata": {},
   "outputs": [
    {
     "data": {
      "text/plain": [
       "[[5, 6, 7, 8], [9, 10, 11, 12]]"
      ]
     },
     "execution_count": 40,
     "metadata": {},
     "output_type": "execute_result"
    }
   ],
   "source": [
    "mat2[1:3]"
   ]
  },
  {
   "cell_type": "markdown",
   "id": "0cc98147-3019-4b66-9443-2ef9decc5017",
   "metadata": {},
   "source": [
    "왜 mat2[1:][1:3]은 [6, 7, 10, 11]이 아닐까? < 이렇게 작동하지 않음"
   ]
  },
  {
   "cell_type": "markdown",
   "id": "85f399a5-d486-4cbf-accb-e981aa0b0a34",
   "metadata": {
    "tags": []
   },
   "source": [
    "### 리스트 연산"
   ]
  },
  {
   "cell_type": "code",
   "execution_count": 51,
   "id": "4d2c3d0a-5080-476a-b401-8421db7a6441",
   "metadata": {},
   "outputs": [],
   "source": [
    "l1 = [1, 2, 3, 4]"
   ]
  },
  {
   "cell_type": "code",
   "execution_count": 52,
   "id": "edff39a2-1bb0-4f4b-be58-af4467beaa4e",
   "metadata": {},
   "outputs": [],
   "source": [
    "l2 = [5, 6, 7, 8]"
   ]
  },
  {
   "cell_type": "code",
   "execution_count": 53,
   "id": "2fcbfa6d-63a1-4492-9ea6-4ff4a3ba7fff",
   "metadata": {},
   "outputs": [
    {
     "data": {
      "text/plain": [
       "[1, 2, 3, 4, 5, 6, 7, 8]"
      ]
     },
     "execution_count": 53,
     "metadata": {},
     "output_type": "execute_result"
    }
   ],
   "source": [
    "l1 + l2"
   ]
  },
  {
   "cell_type": "code",
   "execution_count": 54,
   "id": "e0f0131e-39b9-47c8-bb3e-a11ec293c35b",
   "metadata": {},
   "outputs": [
    {
     "data": {
      "text/plain": [
       "[1, 2, 3, 4, 1, 2, 3, 4, 1, 2, 3, 4]"
      ]
     },
     "execution_count": 54,
     "metadata": {},
     "output_type": "execute_result"
    }
   ],
   "source": [
    "l1 * 3"
   ]
  },
  {
   "cell_type": "markdown",
   "id": "8f882ebc-eefb-402e-af6e-c6f20a4b5d6d",
   "metadata": {},
   "source": [
    "문자열과 매우 유사함"
   ]
  },
  {
   "cell_type": "markdown",
   "id": "1a44240d-04c2-4045-8798-b2257f45b49c",
   "metadata": {
    "tags": []
   },
   "source": [
    "### 리스트 추가"
   ]
  },
  {
   "cell_type": "code",
   "execution_count": 55,
   "id": "b16ca70c-5fee-46be-8746-23140372c0ea",
   "metadata": {},
   "outputs": [],
   "source": [
    "l1[0] = 100"
   ]
  },
  {
   "cell_type": "code",
   "execution_count": 56,
   "id": "f13d8608-cea9-4709-b906-7a8ea48b8b12",
   "metadata": {},
   "outputs": [
    {
     "data": {
      "text/plain": [
       "[100, 2, 3, 4]"
      ]
     },
     "execution_count": 56,
     "metadata": {},
     "output_type": "execute_result"
    }
   ],
   "source": [
    "l1"
   ]
  },
  {
   "cell_type": "code",
   "execution_count": 59,
   "id": "b5263dd7-fd51-4a3a-9e23-5f88d0493f10",
   "metadata": {},
   "outputs": [],
   "source": [
    "l1 = [1, 2, 3, 4]"
   ]
  },
  {
   "cell_type": "code",
   "execution_count": 60,
   "id": "688a1bfa-313f-4af8-8533-88863d12171e",
   "metadata": {},
   "outputs": [],
   "source": [
    "l1[1:3] = [100, 101]"
   ]
  },
  {
   "cell_type": "code",
   "execution_count": 61,
   "id": "f0ce7717-4178-4b87-a400-614013e006cb",
   "metadata": {},
   "outputs": [
    {
     "data": {
      "text/plain": [
       "[1, 100, 101, 4]"
      ]
     },
     "execution_count": 61,
     "metadata": {},
     "output_type": "execute_result"
    }
   ],
   "source": [
    "l1"
   ]
  },
  {
   "cell_type": "markdown",
   "id": "6dca1002-5674-46cc-8871-677d985fcc02",
   "metadata": {},
   "source": [
    "슬라이싱으로도 리스트에 값을 추가할 수 있음. 대체하는 방식으로 변경된다."
   ]
  },
  {
   "cell_type": "code",
   "execution_count": 62,
   "id": "3940f4f6-fa6b-475f-8303-1a34822e8e20",
   "metadata": {},
   "outputs": [],
   "source": [
    "del l1[0]"
   ]
  },
  {
   "cell_type": "code",
   "execution_count": 63,
   "id": "ae3b703c-726f-4539-a73d-0820a5160ba3",
   "metadata": {},
   "outputs": [
    {
     "data": {
      "text/plain": [
       "[100, 101, 4]"
      ]
     },
     "execution_count": 63,
     "metadata": {},
     "output_type": "execute_result"
    }
   ],
   "source": [
    "l1"
   ]
  },
  {
   "cell_type": "code",
   "execution_count": 64,
   "id": "9bc937c4-650f-4519-a5ec-54a3ec5c7fcd",
   "metadata": {},
   "outputs": [],
   "source": [
    "del l1[-1]"
   ]
  },
  {
   "cell_type": "code",
   "execution_count": 65,
   "id": "18ae633f-96fe-4606-90c0-2b4849312671",
   "metadata": {},
   "outputs": [
    {
     "data": {
      "text/plain": [
       "[100, 101]"
      ]
     },
     "execution_count": 65,
     "metadata": {},
     "output_type": "execute_result"
    }
   ],
   "source": [
    "l1"
   ]
  },
  {
   "cell_type": "markdown",
   "id": "9b06499d-89da-4086-8f86-90483623048e",
   "metadata": {
    "tags": []
   },
   "source": [
    "### 리스트 관련 함수"
   ]
  },
  {
   "cell_type": "markdown",
   "id": "76b158b3-1487-4de5-846f-433e3a884d0d",
   "metadata": {
    "tags": []
   },
   "source": [
    "#### append"
   ]
  },
  {
   "cell_type": "code",
   "execution_count": 66,
   "id": "74b83989-e950-4a57-9ede-f16b1bd0d9aa",
   "metadata": {},
   "outputs": [],
   "source": [
    "l = []"
   ]
  },
  {
   "cell_type": "code",
   "execution_count": 67,
   "id": "ab56a3d8-821d-4e38-9f38-9413627c39c2",
   "metadata": {},
   "outputs": [],
   "source": [
    "l.append(1)"
   ]
  },
  {
   "cell_type": "code",
   "execution_count": 68,
   "id": "b43bb0f5-3d03-4c4c-bcb3-74331757ea3e",
   "metadata": {},
   "outputs": [
    {
     "data": {
      "text/plain": [
       "[1]"
      ]
     },
     "execution_count": 68,
     "metadata": {},
     "output_type": "execute_result"
    }
   ],
   "source": [
    "l"
   ]
  },
  {
   "cell_type": "code",
   "execution_count": 69,
   "id": "ec4dc051-8304-4402-b1f1-371862ae7190",
   "metadata": {},
   "outputs": [],
   "source": [
    "l.append(2)"
   ]
  },
  {
   "cell_type": "code",
   "execution_count": 70,
   "id": "ce115196-b88b-436a-a3c4-3884412b31b2",
   "metadata": {},
   "outputs": [
    {
     "data": {
      "text/plain": [
       "[1, 2]"
      ]
     },
     "execution_count": 70,
     "metadata": {},
     "output_type": "execute_result"
    }
   ],
   "source": [
    "l"
   ]
  },
  {
   "cell_type": "code",
   "execution_count": 71,
   "id": "aaf87d36-c7ff-44de-8f93-54413a0da409",
   "metadata": {},
   "outputs": [],
   "source": [
    "# 뒤에 하나씩 추가가 된다"
   ]
  },
  {
   "cell_type": "markdown",
   "id": "a09e5d0e-b615-4e88-af21-f056739d2ff5",
   "metadata": {
    "tags": []
   },
   "source": [
    "#### insert"
   ]
  },
  {
   "cell_type": "code",
   "execution_count": 72,
   "id": "6f403cc2-d037-4512-aedc-6dd6792000b4",
   "metadata": {},
   "outputs": [],
   "source": [
    "l.insert(0,3)"
   ]
  },
  {
   "cell_type": "code",
   "execution_count": 73,
   "id": "562bae4b-1059-4ee7-a076-12fa0a4bbf11",
   "metadata": {},
   "outputs": [
    {
     "data": {
      "text/plain": [
       "[3, 1, 2]"
      ]
     },
     "execution_count": 73,
     "metadata": {},
     "output_type": "execute_result"
    }
   ],
   "source": [
    "l"
   ]
  },
  {
   "cell_type": "code",
   "execution_count": 74,
   "id": "d6efbe80-4ca6-4e4d-bc10-7a090e988c73",
   "metadata": {},
   "outputs": [],
   "source": [
    "# 함수 뒤에 shift + tab 누르면 설명이 나온다."
   ]
  },
  {
   "cell_type": "code",
   "execution_count": 75,
   "id": "3b8cc2b2-547e-4a15-ad34-ce87220b1852",
   "metadata": {},
   "outputs": [],
   "source": [
    "l.insert(1,4)"
   ]
  },
  {
   "cell_type": "code",
   "execution_count": 76,
   "id": "355aa0bd-d079-4891-9e58-f798556f5cba",
   "metadata": {},
   "outputs": [
    {
     "data": {
      "text/plain": [
       "[3, 4, 1, 2]"
      ]
     },
     "execution_count": 76,
     "metadata": {},
     "output_type": "execute_result"
    }
   ],
   "source": [
    "l"
   ]
  },
  {
   "cell_type": "markdown",
   "id": "164a966d-9f5a-4ee8-b6f1-5d8abb2f1887",
   "metadata": {
    "tags": []
   },
   "source": [
    "#### remove"
   ]
  },
  {
   "cell_type": "code",
   "execution_count": 77,
   "id": "a97c8d10-d27f-4a07-8ae5-e5e5a8e82491",
   "metadata": {},
   "outputs": [
    {
     "data": {
      "text/plain": [
       "[3, 4, 1, 2]"
      ]
     },
     "execution_count": 77,
     "metadata": {},
     "output_type": "execute_result"
    }
   ],
   "source": [
    "l"
   ]
  },
  {
   "cell_type": "code",
   "execution_count": 78,
   "id": "7806a7f1-3b24-4ee4-a89e-f17c7b725a5b",
   "metadata": {},
   "outputs": [],
   "source": [
    "l.remove(2)"
   ]
  },
  {
   "cell_type": "code",
   "execution_count": 79,
   "id": "b39a6e73-d22c-42d0-a00e-b5bec81b26e3",
   "metadata": {},
   "outputs": [],
   "source": [
    "# 특정 값을 넣어서 삭제 가능"
   ]
  },
  {
   "cell_type": "code",
   "execution_count": 80,
   "id": "8d46a690-d3a5-46bd-b872-3f2a993e05d3",
   "metadata": {},
   "outputs": [
    {
     "data": {
      "text/plain": [
       "[3, 4, 1]"
      ]
     },
     "execution_count": 80,
     "metadata": {},
     "output_type": "execute_result"
    }
   ],
   "source": [
    "l"
   ]
  },
  {
   "cell_type": "markdown",
   "id": "fbd94b36-15e8-479a-962b-3e60b756b6f3",
   "metadata": {
    "tags": []
   },
   "source": [
    "#### sort"
   ]
  },
  {
   "cell_type": "code",
   "execution_count": 81,
   "id": "9dbc8580-d9b2-4d11-aae7-92e82d9907a4",
   "metadata": {},
   "outputs": [],
   "source": [
    "l.sort()"
   ]
  },
  {
   "cell_type": "code",
   "execution_count": 82,
   "id": "d74ba404-8b1f-4fd7-8fde-5ae9f1a79e12",
   "metadata": {},
   "outputs": [
    {
     "data": {
      "text/plain": [
       "[1, 3, 4]"
      ]
     },
     "execution_count": 82,
     "metadata": {},
     "output_type": "execute_result"
    }
   ],
   "source": [
    "l"
   ]
  },
  {
   "cell_type": "code",
   "execution_count": 83,
   "id": "e43a7e9b-efad-4b75-8cce-dc3d059adb1e",
   "metadata": {},
   "outputs": [],
   "source": [
    "l.append('가')"
   ]
  },
  {
   "cell_type": "code",
   "execution_count": 84,
   "id": "e540010b-70d3-44bf-ae94-2ac9118d9878",
   "metadata": {},
   "outputs": [
    {
     "data": {
      "text/plain": [
       "[1, 3, 4, '가']"
      ]
     },
     "execution_count": 84,
     "metadata": {},
     "output_type": "execute_result"
    }
   ],
   "source": [
    "l"
   ]
  },
  {
   "cell_type": "code",
   "execution_count": 85,
   "id": "2f19b981-cf14-49ba-a10c-409630717a53",
   "metadata": {},
   "outputs": [
    {
     "ename": "TypeError",
     "evalue": "'<' not supported between instances of 'str' and 'int'",
     "output_type": "error",
     "traceback": [
      "\u001b[1;31m---------------------------------------------------------------------------\u001b[0m",
      "\u001b[1;31mTypeError\u001b[0m                                 Traceback (most recent call last)",
      "Input \u001b[1;32mIn [85]\u001b[0m, in \u001b[0;36m<cell line: 1>\u001b[1;34m()\u001b[0m\n\u001b[1;32m----> 1\u001b[0m \u001b[43ml\u001b[49m\u001b[38;5;241;43m.\u001b[39;49m\u001b[43msort\u001b[49m\u001b[43m(\u001b[49m\u001b[43m)\u001b[49m\n",
      "\u001b[1;31mTypeError\u001b[0m: '<' not supported between instances of 'str' and 'int'"
     ]
    }
   ],
   "source": [
    "l.sort()"
   ]
  },
  {
   "cell_type": "code",
   "execution_count": 86,
   "id": "393b719b-1637-4e8a-9e2e-53cc7390bc5e",
   "metadata": {},
   "outputs": [],
   "source": [
    "# 숫자와 문자는 비교를 할 수 없음."
   ]
  },
  {
   "cell_type": "code",
   "execution_count": 88,
   "id": "0fce0999-a805-4c9d-b695-5928d9af7f0a",
   "metadata": {},
   "outputs": [],
   "source": [
    "l.remove('가')"
   ]
  },
  {
   "cell_type": "code",
   "execution_count": 89,
   "id": "1292bdb6-1442-42b4-9384-186cce66d226",
   "metadata": {},
   "outputs": [],
   "source": [
    "l.sort()"
   ]
  },
  {
   "cell_type": "code",
   "execution_count": 90,
   "id": "cb757756-e66e-4a20-873d-04cc02f78cc8",
   "metadata": {},
   "outputs": [
    {
     "data": {
      "text/plain": [
       "[1, 3, 4]"
      ]
     },
     "execution_count": 90,
     "metadata": {},
     "output_type": "execute_result"
    }
   ],
   "source": [
    "l"
   ]
  },
  {
   "cell_type": "code",
   "execution_count": 92,
   "id": "8ac188d0-aaff-4562-9878-2613247c1543",
   "metadata": {
    "tags": []
   },
   "outputs": [],
   "source": [
    "# type error를 검색해보는 것도 좋음\n",
    "# stackoverflow 웹사이트 정리 살펴보기"
   ]
  },
  {
   "cell_type": "markdown",
   "id": "faa177e9-98f0-49ec-869c-b845c1800b5e",
   "metadata": {
    "tags": []
   },
   "source": [
    "#### index"
   ]
  },
  {
   "cell_type": "code",
   "execution_count": 93,
   "id": "fc55e692-5ca6-409a-a387-730bd1ff9cd4",
   "metadata": {},
   "outputs": [],
   "source": [
    "l = [1, 2, 3, 4]"
   ]
  },
  {
   "cell_type": "code",
   "execution_count": 94,
   "id": "30ea7b48-bf8f-40da-ae4f-d04379198820",
   "metadata": {},
   "outputs": [
    {
     "data": {
      "text/plain": [
       "3"
      ]
     },
     "execution_count": 94,
     "metadata": {},
     "output_type": "execute_result"
    }
   ],
   "source": [
    "l.index(4)"
   ]
  },
  {
   "cell_type": "code",
   "execution_count": 95,
   "id": "84d2435f-8390-4f08-9083-26a1f8aacf97",
   "metadata": {},
   "outputs": [],
   "source": [
    "# find는 없다!"
   ]
  },
  {
   "cell_type": "markdown",
   "id": "c709569f-bc23-4295-bc09-0acfc42e5951",
   "metadata": {
    "tags": []
   },
   "source": [
    "#### pop"
   ]
  },
  {
   "cell_type": "code",
   "execution_count": 96,
   "id": "d2a94c68-9b14-4ed9-8790-9d7eed715704",
   "metadata": {},
   "outputs": [],
   "source": [
    "l = [1, 2, 3, 4]"
   ]
  },
  {
   "cell_type": "code",
   "execution_count": 97,
   "id": "b28e6523-87de-40eb-bf87-c91c0917b896",
   "metadata": {},
   "outputs": [
    {
     "data": {
      "text/plain": [
       "4"
      ]
     },
     "execution_count": 97,
     "metadata": {},
     "output_type": "execute_result"
    }
   ],
   "source": [
    "l.pop()"
   ]
  },
  {
   "cell_type": "code",
   "execution_count": 98,
   "id": "c709df98-71fa-446a-bdcc-8e24f94b8d9b",
   "metadata": {},
   "outputs": [
    {
     "data": {
      "text/plain": [
       "[1, 2, 3]"
      ]
     },
     "execution_count": 98,
     "metadata": {},
     "output_type": "execute_result"
    }
   ],
   "source": [
    "l"
   ]
  },
  {
   "cell_type": "code",
   "execution_count": 99,
   "id": "9f698534-3ac8-4338-bd95-1cf0d0c7c3d3",
   "metadata": {},
   "outputs": [
    {
     "data": {
      "text/plain": [
       "3"
      ]
     },
     "execution_count": 99,
     "metadata": {},
     "output_type": "execute_result"
    }
   ],
   "source": [
    "l.pop()"
   ]
  },
  {
   "cell_type": "code",
   "execution_count": 100,
   "id": "a94d23b5-6c23-418f-8dad-cc6beb11e7df",
   "metadata": {},
   "outputs": [
    {
     "data": {
      "text/plain": [
       "[1, 2]"
      ]
     },
     "execution_count": 100,
     "metadata": {},
     "output_type": "execute_result"
    }
   ],
   "source": [
    "l"
   ]
  },
  {
   "cell_type": "code",
   "execution_count": 101,
   "id": "2abf8f13-362d-4ba5-8516-316818d59c3b",
   "metadata": {},
   "outputs": [],
   "source": [
    "# push 와 pop은 인자가 존재하지 않는다."
   ]
  },
  {
   "cell_type": "markdown",
   "id": "2facbdef-1a3f-487f-b34f-8160eadd8725",
   "metadata": {
    "tags": []
   },
   "source": [
    "#### count"
   ]
  },
  {
   "cell_type": "code",
   "execution_count": 102,
   "id": "5e367b07-1813-45cd-9277-dbf69e584348",
   "metadata": {},
   "outputs": [],
   "source": [
    "l = [1, 1, 1, 2, 3, 4, 5]"
   ]
  },
  {
   "cell_type": "code",
   "execution_count": 103,
   "id": "e50ef143-6abf-446c-a58e-d2f601424123",
   "metadata": {},
   "outputs": [
    {
     "data": {
      "text/plain": [
       "[1, 1, 1, 2, 3, 4, 5]"
      ]
     },
     "execution_count": 103,
     "metadata": {},
     "output_type": "execute_result"
    }
   ],
   "source": [
    "l"
   ]
  },
  {
   "cell_type": "code",
   "execution_count": 104,
   "id": "044b8117-e7f9-4876-a2de-c5f2341f57cb",
   "metadata": {},
   "outputs": [
    {
     "data": {
      "text/plain": [
       "3"
      ]
     },
     "execution_count": 104,
     "metadata": {},
     "output_type": "execute_result"
    }
   ],
   "source": [
    "l.count(1)"
   ]
  },
  {
   "cell_type": "markdown",
   "id": "b8f23000-7515-443e-9b9b-c0383695fd96",
   "metadata": {
    "tags": []
   },
   "source": [
    "### quiz\n",
    "\n",
    "1. list = [13, 53, 24, 35, 38]을 큰 수부터 작은 수대로 정렬하시오.\n",
    "2. list = [\"Hello\", \"My\", \"Friends\"]를 \"Hello My Friends\"라는 문자열로 출력하세요.\n",
    "3. DP, 오징어게임, 슬기로운 의사생활 을 netflix_list라는 변수에 리스트로 만들어보세요.\n",
    "4. 3의 list에 호텔 델루나를 추가해보세요.\n",
    "5. 갯마을 차차차를 4의 리스트 맨 앞에 추가해보세요.\n",
    "6. DP를 삭제하고 그 위치에 \"검은 태양\"을 추가해보세요.\n",
    "7. list3 = [294, 185, 1384, 1282, 375, 283]의 최대, 최소, 합, 평균을 구하시오.\n",
    "8. str1 = \"naver, sk, google, kakao\"에서 각각의 회사명을 company_list에 넣고 오름차순으로 정렬하세요."
   ]
  },
  {
   "cell_type": "code",
   "execution_count": 106,
   "id": "169e1b73-543c-4093-8e59-4150e32fb884",
   "metadata": {},
   "outputs": [],
   "source": [
    "#1"
   ]
  },
  {
   "cell_type": "code",
   "execution_count": 107,
   "id": "02a34a74-5569-4bc4-b62f-e1f2ad225f14",
   "metadata": {},
   "outputs": [],
   "source": [
    "list = [13, 53, 24, 35, 38]"
   ]
  },
  {
   "cell_type": "code",
   "execution_count": 174,
   "id": "8ae4ebe7-a2ac-4066-8267-13112b4fd704",
   "metadata": {},
   "outputs": [],
   "source": [
    "list.sort(reverse=True)"
   ]
  },
  {
   "cell_type": "code",
   "execution_count": 175,
   "id": "71535f07-b7f7-44e6-a7c5-67f3079ab2ac",
   "metadata": {},
   "outputs": [
    {
     "data": {
      "text/plain": [
       "[53, 38, 35, 24, 13]"
      ]
     },
     "execution_count": 175,
     "metadata": {},
     "output_type": "execute_result"
    }
   ],
   "source": [
    "list"
   ]
  },
  {
   "cell_type": "code",
   "execution_count": 110,
   "id": "fb2cab85-b882-4671-9841-31dbc8281fb9",
   "metadata": {},
   "outputs": [],
   "source": [
    "#2 join"
   ]
  },
  {
   "cell_type": "code",
   "execution_count": 111,
   "id": "66b9f0aa-426e-4343-b0d2-49c7d07ea171",
   "metadata": {},
   "outputs": [],
   "source": [
    "list2 = ['Hello', 'My', 'Friends']"
   ]
  },
  {
   "cell_type": "code",
   "execution_count": 153,
   "id": "9600f218-566d-4148-ba6a-120a3abe15a1",
   "metadata": {},
   "outputs": [
    {
     "data": {
      "text/plain": [
       "'Hello My Friends'"
      ]
     },
     "execution_count": 153,
     "metadata": {},
     "output_type": "execute_result"
    }
   ],
   "source": [
    "' '.join(list2)"
   ]
  },
  {
   "cell_type": "code",
   "execution_count": null,
   "id": "88602e36-cec0-4a24-a96a-d594b9fea12a",
   "metadata": {},
   "outputs": [],
   "source": [
    "#3"
   ]
  },
  {
   "cell_type": "code",
   "execution_count": 189,
   "id": "281be416-d24e-4750-8219-4fef1224eba2",
   "metadata": {},
   "outputs": [],
   "source": [
    "data = \"DP, 오징어게임, 슬기로운 의사생활\""
   ]
  },
  {
   "cell_type": "code",
   "execution_count": 190,
   "id": "6cb62938-005a-4f6b-a384-5c9c7ba2ed94",
   "metadata": {},
   "outputs": [],
   "source": [
    "netflix_list = data.split(',')"
   ]
  },
  {
   "cell_type": "code",
   "execution_count": 182,
   "id": "8a8528aa-0655-4aa3-b1bd-f8e052bc8e60",
   "metadata": {},
   "outputs": [],
   "source": [
    "netflix_list = ['DP', '오징어게임', '슬기로운 의사생활']"
   ]
  },
  {
   "cell_type": "code",
   "execution_count": 191,
   "id": "9860dc33-0591-40c8-acb8-7d54d2902dd6",
   "metadata": {},
   "outputs": [
    {
     "data": {
      "text/plain": [
       "['DP', ' 오징어게임', ' 슬기로운 의사생활']"
      ]
     },
     "execution_count": 191,
     "metadata": {},
     "output_type": "execute_result"
    }
   ],
   "source": [
    "netflix_list"
   ]
  },
  {
   "cell_type": "code",
   "execution_count": null,
   "id": "04dfcbfb-8a52-4ced-8700-3f802467eb18",
   "metadata": {},
   "outputs": [],
   "source": [
    "#4"
   ]
  },
  {
   "cell_type": "code",
   "execution_count": 183,
   "id": "c83fe574-6cd2-47f8-8bbd-d4137cbda04e",
   "metadata": {},
   "outputs": [],
   "source": [
    "netflix_list.append('호텔 델루나')"
   ]
  },
  {
   "cell_type": "code",
   "execution_count": 184,
   "id": "600ce4b4-ed11-40e3-a33c-1d9423b0ceff",
   "metadata": {},
   "outputs": [
    {
     "data": {
      "text/plain": [
       "['DP', '오징어게임', '슬기로운 의사생활', '호텔 델루나']"
      ]
     },
     "execution_count": 184,
     "metadata": {},
     "output_type": "execute_result"
    }
   ],
   "source": [
    "netflix_list"
   ]
  },
  {
   "cell_type": "code",
   "execution_count": null,
   "id": "4ec50546-6873-4072-81cd-3dc0a0bb006b",
   "metadata": {},
   "outputs": [],
   "source": [
    "#5"
   ]
  },
  {
   "cell_type": "code",
   "execution_count": 185,
   "id": "00ee04be-baa9-4cf9-91d1-085f10d1e7e3",
   "metadata": {},
   "outputs": [],
   "source": [
    "netflix_list.insert(0, '갯마을 차차차')"
   ]
  },
  {
   "cell_type": "code",
   "execution_count": 186,
   "id": "d71e09de-3f47-48f2-9ca7-3289d3131639",
   "metadata": {},
   "outputs": [
    {
     "data": {
      "text/plain": [
       "['갯마을 차차차', 'DP', '오징어게임', '슬기로운 의사생활', '호텔 델루나']"
      ]
     },
     "execution_count": 186,
     "metadata": {},
     "output_type": "execute_result"
    }
   ],
   "source": [
    "netflix_list"
   ]
  },
  {
   "cell_type": "code",
   "execution_count": 120,
   "id": "b19eefaa-6a6d-429c-9c77-fd821ca37846",
   "metadata": {},
   "outputs": [],
   "source": [
    "#5"
   ]
  },
  {
   "cell_type": "code",
   "execution_count": 131,
   "id": "27308efc-3560-45e3-9d3c-92c368e452e4",
   "metadata": {},
   "outputs": [],
   "source": [
    "netflix_list.remove('DP')"
   ]
  },
  {
   "cell_type": "code",
   "execution_count": 132,
   "id": "36b1f5f8-0dde-4f58-9312-cfb59e3409c8",
   "metadata": {},
   "outputs": [
    {
     "data": {
      "text/plain": [
       "['갯마을 차차차', '오징어게임', '슬기로운 의사생활', '호텔 델루나']"
      ]
     },
     "execution_count": 132,
     "metadata": {},
     "output_type": "execute_result"
    }
   ],
   "source": [
    "netflix_list"
   ]
  },
  {
   "cell_type": "code",
   "execution_count": 179,
   "id": "2e3f28b3-7d50-425c-989a-4d64d3e2e656",
   "metadata": {},
   "outputs": [],
   "source": [
    "netflix_list.insert(1, '검은 태양')"
   ]
  },
  {
   "cell_type": "markdown",
   "id": "05853d26-8519-477b-b6c0-f27c53af0592",
   "metadata": {},
   "source": [
    "--------------"
   ]
  },
  {
   "cell_type": "code",
   "execution_count": 187,
   "id": "f95aa7bd-0b19-47cc-941c-61b7a40c488c",
   "metadata": {},
   "outputs": [],
   "source": [
    "dp_index = netflix_list.index('DP')\n",
    "netflix_list.remove('DP')\n",
    "netflix_list.insert(dp_index,'검은태양')"
   ]
  },
  {
   "cell_type": "code",
   "execution_count": 188,
   "id": "7fdd0e4a-2f13-42f4-9ca3-c9e419351e96",
   "metadata": {},
   "outputs": [
    {
     "data": {
      "text/plain": [
       "['갯마을 차차차', '검은태양', '오징어게임', '슬기로운 의사생활', '호텔 델루나']"
      ]
     },
     "execution_count": 188,
     "metadata": {},
     "output_type": "execute_result"
    }
   ],
   "source": [
    "netflix_list"
   ]
  },
  {
   "cell_type": "code",
   "execution_count": 134,
   "id": "e5aae2f9-86b4-4f48-a4e7-2cfa96c75fed",
   "metadata": {},
   "outputs": [],
   "source": [
    "#6"
   ]
  },
  {
   "cell_type": "code",
   "execution_count": 135,
   "id": "8ec57b3c-b64d-43ab-8adf-1c1e8da8c7b6",
   "metadata": {},
   "outputs": [],
   "source": [
    "list3 = [294, 185, 1384, 1282, 375, 283]"
   ]
  },
  {
   "cell_type": "code",
   "execution_count": 139,
   "id": "55a1bcd4-7d7d-4033-a12c-6c9df604a4bd",
   "metadata": {},
   "outputs": [
    {
     "data": {
      "text/plain": [
       "1384"
      ]
     },
     "execution_count": 139,
     "metadata": {},
     "output_type": "execute_result"
    }
   ],
   "source": [
    "max(list3)"
   ]
  },
  {
   "cell_type": "code",
   "execution_count": 140,
   "id": "8a6d4883-be85-4214-8db9-d4013e8e0690",
   "metadata": {},
   "outputs": [
    {
     "data": {
      "text/plain": [
       "185"
      ]
     },
     "execution_count": 140,
     "metadata": {},
     "output_type": "execute_result"
    }
   ],
   "source": [
    "min(list3)"
   ]
  },
  {
   "cell_type": "code",
   "execution_count": 141,
   "id": "d0f6c100-a124-4c51-a509-e6c2fb0702ab",
   "metadata": {},
   "outputs": [
    {
     "data": {
      "text/plain": [
       "3803"
      ]
     },
     "execution_count": 141,
     "metadata": {},
     "output_type": "execute_result"
    }
   ],
   "source": [
    "sum(list3)"
   ]
  },
  {
   "cell_type": "code",
   "execution_count": 150,
   "id": "8d214d0c-44cd-4bb6-bf39-b66a4660e5c6",
   "metadata": {},
   "outputs": [
    {
     "data": {
      "text/plain": [
       "633.8333333333334"
      ]
     },
     "execution_count": 150,
     "metadata": {},
     "output_type": "execute_result"
    }
   ],
   "source": [
    "sum(list3) / 6 # 길이가 많은 list를 나누기 위해서 len을 사용해야 함"
   ]
  },
  {
   "cell_type": "code",
   "execution_count": 152,
   "id": "139cbed4-38a6-4597-ac94-8acc47764011",
   "metadata": {},
   "outputs": [
    {
     "data": {
      "text/plain": [
       "633.8333333333334"
      ]
     },
     "execution_count": 152,
     "metadata": {},
     "output_type": "execute_result"
    }
   ],
   "source": [
    "sum(list3)/len(list3)"
   ]
  },
  {
   "cell_type": "code",
   "execution_count": null,
   "id": "24495eb7-47a6-457e-8304-4e42fead0c30",
   "metadata": {},
   "outputs": [],
   "source": [
    "#8 split"
   ]
  },
  {
   "cell_type": "code",
   "execution_count": 146,
   "id": "76a8a89b-674b-4fb0-bfa7-323edd26f305",
   "metadata": {},
   "outputs": [],
   "source": [
    "str1 = ['naver', 'sk', 'google', 'kakao']"
   ]
  },
  {
   "cell_type": "code",
   "execution_count": 147,
   "id": "c7be49d1-2070-46e2-8f42-8994c12d92c7",
   "metadata": {},
   "outputs": [],
   "source": [
    "str1.sort()"
   ]
  },
  {
   "cell_type": "code",
   "execution_count": 149,
   "id": "a70107a4-809d-4a23-97e2-91e5bbc0ab6a",
   "metadata": {},
   "outputs": [
    {
     "data": {
      "text/plain": [
       "['google', 'kakao', 'naver', 'sk']"
      ]
     },
     "execution_count": 149,
     "metadata": {},
     "output_type": "execute_result"
    }
   ],
   "source": [
    "str1"
   ]
  },
  {
   "cell_type": "markdown",
   "id": "063c3c48-80ad-4b04-bed1-bef36bb619b0",
   "metadata": {},
   "source": [
    "-----------------"
   ]
  },
  {
   "cell_type": "code",
   "execution_count": 192,
   "id": "b14ad6b5-8262-4167-a656-6d81b3789eb2",
   "metadata": {},
   "outputs": [],
   "source": [
    "str1 = \"naver,sk,google,kakao\""
   ]
  },
  {
   "cell_type": "code",
   "execution_count": 161,
   "id": "4e16fccf-17c5-465a-a0c1-bbdae5333fd7",
   "metadata": {},
   "outputs": [
    {
     "data": {
      "text/plain": [
       "'naver,sk,google,kakao'"
      ]
     },
     "execution_count": 161,
     "metadata": {},
     "output_type": "execute_result"
    }
   ],
   "source": [
    "str1"
   ]
  },
  {
   "cell_type": "code",
   "execution_count": 193,
   "id": "4b7410b6-1fc1-46f0-8e92-de56404f77cb",
   "metadata": {},
   "outputs": [],
   "source": [
    "str2 = str1.split(',')"
   ]
  },
  {
   "cell_type": "code",
   "execution_count": 194,
   "id": "15819366-721b-4c54-be73-e08dd2725590",
   "metadata": {},
   "outputs": [
    {
     "data": {
      "text/plain": [
       "['naver', 'sk', 'google', 'kakao']"
      ]
     },
     "execution_count": 194,
     "metadata": {},
     "output_type": "execute_result"
    }
   ],
   "source": [
    "str2"
   ]
  },
  {
   "cell_type": "code",
   "execution_count": 167,
   "id": "1b86b9d3-b5c4-4ba2-91c9-473e1f3ea66c",
   "metadata": {},
   "outputs": [
    {
     "data": {
      "text/plain": [
       "list"
      ]
     },
     "execution_count": 167,
     "metadata": {},
     "output_type": "execute_result"
    }
   ],
   "source": [
    "type(str2)"
   ]
  },
  {
   "cell_type": "code",
   "execution_count": 203,
   "id": "855b6456-0cc1-483f-8f4f-1c6446b1f011",
   "metadata": {},
   "outputs": [],
   "source": [
    "str2.sort()"
   ]
  },
  {
   "cell_type": "code",
   "execution_count": 204,
   "id": "3733c11f-9c0f-4ccd-81fa-df7b1d094db7",
   "metadata": {},
   "outputs": [
    {
     "data": {
      "text/plain": [
       "['google', 'kakao', 'naver', 'sk']"
      ]
     },
     "execution_count": 204,
     "metadata": {},
     "output_type": "execute_result"
    }
   ],
   "source": [
    "str2"
   ]
  },
  {
   "cell_type": "markdown",
   "id": "0ff259f7-0c1e-407e-b511-91a58a7df636",
   "metadata": {},
   "source": [
    "**데이터에서 split 사용해서 리스트화 하는 것 연습할 것**"
   ]
  },
  {
   "cell_type": "code",
   "execution_count": 195,
   "id": "c98a906b-9711-4891-9ebb-8a12fe0ad074",
   "metadata": {},
   "outputs": [],
   "source": [
    "# sorted는 원본을 바꾸지 않는다. (sort와 다른 점 확인해 두기)"
   ]
  },
  {
   "cell_type": "code",
   "execution_count": null,
   "id": "2d5a4b31-2361-45fa-8413-65b26d446859",
   "metadata": {},
   "outputs": [],
   "source": []
  }
 ],
 "metadata": {
  "kernelspec": {
   "display_name": "Python 3 (ipykernel)",
   "language": "python",
   "name": "python3"
  },
  "language_info": {
   "codemirror_mode": {
    "name": "ipython",
    "version": 3
   },
   "file_extension": ".py",
   "mimetype": "text/x-python",
   "name": "python",
   "nbconvert_exporter": "python",
   "pygments_lexer": "ipython3",
   "version": "3.9.12"
  }
 },
 "nbformat": 4,
 "nbformat_minor": 5
}
