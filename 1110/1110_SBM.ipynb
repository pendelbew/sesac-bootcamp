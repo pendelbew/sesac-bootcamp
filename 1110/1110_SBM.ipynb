{
 "cells": [
  {
   "cell_type": "code",
   "execution_count": 1,
   "id": "280d7560-975d-42f0-938f-b24b700ec460",
   "metadata": {},
   "outputs": [],
   "source": [
    "import pandas as pd"
   ]
  },
  {
   "cell_type": "code",
   "execution_count": 2,
   "id": "b8601150-ff9a-48cd-a58b-1171808ada18",
   "metadata": {
    "tags": []
   },
   "outputs": [],
   "source": [
    "data = pd.read_csv('diabetes.csv')"
   ]
  },
  {
   "cell_type": "code",
   "execution_count": 3,
   "id": "43b45161-0032-4cd1-aed8-0172b8d03833",
   "metadata": {},
   "outputs": [
    {
     "data": {
      "text/html": [
       "<div>\n",
       "<style scoped>\n",
       "    .dataframe tbody tr th:only-of-type {\n",
       "        vertical-align: middle;\n",
       "    }\n",
       "\n",
       "    .dataframe tbody tr th {\n",
       "        vertical-align: top;\n",
       "    }\n",
       "\n",
       "    .dataframe thead th {\n",
       "        text-align: right;\n",
       "    }\n",
       "</style>\n",
       "<table border=\"1\" class=\"dataframe\">\n",
       "  <thead>\n",
       "    <tr style=\"text-align: right;\">\n",
       "      <th></th>\n",
       "      <th>Pregnancies</th>\n",
       "      <th>Glucose</th>\n",
       "      <th>BloodPressure</th>\n",
       "      <th>SkinThickness</th>\n",
       "      <th>Insulin</th>\n",
       "      <th>BMI</th>\n",
       "      <th>DiabetesPedigreeFunction</th>\n",
       "      <th>Age</th>\n",
       "      <th>Outcome</th>\n",
       "    </tr>\n",
       "  </thead>\n",
       "  <tbody>\n",
       "    <tr>\n",
       "      <th>0</th>\n",
       "      <td>6</td>\n",
       "      <td>148</td>\n",
       "      <td>72</td>\n",
       "      <td>35</td>\n",
       "      <td>0</td>\n",
       "      <td>33.6</td>\n",
       "      <td>0.627</td>\n",
       "      <td>50</td>\n",
       "      <td>1</td>\n",
       "    </tr>\n",
       "    <tr>\n",
       "      <th>1</th>\n",
       "      <td>1</td>\n",
       "      <td>85</td>\n",
       "      <td>66</td>\n",
       "      <td>29</td>\n",
       "      <td>0</td>\n",
       "      <td>26.6</td>\n",
       "      <td>0.351</td>\n",
       "      <td>31</td>\n",
       "      <td>0</td>\n",
       "    </tr>\n",
       "    <tr>\n",
       "      <th>2</th>\n",
       "      <td>8</td>\n",
       "      <td>183</td>\n",
       "      <td>64</td>\n",
       "      <td>0</td>\n",
       "      <td>0</td>\n",
       "      <td>23.3</td>\n",
       "      <td>0.672</td>\n",
       "      <td>32</td>\n",
       "      <td>1</td>\n",
       "    </tr>\n",
       "    <tr>\n",
       "      <th>3</th>\n",
       "      <td>1</td>\n",
       "      <td>89</td>\n",
       "      <td>66</td>\n",
       "      <td>23</td>\n",
       "      <td>94</td>\n",
       "      <td>28.1</td>\n",
       "      <td>0.167</td>\n",
       "      <td>21</td>\n",
       "      <td>0</td>\n",
       "    </tr>\n",
       "    <tr>\n",
       "      <th>4</th>\n",
       "      <td>0</td>\n",
       "      <td>137</td>\n",
       "      <td>40</td>\n",
       "      <td>35</td>\n",
       "      <td>168</td>\n",
       "      <td>43.1</td>\n",
       "      <td>2.288</td>\n",
       "      <td>33</td>\n",
       "      <td>1</td>\n",
       "    </tr>\n",
       "  </tbody>\n",
       "</table>\n",
       "</div>"
      ],
      "text/plain": [
       "   Pregnancies  Glucose  BloodPressure  SkinThickness  Insulin   BMI  \\\n",
       "0            6      148             72             35        0  33.6   \n",
       "1            1       85             66             29        0  26.6   \n",
       "2            8      183             64              0        0  23.3   \n",
       "3            1       89             66             23       94  28.1   \n",
       "4            0      137             40             35      168  43.1   \n",
       "\n",
       "   DiabetesPedigreeFunction  Age  Outcome  \n",
       "0                     0.627   50        1  \n",
       "1                     0.351   31        0  \n",
       "2                     0.672   32        1  \n",
       "3                     0.167   21        0  \n",
       "4                     2.288   33        1  "
      ]
     },
     "execution_count": 3,
     "metadata": {},
     "output_type": "execute_result"
    }
   ],
   "source": [
    "data.head()"
   ]
  },
  {
   "cell_type": "code",
   "execution_count": 4,
   "id": "5d9a01c0-4ee6-4211-bc89-2e1c0345fd01",
   "metadata": {},
   "outputs": [
    {
     "data": {
      "text/plain": [
       "Pregnancies                 0\n",
       "Glucose                     0\n",
       "BloodPressure               0\n",
       "SkinThickness               0\n",
       "Insulin                     0\n",
       "BMI                         0\n",
       "DiabetesPedigreeFunction    0\n",
       "Age                         0\n",
       "Outcome                     0\n",
       "dtype: int64"
      ]
     },
     "execution_count": 4,
     "metadata": {},
     "output_type": "execute_result"
    }
   ],
   "source": [
    "data.isnull().sum()"
   ]
  },
  {
   "cell_type": "code",
   "execution_count": null,
   "id": "3321dc73-5728-4992-987d-95c06b7468e3",
   "metadata": {},
   "outputs": [],
   "source": [
    "data.columns"
   ]
  },
  {
   "cell_type": "code",
   "execution_count": null,
   "id": "cfeb4bba-1003-40fe-9d72-0d7661974825",
   "metadata": {},
   "outputs": [],
   "source": [
    "data[data.duplicated()]"
   ]
  },
  {
   "cell_type": "code",
   "execution_count": null,
   "id": "82f0ba94-cec3-4891-b1da-bd3b5db4a04d",
   "metadata": {},
   "outputs": [],
   "source": [
    "data['Pregnancies'].unique()"
   ]
  },
  {
   "cell_type": "code",
   "execution_count": null,
   "id": "981cbcc7-eac9-461f-9702-8107ff55835d",
   "metadata": {
    "tags": []
   },
   "outputs": [],
   "source": [
    "data[data['Pregnancies'] >= 10]"
   ]
  },
  {
   "cell_type": "code",
   "execution_count": null,
   "id": "5105dff4-8752-4b2a-b012-82a3e9a200eb",
   "metadata": {},
   "outputs": [],
   "source": [
    "data[data['Outcome'] == 1].describe()"
   ]
  },
  {
   "cell_type": "code",
   "execution_count": null,
   "id": "21c77201-6b3f-4aeb-933c-440db93d0e50",
   "metadata": {},
   "outputs": [],
   "source": [
    "data[data['Outcome'] == 0].describe()"
   ]
  },
  {
   "cell_type": "code",
   "execution_count": null,
   "id": "084e8368-c5bc-4803-8719-accb5c87d546",
   "metadata": {},
   "outputs": [],
   "source": [
    "data[data['Glucose'] > 0].min()"
   ]
  },
  {
   "cell_type": "code",
   "execution_count": null,
   "id": "d38e4c73-6e27-4ffd-b2a2-29c62843de4d",
   "metadata": {},
   "outputs": [],
   "source": [
    "data[data['Glucose'] > 0].max()"
   ]
  },
  {
   "cell_type": "code",
   "execution_count": null,
   "id": "a38e7ef6-c0a5-4b7d-a3d3-239c5cfa3374",
   "metadata": {},
   "outputs": [],
   "source": [
    "data[data['Glucose'] > 0].median()"
   ]
  },
  {
   "cell_type": "code",
   "execution_count": null,
   "id": "fdce60bf-b2d5-4360-9c31-9131528b482b",
   "metadata": {},
   "outputs": [],
   "source": [
    "data.loc[:,'Glucose' :'BMI']= data.loc[:,'Glucose' :'BMI'].replace(0, np.nan)"
   ]
  },
  {
   "cell_type": "code",
   "execution_count": null,
   "id": "fceecd4d-a8df-47c7-a2ae-fbc6cb595e5f",
   "metadata": {
    "tags": []
   },
   "outputs": [],
   "source": [
    "data.groupby('Age')['Glucose'].median()"
   ]
  },
  {
   "cell_type": "code",
   "execution_count": 5,
   "id": "4c3eca63-dfdb-4ea1-9ff6-0576a7a0d593",
   "metadata": {},
   "outputs": [
    {
     "data": {
      "text/plain": [
       "count    768.000000\n",
       "mean      33.240885\n",
       "std       11.760232\n",
       "min       21.000000\n",
       "25%       24.000000\n",
       "50%       29.000000\n",
       "75%       41.000000\n",
       "max       81.000000\n",
       "Name: Age, dtype: float64"
      ]
     },
     "execution_count": 5,
     "metadata": {},
     "output_type": "execute_result"
    }
   ],
   "source": [
    "data['Age'].describe()"
   ]
  },
  {
   "cell_type": "code",
   "execution_count": 6,
   "id": "a400ef9b-ce7e-472a-8a28-81d1f10cd750",
   "metadata": {},
   "outputs": [],
   "source": [
    "def ageRange(age):\n",
    "    if 21 <= age < 30:\n",
    "        return 1\n",
    "    elif 30 <= age < 40:\n",
    "        return 2\n",
    "    elif 40 <= age < 50:\n",
    "        return 3\n",
    "    elif 50 <= age < 60:\n",
    "        return 4\n",
    "    elif 60 <= age < 70:\n",
    "        return 5\n",
    "    else:\n",
    "        return 6"
   ]
  },
  {
   "cell_type": "code",
   "execution_count": 7,
   "id": "1e129a45-a4da-426f-9962-980151e753da",
   "metadata": {},
   "outputs": [],
   "source": [
    "data['Age2'] = data['Age'].apply(ageRange)"
   ]
  },
  {
   "cell_type": "code",
   "execution_count": 8,
   "id": "ce16e2de-ada6-420b-970e-6eb637fd8ce3",
   "metadata": {},
   "outputs": [
    {
     "data": {
      "text/html": [
       "<div>\n",
       "<style scoped>\n",
       "    .dataframe tbody tr th:only-of-type {\n",
       "        vertical-align: middle;\n",
       "    }\n",
       "\n",
       "    .dataframe tbody tr th {\n",
       "        vertical-align: top;\n",
       "    }\n",
       "\n",
       "    .dataframe thead th {\n",
       "        text-align: right;\n",
       "    }\n",
       "</style>\n",
       "<table border=\"1\" class=\"dataframe\">\n",
       "  <thead>\n",
       "    <tr style=\"text-align: right;\">\n",
       "      <th></th>\n",
       "      <th>Pregnancies</th>\n",
       "      <th>Glucose</th>\n",
       "      <th>BloodPressure</th>\n",
       "      <th>SkinThickness</th>\n",
       "      <th>Insulin</th>\n",
       "      <th>BMI</th>\n",
       "      <th>DiabetesPedigreeFunction</th>\n",
       "      <th>Age</th>\n",
       "      <th>Outcome</th>\n",
       "      <th>Age2</th>\n",
       "    </tr>\n",
       "  </thead>\n",
       "  <tbody>\n",
       "    <tr>\n",
       "      <th>0</th>\n",
       "      <td>6</td>\n",
       "      <td>148</td>\n",
       "      <td>72</td>\n",
       "      <td>35</td>\n",
       "      <td>0</td>\n",
       "      <td>33.6</td>\n",
       "      <td>0.627</td>\n",
       "      <td>50</td>\n",
       "      <td>1</td>\n",
       "      <td>4</td>\n",
       "    </tr>\n",
       "    <tr>\n",
       "      <th>1</th>\n",
       "      <td>1</td>\n",
       "      <td>85</td>\n",
       "      <td>66</td>\n",
       "      <td>29</td>\n",
       "      <td>0</td>\n",
       "      <td>26.6</td>\n",
       "      <td>0.351</td>\n",
       "      <td>31</td>\n",
       "      <td>0</td>\n",
       "      <td>2</td>\n",
       "    </tr>\n",
       "    <tr>\n",
       "      <th>2</th>\n",
       "      <td>8</td>\n",
       "      <td>183</td>\n",
       "      <td>64</td>\n",
       "      <td>0</td>\n",
       "      <td>0</td>\n",
       "      <td>23.3</td>\n",
       "      <td>0.672</td>\n",
       "      <td>32</td>\n",
       "      <td>1</td>\n",
       "      <td>2</td>\n",
       "    </tr>\n",
       "    <tr>\n",
       "      <th>3</th>\n",
       "      <td>1</td>\n",
       "      <td>89</td>\n",
       "      <td>66</td>\n",
       "      <td>23</td>\n",
       "      <td>94</td>\n",
       "      <td>28.1</td>\n",
       "      <td>0.167</td>\n",
       "      <td>21</td>\n",
       "      <td>0</td>\n",
       "      <td>1</td>\n",
       "    </tr>\n",
       "    <tr>\n",
       "      <th>4</th>\n",
       "      <td>0</td>\n",
       "      <td>137</td>\n",
       "      <td>40</td>\n",
       "      <td>35</td>\n",
       "      <td>168</td>\n",
       "      <td>43.1</td>\n",
       "      <td>2.288</td>\n",
       "      <td>33</td>\n",
       "      <td>1</td>\n",
       "      <td>2</td>\n",
       "    </tr>\n",
       "    <tr>\n",
       "      <th>...</th>\n",
       "      <td>...</td>\n",
       "      <td>...</td>\n",
       "      <td>...</td>\n",
       "      <td>...</td>\n",
       "      <td>...</td>\n",
       "      <td>...</td>\n",
       "      <td>...</td>\n",
       "      <td>...</td>\n",
       "      <td>...</td>\n",
       "      <td>...</td>\n",
       "    </tr>\n",
       "    <tr>\n",
       "      <th>763</th>\n",
       "      <td>10</td>\n",
       "      <td>101</td>\n",
       "      <td>76</td>\n",
       "      <td>48</td>\n",
       "      <td>180</td>\n",
       "      <td>32.9</td>\n",
       "      <td>0.171</td>\n",
       "      <td>63</td>\n",
       "      <td>0</td>\n",
       "      <td>5</td>\n",
       "    </tr>\n",
       "    <tr>\n",
       "      <th>764</th>\n",
       "      <td>2</td>\n",
       "      <td>122</td>\n",
       "      <td>70</td>\n",
       "      <td>27</td>\n",
       "      <td>0</td>\n",
       "      <td>36.8</td>\n",
       "      <td>0.340</td>\n",
       "      <td>27</td>\n",
       "      <td>0</td>\n",
       "      <td>1</td>\n",
       "    </tr>\n",
       "    <tr>\n",
       "      <th>765</th>\n",
       "      <td>5</td>\n",
       "      <td>121</td>\n",
       "      <td>72</td>\n",
       "      <td>23</td>\n",
       "      <td>112</td>\n",
       "      <td>26.2</td>\n",
       "      <td>0.245</td>\n",
       "      <td>30</td>\n",
       "      <td>0</td>\n",
       "      <td>2</td>\n",
       "    </tr>\n",
       "    <tr>\n",
       "      <th>766</th>\n",
       "      <td>1</td>\n",
       "      <td>126</td>\n",
       "      <td>60</td>\n",
       "      <td>0</td>\n",
       "      <td>0</td>\n",
       "      <td>30.1</td>\n",
       "      <td>0.349</td>\n",
       "      <td>47</td>\n",
       "      <td>1</td>\n",
       "      <td>3</td>\n",
       "    </tr>\n",
       "    <tr>\n",
       "      <th>767</th>\n",
       "      <td>1</td>\n",
       "      <td>93</td>\n",
       "      <td>70</td>\n",
       "      <td>31</td>\n",
       "      <td>0</td>\n",
       "      <td>30.4</td>\n",
       "      <td>0.315</td>\n",
       "      <td>23</td>\n",
       "      <td>0</td>\n",
       "      <td>1</td>\n",
       "    </tr>\n",
       "  </tbody>\n",
       "</table>\n",
       "<p>768 rows × 10 columns</p>\n",
       "</div>"
      ],
      "text/plain": [
       "     Pregnancies  Glucose  BloodPressure  SkinThickness  Insulin   BMI  \\\n",
       "0              6      148             72             35        0  33.6   \n",
       "1              1       85             66             29        0  26.6   \n",
       "2              8      183             64              0        0  23.3   \n",
       "3              1       89             66             23       94  28.1   \n",
       "4              0      137             40             35      168  43.1   \n",
       "..           ...      ...            ...            ...      ...   ...   \n",
       "763           10      101             76             48      180  32.9   \n",
       "764            2      122             70             27        0  36.8   \n",
       "765            5      121             72             23      112  26.2   \n",
       "766            1      126             60              0        0  30.1   \n",
       "767            1       93             70             31        0  30.4   \n",
       "\n",
       "     DiabetesPedigreeFunction  Age  Outcome  Age2  \n",
       "0                       0.627   50        1     4  \n",
       "1                       0.351   31        0     2  \n",
       "2                       0.672   32        1     2  \n",
       "3                       0.167   21        0     1  \n",
       "4                       2.288   33        1     2  \n",
       "..                        ...  ...      ...   ...  \n",
       "763                     0.171   63        0     5  \n",
       "764                     0.340   27        0     1  \n",
       "765                     0.245   30        0     2  \n",
       "766                     0.349   47        1     3  \n",
       "767                     0.315   23        0     1  \n",
       "\n",
       "[768 rows x 10 columns]"
      ]
     },
     "execution_count": 8,
     "metadata": {},
     "output_type": "execute_result"
    }
   ],
   "source": [
    "data"
   ]
  },
  {
   "cell_type": "code",
   "execution_count": 11,
   "id": "858163c9-e2c3-428c-a4e7-c96e72fe2e09",
   "metadata": {},
   "outputs": [],
   "source": [
    "import numpy as np"
   ]
  },
  {
   "cell_type": "code",
   "execution_count": 12,
   "id": "ab1f6516-7aa7-4294-aa8c-a6dde74ed848",
   "metadata": {},
   "outputs": [],
   "source": [
    "col_list = ['Glucose', 'BloodPressure', 'SkinThickness', 'Insulin', 'BMI']\n",
    "\n",
    "for col in col_list:\n",
    "    data[col] = np.where(data[col] == 0, np.nan, data[col])"
   ]
  },
  {
   "cell_type": "code",
   "execution_count": 13,
   "id": "13edff0e-0b9e-4fbc-be97-72e2755c1f4e",
   "metadata": {},
   "outputs": [],
   "source": [
    "col_list = ['Glucose', 'BloodPressure', 'SkinThickness', 'Insulin', 'BMI']\n",
    "\n",
    "for col in col_list:\n",
    "    data[col].fillna(data.groupby('Age2')[col].transform('median'), inplace=True)"
   ]
  },
  {
   "cell_type": "code",
   "execution_count": 14,
   "id": "bdf56d68-571c-41bb-b5e1-464fca9ec357",
   "metadata": {},
   "outputs": [
    {
     "data": {
      "text/plain": [
       "Pregnancies                 0\n",
       "Glucose                     0\n",
       "BloodPressure               0\n",
       "SkinThickness               0\n",
       "Insulin                     0\n",
       "BMI                         0\n",
       "DiabetesPedigreeFunction    0\n",
       "Age                         0\n",
       "Outcome                     0\n",
       "Age2                        0\n",
       "dtype: int64"
      ]
     },
     "execution_count": 14,
     "metadata": {},
     "output_type": "execute_result"
    }
   ],
   "source": [
    "data.isnull().sum()"
   ]
  },
  {
   "cell_type": "code",
   "execution_count": null,
   "id": "14c34a5e-96db-4fd7-94cf-887de5a84c08",
   "metadata": {},
   "outputs": [],
   "source": []
  },
  {
   "cell_type": "code",
   "execution_count": null,
   "id": "07d5726e-3a0e-47f4-b51f-56b04a894f3b",
   "metadata": {},
   "outputs": [],
   "source": [
    "data['Glucose'] = data['Glucose'].fillna(data['Glucose'].median())"
   ]
  },
  {
   "cell_type": "code",
   "execution_count": null,
   "id": "af76618b-1dd4-4a4e-8478-03ece2789fd1",
   "metadata": {},
   "outputs": [],
   "source": [
    "for i in ['BloodPressure', 'SkinThickness', 'Insulin', 'BMI']:\n",
    "    data[i] = data[i].fillna(data[i].median())\n",
    "    "
   ]
  },
  {
   "cell_type": "code",
   "execution_count": null,
   "id": "ff0e71e0-f09d-4bc9-8e3e-8aaa7c8d1c14",
   "metadata": {},
   "outputs": [],
   "source": [
    "col_list = ['BloodPressure', 'SkinThickness', 'Insulin', 'BMI']\n",
    "\n",
    "for col in col_list:\n",
    "    print(col, len(data[data[col] == 0]))"
   ]
  },
  {
   "cell_type": "code",
   "execution_count": 15,
   "id": "f3d4f6b6-fc95-4738-9264-5d790e667a60",
   "metadata": {},
   "outputs": [],
   "source": [
    "data['Pregnancies2']= np.where(data['Pregnancies'] == 0, 0, 1)"
   ]
  },
  {
   "cell_type": "code",
   "execution_count": null,
   "id": "0bbb8d35-6187-4d8f-9f0a-887095161240",
   "metadata": {},
   "outputs": [],
   "source": [
    "data.groupby(['Pregnancies2', 'Outcome'])['Age'].count()"
   ]
  },
  {
   "cell_type": "code",
   "execution_count": null,
   "id": "f352a01b-0437-4303-8cd1-bb32a22f7afa",
   "metadata": {},
   "outputs": [],
   "source": [
    "data.groupby('Outcome')['Age'].median()"
   ]
  },
  {
   "cell_type": "code",
   "execution_count": 16,
   "id": "9027642c-a9df-48ac-81aa-78f781cc9e58",
   "metadata": {},
   "outputs": [],
   "source": [
    "from sklearn.svm import SVC\n",
    "from sklearn.model_selection import train_test_split\n",
    "from sklearn.preprocessing import StandardScaler\n",
    "import numpy as np"
   ]
  },
  {
   "cell_type": "code",
   "execution_count": 17,
   "id": "9f5b9e21-e27b-4f26-ae47-462f7d1d15d6",
   "metadata": {},
   "outputs": [],
   "source": [
    "x = data.drop('Outcome', axis = 1)"
   ]
  },
  {
   "cell_type": "code",
   "execution_count": 18,
   "id": "9c69f239-088a-4f3d-9111-b2f4330b159b",
   "metadata": {},
   "outputs": [],
   "source": [
    "y = data['Outcome']"
   ]
  },
  {
   "cell_type": "code",
   "execution_count": null,
   "id": "048b05b5-bcfd-4081-ac7f-43a1c95fec7d",
   "metadata": {},
   "outputs": [],
   "source": [
    "scaler = StandardScaler()"
   ]
  },
  {
   "cell_type": "code",
   "execution_count": null,
   "id": "94ad4bf4-7204-4dff-a21c-21ec179af4b2",
   "metadata": {},
   "outputs": [],
   "source": [
    "xs = scaler.fit_transform(x)"
   ]
  },
  {
   "cell_type": "code",
   "execution_count": 19,
   "id": "ad07d9d3-392e-42a5-9934-c6435977fe16",
   "metadata": {},
   "outputs": [],
   "source": [
    "x_train, x_test, y_train, y_test = train_test_split(x, y, test_size= 0.2, random_state = 0, stratify = y)"
   ]
  },
  {
   "cell_type": "code",
   "execution_count": 20,
   "id": "1a73fa1e-0545-47db-9c45-fe35dc630b5a",
   "metadata": {},
   "outputs": [
    {
     "name": "stdout",
     "output_type": "stream",
     "text": [
      "(614, 10) (154, 10)\n"
     ]
    }
   ],
   "source": [
    "print(x_train.shape, x_test.shape)"
   ]
  },
  {
   "cell_type": "code",
   "execution_count": 21,
   "id": "5c5667e4-f551-4331-8905-6d0868a79823",
   "metadata": {},
   "outputs": [
    {
     "name": "stdout",
     "output_type": "stream",
     "text": [
      "(614,) (154,)\n"
     ]
    }
   ],
   "source": [
    "print(y_train.shape, y_test.shape)"
   ]
  },
  {
   "cell_type": "code",
   "execution_count": 22,
   "id": "92545ac6-83ee-4b2d-940f-10f31bbe83ca",
   "metadata": {},
   "outputs": [],
   "source": [
    "svc = SVC()"
   ]
  },
  {
   "cell_type": "code",
   "execution_count": 23,
   "id": "bcf0bf9b-1a65-4ef0-b436-369370039027",
   "metadata": {},
   "outputs": [],
   "source": [
    "model= svc.fit(x_train, y_train)"
   ]
  },
  {
   "cell_type": "code",
   "execution_count": 24,
   "id": "c38695fd-affb-4391-8df5-e9a673710ba2",
   "metadata": {},
   "outputs": [
    {
     "data": {
      "text/plain": [
       "0.749185667752443"
      ]
     },
     "execution_count": 24,
     "metadata": {},
     "output_type": "execute_result"
    }
   ],
   "source": [
    "model.score(x_train, y_train)"
   ]
  },
  {
   "cell_type": "code",
   "execution_count": 25,
   "id": "b02bd5ff-6b4d-402e-8040-8649ee3f1bbc",
   "metadata": {},
   "outputs": [
    {
     "data": {
      "text/plain": [
       "0.7857142857142857"
      ]
     },
     "execution_count": 25,
     "metadata": {},
     "output_type": "execute_result"
    }
   ],
   "source": [
    "model.score(x_test, y_test)"
   ]
  },
  {
   "cell_type": "code",
   "execution_count": 26,
   "id": "783d8171-4e8e-4165-8764-c677b7010e9a",
   "metadata": {},
   "outputs": [],
   "source": [
    "svc1 = SVC(C= 5, gamma = 'auto')"
   ]
  },
  {
   "cell_type": "code",
   "execution_count": 27,
   "id": "733db5c4-3d44-432b-aae2-577795ce5602",
   "metadata": {},
   "outputs": [],
   "source": [
    "model1= svc1.fit(x_train, y_train)"
   ]
  },
  {
   "cell_type": "code",
   "execution_count": 28,
   "id": "288f171f-77ab-4014-a661-7323cb8ce747",
   "metadata": {},
   "outputs": [
    {
     "data": {
      "text/plain": [
       "1.0"
      ]
     },
     "execution_count": 28,
     "metadata": {},
     "output_type": "execute_result"
    }
   ],
   "source": [
    "model1.score(x_train, y_train)"
   ]
  },
  {
   "cell_type": "code",
   "execution_count": 29,
   "id": "9f664264-cae3-47bd-a22b-9bc8c6b99505",
   "metadata": {},
   "outputs": [
    {
     "data": {
      "text/plain": [
       "0.6493506493506493"
      ]
     },
     "execution_count": 29,
     "metadata": {},
     "output_type": "execute_result"
    }
   ],
   "source": [
    "model1.score(x_test, y_test)"
   ]
  },
  {
   "cell_type": "code",
   "execution_count": 30,
   "id": "d35f758e-d11a-4c06-91d9-d015b9d95ae2",
   "metadata": {},
   "outputs": [],
   "source": [
    "svc2 = SVC(C= 200, gamma = 'auto')"
   ]
  },
  {
   "cell_type": "code",
   "execution_count": 31,
   "id": "09b7f83c-c7ee-4374-809f-469595665761",
   "metadata": {},
   "outputs": [],
   "source": [
    "model2= svc2.fit(x_train, y_train)"
   ]
  },
  {
   "cell_type": "code",
   "execution_count": 32,
   "id": "a1fdd297-28aa-44e9-8677-513357f8ec41",
   "metadata": {},
   "outputs": [
    {
     "data": {
      "text/plain": [
       "1.0"
      ]
     },
     "execution_count": 32,
     "metadata": {},
     "output_type": "execute_result"
    }
   ],
   "source": [
    "model2.score(x_train, y_train)"
   ]
  },
  {
   "cell_type": "code",
   "execution_count": null,
   "id": "810bfa2d-bf40-401e-bb28-c4909d44e33c",
   "metadata": {},
   "outputs": [],
   "source": [
    "model2.score(x_test, y_test)"
   ]
  },
  {
   "cell_type": "code",
   "execution_count": 33,
   "id": "7490e2c7-bec0-44b3-8a1e-23520d081522",
   "metadata": {},
   "outputs": [],
   "source": [
    "from sklearn.linear_model import LogisticRegression\n",
    "from sklearn.linear_model import LogisticRegressionCV"
   ]
  },
  {
   "cell_type": "code",
   "execution_count": 34,
   "id": "afd308d7-17b0-4016-8eda-99d214a5502e",
   "metadata": {},
   "outputs": [],
   "source": [
    "model2 = LogisticRegression()\n",
    "model3 = LogisticRegressionCV()"
   ]
  },
  {
   "cell_type": "code",
   "execution_count": 35,
   "id": "b8c3d27e-b4bc-44c0-a298-80a355a52bc6",
   "metadata": {},
   "outputs": [],
   "source": [
    "d = [(x_train, y_train), (x_test, y_test)]"
   ]
  },
  {
   "cell_type": "code",
   "execution_count": 36,
   "id": "a934fc54-8680-4284-88bb-ec38b448d841",
   "metadata": {},
   "outputs": [],
   "source": [
    "def trainModel(model, d):\n",
    "    model.fit(x_train, y_train)\n",
    "    for x, y in d:\n",
    "        print(model.score(x, y))"
   ]
  },
  {
   "cell_type": "code",
   "execution_count": 41,
   "id": "b074f112-086e-40fd-8f64-d1d0f74746ba",
   "metadata": {},
   "outputs": [
    {
     "name": "stdout",
     "output_type": "stream",
     "text": [
      "0.749185667752443\n",
      "0.7597402597402597\n"
     ]
    }
   ],
   "source": [
    "trainModel(model2, d)"
   ]
  },
  {
   "cell_type": "code",
   "execution_count": 40,
   "id": "d08ed943-861e-4c55-af20-15a5bd5bf57f",
   "metadata": {},
   "outputs": [
    {
     "name": "stdout",
     "output_type": "stream",
     "text": [
      "0.7687296416938111\n",
      "0.7662337662337663\n"
     ]
    }
   ],
   "source": [
    "trainModel(model3, d)"
   ]
  },
  {
   "cell_type": "code",
   "execution_count": 39,
   "id": "ecd76389-0e14-4fcb-a9b3-5e288b8f5798",
   "metadata": {},
   "outputs": [],
   "source": [
    "import warnings\n",
    "warnings.filterwarnings(\"ignore\")"
   ]
  },
  {
   "cell_type": "code",
   "execution_count": null,
   "id": "8eb1547f-5c4e-4231-8562-2a109518cc1f",
   "metadata": {},
   "outputs": [],
   "source": [
    "a = [(1,2),(3,4)]\n",
    "\n",
    "for b, c in enumerate(a):\n",
    "    if b ==0:\n",
    "        print(b, a[0], c[0])\n",
    "    else:\n",
    "        print(b, a[1], c[1])"
   ]
  },
  {
   "cell_type": "code",
   "execution_count": 42,
   "id": "ff07f2dc-6f9f-42d7-b187-20b54bd6bd27",
   "metadata": {},
   "outputs": [],
   "source": [
    "# 1. 전처리를 통해서 모델을 하나 만든다\n",
    "# 2. 전처리 결과와 모델을 저장한다 \n",
    "# 3. 리얼 데이터를 예측한다 "
   ]
  },
  {
   "cell_type": "code",
   "execution_count": 48,
   "id": "a7851815-526e-460b-9b62-32b80c39538e",
   "metadata": {},
   "outputs": [],
   "source": [
    "real = x.iloc[100].values.reshape(1,-1)"
   ]
  },
  {
   "cell_type": "code",
   "execution_count": 49,
   "id": "913b59e1-6c60-4c43-bb0e-6cac7f727135",
   "metadata": {},
   "outputs": [
    {
     "data": {
      "text/plain": [
       "array([1], dtype=int64)"
      ]
     },
     "execution_count": 49,
     "metadata": {},
     "output_type": "execute_result"
    }
   ],
   "source": [
    "model3.predict(real)"
   ]
  },
  {
   "cell_type": "code",
   "execution_count": null,
   "id": "44bcc9cc-6841-4cc0-9c88-8086b5631746",
   "metadata": {},
   "outputs": [],
   "source": []
  }
 ],
 "metadata": {
  "kernelspec": {
   "display_name": "Python 3 (ipykernel)",
   "language": "python",
   "name": "python3"
  },
  "language_info": {
   "codemirror_mode": {
    "name": "ipython",
    "version": 3
   },
   "file_extension": ".py",
   "mimetype": "text/x-python",
   "name": "python",
   "nbconvert_exporter": "python",
   "pygments_lexer": "ipython3",
   "version": "3.9.12"
  }
 },
 "nbformat": 4,
 "nbformat_minor": 5
}
