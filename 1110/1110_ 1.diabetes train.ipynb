{
 "cells": [
  {
   "cell_type": "code",
   "execution_count": 13,
   "id": "a1ba881d-1cdb-429c-af4a-c602f1a7a9c5",
   "metadata": {},
   "outputs": [],
   "source": [
    "import pandas as pd\n",
    "import numpy as np"
   ]
  },
  {
   "cell_type": "code",
   "execution_count": 14,
   "id": "0a8fbc6c-e507-4101-bde2-cdd15e9a40a6",
   "metadata": {},
   "outputs": [],
   "source": [
    "data = pd.read_csv('diabetes.csv')"
   ]
  },
  {
   "cell_type": "code",
   "execution_count": 15,
   "id": "2b79dc5a-68d3-4166-9eb6-17912416df0f",
   "metadata": {},
   "outputs": [],
   "source": [
    "col_list = ['Glucose', 'BloodPressure', 'SkinThickness', 'Insulin', 'BMI']\n",
    "\n",
    "for col in col_list:\n",
    "    data[col] = np.where(data[col] == 0, np.nan, data[col])"
   ]
  },
  {
   "cell_type": "code",
   "execution_count": 16,
   "id": "2b3da329-405f-4784-b82a-c4d2566ac623",
   "metadata": {},
   "outputs": [],
   "source": [
    "def ageRange(age):\n",
    "    if 21 <= age < 30:\n",
    "        return 1\n",
    "    elif 30 <= age < 40:\n",
    "        return 2\n",
    "    elif 40 <= age < 50:\n",
    "        return 3\n",
    "    elif 50 <= age < 60:\n",
    "        return 4\n",
    "    elif 60 <= age < 70:\n",
    "        return 5\n",
    "    else:\n",
    "        return 6"
   ]
  },
  {
   "cell_type": "code",
   "execution_count": 17,
   "id": "ffc6e350-2364-4dcc-b33e-77febabbb30e",
   "metadata": {},
   "outputs": [],
   "source": [
    "data['Age2'] = data['Age'].apply(ageRange)"
   ]
  },
  {
   "cell_type": "code",
   "execution_count": 18,
   "id": "65404cb7-d592-4551-8cc0-d98ac4567601",
   "metadata": {},
   "outputs": [],
   "source": [
    "for col in col_list:\n",
    "    data[col].fillna(data.groupby('Age2')[col].transform('median'), inplace=True)"
   ]
  },
  {
   "cell_type": "code",
   "execution_count": 19,
   "id": "8683e43c-5c8a-4a09-805d-7971404214c8",
   "metadata": {},
   "outputs": [],
   "source": [
    "from sklearn.svm import SVC\n",
    "from sklearn.linear_model import LogisticRegression\n",
    "from sklearn.linear_model import LogisticRegressionCV\n",
    "from sklearn.model_selection import train_test_split\n",
    "from sklearn.preprocessing import StandardScaler"
   ]
  },
  {
   "cell_type": "code",
   "execution_count": 21,
   "id": "5e823844-bd72-4a21-8e3b-bbe5fe4f95da",
   "metadata": {},
   "outputs": [],
   "source": [
    "x = data.drop(['Outcome', 'Age2'], axis = 1)"
   ]
  },
  {
   "cell_type": "code",
   "execution_count": 22,
   "id": "183ccfd3-154c-4f12-a4dc-ef56db5d0fda",
   "metadata": {},
   "outputs": [],
   "source": [
    "y = data['Outcome']"
   ]
  },
  {
   "cell_type": "code",
   "execution_count": 23,
   "id": "879a8c31-1686-4227-afb0-82530ba94497",
   "metadata": {},
   "outputs": [],
   "source": [
    "x_train, x_test, y_train, y_test = train_test_split(x, y, test_size= 0.2, random_state = 0, stratify = y)"
   ]
  },
  {
   "cell_type": "code",
   "execution_count": 24,
   "id": "2d80d51b-e2b8-45e1-a05f-3a89ff72feb7",
   "metadata": {},
   "outputs": [],
   "source": [
    "model1 = SVC()"
   ]
  },
  {
   "cell_type": "code",
   "execution_count": 25,
   "id": "4685745b-2ee9-4e3d-bd78-35d271188d3d",
   "metadata": {},
   "outputs": [
    {
     "data": {
      "text/plain": [
       "SVC()"
      ]
     },
     "execution_count": 25,
     "metadata": {},
     "output_type": "execute_result"
    }
   ],
   "source": [
    "model1.fit(x_train, y_train)"
   ]
  },
  {
   "cell_type": "code",
   "execution_count": 26,
   "id": "be36aa3a-c6b8-4f10-ae80-7f0804d5044c",
   "metadata": {},
   "outputs": [
    {
     "data": {
      "text/plain": [
       "0.749185667752443"
      ]
     },
     "execution_count": 26,
     "metadata": {},
     "output_type": "execute_result"
    }
   ],
   "source": [
    "model1.score(x_train, y_train)"
   ]
  },
  {
   "cell_type": "code",
   "execution_count": 27,
   "id": "ba4ab28a-3ea5-4116-b366-2d97b2ebad19",
   "metadata": {},
   "outputs": [
    {
     "data": {
      "text/plain": [
       "0.7792207792207793"
      ]
     },
     "execution_count": 27,
     "metadata": {},
     "output_type": "execute_result"
    }
   ],
   "source": [
    "model1.score(x_test, y_test)"
   ]
  },
  {
   "cell_type": "code",
   "execution_count": 28,
   "id": "f7c89d13-9e39-41a3-b725-d2980fede610",
   "metadata": {},
   "outputs": [],
   "source": [
    "import pickle"
   ]
  },
  {
   "cell_type": "code",
   "execution_count": 29,
   "id": "444b46f0-4a74-4454-b5a9-b1f9c79165cf",
   "metadata": {},
   "outputs": [],
   "source": [
    "with open('model.pkl', 'wb') as f:\n",
    "    pickle.dump(model1, f)"
   ]
  },
  {
   "cell_type": "code",
   "execution_count": 31,
   "id": "5b192f8f-9551-44f1-ade0-4cd790f9aca4",
   "metadata": {
    "tags": []
   },
   "outputs": [],
   "source": [
    "index = data.groupby('Age2')['Glucose'].median().index"
   ]
  },
  {
   "cell_type": "code",
   "execution_count": 32,
   "id": "272c5f86-9f3c-47d0-963f-0c170ccb1a36",
   "metadata": {},
   "outputs": [],
   "source": [
    "value = data.groupby('Age2')['Glucose'].median().values"
   ]
  },
  {
   "cell_type": "code",
   "execution_count": 33,
   "id": "0b4bfe13-5dc8-4cdb-b217-aa6f23acc70a",
   "metadata": {},
   "outputs": [],
   "source": [
    "glu_dict = {}\n",
    "\n",
    "for i in range(len(index)):\n",
    "    glu_dict[index[i]] = value[i]"
   ]
  },
  {
   "cell_type": "code",
   "execution_count": 34,
   "id": "3902a5c1-50cd-4387-88d1-26222e938597",
   "metadata": {},
   "outputs": [
    {
     "data": {
      "text/plain": [
       "{1: 109.0, 2: 122.0, 3: 123.0, 4: 139.0, 5: 136.0, 6: 134.0}"
      ]
     },
     "execution_count": 34,
     "metadata": {},
     "output_type": "execute_result"
    }
   ],
   "source": [
    "glu_dict"
   ]
  },
  {
   "cell_type": "code",
   "execution_count": 36,
   "id": "0d2f0b08-b71a-4a26-ace0-75c0436e7920",
   "metadata": {},
   "outputs": [],
   "source": [
    "dict_total = {}\n",
    "\n",
    "for col in col_list :\n",
    "    index = data.groupby('Age2')[col].median().index\n",
    "    value = data.groupby('Age2')[col].median().values\n",
    "    temp = {}\n",
    "    for i in range(len(index)):\n",
    "        temp[index[i]] = value[i]\n",
    "    dict_total[col] = temp"
   ]
  },
  {
   "cell_type": "code",
   "execution_count": 37,
   "id": "5d89a31c-328b-43a2-ae50-53cd843f5f98",
   "metadata": {},
   "outputs": [
    {
     "data": {
      "text/plain": [
       "{'Glucose': {1: 109.0, 2: 122.0, 3: 123.0, 4: 139.0, 5: 136.0, 6: 134.0},\n",
       " 'BloodPressure': {1: 68.0, 2: 74.0, 3: 78.0, 4: 78.0, 5: 78.0, 6: 78.0},\n",
       " 'SkinThickness': {1: 27.0, 2: 32.0, 3: 31.0, 4: 28.5, 5: 31.0, 6: 25.5},\n",
       " 'Insulin': {1: 105.0, 2: 140.0, 3: 131.0, 4: 192.0, 5: 258.0, 6: 60.0},\n",
       " 'BMI': {1: 31.6, 2: 32.0, 3: 33.95, 4: 33.05, 5: 29.3, 6: 25.9}}"
      ]
     },
     "execution_count": 37,
     "metadata": {},
     "output_type": "execute_result"
    }
   ],
   "source": [
    "dict_total"
   ]
  },
  {
   "cell_type": "code",
   "execution_count": 43,
   "id": "c06e2038-d337-498c-98a7-dfad38ccda6f",
   "metadata": {},
   "outputs": [],
   "source": [
    "with open('dict_total.pkl', 'wb') as f:\n",
    "    pickle.dump(dict_total, f)"
   ]
  },
  {
   "cell_type": "code",
   "execution_count": null,
   "id": "a56da31e-17a8-4dfe-ac0e-eca7e3faa27a",
   "metadata": {},
   "outputs": [],
   "source": []
  }
 ],
 "metadata": {
  "kernelspec": {
   "display_name": "Python 3 (ipykernel)",
   "language": "python",
   "name": "python3"
  },
  "language_info": {
   "codemirror_mode": {
    "name": "ipython",
    "version": 3
   },
   "file_extension": ".py",
   "mimetype": "text/x-python",
   "name": "python",
   "nbconvert_exporter": "python",
   "pygments_lexer": "ipython3",
   "version": "3.9.12"
  }
 },
 "nbformat": 4,
 "nbformat_minor": 5
}
