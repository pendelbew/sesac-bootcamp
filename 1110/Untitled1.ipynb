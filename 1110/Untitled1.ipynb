{
 "cells": [
  {
   "cell_type": "code",
   "execution_count": 78,
   "id": "7615c64a-3032-4387-a003-29322202f877",
   "metadata": {},
   "outputs": [],
   "source": [
    "import pandas as pd\n",
    "import numpy as np\n",
    "import preprocessing as pre"
   ]
  },
  {
   "cell_type": "code",
   "execution_count": 55,
   "id": "61746b96-0243-48f5-a550-34fbeeba84fb",
   "metadata": {},
   "outputs": [],
   "source": [
    "real = [1.,163.,72.,0.,0.,39.,1.222,33.]"
   ]
  },
  {
   "cell_type": "code",
   "execution_count": 56,
   "id": "1463ed37-1b92-4982-a471-5262dfd180fc",
   "metadata": {},
   "outputs": [],
   "source": [
    "real = np.asarray(real).reshape(1,-1)"
   ]
  },
  {
   "cell_type": "code",
   "execution_count": 57,
   "id": "5392c78b-55d1-4c5d-9ea6-07125226aef0",
   "metadata": {},
   "outputs": [
    {
     "data": {
      "text/plain": [
       "array([[  1.   , 163.   ,  72.   ,   0.   ,   0.   ,  39.   ,   1.222,\n",
       "         33.   ]])"
      ]
     },
     "execution_count": 57,
     "metadata": {},
     "output_type": "execute_result"
    }
   ],
   "source": [
    "real"
   ]
  },
  {
   "cell_type": "code",
   "execution_count": 58,
   "id": "423d3f62-60d8-47bc-9eec-93f4e66f2eee",
   "metadata": {},
   "outputs": [],
   "source": [
    "df = pd.DataFrame(real, columns = ['Pregnancies', 'Glucose', 'BloodPressure', 'SkinThickness', 'Insulin', 'BMI', 'DiabetesPedigreeFunction', 'Age'])"
   ]
  },
  {
   "cell_type": "code",
   "execution_count": 59,
   "id": "367a5b93-58e7-4873-a916-b94ba2fa60cc",
   "metadata": {},
   "outputs": [
    {
     "data": {
      "text/html": [
       "<div>\n",
       "<style scoped>\n",
       "    .dataframe tbody tr th:only-of-type {\n",
       "        vertical-align: middle;\n",
       "    }\n",
       "\n",
       "    .dataframe tbody tr th {\n",
       "        vertical-align: top;\n",
       "    }\n",
       "\n",
       "    .dataframe thead th {\n",
       "        text-align: right;\n",
       "    }\n",
       "</style>\n",
       "<table border=\"1\" class=\"dataframe\">\n",
       "  <thead>\n",
       "    <tr style=\"text-align: right;\">\n",
       "      <th></th>\n",
       "      <th>Pregnancies</th>\n",
       "      <th>Glucose</th>\n",
       "      <th>BloodPressure</th>\n",
       "      <th>SkinThickness</th>\n",
       "      <th>Insulin</th>\n",
       "      <th>BMI</th>\n",
       "      <th>DiabetesPedigreeFunction</th>\n",
       "      <th>Age</th>\n",
       "    </tr>\n",
       "  </thead>\n",
       "  <tbody>\n",
       "    <tr>\n",
       "      <th>0</th>\n",
       "      <td>1.0</td>\n",
       "      <td>163.0</td>\n",
       "      <td>72.0</td>\n",
       "      <td>0.0</td>\n",
       "      <td>0.0</td>\n",
       "      <td>39.0</td>\n",
       "      <td>1.222</td>\n",
       "      <td>33.0</td>\n",
       "    </tr>\n",
       "  </tbody>\n",
       "</table>\n",
       "</div>"
      ],
      "text/plain": [
       "   Pregnancies  Glucose  BloodPressure  SkinThickness  Insulin   BMI  \\\n",
       "0          1.0    163.0           72.0            0.0      0.0  39.0   \n",
       "\n",
       "   DiabetesPedigreeFunction   Age  \n",
       "0                     1.222  33.0  "
      ]
     },
     "execution_count": 59,
     "metadata": {},
     "output_type": "execute_result"
    }
   ],
   "source": [
    "df"
   ]
  },
  {
   "cell_type": "code",
   "execution_count": 79,
   "id": "f639a36c-3b5a-457d-85a9-44ab288feffe",
   "metadata": {},
   "outputs": [
    {
     "data": {
      "text/plain": [
       "['Glucose', 'BloodPressure', 'SkinThickness', 'Insulin', 'BMI']"
      ]
     },
     "execution_count": 79,
     "metadata": {},
     "output_type": "execute_result"
    }
   ],
   "source": [
    "pre.col_list"
   ]
  },
  {
   "cell_type": "code",
   "execution_count": 61,
   "id": "f6050f20-fee2-44a6-8d27-f65a0c6a634c",
   "metadata": {},
   "outputs": [],
   "source": [
    "def ageRange(age):\n",
    "    if 21 <= age < 30:\n",
    "        return 1\n",
    "    elif 30 <= age < 40:\n",
    "        return 2\n",
    "    elif 40 <= age < 50:\n",
    "        return 3\n",
    "    elif 50 <= age < 60:\n",
    "        return 4\n",
    "    elif 60 <= age < 70:\n",
    "        return 5\n",
    "    else:\n",
    "        return 6"
   ]
  },
  {
   "cell_type": "code",
   "execution_count": 80,
   "id": "8752eee0-501d-464f-892f-88b6497a5a17",
   "metadata": {},
   "outputs": [],
   "source": [
    "df['Age2'] = df['Age'].apply(pre.ageRange)"
   ]
  },
  {
   "cell_type": "code",
   "execution_count": 63,
   "id": "a088376c-cdcb-45a3-96f9-b5010e8e52a1",
   "metadata": {},
   "outputs": [],
   "source": [
    "import pickle"
   ]
  },
  {
   "cell_type": "code",
   "execution_count": 64,
   "id": "4dbdbe48-304e-4752-95f9-b975d2180f75",
   "metadata": {},
   "outputs": [],
   "source": [
    "with open('dict_total.pkl', 'rb') as f:\n",
    "    dict_total = pickle.load(f)"
   ]
  },
  {
   "cell_type": "code",
   "execution_count": 65,
   "id": "1b1f9814-fd6f-4e2a-9e6f-407d01b1f508",
   "metadata": {},
   "outputs": [],
   "source": [
    "df.loc[0, 'SkinThickness'] =dict_total['SkinThickness'][df.loc[0]['Age2']]"
   ]
  },
  {
   "cell_type": "code",
   "execution_count": 66,
   "id": "684644c6-81ca-406d-82a6-8e595deb7d5c",
   "metadata": {},
   "outputs": [
    {
     "data": {
      "text/html": [
       "<div>\n",
       "<style scoped>\n",
       "    .dataframe tbody tr th:only-of-type {\n",
       "        vertical-align: middle;\n",
       "    }\n",
       "\n",
       "    .dataframe tbody tr th {\n",
       "        vertical-align: top;\n",
       "    }\n",
       "\n",
       "    .dataframe thead th {\n",
       "        text-align: right;\n",
       "    }\n",
       "</style>\n",
       "<table border=\"1\" class=\"dataframe\">\n",
       "  <thead>\n",
       "    <tr style=\"text-align: right;\">\n",
       "      <th></th>\n",
       "      <th>Pregnancies</th>\n",
       "      <th>Glucose</th>\n",
       "      <th>BloodPressure</th>\n",
       "      <th>SkinThickness</th>\n",
       "      <th>Insulin</th>\n",
       "      <th>BMI</th>\n",
       "      <th>DiabetesPedigreeFunction</th>\n",
       "      <th>Age</th>\n",
       "      <th>Age2</th>\n",
       "    </tr>\n",
       "  </thead>\n",
       "  <tbody>\n",
       "    <tr>\n",
       "      <th>0</th>\n",
       "      <td>1.0</td>\n",
       "      <td>163.0</td>\n",
       "      <td>72.0</td>\n",
       "      <td>32.0</td>\n",
       "      <td>0.0</td>\n",
       "      <td>39.0</td>\n",
       "      <td>1.222</td>\n",
       "      <td>33.0</td>\n",
       "      <td>2</td>\n",
       "    </tr>\n",
       "  </tbody>\n",
       "</table>\n",
       "</div>"
      ],
      "text/plain": [
       "   Pregnancies  Glucose  BloodPressure  SkinThickness  Insulin   BMI  \\\n",
       "0          1.0    163.0           72.0           32.0      0.0  39.0   \n",
       "\n",
       "   DiabetesPedigreeFunction   Age  Age2  \n",
       "0                     1.222  33.0     2  "
      ]
     },
     "execution_count": 66,
     "metadata": {},
     "output_type": "execute_result"
    }
   ],
   "source": [
    "df"
   ]
  },
  {
   "cell_type": "code",
   "execution_count": 67,
   "id": "8bd99415-042a-43ae-bd41-17fb9c37396f",
   "metadata": {},
   "outputs": [],
   "source": [
    "for col in col_list:\n",
    "    df.loc[0, col] = dict_total[col][df.loc[0]['Age2']]"
   ]
  },
  {
   "cell_type": "code",
   "execution_count": 68,
   "id": "39f4a3ec-f8e3-45ec-adcb-4f4d507aa94e",
   "metadata": {},
   "outputs": [
    {
     "data": {
      "text/html": [
       "<div>\n",
       "<style scoped>\n",
       "    .dataframe tbody tr th:only-of-type {\n",
       "        vertical-align: middle;\n",
       "    }\n",
       "\n",
       "    .dataframe tbody tr th {\n",
       "        vertical-align: top;\n",
       "    }\n",
       "\n",
       "    .dataframe thead th {\n",
       "        text-align: right;\n",
       "    }\n",
       "</style>\n",
       "<table border=\"1\" class=\"dataframe\">\n",
       "  <thead>\n",
       "    <tr style=\"text-align: right;\">\n",
       "      <th></th>\n",
       "      <th>Pregnancies</th>\n",
       "      <th>Glucose</th>\n",
       "      <th>BloodPressure</th>\n",
       "      <th>SkinThickness</th>\n",
       "      <th>Insulin</th>\n",
       "      <th>BMI</th>\n",
       "      <th>DiabetesPedigreeFunction</th>\n",
       "      <th>Age</th>\n",
       "      <th>Age2</th>\n",
       "    </tr>\n",
       "  </thead>\n",
       "  <tbody>\n",
       "    <tr>\n",
       "      <th>0</th>\n",
       "      <td>1.0</td>\n",
       "      <td>122.0</td>\n",
       "      <td>74.0</td>\n",
       "      <td>32.0</td>\n",
       "      <td>140.0</td>\n",
       "      <td>32.0</td>\n",
       "      <td>1.222</td>\n",
       "      <td>33.0</td>\n",
       "      <td>2</td>\n",
       "    </tr>\n",
       "  </tbody>\n",
       "</table>\n",
       "</div>"
      ],
      "text/plain": [
       "   Pregnancies  Glucose  BloodPressure  SkinThickness  Insulin   BMI  \\\n",
       "0          1.0    122.0           74.0           32.0    140.0  32.0   \n",
       "\n",
       "   DiabetesPedigreeFunction   Age  Age2  \n",
       "0                     1.222  33.0     2  "
      ]
     },
     "execution_count": 68,
     "metadata": {},
     "output_type": "execute_result"
    }
   ],
   "source": [
    "df"
   ]
  },
  {
   "cell_type": "code",
   "execution_count": 69,
   "id": "262cd0e8-a0c7-4144-a013-65e265a89eed",
   "metadata": {},
   "outputs": [
    {
     "data": {
      "text/html": [
       "<div>\n",
       "<style scoped>\n",
       "    .dataframe tbody tr th:only-of-type {\n",
       "        vertical-align: middle;\n",
       "    }\n",
       "\n",
       "    .dataframe tbody tr th {\n",
       "        vertical-align: top;\n",
       "    }\n",
       "\n",
       "    .dataframe thead th {\n",
       "        text-align: right;\n",
       "    }\n",
       "</style>\n",
       "<table border=\"1\" class=\"dataframe\">\n",
       "  <thead>\n",
       "    <tr style=\"text-align: right;\">\n",
       "      <th></th>\n",
       "      <th>Pregnancies</th>\n",
       "      <th>Glucose</th>\n",
       "      <th>BloodPressure</th>\n",
       "      <th>SkinThickness</th>\n",
       "      <th>Insulin</th>\n",
       "      <th>BMI</th>\n",
       "      <th>DiabetesPedigreeFunction</th>\n",
       "      <th>Age</th>\n",
       "    </tr>\n",
       "  </thead>\n",
       "  <tbody>\n",
       "    <tr>\n",
       "      <th>0</th>\n",
       "      <td>1.0</td>\n",
       "      <td>122.0</td>\n",
       "      <td>74.0</td>\n",
       "      <td>32.0</td>\n",
       "      <td>140.0</td>\n",
       "      <td>32.0</td>\n",
       "      <td>1.222</td>\n",
       "      <td>33.0</td>\n",
       "    </tr>\n",
       "  </tbody>\n",
       "</table>\n",
       "</div>"
      ],
      "text/plain": [
       "   Pregnancies  Glucose  BloodPressure  SkinThickness  Insulin   BMI  \\\n",
       "0          1.0    122.0           74.0           32.0    140.0  32.0   \n",
       "\n",
       "   DiabetesPedigreeFunction   Age  \n",
       "0                     1.222  33.0  "
      ]
     },
     "execution_count": 69,
     "metadata": {},
     "output_type": "execute_result"
    }
   ],
   "source": [
    "df.drop('Age2', axis = 1)"
   ]
  },
  {
   "cell_type": "code",
   "execution_count": 70,
   "id": "d9620cb4-43a0-4e22-856d-611deee2c3ab",
   "metadata": {},
   "outputs": [],
   "source": [
    "with open('diabet_model.pkl', 'rb') as f:\n",
    "    diabet_model = pickle.load(f)"
   ]
  },
  {
   "cell_type": "code",
   "execution_count": 71,
   "id": "89b127b4-9e88-4494-92bb-8e77775b31b4",
   "metadata": {},
   "outputs": [
    {
     "name": "stderr",
     "output_type": "stream",
     "text": [
      "C:\\Users\\user\\anaconda3\\lib\\site-packages\\sklearn\\base.py:450: UserWarning: X does not have valid feature names, but SVC was fitted with feature names\n",
      "  warnings.warn(\n"
     ]
    }
   ],
   "source": [
    "predict = diabet_model.predict(real)"
   ]
  },
  {
   "cell_type": "code",
   "execution_count": 75,
   "id": "c47bc6b4-93d4-4f13-87b0-e335f85bab2b",
   "metadata": {},
   "outputs": [
    {
     "data": {
      "text/plain": [
       "array([0], dtype=int64)"
      ]
     },
     "execution_count": 75,
     "metadata": {},
     "output_type": "execute_result"
    }
   ],
   "source": [
    "predict"
   ]
  },
  {
   "cell_type": "code",
   "execution_count": 77,
   "id": "58d56a10-b26e-457d-9431-7277518894f3",
   "metadata": {},
   "outputs": [],
   "source": [
    "if predict == 0:\n",
    "    '당뇨가 없습니다.'\n",
    "else:\n",
    "    '당뇨입니다.'"
   ]
  },
  {
   "cell_type": "code",
   "execution_count": 73,
   "id": "4991a8fb-ce66-4078-960e-8d1a9e5c2c55",
   "metadata": {},
   "outputs": [
    {
     "data": {
      "text/plain": [
       "array([[  1.   , 122.   ,  74.   ,  32.   , 140.   ,  32.   ,   1.222,\n",
       "         33.   ]])"
      ]
     },
     "execution_count": 73,
     "metadata": {},
     "output_type": "execute_result"
    }
   ],
   "source": [
    "real"
   ]
  },
  {
   "cell_type": "code",
   "execution_count": null,
   "id": "dfb21741-1b57-4b10-a74e-f4441b4972ce",
   "metadata": {},
   "outputs": [],
   "source": [
    "def prefunc(df):\n",
    "    \n",
    "    for col in col_list:\n",
    "        data[col] = np.where(data[col] == 0, np.nan, data[col])\n",
    "        \n",
    "        \n"
   ]
  },
  {
   "cell_type": "code",
   "execution_count": 81,
   "id": "7bd13c62-a872-422c-aa68-aee8c36a3de2",
   "metadata": {},
   "outputs": [
    {
     "name": "stdout",
     "output_type": "stream",
     "text": [
      "{1: 109.0, 2: 122.0, 3: 123.0, 4: 139.0, 5: 136.0, 6: 134.0}\n",
      "{1: 68.0, 2: 74.0, 3: 78.0, 4: 78.0, 5: 78.0, 6: 78.0}\n",
      "{1: 27.0, 2: 32.0, 3: 31.0, 4: 28.5, 5: 31.0, 6: 25.5}\n",
      "{1: 105.0, 2: 140.0, 3: 131.0, 4: 192.0, 5: 258.0, 6: 60.0}\n",
      "{1: 31.6, 2: 32.0, 3: 33.95, 4: 33.05, 5: 29.3, 6: 25.9}\n"
     ]
    }
   ],
   "source": [
    "for col in col_list:\n",
    "    print(dict_total[col])"
   ]
  },
  {
   "cell_type": "code",
   "execution_count": 83,
   "id": "e9f6c546-b359-4614-b220-939e92107543",
   "metadata": {},
   "outputs": [
    {
     "ename": "NameError",
     "evalue": "name 'data' is not defined",
     "output_type": "error",
     "traceback": [
      "\u001b[1;31m---------------------------------------------------------------------------\u001b[0m",
      "\u001b[1;31mNameError\u001b[0m                                 Traceback (most recent call last)",
      "Input \u001b[1;32mIn [83]\u001b[0m, in \u001b[0;36m<cell line: 1>\u001b[1;34m()\u001b[0m\n\u001b[1;32m----> 1\u001b[0m dict_total[\u001b[38;5;124m'\u001b[39m\u001b[38;5;124mBMI\u001b[39m\u001b[38;5;124m'\u001b[39m][\u001b[43mdata\u001b[49m\u001b[38;5;241m.\u001b[39mloc[\u001b[38;5;241m0\u001b[39m]]\n",
      "\u001b[1;31mNameError\u001b[0m: name 'data' is not defined"
     ]
    }
   ],
   "source": [
    "dict_total['BMI']"
   ]
  },
  {
   "cell_type": "code",
   "execution_count": 86,
   "id": "d6592e20-4090-4f93-9eee-a1106bf3b80a",
   "metadata": {},
   "outputs": [
    {
     "data": {
      "text/plain": [
       "[2.0]"
      ]
     },
     "execution_count": 86,
     "metadata": {},
     "output_type": "execute_result"
    }
   ],
   "source": [
    "[df.loc[0]['Age2']]"
   ]
  },
  {
   "cell_type": "code",
   "execution_count": 92,
   "id": "704a33bc-1e8f-407a-9c67-34bfa12113c7",
   "metadata": {},
   "outputs": [
    {
     "data": {
      "text/plain": [
       "32.0"
      ]
     },
     "execution_count": 92,
     "metadata": {},
     "output_type": "execute_result"
    }
   ],
   "source": [
    "dict_total['BMI'][df.loc[0]['Age2']] # age2 값에 따라, BMI의 value 도출"
   ]
  },
  {
   "cell_type": "code",
   "execution_count": null,
   "id": "30fd5d96-c8e6-4359-aa13-9984aae4f17a",
   "metadata": {},
   "outputs": [],
   "source": []
  }
 ],
 "metadata": {
  "kernelspec": {
   "display_name": "Python 3 (ipykernel)",
   "language": "python",
   "name": "python3"
  },
  "language_info": {
   "codemirror_mode": {
    "name": "ipython",
    "version": 3
   },
   "file_extension": ".py",
   "mimetype": "text/x-python",
   "name": "python",
   "nbconvert_exporter": "python",
   "pygments_lexer": "ipython3",
   "version": "3.9.12"
  }
 },
 "nbformat": 4,
 "nbformat_minor": 5
}
