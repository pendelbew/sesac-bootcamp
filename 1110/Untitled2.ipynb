{
 "cells": [
  {
   "cell_type": "code",
   "execution_count": 1,
   "id": "1dde517d-5b43-40c9-9b7a-35ecc25c5900",
   "metadata": {},
   "outputs": [],
   "source": [
    "import pandas as pd\n",
    "import numpy as np\n",
    "import pickle\n",
    "import preprocessing as pre"
   ]
  },
  {
   "cell_type": "code",
   "execution_count": 2,
   "id": "c64e7792-44c9-4ce3-aaac-41c5f5ffbb87",
   "metadata": {},
   "outputs": [],
   "source": [
    "real = [1.,163.,72.,0.,0.,39.,1.222,33.]\n",
    "real = np.asarray(real).reshape(1,-1)\n",
    "df = pd.DataFrame(real, columns = ['Pregnancies', 'Glucose', 'BloodPressure', 'SkinThickness', 'Insulin', 'BMI', 'DiabetesPedigreeFunction', 'Age'])"
   ]
  },
  {
   "cell_type": "code",
   "execution_count": 3,
   "id": "375bc38f-949d-489b-9e95-5dcfee730d12",
   "metadata": {},
   "outputs": [],
   "source": [
    "df2 = pre.prefunc(df)"
   ]
  },
  {
   "cell_type": "code",
   "execution_count": 4,
   "id": "95ac3cc5-8478-48b6-a19a-b8c6ec96d404",
   "metadata": {},
   "outputs": [
    {
     "data": {
      "text/html": [
       "<div>\n",
       "<style scoped>\n",
       "    .dataframe tbody tr th:only-of-type {\n",
       "        vertical-align: middle;\n",
       "    }\n",
       "\n",
       "    .dataframe tbody tr th {\n",
       "        vertical-align: top;\n",
       "    }\n",
       "\n",
       "    .dataframe thead th {\n",
       "        text-align: right;\n",
       "    }\n",
       "</style>\n",
       "<table border=\"1\" class=\"dataframe\">\n",
       "  <thead>\n",
       "    <tr style=\"text-align: right;\">\n",
       "      <th></th>\n",
       "      <th>Pregnancies</th>\n",
       "      <th>Glucose</th>\n",
       "      <th>BloodPressure</th>\n",
       "      <th>SkinThickness</th>\n",
       "      <th>Insulin</th>\n",
       "      <th>BMI</th>\n",
       "      <th>DiabetesPedigreeFunction</th>\n",
       "      <th>Age</th>\n",
       "    </tr>\n",
       "  </thead>\n",
       "  <tbody>\n",
       "    <tr>\n",
       "      <th>0</th>\n",
       "      <td>1.0</td>\n",
       "      <td>163.0</td>\n",
       "      <td>72.0</td>\n",
       "      <td>32.0</td>\n",
       "      <td>140.0</td>\n",
       "      <td>39.0</td>\n",
       "      <td>1.222</td>\n",
       "      <td>33.0</td>\n",
       "    </tr>\n",
       "  </tbody>\n",
       "</table>\n",
       "</div>"
      ],
      "text/plain": [
       "   Pregnancies  Glucose  BloodPressure  SkinThickness  Insulin   BMI  \\\n",
       "0          1.0    163.0           72.0           32.0    140.0  39.0   \n",
       "\n",
       "   DiabetesPedigreeFunction   Age  \n",
       "0                     1.222  33.0  "
      ]
     },
     "execution_count": 4,
     "metadata": {},
     "output_type": "execute_result"
    }
   ],
   "source": [
    "df2"
   ]
  },
  {
   "cell_type": "code",
   "execution_count": 5,
   "id": "1e1db7ab-68bc-42c2-a06f-5611a5e2608e",
   "metadata": {},
   "outputs": [],
   "source": [
    "with open('diabet_model.pkl', 'rb') as f:\n",
    "    diabet_model = pickle.load(f)"
   ]
  },
  {
   "cell_type": "code",
   "execution_count": 6,
   "id": "2b73bfa8-3b4a-4108-9ed4-8f9466128c53",
   "metadata": {
    "tags": []
   },
   "outputs": [],
   "source": [
    "predict = diabet_model.predict(df2)"
   ]
  },
  {
   "cell_type": "code",
   "execution_count": 7,
   "id": "d12b98e2-0456-4bf9-aa1d-75c54fc0d5d5",
   "metadata": {},
   "outputs": [
    {
     "name": "stdout",
     "output_type": "stream",
     "text": [
      "당뇨입니다.\n"
     ]
    }
   ],
   "source": [
    "if predict == 0:\n",
    "    print('당뇨가 없습니다.')\n",
    "else:\n",
    "    print('당뇨입니다.')"
   ]
  },
  {
   "cell_type": "code",
   "execution_count": null,
   "id": "7d0dcaae-dc97-4256-84df-8bf083ac9718",
   "metadata": {},
   "outputs": [],
   "source": []
  }
 ],
 "metadata": {
  "kernelspec": {
   "display_name": "Python 3 (ipykernel)",
   "language": "python",
   "name": "python3"
  },
  "language_info": {
   "codemirror_mode": {
    "name": "ipython",
    "version": 3
   },
   "file_extension": ".py",
   "mimetype": "text/x-python",
   "name": "python",
   "nbconvert_exporter": "python",
   "pygments_lexer": "ipython3",
   "version": "3.9.12"
  }
 },
 "nbformat": 4,
 "nbformat_minor": 5
}
