{
 "cells": [
  {
   "cell_type": "code",
   "execution_count": 1,
   "id": "51fac6ba-e4c4-44c8-b421-ab9716be094d",
   "metadata": {},
   "outputs": [],
   "source": [
    "import requests\n",
    "from bs4 import BeautifulSoup\n",
    "import pandas as pd\n",
    "import numpy as np"
   ]
  },
  {
   "cell_type": "markdown",
   "id": "ed72f98e-1d72-4c76-906f-d42a422af1b6",
   "metadata": {},
   "source": [
    "지진 해일 대피소 "
   ]
  },
  {
   "cell_type": "code",
   "execution_count": 2,
   "id": "827dbf8b-d307-43a8-a668-b16a734a82e0",
   "metadata": {},
   "outputs": [],
   "source": [
    "url = 'https://apis.data.go.kr/1741000/TsunamiShelter3/getTsunamiShelter1List?serviceKey=gCLmjgZMbPHHz6PrGczbNvDfSRCuK6tNGdbBdtpZYGexF1SiOZ92Lp2wZRhF23AEKfy3WrSvJ%2FLOc6chgTaMhw%3D%3D&pageNo=1&numOfRows=100&type=xml'"
   ]
  },
  {
   "cell_type": "code",
   "execution_count": 3,
   "id": "e242e979-2296-45b6-ab7d-0a9593ce1cd3",
   "metadata": {},
   "outputs": [],
   "source": [
    "# 총 데이터 648개 있음"
   ]
  },
  {
   "cell_type": "code",
   "execution_count": 4,
   "id": "ee4c4578-9dc6-44f9-99a9-b9ebefdc69d7",
   "metadata": {
    "tags": []
   },
   "outputs": [
    {
     "name": "stderr",
     "output_type": "stream",
     "text": [
      "C:\\Users\\user\\anaconda3\\lib\\site-packages\\urllib3\\connectionpool.py:1043: InsecureRequestWarning: Unverified HTTPS request is being made to host 'apis.data.go.kr'. Adding certificate verification is strongly advised. See: https://urllib3.readthedocs.io/en/1.26.x/advanced-usage.html#ssl-warnings\n",
      "  warnings.warn(\n",
      "C:\\Users\\user\\anaconda3\\lib\\site-packages\\bs4\\builder\\__init__.py:545: XMLParsedAsHTMLWarning: It looks like you're parsing an XML document using an HTML parser. If this really is an HTML document (maybe it's XHTML?), you can ignore or filter this warning. If it's XML, you should know that using an XML parser will be more reliable. To parse this document as XML, make sure you have the lxml package installed, and pass the keyword argument `features=\"xml\"` into the BeautifulSoup constructor.\n",
      "  warnings.warn(\n",
      "C:\\Users\\user\\anaconda3\\lib\\site-packages\\urllib3\\connectionpool.py:1043: InsecureRequestWarning: Unverified HTTPS request is being made to host 'apis.data.go.kr'. Adding certificate verification is strongly advised. See: https://urllib3.readthedocs.io/en/1.26.x/advanced-usage.html#ssl-warnings\n",
      "  warnings.warn(\n",
      "C:\\Users\\user\\anaconda3\\lib\\site-packages\\urllib3\\connectionpool.py:1043: InsecureRequestWarning: Unverified HTTPS request is being made to host 'apis.data.go.kr'. Adding certificate verification is strongly advised. See: https://urllib3.readthedocs.io/en/1.26.x/advanced-usage.html#ssl-warnings\n",
      "  warnings.warn(\n",
      "C:\\Users\\user\\anaconda3\\lib\\site-packages\\urllib3\\connectionpool.py:1043: InsecureRequestWarning: Unverified HTTPS request is being made to host 'apis.data.go.kr'. Adding certificate verification is strongly advised. See: https://urllib3.readthedocs.io/en/1.26.x/advanced-usage.html#ssl-warnings\n",
      "  warnings.warn(\n",
      "C:\\Users\\user\\anaconda3\\lib\\site-packages\\urllib3\\connectionpool.py:1043: InsecureRequestWarning: Unverified HTTPS request is being made to host 'apis.data.go.kr'. Adding certificate verification is strongly advised. See: https://urllib3.readthedocs.io/en/1.26.x/advanced-usage.html#ssl-warnings\n",
      "  warnings.warn(\n",
      "C:\\Users\\user\\anaconda3\\lib\\site-packages\\urllib3\\connectionpool.py:1043: InsecureRequestWarning: Unverified HTTPS request is being made to host 'apis.data.go.kr'. Adding certificate verification is strongly advised. See: https://urllib3.readthedocs.io/en/1.26.x/advanced-usage.html#ssl-warnings\n",
      "  warnings.warn(\n",
      "C:\\Users\\user\\anaconda3\\lib\\site-packages\\urllib3\\connectionpool.py:1043: InsecureRequestWarning: Unverified HTTPS request is being made to host 'apis.data.go.kr'. Adding certificate verification is strongly advised. See: https://urllib3.readthedocs.io/en/1.26.x/advanced-usage.html#ssl-warnings\n",
      "  warnings.warn(\n"
     ]
    }
   ],
   "source": [
    "data = []\n",
    "data_name = []\n",
    "\n",
    "for i in range(1,8):\n",
    "    url = 'https://apis.data.go.kr/1741000/TsunamiShelter3/getTsunamiShelter1List'\n",
    "    serviceKey = 'gCLmjgZMbPHHz6PrGczbNvDfSRCuK6tNGdbBdtpZYGexF1SiOZ92Lp2wZRhF23AEKfy3WrSvJ%2FLOc6chgTaMhw%3D%3D'\n",
    "    pageNo = str(i)\n",
    "    numOfRows = '100'\n",
    "    type = 'xml'\n",
    "    \n",
    "    api_url = url + '?' + 'serviceKey=' + serviceKey + '&pageNo=' + pageNo + '&numOfRows' + numOfRows + '&type' + type  \n",
    "    req = requests.get(api_url, verify = False)\n",
    "    soup = BeautifulSoup(req.text, 'lxml')\n",
    "\n",
    "    for i in soup.row():\n",
    "        if i not in data_name:\n",
    "            data_name.append(i.name)\n",
    "    \n",
    "    for col in data_name:\n",
    "        temp = []\n",
    "        for i in soup.select(col):\n",
    "            temp.append(i.text)\n",
    "        \n",
    "    data.append(temp)    "
   ]
  },
  {
   "cell_type": "code",
   "execution_count": null,
   "id": "56373380-6097-4989-8234-e7dfbb948058",
   "metadata": {},
   "outputs": [],
   "source": [
    "data"
   ]
  },
  {
   "cell_type": "code",
   "execution_count": 5,
   "id": "c27f8b88-7dd5-4035-a12e-dd0fb52b5835",
   "metadata": {
    "collapsed": true,
    "jupyter": {
     "outputs_hidden": true
    },
    "tags": []
   },
   "outputs": [
    {
     "data": {
      "text/plain": [
       "['id',\n",
       " 'sido_name',\n",
       " 'sigungu_name',\n",
       " 'remarks',\n",
       " 'shel_nm',\n",
       " 'address',\n",
       " 'lon',\n",
       " 'lat',\n",
       " 'shel_av',\n",
       " 'lenth',\n",
       " 'shel_div_type',\n",
       " 'seismic',\n",
       " 'height',\n",
       " 'id',\n",
       " 'sido_name',\n",
       " 'sigungu_name',\n",
       " 'remarks',\n",
       " 'shel_nm',\n",
       " 'address',\n",
       " 'lon',\n",
       " 'lat',\n",
       " 'shel_av',\n",
       " 'lenth',\n",
       " 'shel_div_type',\n",
       " 'seismic',\n",
       " 'height',\n",
       " 'id',\n",
       " 'sido_name',\n",
       " 'sigungu_name',\n",
       " 'remarks',\n",
       " 'shel_nm',\n",
       " 'address',\n",
       " 'lon',\n",
       " 'lat',\n",
       " 'shel_av',\n",
       " 'lenth',\n",
       " 'shel_div_type',\n",
       " 'seismic',\n",
       " 'height',\n",
       " 'id',\n",
       " 'sido_name',\n",
       " 'sigungu_name',\n",
       " 'remarks',\n",
       " 'shel_nm',\n",
       " 'address',\n",
       " 'lon',\n",
       " 'lat',\n",
       " 'shel_av',\n",
       " 'lenth',\n",
       " 'shel_div_type',\n",
       " 'seismic',\n",
       " 'height',\n",
       " 'id',\n",
       " 'sido_name',\n",
       " 'sigungu_name',\n",
       " 'remarks',\n",
       " 'shel_nm',\n",
       " 'address',\n",
       " 'lon',\n",
       " 'lat',\n",
       " 'shel_av',\n",
       " 'lenth',\n",
       " 'shel_div_type',\n",
       " 'seismic',\n",
       " 'height',\n",
       " 'id',\n",
       " 'sido_name',\n",
       " 'sigungu_name',\n",
       " 'remarks',\n",
       " 'shel_nm',\n",
       " 'address',\n",
       " 'lon',\n",
       " 'lat',\n",
       " 'shel_av',\n",
       " 'lenth',\n",
       " 'shel_div_type',\n",
       " 'seismic',\n",
       " 'height',\n",
       " 'id',\n",
       " 'sido_name',\n",
       " 'sigungu_name',\n",
       " 'remarks',\n",
       " 'shel_nm',\n",
       " 'address',\n",
       " 'lon',\n",
       " 'lat',\n",
       " 'shel_av',\n",
       " 'lenth',\n",
       " 'shel_div_type',\n",
       " 'seismic',\n",
       " 'height']"
      ]
     },
     "execution_count": 5,
     "metadata": {},
     "output_type": "execute_result"
    }
   ],
   "source": [
    "data_name"
   ]
  },
  {
   "cell_type": "code",
   "execution_count": null,
   "id": "436d80fc-8a01-46ce-b5a6-64f898eae2ed",
   "metadata": {
    "tags": []
   },
   "outputs": [],
   "source": [
    "data"
   ]
  },
  {
   "cell_type": "code",
   "execution_count": null,
   "id": "33fd26a9-9320-49c3-92be-615e1a6a149a",
   "metadata": {},
   "outputs": [],
   "source": [
    "url1 ='https://apis.data.go.kr/1741000/TsunamiShelter3/getTsunamiShelter1List?serviceKey=gCLmjgZMbPHHz6PrGczbNvDfSRCuK6tNGdbBdtpZYGexF1SiOZ92Lp2wZRhF23AEKfy3WrSvJ%2FLOc6chgTaMhw%3D%3D&pageNo=7&numOfRows100&typexml'"
   ]
  },
  {
   "cell_type": "code",
   "execution_count": null,
   "id": "32f6e82c-91e7-49b1-8905-a50d613c7417",
   "metadata": {},
   "outputs": [],
   "source": [
    "req = requests.get(url1, verify = False)"
   ]
  },
  {
   "cell_type": "code",
   "execution_count": null,
   "id": "52b073b9-8c3f-4f94-bee7-917423e7f1d3",
   "metadata": {},
   "outputs": [],
   "source": [
    "soup = BeautifulSoup(req.text, 'lxml')"
   ]
  },
  {
   "cell_type": "code",
   "execution_count": null,
   "id": "9c0f8312-2942-4f1d-82c5-d7f9aaa100bc",
   "metadata": {
    "tags": []
   },
   "outputs": [],
   "source": [
    "soup"
   ]
  },
  {
   "cell_type": "code",
   "execution_count": null,
   "id": "07171db6-7d8a-404b-95ba-c8a167951d40",
   "metadata": {
    "tags": []
   },
   "outputs": [],
   "source": [
    "data = []\n",
    "\n",
    "for col in data_name:\n",
    "    temp = []\n",
    "    for i in soup.select(col):\n",
    "        temp.append(i.text)\n",
    "        \n",
    "    data.append(temp)\n",
    "\n",
    "    "
   ]
  },
  {
   "cell_type": "code",
   "execution_count": null,
   "id": "3283cd89-2a53-4b03-997f-23b282867c55",
   "metadata": {},
   "outputs": [],
   "source": [
    "df1 = pd.DataFrame(data).T "
   ]
  },
  {
   "cell_type": "code",
   "execution_count": null,
   "id": "e24134b1-9513-42e1-91f6-78d017e66633",
   "metadata": {
    "tags": []
   },
   "outputs": [],
   "source": [
    "df1"
   ]
  },
  {
   "cell_type": "code",
   "execution_count": null,
   "id": "4c64a388-fd07-4a12-9c1e-d1e6efc24cbc",
   "metadata": {},
   "outputs": [],
   "source": [
    "for i in soup.row():\n",
    "    print(i.name)"
   ]
  },
  {
   "cell_type": "code",
   "execution_count": null,
   "id": "96704253-8f07-4920-9ef7-5bb4a65ed866",
   "metadata": {},
   "outputs": [],
   "source": []
  }
 ],
 "metadata": {
  "kernelspec": {
   "display_name": "Python 3 (ipykernel)",
   "language": "python",
   "name": "python3"
  },
  "language_info": {
   "codemirror_mode": {
    "name": "ipython",
    "version": 3
   },
   "file_extension": ".py",
   "mimetype": "text/x-python",
   "name": "python",
   "nbconvert_exporter": "python",
   "pygments_lexer": "ipython3",
   "version": "3.9.12"
  }
 },
 "nbformat": 4,
 "nbformat_minor": 5
}
