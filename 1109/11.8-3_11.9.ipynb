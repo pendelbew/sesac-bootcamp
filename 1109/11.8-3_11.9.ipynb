{
 "cells": [
  {
   "cell_type": "code",
   "execution_count": 1,
   "id": "3db0405b-7675-4fbe-ba68-8ba25ae29009",
   "metadata": {},
   "outputs": [],
   "source": [
    "import pandas as pd\n",
    "import numpy as np\n",
    "import pandas as pd\n",
    "import sklearn.datasets\n",
    "from sklearn.model_selection import train_test_split\n",
    "from sklearn.linear_model import LinearRegression\n",
    "from sklearn.metrics import mean_absolute_error"
   ]
  },
  {
   "cell_type": "code",
   "execution_count": 2,
   "id": "5d59e334-4570-4e36-88aa-18153189eb5b",
   "metadata": {},
   "outputs": [],
   "source": [
    "df=pd.read_csv('insurance.csv')\n",
    "df2=pd.read_csv('insurance.csv')"
   ]
  },
  {
   "cell_type": "code",
   "execution_count": 3,
   "id": "29e1d9b4-d9c8-4607-ae32-d54730a706ad",
   "metadata": {},
   "outputs": [],
   "source": [
    "import seaborn as sns\n",
    "import matplotlib.pyplot as plt"
   ]
  },
  {
   "cell_type": "code",
   "execution_count": 4,
   "id": "43493673-1a34-48ce-a15a-b9a068f868dc",
   "metadata": {},
   "outputs": [
    {
     "data": {
      "text/plain": [
       "<AxesSubplot:>"
      ]
     },
     "execution_count": 4,
     "metadata": {},
     "output_type": "execute_result"
    },
    {
     "data": {
      "image/png": "[encoded data removed]",
      "text/plain": [
       "<Figure size 720x720 with 2 Axes>"
      ]
     },
     "metadata": {
      "needs_background": "light"
     },
     "output_type": "display_data"
    }
   ],
   "source": [
    "corr=df2.corr().round(2)\n",
    "plt.figure(figsize=(10,10))\n",
    "sns.heatmap(corr, annot=True)### 0.8이상은 빼준다"
   ]
  },
  {
   "cell_type": "code",
   "execution_count": 5,
   "id": "49cef7e2-2359-436d-8fc8-e3953d2559e9",
   "metadata": {},
   "outputs": [
    {
     "data": {
      "text/plain": [
       "Index(['age', 'sex', 'bmi', 'children', 'smoker', 'region', 'charges'], dtype='object')"
      ]
     },
     "execution_count": 5,
     "metadata": {},
     "output_type": "execute_result"
    }
   ],
   "source": [
    "df.columns"
   ]
  },
  {
   "cell_type": "code",
   "execution_count": 6,
   "id": "872279e4-8b8c-4cc5-a8e1-bf413c68f3b6",
   "metadata": {},
   "outputs": [
    {
     "data": {
      "text/html": [
       "<div>\n",
       "<style scoped>\n",
       "    .dataframe tbody tr th:only-of-type {\n",
       "        vertical-align: middle;\n",
       "    }\n",
       "\n",
       "    .dataframe tbody tr th {\n",
       "        vertical-align: top;\n",
       "    }\n",
       "\n",
       "    .dataframe thead th {\n",
       "        text-align: right;\n",
       "    }\n",
       "</style>\n",
       "<table border=\"1\" class=\"dataframe\">\n",
       "  <thead>\n",
       "    <tr style=\"text-align: right;\">\n",
       "      <th></th>\n",
       "      <th>age</th>\n",
       "      <th>sex</th>\n",
       "      <th>bmi</th>\n",
       "      <th>children</th>\n",
       "      <th>smoker</th>\n",
       "      <th>region</th>\n",
       "      <th>charges</th>\n",
       "    </tr>\n",
       "  </thead>\n",
       "  <tbody>\n",
       "    <tr>\n",
       "      <th>581</th>\n",
       "      <td>19</td>\n",
       "      <td>male</td>\n",
       "      <td>30.59</td>\n",
       "      <td>0</td>\n",
       "      <td>no</td>\n",
       "      <td>northwest</td>\n",
       "      <td>1639.5631</td>\n",
       "    </tr>\n",
       "  </tbody>\n",
       "</table>\n",
       "</div>"
      ],
      "text/plain": [
       "     age   sex    bmi  children smoker     region    charges\n",
       "581   19  male  30.59         0     no  northwest  1639.5631"
      ]
     },
     "execution_count": 6,
     "metadata": {},
     "output_type": "execute_result"
    }
   ],
   "source": [
    "df[df.duplicated()]### 중복값 찾기"
   ]
  },
  {
   "cell_type": "code",
   "execution_count": 7,
   "id": "a36ee7af-f998-4dbe-8278-689a1041a23f",
   "metadata": {},
   "outputs": [
    {
     "data": {
      "text/html": [
       "<div>\n",
       "<style scoped>\n",
       "    .dataframe tbody tr th:only-of-type {\n",
       "        vertical-align: middle;\n",
       "    }\n",
       "\n",
       "    .dataframe tbody tr th {\n",
       "        vertical-align: top;\n",
       "    }\n",
       "\n",
       "    .dataframe thead th {\n",
       "        text-align: right;\n",
       "    }\n",
       "</style>\n",
       "<table border=\"1\" class=\"dataframe\">\n",
       "  <thead>\n",
       "    <tr style=\"text-align: right;\">\n",
       "      <th></th>\n",
       "      <th>age</th>\n",
       "      <th>sex</th>\n",
       "      <th>bmi</th>\n",
       "      <th>children</th>\n",
       "      <th>smoker</th>\n",
       "      <th>region</th>\n",
       "      <th>charges</th>\n",
       "    </tr>\n",
       "  </thead>\n",
       "  <tbody>\n",
       "    <tr>\n",
       "      <th>195</th>\n",
       "      <td>19</td>\n",
       "      <td>male</td>\n",
       "      <td>30.59</td>\n",
       "      <td>0</td>\n",
       "      <td>no</td>\n",
       "      <td>northwest</td>\n",
       "      <td>1639.5631</td>\n",
       "    </tr>\n",
       "    <tr>\n",
       "      <th>581</th>\n",
       "      <td>19</td>\n",
       "      <td>male</td>\n",
       "      <td>30.59</td>\n",
       "      <td>0</td>\n",
       "      <td>no</td>\n",
       "      <td>northwest</td>\n",
       "      <td>1639.5631</td>\n",
       "    </tr>\n",
       "  </tbody>\n",
       "</table>\n",
       "</div>"
      ],
      "text/plain": [
       "     age   sex    bmi  children smoker     region    charges\n",
       "195   19  male  30.59         0     no  northwest  1639.5631\n",
       "581   19  male  30.59         0     no  northwest  1639.5631"
      ]
     },
     "execution_count": 7,
     "metadata": {},
     "output_type": "execute_result"
    }
   ],
   "source": [
    "df[df.charges==1639.5631]"
   ]
  },
  {
   "cell_type": "code",
   "execution_count": 8,
   "id": "be4b0f1d-d268-44ba-a71e-acbbf5461d70",
   "metadata": {},
   "outputs": [],
   "source": [
    "df=df.drop_duplicates()## 중복값 지우기!"
   ]
  },
  {
   "cell_type": "code",
   "execution_count": 9,
   "id": "4ca2ad94-d4ef-4c52-ad45-f59303571615",
   "metadata": {},
   "outputs": [
    {
     "data": {
      "text/plain": [
       "Index(['age', 'sex', 'bmi', 'children', 'smoker', 'region', 'charges'], dtype='object')"
      ]
     },
     "execution_count": 9,
     "metadata": {},
     "output_type": "execute_result"
    }
   ],
   "source": [
    "df.columns"
   ]
  },
  {
   "cell_type": "code",
   "execution_count": 10,
   "id": "0d758951-b76b-4783-b0f2-0a20815137b2",
   "metadata": {},
   "outputs": [],
   "source": [
    "obt_col=['sex','children','smoker','region']"
   ]
  },
  {
   "cell_type": "code",
   "execution_count": 11,
   "id": "a54e0830-bcc8-4bd1-b0c9-85da53d23668",
   "metadata": {},
   "outputs": [
    {
     "name": "stdout",
     "output_type": "stream",
     "text": [
      "sex ['female' 'male']\n",
      "children [0 1 3 2 5 4]\n",
      "smoker ['yes' 'no']\n",
      "region ['southwest' 'southeast' 'northwest' 'northeast']\n"
     ]
    }
   ],
   "source": [
    "for col in obt_col:\n",
    "    print(col, df[col].unique())### for문으로 고유값 확인"
   ]
  },
  {
   "cell_type": "code",
   "execution_count": 75,
   "id": "5a5955a0-d694-4e84-b123-eb76fbcd7c5f",
   "metadata": {
    "tags": []
   },
   "outputs": [
    {
     "name": "stdout",
     "output_type": "stream",
     "text": [
      "sex 0    612\n",
      "1    586\n",
      "Name: sex, dtype: int64\n",
      "---------\n",
      "children 0    521\n",
      "1    292\n",
      "2    206\n",
      "3    138\n",
      "4     23\n",
      "5     18\n",
      "Name: children, dtype: int64\n",
      "---------\n",
      "smoker 0    1060\n",
      "1     138\n",
      "Name: smoker, dtype: int64\n",
      "---------\n",
      "region 2    307\n",
      "1    304\n",
      "0    296\n",
      "3    291\n",
      "Name: region, dtype: int64\n",
      "---------\n"
     ]
    }
   ],
   "source": [
    "for col in obt_col:\n",
    "    print(col,df[col].value_counts())\n",
    "    print('-'*9)### for문으로 value_counts 확인"
   ]
  },
  {
   "cell_type": "code",
   "execution_count": 13,
   "id": "0539163b-1148-47da-9b07-ffb7f5510ab4",
   "metadata": {
    "tags": []
   },
   "outputs": [
    {
     "data": {
      "text/plain": [
       "smoker\n",
       "no      7345.72660\n",
       "yes    34456.34845\n",
       "Name: charges, dtype: float64"
      ]
     },
     "execution_count": 13,
     "metadata": {},
     "output_type": "execute_result"
    }
   ],
   "source": [
    "df.groupby('smoker')['charges'].median()"
   ]
  },
  {
   "cell_type": "code",
   "execution_count": 14,
   "id": "e1b2282b-676c-4e19-9fe3-5330ac51893d",
   "metadata": {},
   "outputs": [
    {
     "data": {
      "text/plain": [
       "region\n",
       "northeast    10057.652025\n",
       "northwest     8976.977250\n",
       "southeast     9294.131950\n",
       "southwest     8798.593000\n",
       "Name: charges, dtype: float64"
      ]
     },
     "execution_count": 14,
     "metadata": {},
     "output_type": "execute_result"
    }
   ],
   "source": [
    "df.groupby('region')['charges'].median()"
   ]
  },
  {
   "cell_type": "code",
   "execution_count": 72,
   "id": "64138750-97cd-4a90-ae83-ed7547a21c7f",
   "metadata": {},
   "outputs": [],
   "source": [
    "q1=df['charges'].quantile(0.25)### 4분위수"
   ]
  },
  {
   "cell_type": "code",
   "execution_count": 16,
   "id": "74cb9918-2b37-4bdc-b191-5b84b74bf198",
   "metadata": {},
   "outputs": [],
   "source": [
    "q3=df['charges'].quantile(0.75)"
   ]
  },
  {
   "cell_type": "code",
   "execution_count": 17,
   "id": "e0b9e9f4-9e41-4b2b-8e48-46439032233d",
   "metadata": {},
   "outputs": [],
   "source": [
    "outlier=q3+(q3-q1)*1.5 ### 이상치 구하는 공식"
   ]
  },
  {
   "cell_type": "code",
   "execution_count": 18,
   "id": "21b71e62-7882-49a3-a037-c2ed8ba4f2c9",
   "metadata": {},
   "outputs": [
    {
     "data": {
      "text/plain": [
       "34524.777625"
      ]
     },
     "execution_count": 18,
     "metadata": {},
     "output_type": "execute_result"
    }
   ],
   "source": [
    "outlier### 이상치 기준"
   ]
  },
  {
   "cell_type": "code",
   "execution_count": 19,
   "id": "2229b71e-f959-449b-97fc-065bec11fba1",
   "metadata": {},
   "outputs": [
    {
     "data": {
      "text/html": [
       "<div>\n",
       "<style scoped>\n",
       "    .dataframe tbody tr th:only-of-type {\n",
       "        vertical-align: middle;\n",
       "    }\n",
       "\n",
       "    .dataframe tbody tr th {\n",
       "        vertical-align: top;\n",
       "    }\n",
       "\n",
       "    .dataframe thead th {\n",
       "        text-align: right;\n",
       "    }\n",
       "</style>\n",
       "<table border=\"1\" class=\"dataframe\">\n",
       "  <thead>\n",
       "    <tr style=\"text-align: right;\">\n",
       "      <th></th>\n",
       "      <th>age</th>\n",
       "      <th>sex</th>\n",
       "      <th>bmi</th>\n",
       "      <th>children</th>\n",
       "      <th>smoker</th>\n",
       "      <th>region</th>\n",
       "      <th>charges</th>\n",
       "    </tr>\n",
       "  </thead>\n",
       "  <tbody>\n",
       "    <tr>\n",
       "      <th>14</th>\n",
       "      <td>27</td>\n",
       "      <td>male</td>\n",
       "      <td>42.130</td>\n",
       "      <td>0</td>\n",
       "      <td>yes</td>\n",
       "      <td>southeast</td>\n",
       "      <td>39611.75770</td>\n",
       "    </tr>\n",
       "    <tr>\n",
       "      <th>19</th>\n",
       "      <td>30</td>\n",
       "      <td>male</td>\n",
       "      <td>35.300</td>\n",
       "      <td>0</td>\n",
       "      <td>yes</td>\n",
       "      <td>southwest</td>\n",
       "      <td>36837.46700</td>\n",
       "    </tr>\n",
       "    <tr>\n",
       "      <th>23</th>\n",
       "      <td>34</td>\n",
       "      <td>female</td>\n",
       "      <td>31.920</td>\n",
       "      <td>1</td>\n",
       "      <td>yes</td>\n",
       "      <td>northeast</td>\n",
       "      <td>37701.87680</td>\n",
       "    </tr>\n",
       "    <tr>\n",
       "      <th>29</th>\n",
       "      <td>31</td>\n",
       "      <td>male</td>\n",
       "      <td>36.300</td>\n",
       "      <td>2</td>\n",
       "      <td>yes</td>\n",
       "      <td>southwest</td>\n",
       "      <td>38711.00000</td>\n",
       "    </tr>\n",
       "    <tr>\n",
       "      <th>30</th>\n",
       "      <td>22</td>\n",
       "      <td>male</td>\n",
       "      <td>35.600</td>\n",
       "      <td>0</td>\n",
       "      <td>yes</td>\n",
       "      <td>southwest</td>\n",
       "      <td>35585.57600</td>\n",
       "    </tr>\n",
       "    <tr>\n",
       "      <th>...</th>\n",
       "      <td>...</td>\n",
       "      <td>...</td>\n",
       "      <td>...</td>\n",
       "      <td>...</td>\n",
       "      <td>...</td>\n",
       "      <td>...</td>\n",
       "      <td>...</td>\n",
       "    </tr>\n",
       "    <tr>\n",
       "      <th>1300</th>\n",
       "      <td>45</td>\n",
       "      <td>male</td>\n",
       "      <td>30.360</td>\n",
       "      <td>0</td>\n",
       "      <td>yes</td>\n",
       "      <td>southeast</td>\n",
       "      <td>62592.87309</td>\n",
       "    </tr>\n",
       "    <tr>\n",
       "      <th>1301</th>\n",
       "      <td>62</td>\n",
       "      <td>male</td>\n",
       "      <td>30.875</td>\n",
       "      <td>3</td>\n",
       "      <td>yes</td>\n",
       "      <td>northwest</td>\n",
       "      <td>46718.16325</td>\n",
       "    </tr>\n",
       "    <tr>\n",
       "      <th>1303</th>\n",
       "      <td>43</td>\n",
       "      <td>male</td>\n",
       "      <td>27.800</td>\n",
       "      <td>0</td>\n",
       "      <td>yes</td>\n",
       "      <td>southwest</td>\n",
       "      <td>37829.72420</td>\n",
       "    </tr>\n",
       "    <tr>\n",
       "      <th>1313</th>\n",
       "      <td>19</td>\n",
       "      <td>female</td>\n",
       "      <td>34.700</td>\n",
       "      <td>2</td>\n",
       "      <td>yes</td>\n",
       "      <td>southwest</td>\n",
       "      <td>36397.57600</td>\n",
       "    </tr>\n",
       "    <tr>\n",
       "      <th>1323</th>\n",
       "      <td>42</td>\n",
       "      <td>female</td>\n",
       "      <td>40.370</td>\n",
       "      <td>2</td>\n",
       "      <td>yes</td>\n",
       "      <td>southeast</td>\n",
       "      <td>43896.37630</td>\n",
       "    </tr>\n",
       "  </tbody>\n",
       "</table>\n",
       "<p>139 rows × 7 columns</p>\n",
       "</div>"
      ],
      "text/plain": [
       "      age     sex     bmi  children smoker     region      charges\n",
       "14     27    male  42.130         0    yes  southeast  39611.75770\n",
       "19     30    male  35.300         0    yes  southwest  36837.46700\n",
       "23     34  female  31.920         1    yes  northeast  37701.87680\n",
       "29     31    male  36.300         2    yes  southwest  38711.00000\n",
       "30     22    male  35.600         0    yes  southwest  35585.57600\n",
       "...   ...     ...     ...       ...    ...        ...          ...\n",
       "1300   45    male  30.360         0    yes  southeast  62592.87309\n",
       "1301   62    male  30.875         3    yes  northwest  46718.16325\n",
       "1303   43    male  27.800         0    yes  southwest  37829.72420\n",
       "1313   19  female  34.700         2    yes  southwest  36397.57600\n",
       "1323   42  female  40.370         2    yes  southeast  43896.37630\n",
       "\n",
       "[139 rows x 7 columns]"
      ]
     },
     "execution_count": 19,
     "metadata": {},
     "output_type": "execute_result"
    }
   ],
   "source": [
    "df[df['charges']>outlier]  #### 이상치 확인하기"
   ]
  },
  {
   "cell_type": "code",
   "execution_count": 73,
   "id": "9df3dfba-4b24-4845-94fe-f4959e4b887b",
   "metadata": {},
   "outputs": [],
   "source": [
    "df=df[df['charges']<=outlier]### 드랍 안 쓰고 이상치 빼기 이런 것을 생각해보기"
   ]
  },
  {
   "cell_type": "code",
   "execution_count": 74,
   "id": "759a78fc-3cd9-47ad-817a-a9169feb94b4",
   "metadata": {},
   "outputs": [
    {
     "data": {
      "text/plain": [
       "9934.671757970784"
      ]
     },
     "execution_count": 74,
     "metadata": {},
     "output_type": "execute_result"
    }
   ],
   "source": [
    "df['charges'].mean()"
   ]
  },
  {
   "cell_type": "code",
   "execution_count": 22,
   "id": "a0b00cf2-a788-48bc-be7e-98b7c620e131",
   "metadata": {},
   "outputs": [
    {
     "data": {
      "text/plain": [
       "8411.75495"
      ]
     },
     "execution_count": 22,
     "metadata": {},
     "output_type": "execute_result"
    }
   ],
   "source": [
    "df['charges'].median()"
   ]
  },
  {
   "cell_type": "code",
   "execution_count": 23,
   "id": "92b82283-b872-4985-826f-df04d869fd4f",
   "metadata": {},
   "outputs": [],
   "source": [
    "from sklearn.preprocessing import LabelEncoder"
   ]
  },
  {
   "cell_type": "code",
   "execution_count": 24,
   "id": "ddb17a5e-3ebf-4716-9f1c-5c04ca1fd787",
   "metadata": {},
   "outputs": [],
   "source": [
    "col__list=['sex', 'smoker', 'region']\n",
    "for col in col__list:\n",
    "    label=LabelEncoder()\n",
    "    label.fit(df[col].unique())\n",
    "    df[col]=label.transform(df[col])"
   ]
  },
  {
   "cell_type": "code",
   "execution_count": 25,
   "id": "06660ac0-1067-47f6-8cfc-dbcb6e87d023",
   "metadata": {},
   "outputs": [
    {
     "data": {
      "text/html": [
       "<div>\n",
       "<style scoped>\n",
       "    .dataframe tbody tr th:only-of-type {\n",
       "        vertical-align: middle;\n",
       "    }\n",
       "\n",
       "    .dataframe tbody tr th {\n",
       "        vertical-align: top;\n",
       "    }\n",
       "\n",
       "    .dataframe thead th {\n",
       "        text-align: right;\n",
       "    }\n",
       "</style>\n",
       "<table border=\"1\" class=\"dataframe\">\n",
       "  <thead>\n",
       "    <tr style=\"text-align: right;\">\n",
       "      <th></th>\n",
       "      <th>age</th>\n",
       "      <th>sex</th>\n",
       "      <th>bmi</th>\n",
       "      <th>children</th>\n",
       "      <th>smoker</th>\n",
       "      <th>region</th>\n",
       "      <th>charges</th>\n",
       "    </tr>\n",
       "  </thead>\n",
       "  <tbody>\n",
       "    <tr>\n",
       "      <th>0</th>\n",
       "      <td>19</td>\n",
       "      <td>0</td>\n",
       "      <td>27.900</td>\n",
       "      <td>0</td>\n",
       "      <td>1</td>\n",
       "      <td>3</td>\n",
       "      <td>16884.92400</td>\n",
       "    </tr>\n",
       "    <tr>\n",
       "      <th>1</th>\n",
       "      <td>18</td>\n",
       "      <td>1</td>\n",
       "      <td>33.770</td>\n",
       "      <td>1</td>\n",
       "      <td>0</td>\n",
       "      <td>2</td>\n",
       "      <td>1725.55230</td>\n",
       "    </tr>\n",
       "    <tr>\n",
       "      <th>2</th>\n",
       "      <td>28</td>\n",
       "      <td>1</td>\n",
       "      <td>33.000</td>\n",
       "      <td>3</td>\n",
       "      <td>0</td>\n",
       "      <td>2</td>\n",
       "      <td>4449.46200</td>\n",
       "    </tr>\n",
       "    <tr>\n",
       "      <th>3</th>\n",
       "      <td>33</td>\n",
       "      <td>1</td>\n",
       "      <td>22.705</td>\n",
       "      <td>0</td>\n",
       "      <td>0</td>\n",
       "      <td>1</td>\n",
       "      <td>21984.47061</td>\n",
       "    </tr>\n",
       "    <tr>\n",
       "      <th>4</th>\n",
       "      <td>32</td>\n",
       "      <td>1</td>\n",
       "      <td>28.880</td>\n",
       "      <td>0</td>\n",
       "      <td>0</td>\n",
       "      <td>1</td>\n",
       "      <td>3866.85520</td>\n",
       "    </tr>\n",
       "    <tr>\n",
       "      <th>...</th>\n",
       "      <td>...</td>\n",
       "      <td>...</td>\n",
       "      <td>...</td>\n",
       "      <td>...</td>\n",
       "      <td>...</td>\n",
       "      <td>...</td>\n",
       "      <td>...</td>\n",
       "    </tr>\n",
       "    <tr>\n",
       "      <th>1333</th>\n",
       "      <td>50</td>\n",
       "      <td>1</td>\n",
       "      <td>30.970</td>\n",
       "      <td>3</td>\n",
       "      <td>0</td>\n",
       "      <td>1</td>\n",
       "      <td>10600.54830</td>\n",
       "    </tr>\n",
       "    <tr>\n",
       "      <th>1334</th>\n",
       "      <td>18</td>\n",
       "      <td>0</td>\n",
       "      <td>31.920</td>\n",
       "      <td>0</td>\n",
       "      <td>0</td>\n",
       "      <td>0</td>\n",
       "      <td>2205.98080</td>\n",
       "    </tr>\n",
       "    <tr>\n",
       "      <th>1335</th>\n",
       "      <td>18</td>\n",
       "      <td>0</td>\n",
       "      <td>36.850</td>\n",
       "      <td>0</td>\n",
       "      <td>0</td>\n",
       "      <td>2</td>\n",
       "      <td>1629.83350</td>\n",
       "    </tr>\n",
       "    <tr>\n",
       "      <th>1336</th>\n",
       "      <td>21</td>\n",
       "      <td>0</td>\n",
       "      <td>25.800</td>\n",
       "      <td>0</td>\n",
       "      <td>0</td>\n",
       "      <td>3</td>\n",
       "      <td>2007.94500</td>\n",
       "    </tr>\n",
       "    <tr>\n",
       "      <th>1337</th>\n",
       "      <td>61</td>\n",
       "      <td>0</td>\n",
       "      <td>29.070</td>\n",
       "      <td>0</td>\n",
       "      <td>1</td>\n",
       "      <td>1</td>\n",
       "      <td>29141.36030</td>\n",
       "    </tr>\n",
       "  </tbody>\n",
       "</table>\n",
       "<p>1198 rows × 7 columns</p>\n",
       "</div>"
      ],
      "text/plain": [
       "      age  sex     bmi  children  smoker  region      charges\n",
       "0      19    0  27.900         0       1       3  16884.92400\n",
       "1      18    1  33.770         1       0       2   1725.55230\n",
       "2      28    1  33.000         3       0       2   4449.46200\n",
       "3      33    1  22.705         0       0       1  21984.47061\n",
       "4      32    1  28.880         0       0       1   3866.85520\n",
       "...   ...  ...     ...       ...     ...     ...          ...\n",
       "1333   50    1  30.970         3       0       1  10600.54830\n",
       "1334   18    0  31.920         0       0       0   2205.98080\n",
       "1335   18    0  36.850         0       0       2   1629.83350\n",
       "1336   21    0  25.800         0       0       3   2007.94500\n",
       "1337   61    0  29.070         0       1       1  29141.36030\n",
       "\n",
       "[1198 rows x 7 columns]"
      ]
     },
     "execution_count": 25,
     "metadata": {},
     "output_type": "execute_result"
    }
   ],
   "source": [
    "df"
   ]
  },
  {
   "cell_type": "code",
   "execution_count": 26,
   "id": "4f0cd1f4-afae-4736-8dd2-170055517dcb",
   "metadata": {},
   "outputs": [
    {
     "data": {
      "text/plain": [
       "array([19, 18, 28, 33, 32, 31, 46, 37, 60, 25, 62, 23, 56, 52, 30, 59, 63,\n",
       "       55, 26, 24, 41, 38, 21, 48, 40, 58, 53, 34, 43, 64, 20, 61, 27, 44,\n",
       "       57, 29, 22, 45, 35, 54, 49, 47, 51, 42, 50, 36, 39], dtype=int64)"
      ]
     },
     "execution_count": 26,
     "metadata": {},
     "output_type": "execute_result"
    }
   ],
   "source": [
    "df['age'].unique()"
   ]
  },
  {
   "cell_type": "code",
   "execution_count": 27,
   "id": "dd4cd7e6-9866-4f92-b8d5-d967f543d4de",
   "metadata": {},
   "outputs": [
    {
     "data": {
      "text/plain": [
       "array([16884.924 ,  1725.5523,  4449.462 , ...,  1629.8335,  2007.945 ,\n",
       "       29141.3603])"
      ]
     },
     "execution_count": 27,
     "metadata": {},
     "output_type": "execute_result"
    }
   ],
   "source": [
    "df['charges'].unique()"
   ]
  },
  {
   "cell_type": "code",
   "execution_count": 28,
   "id": "2473f7f6-1904-4c8a-bc72-71305b77ae31",
   "metadata": {},
   "outputs": [],
   "source": [
    "df2['sex']=np.where(df2['sex']=='male',0,1)"
   ]
  },
  {
   "cell_type": "code",
   "execution_count": 29,
   "id": "d92149a8-c602-4c07-9729-4c8c274007f0",
   "metadata": {
    "tags": []
   },
   "outputs": [
    {
     "data": {
      "text/plain": [
       "region\n",
       "northeast    10057.652025\n",
       "northwest     8965.795750\n",
       "southeast     9294.131950\n",
       "southwest     8798.593000\n",
       "Name: charges, dtype: float64"
      ]
     },
     "execution_count": 29,
     "metadata": {},
     "output_type": "execute_result"
    }
   ],
   "source": [
    "df2.groupby('region')[\"charges\"].median()"
   ]
  },
  {
   "cell_type": "code",
   "execution_count": 30,
   "id": "54d89a38-8fcc-4ad5-8c66-6c65fde6845a",
   "metadata": {},
   "outputs": [],
   "source": [
    "df2['smoker']=np.where(df2['smoker']=='yes',0,1)"
   ]
  },
  {
   "cell_type": "code",
   "execution_count": 31,
   "id": "4dabb315-82df-40db-96f3-f59ecaa5c53c",
   "metadata": {},
   "outputs": [],
   "source": [
    "df2['region']=np.where(df2['region']=='northeast',0,\n",
    "np.where(df2['region']=='northwest',1,\n",
    "np.where(df2['region']=='southeast',2,3)))\n",
    "                       "
   ]
  },
  {
   "cell_type": "code",
   "execution_count": 32,
   "id": "99b74b4b-275c-4572-a76d-55a834db3940",
   "metadata": {},
   "outputs": [
    {
     "data": {
      "text/plain": [
       "smoker\n",
       "0    32050.231832\n",
       "1     8434.268298\n",
       "Name: charges, dtype: float64"
      ]
     },
     "execution_count": 32,
     "metadata": {},
     "output_type": "execute_result"
    }
   ],
   "source": [
    "df2.groupby('smoker')['charges'].mean()"
   ]
  },
  {
   "cell_type": "code",
   "execution_count": 33,
   "id": "ec24a97b-1056-40a0-8cc7-848a61e74bb3",
   "metadata": {
    "collapsed": true,
    "jupyter": {
     "outputs_hidden": true
    },
    "tags": []
   },
   "outputs": [
    {
     "data": {
      "text/plain": [
       "age\n",
       "18     7086.217556\n",
       "19     9747.909335\n",
       "20    10159.697736\n",
       "21     4730.464330\n",
       "22    10012.932802\n",
       "23    12419.820040\n",
       "24    10648.015962\n",
       "25     9838.365311\n",
       "26     6133.825309\n",
       "27    12184.701721\n",
       "28     9069.187564\n",
       "29    10430.158727\n",
       "30    12719.110358\n",
       "31    10196.980573\n",
       "32     9220.300291\n",
       "33    12351.532987\n",
       "34    11613.528121\n",
       "35    11307.182031\n",
       "36    12204.476138\n",
       "37    18019.911877\n",
       "38     8102.733674\n",
       "39    11778.242945\n",
       "40    11772.251310\n",
       "41     9653.745650\n",
       "42    13061.038669\n",
       "43    19267.278653\n",
       "44    15859.396587\n",
       "45    14830.199856\n",
       "46    14342.590639\n",
       "47    17653.999593\n",
       "48    14632.500445\n",
       "49    12696.006264\n",
       "50    15663.003301\n",
       "51    15682.255867\n",
       "52    18256.269719\n",
       "53    16020.930755\n",
       "54    18758.546475\n",
       "55    16164.545488\n",
       "56    15025.515837\n",
       "57    16447.185250\n",
       "58    13878.928112\n",
       "59    18895.869532\n",
       "60    21979.418507\n",
       "61    22024.457609\n",
       "62    19163.856573\n",
       "63    19884.998461\n",
       "64    23275.530837\n",
       "Name: charges, dtype: float64"
      ]
     },
     "execution_count": 33,
     "metadata": {},
     "output_type": "execute_result"
    }
   ],
   "source": [
    "df2.groupby('age')['charges'].mean()### 상관관계ㅇ"
   ]
  },
  {
   "cell_type": "code",
   "execution_count": 34,
   "id": "a9429f74-0849-4d5f-8943-b1dd804a799b",
   "metadata": {
    "collapsed": true,
    "jupyter": {
     "outputs_hidden": true
    },
    "tags": []
   },
   "outputs": [
    {
     "data": {
      "text/plain": [
       "age\n",
       "18    31.3500\n",
       "19    28.5000\n",
       "20    30.6850\n",
       "21    26.8800\n",
       "22    30.7100\n",
       "23    32.1450\n",
       "24    28.9000\n",
       "25    28.0725\n",
       "26    29.5600\n",
       "27    30.4500\n",
       "28    29.0700\n",
       "29    29.5900\n",
       "30    28.6900\n",
       "31    29.2600\n",
       "32    30.4150\n",
       "33    31.5750\n",
       "34    29.7350\n",
       "35    31.0000\n",
       "36    29.0400\n",
       "37    30.7800\n",
       "38    28.2700\n",
       "39    29.6000\n",
       "40    29.6000\n",
       "41    32.2000\n",
       "42    29.0000\n",
       "43    30.1000\n",
       "44    30.2000\n",
       "45    30.2000\n",
       "46    30.4950\n",
       "47    29.5450\n",
       "48    31.4450\n",
       "49    30.1125\n",
       "50    30.1150\n",
       "51    33.9150\n",
       "52    32.7750\n",
       "53    29.9875\n",
       "54    31.0200\n",
       "55    32.5325\n",
       "56    32.2050\n",
       "57    30.1525\n",
       "58    32.9650\n",
       "59    29.7000\n",
       "60    29.6400\n",
       "61    33.3300\n",
       "62    32.0150\n",
       "63    32.2000\n",
       "64    33.8400\n",
       "Name: bmi, dtype: float64"
      ]
     },
     "execution_count": 34,
     "metadata": {},
     "output_type": "execute_result"
    }
   ],
   "source": [
    "df2.groupby('age')['bmi'].median()### 상관관계ㅇ"
   ]
  },
  {
   "cell_type": "code",
   "execution_count": 51,
   "id": "f1989cc1-b1f1-4c3c-9188-3c207c1eaba6",
   "metadata": {},
   "outputs": [],
   "source": [
    "from sklearn.preprocessing import PolynomialFeatures"
   ]
  },
  {
   "cell_type": "code",
   "execution_count": 53,
   "id": "f82d76b6-e730-443c-b78f-74844be5f6d3",
   "metadata": {},
   "outputs": [
    {
     "data": {
      "text/plain": [
       "array([[ 1., 19.,  1., ...,  0.,  0.,  9.],\n",
       "       [ 1., 18.,  0., ...,  1.,  2.,  4.],\n",
       "       [ 1., 28.,  0., ...,  1.,  2.,  4.],\n",
       "       ...,\n",
       "       [ 1., 18.,  1., ...,  1.,  2.,  4.],\n",
       "       [ 1., 21.,  1., ...,  1.,  3.,  9.],\n",
       "       [ 1., 61.,  1., ...,  0.,  0.,  1.]])"
      ]
     },
     "execution_count": 53,
     "metadata": {},
     "output_type": "execute_result"
    }
   ],
   "source": [
    "pol= PolynomialFeatures(degree=2)\n",
    "x_pol= pol.fit_transform(x)\n",
    "x_pol"
   ]
  },
  {
   "cell_type": "code",
   "execution_count": null,
   "id": "3a253580-e0e6-4902-8bd4-14863406076a",
   "metadata": {},
   "outputs": [],
   "source": [
    "pre"
   ]
  },
  {
   "cell_type": "code",
   "execution_count": 35,
   "id": "c9f38ca2-e9dc-43fc-a7a0-e128fdb2e814",
   "metadata": {},
   "outputs": [],
   "source": [
    "from sklearn.ensemble import GradientBoostingRegressor"
   ]
  },
  {
   "cell_type": "code",
   "execution_count": 36,
   "id": "86862566-cf23-4a7e-9723-556ac5e3ec41",
   "metadata": {},
   "outputs": [],
   "source": [
    "x=df2.drop('charges',axis=1)\n",
    "y=df2['charges']"
   ]
  },
  {
   "cell_type": "code",
   "execution_count": 57,
   "id": "3bfd570b-3997-41da-972b-c96637dfb797",
   "metadata": {},
   "outputs": [],
   "source": [
    "x_train, x_test, y_train, y_test=train_test_split(x,y,test_size=0.2, random_state=0)"
   ]
  },
  {
   "cell_type": "code",
   "execution_count": 58,
   "id": "11fe643b-9521-4c0b-8ac5-8a1a1792f3b6",
   "metadata": {},
   "outputs": [
    {
     "data": {
      "text/plain": [
       "GradientBoostingRegressor()"
      ]
     },
     "execution_count": 58,
     "metadata": {},
     "output_type": "execute_result"
    }
   ],
   "source": [
    "model2=GradientBoostingRegressor() \n",
    "model2.fit(x_train,y_train)"
   ]
  },
  {
   "cell_type": "code",
   "execution_count": 59,
   "id": "ef904ef1-bef6-413e-ab69-e60a4ab029d4",
   "metadata": {},
   "outputs": [],
   "source": [
    "pre_train=model2.predict(x_train)"
   ]
  },
  {
   "cell_type": "code",
   "execution_count": 60,
   "id": "732e2e75-7cbe-4db7-96fb-d8c9e0099037",
   "metadata": {},
   "outputs": [
    {
     "data": {
      "text/plain": [
       "2092.749989173236"
      ]
     },
     "execution_count": 60,
     "metadata": {},
     "output_type": "execute_result"
    }
   ],
   "source": [
    "mean_absolute_error(pre_train,y_train)"
   ]
  },
  {
   "cell_type": "code",
   "execution_count": 61,
   "id": "40007ae3-4b06-44ef-af8a-a3fb2fce75fa",
   "metadata": {},
   "outputs": [],
   "source": [
    "pre_test=model2.predict(x_test)"
   ]
  },
  {
   "cell_type": "code",
   "execution_count": 62,
   "id": "56566a5c-0030-4583-9260-1dc22eb2e413",
   "metadata": {},
   "outputs": [
    {
     "data": {
      "text/plain": [
       "2441.5205817845094"
      ]
     },
     "execution_count": 62,
     "metadata": {},
     "output_type": "execute_result"
    }
   ],
   "source": [
    "mean_absolute_error(pre_test,y_test)"
   ]
  },
  {
   "cell_type": "code",
   "execution_count": 63,
   "id": "f215e088-3c68-4ebb-a705-c43d5b7b35e7",
   "metadata": {},
   "outputs": [],
   "source": [
    "model= LinearRegression()"
   ]
  },
  {
   "cell_type": "code",
   "execution_count": 64,
   "id": "1c9ba5f6-e385-40d5-bfb3-9624faf96857",
   "metadata": {},
   "outputs": [
    {
     "data": {
      "text/plain": [
       "LinearRegression()"
      ]
     },
     "execution_count": 64,
     "metadata": {},
     "output_type": "execute_result"
    }
   ],
   "source": [
    "model.fit(x_train,y_train)"
   ]
  },
  {
   "cell_type": "code",
   "execution_count": 65,
   "id": "ce0116c1-0932-402c-bc18-8ac0e0687221",
   "metadata": {},
   "outputs": [],
   "source": [
    "pre_train=model.predict(x_train)"
   ]
  },
  {
   "cell_type": "code",
   "execution_count": 66,
   "id": "abaef37b-a859-40b0-8f54-8abdcfb531e9",
   "metadata": {},
   "outputs": [
    {
     "data": {
      "text/plain": [
       "4235.3838760320905"
      ]
     },
     "execution_count": 66,
     "metadata": {},
     "output_type": "execute_result"
    }
   ],
   "source": [
    "mean_absolute_error(pre_train,y_train)"
   ]
  },
  {
   "cell_type": "code",
   "execution_count": 67,
   "id": "a320f0fa-d75d-48bb-948b-7d4625d396a6",
   "metadata": {},
   "outputs": [],
   "source": [
    "pre_test=model.predict(x_test)"
   ]
  },
  {
   "cell_type": "code",
   "execution_count": 68,
   "id": "29d6cb53-6de0-4aa1-8605-0170ff4ee3f0",
   "metadata": {},
   "outputs": [
    {
     "data": {
      "text/plain": [
       "3930.333273901141"
      ]
     },
     "execution_count": 68,
     "metadata": {},
     "output_type": "execute_result"
    }
   ],
   "source": [
    "mean_absolute_error(pre_test,y_test)"
   ]
  },
  {
   "cell_type": "code",
   "execution_count": 70,
   "id": "a7d13cc3-027c-41d9-9b25-198c0b9e6f1e",
   "metadata": {},
   "outputs": [
    {
     "data": {
      "text/plain": [
       "0.898072547304975"
      ]
     },
     "execution_count": 70,
     "metadata": {},
     "output_type": "execute_result"
    }
   ],
   "source": [
    "model2.score(x_test,y_test)"
   ]
  },
  {
   "cell_type": "code",
   "execution_count": 71,
   "id": "d0a604de-d889-426e-b708-5dcf8935b9b4",
   "metadata": {},
   "outputs": [
    {
     "data": {
      "text/plain": [
       "0.897352642499688"
      ]
     },
     "execution_count": 71,
     "metadata": {},
     "output_type": "execute_result"
    }
   ],
   "source": [
    "model2.score(x_train,y_train)"
   ]
  },
  {
   "cell_type": "code",
   "execution_count": null,
   "id": "807517dd-f6f6-4ecd-b119-2ac8980ab259",
   "metadata": {},
   "outputs": [],
   "source": []
  }
 ],
 "metadata": {
  "kernelspec": {
   "display_name": "Python 3 (ipykernel)",
   "language": "python",
   "name": "python3"
  },
  "language_info": {
   "codemirror_mode": {
    "name": "ipython",
    "version": 3
   },
   "file_extension": ".py",
   "mimetype": "text/x-python",
   "name": "python",
   "nbconvert_exporter": "python",
   "pygments_lexer": "ipython3",
   "version": "3.9.12"
  }
 },
 "nbformat": 4,
 "nbformat_minor": 5
}
