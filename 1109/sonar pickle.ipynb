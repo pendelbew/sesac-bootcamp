{
 "cells": [
  {
   "cell_type": "code",
   "execution_count": 8,
   "id": "70dcd0f2-45b4-45d4-aaf5-9452edb9522a",
   "metadata": {},
   "outputs": [],
   "source": [
    "import pandas as pd\n",
    "import pickle"
   ]
  },
  {
   "cell_type": "code",
   "execution_count": 12,
   "id": "ddab8955-06cf-4e21-8afd-98f60e5d3eff",
   "metadata": {},
   "outputs": [],
   "source": [
    "real_data=pd.read_csv('sonar.csv')"
   ]
  },
  {
   "cell_type": "code",
   "execution_count": 13,
   "id": "2e3c702b-6a87-4119-844b-bc62efbcea85",
   "metadata": {},
   "outputs": [],
   "source": [
    "real_data.drop('Class', axis=1, inplace=True)"
   ]
  },
  {
   "cell_type": "code",
   "execution_count": 14,
   "id": "3aeab2e1-b238-486b-962b-997f848fec00",
   "metadata": {},
   "outputs": [],
   "source": [
    "real=real_data.iloc[100].values.reshape(1,-1)"
   ]
  },
  {
   "cell_type": "code",
   "execution_count": 15,
   "id": "fc700a16-ea6b-474d-a744-e8f3f1be4e45",
   "metadata": {},
   "outputs": [
    {
     "data": {
      "text/plain": [
       "array([[0.0629, 0.1065, 0.1526, 0.1229, 0.1437, 0.119 , 0.0884, 0.0907,\n",
       "        0.2107, 0.3597, 0.5466, 0.5205, 0.5127, 0.5395, 0.6558, 0.8705,\n",
       "        0.9786, 0.9335, 0.7917, 0.7383, 0.6908, 0.385 , 0.0671, 0.0502,\n",
       "        0.2717, 0.2839, 0.2234, 0.1911, 0.0408, 0.2531, 0.1979, 0.1891,\n",
       "        0.2433, 0.1956, 0.2667, 0.134 , 0.1073, 0.2023, 0.1794, 0.0227,\n",
       "        0.1313, 0.1775, 0.1549, 0.1626, 0.0708, 0.0129, 0.0795, 0.0762,\n",
       "        0.0117, 0.0061, 0.0257, 0.0089, 0.0262, 0.0108, 0.0138, 0.0187,\n",
       "        0.023 , 0.0057, 0.0113, 0.0131]])"
      ]
     },
     "execution_count": 15,
     "metadata": {},
     "output_type": "execute_result"
    }
   ],
   "source": [
    "real"
   ]
  },
  {
   "cell_type": "code",
   "execution_count": 11,
   "id": "ca571c8d-95d9-42e3-9597-ce3ec306b1e3",
   "metadata": {},
   "outputs": [],
   "source": [
    "with open('scaler.pkl','rb')as f:#### 저장한거 불러오기\n",
    "    scaler=pickle.load(f)"
   ]
  },
  {
   "cell_type": "code",
   "execution_count": 10,
   "id": "2885655a-97e6-49ff-9ff3-176f223a86b7",
   "metadata": {},
   "outputs": [
    {
     "data": {
      "text/plain": [
       "StandardScaler()"
      ]
     },
     "execution_count": 10,
     "metadata": {},
     "output_type": "execute_result"
    }
   ],
   "source": [
    "scaler"
   ]
  },
  {
   "cell_type": "code",
   "execution_count": 17,
   "id": "ec7b8ffc-8661-4341-859e-38dc6dab9310",
   "metadata": {},
   "outputs": [],
   "source": [
    "with open('model.pkl','rb')as f:\n",
    "    model_l=pickle.load(f)"
   ]
  },
  {
   "cell_type": "code",
   "execution_count": 18,
   "id": "d4b36486-12c0-4c4c-bde7-841a858cf661",
   "metadata": {},
   "outputs": [
    {
     "data": {
      "text/plain": [
       "LogisticRegression()"
      ]
     },
     "execution_count": 18,
     "metadata": {},
     "output_type": "execute_result"
    }
   ],
   "source": [
    "model_l"
   ]
  },
  {
   "cell_type": "code",
   "execution_count": 20,
   "id": "90ed0116-59ad-408f-9b6e-d11a5c364751",
   "metadata": {},
   "outputs": [],
   "source": [
    "scaler_real=scaler.transform(real)"
   ]
  },
  {
   "cell_type": "code",
   "execution_count": 22,
   "id": "35854b2e-69f9-4094-8876-c5049dc341ef",
   "metadata": {},
   "outputs": [],
   "source": [
    "prdict=model_l.predict(scaler_real)[0]"
   ]
  },
  {
   "cell_type": "code",
   "execution_count": 24,
   "id": "88c4fc82-eb41-4037-9943-f94334f87224",
   "metadata": {},
   "outputs": [
    {
     "name": "stdout",
     "output_type": "stream",
     "text": [
      "지뢰다!!!! 돔황챠\n"
     ]
    }
   ],
   "source": [
    "if prdict== 'Mine':\n",
    "    print('지뢰다!!!! 돔황챠')\n",
    "else:\n",
    "    print('ㅎㅎ 돌이다 어림도 없지!')"
   ]
  },
  {
   "cell_type": "code",
   "execution_count": null,
   "id": "5ba5a378-a733-4349-a4ff-4165c73b80f2",
   "metadata": {},
   "outputs": [],
   "source": []
  },
  {
   "cell_type": "code",
   "execution_count": null,
   "id": "8534c98a-db7b-4705-8f53-b5de876a59e0",
   "metadata": {},
   "outputs": [],
   "source": []
  }
 ],
 "metadata": {
  "kernelspec": {
   "display_name": "Python 3 (ipykernel)",
   "language": "python",
   "name": "python3"
  },
  "language_info": {
   "codemirror_mode": {
    "name": "ipython",
    "version": 3
   },
   "file_extension": ".py",
   "mimetype": "text/x-python",
   "name": "python",
   "nbconvert_exporter": "python",
   "pygments_lexer": "ipython3",
   "version": "3.9.12"
  }
 },
 "nbformat": 4,
 "nbformat_minor": 5
}
