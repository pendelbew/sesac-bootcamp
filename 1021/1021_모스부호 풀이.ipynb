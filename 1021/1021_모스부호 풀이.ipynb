{
 "cells": [
  {
   "cell_type": "code",
   "execution_count": 2,
   "id": "33fca676-127f-49c8-a042-6f33340f5f71",
   "metadata": {},
   "outputs": [],
   "source": [
    "a1 = '''A\t.-\tN\t-.\n",
    "B\t-...\tO\t---\n",
    "C\t-.-.\tP\t.--.\n",
    "D\t-..\tQ\t--.-\n",
    "E\t.\tR\t.-.\n",
    "F\t..-.\tS\t...\n",
    "G\t--.\tT\t-\n",
    "H\t....\tU\t..-\n",
    "I\t..\tV\t...-\n",
    "J\t.---\tW\t.--\n",
    "K\t-.-\tX\t-..-\n",
    "L\t.-..\tY\t-.--\n",
    "M\t--\tZ\t--..'''"
   ]
  },
  {
   "cell_type": "code",
   "execution_count": 3,
   "id": "aeef6f2e-d02a-416e-af0d-0b05c3c36481",
   "metadata": {},
   "outputs": [],
   "source": [
    "mos_list = a1.split()"
   ]
  },
  {
   "cell_type": "code",
   "execution_count": 4,
   "id": "929aef0f-8941-43de-82d4-e4e936f5bd87",
   "metadata": {},
   "outputs": [
    {
     "name": "stdout",
     "output_type": "stream",
     "text": [
      "['A', '.-', 'N', '-.', 'B', '-...', 'O', '---', 'C', '-.-.', 'P', '.--.', 'D', '-..', 'Q', '--.-', 'E', '.', 'R', '.-.', 'F', '..-.', 'S', '...', 'G', '--.', 'T', '-', 'H', '....', 'U', '..-', 'I', '..', 'V', '...-', 'J', '.---', 'W', '.--', 'K', '-.-', 'X', '-..-', 'L', '.-..', 'Y', '-.--', 'M', '--', 'Z', '--..']"
     ]
    }
   ],
   "source": [
    "print(mos_list, end ='')"
   ]
  },
  {
   "cell_type": "code",
   "execution_count": 5,
   "id": "52dd0beb-3578-4f77-b20d-236f0073c7c2",
   "metadata": {},
   "outputs": [],
   "source": [
    "alpha = []\n",
    "mos = []\n",
    "\n",
    "for i in mos_list:\n",
    "    if mos_list.index(i) % 2 == 0 :\n",
    "        alpha.append(i)\n",
    "    else:\n",
    "        mos.append(i)"
   ]
  },
  {
   "cell_type": "code",
   "execution_count": 6,
   "id": "df7fd46f-d235-46da-908c-26644d66bbc3",
   "metadata": {},
   "outputs": [
    {
     "name": "stdout",
     "output_type": "stream",
     "text": [
      "['A', 'N', 'B', 'O', 'C', 'P', 'D', 'Q', 'E', 'R', 'F', 'S', 'G', 'T', 'H', 'U', 'I', 'V', 'J', 'W', 'K', 'X', 'L', 'Y', 'M', 'Z']"
     ]
    }
   ],
   "source": [
    "print(alpha, end = '')"
   ]
  },
  {
   "cell_type": "code",
   "execution_count": 7,
   "id": "73817f8f-21fe-4d17-ac82-1a0bac4cf549",
   "metadata": {},
   "outputs": [
    {
     "name": "stdout",
     "output_type": "stream",
     "text": [
      "['.-', '-.', '-...', '---', '-.-.', '.--.', '-..', '--.-', '.', '.-.', '..-.', '...', '--.', '-', '....', '..-', '..', '...-', '.---', '.--', '-.-', '-..-', '.-..', '-.--', '--', '--..']"
     ]
    }
   ],
   "source": [
    "print(mos, end ='')"
   ]
  },
  {
   "cell_type": "code",
   "execution_count": 8,
   "id": "349594e8-b5b3-4251-9978-80b4496161e6",
   "metadata": {},
   "outputs": [],
   "source": [
    "mos_dict = {}\n",
    "\n",
    "for i in range(len(alpha)):\n",
    "    mos_dict[alpha[i]] = mos[i]"
   ]
  },
  {
   "cell_type": "code",
   "execution_count": 45,
   "id": "66ef21e5-0e4b-4f90-90e6-a01ef4e944a0",
   "metadata": {},
   "outputs": [
    {
     "name": "stdout",
     "output_type": "stream",
     "text": [
      "{'A': '.-', 'N': '-.', 'B': '-...', 'O': '---', 'C': '-.-.', 'P': '.--.', 'D': '-..', 'Q': '--.-', 'E': '.', 'R': '.-.', 'F': '..-.', 'S': '...', 'G': '--.', 'T': '-', 'H': '....', 'U': '..-', 'I': '..', 'V': '...-', 'J': '.---', 'W': '.--', 'K': '-.-', 'X': '-..-', 'L': '.-..', 'Y': '-.--', 'M': '--', 'Z': '--..'}"
     ]
    }
   ],
   "source": [
    "print(mos_dict, end='')"
   ]
  },
  {
   "cell_type": "code",
   "execution_count": 48,
   "id": "d7ece26e-4776-4688-915e-1a717c3f5bbd",
   "metadata": {},
   "outputs": [],
   "source": [
    "mos_dict[' '] = ' '\n",
    "mos_dict['   '] = '  '"
   ]
  },
  {
   "cell_type": "code",
   "execution_count": 49,
   "id": "72e8edd4-59a0-45b0-9131-f18f5eddfe8a",
   "metadata": {},
   "outputs": [
    {
     "name": "stdin",
     "output_type": "stream",
     "text": [
      "문장을 입력하세요. HELLO HI\n"
     ]
    },
    {
     "name": "stdout",
     "output_type": "stream",
     "text": [
      "HELLO HI\n",
      "H E L L O   H I\n",
      "......-...-..--- ......\n",
      "\n",
      ".... . .-.. .-.. ---   .... .."
     ]
    }
   ],
   "source": [
    "mos_sentence = input('문장을 입력하세요.')\n",
    "print(mos_sentence)\n",
    "mos_sentence_list = ' '.join(mos_sentence)\n",
    "print(mos_sentence_list)\n",
    "\n",
    "for i in mos_sentence:    \n",
    "    print(mos_dict[i], end='')\n",
    "\n",
    "print('\\n')\n",
    "\n",
    "for i in mos_sentence_list:\n",
    "    print(mos_dict[i], end='')"
   ]
  },
  {
   "cell_type": "code",
   "execution_count": 50,
   "id": "d91b2020-d435-4da2-8249-b25f083806fa",
   "metadata": {},
   "outputs": [
    {
     "name": "stdin",
     "output_type": "stream",
     "text": [
      "문장을 입력하세요. HELLO HI\n"
     ]
    },
    {
     "name": "stdout",
     "output_type": "stream",
     "text": [
      "HELLO HI\n",
      "H E L L O   H I\n"
     ]
    }
   ],
   "source": [
    "mos_sentence = input('문장을 입력하세요.')\n",
    "print(mos_sentence)\n",
    "mos_sentence_list = ' '.join(mos_sentence)\n",
    "print(mos_sentence_list)"
   ]
  },
  {
   "cell_type": "code",
   "execution_count": 64,
   "id": "33d9bfac-15bf-43d4-81ac-16bbd9881c91",
   "metadata": {},
   "outputs": [
    {
     "name": "stdout",
     "output_type": "stream",
     "text": [
      "['HELLO', 'TEST']\n",
      "['H', 'E', 'L', 'L', 'O', '', '', 'T', 'E', 'S', 'T']\n"
     ]
    }
   ],
   "source": [
    "mos_sentence = 'HELLO TEST'\n",
    "mos_sentence_list = ' '.join(mos_sentence)\n",
    "\n",
    "print(mos_sentence.split())\n",
    "print(mos_sentence_list.split(' '))\n",
    "\n",
    "mos_sentence_test = "
   ]
  },
  {
   "cell_type": "code",
   "execution_count": 69,
   "id": "f76a960f-f5e4-4135-882f-993da6816f32",
   "metadata": {},
   "outputs": [
    {
     "name": "stdout",
     "output_type": "stream",
     "text": [
      ".... .  ... .-.. . . .--. ...  . .- .-. .-.. -.-- "
     ]
    }
   ],
   "source": [
    "t = 'he sleeps early'\n",
    "t = t.upper()\n",
    "\n",
    "list(t)\n",
    "\n",
    "for i in t :\n",
    "    if i == ' ':\n",
    "        print(' ', end='')\n",
    "    else:\n",
    "        print(mos_dict[i], end=' ')"
   ]
  },
  {
   "cell_type": "code",
   "execution_count": 71,
   "id": "9a23b586-8a17-481b-8758-b3b47965f75f",
   "metadata": {},
   "outputs": [],
   "source": [
    "plain = ''\n",
    "for i in t :\n",
    "    if i == ' ':\n",
    "        plain += ' ' \n",
    "    else:\n",
    "        plain += mos_dict[i]\n",
    "    \n",
    "    plain += ' '"
   ]
  },
  {
   "cell_type": "code",
   "execution_count": 72,
   "id": "1478c7b7-fe99-4488-9d0a-18113edb63a2",
   "metadata": {},
   "outputs": [
    {
     "data": {
      "text/plain": [
       "'.... .   ... .-.. . . .--. ...   . .- .-. .-.. -.-- '"
      ]
     },
     "execution_count": 72,
     "metadata": {},
     "output_type": "execute_result"
    }
   ],
   "source": [
    "plain"
   ]
  },
  {
   "cell_type": "code",
   "execution_count": null,
   "id": "305515c2-fab3-4717-908c-eba587485388",
   "metadata": {},
   "outputs": [],
   "source": [
    "mos_list = text.split()\n",
    "mos_dict = {}\n",
    "for i in range(0, len(mos_list), 2):\n",
    "    key = mos_list[i+1]\n",
    "    value = mos_list[i]\n",
    "    mos_dict[key]=value"
   ]
  },
  {
   "cell_type": "code",
   "execution_count": null,
   "id": "a512859b-9045-45b6-b22b-d2fd0ef4e40f",
   "metadata": {},
   "outputs": [],
   "source": [
    "mos = ' '"
   ]
  },
  {
   "cell_type": "code",
   "execution_count": null,
   "id": "64060760-91da-4dd5-8382-a9032ae1bb90",
   "metadata": {},
   "outputs": [],
   "source": [
    "unmos = []\n",
    "for m in mos.split(' ') :\n",
    "    if m == '' :\n",
    "        unmos.append(' ')\n",
    "    else:\n",
    "        unmos.append(mos_dict[m])\n",
    "print(''.join(unmos))"
   ]
  }
 ],
 "metadata": {
  "kernelspec": {
   "display_name": "Python 3 (ipykernel)",
   "language": "python",
   "name": "python3"
  },
  "language_info": {
   "codemirror_mode": {
    "name": "ipython",
    "version": 3
   },
   "file_extension": ".py",
   "mimetype": "text/x-python",
   "name": "python",
   "nbconvert_exporter": "python",
   "pygments_lexer": "ipython3",
   "version": "3.9.12"
  }
 },
 "nbformat": 4,
 "nbformat_minor": 5
}
