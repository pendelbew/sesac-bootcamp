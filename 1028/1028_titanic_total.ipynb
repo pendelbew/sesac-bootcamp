{
 "cells": [
  {
   "cell_type": "code",
   "execution_count": null,
   "id": "11be806c-6bc1-4935-85f1-52151ddde801",
   "metadata": {},
   "outputs": [],
   "source": [
    "import pandas as pds\n",
    "import numpy as np"
   ]
  },
  {
   "cell_type": "code",
   "execution_count": null,
   "id": "2d85a314-5dec-450a-8eed-bd2729952c11",
   "metadata": {},
   "outputs": [],
   "source": [
    "train = pds.read_csv('titanic/train.csv')\n",
    "test = pds.read_csv('titanic/test.csv')"
   ]
  },
  {
   "cell_type": "code",
   "execution_count": null,
   "id": "6a8bf89b-e306-4cbc-bf28-9649dbb011f1",
   "metadata": {},
   "outputs": [],
   "source": [
    "train_test_dataset = [train,test]"
   ]
  },
  {
   "cell_type": "code",
   "execution_count": null,
   "id": "f2a8d826-e4cd-4c5f-9d20-d1429ab235eb",
   "metadata": {},
   "outputs": [],
   "source": [
    "for data in train_test_dataset :\n",
    "    data['Title'] = data['Name'].str.extract('([a-zA-Z]+)\\.')\n",
    "    data['Title'] = data['Title'].str.lower()\n",
    "\n",
    "    data['Title'] = np.where(data['Title'] == 'mr', 0, \n",
    "                             np.where(data['Title'] == 'miss', 1, \n",
    "                                      np.where(data['Title'] == 'mrs', 2, 3)))\n",
    "\n",
    "    data['Age'].fillna(data.groupby('Title')['Age'].transform('median'), inplace = True)\n",
    "\n",
    "    data['Age'] = np.where(data['Age'] <= 16, 0, \n",
    "                           np.where(data['Age'] <= 26, 1, \n",
    "                                    np.where(data['Age'] <= 36, 2, \n",
    "                                             np.where(data['Age'] <= 62, 3, 4))))\n",
    "    \n",
    "    data['Embarked'].fillna('S', inplace=True)\n",
    "    \n",
    "    data['Embarked'] = np.where(data['Embarked'] == 'S' , 0, \n",
    "                                np.where(data['Embarked'] == 'C', 1, 2))\n",
    "    \n",
    "    data['Cabin'] = data['Cabin'].str[0]\n",
    "    \n",
    "    cabin_mapping = {'A' : 0 , 'B' : 0.4, 'C' : 0.8, 'D' : 1.2, 'E' : 1.6, 'F' : 2.0, 'G' : 2.4, 'T' : 2.8}\n",
    "        \n",
    "    data['Cabin'] = data['Cabin'].map(cabin_mapping)\n",
    "    \n",
    "    data['Cabin'].fillna(data.groupby('Pclass')['Cabin'].transform('median'), inplace=True)\n",
    "    \n",
    "    data['Sex'] =data['Sex'].map({'male' : 0,'female' : 1})\n",
    "    \n",
    "    data['Fare'].fillna(data.groupby('Pclass')['Fare'].transform('median'), inplace=True)\n",
    "    data['Fare'] = np.where(data['Fare'] <= 17, 0, \n",
    "                            np.where(data['Fare'] <= 30, 1, \n",
    "                                     np.where(data['Fare'] <= 100, 2, 3)))\n",
    "    \n",
    "    \n",
    "    data['FamilySize'] = data['SibSp'] + data['Parch'] + 1\n",
    "    \n",
    "    family_mapping = {1: 0.0, 2: 0.4, 3: 0.8, 4: 1.2, 5: 1.6, 6: 2.0, 7: 2.4, 8: 2.8, 9: 3.2, 10: 3.6, 11: 4.0}\n",
    "        \n",
    "    data['FamilySize'] = data['FamilySize'].map(family_mapping)"
   ]
  },
  {
   "cell_type": "code",
   "execution_count": null,
   "id": "1127e419-7329-47f1-a8b8-7490d13085e9",
   "metadata": {},
   "outputs": [],
   "source": [
    "features_drop = ['PassengerId', 'Name', 'Ticket', 'SibSp', 'Parch',]"
   ]
  },
  {
   "cell_type": "code",
   "execution_count": null,
   "id": "1a23c67d-9e3f-4f51-a168-1db76f48bf59",
   "metadata": {},
   "outputs": [],
   "source": [
    "train = train.drop(features_drop, axis = 1)"
   ]
  },
  {
   "cell_type": "code",
   "execution_count": null,
   "id": "32f46376-4edd-4c32-8737-bb65128b3945",
   "metadata": {},
   "outputs": [],
   "source": [
    "test = test.drop(features_drop, axis = 1)"
   ]
  },
  {
   "cell_type": "code",
   "execution_count": null,
   "id": "4bd291e7-883d-4d3f-ba27-56a0beabf83e",
   "metadata": {},
   "outputs": [],
   "source": [
    "train.head(1)"
   ]
  },
  {
   "cell_type": "code",
   "execution_count": null,
   "id": "2d6b9692-c755-46c1-9b3b-34f19c672ee7",
   "metadata": {},
   "outputs": [],
   "source": [
    "test.head(1)"
   ]
  },
  {
   "cell_type": "code",
   "execution_count": null,
   "id": "962d3959-e5a6-4842-8d73-066de133e4c8",
   "metadata": {},
   "outputs": [],
   "source": [
    "from sklearn.linear_model import LogisticRegression\n",
    "from sklearn.tree import DecisionTreeClassifier\n",
    "from sklearn.ensemble import RandomForestClassifier\n",
    "from sklearn.ensemble import GradientBoostingClassifier\n",
    "from sklearn.ensemble import AdaBoostClassifier\n",
    "\n",
    "from sklearn.metrics import accuracy_score\n",
    "from sklearn.model_selection import train_test_split"
   ]
  },
  {
   "cell_type": "code",
   "execution_count": null,
   "id": "c026d84b-5a55-4f6c-950e-333f8a899c28",
   "metadata": {},
   "outputs": [],
   "source": [
    "train"
   ]
  },
  {
   "cell_type": "code",
   "execution_count": null,
   "id": "9e6cef0f-195c-42ff-9ba9-c7d36cabbd70",
   "metadata": {},
   "outputs": [],
   "source": [
    "inputs = train.drop('Survived', axis = 1) \n",
    "# train.drop(columns= 'Survived')"
   ]
  },
  {
   "cell_type": "code",
   "execution_count": null,
   "id": "d8ec35ca-377d-43e8-8f95-5482448659d9",
   "metadata": {},
   "outputs": [],
   "source": [
    "outputs = train['Survived']"
   ]
  },
  {
   "cell_type": "code",
   "execution_count": null,
   "id": "05a13d8a-cce1-425d-b8cc-b971922ad1af",
   "metadata": {},
   "outputs": [],
   "source": [
    "print(inputs.shape, outputs.shape) # 아무것도 안 보이는 것은 1이 생략된 것임. (데이터 수 , 속성값)"
   ]
  },
  {
   "cell_type": "code",
   "execution_count": null,
   "id": "6271dd45-deb2-4039-9918-cbab6343d194",
   "metadata": {},
   "outputs": [],
   "source": [
    "train_input, test_input, train_output, test_output = train_test_split(inputs, outputs, test_size = 0.2, stratify = outputs, random_state = 10) \n",
    "# input을 x output을 y로 자주 쓴다. 해당 순서 외우는 편이 좋음 (x_train, x_test, y_train, y_output)"
   ]
  },
  {
   "cell_type": "code",
   "execution_count": null,
   "id": "21199634-882b-4906-8949-0f0c6995504e",
   "metadata": {},
   "outputs": [],
   "source": [
    "print(train_input.shape, train_output.shape)\n",
    "print(test_input.shape, test_output.shape)"
   ]
  },
  {
   "cell_type": "code",
   "execution_count": null,
   "id": "c09619be-7eda-4088-9264-a387675b6210",
   "metadata": {},
   "outputs": [],
   "source": [
    "train_input.isnull().sum()"
   ]
  },
  {
   "cell_type": "code",
   "execution_count": null,
   "id": "8df18845-3985-49e4-a682-6d64acb77476",
   "metadata": {},
   "outputs": [],
   "source": [
    "outputs.value_counts() # 0이 죽은 사람. 대략 6:4 정도로 가정. train이나 test나 비율을 유지하는 것이 좋다. (stratify = outputs 옵션)"
   ]
  },
  {
   "cell_type": "code",
   "execution_count": null,
   "id": "0fc54ea4-afc2-4b7d-ac5b-c3869246eeeb",
   "metadata": {},
   "outputs": [],
   "source": [
    "train_output.value_counts()"
   ]
  },
  {
   "cell_type": "code",
   "execution_count": null,
   "id": "34409858-34bd-4e76-954f-12b4703ec0e5",
   "metadata": {},
   "outputs": [],
   "source": [
    "test_output.value_counts()"
   ]
  },
  {
   "cell_type": "markdown",
   "id": "5b2e579d-2fc1-4828-bda5-d318d0a2c412",
   "metadata": {},
   "source": [
    "---"
   ]
  },
  {
   "cell_type": "code",
   "execution_count": null,
   "id": "91129209-792f-4971-b350-1274a4b9a2c6",
   "metadata": {},
   "outputs": [],
   "source": [
    "model1 = LogisticRegression()\n",
    "model2 = DecisionTreeClassifier()\n",
    "model3 = RandomForestClassifier()\n",
    "model4 = GradientBoostingClassifier()\n",
    "model5 = AdaBoostClassifier()\n",
    "# 괄호 꼭 붙이기. 앞서서 null값 없는지 확인해봐야 함. null값이 있으면 이하 fit이 돌아가지 않는다."
   ]
  },
  {
   "cell_type": "code",
   "execution_count": null,
   "id": "cadb453f-da12-4f94-9f9c-c50e0c9dafa4",
   "metadata": {},
   "outputs": [],
   "source": [
    "model1.fit(train_input, train_output) # 문제, 정답 순으로 입력"
   ]
  },
  {
   "cell_type": "code",
   "execution_count": null,
   "id": "6b73988b-7ff8-4ab6-ac3c-470192ba658a",
   "metadata": {},
   "outputs": [],
   "source": [
    "model1.score(train_input, train_output)"
   ]
  },
  {
   "cell_type": "code",
   "execution_count": null,
   "id": "f914955f-5d9b-4868-881f-f2f49f91cfdf",
   "metadata": {},
   "outputs": [],
   "source": [
    "model1.score(test_input, test_output)"
   ]
  },
  {
   "cell_type": "code",
   "execution_count": null,
   "id": "158574e7-21ce-47be-9346-fb632009bae0",
   "metadata": {},
   "outputs": [],
   "source": [
    "test_pre = model1.predict(test_input)"
   ]
  },
  {
   "cell_type": "code",
   "execution_count": null,
   "id": "e6115eda-fd83-4f8b-9591-f3c07551f548",
   "metadata": {},
   "outputs": [],
   "source": [
    "test_input.iloc[0]"
   ]
  },
  {
   "cell_type": "code",
   "execution_count": null,
   "id": "520e136a-c232-4269-9369-127df3794117",
   "metadata": {},
   "outputs": [],
   "source": [
    "test_pre[0]"
   ]
  },
  {
   "cell_type": "code",
   "execution_count": null,
   "id": "324316be-967d-42e9-9071-30386636574d",
   "metadata": {},
   "outputs": [],
   "source": [
    "test_output.iloc[0]"
   ]
  },
  {
   "cell_type": "code",
   "execution_count": null,
   "id": "9cd82a82-31f9-476f-9cd9-2c4b0ce13715",
   "metadata": {},
   "outputs": [],
   "source": [
    "accuracy_score(test_pre, test_output) *100"
   ]
  },
  {
   "cell_type": "code",
   "execution_count": null,
   "id": "05ee6b8a-d87c-4267-92cb-b5db46ac4393",
   "metadata": {},
   "outputs": [],
   "source": []
  },
  {
   "cell_type": "code",
   "execution_count": null,
   "id": "fa3e9390-8427-43db-a108-d2a4b1a1e25b",
   "metadata": {},
   "outputs": [],
   "source": [
    "model= {'LogisticRegression' : LogisticRegression(), \n",
    "        'DecisionTreeClassifier' : DecisionTreeClassifier(),\n",
    "        'RandomForestClassifier' : RandomForestClassifier(),\n",
    "        'GradientBoostingClassifier' : GradientBoostingClassifier(),\n",
    "        'AdaBoostClassifier' : AdaBoostClassifier()}"
   ]
  },
  {
   "cell_type": "code",
   "execution_count": null,
   "id": "c89e3cde-354a-40b4-9236-decf2816c67a",
   "metadata": {},
   "outputs": [],
   "source": [
    "for m in model :\n",
    "    clf = model[m]\n",
    "    clf.fit(train_input, train_output)\n",
    "    train_score = clf.score(train_input, train_output) * 100\n",
    "    test_score = clf.score(test_input, test_output) * 100\n",
    "    \n",
    "    print(f\"[%26s] train:%.2f / test:%.2f\" % (m, train_score, test_score))\n",
    "# 분명 위에서 데이터가 좀 다른듯... "
   ]
  },
  {
   "cell_type": "code",
   "execution_count": null,
   "id": "a966652f-ff6b-4c9e-b469-babf2a177a03",
   "metadata": {},
   "outputs": [],
   "source": [
    "# 얘들을 데이터 프레임으로 만들고 싶으면? "
   ]
  },
  {
   "cell_type": "code",
   "execution_count": null,
   "id": "58d617a1-398d-4352-a650-395c68920ee2",
   "metadata": {},
   "outputs": [],
   "source": [
    "model_l =[]\n",
    "train_l = []\n",
    "test_l = []\n",
    "\n",
    "for m in model :\n",
    "    clf = model[m]\n",
    "    clf.fit(train_input, train_output)\n",
    "    train_score = clf.score(train_input, train_output) * 100\n",
    "    test_score = clf.score(test_input, test_output) * 100\n",
    "    \n",
    "    model_l.append(m)\n",
    "    train_l.append(train_score)\n",
    "    test_l.append(test_score)\n",
    "    \n",
    "    print(f\"[%26s] train:%.2f / test:%.2f\" % (m, train_score, test_score))\n",
    "# 분명 위에서 데이터가 좀 다른듯... "
   ]
  },
  {
   "cell_type": "code",
   "execution_count": null,
   "id": "a181f4eb-964c-4bb4-b285-c581d5204982",
   "metadata": {},
   "outputs": [],
   "source": [
    "model = GradientBoostingClassifier()"
   ]
  },
  {
   "cell_type": "code",
   "execution_count": null,
   "id": "e6131b4b-43c2-4d13-845d-4165ec48964c",
   "metadata": {},
   "outputs": [],
   "source": [
    "model.fit(train_input, train_output)"
   ]
  },
  {
   "cell_type": "code",
   "execution_count": null,
   "id": "934a3fd3-d140-4256-8167-769639d04d23",
   "metadata": {},
   "outputs": [],
   "source": [
    "model"
   ]
  },
  {
   "cell_type": "code",
   "execution_count": null,
   "id": "712a008c-a55b-46d0-b50d-703d11b0874b",
   "metadata": {},
   "outputs": [],
   "source": [
    "import pickle"
   ]
  },
  {
   "cell_type": "code",
   "execution_count": null,
   "id": "4e527989-c59c-477d-afc7-911a955858e9",
   "metadata": {},
   "outputs": [],
   "source": [
    "with open ('gbc.pkl', 'wb') as f: #바이너리 파일로 쓰라는 뜻\n",
    "    pickle.dump(model, f)"
   ]
  },
  {
   "cell_type": "code",
   "execution_count": null,
   "id": "a965a182-1d3d-44f9-a9e9-575b512a5280",
   "metadata": {},
   "outputs": [],
   "source": [
    "with open ('gbc.pkl', 'rb') as f:\n",
    "    load_model = pickle.load(f)"
   ]
  },
  {
   "cell_type": "code",
   "execution_count": null,
   "id": "f25f1058-c815-4b8f-a0a9-d0199283a243",
   "metadata": {},
   "outputs": [],
   "source": [
    "load_model"
   ]
  },
  {
   "cell_type": "code",
   "execution_count": null,
   "id": "40497ace-0fb8-486b-bd37-7fd8e5673446",
   "metadata": {},
   "outputs": [],
   "source": [
    "data = test_input.iloc[0].to_list()"
   ]
  },
  {
   "cell_type": "code",
   "execution_count": null,
   "id": "a39c9729-c669-469a-b5c6-d73863770abd",
   "metadata": {},
   "outputs": [],
   "source": [
    "import numpy as np"
   ]
  },
  {
   "cell_type": "code",
   "execution_count": null,
   "id": "b03267d1-f2cb-4d5c-acb4-f4f98cfd39c5",
   "metadata": {},
   "outputs": [],
   "source": [
    "np_data = np.asarray(data)"
   ]
  },
  {
   "cell_type": "code",
   "execution_count": null,
   "id": "c5a71708-55c3-4856-81b1-a64f34beef57",
   "metadata": {},
   "outputs": [],
   "source": [
    "re_data = np_data.reshape(1,-1)"
   ]
  },
  {
   "cell_type": "code",
   "execution_count": null,
   "id": "966f0b86-feb9-49e9-89c5-f902c482f9cb",
   "metadata": {},
   "outputs": [],
   "source": [
    "re_data"
   ]
  },
  {
   "cell_type": "code",
   "execution_count": null,
   "id": "de3d7be1-f5e2-46c2-bd16-75f2c77d2d5c",
   "metadata": {},
   "outputs": [],
   "source": [
    "pred = load_model.predict(re_data)"
   ]
  },
  {
   "cell_type": "code",
   "execution_count": null,
   "id": "6daac8ea-45f0-4cae-9c75-5c54af4e98c5",
   "metadata": {},
   "outputs": [],
   "source": [
    "if pred[0] == 0 :\n",
    "    print('Died...')\n",
    "else:\n",
    "    print('Survived')"
   ]
  },
  {
   "cell_type": "markdown",
   "id": "e9b257e1-111b-446b-98ab-9e94874174b5",
   "metadata": {},
   "source": [
    "----"
   ]
  },
  {
   "cell_type": "code",
   "execution_count": null,
   "id": "a91aba5e-73dc-4e04-88f2-6a8ff88a13f1",
   "metadata": {},
   "outputs": [],
   "source": [
    "test "
   ]
  },
  {
   "cell_type": "code",
   "execution_count": null,
   "id": "ffd69725-20e9-4cce-b330-192db78a22b4",
   "metadata": {},
   "outputs": [],
   "source": [
    "test.isnull().sum()"
   ]
  },
  {
   "cell_type": "code",
   "execution_count": null,
   "id": "eeeca24f-e847-453c-be41-87a3b82d404e",
   "metadata": {},
   "outputs": [],
   "source": [
    "sub = pds.read_csv('titanic/submission.csv')"
   ]
  },
  {
   "cell_type": "code",
   "execution_count": null,
   "id": "df388ac1-6c73-4f71-a19c-217fbdfe2323",
   "metadata": {},
   "outputs": [],
   "source": [
    "answer = sub['Survived']"
   ]
  },
  {
   "cell_type": "code",
   "execution_count": null,
   "id": "fc2309e8-124d-48ba-bd05-f9c8773ab1fe",
   "metadata": {},
   "outputs": [],
   "source": [
    "answer"
   ]
  },
  {
   "cell_type": "code",
   "execution_count": null,
   "id": "292cb775-f3d9-4344-ad8b-54f97097b23a",
   "metadata": {},
   "outputs": [],
   "source": [
    "submission = load_model.predict(test)"
   ]
  },
  {
   "cell_type": "code",
   "execution_count": null,
   "id": "fe42e893-6699-4b18-a014-96fd184dd423",
   "metadata": {
    "tags": []
   },
   "outputs": [],
   "source": [
    "submission"
   ]
  },
  {
   "cell_type": "code",
   "execution_count": null,
   "id": "4f07445a-8fdb-4b09-8a5f-77eafa7d721d",
   "metadata": {
    "tags": []
   },
   "outputs": [],
   "source": [
    "print(answer.shape, submission.shape)"
   ]
  },
  {
   "cell_type": "code",
   "execution_count": null,
   "id": "11870c02-f1bd-4e18-b111-d0579de0a89d",
   "metadata": {},
   "outputs": [],
   "source": [
    "accuracy_score(answer, submission) * 100"
   ]
  },
  {
   "cell_type": "code",
   "execution_count": null,
   "id": "7421e277-594d-4cce-af52-3ae055431d97",
   "metadata": {},
   "outputs": [],
   "source": []
  },
  {
   "cell_type": "code",
   "execution_count": null,
   "id": "968a75df-0fd4-4844-b201-6156c18452b4",
   "metadata": {},
   "outputs": [],
   "source": [
    "sub2 = pds.read_csv('titanic/submission2.csv')"
   ]
  },
  {
   "cell_type": "code",
   "execution_count": null,
   "id": "3fbfe8cb-4142-4ce8-b939-16385034da5a",
   "metadata": {},
   "outputs": [],
   "source": [
    "sub2"
   ]
  },
  {
   "cell_type": "code",
   "execution_count": null,
   "id": "331516ee-f5ae-49c8-aa7c-9ae147c77350",
   "metadata": {},
   "outputs": [],
   "source": [
    "sub2['Survived'] = submission"
   ]
  },
  {
   "cell_type": "code",
   "execution_count": null,
   "id": "9388e992-f80a-4593-b771-285c13a58826",
   "metadata": {},
   "outputs": [],
   "source": [
    "sub2"
   ]
  },
  {
   "cell_type": "code",
   "execution_count": null,
   "id": "fa24b791-d9a4-4799-ab16-433fd9367caa",
   "metadata": {},
   "outputs": [],
   "source": [
    "sub2.to_csv('result.csv', index = False)"
   ]
  },
  {
   "cell_type": "code",
   "execution_count": null,
   "id": "a4485ef5-11b9-4f68-a910-7fb3e4bfb6d4",
   "metadata": {},
   "outputs": [],
   "source": []
  }
 ],
 "metadata": {
  "kernelspec": {
   "display_name": "Python 3 (ipykernel)",
   "language": "python",
   "name": "python3"
  },
  "language_info": {
   "codemirror_mode": {
    "name": "ipython",
    "version": 3
   },
   "file_extension": ".py",
   "mimetype": "text/x-python",
   "name": "python",
   "nbconvert_exporter": "python",
   "pygments_lexer": "ipython3",
   "version": "3.9.12"
  }
 },
 "nbformat": 4,
 "nbformat_minor": 5
}
