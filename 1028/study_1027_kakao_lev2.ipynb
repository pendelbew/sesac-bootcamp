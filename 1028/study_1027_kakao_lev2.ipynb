{
 "cells": [
  {
   "cell_type": "raw",
   "id": "fa18548a-7b6d-441d-8713-d303f20cad95",
   "metadata": {},
   "source": [
    "idea : \n",
    "1. 젤 긴 것의 배치만의 배치만 조정한다.\n",
    "2. 제일 많이 중복된게(=제일 많은것, 제일 긴 것의 숫자만큼 있는것) 첫번째\n",
    "   하나만 있는건 마지막 이 되도록 배치한다.\n",
    "   \n",
    "3. l1은 { } 안에 있는 것끼리만 있는 LIST\n",
    "4. l2는 { } 내부의 { }에 있는 각 숫자도 펼쳐져있는 LIST"
   ]
  },
  {
   "cell_type": "code",
   "execution_count": 31,
   "id": "96f5fcb7-c9c4-4988-b60a-29e3e096ab11",
   "metadata": {},
   "outputs": [],
   "source": [
    "def solution(s):\n",
    "    answer=[]\n",
    "\n",
    "# LIST 2개 셋팅\n",
    "    s = s.replace('},{' ,'*').replace('{' ,'').replace('}' ,'')\n",
    "    l1 = s.split('*')\n",
    "    m = str(l1).replace(\"'\",'').replace('[','').replace(']','').replace(' ','')\n",
    "    l2 = m.split(\",\")\n",
    "\n",
    "# 제일 긴걸 뽑아내는 스탭\n",
    "    long_w = \"\"\n",
    "    long_l = 0\n",
    "    \n",
    "    for i in l1 :\n",
    "        \n",
    "        if long_l < len(i) :            \n",
    "            long_w = i\n",
    "            long_l = len(i)  \n",
    "\n",
    "# 제일 많이 있는 걸 각 자리마다 놓는 스탭\n",
    "    l1_l = long_w.split(',')\n",
    "    \n",
    "    answer = list(range(len(l1_l)))\n",
    "    \n",
    "    for j in l1_l :\n",
    "        answer[len(l1_l) - l2.count(j)] = int(j)\n",
    "           \n",
    "    return answer"
   ]
  },
  {
   "cell_type": "code",
   "execution_count": 32,
   "id": "433469bd-4fee-4e14-aafa-996099efe962",
   "metadata": {
    "tags": []
   },
   "outputs": [
    {
     "data": {
      "text/plain": [
       "[1, 8, 10, 150, 7]"
      ]
     },
     "execution_count": 32,
     "metadata": {},
     "output_type": "execute_result"
    }
   ],
   "source": [
    "solution('{150,1,8,10},{1},{1,8},{1,150,8,7,10},{1,10,8}')"
   ]
  },
  {
   "cell_type": "code",
   "execution_count": null,
   "id": "a371ec6f-a08b-4ee0-8e31-647efa866660",
   "metadata": {},
   "outputs": [],
   "source": [
    "[1, 8, 10, 150, 7]"
   ]
  },
  {
   "cell_type": "code",
   "execution_count": null,
   "id": "b4bd47b2-548b-4319-bd7f-183af5ee8d07",
   "metadata": {},
   "outputs": [],
   "source": []
  },
  {
   "cell_type": "code",
   "execution_count": null,
   "id": "6c049292-7aaa-4523-9caf-6fbbdb1516a5",
   "metadata": {},
   "outputs": [],
   "source": []
  }
 ],
 "metadata": {
  "kernelspec": {
   "display_name": "Python 3 (ipykernel)",
   "language": "python",
   "name": "python3"
  },
  "language_info": {
   "codemirror_mode": {
    "name": "ipython",
    "version": 3
   },
   "file_extension": ".py",
   "mimetype": "text/x-python",
   "name": "python",
   "nbconvert_exporter": "python",
   "pygments_lexer": "ipython3",
   "version": "3.9.12"
  }
 },
 "nbformat": 4,
 "nbformat_minor": 5
}
