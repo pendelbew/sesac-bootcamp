{
 "cells": [
  {
   "cell_type": "markdown",
   "id": "c98b0806-ec64-4189-9f33-f2195b7d8ba0",
   "metadata": {},
   "source": [
    "# 함수 (FUNCTION)"
   ]
  },
  {
   "cell_type": "code",
   "execution_count": null,
   "id": "b6c3f482-59a6-4b8e-9061-a4cf7c12d566",
   "metadata": {},
   "outputs": [],
   "source": [
    "def test():\n",
    "    print('test 함수입니다')"
   ]
  },
  {
   "cell_type": "code",
   "execution_count": null,
   "id": "f007311a-6e3b-4f2f-91b3-bc3862225fc2",
   "metadata": {},
   "outputs": [],
   "source": [
    "test()"
   ]
  },
  {
   "cell_type": "code",
   "execution_count": null,
   "id": "c0bbf33c-f0aa-4b40-a234-d47e191c6c15",
   "metadata": {},
   "outputs": [],
   "source": [
    "# 반복 작업을 할 때 사용하기 편하다"
   ]
  },
  {
   "cell_type": "markdown",
   "id": "1ce86a1a-451c-440c-834d-c28b7ee191fd",
   "metadata": {},
   "source": [
    "- 매개변수 : 이 함수에 특정 값을 넘겨줄 수 있다.\n",
    "- return"
   ]
  },
  {
   "cell_type": "code",
   "execution_count": null,
   "id": "a0ac4dbc-de01-42b7-9cb6-24991f24bae1",
   "metadata": {},
   "outputs": [],
   "source": [
    "def test(a):\n",
    "    print('test 함수입니다')\n",
    "    print(a)"
   ]
  },
  {
   "cell_type": "code",
   "execution_count": null,
   "id": "339d9381-351d-499e-bace-391ff7e6ce08",
   "metadata": {},
   "outputs": [],
   "source": [
    "test(1)"
   ]
  },
  {
   "cell_type": "code",
   "execution_count": null,
   "id": "37debb80-3b42-40aa-8739-81ebba9ea860",
   "metadata": {},
   "outputs": [],
   "source": [
    "def test(a, b):\n",
    "    print('test 함수입니다')\n",
    "    print(a, b)"
   ]
  },
  {
   "cell_type": "code",
   "execution_count": null,
   "id": "9c4a2a2d-4b23-4bf2-a298-2af9186f522e",
   "metadata": {},
   "outputs": [],
   "source": [
    "test(1,2) #매개변수의 수와 동일하게 입력해주어야 함."
   ]
  },
  {
   "cell_type": "code",
   "execution_count": null,
   "id": "853c8ebe-6580-4832-9430-9764ff1eb467",
   "metadata": {},
   "outputs": [],
   "source": [
    "def max_user(l): #리스트에서 큰 수 찾는 함수니까 리스트를 매개변수로.\n",
    "    max_n = l[0]\n",
    "    \n",
    "    for n in l:\n",
    "        if max_n < n:\n",
    "             max_n = n\n",
    "                \n",
    "    print(max_n)"
   ]
  },
  {
   "cell_type": "code",
   "execution_count": null,
   "id": "5c6f79c9-eb04-46cd-a42f-4f3e02d5baf1",
   "metadata": {},
   "outputs": [],
   "source": [
    "max_user([1, 3, 5, 2, 4])"
   ]
  },
  {
   "cell_type": "code",
   "execution_count": null,
   "id": "fef71fe4-6a66-4523-ae04-d52c42c0cf28",
   "metadata": {},
   "outputs": [],
   "source": [
    "max_num = max_user([1, 3, 5, 2, 4]) "
   ]
  },
  {
   "cell_type": "code",
   "execution_count": null,
   "id": "01a94239-0f4b-4efb-83af-91a2c932007c",
   "metadata": {},
   "outputs": [],
   "source": [
    "max_num # 위의 함수는 PRINT만 할 뿐.... 해당 변수에 값을 넣을 수 없음. 따라서 RETURN을 사용해주어야 함."
   ]
  },
  {
   "cell_type": "code",
   "execution_count": null,
   "id": "d62c108e-6fb4-4835-8ca0-1fdf2f848429",
   "metadata": {},
   "outputs": [],
   "source": [
    "def max_user(l): \n",
    "    max_n = l[0]\n",
    "    \n",
    "    for n in l:\n",
    "        if max_n < n:\n",
    "             max_n = n\n",
    "                \n",
    "    return(max_n)"
   ]
  },
  {
   "cell_type": "code",
   "execution_count": null,
   "id": "b950bf97-6fa4-4fde-bfb9-2e9c91b9809a",
   "metadata": {},
   "outputs": [],
   "source": [
    "max_user([1, 3, 5, 2, 4])"
   ]
  },
  {
   "cell_type": "code",
   "execution_count": null,
   "id": "820028b2-74d6-42a0-98ca-ac82ddd9cabf",
   "metadata": {},
   "outputs": [],
   "source": [
    "max_num = max_user([1, 3, 5, 2, 4]) "
   ]
  },
  {
   "cell_type": "code",
   "execution_count": null,
   "id": "4175ef55-765a-413a-aab8-30372da4b950",
   "metadata": {},
   "outputs": [],
   "source": [
    "max_num"
   ]
  },
  {
   "cell_type": "code",
   "execution_count": null,
   "id": "56181869-f185-4994-83b5-6625401b7056",
   "metadata": {},
   "outputs": [],
   "source": [
    "# 매개변수가 없고 리턴도 없는 함수 \n",
    "def test():\n",
    "    print('test')"
   ]
  },
  {
   "cell_type": "code",
   "execution_count": null,
   "id": "cce666da-4a64-4fb2-8624-ed386eef108b",
   "metadata": {},
   "outputs": [],
   "source": [
    "test()"
   ]
  },
  {
   "cell_type": "code",
   "execution_count": null,
   "id": "4cc153aa-30cf-4557-86a2-fb464ab754f4",
   "metadata": {},
   "outputs": [],
   "source": [
    "# 매개변수는 있으나 리턴은 없는 함수\n",
    "def test2(a):\n",
    "    print(a)"
   ]
  },
  {
   "cell_type": "code",
   "execution_count": null,
   "id": "ea050f5a-d016-4feb-bb14-fe296ec9ec3c",
   "metadata": {},
   "outputs": [],
   "source": [
    "test2(1)"
   ]
  },
  {
   "cell_type": "code",
   "execution_count": null,
   "id": "d33c64af-7b8d-4447-814b-546c8ca8c56a",
   "metadata": {},
   "outputs": [],
   "source": [
    "# 매개변수가 없고 리턴만 있는 함수\n",
    "def test3():\n",
    "    return 1+2"
   ]
  },
  {
   "cell_type": "code",
   "execution_count": null,
   "id": "ad94b8be-176a-4d4c-a65c-762312fa2610",
   "metadata": {},
   "outputs": [],
   "source": [
    "test3()"
   ]
  },
  {
   "cell_type": "code",
   "execution_count": null,
   "id": "a05bf6be-678d-4b63-907b-43ea497448a7",
   "metadata": {},
   "outputs": [],
   "source": [
    "# 매개변수가 있고 리턴도 있는 함수\n",
    "def test4(a,b):\n",
    "    return a+b"
   ]
  },
  {
   "cell_type": "code",
   "execution_count": null,
   "id": "0a0fc85d-9a23-4c73-82b4-b04e3c27747e",
   "metadata": {},
   "outputs": [],
   "source": [
    "test4(1,2)"
   ]
  },
  {
   "cell_type": "code",
   "execution_count": null,
   "id": "3ae0d31a-7628-4537-8cb6-b3be703f04db",
   "metadata": {},
   "outputs": [],
   "source": [
    "def test5(a,b):\n",
    "    print('a:', a, 'b:', b)\n",
    "    return a+b"
   ]
  },
  {
   "cell_type": "code",
   "execution_count": null,
   "id": "f9b53490-03cf-4296-8a67-280786e52bce",
   "metadata": {},
   "outputs": [],
   "source": [
    "test5(1,2)"
   ]
  },
  {
   "cell_type": "code",
   "execution_count": null,
   "id": "9b9e2f02-a516-4a57-a75d-ba9d14ee3f24",
   "metadata": {},
   "outputs": [],
   "source": [
    "test5(b=2, a=1)"
   ]
  },
  {
   "cell_type": "code",
   "execution_count": null,
   "id": "225cc86e-8cea-4db6-b04e-f0e4c28a1891",
   "metadata": {},
   "outputs": [],
   "source": [
    "test5(c=1, d=2) # 함수 내에 존재하지 않는 변수이므로 에러가 뜬다."
   ]
  },
  {
   "cell_type": "code",
   "execution_count": null,
   "id": "c5527bc5-f6b4-4079-b768-67773bd8d3d6",
   "metadata": {},
   "outputs": [],
   "source": [
    "def test6(a,b = 1): #default\n",
    "    print('a:', a, 'b:', b)\n",
    "    return a+b"
   ]
  },
  {
   "cell_type": "code",
   "execution_count": null,
   "id": "a9ded41c-fb04-45dd-8273-c873b3d85050",
   "metadata": {},
   "outputs": [],
   "source": [
    "test6(1)"
   ]
  },
  {
   "cell_type": "code",
   "execution_count": null,
   "id": "561a123d-a1fb-4e06-a3b6-bf0379e7c1f5",
   "metadata": {},
   "outputs": [],
   "source": [
    "test6(1,2) #값을 입력할 경우 디폴트값은 무시. 입력값 먼저."
   ]
  },
  {
   "cell_type": "code",
   "execution_count": null,
   "id": "96a9c858-c183-47eb-8b2c-1edaca77d237",
   "metadata": {},
   "outputs": [],
   "source": [
    "def test7(*args): #몇 개가 나올지 모름\n",
    "    print(args)"
   ]
  },
  {
   "cell_type": "code",
   "execution_count": null,
   "id": "3881d20d-9e74-4443-a65e-20a458eff30c",
   "metadata": {},
   "outputs": [],
   "source": [
    "test7(1,2,3,4)"
   ]
  },
  {
   "cell_type": "code",
   "execution_count": null,
   "id": "c225d01c-f223-4386-a8d5-59d70157e2bd",
   "metadata": {},
   "outputs": [],
   "source": [
    "test7(1,2,3,4,5)"
   ]
  },
  {
   "cell_type": "code",
   "execution_count": null,
   "id": "039f0440-7535-4d59-afe8-549966c2dde3",
   "metadata": {},
   "outputs": [],
   "source": [
    "def test8(*args): \n",
    "    print(args[0])"
   ]
  },
  {
   "cell_type": "code",
   "execution_count": null,
   "id": "7484c38e-ce08-47fa-adfe-e1a4003c0989",
   "metadata": {},
   "outputs": [],
   "source": [
    "def test9(*args): \n",
    "    for i in args:\n",
    "        print(i)"
   ]
  },
  {
   "cell_type": "code",
   "execution_count": null,
   "id": "04c320c2-9717-49ac-bcba-7127c5028dd1",
   "metadata": {},
   "outputs": [],
   "source": [
    "def test9(*args): \n",
    "    ret = 0 \n",
    "    for i in args:\n",
    "        ret += i\n",
    "    return ret "
   ]
  },
  {
   "cell_type": "code",
   "execution_count": null,
   "id": "2fb4196e-4b08-449a-a89c-0fe771813f24",
   "metadata": {},
   "outputs": [],
   "source": [
    "test9(1,2,3,4,5)"
   ]
  },
  {
   "cell_type": "markdown",
   "id": "246d1a9d-0c16-487b-a87c-e26a8f94c0a7",
   "metadata": {},
   "source": [
    "# Quiz\n",
    "계산기 - 인자 2개 / 1개는 + - * / 1개는 값 (몇 개가 들어올지 모름)  \n",
    "def calc(oper, *args):  \n",
    "    return  "
   ]
  },
  {
   "cell_type": "code",
   "execution_count": null,
   "id": "96377b81-c769-4504-bb83-74c1f9024016",
   "metadata": {},
   "outputs": [],
   "source": [
    "def calc(oper,*args):\n",
    "    if oper == '+':\n",
    "        for i in args:\n",
    "        return sum\n",
    "    elif oper == '*':\n",
    "        mul = 0\n",
    "        for i in args:\n",
    "            mul = mul * i\n",
    "        return mul"
   ]
  },
  {
   "cell_type": "code",
   "execution_count": null,
   "id": "f9ce30e0-7eb8-4361-a91e-2a6a1c153284",
   "metadata": {},
   "outputs": [],
   "source": [
    "calc('+', (1,2,3))"
   ]
  },
  {
   "cell_type": "code",
   "execution_count": null,
   "id": "2962a549-ff39-4417-902b-b22164e03dfc",
   "metadata": {},
   "outputs": [],
   "source": [
    "calc('*',(1,2,3))"
   ]
  },
  {
   "cell_type": "code",
   "execution_count": 11,
   "id": "0e6816f2-064f-49ab-8e76-00012b554b72",
   "metadata": {},
   "outputs": [],
   "source": [
    "def calc(oper, *args):\n",
    "    ret = None # 곱하기 부분에 오류가 나지 않도록\n",
    "    print('args: ', len(args))\n",
    "    \n",
    "    if oper == '+' :\n",
    "        ret = 0\n",
    "        for i in args :\n",
    "            ret += i\n",
    "    elif oper == '*' :\n",
    "        ret = 1\n",
    "        for i in args:\n",
    "            ret *= i\n",
    "    else :\n",
    "        print('오류') #raise ~~Error : 에러 정의\n",
    "        \n",
    "    return ret"
   ]
  },
  {
   "cell_type": "code",
   "execution_count": 9,
   "id": "032577d8-04d8-42c6-ab5a-ea238bdfd6ca",
   "metadata": {},
   "outputs": [
    {
     "name": "stdout",
     "output_type": "stream",
     "text": [
      "args:  3\n"
     ]
    },
    {
     "data": {
      "text/plain": [
       "6"
      ]
     },
     "execution_count": 9,
     "metadata": {},
     "output_type": "execute_result"
    }
   ],
   "source": [
    "calc('+', 1, 2, 3)"
   ]
  },
  {
   "cell_type": "code",
   "execution_count": 10,
   "id": "597ba13f-d245-4348-97c4-e1f2659337c3",
   "metadata": {},
   "outputs": [
    {
     "name": "stdout",
     "output_type": "stream",
     "text": [
      "args:  3\n"
     ]
    },
    {
     "data": {
      "text/plain": [
       "8"
      ]
     },
     "execution_count": 10,
     "metadata": {},
     "output_type": "execute_result"
    }
   ],
   "source": [
    "calc('*',1,2,4)"
   ]
  },
  {
   "cell_type": "code",
   "execution_count": null,
   "id": "572197d2-e263-494f-add6-b0f27adb5141",
   "metadata": {},
   "outputs": [],
   "source": []
  }
 ],
 "metadata": {
  "kernelspec": {
   "display_name": "Python 3 (ipykernel)",
   "language": "python",
   "name": "python3"
  },
  "language_info": {
   "codemirror_mode": {
    "name": "ipython",
    "version": 3
   },
   "file_extension": ".py",
   "mimetype": "text/x-python",
   "name": "python",
   "nbconvert_exporter": "python",
   "pygments_lexer": "ipython3",
   "version": "3.9.12"
  }
 },
 "nbformat": 4,
 "nbformat_minor": 5
}
