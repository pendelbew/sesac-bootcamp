{
 "cells": [
  {
   "cell_type": "code",
   "execution_count": 2,
   "id": "22fb1008-66f2-477b-a3db-efc5c13188d0",
   "metadata": {},
   "outputs": [
    {
     "name": "stdout",
     "output_type": "stream",
     "text": [
      "shirt\n"
     ]
    }
   ],
   "source": [
    "a = \"Life is too short, you need python\"\n",
    "\n",
    "if \"wife\" in a: #거짓\n",
    "    print(\"wife\")\n",
    "elif \"python\" in a and \"you\" not in a: # (1) 참, (2) 거짓\n",
    "    print(\"python\")\n",
    "elif \"shirt\" not in a: # 참\n",
    "    print(\"shirt\")\n",
    "elif \"need\" in a: # 참, 그러나 제일 먼저 걸린 것이 SHIRT이므로.\n",
    "    print(\"need\")\n",
    "else:\n",
    "    print(\"none\")"
   ]
  },
  {
   "cell_type": "code",
   "execution_count": null,
   "id": "2e996f58-def7-4493-9b11-f6c4afac4982",
   "metadata": {},
   "outputs": [],
   "source": []
  }
 ],
 "metadata": {
  "kernelspec": {
   "display_name": "Python 3 (ipykernel)",
   "language": "python",
   "name": "python3"
  },
  "language_info": {
   "codemirror_mode": {
    "name": "ipython",
    "version": 3
   },
   "file_extension": ".py",
   "mimetype": "text/x-python",
   "name": "python",
   "nbconvert_exporter": "python",
   "pygments_lexer": "ipython3",
   "version": "3.9.12"
  }
 },
 "nbformat": 4,
 "nbformat_minor": 5
}
