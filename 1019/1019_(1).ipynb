{
 "cells": [
  {
   "cell_type": "markdown",
   "id": "5e458311-3780-42b6-bda5-3249ab782528",
   "metadata": {},
   "source": [
    "# For문"
   ]
  },
  {
   "cell_type": "markdown",
   "id": "b507fa73-c912-4d43-af69-409869c1656d",
   "metadata": {
    "tags": []
   },
   "source": [
    "## Range"
   ]
  },
  {
   "cell_type": "code",
   "execution_count": null,
   "id": "a3b37570-fee2-41b6-99da-d54a3f2dff17",
   "metadata": {},
   "outputs": [],
   "source": [
    "range(1,10)"
   ]
  },
  {
   "cell_type": "code",
   "execution_count": null,
   "id": "7e914ace-9db7-4ce7-a5d6-8f6d834c2c97",
   "metadata": {},
   "outputs": [],
   "source": [
    "list(range(1,10))"
   ]
  },
  {
   "cell_type": "code",
   "execution_count": null,
   "id": "fb9b6656-237a-4545-9d7c-96b7173c2ca8",
   "metadata": {},
   "outputs": [],
   "source": [
    "# 규칙은 동일, 뒷자리의 숫자 -1 까지. 1~9까지의 리스트가 생성된다."
   ]
  },
  {
   "cell_type": "code",
   "execution_count": null,
   "id": "323a31e0-0d9c-406d-a547-87c89d7f83a6",
   "metadata": {},
   "outputs": [],
   "source": [
    "list(range(1,10,2))"
   ]
  },
  {
   "cell_type": "code",
   "execution_count": null,
   "id": "8e890bb5-dd14-4e90-81fa-32aedc60a04d",
   "metadata": {},
   "outputs": [],
   "source": [
    "list(range(10))"
   ]
  },
  {
   "cell_type": "code",
   "execution_count": null,
   "id": "f92ef277-ce25-4776-a0b2-de87ef1c3d25",
   "metadata": {},
   "outputs": [],
   "source": [
    "for i in [0,1,2,3] : # variable\n",
    "    print(i)"
   ]
  },
  {
   "cell_type": "code",
   "execution_count": null,
   "id": "146b81a3-5c30-4b62-80e6-a37da4c45f13",
   "metadata": {},
   "outputs": [],
   "source": [
    "# 0을 i에 넣고, 0을 출력 > 1을 i에 넣고 1을 출력 ... 을 반복함"
   ]
  },
  {
   "cell_type": "code",
   "execution_count": null,
   "id": "66177847-bf79-4035-a6ae-96dcd8cc0676",
   "metadata": {},
   "outputs": [],
   "source": [
    "for i in range(4):\n",
    "    print(i)"
   ]
  },
  {
   "cell_type": "code",
   "execution_count": null,
   "id": "08a9548e-beeb-4e83-8abf-eb3f49977c33",
   "metadata": {},
   "outputs": [],
   "source": [
    "for i in (0,1,2,3):\n",
    "    print(i)"
   ]
  },
  {
   "cell_type": "code",
   "execution_count": null,
   "id": "00d03cbb-a869-41e3-bccb-f33c467affc8",
   "metadata": {},
   "outputs": [],
   "source": [
    "for i in 'abcde':\n",
    "    print(i)"
   ]
  },
  {
   "cell_type": "code",
   "execution_count": null,
   "id": "fe6bf72a-0690-42af-9b50-8105ba598471",
   "metadata": {},
   "outputs": [],
   "source": [
    "gender_list = [0, 0, 1, 1, 1] #0이면 남자, 1이면 여자입니다를 출력하는 방법."
   ]
  },
  {
   "cell_type": "code",
   "execution_count": null,
   "id": "a2818860-b083-4c16-92f7-66eaa6502ce4",
   "metadata": {},
   "outputs": [],
   "source": [
    "for i in range(len(gender_list)):\n",
    "    print(gender_list[i]) # 파이썬은 리스트를 for문에 바로 넣을 수 있기 때문에 이 방법을 잘 사용하지 않는다."
   ]
  },
  {
   "cell_type": "code",
   "execution_count": null,
   "id": "909b68f1-51b3-4927-b35f-20eac46797b7",
   "metadata": {},
   "outputs": [],
   "source": [
    "number = 0\n",
    "for gender in gender_list:\n",
    "    number = number + 1\n",
    "    if gender == 1:\n",
    "        print(\"%d번 사람은 여자입니다.\" % number)\n",
    "    else:\n",
    "        print(\"%d번 사람은 남자입니다.\" % number)"
   ]
  },
  {
   "cell_type": "code",
   "execution_count": null,
   "id": "79b5ff91-b067-43a5-a10a-b71046dc9612",
   "metadata": {},
   "outputs": [],
   "source": [
    "n = 1\n",
    "for gender in gender_list:\n",
    "    if gender == 1:\n",
    "        print(n, '여자입니다.')\n",
    "    else:\n",
    "        print(n, '남자입니다.')\n",
    "    n = n + 1"
   ]
  },
  {
   "cell_type": "code",
   "execution_count": null,
   "id": "bbb7e1a0-d5b5-42fd-8c3c-52b7cc604530",
   "metadata": {},
   "outputs": [],
   "source": [
    "list(enumerate([1, 2, 3])) # 튜플이 리스트에 들어가 있는 형태가 됨!!!"
   ]
  },
  {
   "cell_type": "code",
   "execution_count": null,
   "id": "4e58a007-3078-40e2-98c3-df674cf2bbb8",
   "metadata": {},
   "outputs": [],
   "source": [
    "for i, j in enumerate([1,2,3]):\n",
    "    print(i, j) #i는 인덱스 번호, j는 값"
   ]
  },
  {
   "cell_type": "code",
   "execution_count": null,
   "id": "04e83646-cf3e-4e4d-a47e-f0cefd49bd73",
   "metadata": {},
   "outputs": [],
   "source": [
    "# enumerate \n",
    "for index, gender in enumerate(gender_list):\n",
    "    if gender == 1:\n",
    "        print(index+1, '여자입니다.')\n",
    "    else:\n",
    "        print(index+1, '남자입니다.')\n"
   ]
  },
  {
   "cell_type": "markdown",
   "id": "06f9381a-1d44-4851-b256-06f6fb1a166b",
   "metadata": {
    "jp-MarkdownHeadingCollapsed": true,
    "tags": []
   },
   "source": [
    "# 1부터 100까지 합 구하기"
   ]
  },
  {
   "cell_type": "code",
   "execution_count": null,
   "id": "b259c2ea-e171-45bf-a65f-7b2dbdcba475",
   "metadata": {},
   "outputs": [],
   "source": [
    "ret = 0\n",
    "for i in range(1,101):\n",
    "    ret = ret + i # ret += i \n",
    "\n",
    "print(ret)"
   ]
  },
  {
   "cell_type": "markdown",
   "id": "0c55fc0b-bd11-4091-8719-873b51383a0d",
   "metadata": {
    "tags": []
   },
   "source": [
    "# 홀수와 짝수 합 구하기"
   ]
  },
  {
   "cell_type": "code",
   "execution_count": null,
   "id": "a33b7c60-be99-496c-a94e-2262701af0d1",
   "metadata": {},
   "outputs": [],
   "source": [
    "odd = 0\n",
    "for i in range(1, 101, 2):\n",
    "    odd = odd + i \n",
    "print(odd)"
   ]
  },
  {
   "cell_type": "code",
   "execution_count": null,
   "id": "9136e437-be5a-459b-9a22-87ac7fc1928d",
   "metadata": {},
   "outputs": [],
   "source": [
    "even = 0\n",
    "for i in range(2, 101, 2):                                                                                                                          \n",
    "    even = even + i\n",
    "print(even)"
   ]
  },
  {
   "cell_type": "code",
   "execution_count": null,
   "id": "91c4dd17-b886-4dbd-a5e7-7e4e08971674",
   "metadata": {},
   "outputs": [],
   "source": [
    "odd = 0\n",
    "even = 0\n",
    "\n",
    "for i in range(1, 101):\n",
    "    if i % 2 == 0:\n",
    "        even += i\n",
    "    else:\n",
    "        odd += i\n",
    "print('짝수:', even, '홀수:', odd)"
   ]
  },
  {
   "cell_type": "markdown",
   "id": "32b1953c-742b-4457-9893-20bb75b800b5",
   "metadata": {
    "tags": []
   },
   "source": [
    "# 별찍기"
   ]
  },
  {
   "cell_type": "raw",
   "id": "51c61d7f-0d39-4c47-af52-dd6f8c34fa27",
   "metadata": {},
   "source": [
    "*\n",
    "**\n",
    "***\n",
    "****\n",
    "*****"
   ]
  },
  {
   "cell_type": "code",
   "execution_count": null,
   "id": "1dcf8cfc-078e-4302-ad24-510b3745b757",
   "metadata": {},
   "outputs": [],
   "source": [
    "for i in range(6):\n",
    "    print('*' * i)"
   ]
  },
  {
   "cell_type": "raw",
   "id": "faaec4d4-8aec-4bfe-8eb1-a9624e0d8592",
   "metadata": {},
   "source": [
    "*****\n",
    "****\n",
    "***\n",
    "**\n",
    "*"
   ]
  },
  {
   "cell_type": "code",
   "execution_count": null,
   "id": "30df7010-d210-4cf2-8f03-01cc111b7747",
   "metadata": {},
   "outputs": [],
   "source": [
    "for i in reversed(range(6)):\n",
    "    print('*'*i)"
   ]
  },
  {
   "cell_type": "code",
   "execution_count": null,
   "id": "9de603cc-de62-4f66-aafa-b8c78c1dd197",
   "metadata": {},
   "outputs": [],
   "source": [
    "list(range(6,0,-1))"
   ]
  },
  {
   "cell_type": "code",
   "execution_count": null,
   "id": "c415cb4c-6da3-468d-9975-3a0fb9fdf7b6",
   "metadata": {},
   "outputs": [],
   "source": [
    "for i in range(5, 0, -1):\n",
    "    print('*' * i)"
   ]
  },
  {
   "cell_type": "raw",
   "id": "8e3a876c-4c35-47c8-bb33-0073f8850996",
   "metadata": {},
   "source": [
    "*****\n",
    " ****\n",
    "  ***\n",
    "   **\n",
    "    *"
   ]
  },
  {
   "cell_type": "code",
   "execution_count": null,
   "id": "d4ae7188-7886-475e-b681-7cb1aa060172",
   "metadata": {},
   "outputs": [],
   "source": [
    "for i in range(5):\n",
    "    print((' '*i), ('*'*(5-i)))"
   ]
  },
  {
   "cell_type": "raw",
   "id": "296a3bb5-c4b3-4c20-a523-851ee9158ae3",
   "metadata": {},
   "source": [
    "   *\n",
    "  ***\n",
    " *****\n",
    "*******"
   ]
  },
  {
   "cell_type": "raw",
   "id": "27df668a-c804-413a-99e3-85b542c8bff2",
   "metadata": {},
   "source": [
    "3/1/3\n",
    "2/3/2\n",
    "1/5/1\n",
    "0/7/0\n"
   ]
  },
  {
   "cell_type": "code",
   "execution_count": null,
   "id": "932f9265-8914-4aaf-ab46-e84b59e0916c",
   "metadata": {},
   "outputs": [],
   "source": [
    "for i in range(4):\n",
    "    print((3-i)*' '+((2*i)+1)*'*')"
   ]
  },
  {
   "cell_type": "markdown",
   "id": "2f401215-7152-439d-9db5-db99158db4e5",
   "metadata": {
    "tags": []
   },
   "source": [
    "# 이중 for문"
   ]
  },
  {
   "cell_type": "code",
   "execution_count": null,
   "id": "72045678-c210-4196-a2e5-3297d965223c",
   "metadata": {},
   "outputs": [],
   "source": [
    "for i in range(1,10):\n",
    "    print(i)"
   ]
  },
  {
   "cell_type": "code",
   "execution_count": null,
   "id": "bfead727-3293-41ea-80af-6289e8321abd",
   "metadata": {},
   "outputs": [],
   "source": [
    "for i in range(1,10):\n",
    "    print('2 *',i, '=', 2*i)"
   ]
  },
  {
   "cell_type": "code",
   "execution_count": null,
   "id": "4d9fc6a3-2730-430d-aae1-eecbf9f54184",
   "metadata": {},
   "outputs": [],
   "source": [
    "for a in range(2,10): # 순서를 생각하기. 대입해서 예상 출력 순서를 생각해보기\n",
    "    for b in range(1,10): \n",
    "        print(a,'*',b, '=', b*a)\n",
    "    print('---')"
   ]
  },
  {
   "cell_type": "markdown",
   "id": "d4563a07-dec0-4945-a236-27e7a4dec366",
   "metadata": {
    "tags": []
   },
   "source": [
    "# Quiz\n",
    "\n",
    "1. for문을 사용하여 recevied_list에서 allowed_list에 존재하지 않는 목록을 뽑아 spam_mail이라는 리스트를 만드는 코드를 구현.  \n",
    "received_list = ['tom', 'jenny', 'kyle', 'young, 'tami']  \n",
    "allowed_list = ['kyle', 'tami', 'json']  \n",
    "\n",
    "2. for문을 이용하여 word_list에서 단어가 7글자 이상이면 모두 대문자로, 7글자 미만이면 모두 소문자로 출력하는 코드를 구현.  \n",
    "word_list = ['culture', 'symbol', 'effect', 'experience', 'affair']\n",
    "\n",
    "3. 구구단 3단 중 결과가 홀수인 결과만 출력하는 코드를 구현.\n",
    "\n",
    "4. 다음 2차원 리스트의 모든 요소를 출력하는 코드를 구현.\n",
    "matrix=[[1,2,3],[4,5,6],[7,8,9],[10,11,12]]"
   ]
  },
  {
   "cell_type": "code",
   "execution_count": null,
   "id": "95c5895f-d578-4815-b83b-9ec22236a2e3",
   "metadata": {},
   "outputs": [],
   "source": [
    "received_list = ['tom', 'jenny', 'kyle', 'young', 'tami']\n",
    "allowed_list = ['kyle', 'tami', 'json']\n",
    "spam_mail = []\n",
    "\n",
    "for i in received_list:\n",
    "    if i not in allowed_list:\n",
    "        spam_mail.append(i) # for loop를 돌면서 *추가* 하는 것이 필요함.\n",
    "\n",
    "spam_mail"
   ]
  },
  {
   "cell_type": "code",
   "execution_count": null,
   "id": "1c26bffc-a796-4581-8207-0367b6abd397",
   "metadata": {},
   "outputs": [],
   "source": [
    "word_list = ['culture', 'symbol', 'effect', 'experience', 'affair']\n",
    "\n",
    "for i in word_list:\n",
    "    if len(i) >= 7:\n",
    "        print(str(i.upper()))\n",
    "    else:\n",
    "        print(str(i.lower()))"
   ]
  },
  {
   "cell_type": "code",
   "execution_count": null,
   "id": "ecb5d758-5ece-4a48-be6a-148e7af48810",
   "metadata": {},
   "outputs": [],
   "source": [
    "for a in range(1,10):\n",
    "    if (a * 3)%2 == 1:\n",
    "        print(a *3)"
   ]
  },
  {
   "cell_type": "code",
   "execution_count": null,
   "id": "413c043c-3f96-44fd-b70b-67d1f97abb94",
   "metadata": {},
   "outputs": [],
   "source": [
    "matrix=[[1,2,3],[4,5,6],[7,8,9],[10,11,12]]\n",
    "\n",
    "for a, b, c in matrix:\n",
    "    print(a, b, c)\n"
   ]
  },
  {
   "cell_type": "code",
   "execution_count": null,
   "id": "54ba4581-7ace-4ef0-b9c5-82de05e96720",
   "metadata": {},
   "outputs": [],
   "source": [
    "for m in matrix:\n",
    "    for i in m:\n",
    "        print(i)"
   ]
  },
  {
   "cell_type": "code",
   "execution_count": null,
   "id": "6183fea3-20cc-4acc-bd0d-b743e3e6731b",
   "metadata": {},
   "outputs": [],
   "source": [
    "for m in matrix:\n",
    "    for i in m:\n",
    "        print(i, end =' ')"
   ]
  },
  {
   "cell_type": "markdown",
   "id": "cb8676cd-4292-45ed-95e8-38c2801ceaf3",
   "metadata": {},
   "source": [
    "# While"
   ]
  },
  {
   "cell_type": "code",
   "execution_count": null,
   "id": "8b674ab8-0c8e-4663-aa72-5ddabea84fc4",
   "metadata": {},
   "outputs": [],
   "source": [
    "if 조건문 :\n",
    "    행동"
   ]
  },
  {
   "cell_type": "code",
   "execution_count": null,
   "id": "2086bc8e-0245-4290-a562-e6a25be27b6e",
   "metadata": {},
   "outputs": [],
   "source": [
    "while 조건문 : \n",
    "    행동 # 조건 성립되는 동안? 계속 반복됨 "
   ]
  },
  {
   "cell_type": "code",
   "execution_count": null,
   "id": "d0e491b4-bdcf-49dd-9215-bb833ac567ad",
   "metadata": {},
   "outputs": [],
   "source": [
    "count = 0\n",
    "while count < 5:\n",
    "    print(\"count는\", count, \"입니다.\")\n",
    "    count += 1 # count = count + 1"
   ]
  },
  {
   "cell_type": "markdown",
   "id": "0e00cd64-0de5-4860-aaff-88e06efbc1b4",
   "metadata": {
    "tags": []
   },
   "source": [
    "# random"
   ]
  },
  {
   "cell_type": "code",
   "execution_count": 3,
   "id": "a1d27cbb-7e5a-40cc-9be6-693010597773",
   "metadata": {},
   "outputs": [],
   "source": [
    "import random"
   ]
  },
  {
   "cell_type": "code",
   "execution_count": null,
   "id": "9942066f-a8d3-4893-9a73-b19f4e02e25f",
   "metadata": {},
   "outputs": [],
   "source": [
    "random.seed(1)"
   ]
  },
  {
   "cell_type": "code",
   "execution_count": null,
   "id": "aad74e09-13cc-4099-bfbb-a54fdb27486c",
   "metadata": {},
   "outputs": [],
   "source": [
    "random.randint(1,1000)"
   ]
  },
  {
   "cell_type": "code",
   "execution_count": null,
   "id": "3298b180-8abf-449c-9c07-444be73bc5c2",
   "metadata": {},
   "outputs": [],
   "source": [
    "# seed란 무엇인가~ "
   ]
  },
  {
   "cell_type": "code",
   "execution_count": null,
   "id": "da52d5f1-9e03-4cc2-918d-c5db8864b697",
   "metadata": {},
   "outputs": [],
   "source": [
    "random_list = []\n",
    "\n",
    "for _ in range(100):\n",
    "    random_list.append(random.randint(1,1000))"
   ]
  },
  {
   "cell_type": "code",
   "execution_count": null,
   "id": "23ccec9b-da56-419b-95fb-818182ae32f1",
   "metadata": {},
   "outputs": [],
   "source": [
    "random_list"
   ]
  },
  {
   "cell_type": "code",
   "execution_count": null,
   "id": "cee3017c-af7c-45c5-9ab8-3f7d594de0cb",
   "metadata": {},
   "outputs": [],
   "source": []
  },
  {
   "cell_type": "code",
   "execution_count": null,
   "id": "66fe5bc3-75bd-4c33-b0d7-81e039bfbeb2",
   "metadata": {},
   "outputs": [],
   "source": [
    "max(random_list)"
   ]
  },
  {
   "cell_type": "code",
   "execution_count": null,
   "id": "415d1c3b-551c-4480-a46e-3eba5ea51314",
   "metadata": {
    "tags": []
   },
   "outputs": [],
   "source": [
    "max = random_list[0]\n",
    "for i in random_list:\n",
    "    if i > max:\n",
    "        max = i\n",
    "        \n",
    "max"
   ]
  },
  {
   "cell_type": "code",
   "execution_count": null,
   "id": "c044bbb2-f9e4-4460-a591-dd16e00d77e1",
   "metadata": {},
   "outputs": [],
   "source": [
    "min(random_list)"
   ]
  },
  {
   "cell_type": "code",
   "execution_count": null,
   "id": "dd078abe-20da-4d99-b2c9-e15b5f016a61",
   "metadata": {},
   "outputs": [],
   "source": [
    "min = random_list[0]\n",
    "for i in random_list:\n",
    "    if i < min:\n",
    "        min = i\n",
    "        \n",
    "min"
   ]
  },
  {
   "cell_type": "markdown",
   "id": "46a85b14-8e68-4dbe-88e5-069a48a41742",
   "metadata": {},
   "source": [
    "# 로또 번호 생성기"
   ]
  },
  {
   "cell_type": "code",
   "execution_count": 4,
   "id": "333248f0-72ec-4cf8-a3de-e49e3caaf3b9",
   "metadata": {},
   "outputs": [],
   "source": [
    "lotto = list(range(1,46))"
   ]
  },
  {
   "cell_type": "code",
   "execution_count": 6,
   "id": "90dcb7f5-f73d-448c-82d2-27f1021ca2d0",
   "metadata": {},
   "outputs": [],
   "source": [
    "random.shuffle(lotto)"
   ]
  },
  {
   "cell_type": "code",
   "execution_count": 7,
   "id": "7ea9f5b9-9359-4129-badc-2b1aff477caf",
   "metadata": {},
   "outputs": [
    {
     "data": {
      "text/plain": [
       "[15, 44, 45, 6, 30, 2]"
      ]
     },
     "execution_count": 7,
     "metadata": {},
     "output_type": "execute_result"
    }
   ],
   "source": [
    "lotto[1:7]"
   ]
  },
  {
   "cell_type": "code",
   "execution_count": 10,
   "id": "75a0e28d-3602-41eb-9e97-f22854bf20c7",
   "metadata": {},
   "outputs": [
    {
     "name": "stdout",
     "output_type": "stream",
     "text": [
      "[41, 31, 27, 9, 30, 3]\n",
      "[42, 27, 28, 4, 33, 34]\n",
      "[45, 27, 10, 6, 34, 2]\n",
      "[40, 2, 22, 45, 33, 31]\n",
      "[2, 37, 45, 5, 26, 18]\n",
      "[6, 7, 16, 22, 34, 19]\n",
      "[38, 18, 11, 34, 9, 19]\n",
      "[10, 31, 30, 42, 41, 32]\n",
      "[13, 33, 40, 17, 5, 22]\n"
     ]
    }
   ],
   "source": [
    "for _ in range(1,10):\n",
    "    random.shuffle(lotto)\n",
    "    print(lotto[:6])"
   ]
  },
  {
   "cell_type": "code",
   "execution_count": null,
   "id": "c2e9cfaf-6645-4fe5-bb88-4f170940c145",
   "metadata": {},
   "outputs": [],
   "source": []
  }
 ],
 "metadata": {
  "kernelspec": {
   "display_name": "Python 3 (ipykernel)",
   "language": "python",
   "name": "python3"
  },
  "language_info": {
   "codemirror_mode": {
    "name": "ipython",
    "version": 3
   },
   "file_extension": ".py",
   "mimetype": "text/x-python",
   "name": "python",
   "nbconvert_exporter": "python",
   "pygments_lexer": "ipython3",
   "version": "3.9.12"
  }
 },
 "nbformat": 4,
 "nbformat_minor": 5
}
