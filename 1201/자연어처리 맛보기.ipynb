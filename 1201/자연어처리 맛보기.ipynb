{
 "cells": [
  {
   "cell_type": "code",
   "execution_count": 1,
   "id": "664bb07c-c969-4401-8d3c-b476db317f91",
   "metadata": {},
   "outputs": [],
   "source": [
    "docs = ['the cat in the hat', \n",
    "        'the cow jumped over the moon', \n",
    "        'the cat mooed and the cow meowed', \n",
    "        'the cat said to the cow cow you are not a cat']"
   ]
  },
  {
   "cell_type": "code",
   "execution_count": 7,
   "id": "29dad007-e0af-4a25-9e1a-3eb7c266f422",
   "metadata": {},
   "outputs": [
    {
     "data": {
      "text/plain": [
       "['the cat in the hat',\n",
       " 'the cow jumped over the moon',\n",
       " 'the cat mooed and the cow meowed',\n",
       " 'the cat said to the cow cow you are not a cat']"
      ]
     },
     "execution_count": 7,
     "metadata": {},
     "output_type": "execute_result"
    }
   ],
   "source": [
    "docs"
   ]
  },
  {
   "cell_type": "code",
   "execution_count": 9,
   "id": "4419a38b-4e19-445b-9576-48a1273f4d56",
   "metadata": {},
   "outputs": [],
   "source": [
    "split = []\n",
    "for i in docs:\n",
    "    for j in i.split(' '):\n",
    "        split.append(j)"
   ]
  },
  {
   "cell_type": "code",
   "execution_count": 12,
   "id": "a72ce05f-0727-4ae5-ae2a-3c9044c9d3ac",
   "metadata": {
    "collapsed": true,
    "jupyter": {
     "outputs_hidden": true
    },
    "tags": []
   },
   "outputs": [
    {
     "data": {
      "text/plain": [
       "['the',\n",
       " 'cat',\n",
       " 'in',\n",
       " 'the',\n",
       " 'hat',\n",
       " 'the',\n",
       " 'cow',\n",
       " 'jumped',\n",
       " 'over',\n",
       " 'the',\n",
       " 'moon',\n",
       " 'the',\n",
       " 'cat',\n",
       " 'mooed',\n",
       " 'and',\n",
       " 'the',\n",
       " 'cow',\n",
       " 'meowed',\n",
       " 'the',\n",
       " 'cat',\n",
       " 'said',\n",
       " 'to',\n",
       " 'the',\n",
       " 'cow',\n",
       " 'cow',\n",
       " 'you',\n",
       " 'are',\n",
       " 'not',\n",
       " 'a',\n",
       " 'cat']"
      ]
     },
     "execution_count": 12,
     "metadata": {},
     "output_type": "execute_result"
    }
   ],
   "source": [
    "split"
   ]
  },
  {
   "cell_type": "code",
   "execution_count": 13,
   "id": "2b4fa82e-a9f4-4a8f-81ed-68e600ca5cbd",
   "metadata": {},
   "outputs": [],
   "source": [
    "split_set = {i for i in split}"
   ]
  },
  {
   "cell_type": "code",
   "execution_count": 16,
   "id": "1b1aece6-0580-4c38-8c24-5df8662b64af",
   "metadata": {},
   "outputs": [
    {
     "data": {
      "text/plain": [
       "{'a',\n",
       " 'and',\n",
       " 'are',\n",
       " 'cat',\n",
       " 'cow',\n",
       " 'hat',\n",
       " 'in',\n",
       " 'jumped',\n",
       " 'meowed',\n",
       " 'mooed',\n",
       " 'moon',\n",
       " 'not',\n",
       " 'over',\n",
       " 'said',\n",
       " 'the',\n",
       " 'to',\n",
       " 'you'}"
      ]
     },
     "execution_count": 16,
     "metadata": {},
     "output_type": "execute_result"
    }
   ],
   "source": [
    "split_set"
   ]
  },
  {
   "cell_type": "code",
   "execution_count": 20,
   "id": "1c7c7331-c14e-4112-b67f-83ca04aec499",
   "metadata": {},
   "outputs": [],
   "source": [
    "voca = set(' '.join(docs).split(' '))"
   ]
  },
  {
   "cell_type": "code",
   "execution_count": 21,
   "id": "4b2bdd00-8e19-4f3f-a6a4-044f3ccdad0a",
   "metadata": {},
   "outputs": [
    {
     "data": {
      "text/plain": [
       "{'a',\n",
       " 'and',\n",
       " 'are',\n",
       " 'cat',\n",
       " 'cow',\n",
       " 'hat',\n",
       " 'in',\n",
       " 'jumped',\n",
       " 'meowed',\n",
       " 'mooed',\n",
       " 'moon',\n",
       " 'not',\n",
       " 'over',\n",
       " 'said',\n",
       " 'the',\n",
       " 'to',\n",
       " 'you'}"
      ]
     },
     "execution_count": 21,
     "metadata": {},
     "output_type": "execute_result"
    }
   ],
   "source": [
    "voca"
   ]
  },
  {
   "cell_type": "code",
   "execution_count": 23,
   "id": "b2e4875a-41d9-4a1d-99dd-f7009f1ef0d6",
   "metadata": {},
   "outputs": [],
   "source": [
    "common_words = set(['a', 'to', 'the', 'in', 'and', 'are'])"
   ]
  },
  {
   "cell_type": "code",
   "execution_count": 25,
   "id": "35b14c23-2e38-4c77-a4aa-2f034663a3ac",
   "metadata": {},
   "outputs": [],
   "source": [
    "voca_1 = voca - common_words"
   ]
  },
  {
   "cell_type": "code",
   "execution_count": 27,
   "id": "f4056cca-d151-4bc8-b382-aaa9d39f668d",
   "metadata": {},
   "outputs": [
    {
     "data": {
      "text/plain": [
       "{'cat',\n",
       " 'cow',\n",
       " 'hat',\n",
       " 'jumped',\n",
       " 'meowed',\n",
       " 'mooed',\n",
       " 'moon',\n",
       " 'not',\n",
       " 'over',\n",
       " 'said',\n",
       " 'you'}"
      ]
     },
     "execution_count": 27,
     "metadata": {},
     "output_type": "execute_result"
    }
   ],
   "source": [
    "voca_1"
   ]
  },
  {
   "cell_type": "code",
   "execution_count": 26,
   "id": "c17261ff-e4ea-4c67-b622-ffb0cad25a8a",
   "metadata": {},
   "outputs": [
    {
     "data": {
      "text/plain": [
       "'the cat in the hat'"
      ]
     },
     "execution_count": 26,
     "metadata": {},
     "output_type": "execute_result"
    }
   ],
   "source": [
    "docs[0]"
   ]
  },
  {
   "cell_type": "markdown",
   "id": "89c3f8e2-b5fe-4715-b665-1c08451244ea",
   "metadata": {},
   "source": [
    "docs 의 문장의 단어마다 \n",
    "voca_1의 단어가 있는지 없는지"
   ]
  },
  {
   "cell_type": "code",
   "execution_count": 40,
   "id": "167cbb1c-b2d4-4dad-9c83-4e70da4d405d",
   "metadata": {},
   "outputs": [],
   "source": [
    "docs_dict = {}\n",
    "\n",
    "for i in range(len(docs)):\n",
    "    sentence_dict = {} \n",
    "    for j in voca_1:\n",
    "        if j in docs[i]:\n",
    "            sentence_dict[j] = True\n",
    "        else:\n",
    "            sentence_dict[j] = False\n",
    "    docs_dict[i] = sentence_dict"
   ]
  },
  {
   "cell_type": "code",
   "execution_count": 44,
   "id": "c2bf5d1f-7040-4f50-828b-252762259f7a",
   "metadata": {},
   "outputs": [],
   "source": [
    "docs_list = []\n",
    "\n",
    "for i in range(len(docs)):\n",
    "    sentence_dict = {} \n",
    "    for j in voca_1:\n",
    "        if j in docs[i]:\n",
    "            sentence_dict[j] = True\n",
    "        else:\n",
    "            sentence_dict[j] = False\n",
    "    docs_list.append(sentence_dict)"
   ]
  },
  {
   "cell_type": "code",
   "execution_count": 45,
   "id": "277b91a6-0095-40b2-9bd5-060399de6058",
   "metadata": {
    "collapsed": true,
    "jupyter": {
     "outputs_hidden": true
    },
    "tags": []
   },
   "outputs": [
    {
     "data": {
      "text/plain": [
       "[{'over': False,\n",
       "  'said': False,\n",
       "  'meowed': False,\n",
       "  'you': False,\n",
       "  'cow': False,\n",
       "  'not': False,\n",
       "  'cat': True,\n",
       "  'moon': False,\n",
       "  'mooed': False,\n",
       "  'hat': True,\n",
       "  'jumped': False},\n",
       " {'over': True,\n",
       "  'said': False,\n",
       "  'meowed': False,\n",
       "  'you': False,\n",
       "  'cow': True,\n",
       "  'not': False,\n",
       "  'cat': False,\n",
       "  'moon': True,\n",
       "  'mooed': False,\n",
       "  'hat': False,\n",
       "  'jumped': True},\n",
       " {'over': False,\n",
       "  'said': False,\n",
       "  'meowed': True,\n",
       "  'you': False,\n",
       "  'cow': True,\n",
       "  'not': False,\n",
       "  'cat': True,\n",
       "  'moon': False,\n",
       "  'mooed': True,\n",
       "  'hat': False,\n",
       "  'jumped': False},\n",
       " {'over': False,\n",
       "  'said': True,\n",
       "  'meowed': False,\n",
       "  'you': True,\n",
       "  'cow': True,\n",
       "  'not': True,\n",
       "  'cat': True,\n",
       "  'moon': False,\n",
       "  'mooed': False,\n",
       "  'hat': False,\n",
       "  'jumped': False}]"
      ]
     },
     "execution_count": 45,
     "metadata": {},
     "output_type": "execute_result"
    }
   ],
   "source": [
    "docs_list"
   ]
  },
  {
   "cell_type": "code",
   "execution_count": null,
   "id": "3a5890ef-a647-4777-a41b-bdbbba13921d",
   "metadata": {},
   "outputs": [],
   "source": []
  },
  {
   "cell_type": "code",
   "execution_count": 42,
   "id": "a3d6cf8e-1804-4d69-a684-5dd6df39470e",
   "metadata": {},
   "outputs": [
    {
     "data": {
      "text/plain": [
       "{'over': False,\n",
       " 'said': False,\n",
       " 'meowed': False,\n",
       " 'you': False,\n",
       " 'cow': False,\n",
       " 'not': False,\n",
       " 'cat': True,\n",
       " 'moon': False,\n",
       " 'mooed': False,\n",
       " 'hat': True,\n",
       " 'jumped': False}"
      ]
     },
     "execution_count": 42,
     "metadata": {},
     "output_type": "execute_result"
    }
   ],
   "source": [
    "docs_dict[0]"
   ]
  },
  {
   "cell_type": "code",
   "execution_count": 86,
   "id": "45f2b9e4-dcb8-4dbd-a32f-4b0326e8bcb8",
   "metadata": {},
   "outputs": [],
   "source": [
    "doc_contains = [{v : (v in d) for v in voca_1} for d in docs]"
   ]
  },
  {
   "cell_type": "code",
   "execution_count": 71,
   "id": "3618bd73-4761-4e6c-97bb-a89022fa48a4",
   "metadata": {},
   "outputs": [],
   "source": [
    "import pandas as pd"
   ]
  },
  {
   "cell_type": "code",
   "execution_count": 72,
   "id": "8570a203-9aa4-4d81-847e-c05491fbfd0b",
   "metadata": {},
   "outputs": [],
   "source": [
    "dcs = pd.DataFrame(doc_contains)"
   ]
  },
  {
   "cell_type": "code",
   "execution_count": 73,
   "id": "104d5e7d-07c2-4897-ac5d-95f7f18ec1d1",
   "metadata": {},
   "outputs": [
    {
     "data": {
      "text/html": [
       "<div>\n",
       "<style scoped>\n",
       "    .dataframe tbody tr th:only-of-type {\n",
       "        vertical-align: middle;\n",
       "    }\n",
       "\n",
       "    .dataframe tbody tr th {\n",
       "        vertical-align: top;\n",
       "    }\n",
       "\n",
       "    .dataframe thead th {\n",
       "        text-align: right;\n",
       "    }\n",
       "</style>\n",
       "<table border=\"1\" class=\"dataframe\">\n",
       "  <thead>\n",
       "    <tr style=\"text-align: right;\">\n",
       "      <th></th>\n",
       "      <th>cat</th>\n",
       "      <th>cow</th>\n",
       "      <th>hat</th>\n",
       "      <th>jumped</th>\n",
       "      <th>meowed</th>\n",
       "      <th>mooed</th>\n",
       "      <th>moon</th>\n",
       "      <th>not</th>\n",
       "      <th>over</th>\n",
       "      <th>said</th>\n",
       "      <th>you</th>\n",
       "    </tr>\n",
       "  </thead>\n",
       "  <tbody>\n",
       "    <tr>\n",
       "      <th>0</th>\n",
       "      <td>True</td>\n",
       "      <td>False</td>\n",
       "      <td>True</td>\n",
       "      <td>False</td>\n",
       "      <td>False</td>\n",
       "      <td>False</td>\n",
       "      <td>False</td>\n",
       "      <td>False</td>\n",
       "      <td>False</td>\n",
       "      <td>False</td>\n",
       "      <td>False</td>\n",
       "    </tr>\n",
       "    <tr>\n",
       "      <th>1</th>\n",
       "      <td>False</td>\n",
       "      <td>True</td>\n",
       "      <td>False</td>\n",
       "      <td>True</td>\n",
       "      <td>False</td>\n",
       "      <td>False</td>\n",
       "      <td>True</td>\n",
       "      <td>False</td>\n",
       "      <td>True</td>\n",
       "      <td>False</td>\n",
       "      <td>False</td>\n",
       "    </tr>\n",
       "    <tr>\n",
       "      <th>2</th>\n",
       "      <td>True</td>\n",
       "      <td>True</td>\n",
       "      <td>False</td>\n",
       "      <td>False</td>\n",
       "      <td>True</td>\n",
       "      <td>True</td>\n",
       "      <td>False</td>\n",
       "      <td>False</td>\n",
       "      <td>False</td>\n",
       "      <td>False</td>\n",
       "      <td>False</td>\n",
       "    </tr>\n",
       "    <tr>\n",
       "      <th>3</th>\n",
       "      <td>True</td>\n",
       "      <td>True</td>\n",
       "      <td>False</td>\n",
       "      <td>False</td>\n",
       "      <td>False</td>\n",
       "      <td>False</td>\n",
       "      <td>False</td>\n",
       "      <td>True</td>\n",
       "      <td>False</td>\n",
       "      <td>True</td>\n",
       "      <td>True</td>\n",
       "    </tr>\n",
       "  </tbody>\n",
       "</table>\n",
       "</div>"
      ],
      "text/plain": [
       "     cat    cow    hat  jumped  meowed  mooed   moon    not   over   said  \\\n",
       "0   True  False   True   False   False  False  False  False  False  False   \n",
       "1  False   True  False    True   False  False   True  False   True  False   \n",
       "2   True   True  False   False    True   True  False  False  False  False   \n",
       "3   True   True  False   False   False  False  False   True  False   True   \n",
       "\n",
       "     you  \n",
       "0  False  \n",
       "1  False  \n",
       "2  False  \n",
       "3   True  "
      ]
     },
     "execution_count": 73,
     "metadata": {},
     "output_type": "execute_result"
    }
   ],
   "source": [
    "dcs.sort_index(axis=1)"
   ]
  },
  {
   "cell_type": "code",
   "execution_count": 79,
   "id": "68c71fa7-f8b0-47f5-8991-98706526b67c",
   "metadata": {},
   "outputs": [],
   "source": [
    "dict_list = []\n",
    "for i in docs:\n",
    "    dic = {}\n",
    "    for v in voca_1:\n",
    "        dic[v] = v in i\n",
    "    dict_list.append(dic)"
   ]
  },
  {
   "cell_type": "code",
   "execution_count": 80,
   "id": "1e4ea1c5-ba7b-42e9-b55e-f8b45210d516",
   "metadata": {
    "collapsed": true,
    "jupyter": {
     "outputs_hidden": true
    },
    "tags": []
   },
   "outputs": [
    {
     "data": {
      "text/plain": [
       "[{'over': False,\n",
       "  'said': False,\n",
       "  'meowed': False,\n",
       "  'you': False,\n",
       "  'cow': False,\n",
       "  'not': False,\n",
       "  'cat': True,\n",
       "  'moon': False,\n",
       "  'mooed': False,\n",
       "  'hat': True,\n",
       "  'jumped': False},\n",
       " {'over': True,\n",
       "  'said': False,\n",
       "  'meowed': False,\n",
       "  'you': False,\n",
       "  'cow': True,\n",
       "  'not': False,\n",
       "  'cat': False,\n",
       "  'moon': True,\n",
       "  'mooed': False,\n",
       "  'hat': False,\n",
       "  'jumped': True},\n",
       " {'over': False,\n",
       "  'said': False,\n",
       "  'meowed': True,\n",
       "  'you': False,\n",
       "  'cow': True,\n",
       "  'not': False,\n",
       "  'cat': True,\n",
       "  'moon': False,\n",
       "  'mooed': True,\n",
       "  'hat': False,\n",
       "  'jumped': False},\n",
       " {'over': False,\n",
       "  'said': True,\n",
       "  'meowed': False,\n",
       "  'you': True,\n",
       "  'cow': True,\n",
       "  'not': True,\n",
       "  'cat': True,\n",
       "  'moon': False,\n",
       "  'mooed': False,\n",
       "  'hat': False,\n",
       "  'jumped': False}]"
      ]
     },
     "execution_count": 80,
     "metadata": {},
     "output_type": "execute_result"
    }
   ],
   "source": [
    "dict_list"
   ]
  },
  {
   "cell_type": "code",
   "execution_count": 82,
   "id": "9a0ce539-bfa8-40ae-8b97-e19b336d3046",
   "metadata": {},
   "outputs": [],
   "source": [
    "dict_list = []\n",
    "for i in docs:\n",
    "    dic = {}\n",
    "    for v in voca_1:\n",
    "        dic[v] = i.count(v)\n",
    "    dict_list.append(dic)"
   ]
  },
  {
   "cell_type": "code",
   "execution_count": 83,
   "id": "60252a9c-3621-4e12-8f3c-1f32172e27c7",
   "metadata": {
    "collapsed": true,
    "jupyter": {
     "outputs_hidden": true
    },
    "tags": []
   },
   "outputs": [
    {
     "data": {
      "text/plain": [
       "[{'over': 0,\n",
       "  'said': 0,\n",
       "  'meowed': 0,\n",
       "  'you': 0,\n",
       "  'cow': 0,\n",
       "  'not': 0,\n",
       "  'cat': 1,\n",
       "  'moon': 0,\n",
       "  'mooed': 0,\n",
       "  'hat': 1,\n",
       "  'jumped': 0},\n",
       " {'over': 1,\n",
       "  'said': 0,\n",
       "  'meowed': 0,\n",
       "  'you': 0,\n",
       "  'cow': 1,\n",
       "  'not': 0,\n",
       "  'cat': 0,\n",
       "  'moon': 1,\n",
       "  'mooed': 0,\n",
       "  'hat': 0,\n",
       "  'jumped': 1},\n",
       " {'over': 0,\n",
       "  'said': 0,\n",
       "  'meowed': 1,\n",
       "  'you': 0,\n",
       "  'cow': 1,\n",
       "  'not': 0,\n",
       "  'cat': 1,\n",
       "  'moon': 0,\n",
       "  'mooed': 1,\n",
       "  'hat': 0,\n",
       "  'jumped': 0},\n",
       " {'over': 0,\n",
       "  'said': 1,\n",
       "  'meowed': 0,\n",
       "  'you': 1,\n",
       "  'cow': 2,\n",
       "  'not': 1,\n",
       "  'cat': 2,\n",
       "  'moon': 0,\n",
       "  'mooed': 0,\n",
       "  'hat': 0,\n",
       "  'jumped': 0}]"
      ]
     },
     "execution_count": 83,
     "metadata": {},
     "output_type": "execute_result"
    }
   ],
   "source": [
    "dict_list"
   ]
  },
  {
   "cell_type": "code",
   "execution_count": 87,
   "id": "cf1e8ee3-00a4-45f5-aae0-e31fcda3e23f",
   "metadata": {
    "tags": []
   },
   "outputs": [],
   "source": [
    "word_contains = [{v : (d.count(v)) for v in voca_1} for d in docs]"
   ]
  },
  {
   "cell_type": "code",
   "execution_count": 88,
   "id": "90276c34-ed47-441e-805d-e2b3ae2d66eb",
   "metadata": {
    "tags": []
   },
   "outputs": [
    {
     "data": {
      "text/plain": [
       "[{'over': 0,\n",
       "  'said': 0,\n",
       "  'meowed': 0,\n",
       "  'you': 0,\n",
       "  'cow': 0,\n",
       "  'not': 0,\n",
       "  'cat': 1,\n",
       "  'moon': 0,\n",
       "  'mooed': 0,\n",
       "  'hat': 1,\n",
       "  'jumped': 0},\n",
       " {'over': 1,\n",
       "  'said': 0,\n",
       "  'meowed': 0,\n",
       "  'you': 0,\n",
       "  'cow': 1,\n",
       "  'not': 0,\n",
       "  'cat': 0,\n",
       "  'moon': 1,\n",
       "  'mooed': 0,\n",
       "  'hat': 0,\n",
       "  'jumped': 1},\n",
       " {'over': 0,\n",
       "  'said': 0,\n",
       "  'meowed': 1,\n",
       "  'you': 0,\n",
       "  'cow': 1,\n",
       "  'not': 0,\n",
       "  'cat': 1,\n",
       "  'moon': 0,\n",
       "  'mooed': 1,\n",
       "  'hat': 0,\n",
       "  'jumped': 0},\n",
       " {'over': 0,\n",
       "  'said': 1,\n",
       "  'meowed': 0,\n",
       "  'you': 1,\n",
       "  'cow': 2,\n",
       "  'not': 1,\n",
       "  'cat': 2,\n",
       "  'moon': 0,\n",
       "  'mooed': 0,\n",
       "  'hat': 0,\n",
       "  'jumped': 0}]"
      ]
     },
     "execution_count": 88,
     "metadata": {},
     "output_type": "execute_result"
    }
   ],
   "source": [
    "word_contains"
   ]
  },
  {
   "cell_type": "code",
   "execution_count": 89,
   "id": "349de4a8-8c87-4ae2-8ab0-bbbf55c2e442",
   "metadata": {},
   "outputs": [],
   "source": [
    "wcs = pd.DataFrame(word_contains)"
   ]
  },
  {
   "cell_type": "code",
   "execution_count": 90,
   "id": "b6752a24-1e98-418d-88bb-6b635d9e4230",
   "metadata": {},
   "outputs": [
    {
     "data": {
      "text/html": [
       "<div>\n",
       "<style scoped>\n",
       "    .dataframe tbody tr th:only-of-type {\n",
       "        vertical-align: middle;\n",
       "    }\n",
       "\n",
       "    .dataframe tbody tr th {\n",
       "        vertical-align: top;\n",
       "    }\n",
       "\n",
       "    .dataframe thead th {\n",
       "        text-align: right;\n",
       "    }\n",
       "</style>\n",
       "<table border=\"1\" class=\"dataframe\">\n",
       "  <thead>\n",
       "    <tr style=\"text-align: right;\">\n",
       "      <th></th>\n",
       "      <th>cat</th>\n",
       "      <th>cow</th>\n",
       "      <th>hat</th>\n",
       "      <th>jumped</th>\n",
       "      <th>meowed</th>\n",
       "      <th>mooed</th>\n",
       "      <th>moon</th>\n",
       "      <th>not</th>\n",
       "      <th>over</th>\n",
       "      <th>said</th>\n",
       "      <th>you</th>\n",
       "    </tr>\n",
       "  </thead>\n",
       "  <tbody>\n",
       "    <tr>\n",
       "      <th>0</th>\n",
       "      <td>1</td>\n",
       "      <td>0</td>\n",
       "      <td>1</td>\n",
       "      <td>0</td>\n",
       "      <td>0</td>\n",
       "      <td>0</td>\n",
       "      <td>0</td>\n",
       "      <td>0</td>\n",
       "      <td>0</td>\n",
       "      <td>0</td>\n",
       "      <td>0</td>\n",
       "    </tr>\n",
       "    <tr>\n",
       "      <th>1</th>\n",
       "      <td>0</td>\n",
       "      <td>1</td>\n",
       "      <td>0</td>\n",
       "      <td>1</td>\n",
       "      <td>0</td>\n",
       "      <td>0</td>\n",
       "      <td>1</td>\n",
       "      <td>0</td>\n",
       "      <td>1</td>\n",
       "      <td>0</td>\n",
       "      <td>0</td>\n",
       "    </tr>\n",
       "    <tr>\n",
       "      <th>2</th>\n",
       "      <td>1</td>\n",
       "      <td>1</td>\n",
       "      <td>0</td>\n",
       "      <td>0</td>\n",
       "      <td>1</td>\n",
       "      <td>1</td>\n",
       "      <td>0</td>\n",
       "      <td>0</td>\n",
       "      <td>0</td>\n",
       "      <td>0</td>\n",
       "      <td>0</td>\n",
       "    </tr>\n",
       "    <tr>\n",
       "      <th>3</th>\n",
       "      <td>2</td>\n",
       "      <td>2</td>\n",
       "      <td>0</td>\n",
       "      <td>0</td>\n",
       "      <td>0</td>\n",
       "      <td>0</td>\n",
       "      <td>0</td>\n",
       "      <td>1</td>\n",
       "      <td>0</td>\n",
       "      <td>1</td>\n",
       "      <td>1</td>\n",
       "    </tr>\n",
       "  </tbody>\n",
       "</table>\n",
       "</div>"
      ],
      "text/plain": [
       "   cat  cow  hat  jumped  meowed  mooed  moon  not  over  said  you\n",
       "0    1    0    1       0       0      0     0    0     0     0    0\n",
       "1    0    1    0       1       0      0     1    0     1     0    0\n",
       "2    1    1    0       0       1      1     0    0     0     0    0\n",
       "3    2    2    0       0       0      0     0    1     0     1    1"
      ]
     },
     "execution_count": 90,
     "metadata": {},
     "output_type": "execute_result"
    }
   ],
   "source": [
    "wcs.sort_index(axis = 1)"
   ]
  },
  {
   "cell_type": "code",
   "execution_count": 55,
   "id": "63f6fa0b-425c-484e-96fe-919442565337",
   "metadata": {},
   "outputs": [],
   "source": [
    "from sklearn.feature_extraction.text import CountVectorizer"
   ]
  },
  {
   "cell_type": "code",
   "execution_count": 56,
   "id": "45f9547b-731f-4044-98e5-b94fe20144c9",
   "metadata": {},
   "outputs": [],
   "source": [
    "sparse = CountVectorizer(stop_words = 'english').fit_transform(docs)"
   ]
  },
  {
   "cell_type": "code",
   "execution_count": 58,
   "id": "957daba0-d387-4cba-834d-d567389a861a",
   "metadata": {},
   "outputs": [
    {
     "data": {
      "text/plain": [
       "matrix([[1, 0, 1, 0, 0, 0, 0, 0],\n",
       "        [0, 1, 0, 1, 0, 0, 1, 0],\n",
       "        [1, 1, 0, 0, 1, 1, 0, 0],\n",
       "        [2, 2, 0, 0, 0, 0, 0, 1]], dtype=int64)"
      ]
     },
     "execution_count": 58,
     "metadata": {},
     "output_type": "execute_result"
    }
   ],
   "source": [
    "sparse.todense()"
   ]
  },
  {
   "cell_type": "code",
   "execution_count": 59,
   "id": "87ed5e69-cd20-4ab7-9b24-4fa91a997991",
   "metadata": {},
   "outputs": [
    {
     "data": {
      "text/plain": [
       "(4, 8)"
      ]
     },
     "execution_count": 59,
     "metadata": {},
     "output_type": "execute_result"
    }
   ],
   "source": [
    "sparse.get_shape()"
   ]
  },
  {
   "cell_type": "code",
   "execution_count": 94,
   "id": "cb0cdee1-9443-4db1-a05a-acee3b6deac8",
   "metadata": {},
   "outputs": [],
   "source": [
    "doc_freq = pd.DataFrame(dcs.sum(axis=0)).T"
   ]
  },
  {
   "cell_type": "code",
   "execution_count": 100,
   "id": "9d4f8036-6668-4567-905d-2cc8a9c7a6ae",
   "metadata": {},
   "outputs": [
    {
     "data": {
      "text/html": [
       "<div>\n",
       "<style scoped>\n",
       "    .dataframe tbody tr th:only-of-type {\n",
       "        vertical-align: middle;\n",
       "    }\n",
       "\n",
       "    .dataframe tbody tr th {\n",
       "        vertical-align: top;\n",
       "    }\n",
       "\n",
       "    .dataframe thead th {\n",
       "        text-align: right;\n",
       "    }\n",
       "</style>\n",
       "<table border=\"1\" class=\"dataframe\">\n",
       "  <thead>\n",
       "    <tr style=\"text-align: right;\">\n",
       "      <th></th>\n",
       "      <th>over</th>\n",
       "      <th>said</th>\n",
       "      <th>meowed</th>\n",
       "      <th>you</th>\n",
       "      <th>cow</th>\n",
       "      <th>not</th>\n",
       "      <th>cat</th>\n",
       "      <th>moon</th>\n",
       "      <th>mooed</th>\n",
       "      <th>hat</th>\n",
       "      <th>jumped</th>\n",
       "    </tr>\n",
       "  </thead>\n",
       "  <tbody>\n",
       "    <tr>\n",
       "      <th>0</th>\n",
       "      <td>1</td>\n",
       "      <td>1</td>\n",
       "      <td>1</td>\n",
       "      <td>1</td>\n",
       "      <td>3</td>\n",
       "      <td>1</td>\n",
       "      <td>3</td>\n",
       "      <td>1</td>\n",
       "      <td>1</td>\n",
       "      <td>1</td>\n",
       "      <td>1</td>\n",
       "    </tr>\n",
       "  </tbody>\n",
       "</table>\n",
       "</div>"
      ],
      "text/plain": [
       "   over  said  meowed  you  cow  not  cat  moon  mooed  hat  jumped\n",
       "0     1     1       1    1    3    1    3     1      1    1       1"
      ]
     },
     "execution_count": 100,
     "metadata": {},
     "output_type": "execute_result"
    }
   ],
   "source": [
    "doc_freq"
   ]
  },
  {
   "cell_type": "code",
   "execution_count": null,
   "id": "8d84743d-8634-410a-9cd1-149a765f848b",
   "metadata": {},
   "outputs": [],
   "source": [
    "DF(Document Frequency) -> 특정 단어가 등장한 문서의 수 "
   ]
  },
  {
   "cell_type": "code",
   "execution_count": 96,
   "id": "093378eb-444a-4299-b1bd-61b3140a61ac",
   "metadata": {},
   "outputs": [],
   "source": [
    "import numpy as np"
   ]
  },
  {
   "cell_type": "code",
   "execution_count": 97,
   "id": "8067693e-4734-4d37-a9df-dfad2e6af71a",
   "metadata": {},
   "outputs": [],
   "source": [
    "pd.options.display.float_format = '{:.2f}'.format"
   ]
  },
  {
   "cell_type": "code",
   "execution_count": 98,
   "id": "c4878363-afb0-44ab-8299-48f1880aef3d",
   "metadata": {},
   "outputs": [],
   "source": [
    "idf = np.log(len(docs)/doc_freq)"
   ]
  },
  {
   "cell_type": "code",
   "execution_count": 99,
   "id": "8882f0f3-9277-462e-ac9d-71336432807a",
   "metadata": {},
   "outputs": [
    {
     "data": {
      "text/html": [
       "<div>\n",
       "<style scoped>\n",
       "    .dataframe tbody tr th:only-of-type {\n",
       "        vertical-align: middle;\n",
       "    }\n",
       "\n",
       "    .dataframe tbody tr th {\n",
       "        vertical-align: top;\n",
       "    }\n",
       "\n",
       "    .dataframe thead th {\n",
       "        text-align: right;\n",
       "    }\n",
       "</style>\n",
       "<table border=\"1\" class=\"dataframe\">\n",
       "  <thead>\n",
       "    <tr style=\"text-align: right;\">\n",
       "      <th></th>\n",
       "      <th>over</th>\n",
       "      <th>said</th>\n",
       "      <th>meowed</th>\n",
       "      <th>you</th>\n",
       "      <th>cow</th>\n",
       "      <th>not</th>\n",
       "      <th>cat</th>\n",
       "      <th>moon</th>\n",
       "      <th>mooed</th>\n",
       "      <th>hat</th>\n",
       "      <th>jumped</th>\n",
       "    </tr>\n",
       "  </thead>\n",
       "  <tbody>\n",
       "    <tr>\n",
       "      <th>0</th>\n",
       "      <td>1.39</td>\n",
       "      <td>1.39</td>\n",
       "      <td>1.39</td>\n",
       "      <td>1.39</td>\n",
       "      <td>0.29</td>\n",
       "      <td>1.39</td>\n",
       "      <td>0.29</td>\n",
       "      <td>1.39</td>\n",
       "      <td>1.39</td>\n",
       "      <td>1.39</td>\n",
       "      <td>1.39</td>\n",
       "    </tr>\n",
       "  </tbody>\n",
       "</table>\n",
       "</div>"
      ],
      "text/plain": [
       "   over  said  meowed  you  cow  not  cat  moon  mooed  hat  jumped\n",
       "0  1.39  1.39    1.39 1.39 0.29 1.39 0.29  1.39   1.39 1.39    1.39"
      ]
     },
     "execution_count": 99,
     "metadata": {},
     "output_type": "execute_result"
    }
   ],
   "source": [
    "idf"
   ]
  },
  {
   "cell_type": "code",
   "execution_count": null,
   "id": "f05901c8-f35f-4343-87ba-92c5df8ad3a7",
   "metadata": {},
   "outputs": [],
   "source": [
    "TF(Term Frequency) -> 특정 문서에서 특정 단어의 등장수"
   ]
  },
  {
   "cell_type": "code",
   "execution_count": 101,
   "id": "5dd66a4d-5e70-49ee-8627-5bcc7e5adc91",
   "metadata": {},
   "outputs": [
    {
     "data": {
      "text/html": [
       "<div>\n",
       "<style scoped>\n",
       "    .dataframe tbody tr th:only-of-type {\n",
       "        vertical-align: middle;\n",
       "    }\n",
       "\n",
       "    .dataframe tbody tr th {\n",
       "        vertical-align: top;\n",
       "    }\n",
       "\n",
       "    .dataframe thead th {\n",
       "        text-align: right;\n",
       "    }\n",
       "</style>\n",
       "<table border=\"1\" class=\"dataframe\">\n",
       "  <thead>\n",
       "    <tr style=\"text-align: right;\">\n",
       "      <th></th>\n",
       "      <th>over</th>\n",
       "      <th>said</th>\n",
       "      <th>meowed</th>\n",
       "      <th>you</th>\n",
       "      <th>cow</th>\n",
       "      <th>not</th>\n",
       "      <th>cat</th>\n",
       "      <th>moon</th>\n",
       "      <th>mooed</th>\n",
       "      <th>hat</th>\n",
       "      <th>jumped</th>\n",
       "    </tr>\n",
       "  </thead>\n",
       "  <tbody>\n",
       "    <tr>\n",
       "      <th>0</th>\n",
       "      <td>0</td>\n",
       "      <td>0</td>\n",
       "      <td>0</td>\n",
       "      <td>0</td>\n",
       "      <td>0</td>\n",
       "      <td>0</td>\n",
       "      <td>1</td>\n",
       "      <td>0</td>\n",
       "      <td>0</td>\n",
       "      <td>1</td>\n",
       "      <td>0</td>\n",
       "    </tr>\n",
       "    <tr>\n",
       "      <th>1</th>\n",
       "      <td>1</td>\n",
       "      <td>0</td>\n",
       "      <td>0</td>\n",
       "      <td>0</td>\n",
       "      <td>1</td>\n",
       "      <td>0</td>\n",
       "      <td>0</td>\n",
       "      <td>1</td>\n",
       "      <td>0</td>\n",
       "      <td>0</td>\n",
       "      <td>1</td>\n",
       "    </tr>\n",
       "    <tr>\n",
       "      <th>2</th>\n",
       "      <td>0</td>\n",
       "      <td>0</td>\n",
       "      <td>1</td>\n",
       "      <td>0</td>\n",
       "      <td>1</td>\n",
       "      <td>0</td>\n",
       "      <td>1</td>\n",
       "      <td>0</td>\n",
       "      <td>1</td>\n",
       "      <td>0</td>\n",
       "      <td>0</td>\n",
       "    </tr>\n",
       "    <tr>\n",
       "      <th>3</th>\n",
       "      <td>0</td>\n",
       "      <td>1</td>\n",
       "      <td>0</td>\n",
       "      <td>1</td>\n",
       "      <td>2</td>\n",
       "      <td>1</td>\n",
       "      <td>2</td>\n",
       "      <td>0</td>\n",
       "      <td>0</td>\n",
       "      <td>0</td>\n",
       "      <td>0</td>\n",
       "    </tr>\n",
       "  </tbody>\n",
       "</table>\n",
       "</div>"
      ],
      "text/plain": [
       "   over  said  meowed  you  cow  not  cat  moon  mooed  hat  jumped\n",
       "0     0     0       0    0    0    0    1     0      0    1       0\n",
       "1     1     0       0    0    1    0    0     1      0    0       1\n",
       "2     0     0       1    0    1    0    1     0      1    0       0\n",
       "3     0     1       0    1    2    1    2     0      0    0       0"
      ]
     },
     "execution_count": 101,
     "metadata": {},
     "output_type": "execute_result"
    }
   ],
   "source": [
    "wcs"
   ]
  },
  {
   "cell_type": "code",
   "execution_count": 103,
   "id": "001a68d6-580f-473f-910b-063f39d6e67e",
   "metadata": {},
   "outputs": [],
   "source": [
    "tf_idf = wcs * idf.iloc[0]"
   ]
  },
  {
   "cell_type": "code",
   "execution_count": 104,
   "id": "81a64df7-8570-4181-99ab-5f966bb5e1b6",
   "metadata": {},
   "outputs": [
    {
     "data": {
      "text/html": [
       "<div>\n",
       "<style scoped>\n",
       "    .dataframe tbody tr th:only-of-type {\n",
       "        vertical-align: middle;\n",
       "    }\n",
       "\n",
       "    .dataframe tbody tr th {\n",
       "        vertical-align: top;\n",
       "    }\n",
       "\n",
       "    .dataframe thead th {\n",
       "        text-align: right;\n",
       "    }\n",
       "</style>\n",
       "<table border=\"1\" class=\"dataframe\">\n",
       "  <thead>\n",
       "    <tr style=\"text-align: right;\">\n",
       "      <th></th>\n",
       "      <th>over</th>\n",
       "      <th>said</th>\n",
       "      <th>meowed</th>\n",
       "      <th>you</th>\n",
       "      <th>cow</th>\n",
       "      <th>not</th>\n",
       "      <th>cat</th>\n",
       "      <th>moon</th>\n",
       "      <th>mooed</th>\n",
       "      <th>hat</th>\n",
       "      <th>jumped</th>\n",
       "    </tr>\n",
       "  </thead>\n",
       "  <tbody>\n",
       "    <tr>\n",
       "      <th>0</th>\n",
       "      <td>0.00</td>\n",
       "      <td>0.00</td>\n",
       "      <td>0.00</td>\n",
       "      <td>0.00</td>\n",
       "      <td>0.00</td>\n",
       "      <td>0.00</td>\n",
       "      <td>0.29</td>\n",
       "      <td>0.00</td>\n",
       "      <td>0.00</td>\n",
       "      <td>1.39</td>\n",
       "      <td>0.00</td>\n",
       "    </tr>\n",
       "    <tr>\n",
       "      <th>1</th>\n",
       "      <td>1.39</td>\n",
       "      <td>0.00</td>\n",
       "      <td>0.00</td>\n",
       "      <td>0.00</td>\n",
       "      <td>0.29</td>\n",
       "      <td>0.00</td>\n",
       "      <td>0.00</td>\n",
       "      <td>1.39</td>\n",
       "      <td>0.00</td>\n",
       "      <td>0.00</td>\n",
       "      <td>1.39</td>\n",
       "    </tr>\n",
       "    <tr>\n",
       "      <th>2</th>\n",
       "      <td>0.00</td>\n",
       "      <td>0.00</td>\n",
       "      <td>1.39</td>\n",
       "      <td>0.00</td>\n",
       "      <td>0.29</td>\n",
       "      <td>0.00</td>\n",
       "      <td>0.29</td>\n",
       "      <td>0.00</td>\n",
       "      <td>1.39</td>\n",
       "      <td>0.00</td>\n",
       "      <td>0.00</td>\n",
       "    </tr>\n",
       "    <tr>\n",
       "      <th>3</th>\n",
       "      <td>0.00</td>\n",
       "      <td>1.39</td>\n",
       "      <td>0.00</td>\n",
       "      <td>1.39</td>\n",
       "      <td>0.58</td>\n",
       "      <td>1.39</td>\n",
       "      <td>0.58</td>\n",
       "      <td>0.00</td>\n",
       "      <td>0.00</td>\n",
       "      <td>0.00</td>\n",
       "      <td>0.00</td>\n",
       "    </tr>\n",
       "  </tbody>\n",
       "</table>\n",
       "</div>"
      ],
      "text/plain": [
       "   over  said  meowed  you  cow  not  cat  moon  mooed  hat  jumped\n",
       "0  0.00  0.00    0.00 0.00 0.00 0.00 0.29  0.00   0.00 1.39    0.00\n",
       "1  1.39  0.00    0.00 0.00 0.29 0.00 0.00  1.39   0.00 0.00    1.39\n",
       "2  0.00  0.00    1.39 0.00 0.29 0.00 0.29  0.00   1.39 0.00    0.00\n",
       "3  0.00  1.39    0.00 1.39 0.58 1.39 0.58  0.00   0.00 0.00    0.00"
      ]
     },
     "execution_count": 104,
     "metadata": {},
     "output_type": "execute_result"
    }
   ],
   "source": [
    "tf_idf"
   ]
  },
  {
   "cell_type": "code",
   "execution_count": 105,
   "id": "f06c1150-a8ed-47c9-8188-9a10b4f6a52a",
   "metadata": {},
   "outputs": [],
   "source": [
    "from sklearn.preprocessing import Normalizer"
   ]
  },
  {
   "cell_type": "code",
   "execution_count": null,
   "id": "ea7a428d-d80e-46f3-a762-ed8f1797bcaa",
   "metadata": {},
   "outputs": [
    {
     "data": {
      "text/plain": [
       "array([[0.        , 0.        , 0.        , 0.        , 0.        ,\n",
       "        0.        , 0.17185551, 0.        , 0.        , 0.82814449,\n",
       "        0.        ],\n",
       "       [0.31176747, 0.        , 0.        , 0.        , 0.0646976 ,\n",
       "        0.        , 0.        , 0.31176747, 0.        , 0.        ,\n",
       "        0.31176747],\n",
       "       [0.        , 0.        , 0.41407225, 0.        , 0.08592775,\n",
       "        0.        , 0.08592775, 0.        , 0.41407225, 0.        ,\n",
       "        0.        ],\n",
       "       [0.        , 0.26109149, 0.        , 0.26109149, 0.10836276,\n",
       "        0.26109149, 0.10836276, 0.        , 0.        , 0.        ,\n",
       "        0.        ]])"
      ]
     },
     "execution_count": 106,
     "metadata": {},
     "output_type": "execute_result"
    }
   ],
   "source": [
    "Normalizer(norm='l1').fit_transform(tf_idf)"
   ]
  },
  {
   "cell_type": "code",
   "execution_count": 108,
   "id": "3014d827-6f38-4c68-a2fc-5ed65167a91a",
   "metadata": {},
   "outputs": [],
   "source": [
    "from sklearn.feature_extraction.text import TfidfVectorizer"
   ]
  },
  {
   "cell_type": "code",
   "execution_count": 109,
   "id": "410db159-2eb0-49eb-bf94-f4babad71eb0",
   "metadata": {},
   "outputs": [],
   "source": [
    "sparse = TfidfVectorizer(norm ='l1', stop_words='english').fit_transform(docs)"
   ]
  },
  {
   "cell_type": "code",
   "execution_count": 110,
   "id": "b57fecdf-5291-47cc-94be-b4d0e00d322f",
   "metadata": {},
   "outputs": [
    {
     "data": {
      "text/plain": [
       "matrix([[0.38960636, 0.        , 0.61039364, 0.        , 0.        ,\n",
       "         0.        , 0.        , 0.        ],\n",
       "        [0.        , 0.24193237, 0.        , 0.37903381, 0.        ,\n",
       "         0.        , 0.37903381, 0.        ],\n",
       "        [0.19480318, 0.19480318, 0.        , 0.        , 0.30519682,\n",
       "         0.30519682, 0.        , 0.        ],\n",
       "        [0.35927972, 0.35927972, 0.        , 0.        , 0.        ,\n",
       "         0.        , 0.        , 0.28144056]])"
      ]
     },
     "execution_count": 110,
     "metadata": {},
     "output_type": "execute_result"
    }
   ],
   "source": [
    "sparse.todense()"
   ]
  },
  {
   "cell_type": "markdown",
   "id": "f13ff5f6-3048-4bca-a28e-6269818ba2a8",
   "metadata": {},
   "source": [
    "---"
   ]
  },
  {
   "cell_type": "code",
   "execution_count": 112,
   "id": "477ededf-cd4a-4068-93d9-1e82a7a4cc23",
   "metadata": {},
   "outputs": [],
   "source": [
    "from sklearn.datasets import fetch_20newsgroups"
   ]
  },
  {
   "cell_type": "code",
   "execution_count": 114,
   "id": "6ccda063-a5f9-428d-a6af-0a8a93d0ab05",
   "metadata": {},
   "outputs": [],
   "source": [
    "twenty_train = fetch_20newsgroups(subset='train',\n",
    "                                 shuffle=True,\n",
    "                                 random_state=0)"
   ]
  },
  {
   "cell_type": "code",
   "execution_count": 116,
   "id": "d3784f2a-4689-441f-ae8d-68b76f05bb60",
   "metadata": {},
   "outputs": [
    {
     "data": {
      "text/plain": [
       "20"
      ]
     },
     "execution_count": 116,
     "metadata": {},
     "output_type": "execute_result"
    }
   ],
   "source": [
    "len(twenty_train.target_names)"
   ]
  },
  {
   "cell_type": "code",
   "execution_count": 118,
   "id": "f29b0f02-a958-4855-b6a5-ab51e2be775b",
   "metadata": {},
   "outputs": [],
   "source": [
    "from collections import Counter"
   ]
  },
  {
   "cell_type": "code",
   "execution_count": 119,
   "id": "afa198d0-33aa-4cff-a4c9-4597f94c019e",
   "metadata": {},
   "outputs": [
    {
     "data": {
      "text/plain": [
       "Counter({15: 599,\n",
       "         13: 594,\n",
       "         10: 600,\n",
       "         12: 591,\n",
       "         7: 594,\n",
       "         1: 584,\n",
       "         5: 593,\n",
       "         4: 578,\n",
       "         3: 590,\n",
       "         17: 564,\n",
       "         2: 591,\n",
       "         8: 598,\n",
       "         16: 546,\n",
       "         9: 597,\n",
       "         6: 585,\n",
       "         11: 595,\n",
       "         18: 465,\n",
       "         14: 593,\n",
       "         0: 480,\n",
       "         19: 377})"
      ]
     },
     "execution_count": 119,
     "metadata": {},
     "output_type": "execute_result"
    }
   ],
   "source": [
    "Counter(twenty_train.target)"
   ]
  },
  {
   "cell_type": "code",
   "execution_count": 121,
   "id": "ef44e0f2-457f-44e5-8d6e-c42390359ae8",
   "metadata": {},
   "outputs": [
    {
     "data": {
      "text/plain": [
       "'From: kbanner@philae.sas.upenn.edu (Ken Banner)\\nSubject: Re: SATANIC TOUNGES\\nOrganization: University of Pennsylvania\\nLines: 51\\n\\nIn article <May.5.02.53.10.1993.28880@athos.rutgers.edu> koberg@spot.Colorado.EDU (Allen Koberg) writes:\\n\\n>.....................................................There is dis-\\n>crepancy even among charismatic organizations as to the proper use\\n>of tongues.  Be it revelatory with interpretation, for prayer use,\\n>or for signifying believers (which I doubt since any one can do it).\\n>Pentecostals (Assembly of God, Church of Christ), seem to espouse all\\n>three.  Neo-pentecostals tend to view prayer use and as a sign as the\\n>uses.  Speaking in tongues during a service is not usually done by\\n>neo-pentecostals because for the most part, they still attend Protestant\\n>churches.  Non-denominational churches seem to view the use as a sign\\n>as merely optional, but recommended.\\n\\nKoberg,\\n\\n\\tJust a couple of minor corrections here...\\n\\n\\t1)  The Churches of Christ do not usually believe in speaking in\\ntongues, in fact many of them are known for being strongly opposed to\\nPentecostal teaching.  You are probably thinking of Church of God in\\nChrist, the largest African-American Pentecostal denomination.\\n\\n\\t2)  I\\'m not sure what you mean by \"signifying believers\"  but it\\nshould be pointed out that the Assemblies of God does not now, nor has it\\never, held that speaking in tongues is the sign that one is a Christian. \\nThe doctrine that traditional Pentecostals (including the A/G) maintain is\\nthat speaking in tongues is the sign of a second experience after becoming\\na Christian in which one is \"Baptized in the Holy Spirit\"  That may be\\nwhat you were referring to, but I point this out because Pentecostals are\\nfrequently labeled as believing that you have to speak in tongues in order\\nto be a Christian.  Such a position is only held by some groups and not the\\nmajority of Pentecostals.   Many Pentecostals will quote the passage in\\nMark 16 about \"these signs following them that believe\" but they generally\\ndo not interpret this as meaning if you don\\'t pactice the signs you aren\\'t\\n\"saved\".\\n\\n\\t3)  I know it\\'s hard to summarize the beliefs of a movement that\\nhas such diversity, but I think you\\'ve made some pretty big\\ngeneralizations here.  Do \"Neo-Pentecostals\" only believe in tongues as a\\nsign and tongues as prayer but NOT tongues as revelatory with a message? \\nI\\'ve never heard of that before.  In fact I would have characterized them\\nas believing the same as Pentecostals except less likely to see tongues as\\na sign of Spirit Baptism.  Also, while neo-Pentecostals may not be\\ninclined to speak in tongues in the non-Pentecostal churches they attend,\\nthey do have their own meetings and, in many cases, a whole church will be\\ncharismatic.\\n\\nKen Banner\\nDept. of Religious Studies\\nUniversity of Pennsylvania\\nkbanner@philae.sas.upenn.edu \\n'"
      ]
     },
     "execution_count": 121,
     "metadata": {},
     "output_type": "execute_result"
    }
   ],
   "source": [
    "twenty_train.data[0]"
   ]
  },
  {
   "cell_type": "code",
   "execution_count": 123,
   "id": "15ef83b6-5916-4b7c-9ffe-8c9c9932120b",
   "metadata": {
    "tags": []
   },
   "outputs": [
    {
     "name": "stdout",
     "output_type": "stream",
     "text": [
      "From: kbanner@philae.sas.upenn.edu (Ken Banner)\n",
      "Subject: Re: SATANIC TOUNGES\n",
      "Organization: University of Pennsylvania\n",
      "Lines: 51\n",
      "\n",
      "In article <May.5.02.53.10.1993.28880@athos.rutgers.edu> koberg@spot.Colorado.EDU (Allen Koberg) writes:\n",
      "\n",
      ">.....................................................There is dis-\n",
      ">crepancy even among charismatic organizations as to the proper use\n",
      ">of tongues.  Be it revelatory with interpretation, for prayer use,\n",
      ">or for signifying believers (which I doubt since any one can do it).\n",
      ">Pentecostals (Assembly of God, Church of Christ), seem to espouse all\n",
      ">three.  Neo-pentecostals tend to view prayer use and as a sign as the\n",
      ">uses.  Speaking in tongues during a service is not usually done by\n",
      ">neo-pentecostals because for the most part, they still attend Protestant\n",
      ">churches.  Non-denominational churches seem to view the use as a sign\n",
      ">as merely optional, but recommended.\n",
      "\n",
      "Koberg,\n",
      "\n",
      "\tJust a couple of minor corrections here...\n",
      "\n",
      "\t1)  The Churches of Christ do not usually believe in speaking in\n",
      "tongues, in fact many of them are known for being strongly opposed to\n",
      "Pentecostal teaching.  You are probably thinking of Church of God in\n",
      "Christ, the largest African-American Pentecostal denomination.\n",
      "\n",
      "\t2)  I'm not sure what you mean by \"signifying believers\"  but it\n",
      "should be pointed out that the Assemblies of God does not now, nor has it\n",
      "ever, held that speaking in tongues is the sign that one is a Christian. \n",
      "The doctrine that traditional Pentecostals (including the A/G) maintain is\n",
      "that speaking in tongues is the sign of a second experience after becoming\n",
      "a Christian in which one is \"Baptized in the Holy Spirit\"  That may be\n",
      "what you were referring to, but I point this out because Pentecostals are\n",
      "frequently labeled as believing that you have to speak in tongues in order\n",
      "to be a Christian.  Such a position is only held by some groups and not the\n",
      "majority of Pentecostals.   Many Pentecostals will quote the passage in\n",
      "Mark 16 about \"these signs following them that believe\" but they generally\n",
      "do not interpret this as meaning if you don't pactice the signs you aren't\n",
      "\"saved\".\n",
      "\n",
      "\t3)  I know it's hard to summarize the beliefs of a movement that\n",
      "has such diversity, but I think you've made some pretty big\n",
      "generalizations here.  Do \"Neo-Pentecostals\" only believe in tongues as a\n",
      "sign and tongues as prayer but NOT tongues as revelatory with a message? \n",
      "I've never heard of that before.  In fact I would have characterized them\n",
      "as believing the same as Pentecostals except less likely to see tongues as\n",
      "a sign of Spirit Baptism.  Also, while neo-Pentecostals may not be\n",
      "inclined to speak in tongues in the non-Pentecostal churches they attend,\n",
      "they do have their own meetings and, in many cases, a whole church will be\n",
      "charismatic.\n",
      "\n",
      "Ken Banner\n",
      "Dept. of Religious Studies\n",
      "University of Pennsylvania\n",
      "kbanner@philae.sas.upenn.edu \n",
      "\n"
     ]
    }
   ],
   "source": [
    "print('\\n'.join(twenty_train.data[0].split('\\n')))"
   ]
  },
  {
   "cell_type": "code",
   "execution_count": 127,
   "id": "de6ccdc4-29bd-46b5-85f3-6fdcb10f4f60",
   "metadata": {},
   "outputs": [
    {
     "data": {
      "text/plain": [
       "'soc.religion.christian'"
      ]
     },
     "execution_count": 127,
     "metadata": {},
     "output_type": "execute_result"
    }
   ],
   "source": [
    "twenty_train.target_names[15]"
   ]
  },
  {
   "cell_type": "markdown",
   "id": "9fd1042f-42c1-4d0f-84b2-935d3f14624b",
   "metadata": {},
   "source": [
    "### pipeline - tf/idf -> randomforest"
   ]
  },
  {
   "cell_type": "code",
   "execution_count": 131,
   "id": "cf27fe7e-36b0-40f4-a4f2-34953d507392",
   "metadata": {},
   "outputs": [],
   "source": [
    "from sklearn.pipeline import make_pipeline"
   ]
  },
  {
   "cell_type": "code",
   "execution_count": 134,
   "id": "27e75b07-84ae-46fd-a083-4563feb2d28e",
   "metadata": {},
   "outputs": [],
   "source": [
    "from sklearn.ensemble import RandomForestClassifier"
   ]
  },
  {
   "cell_type": "code",
   "execution_count": 128,
   "id": "2c5be8ff-718d-4c62-b7d9-17e068420ee4",
   "metadata": {},
   "outputs": [],
   "source": [
    "# tf_data = TfidfVectorizer(norm ='l1', stop_words='english').fit_transform(twenty_train)"
   ]
  },
  {
   "cell_type": "code",
   "execution_count": 135,
   "id": "4ac54ca4-a8bf-4036-8073-d553e163555d",
   "metadata": {},
   "outputs": [],
   "source": [
    "pipe = make_pipeline(TfidfVectorizer(norm ='l1', stop_words='english'), RandomForestClassifier())"
   ]
  },
  {
   "cell_type": "code",
   "execution_count": 136,
   "id": "7088b633-1b1e-4552-9022-500e67ce7009",
   "metadata": {},
   "outputs": [],
   "source": [
    "twenty_test = fetch_20newsgroups(subset='test',\n",
    "                                 shuffle=True,\n",
    "                                 random_state=0)"
   ]
  },
  {
   "cell_type": "code",
   "execution_count": 137,
   "id": "61bad884-b65a-4fae-95fe-2de6c35f6652",
   "metadata": {},
   "outputs": [
    {
     "data": {
      "text/plain": [
       "Pipeline(steps=[('tfidfvectorizer',\n",
       "                 TfidfVectorizer(norm='l1', stop_words='english')),\n",
       "                ('randomforestclassifier', RandomForestClassifier())])"
      ]
     },
     "execution_count": 137,
     "metadata": {},
     "output_type": "execute_result"
    }
   ],
   "source": [
    "pipe.fit(twenty_train.data, twenty_train.target)"
   ]
  },
  {
   "cell_type": "code",
   "execution_count": 138,
   "id": "85c21f6b-d02f-4060-940c-6edd3038c6e9",
   "metadata": {},
   "outputs": [
    {
     "data": {
      "text/plain": [
       "0.9999116139296447"
      ]
     },
     "execution_count": 138,
     "metadata": {},
     "output_type": "execute_result"
    }
   ],
   "source": [
    "pipe.score(twenty_train.data, twenty_train.target)"
   ]
  },
  {
   "cell_type": "code",
   "execution_count": 139,
   "id": "a5497686-9663-4012-a5f1-82bb4d362043",
   "metadata": {},
   "outputs": [
    {
     "data": {
      "text/plain": [
       "0.7833244822092406"
      ]
     },
     "execution_count": 139,
     "metadata": {},
     "output_type": "execute_result"
    }
   ],
   "source": [
    "pipe.score(twenty_test.data, twenty_test.target)"
   ]
  },
  {
   "cell_type": "code",
   "execution_count": 142,
   "id": "a3e220ce-f111-4cf7-bf1b-345c69f47f11",
   "metadata": {},
   "outputs": [],
   "source": [
    "pred = pipe.predict(twenty_test.data)"
   ]
  },
  {
   "cell_type": "code",
   "execution_count": null,
   "id": "6d68b01d-a2fe-43ae-8524-57ca20e3e05f",
   "metadata": {},
   "outputs": [],
   "source": []
  },
  {
   "cell_type": "code",
   "execution_count": 140,
   "id": "4aa1333c-9ac8-421d-95b3-c873b9b67d7e",
   "metadata": {},
   "outputs": [],
   "source": [
    "from sklearn.metrics import f1_score"
   ]
  },
  {
   "cell_type": "code",
   "execution_count": 143,
   "id": "d7a26bcc-4eb4-4a8e-bb20-22bdd1f13933",
   "metadata": {},
   "outputs": [
    {
     "data": {
      "text/plain": [
       "0.770051783650864"
      ]
     },
     "execution_count": 143,
     "metadata": {},
     "output_type": "execute_result"
    }
   ],
   "source": [
    "f1_score(twenty_test.target, pred, average = 'macro')"
   ]
  },
  {
   "cell_type": "code",
   "execution_count": null,
   "id": "17e381ea-a7da-42bb-84ca-0da8c8e2d3c3",
   "metadata": {},
   "outputs": [],
   "source": [
    "pipe2 = make_pipeline(TfidfVectorizer(norm "
   ]
  },
  {
   "cell_type": "code",
   "execution_count": 144,
   "id": "1619fb5c-13ce-4720-95e3-fc77b270f142",
   "metadata": {},
   "outputs": [],
   "source": [
    "from sklearn.model_selection import GridSearchCV"
   ]
  },
  {
   "cell_type": "code",
   "execution_count": null,
   "id": "11c3ea0b-63df-47a5-9cf7-2c60857f0be5",
   "metadata": {},
   "outputs": [],
   "source": [
    "param_grid = {'tfidfvectorizer__norm': ['l1', 'l2']}"
   ]
  },
  {
   "cell_type": "code",
   "execution_count": null,
   "id": "ab1d77f4-fe76-4be1-802b-96054d5c1dfe",
   "metadata": {},
   "outputs": [],
   "source": []
  },
  {
   "cell_type": "code",
   "execution_count": null,
   "id": "567d3fbf-d9d1-40f7-b96d-0a8356a8d787",
   "metadata": {},
   "outputs": [],
   "source": []
  },
  {
   "cell_type": "code",
   "execution_count": 146,
   "id": "b2f74969-4cdf-4270-bac9-b816d21d6be7",
   "metadata": {},
   "outputs": [],
   "source": [
    "pipe1 = make_pipeline(TfidfVectorizer(), RandomForestClassifier())"
   ]
  },
  {
   "cell_type": "code",
   "execution_count": 147,
   "id": "ee40e92f-bfd4-420b-b7f8-7b8f6c19a472",
   "metadata": {},
   "outputs": [
    {
     "data": {
      "text/plain": [
       "Pipeline(steps=[('tfidfvectorizer', TfidfVectorizer()),\n",
       "                ('randomforestclassifier', RandomForestClassifier())])"
      ]
     },
     "execution_count": 147,
     "metadata": {},
     "output_type": "execute_result"
    }
   ],
   "source": [
    "pipe1.fit(twenty_train.data, twenty_train.target)"
   ]
  },
  {
   "cell_type": "code",
   "execution_count": 148,
   "id": "bd72e6d5-54a9-4120-939b-0281f69b0828",
   "metadata": {},
   "outputs": [
    {
     "data": {
      "text/plain": [
       "0.7578332448220924"
      ]
     },
     "execution_count": 148,
     "metadata": {},
     "output_type": "execute_result"
    }
   ],
   "source": [
    "pipe1.score(twenty_test.data, twenty_test.target)"
   ]
  },
  {
   "cell_type": "code",
   "execution_count": 149,
   "id": "9b1df29e-2729-4ad1-a284-3c3c39b07cbd",
   "metadata": {},
   "outputs": [],
   "source": [
    "pred1 = pipe1.predict(twenty_test.data)"
   ]
  },
  {
   "cell_type": "code",
   "execution_count": 150,
   "id": "1ee1c78b-c4be-4689-b484-b969ce742916",
   "metadata": {},
   "outputs": [
    {
     "data": {
      "text/plain": [
       "0.7429433272057127"
      ]
     },
     "execution_count": 150,
     "metadata": {},
     "output_type": "execute_result"
    }
   ],
   "source": [
    "f1_score(twenty_test.target, pred1, average = 'macro')"
   ]
  },
  {
   "cell_type": "code",
   "execution_count": 152,
   "id": "38fa7952-d222-43cd-80ba-e73b196d3940",
   "metadata": {},
   "outputs": [],
   "source": [
    "param_grid = {'randomforestclassifier__criterion': ['gini', 'entropy', 'log_loss'],\n",
    "              'randomforestclassifier__max_features': ['sqrt', 'log2'],\n",
    "              'randomforestclassifier__class_weight': ['balanced', 'balanced_subsample'],\n",
    "              'tfidfvectorizer__norm' : ['l1', 'l2']}"
   ]
  },
  {
   "cell_type": "code",
   "execution_count": 155,
   "id": "261d339f-da2e-46f7-bae1-7f322da132e8",
   "metadata": {},
   "outputs": [],
   "source": [
    "grid_model = GridSearchCV(pipe1, param_grid, verbose = 1, n_jobs=-1)"
   ]
  },
  {
   "cell_type": "code",
   "execution_count": 156,
   "id": "fde6d979-86b3-4bd9-bd61-63d44758d726",
   "metadata": {
    "tags": []
   },
   "outputs": [
    {
     "name": "stdout",
     "output_type": "stream",
     "text": [
      "Fitting 5 folds for each of 24 candidates, totalling 120 fits\n"
     ]
    },
    {
     "name": "stderr",
     "output_type": "stream",
     "text": [
      "C:\\Users\\user\\anaconda3\\lib\\site-packages\\sklearn\\model_selection\\_validation.py:372: FitFailedWarning: \n",
      "40 fits failed out of a total of 120.\n",
      "The score on these train-test partitions for these parameters will be set to nan.\n",
      "If these failures are not expected, you can try to debug them by setting error_score='raise'.\n",
      "\n",
      "Below are more details about the failures:\n",
      "--------------------------------------------------------------------------------\n",
      "40 fits failed with the following error:\n",
      "Traceback (most recent call last):\n",
      "  File \"C:\\Users\\user\\anaconda3\\lib\\site-packages\\sklearn\\model_selection\\_validation.py\", line 680, in _fit_and_score\n",
      "    estimator.fit(X_train, y_train, **fit_params)\n",
      "  File \"C:\\Users\\user\\anaconda3\\lib\\site-packages\\sklearn\\pipeline.py\", line 394, in fit\n",
      "    self._final_estimator.fit(Xt, y, **fit_params_last_step)\n",
      "  File \"C:\\Users\\user\\anaconda3\\lib\\site-packages\\sklearn\\ensemble\\_forest.py\", line 450, in fit\n",
      "    trees = Parallel(\n",
      "  File \"C:\\Users\\user\\anaconda3\\lib\\site-packages\\joblib\\parallel.py\", line 1043, in __call__\n",
      "    if self.dispatch_one_batch(iterator):\n",
      "  File \"C:\\Users\\user\\anaconda3\\lib\\site-packages\\joblib\\parallel.py\", line 861, in dispatch_one_batch\n",
      "    self._dispatch(tasks)\n",
      "  File \"C:\\Users\\user\\anaconda3\\lib\\site-packages\\joblib\\parallel.py\", line 779, in _dispatch\n",
      "    job = self._backend.apply_async(batch, callback=cb)\n",
      "  File \"C:\\Users\\user\\anaconda3\\lib\\site-packages\\joblib\\_parallel_backends.py\", line 208, in apply_async\n",
      "    result = ImmediateResult(func)\n",
      "  File \"C:\\Users\\user\\anaconda3\\lib\\site-packages\\joblib\\_parallel_backends.py\", line 572, in __init__\n",
      "    self.results = batch()\n",
      "  File \"C:\\Users\\user\\anaconda3\\lib\\site-packages\\joblib\\parallel.py\", line 262, in __call__\n",
      "    return [func(*args, **kwargs)\n",
      "  File \"C:\\Users\\user\\anaconda3\\lib\\site-packages\\joblib\\parallel.py\", line 262, in <listcomp>\n",
      "    return [func(*args, **kwargs)\n",
      "  File \"C:\\Users\\user\\anaconda3\\lib\\site-packages\\sklearn\\utils\\fixes.py\", line 216, in __call__\n",
      "    return self.function(*args, **kwargs)\n",
      "  File \"C:\\Users\\user\\anaconda3\\lib\\site-packages\\sklearn\\ensemble\\_forest.py\", line 185, in _parallel_build_trees\n",
      "    tree.fit(X, y, sample_weight=curr_sample_weight, check_input=False)\n",
      "  File \"C:\\Users\\user\\anaconda3\\lib\\site-packages\\sklearn\\tree\\_classes.py\", line 937, in fit\n",
      "    super().fit(\n",
      "  File \"C:\\Users\\user\\anaconda3\\lib\\site-packages\\sklearn\\tree\\_classes.py\", line 352, in fit\n",
      "    criterion = CRITERIA_CLF[self.criterion](\n",
      "KeyError: 'log_loss'\n",
      "\n",
      "  warnings.warn(some_fits_failed_message, FitFailedWarning)\n",
      "C:\\Users\\user\\anaconda3\\lib\\site-packages\\sklearn\\model_selection\\_search.py:969: UserWarning: One or more of the test scores are non-finite: [0.8350714  0.83904905 0.83233089 0.83683932 0.74032178 0.73970305\n",
      " 0.79945223 0.80510887        nan        nan        nan        nan\n",
      " 0.8348063  0.83542476 0.83082889 0.83789958 0.73837765 0.73501877\n",
      " 0.80236887 0.80342952        nan        nan        nan        nan]\n",
      "  warnings.warn(\n"
     ]
    },
    {
     "data": {
      "text/plain": [
       "GridSearchCV(estimator=Pipeline(steps=[('tfidfvectorizer', TfidfVectorizer()),\n",
       "                                       ('randomforestclassifier',\n",
       "                                        RandomForestClassifier())]),\n",
       "             n_jobs=-1,\n",
       "             param_grid={'randomforestclassifier__class_weight': ['balanced',\n",
       "                                                                  'balanced_subsample'],\n",
       "                         'randomforestclassifier__criterion': ['gini',\n",
       "                                                               'entropy',\n",
       "                                                               'log_loss'],\n",
       "                         'randomforestclassifier__max_features': ['sqrt',\n",
       "                                                                  'log2'],\n",
       "                         'tfidfvectorizer__norm': ['l1', 'l2']},\n",
       "             verbose=1)"
      ]
     },
     "execution_count": 156,
     "metadata": {},
     "output_type": "execute_result"
    }
   ],
   "source": [
    "grid_model.fit(twenty_train.data, twenty_train.target)"
   ]
  },
  {
   "cell_type": "code",
   "execution_count": 157,
   "id": "f6d6a52f-f8a3-44ed-b348-9938cf5068b9",
   "metadata": {
    "tags": []
   },
   "outputs": [
    {
     "data": {
      "text/plain": [
       "Pipeline(steps=[('tfidfvectorizer', TfidfVectorizer()),\n",
       "                ('randomforestclassifier',\n",
       "                 RandomForestClassifier(class_weight='balanced',\n",
       "                                        max_features='sqrt'))])"
      ]
     },
     "execution_count": 157,
     "metadata": {},
     "output_type": "execute_result"
    }
   ],
   "source": [
    "grid_model.best_estimator_"
   ]
  },
  {
   "cell_type": "code",
   "execution_count": 158,
   "id": "de2a3066-bf9c-4859-bbef-4705033e2e6e",
   "metadata": {},
   "outputs": [
    {
     "data": {
      "text/plain": [
       "0.8390490468080485"
      ]
     },
     "execution_count": 158,
     "metadata": {},
     "output_type": "execute_result"
    }
   ],
   "source": [
    "grid_model.best_score_"
   ]
  },
  {
   "cell_type": "code",
   "execution_count": null,
   "id": "2ca5d7bc-26a6-49e6-b0ef-9668d85d89d9",
   "metadata": {},
   "outputs": [],
   "source": []
  }
 ],
 "metadata": {
  "kernelspec": {
   "display_name": "Python 3 (ipykernel)",
   "language": "python",
   "name": "python3"
  },
  "language_info": {
   "codemirror_mode": {
    "name": "ipython",
    "version": 3
   },
   "file_extension": ".py",
   "mimetype": "text/x-python",
   "name": "python",
   "nbconvert_exporter": "python",
   "pygments_lexer": "ipython3",
   "version": "3.9.12"
  }
 },
 "nbformat": 4,
 "nbformat_minor": 5
}
