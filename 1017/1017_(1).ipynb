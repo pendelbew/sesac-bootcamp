{
 "cells": [
  {
   "cell_type": "markdown",
   "id": "3261e19d-e391-4309-8bbb-32e607851423",
   "metadata": {
    "tags": []
   },
   "source": [
    "### 변수"
   ]
  },
  {
   "cell_type": "code",
   "execution_count": 1,
   "id": "1676ad54-2777-4a7d-8935-33cdf00925b7",
   "metadata": {},
   "outputs": [],
   "source": [
    "a = 1"
   ]
  },
  {
   "cell_type": "code",
   "execution_count": 2,
   "id": "339f99d0-1980-4d08-8829-6f5a1226f754",
   "metadata": {},
   "outputs": [],
   "source": [
    "a = 'a'"
   ]
  },
  {
   "cell_type": "markdown",
   "id": "62f7a06c-afba-46d9-9520-62b9ebe28d30",
   "metadata": {},
   "source": [
    "변수명은 상대방도 알아볼 수 있게 정할 것."
   ]
  },
  {
   "cell_type": "code",
   "execution_count": 3,
   "id": "fe05fb8e-4e97-43e4-87a5-7dfaf9c7633b",
   "metadata": {},
   "outputs": [],
   "source": [
    "name = 'songhwa'"
   ]
  },
  {
   "cell_type": "code",
   "execution_count": 4,
   "id": "d11719fa-c566-4e93-8210-9dd7867f873e",
   "metadata": {},
   "outputs": [
    {
     "data": {
      "text/plain": [
       "'songhwa'"
      ]
     },
     "execution_count": 4,
     "metadata": {},
     "output_type": "execute_result"
    }
   ],
   "source": [
    "name"
   ]
  },
  {
   "cell_type": "code",
   "execution_count": 5,
   "id": "340cb000-6b3a-47dd-9d01-579aedf3205e",
   "metadata": {},
   "outputs": [],
   "source": [
    "이름 = '송화'"
   ]
  },
  {
   "cell_type": "code",
   "execution_count": 6,
   "id": "a9abda09-2c70-40eb-b9ec-707bcac879e2",
   "metadata": {},
   "outputs": [
    {
     "data": {
      "text/plain": [
       "'송화'"
      ]
     },
     "execution_count": 6,
     "metadata": {},
     "output_type": "execute_result"
    }
   ],
   "source": [
    "이름"
   ]
  },
  {
   "cell_type": "markdown",
   "id": "ab373643-473a-4e47-8978-4a31af802199",
   "metadata": {},
   "source": [
    "변수명은 한글로 쓰는 것이 가능함. 하지만 영문으로 쓰는 것이 좋음."
   ]
  },
  {
   "cell_type": "code",
   "execution_count": 8,
   "id": "dc4c46d9-fc51-41e5-8bc7-901b763cbe7f",
   "metadata": {},
   "outputs": [
    {
     "ename": "NameError",
     "evalue": "name 'nAme' is not defined",
     "output_type": "error",
     "traceback": [
      "\u001b[1;31m---------------------------------------------------------------------------\u001b[0m",
      "\u001b[1;31mNameError\u001b[0m                                 Traceback (most recent call last)",
      "Input \u001b[1;32mIn [8]\u001b[0m, in \u001b[0;36m<cell line: 1>\u001b[1;34m()\u001b[0m\n\u001b[1;32m----> 1\u001b[0m \u001b[43mnAme\u001b[49m\n",
      "\u001b[1;31mNameError\u001b[0m: name 'nAme' is not defined"
     ]
    }
   ],
   "source": [
    "nAme"
   ]
  },
  {
   "cell_type": "markdown",
   "id": "3d0a6e5c-6c55-41c2-9628-d4a473034e50",
   "metadata": {},
   "source": [
    "파이썬은 대소문자를 구분한다. 대소문자 구분 확실히 해야 함."
   ]
  },
  {
   "cell_type": "code",
   "execution_count": 9,
   "id": "79d0a4ba-16c5-45b5-be42-a205ea502afc",
   "metadata": {},
   "outputs": [],
   "source": [
    "name1 = '감자'"
   ]
  },
  {
   "cell_type": "code",
   "execution_count": 10,
   "id": "61b8728d-8b5d-42f6-99a1-19f2ec641fa3",
   "metadata": {},
   "outputs": [
    {
     "data": {
      "text/plain": [
       "'감자'"
      ]
     },
     "execution_count": 10,
     "metadata": {},
     "output_type": "execute_result"
    }
   ],
   "source": [
    "name1"
   ]
  },
  {
   "cell_type": "code",
   "execution_count": 11,
   "id": "db0f5d33-3bd1-4f5e-804f-902a8711792e",
   "metadata": {},
   "outputs": [
    {
     "ename": "SyntaxError",
     "evalue": "invalid syntax (1605506971.py, line 1)",
     "output_type": "error",
     "traceback": [
      "\u001b[1;36m  Input \u001b[1;32mIn [11]\u001b[1;36m\u001b[0m\n\u001b[1;33m    1name = '토마토'\u001b[0m\n\u001b[1;37m     ^\u001b[0m\n\u001b[1;31mSyntaxError\u001b[0m\u001b[1;31m:\u001b[0m invalid syntax\n"
     ]
    }
   ],
   "source": [
    "1name = '토마토'"
   ]
  },
  {
   "cell_type": "markdown",
   "id": "07d3d1c0-28aa-4a0b-891a-2ae031c06e4e",
   "metadata": {},
   "source": [
    "변수명은 숫자를 포함할 수 있지만 숫자로 시작해서는 안된다."
   ]
  },
  {
   "cell_type": "markdown",
   "id": "85c54f72-88c4-490f-866b-e7a86a5f9bb6",
   "metadata": {},
   "source": [
    "### 기본적인 데이터 종류\n",
    "- 숫자형\n",
    "- 문자형\n",
    "- bool (true/faluse)"
   ]
  },
  {
   "cell_type": "markdown",
   "id": "392f26f3-7491-48d2-b358-6e6c9b7aa197",
   "metadata": {
    "tags": []
   },
   "source": [
    "### 숫자형"
   ]
  },
  {
   "cell_type": "code",
   "execution_count": null,
   "id": "940869b1-c627-497f-9edf-02af30818fd3",
   "metadata": {},
   "outputs": [],
   "source": [
    "123 #int"
   ]
  },
  {
   "cell_type": "code",
   "execution_count": null,
   "id": "8329ce92-85b7-4b6e-900d-5f5b128bc95f",
   "metadata": {},
   "outputs": [],
   "source": [
    "1.1 #float"
   ]
  },
  {
   "cell_type": "code",
   "execution_count": 12,
   "id": "53ce335e-35ee-43ed-bd33-feb5cf8a8b27",
   "metadata": {},
   "outputs": [],
   "source": [
    "num1 = 123"
   ]
  },
  {
   "cell_type": "code",
   "execution_count": 1,
   "id": "1465f834-0e90-4b7f-afde-f6f3d9e2dfd3",
   "metadata": {},
   "outputs": [],
   "source": [
    "num2 = 1.6"
   ]
  },
  {
   "cell_type": "code",
   "execution_count": 14,
   "id": "981e74ea-1ca8-49b1-a018-a74d9f4f28cf",
   "metadata": {},
   "outputs": [
    {
     "data": {
      "text/plain": [
       "123"
      ]
     },
     "execution_count": 14,
     "metadata": {},
     "output_type": "execute_result"
    }
   ],
   "source": [
    "num1"
   ]
  },
  {
   "cell_type": "code",
   "execution_count": 17,
   "id": "25625b8a-d530-440f-8434-64fcbd3e5a29",
   "metadata": {},
   "outputs": [
    {
     "data": {
      "text/plain": [
       "int"
      ]
     },
     "execution_count": 17,
     "metadata": {},
     "output_type": "execute_result"
    }
   ],
   "source": [
    "type(num1) #type 확인 중요함 "
   ]
  },
  {
   "cell_type": "code",
   "execution_count": 20,
   "id": "25367341-1342-482c-8f8e-c2a2ea373757",
   "metadata": {},
   "outputs": [],
   "source": [
    "#int 와 float 간 변환 (형 변환)"
   ]
  },
  {
   "cell_type": "code",
   "execution_count": 2,
   "id": "f0d700b2-3be3-4214-b2d2-e4d89b7bfa2c",
   "metadata": {},
   "outputs": [
    {
     "data": {
      "text/plain": [
       "1"
      ]
     },
     "execution_count": 2,
     "metadata": {},
     "output_type": "execute_result"
    }
   ],
   "source": [
    "int(num2)"
   ]
  },
  {
   "cell_type": "code",
   "execution_count": 22,
   "id": "f3c3013f-eb5e-413b-a5c2-47ada5aed6e0",
   "metadata": {},
   "outputs": [
    {
     "data": {
      "text/plain": [
       "123.0"
      ]
     },
     "execution_count": 22,
     "metadata": {},
     "output_type": "execute_result"
    }
   ],
   "source": [
    "float(num1)"
   ]
  },
  {
   "cell_type": "markdown",
   "id": "898b2dc4-867a-4b34-98b4-1e7c6de612a3",
   "metadata": {},
   "source": [
    "##### 사칙연산\n",
    "- +\n",
    "- -\n",
    "- *\n",
    "- / (0으로는 나눌 수 없다. (division by zero))\n",
    "- // (몫)\n",
    "- % (나머지)\n",
    "- ** (제곱)"
   ]
  },
  {
   "cell_type": "markdown",
   "id": "a943c307-482f-460a-ae85-801df2dc5383",
   "metadata": {
    "jp-MarkdownHeadingCollapsed": true,
    "tags": []
   },
   "source": [
    "#### quiz\n",
    "\n",
    "1. 57, 84, 93, 58, 67의 평균을 구하시오.\n",
    "2. 5188531 초를 시간, 분, 초 단위로 변환하시오. -> X시간 X분 X초 형태로...\n",
    "3. 2의 100제곱을 7로 나눈 몫과 나머지를 구하시오."
   ]
  },
  {
   "cell_type": "code",
   "execution_count": 23,
   "id": "238e4f38-410e-4b4d-afca-1bb73c447416",
   "metadata": {},
   "outputs": [
    {
     "data": {
      "text/plain": [
       "71.8"
      ]
     },
     "execution_count": 23,
     "metadata": {},
     "output_type": "execute_result"
    }
   ],
   "source": [
    "(57+84+93+58+67)/5 #평균값"
   ]
  },
  {
   "cell_type": "markdown",
   "id": "e0852214-4aaf-4f42-b89a-c01f77e56ed8",
   "metadata": {},
   "source": [
    "----------------------------------------------------------"
   ]
  },
  {
   "cell_type": "code",
   "execution_count": 34,
   "id": "34e1b851-44e3-4048-b014-2b9ea1b8a22d",
   "metadata": {},
   "outputs": [],
   "source": [
    "a = 5188531//3600"
   ]
  },
  {
   "cell_type": "code",
   "execution_count": 29,
   "id": "93af15fe-b2c8-4d64-8cbf-cac2303962c1",
   "metadata": {},
   "outputs": [
    {
     "data": {
      "text/plain": [
       "931"
      ]
     },
     "execution_count": 29,
     "metadata": {},
     "output_type": "execute_result"
    }
   ],
   "source": [
    "5188531 - (3600*1441)"
   ]
  },
  {
   "cell_type": "code",
   "execution_count": 79,
   "id": "6addb980-1004-450b-8705-7b309cb59513",
   "metadata": {},
   "outputs": [
    {
     "data": {
      "text/plain": [
       "931"
      ]
     },
     "execution_count": 79,
     "metadata": {},
     "output_type": "execute_result"
    }
   ],
   "source": [
    "5188531 % 3600"
   ]
  },
  {
   "cell_type": "code",
   "execution_count": 35,
   "id": "b8308c8c-d25a-41f9-ba3c-711fe20c2ea0",
   "metadata": {},
   "outputs": [],
   "source": [
    "b = 931//60"
   ]
  },
  {
   "cell_type": "code",
   "execution_count": 36,
   "id": "df219e69-3725-4728-954c-e0261c40adf0",
   "metadata": {},
   "outputs": [],
   "source": [
    "c = 931 - (60*15)"
   ]
  },
  {
   "cell_type": "code",
   "execution_count": 39,
   "id": "f7473283-01f1-4b7d-ae92-43366f7fca1d",
   "metadata": {},
   "outputs": [
    {
     "name": "stdout",
     "output_type": "stream",
     "text": [
      "1441 시간 15 분 31 초\n"
     ]
    }
   ],
   "source": [
    "print(a, '시간', b, '분', c, '초')"
   ]
  },
  {
   "cell_type": "markdown",
   "id": "0dba8605-aa3e-4bf0-bff2-03e71f4b9237",
   "metadata": {},
   "source": [
    "----------------------------------------------------------"
   ]
  },
  {
   "cell_type": "code",
   "execution_count": 41,
   "id": "0794b1b5-a8a0-424c-b89b-d459cc83df3e",
   "metadata": {},
   "outputs": [
    {
     "data": {
      "text/plain": [
       "181092942889747057356671886482"
      ]
     },
     "execution_count": 41,
     "metadata": {},
     "output_type": "execute_result"
    }
   ],
   "source": [
    "(2**100)//7"
   ]
  },
  {
   "cell_type": "code",
   "execution_count": 42,
   "id": "594c3010-a70d-40a8-b95b-244b8b17e66a",
   "metadata": {},
   "outputs": [
    {
     "data": {
      "text/plain": [
       "2"
      ]
     },
     "execution_count": 42,
     "metadata": {},
     "output_type": "execute_result"
    }
   ],
   "source": [
    "(2**100)%7"
   ]
  },
  {
   "cell_type": "markdown",
   "id": "f8de045a-dd67-44ca-a576-2dd63e30049b",
   "metadata": {
    "tags": []
   },
   "source": [
    "### 문자형"
   ]
  },
  {
   "cell_type": "code",
   "execution_count": 74,
   "id": "711e0005-b068-40d5-b25a-66ae0277ffaf",
   "metadata": {},
   "outputs": [
    {
     "data": {
      "text/plain": [
       "'Hello'"
      ]
     },
     "execution_count": 74,
     "metadata": {},
     "output_type": "execute_result"
    }
   ],
   "source": [
    "\"Hello\""
   ]
  },
  {
   "cell_type": "code",
   "execution_count": 75,
   "id": "fbd947ec-3486-42c7-be5e-60a3354049d8",
   "metadata": {},
   "outputs": [
    {
     "data": {
      "text/plain": [
       "'Hello'"
      ]
     },
     "execution_count": 75,
     "metadata": {},
     "output_type": "execute_result"
    }
   ],
   "source": [
    "'Hello'"
   ]
  },
  {
   "cell_type": "code",
   "execution_count": 76,
   "id": "b28ac687-6464-408f-aefc-a2475df30f5e",
   "metadata": {},
   "outputs": [
    {
     "data": {
      "text/plain": [
       "'1'"
      ]
     },
     "execution_count": 76,
     "metadata": {},
     "output_type": "execute_result"
    }
   ],
   "source": [
    "'1'"
   ]
  },
  {
   "cell_type": "code",
   "execution_count": 78,
   "id": "1af95235-94b6-44f2-b3c7-dc3ae4afcbea",
   "metadata": {},
   "outputs": [
    {
     "data": {
      "text/plain": [
       "False"
      ]
     },
     "execution_count": 78,
     "metadata": {},
     "output_type": "execute_result"
    }
   ],
   "source": [
    "1 == '1' #앞은 숫자, 뒤는 문자"
   ]
  },
  {
   "cell_type": "code",
   "execution_count": 80,
   "id": "9784b21f-f16c-4017-98c6-bf8ab9e41ad9",
   "metadata": {},
   "outputs": [],
   "source": [
    "#역슬래시 사용"
   ]
  },
  {
   "cell_type": "code",
   "execution_count": 81,
   "id": "6aa22562-ea9b-4ea3-b281-6db90d4d7bf0",
   "metadata": {},
   "outputs": [],
   "source": [
    "#이스케이프 문자는 프린트를 붙여야만 작동됨"
   ]
  },
  {
   "cell_type": "code",
   "execution_count": 86,
   "id": "01cc3873-5131-4f28-bc49-97d74bcbd002",
   "metadata": {},
   "outputs": [
    {
     "data": {
      "text/plain": [
       "'hello \\nworld'"
      ]
     },
     "execution_count": 86,
     "metadata": {},
     "output_type": "execute_result"
    }
   ],
   "source": [
    "'hello \\nworld'"
   ]
  },
  {
   "cell_type": "code",
   "execution_count": 87,
   "id": "e5f27983-d480-44d9-a6e2-97ca075d0117",
   "metadata": {},
   "outputs": [
    {
     "name": "stdout",
     "output_type": "stream",
     "text": [
      "hello \n",
      "world\n"
     ]
    }
   ],
   "source": [
    "print('hello \\nworld')"
   ]
  },
  {
   "cell_type": "code",
   "execution_count": 88,
   "id": "622daac6-bb91-4938-923e-86577ea22b06",
   "metadata": {},
   "outputs": [
    {
     "name": "stdout",
     "output_type": "stream",
     "text": [
      "감자\n",
      "토마토\n"
     ]
    }
   ],
   "source": [
    "print('''감자\n",
    "토마토''')"
   ]
  },
  {
   "cell_type": "markdown",
   "id": "47644c2a-6bf8-4c88-a5f7-65fa9e70e663",
   "metadata": {
    "tags": []
   },
   "source": [
    "#### 문자열 연산 \n",
    "- 더하기\n",
    "- 곱하기"
   ]
  },
  {
   "cell_type": "code",
   "execution_count": 5,
   "id": "c6a1e825-5f3d-4c9d-b78b-827628537daa",
   "metadata": {},
   "outputs": [],
   "source": [
    "a = 'hello'\n",
    "b = 'phyton'"
   ]
  },
  {
   "cell_type": "code",
   "execution_count": 98,
   "id": "6b02a256-ba81-4fc6-82cd-24450389ea89",
   "metadata": {},
   "outputs": [
    {
     "data": {
      "text/plain": [
       "'hellophyton'"
      ]
     },
     "execution_count": 98,
     "metadata": {},
     "output_type": "execute_result"
    }
   ],
   "source": [
    "a + b"
   ]
  },
  {
   "cell_type": "code",
   "execution_count": 99,
   "id": "f6a4a435-2860-44c9-b9d2-b12c79235cd1",
   "metadata": {},
   "outputs": [
    {
     "data": {
      "text/plain": [
       "'hellohellohello'"
      ]
     },
     "execution_count": 99,
     "metadata": {},
     "output_type": "execute_result"
    }
   ],
   "source": [
    "a * 3"
   ]
  },
  {
   "cell_type": "code",
   "execution_count": 100,
   "id": "a0735cbf-4d41-4cd4-ae5d-d508580c7a81",
   "metadata": {},
   "outputs": [
    {
     "data": {
      "text/plain": [
       "'phytonphytonphytonphyton'"
      ]
     },
     "execution_count": 100,
     "metadata": {},
     "output_type": "execute_result"
    }
   ],
   "source": [
    "b * 4"
   ]
  },
  {
   "cell_type": "code",
   "execution_count": 101,
   "id": "aa86e1ea-d4de-41e3-8460-b3d406df77e4",
   "metadata": {},
   "outputs": [
    {
     "name": "stdout",
     "output_type": "stream",
     "text": [
      "hello phyton!hello phyton!hello phyton!\n"
     ]
    }
   ],
   "source": [
    "print('hello phyton!' * 3)"
   ]
  },
  {
   "cell_type": "code",
   "execution_count": 102,
   "id": "1a654e02-9d22-4919-bf63-5d2e7d81324f",
   "metadata": {},
   "outputs": [
    {
     "data": {
      "text/plain": [
       "'hello phyton!hello phyton!hello phyton!'"
      ]
     },
     "execution_count": 102,
     "metadata": {},
     "output_type": "execute_result"
    }
   ],
   "source": [
    "'hello phyton!'*3"
   ]
  },
  {
   "cell_type": "code",
   "execution_count": 3,
   "id": "827811ec-e9f0-40a2-9c02-21b8749f179c",
   "metadata": {},
   "outputs": [],
   "source": [
    "c = 1"
   ]
  },
  {
   "cell_type": "code",
   "execution_count": 6,
   "id": "f3050e25-44b4-452a-a89e-33a31d9c8140",
   "metadata": {},
   "outputs": [
    {
     "name": "stdout",
     "output_type": "stream",
     "text": [
      "hellophyton 1\n"
     ]
    }
   ],
   "source": [
    "print (a+b, c)"
   ]
  },
  {
   "cell_type": "code",
   "execution_count": 7,
   "id": "f61fd374-7390-4c02-aa72-29ec0e3e63ac",
   "metadata": {},
   "outputs": [
    {
     "data": {
      "text/plain": [
       "'hellophyton1'"
      ]
     },
     "execution_count": 7,
     "metadata": {},
     "output_type": "execute_result"
    }
   ],
   "source": [
    "a + b + str(c)"
   ]
  },
  {
   "cell_type": "markdown",
   "id": "bdae9eb9-7366-40a4-82a3-4c223e05af8a",
   "metadata": {
    "tags": []
   },
   "source": [
    "### 인덱싱과 슬라이싱"
   ]
  },
  {
   "cell_type": "markdown",
   "id": "1943ea47-86c2-419f-877f-051ecabb9041",
   "metadata": {
    "tags": []
   },
   "source": [
    "#### 인덱싱"
   ]
  },
  {
   "cell_type": "code",
   "execution_count": 8,
   "id": "2b46e8f4-c603-41ee-86ce-64d938f5ded7",
   "metadata": {},
   "outputs": [],
   "source": [
    "t = 'Hello World!'"
   ]
  },
  {
   "cell_type": "code",
   "execution_count": 9,
   "id": "a4d4afa0-a412-4cc2-b486-127f7be3533b",
   "metadata": {},
   "outputs": [
    {
     "data": {
      "text/plain": [
       "'H'"
      ]
     },
     "execution_count": 9,
     "metadata": {},
     "output_type": "execute_result"
    }
   ],
   "source": [
    "t[0]"
   ]
  },
  {
   "cell_type": "code",
   "execution_count": 10,
   "id": "55395a24-1e76-4689-b219-18bcddcb43f0",
   "metadata": {},
   "outputs": [
    {
     "data": {
      "text/plain": [
       "12"
      ]
     },
     "execution_count": 10,
     "metadata": {},
     "output_type": "execute_result"
    }
   ],
   "source": [
    "len(t)"
   ]
  },
  {
   "cell_type": "code",
   "execution_count": 11,
   "id": "75d40c9a-e89e-4821-b344-182141976a78",
   "metadata": {},
   "outputs": [
    {
     "data": {
      "text/plain": [
       "'!'"
      ]
     },
     "execution_count": 11,
     "metadata": {},
     "output_type": "execute_result"
    }
   ],
   "source": [
    "t[11]"
   ]
  },
  {
   "cell_type": "code",
   "execution_count": 112,
   "id": "e11103d8-cb4c-4635-89e3-cd264792109a",
   "metadata": {},
   "outputs": [
    {
     "data": {
      "text/plain": [
       "'!'"
      ]
     },
     "execution_count": 112,
     "metadata": {},
     "output_type": "execute_result"
    }
   ],
   "source": [
    "t[-1]"
   ]
  },
  {
   "cell_type": "markdown",
   "id": "a9a1d7c1-7a56-4129-ad89-494ce2514097",
   "metadata": {},
   "source": [
    "##### 0 부터 시작"
   ]
  },
  {
   "cell_type": "markdown",
   "id": "37eb2310-c4e0-44aa-8283-bb70509f0267",
   "metadata": {
    "tags": []
   },
   "source": [
    "#### 슬라이싱"
   ]
  },
  {
   "cell_type": "code",
   "execution_count": 116,
   "id": "e44ac89f-f922-4be0-9519-4dff8b19ca95",
   "metadata": {},
   "outputs": [
    {
     "data": {
      "text/plain": [
       "'Hello'"
      ]
     },
     "execution_count": 116,
     "metadata": {},
     "output_type": "execute_result"
    }
   ],
   "source": [
    "t[0] + t[1] + t[2] + t[3] + t [4]"
   ]
  },
  {
   "cell_type": "code",
   "execution_count": 117,
   "id": "bb8ebfbc-e6f9-4c82-819a-ff9d311dd5bb",
   "metadata": {},
   "outputs": [
    {
     "data": {
      "text/plain": [
       "'Hello'"
      ]
     },
     "execution_count": 117,
     "metadata": {},
     "output_type": "execute_result"
    }
   ],
   "source": [
    "t[0:5] # 0부터 5-1 까지"
   ]
  },
  {
   "cell_type": "code",
   "execution_count": 119,
   "id": "06f9ea12-0ffa-432e-a45a-4cea7cb87d34",
   "metadata": {},
   "outputs": [
    {
     "data": {
      "text/plain": [
       "'Sesac!'"
      ]
     },
     "execution_count": 119,
     "metadata": {},
     "output_type": "execute_result"
    }
   ],
   "source": [
    "t[6:12]"
   ]
  },
  {
   "cell_type": "code",
   "execution_count": 120,
   "id": "4e6bf555-a584-4cb8-a53e-aa8b6667756c",
   "metadata": {},
   "outputs": [
    {
     "data": {
      "text/plain": [
       "'Sesac'"
      ]
     },
     "execution_count": 120,
     "metadata": {},
     "output_type": "execute_result"
    }
   ],
   "source": [
    "t[6:11]"
   ]
  },
  {
   "cell_type": "code",
   "execution_count": 121,
   "id": "ec2cecfc-67ee-40da-bcf7-d882ba1931d5",
   "metadata": {},
   "outputs": [
    {
     "data": {
      "text/plain": [
       "'Sesac'"
      ]
     },
     "execution_count": 121,
     "metadata": {},
     "output_type": "execute_result"
    }
   ],
   "source": [
    "t[6:-1]"
   ]
  },
  {
   "cell_type": "code",
   "execution_count": 125,
   "id": "0ee7624a-07dd-4ab7-a7c6-f1b177e14af6",
   "metadata": {},
   "outputs": [
    {
     "data": {
      "text/plain": [
       "'Sesac!'"
      ]
     },
     "execution_count": 125,
     "metadata": {},
     "output_type": "execute_result"
    }
   ],
   "source": [
    "t[6:] #t[6]부터 끝까지"
   ]
  },
  {
   "cell_type": "code",
   "execution_count": 123,
   "id": "53d83c62-af4a-493a-a20e-80ba71975afb",
   "metadata": {},
   "outputs": [
    {
     "data": {
      "text/plain": [
       "'Hello'"
      ]
     },
     "execution_count": 123,
     "metadata": {},
     "output_type": "execute_result"
    }
   ],
   "source": [
    "t[:5] #처음부터 t[4]까지"
   ]
  },
  {
   "cell_type": "code",
   "execution_count": 124,
   "id": "bc5df40a-c94b-4a6f-bd5d-398114059dfd",
   "metadata": {},
   "outputs": [
    {
     "data": {
      "text/plain": [
       "'Hello Sesac!'"
      ]
     },
     "execution_count": 124,
     "metadata": {},
     "output_type": "execute_result"
    }
   ],
   "source": [
    "t[:]"
   ]
  },
  {
   "cell_type": "code",
   "execution_count": 126,
   "id": "a188e979-b5dd-487c-9c5b-99e157bdff0f",
   "metadata": {},
   "outputs": [
    {
     "data": {
      "text/plain": [
       "'Sesac'"
      ]
     },
     "execution_count": 126,
     "metadata": {},
     "output_type": "execute_result"
    }
   ],
   "source": [
    "t[-6:-1]"
   ]
  },
  {
   "cell_type": "markdown",
   "id": "3af3389f-da75-4c81-b743-36453256d6d0",
   "metadata": {
    "tags": []
   },
   "source": [
    "### 문자열 관련 함수"
   ]
  },
  {
   "cell_type": "markdown",
   "id": "96e9060d-dacd-42f5-8c57-921361cddae2",
   "metadata": {
    "tags": []
   },
   "source": [
    "##### count"
   ]
  },
  {
   "cell_type": "code",
   "execution_count": 127,
   "id": "fadb1ce9-d2e7-472c-9279-11584f30943a",
   "metadata": {},
   "outputs": [],
   "source": [
    "name = 'KIM LEE CHOI PARK LEE LEE'"
   ]
  },
  {
   "cell_type": "code",
   "execution_count": 128,
   "id": "f0b41882-7c86-4f83-9921-beb99a392b9d",
   "metadata": {},
   "outputs": [
    {
     "data": {
      "text/plain": [
       "3"
      ]
     },
     "execution_count": 128,
     "metadata": {},
     "output_type": "execute_result"
    }
   ],
   "source": [
    "name.count('LEE')"
   ]
  },
  {
   "cell_type": "code",
   "execution_count": 131,
   "id": "eed6bb2e-60a0-4eb8-a22f-c8e24ee6b9c8",
   "metadata": {},
   "outputs": [
    {
     "data": {
      "text/plain": [
       "0"
      ]
     },
     "execution_count": 131,
     "metadata": {},
     "output_type": "execute_result"
    }
   ],
   "source": [
    "name.count('lee') #대소문자 구별 필수"
   ]
  },
  {
   "cell_type": "code",
   "execution_count": 132,
   "id": "53ffe414-f15d-420e-9816-11ac1ecdb997",
   "metadata": {},
   "outputs": [
    {
     "data": {
      "text/plain": [
       "6"
      ]
     },
     "execution_count": 132,
     "metadata": {},
     "output_type": "execute_result"
    }
   ],
   "source": [
    "name.count('E')"
   ]
  },
  {
   "cell_type": "markdown",
   "id": "de46763f-8dd7-43aa-a0f5-7f6c36c377df",
   "metadata": {
    "tags": []
   },
   "source": [
    "##### find"
   ]
  },
  {
   "cell_type": "code",
   "execution_count": 134,
   "id": "d8d12806-c98c-4e1f-8eea-dd8422d64ce9",
   "metadata": {},
   "outputs": [
    {
     "data": {
      "text/plain": [
       "4"
      ]
     },
     "execution_count": 134,
     "metadata": {},
     "output_type": "execute_result"
    }
   ],
   "source": [
    "name.find('LEE') #첫번째 lee 값이 어떤 글자에서부터 시작하는지"
   ]
  },
  {
   "cell_type": "code",
   "execution_count": 136,
   "id": "797c1e6b-06d9-4ab3-bc25-4493359a68ba",
   "metadata": {},
   "outputs": [
    {
     "data": {
      "text/plain": [
       "-1"
      ]
     },
     "execution_count": 136,
     "metadata": {},
     "output_type": "execute_result"
    }
   ],
   "source": [
    "name.find('KWON') #-1 값은 내가 찾는 값이 없다는 뜻"
   ]
  },
  {
   "cell_type": "code",
   "execution_count": 137,
   "id": "95a9f9b1-f06a-4a66-bbe4-b599571869af",
   "metadata": {},
   "outputs": [
    {
     "data": {
      "text/plain": [
       "0"
      ]
     },
     "execution_count": 137,
     "metadata": {},
     "output_type": "execute_result"
    }
   ],
   "source": [
    "name.find('KIM')"
   ]
  },
  {
   "cell_type": "code",
   "execution_count": 139,
   "id": "b29f602e-9c58-417a-b451-e7b869e747ce",
   "metadata": {},
   "outputs": [
    {
     "data": {
      "text/plain": [
       "'LEE'"
      ]
     },
     "execution_count": 139,
     "metadata": {},
     "output_type": "execute_result"
    }
   ],
   "source": [
    "name[4:7] #4번째 글자 : 4+찾는 문자열 수"
   ]
  },
  {
   "cell_type": "markdown",
   "id": "e7888d8b-296e-4c44-8f9a-06e2018da554",
   "metadata": {
    "tags": []
   },
   "source": [
    "##### index"
   ]
  },
  {
   "cell_type": "code",
   "execution_count": 140,
   "id": "4c446e9e-91c9-4380-ac23-fff4523b99b8",
   "metadata": {},
   "outputs": [
    {
     "data": {
      "text/plain": [
       "4"
      ]
     },
     "execution_count": 140,
     "metadata": {},
     "output_type": "execute_result"
    }
   ],
   "source": [
    "name.index('LEE')"
   ]
  },
  {
   "cell_type": "code",
   "execution_count": 141,
   "id": "f2e5bb0f-9c4a-4b04-95c5-51d61fc53a12",
   "metadata": {},
   "outputs": [
    {
     "ename": "ValueError",
     "evalue": "substring not found",
     "output_type": "error",
     "traceback": [
      "\u001b[1;31m---------------------------------------------------------------------------\u001b[0m",
      "\u001b[1;31mValueError\u001b[0m                                Traceback (most recent call last)",
      "Input \u001b[1;32mIn [141]\u001b[0m, in \u001b[0;36m<cell line: 1>\u001b[1;34m()\u001b[0m\n\u001b[1;32m----> 1\u001b[0m \u001b[43mname\u001b[49m\u001b[38;5;241;43m.\u001b[39;49m\u001b[43mindex\u001b[49m\u001b[43m(\u001b[49m\u001b[38;5;124;43m'\u001b[39;49m\u001b[38;5;124;43mKWON\u001b[39;49m\u001b[38;5;124;43m'\u001b[39;49m\u001b[43m)\u001b[49m\n",
      "\u001b[1;31mValueError\u001b[0m: substring not found"
     ]
    }
   ],
   "source": [
    "name.index('KWON')"
   ]
  },
  {
   "cell_type": "markdown",
   "id": "277c7cdc-4f2f-4084-b380-ce38a582da40",
   "metadata": {},
   "source": [
    "find와 index의 차이. 기능적으로는 똑같지만 값이 없을 때 차이가 존재."
   ]
  },
  {
   "cell_type": "markdown",
   "id": "e67ca1e4-181e-4442-b4f6-d4c7f308ab6e",
   "metadata": {
    "tags": []
   },
   "source": [
    "##### join"
   ]
  },
  {
   "cell_type": "code",
   "execution_count": 142,
   "id": "eba9ca30-332c-4468-9927-faa4271950d4",
   "metadata": {},
   "outputs": [
    {
     "data": {
      "text/plain": [
       "'1-2-3-4-5'"
      ]
     },
     "execution_count": 142,
     "metadata": {},
     "output_type": "execute_result"
    }
   ],
   "source": [
    "'-'.join('12345')"
   ]
  },
  {
   "cell_type": "markdown",
   "id": "31736012-8d3f-4619-9e26-1b00ea582e69",
   "metadata": {},
   "source": [
    "문자열 사이에 -를 추가하는 함수."
   ]
  },
  {
   "cell_type": "code",
   "execution_count": 143,
   "id": "4c99ab58-2c4e-4fe5-9f85-f2a1e81984b9",
   "metadata": {},
   "outputs": [
    {
     "data": {
      "text/plain": [
       "'1hi2hi3hi4hi5'"
      ]
     },
     "execution_count": 143,
     "metadata": {},
     "output_type": "execute_result"
    }
   ],
   "source": [
    "'hi'.join('12345')"
   ]
  },
  {
   "cell_type": "markdown",
   "id": "3b7c0cc3-e900-4678-9cf7-8e3b51a15c13",
   "metadata": {
    "tags": []
   },
   "source": [
    "##### upper / lower"
   ]
  },
  {
   "cell_type": "code",
   "execution_count": 149,
   "id": "4926fac8-57eb-403b-8e1d-828623dfb3df",
   "metadata": {},
   "outputs": [],
   "source": [
    "msg = 'This Is My Phone'"
   ]
  },
  {
   "cell_type": "code",
   "execution_count": 150,
   "id": "57c85a67-2a2b-428f-8f93-8780801a7551",
   "metadata": {},
   "outputs": [
    {
     "data": {
      "text/plain": [
       "-1"
      ]
     },
     "execution_count": 150,
     "metadata": {},
     "output_type": "execute_result"
    }
   ],
   "source": [
    "msg.find('phone')"
   ]
  },
  {
   "cell_type": "code",
   "execution_count": 146,
   "id": "886a80bd-06dd-4934-a4a3-b817875c60a3",
   "metadata": {},
   "outputs": [
    {
     "data": {
      "text/plain": [
       "'THIS IS MY PHONE'"
      ]
     },
     "execution_count": 146,
     "metadata": {},
     "output_type": "execute_result"
    }
   ],
   "source": [
    "msg.upper()"
   ]
  },
  {
   "cell_type": "code",
   "execution_count": 147,
   "id": "1c0da37b-9804-4308-bde8-cf0dd684e8e0",
   "metadata": {},
   "outputs": [
    {
     "data": {
      "text/plain": [
       "'this is my phone'"
      ]
     },
     "execution_count": 147,
     "metadata": {},
     "output_type": "execute_result"
    }
   ],
   "source": [
    "msg.lower()"
   ]
  },
  {
   "cell_type": "code",
   "execution_count": 153,
   "id": "a935a193-4f0d-4893-b62c-db939c6ea055",
   "metadata": {},
   "outputs": [
    {
     "data": {
      "text/plain": [
       "11"
      ]
     },
     "execution_count": 153,
     "metadata": {},
     "output_type": "execute_result"
    }
   ],
   "source": [
    "msg.lower().find('phone')"
   ]
  },
  {
   "cell_type": "markdown",
   "id": "22a69840-ebe4-4195-90fb-f90f3bd6661b",
   "metadata": {
    "tags": []
   },
   "source": [
    "##### strip (사용할 확률 높음!)"
   ]
  },
  {
   "cell_type": "markdown",
   "id": "fc8f1f28-4302-4e16-be9a-10c5a5d6e164",
   "metadata": {},
   "source": [
    "- strip\n",
    "- lstrip\n",
    "- rstrip"
   ]
  },
  {
   "cell_type": "code",
   "execution_count": 154,
   "id": "e7933d83-71a3-4f82-93f7-56a5acd6a7b9",
   "metadata": {},
   "outputs": [],
   "source": [
    "msg = '           This Is My Phone         '       "
   ]
  },
  {
   "cell_type": "code",
   "execution_count": 158,
   "id": "3d6b958a-0281-4098-8d03-e40749f28c8a",
   "metadata": {},
   "outputs": [
    {
     "data": {
      "text/plain": [
       "'This Is My Phone'"
      ]
     },
     "execution_count": 158,
     "metadata": {},
     "output_type": "execute_result"
    }
   ],
   "source": [
    "msg.strip() #해당 값이 변수에 저장되지는 않음."
   ]
  },
  {
   "cell_type": "code",
   "execution_count": 159,
   "id": "f361bdb2-a23d-462d-9a78-2ab59ae2a136",
   "metadata": {},
   "outputs": [
    {
     "data": {
      "text/plain": [
       "'This Is My Phone         '"
      ]
     },
     "execution_count": 159,
     "metadata": {},
     "output_type": "execute_result"
    }
   ],
   "source": [
    "msg.lstrip()"
   ]
  },
  {
   "cell_type": "code",
   "execution_count": 160,
   "id": "561e9d0f-6ff4-453a-8653-bfd1484d7abb",
   "metadata": {},
   "outputs": [
    {
     "data": {
      "text/plain": [
       "'           This Is My Phone'"
      ]
     },
     "execution_count": 160,
     "metadata": {},
     "output_type": "execute_result"
    }
   ],
   "source": [
    "msg.rstrip()"
   ]
  },
  {
   "cell_type": "code",
   "execution_count": 161,
   "id": "0ddcf9e2-9621-4130-af7d-c8c3ad1d2954",
   "metadata": {},
   "outputs": [
    {
     "data": {
      "text/plain": [
       "'This Is My Phone'"
      ]
     },
     "execution_count": 161,
     "metadata": {},
     "output_type": "execute_result"
    }
   ],
   "source": [
    "msg.strip()"
   ]
  },
  {
   "cell_type": "code",
   "execution_count": 162,
   "id": "2b7b4ef2-98ff-485b-8043-aae5fc5acddc",
   "metadata": {},
   "outputs": [],
   "source": [
    "msg = msg.strip()"
   ]
  },
  {
   "cell_type": "code",
   "execution_count": 164,
   "id": "d9e667cd-591b-43ca-9c2a-da1e67915e7d",
   "metadata": {},
   "outputs": [
    {
     "name": "stdout",
     "output_type": "stream",
     "text": [
      "This Is My Phone\n"
     ]
    }
   ],
   "source": [
    "print(msg)"
   ]
  },
  {
   "cell_type": "markdown",
   "id": "5196df38-9888-4ec5-84cb-5d94fa0b65b3",
   "metadata": {},
   "source": [
    "하단에 출력이 되는 경우 원본에 영향 안 줄 확률이 높다."
   ]
  },
  {
   "cell_type": "markdown",
   "id": "b7091da5-8447-45dc-a404-b21beb8a0ec3",
   "metadata": {
    "tags": []
   },
   "source": [
    "##### replace"
   ]
  },
  {
   "cell_type": "code",
   "execution_count": 165,
   "id": "f421409c-dd82-4686-a659-7bc656b397d6",
   "metadata": {},
   "outputs": [
    {
     "data": {
      "text/plain": [
       "'This Is My Phone'"
      ]
     },
     "execution_count": 165,
     "metadata": {},
     "output_type": "execute_result"
    }
   ],
   "source": [
    "msg"
   ]
  },
  {
   "cell_type": "code",
   "execution_count": 169,
   "id": "d787300a-2a93-44c7-8e55-87c45b8a9175",
   "metadata": {},
   "outputs": [
    {
     "ename": "SyntaxError",
     "evalue": "EOL while scanning string literal (2640050753.py, line 1)",
     "output_type": "error",
     "traceback": [
      "\u001b[1;36m  Input \u001b[1;32mIn [169]\u001b[1;36m\u001b[0m\n\u001b[1;33m    msg.replace('my', 'your) #대소문자를 확인해야 함\u001b[0m\n\u001b[1;37m                                          ^\u001b[0m\n\u001b[1;31mSyntaxError\u001b[0m\u001b[1;31m:\u001b[0m EOL while scanning string literal\n"
     ]
    }
   ],
   "source": [
    "msg.replace('my', 'your)"
   ]
  },
  {
   "cell_type": "code",
   "execution_count": 170,
   "id": "7c0449ae-195f-4f08-bf51-7365cdaa15fd",
   "metadata": {},
   "outputs": [
    {
     "data": {
      "text/plain": [
       "'this is your phone'"
      ]
     },
     "execution_count": 170,
     "metadata": {},
     "output_type": "execute_result"
    }
   ],
   "source": [
    "msg.lower().replace('my','your')"
   ]
  },
  {
   "cell_type": "markdown",
   "id": "720cce13-2c15-4f8e-af4f-84ba135db525",
   "metadata": {},
   "source": [
    "그 안에 있는 문자열을 다 바꾸어 준다"
   ]
  },
  {
   "cell_type": "code",
   "execution_count": 168,
   "id": "69d752c9-81ea-41c9-b5cf-c23f5f06b8a0",
   "metadata": {},
   "outputs": [
    {
     "data": {
      "text/plain": [
       "'ThisIsMyPhone'"
      ]
     },
     "execution_count": 168,
     "metadata": {},
     "output_type": "execute_result"
    }
   ],
   "source": [
    "msg.replace(' ','') #공백도 문자열로 포함됨"
   ]
  },
  {
   "cell_type": "code",
   "execution_count": 171,
   "id": "2c197f29-99d6-47f4-a8f2-a797553f5f21",
   "metadata": {},
   "outputs": [
    {
     "data": {
      "text/plain": [
       "' T h i s   I s   M y   P h o n e '"
      ]
     },
     "execution_count": 171,
     "metadata": {},
     "output_type": "execute_result"
    }
   ],
   "source": [
    "msg.replace('',' ') #join과 동일한 효과"
   ]
  },
  {
   "cell_type": "markdown",
   "id": "b1248489-feb2-4ca1-8c2d-1d0e5e16287e",
   "metadata": {
    "tags": []
   },
   "source": [
    "##### split (자연어 처리, 띄어쓰기 기준으로 나누기 자주 함!)"
   ]
  },
  {
   "cell_type": "code",
   "execution_count": 172,
   "id": "96db5401-e29b-4ca9-8192-0f26649e6b43",
   "metadata": {},
   "outputs": [
    {
     "data": {
      "text/plain": [
       "'This Is My Phone'"
      ]
     },
     "execution_count": 172,
     "metadata": {},
     "output_type": "execute_result"
    }
   ],
   "source": [
    "msg"
   ]
  },
  {
   "cell_type": "code",
   "execution_count": 173,
   "id": "b240f797-d5c3-4979-9b67-9dd87161cde8",
   "metadata": {},
   "outputs": [
    {
     "data": {
      "text/plain": [
       "['This', 'Is', 'My', 'Phone']"
      ]
     },
     "execution_count": 173,
     "metadata": {},
     "output_type": "execute_result"
    }
   ],
   "source": [
    "msg.split(' ')"
   ]
  },
  {
   "cell_type": "code",
   "execution_count": 175,
   "id": "89f44b74-b771-4b65-8c9b-afc8a02683cd",
   "metadata": {},
   "outputs": [
    {
     "data": {
      "text/plain": [
       "['010', '0000', '1234']"
      ]
     },
     "execution_count": 175,
     "metadata": {},
     "output_type": "execute_result"
    }
   ],
   "source": [
    "'010-0000-1234'.split('-')"
   ]
  },
  {
   "cell_type": "code",
   "execution_count": 177,
   "id": "698eb042-f859-42ca-b482-ae2818feb686",
   "metadata": {},
   "outputs": [
    {
     "data": {
      "text/plain": [
       "'1234'"
      ]
     },
     "execution_count": 177,
     "metadata": {},
     "output_type": "execute_result"
    }
   ],
   "source": [
    "'010-0000-1234'.split('-')[2] #인덱싱 기능 사용 가능"
   ]
  },
  {
   "cell_type": "markdown",
   "id": "3c8d9031-0a49-4842-b30e-6d9534e6b534",
   "metadata": {
    "tags": []
   },
   "source": [
    "#### quiz\n",
    "\n",
    "1. 900101-1234567인 주민등록번호에서 성별을 나타내는 숫자만 인덱싱하세요.\n",
    "2. 900101-1234567인 주민등록번호에서 사람의 나이를 구하세요.\n",
    "3. 900101-1234567인 주민등록번호에서 (-) 뒤의 숫자 전체를 슬라이싱하세요."
   ]
  },
  {
   "cell_type": "code",
   "execution_count": 197,
   "id": "5dcc2d16-ed8d-4bab-b9cb-9bb7c7e470b3",
   "metadata": {},
   "outputs": [],
   "source": [
    "a = '900101-1234567'"
   ]
  },
  {
   "cell_type": "code",
   "execution_count": 179,
   "id": "2607e107-6c5a-4a2c-ab7a-7646c3de2fcf",
   "metadata": {},
   "outputs": [
    {
     "data": {
      "text/plain": [
       "14"
      ]
     },
     "execution_count": 179,
     "metadata": {},
     "output_type": "execute_result"
    }
   ],
   "source": [
    "len(a)"
   ]
  },
  {
   "cell_type": "code",
   "execution_count": 199,
   "id": "572a125c-9169-4b6b-921b-17ccf01bf483",
   "metadata": {},
   "outputs": [
    {
     "data": {
      "text/plain": [
       "'1'"
      ]
     },
     "execution_count": 199,
     "metadata": {},
     "output_type": "execute_result"
    }
   ],
   "source": [
    "a[7]"
   ]
  },
  {
   "cell_type": "code",
   "execution_count": 198,
   "id": "979713e0-39c9-4738-af87-bf99866fde3f",
   "metadata": {},
   "outputs": [
    {
     "data": {
      "text/plain": [
       "'1'"
      ]
     },
     "execution_count": 198,
     "metadata": {},
     "output_type": "execute_result"
    }
   ],
   "source": [
    "a[a.find('-')+1] # 이쪽은 변하지 않는 값이 됨"
   ]
  },
  {
   "cell_type": "markdown",
   "id": "8faf4ea7-5ef6-4dca-960d-3a3efa2aff1a",
   "metadata": {},
   "source": [
    "----------------------------------------------------"
   ]
  },
  {
   "cell_type": "code",
   "execution_count": 185,
   "id": "88421f7f-b402-48b6-9cde-6c5ee81be611",
   "metadata": {},
   "outputs": [],
   "source": [
    "b = '19' + (a[0:2])"
   ]
  },
  {
   "cell_type": "code",
   "execution_count": 186,
   "id": "98cf4f02-3d59-4650-bbab-c803c8311d16",
   "metadata": {},
   "outputs": [
    {
     "data": {
      "text/plain": [
       "'1990'"
      ]
     },
     "execution_count": 186,
     "metadata": {},
     "output_type": "execute_result"
    }
   ],
   "source": [
    "b"
   ]
  },
  {
   "cell_type": "code",
   "execution_count": 188,
   "id": "5cb2f532-8b9f-465a-b378-fcac5260121a",
   "metadata": {},
   "outputs": [
    {
     "data": {
      "text/plain": [
       "33"
      ]
     },
     "execution_count": 188,
     "metadata": {},
     "output_type": "execute_result"
    }
   ],
   "source": [
    "2022 - int(b) + 1"
   ]
  },
  {
   "cell_type": "code",
   "execution_count": 201,
   "id": "992b741e-409d-4179-9f5b-5f00a546349d",
   "metadata": {},
   "outputs": [
    {
     "data": {
      "text/plain": [
       "33"
      ]
     },
     "execution_count": 201,
     "metadata": {},
     "output_type": "execute_result"
    }
   ],
   "source": [
    "2022 - int('19' + (a[0:2])) + 1"
   ]
  },
  {
   "cell_type": "code",
   "execution_count": 192,
   "id": "b9ed49d2-41fd-4f23-a10a-c507385b77b6",
   "metadata": {},
   "outputs": [],
   "source": [
    "# 여기서 나이를 바꿔도 적용 가능한 코드를 만드려면? > if 구문을 사용하면 됨"
   ]
  },
  {
   "cell_type": "markdown",
   "id": "abd55b21-3fad-4b47-9e10-4135e797897b",
   "metadata": {},
   "source": [
    "7번째 숫자가 3,4 일때 -> 첫 주민번호 년도에 2000을 더함 (2000년대생)"
   ]
  },
  {
   "cell_type": "markdown",
   "id": "02a294b0-1409-44b2-a477-cfec4faa9900",
   "metadata": {},
   "source": [
    "----------------------------------------------"
   ]
  },
  {
   "cell_type": "code",
   "execution_count": 189,
   "id": "221ffc0c-0811-4291-9279-8ef5e23416e2",
   "metadata": {},
   "outputs": [
    {
     "data": {
      "text/plain": [
       "'1234567'"
      ]
     },
     "execution_count": 189,
     "metadata": {},
     "output_type": "execute_result"
    }
   ],
   "source": [
    "a[7:]"
   ]
  },
  {
   "cell_type": "code",
   "execution_count": 210,
   "id": "94afa9b1-e5c0-4487-a0ab-1ef379d3bea8",
   "metadata": {},
   "outputs": [],
   "source": [
    "# split 함수를 '-' 기준으로 지정해 사용"
   ]
  },
  {
   "cell_type": "markdown",
   "id": "b2e75e0a-21db-40b3-846c-2a9f7d1f0a5e",
   "metadata": {
    "jp-MarkdownHeadingCollapsed": true,
    "tags": []
   },
   "source": [
    "### bool"
   ]
  },
  {
   "cell_type": "code",
   "execution_count": 211,
   "id": "591792b9-e0d4-4bc8-ada4-d07873ff1386",
   "metadata": {},
   "outputs": [
    {
     "data": {
      "text/plain": [
       "True"
      ]
     },
     "execution_count": 211,
     "metadata": {},
     "output_type": "execute_result"
    }
   ],
   "source": [
    "True"
   ]
  },
  {
   "cell_type": "code",
   "execution_count": 212,
   "id": "e39f0628-6208-47f6-a833-da2578f12e43",
   "metadata": {},
   "outputs": [
    {
     "data": {
      "text/plain": [
       "False"
      ]
     },
     "execution_count": 212,
     "metadata": {},
     "output_type": "execute_result"
    }
   ],
   "source": [
    "False"
   ]
  },
  {
   "cell_type": "code",
   "execution_count": 213,
   "id": "cf08c708-7052-49cd-92ba-9d74c33f5fc4",
   "metadata": {},
   "outputs": [
    {
     "data": {
      "text/plain": [
       "bool"
      ]
     },
     "execution_count": 213,
     "metadata": {},
     "output_type": "execute_result"
    }
   ],
   "source": [
    "type(True)"
   ]
  },
  {
   "cell_type": "code",
   "execution_count": 214,
   "id": "3c220e57-febd-404e-93dc-969985f7911f",
   "metadata": {},
   "outputs": [
    {
     "data": {
      "text/plain": [
       "1"
      ]
     },
     "execution_count": 214,
     "metadata": {},
     "output_type": "execute_result"
    }
   ],
   "source": [
    "int(True)"
   ]
  },
  {
   "cell_type": "code",
   "execution_count": 215,
   "id": "6fc9c9d7-25cd-4cfa-87bb-3e753a980980",
   "metadata": {},
   "outputs": [
    {
     "data": {
      "text/plain": [
       "True"
      ]
     },
     "execution_count": 215,
     "metadata": {},
     "output_type": "execute_result"
    }
   ],
   "source": [
    "bool('abc')"
   ]
  },
  {
   "cell_type": "code",
   "execution_count": 216,
   "id": "ca765d9a-3111-4855-a487-2f543b17be81",
   "metadata": {},
   "outputs": [],
   "source": [
    "# 값이 0이면 false, 뭐라도 있으면 true"
   ]
  },
  {
   "cell_type": "code",
   "execution_count": 221,
   "id": "37ea231c-38a4-461c-b33f-2d4a575ba63b",
   "metadata": {},
   "outputs": [
    {
     "name": "stdout",
     "output_type": "stream",
     "text": [
      "fail\n"
     ]
    }
   ],
   "source": [
    "a = 0\n",
    "\n",
    "if a :\n",
    "    print(a)\n",
    "    \n",
    "else:\n",
    "    print('fail')"
   ]
  },
  {
   "cell_type": "code",
   "execution_count": 222,
   "id": "23bddc2c-53d2-4029-b28f-073811e6586a",
   "metadata": {},
   "outputs": [
    {
     "name": "stdout",
     "output_type": "stream",
     "text": [
      "0\n"
     ]
    }
   ],
   "source": [
    "a = '0' # 문자열과 숫자 데이터는 다름\n",
    "\n",
    "if a :\n",
    "    print(a)\n",
    "    \n",
    "else:\n",
    "    print('fail')"
   ]
  },
  {
   "cell_type": "code",
   "execution_count": 223,
   "id": "644bd684-caa7-4e5d-a24d-042c03d43755",
   "metadata": {},
   "outputs": [
    {
     "data": {
      "text/plain": [
       "True"
      ]
     },
     "execution_count": 223,
     "metadata": {},
     "output_type": "execute_result"
    }
   ],
   "source": [
    "1 == 1"
   ]
  },
  {
   "cell_type": "code",
   "execution_count": 224,
   "id": "335cf673-c2e3-49ba-86af-ab630ae6398b",
   "metadata": {},
   "outputs": [
    {
     "data": {
      "text/plain": [
       "False"
      ]
     },
     "execution_count": 224,
     "metadata": {},
     "output_type": "execute_result"
    }
   ],
   "source": [
    "1 == 2"
   ]
  },
  {
   "cell_type": "code",
   "execution_count": 225,
   "id": "9652d775-a2a0-4454-a089-03c8269539dd",
   "metadata": {},
   "outputs": [
    {
     "data": {
      "text/plain": [
       "False"
      ]
     },
     "execution_count": 225,
     "metadata": {},
     "output_type": "execute_result"
    }
   ],
   "source": [
    "1 == '1'"
   ]
  },
  {
   "cell_type": "code",
   "execution_count": 226,
   "id": "ef77c5bc-69a6-4dea-929e-6d17c588f11b",
   "metadata": {},
   "outputs": [
    {
     "data": {
      "text/plain": [
       "False"
      ]
     },
     "execution_count": 226,
     "metadata": {},
     "output_type": "execute_result"
    }
   ],
   "source": [
    "1 > 2"
   ]
  },
  {
   "cell_type": "code",
   "execution_count": 227,
   "id": "559c875d-f16a-44ba-b7ab-56a6efe615ba",
   "metadata": {},
   "outputs": [
    {
     "data": {
      "text/plain": [
       "True"
      ]
     },
     "execution_count": 227,
     "metadata": {},
     "output_type": "execute_result"
    }
   ],
   "source": [
    "1 < 2"
   ]
  },
  {
   "cell_type": "code",
   "execution_count": 228,
   "id": "d5d3d893-c91e-491d-86a7-cfe7215ebaa9",
   "metadata": {},
   "outputs": [
    {
     "data": {
      "text/plain": [
       "False"
      ]
     },
     "execution_count": 228,
     "metadata": {},
     "output_type": "execute_result"
    }
   ],
   "source": [
    "'a' > 'b' # 아스키코드 "
   ]
  },
  {
   "cell_type": "code",
   "execution_count": 229,
   "id": "34dedd17-c16a-4ca0-a51e-a08c715ee83d",
   "metadata": {},
   "outputs": [
    {
     "data": {
      "text/plain": [
       "True"
      ]
     },
     "execution_count": 229,
     "metadata": {},
     "output_type": "execute_result"
    }
   ],
   "source": [
    "'a' < 'b'"
   ]
  },
  {
   "cell_type": "code",
   "execution_count": 231,
   "id": "926495a0-643c-4ac0-8729-3818da9e094a",
   "metadata": {},
   "outputs": [
    {
     "data": {
      "text/plain": [
       "True"
      ]
     },
     "execution_count": 231,
     "metadata": {},
     "output_type": "execute_result"
    }
   ],
   "source": [
    "'a' > 'A'"
   ]
  },
  {
   "cell_type": "code",
   "execution_count": 232,
   "id": "a7a921eb-0fab-49c3-ada2-61a3f05d6729",
   "metadata": {},
   "outputs": [
    {
     "data": {
      "text/plain": [
       "True"
      ]
     },
     "execution_count": 232,
     "metadata": {},
     "output_type": "execute_result"
    }
   ],
   "source": [
    "'apple' < 'banana' # 제일 첫 자만 반영된다"
   ]
  },
  {
   "cell_type": "code",
   "execution_count": 234,
   "id": "13b13055-10df-4562-8e88-58264c00ff73",
   "metadata": {},
   "outputs": [
    {
     "data": {
      "text/plain": [
       "True"
      ]
     },
     "execution_count": 234,
     "metadata": {},
     "output_type": "execute_result"
    }
   ],
   "source": [
    "'appl' < 'appm' # 글자가 동일할 시 다음 글자를 비교함 l과 m"
   ]
  },
  {
   "cell_type": "code",
   "execution_count": 235,
   "id": "dc127fc7-48d8-44de-aaaf-760e284dda9c",
   "metadata": {},
   "outputs": [
    {
     "data": {
      "text/plain": [
       "True"
      ]
     },
     "execution_count": 235,
     "metadata": {},
     "output_type": "execute_result"
    }
   ],
   "source": [
    "'가' < '나' # 유니코드표"
   ]
  }
 ],
 "metadata": {
  "kernelspec": {
   "display_name": "Python 3 (ipykernel)",
   "language": "python",
   "name": "python3"
  },
  "language_info": {
   "codemirror_mode": {
    "name": "ipython",
    "version": 3
   },
   "file_extension": ".py",
   "mimetype": "text/x-python",
   "name": "python",
   "nbconvert_exporter": "python",
   "pygments_lexer": "ipython3",
   "version": "3.9.12"
  }
 },
 "nbformat": 4,
 "nbformat_minor": 5
}
